{
 "cells": [
  {
   "cell_type": "markdown",
   "metadata": {},
   "source": [
    "# HW1 1631036007 JooSeong-Heo"
   ]
  },
  {
   "cell_type": "markdown",
   "metadata": {},
   "source": [
    "---"
   ]
  },
  {
   "cell_type": "code",
   "execution_count": 148,
   "metadata": {
    "collapsed": true
   },
   "outputs": [],
   "source": [
    "import numpy as np\n",
    "import math\n",
    "import random\n",
    "import matplotlib.pyplot as plt\n",
    "import scipy.cluster"
   ]
  },
  {
   "cell_type": "code",
   "execution_count": 149,
   "metadata": {
    "collapsed": true
   },
   "outputs": [],
   "source": [
    "c1_x = 5\n",
    "c1_y = 10\n",
    "c2_x = 14\n",
    "c2_y = 12\n",
    "c3_x = 10\n",
    "c3_y = 6"
   ]
  },
  {
   "cell_type": "code",
   "execution_count": 150,
   "metadata": {
    "collapsed": false
   },
   "outputs": [
    {
     "name": "stdout",
     "output_type": "stream",
     "text": [
      "1500\n"
     ]
    }
   ],
   "source": [
    "original_centroids = np.array([[c1_x, c2_x, c3_x], [c1_y, c2_y, c3_y]])\n",
    "points_In_class = [1500,1500,1500]\n",
    "print points_In_class[2]"
   ]
  },
  {
   "cell_type": "code",
   "execution_count": 151,
   "metadata": {
    "collapsed": true
   },
   "outputs": [],
   "source": [
    "x1=[]\n",
    "y1=[]\n",
    "x2=[]\n",
    "y2=[]\n",
    "x3=[]\n",
    "y3=[]"
   ]
  },
  {
   "cell_type": "code",
   "execution_count": 152,
   "metadata": {
    "collapsed": false
   },
   "outputs": [],
   "source": [
    "for i in range(points_In_class[0]):\n",
    "    x1.append(1.5 * random.random() + c1_x)\n",
    "    y1.append(0.5 * random.random() + c1_y)\n",
    "              \n",
    "for i in range(points_In_class[1]):\n",
    "    x2.append(0.5 * random.random() + c2_x)\n",
    "    y2.append(1.5 * random.random() + c2_y)\n",
    "              \n",
    "for i in range(points_In_class[2]):\n",
    "    x3.append(1.0 * random.random() + c3_x)\n",
    "    y3.append(1.0 * random.random() + c3_y)"
   ]
  },
  {
   "cell_type": "code",
   "execution_count": 153,
   "metadata": {
    "collapsed": false
   },
   "outputs": [],
   "source": [
    "x_noise = []\n",
    "y_noise = []\n",
    "for i in range(1000):\n",
    "    x_noise.append(20*random.random())\n",
    "    y_noise.append(20*random.random())"
   ]
  },
  {
   "cell_type": "code",
   "execution_count": 154,
   "metadata": {
    "collapsed": true
   },
   "outputs": [],
   "source": [
    "%matplotlib inline"
   ]
  },
  {
   "cell_type": "code",
   "execution_count": 155,
   "metadata": {
    "collapsed": false
   },
   "outputs": [
    {
     "data": {
      "text/plain": [
       "[<matplotlib.lines.Line2D at 0x10c7f3850>]"
      ]
     },
     "execution_count": 155,
     "metadata": {},
     "output_type": "execute_result"
    },
    {
     "data": {
      "image/png": "[encoded data removed]",
      "text/plain": [
       "<matplotlib.figure.Figure at 0x10c384750>"
      ]
     },
     "metadata": {},
     "output_type": "display_data"
    }
   ],
   "source": [
    "#plt.xlim(0,20)\n",
    "#plt.ylim(0,20)\n",
    "plt.grid('on')\n",
    "plt.plot(x1,y1,'r.',ms=1)\n",
    "plt.plot(x2,y2,'g.',ms=1)\n",
    "plt.plot(x3,y3,'b.',ms=1)\n",
    "plt.plot(x_noise,y_noise,'k.',ms=3)"
   ]
  },
  {
   "cell_type": "code",
   "execution_count": 185,
   "metadata": {
    "collapsed": true
   },
   "outputs": [],
   "source": [
    "q_list = [1,2,3,4, 15]\n",
    "\n",
    "\n",
    "c1_1 = np.array([c1_x, c1_y])\n",
    "c1_2 = np.array([x1,y1])\n",
    "\n",
    "\n",
    "c2_1 = np.array([c2_x,c2_y])\n",
    "c2_2 = np.array([x2,y2])\n",
    "\n",
    "c3_1 = np.array([c3_x,c3_y])\n",
    "c3_2 = np.array([x3,y3])\n",
    "\n",
    "c1_within_dist_mean = []\n",
    "c2_within_dist_mean = []\n",
    "c3_within_dist_mean = []\n",
    "\n",
    "c1c2_dist_mean = []\n",
    "c1c3_dist_mean = []\n",
    "\n",
    "c2c1_dist_mean = []\n",
    "c2c3_dist_mean = []\n",
    "\n",
    "c3c1_dist_mean = []\n",
    "c3c2_dist_mean = []\n",
    "\n",
    "c1_within_dist = []\n",
    "c2_within_dist = []\n",
    "c3_within_dist = []\n",
    "\n",
    "c1c2_dist = []\n",
    "c1c3_dist = []\n",
    "\n",
    "c2c1_dist = []\n",
    "c2c3_dist = []\n",
    "\n",
    "c3c1_dist = []\n",
    "c3c2_dist = []"
   ]
  },
  {
   "cell_type": "code",
   "execution_count": 186,
   "metadata": {
    "collapsed": false
   },
   "outputs": [],
   "source": [
    "for q in range(0,len(q_list)):\n",
    "    \n",
    "    for i in range(0,len(x1)):\n",
    "        c1_within_dist.append( scipy.spatial.distance.minkowski(c1_1, np.array( [c1_2[0][i], c1_2[1][i] ]), q_list[q]) )\n",
    "\n",
    "    c1_within_dist_mean.append(np.mean(c1_within_dist))\n",
    "\n",
    "    for i in range(0,len(x2)):\n",
    "        c2_within_dist.append( scipy.spatial.distance.minkowski(c2_1, np.array( [c2_2[0][i], c2_2[1][i] ]), q_list[q]) )\n",
    "\n",
    "    c2_within_dist_mean.append(np.mean(c2_within_dist))\n",
    "    \n",
    "    for i in range(0,len(x3)):\n",
    "        c3_within_dist.append( scipy.spatial.distance.minkowski(c3_1, np.array( [c3_2[0][i], c3_2[1][i] ]), q_list[q]) )\n",
    "\n",
    "    c3_within_dist_mean.append(np.mean(c3_within_dist))\n",
    "\n",
    "    \n",
    "    \n",
    "    for i in range(0,len(x2)):\n",
    "        c1c2_dist.append( scipy.spatial.distance.minkowski(c1_1, np.array( [c2_2[0][i], c2_2[1][i] ]), q_list[q]) )\n",
    "\n",
    "    c1c2_dist_mean.append(np.mean(c1c2_dist))\n",
    "    for i in range(0,len(x3)):\n",
    "        c1c3_dist.append( scipy.spatial.distance.minkowski(c1_1, np.array( [c3_2[0][i], c3_2[1][i] ]), q_list[q]) )\n",
    "\n",
    "    c1c3_dist_mean.append(np.mean(c1c3_dist))\n",
    "    \n",
    "    for i in range(0,len(x1)):\n",
    "        c2c1_dist.append( scipy.spatial.distance.minkowski(c2_1, np.array( [c1_2[0][i], c1_2[1][i] ]), q_list[q]) )\n",
    "\n",
    "    c2c1_dist_mean.append(np.mean(c2c1_dist))\n",
    "    for i in range(0,len(x3)):\n",
    "        c2c3_dist.append( scipy.spatial.distance.minkowski(c2_1, np.array( [c3_2[0][i], c3_2[1][i] ]), q_list[q]) )\n",
    "\n",
    "    c2c3_dist_mean.append(np.mean(c2c3_dist))\n",
    "    \n",
    "    for i in range(0,len(x1)):\n",
    "        c3c1_dist.append( scipy.spatial.distance.minkowski(c3_1, np.array( [c1_2[0][i], c1_2[1][i] ]), q_list[q]) )\n",
    "\n",
    "    c3c1_dist_mean.append(np.mean(c3c1_dist))\n",
    "    \n",
    "    for i in range(0,len(x2)):\n",
    "        c3c2_dist.append( scipy.spatial.distance.minkowski(c3_1, np.array( [c2_2[0][i], c2_2[1][i] ]), q_list[q]) )\n",
    "\n",
    "    c3c2_dist_mean.append(np.mean(c3c2_dist))\n",
    "    "
   ]
  },
  {
   "cell_type": "code",
   "execution_count": 196,
   "metadata": {
    "collapsed": true
   },
   "outputs": [],
   "source": [
    "from math import*\n",
    "from decimal import Decimal\n",
    "\n",
    "def nth_root(value, n_root):\n",
    "    root_value = 1/float(n_root)\n",
    "    return round (Decimal(value) ** Decimal(root_value),3)\n",
    "\n",
    "def minkowski_distance(x,y,p_value):\n",
    "    return nth_root(sum(pow(abs(a-b),p_value) for a,b in zip(x, y)),p_value)"
   ]
  },
  {
   "cell_type": "code",
   "execution_count": 197,
   "metadata": {
    "collapsed": false
   },
   "outputs": [
    {
     "data": {
      "text/plain": [
       "1.835"
      ]
     },
     "execution_count": 197,
     "metadata": {},
     "output_type": "execute_result"
    }
   ],
   "source": [
    "minkowski_distance(c1_1, np.array( [c1_2[0][i], c1_2[1][i] ]),1)"
   ]
  },
  {
   "cell_type": "code",
   "execution_count": 198,
   "metadata": {
    "collapsed": false
   },
   "outputs": [
    {
     "data": {
      "text/plain": [
       "0.887"
      ]
     },
     "execution_count": 198,
     "metadata": {},
     "output_type": "execute_result"
    }
   ],
   "source": [
    "minkowski_distance(c2_1, np.array( [c2_2[0][i], c2_2[1][i] ]),1)"
   ]
  },
  {
   "cell_type": "code",
   "execution_count": 199,
   "metadata": {
    "collapsed": false
   },
   "outputs": [
    {
     "data": {
      "text/plain": [
       "1.056"
      ]
     },
     "execution_count": 199,
     "metadata": {},
     "output_type": "execute_result"
    }
   ],
   "source": [
    "minkowski_distance(c3_1, np.array( [c3_2[0][i], c3_2[1][i] ]),1)"
   ]
  },
  {
   "cell_type": "code",
   "execution_count": 187,
   "metadata": {
    "collapsed": false,
    "scrolled": true
   },
   "outputs": [
    {
     "name": "stdout",
     "output_type": "stream",
     "text": [
      "q =  1 , c1_within_dist[ 0 ] : 1.30835737429\n",
      "q =  2 , c1_within_dist[ 1 ] : 1.35069511296\n",
      "q =  3 , c1_within_dist[ 2 ] : 1.46220094918\n",
      "q =  4 , c1_within_dist[ 3 ] : 0.204856948575\n",
      "q =  15 , c1_within_dist[ 4 ] : 1.02643671223\n"
     ]
    }
   ],
   "source": [
    "for q in range(len(q_list)):\n",
    "    print \"q = \", q_list[q], \", c1_within_dist[\", q, \"] :\", c1_within_dist[q]"
   ]
  },
  {
   "cell_type": "code",
   "execution_count": 188,
   "metadata": {
    "collapsed": false
   },
   "outputs": [
    {
     "name": "stdout",
     "output_type": "stream",
     "text": [
      "q =  1 , c2_within_dist[ 0 ] : 1.19097283252\n",
      "q =  2 , c2_within_dist[ 1 ] : 1.15366575841\n",
      "q =  3 , c2_within_dist[ 2 ] : 0.354739087138\n",
      "q =  4 , c2_within_dist[ 3 ] : 1.44777283\n",
      "q =  15 , c2_within_dist[ 4 ] : 1.505810405\n"
     ]
    }
   ],
   "source": [
    "for q in range(len(q_list)):\n",
    "    print \"q = \", q_list[q], \", c2_within_dist[\", q, \"] :\", c2_within_dist[q]"
   ]
  },
  {
   "cell_type": "code",
   "execution_count": 189,
   "metadata": {
    "collapsed": false
   },
   "outputs": [
    {
     "name": "stdout",
     "output_type": "stream",
     "text": [
      "q =  1 , c3_within_dist[ 0 ] : 0.503737277491\n",
      "q =  2 , c3_within_dist[ 1 ] : 1.05454007899\n",
      "q =  3 , c3_within_dist[ 2 ] : 0.870487177008\n",
      "q =  4 , c3_within_dist[ 3 ] : 1.15897221104\n",
      "q =  15 , c3_within_dist[ 4 ] : 1.20482520672\n"
     ]
    }
   ],
   "source": [
    "for q in range(len(q_list)):\n",
    "    print \"q = \", q_list[q], \", c3_within_dist[\", q, \"] :\", c3_within_dist[q]"
   ]
  },
  {
   "cell_type": "code",
   "execution_count": 190,
   "metadata": {
    "collapsed": false,
    "scrolled": true
   },
   "outputs": [
    {
     "name": "stdout",
     "output_type": "stream",
     "text": [
      "q =  1 , c1c2_dist[ 0 ] : 12.1909728325\n",
      "q =  2 , c1c2_dist[ 1 ] : 12.1536657584\n",
      "q =  3 , c1c2_dist[ 2 ] : 11.3547390871\n",
      "q =  4 , c1c2_dist[ 3 ] : 12.44777283\n",
      "q =  15 , c1c2_dist[ 4 ] : 12.505810405\n"
     ]
    }
   ],
   "source": [
    "for q in range(len(q_list)):\n",
    "    print \"q = \", q_list[q], \", c1c2_dist[\", q, \"] :\",c1c2_dist[q]"
   ]
  },
  {
   "cell_type": "code",
   "execution_count": 191,
   "metadata": {
    "collapsed": false
   },
   "outputs": [
    {
     "name": "stdout",
     "output_type": "stream",
     "text": [
      "q =  1 , c1c3_dist[ 0 ] : 8.61608996409\n",
      "q =  2 , c1c3_dist[ 1 ] : 8.41719438068\n",
      "q =  3 , c1c3_dist[ 2 ] : 9.0413064877\n",
      "q =  4 , c1c3_dist[ 3 ] : 9.69295826296\n",
      "q =  15 , c1c3_dist[ 4 ] : 9.15857022503\n"
     ]
    }
   ],
   "source": [
    "for q in range(len(q_list)):\n",
    "    print \"q = \", q_list[q], \", c1c3_dist[\", q, \"] :\",c1c3_dist[q]"
   ]
  },
  {
   "cell_type": "code",
   "execution_count": 192,
   "metadata": {
    "collapsed": false
   },
   "outputs": [
    {
     "name": "stdout",
     "output_type": "stream",
     "text": [
      "q =  1 , c2c1_dist[ 0 ] : 9.69164262571\n",
      "q =  2 , c2c1_dist[ 1 ] : 9.64930488704\n",
      "q =  3 , c2c1_dist[ 2 ] : 9.53779905082\n",
      "q =  4 , c2c1_dist[ 3 ] : 10.7951430514\n",
      "q =  15 , c2c1_dist[ 4 ] : 9.97356328777\n"
     ]
    }
   ],
   "source": [
    "for q in range(len(q_list)):\n",
    "    print \"q = \", q_list[q], \", c2c1_dist[\", q, \"] :\",c2c1_dist[q]"
   ]
  },
  {
   "cell_type": "code",
   "execution_count": 193,
   "metadata": {
    "collapsed": false
   },
   "outputs": [
    {
     "name": "stdout",
     "output_type": "stream",
     "text": [
      "q =  1 , c2c3_dist[ 0 ] : 9.49626272251\n",
      "q =  2 , c2c3_dist[ 1 ] : 8.94545992101\n",
      "q =  3 , c2c3_dist[ 2 ] : 9.12951282299\n",
      "q =  4 , c2c3_dist[ 3 ] : 8.84102778896\n",
      "q =  15 , c2c3_dist[ 4 ] : 8.79517479328\n"
     ]
    }
   ],
   "source": [
    "for q in range(len(q_list)):\n",
    "    print \"q = \", q_list[q], \", c2c3_dist[\", q, \"] :\",c2c3_dist[q]"
   ]
  },
  {
   "cell_type": "code",
   "execution_count": 194,
   "metadata": {
    "collapsed": false
   },
   "outputs": [
    {
     "name": "stdout",
     "output_type": "stream",
     "text": [
      "q =  1 , c3c1_dist[ 0 ] : 8.18311341719\n",
      "q =  2 , c3c1_dist[ 1 ] : 8.37259042091\n",
      "q =  3 , c3c1_dist[ 2 ] : 8.22636816958\n",
      "q =  4 , c3c1_dist[ 3 ] : 8.86543537478\n",
      "q =  15 , c3c1_dist[ 4 ] : 8.89052180982\n"
     ]
    }
   ],
   "source": [
    "for q in range(len(q_list)):\n",
    "    print \"q = \", q_list[q], \", c3c1_dist[\", q, \"] :\",c3c1_dist[q]"
   ]
  },
  {
   "cell_type": "code",
   "execution_count": 195,
   "metadata": {
    "collapsed": false
   },
   "outputs": [
    {
     "name": "stdout",
     "output_type": "stream",
     "text": [
      "q =  1 , c3c2_dist[ 0 ] : 11.1909728325\n",
      "q =  2 , c3c2_dist[ 1 ] : 11.1536657584\n",
      "q =  3 , c3c2_dist[ 2 ] : 10.3547390871\n",
      "q =  4 , c3c2_dist[ 3 ] : 11.44777283\n",
      "q =  15 , c3c2_dist[ 4 ] : 11.505810405\n"
     ]
    }
   ],
   "source": [
    "for q in range(len(q_list)):\n",
    "    print \"q = \", q_list[q], \", c3c2_dist[\", q, \"] :\",c3c2_dist[q]"
   ]
  },
  {
   "cell_type": "markdown",
   "metadata": {},
   "source": [
    "## H/W Problem 1: "
   ]
  },
  {
   "cell_type": "markdown",
   "metadata": {},
   "source": [
    "HINT: See what parameters are used in data generation. You can also increase the number of generated samples to make observation prominent"
   ]
  },
  {
   "cell_type": "markdown",
   "metadata": {},
   "source": [
    "### 1. Why the average of within class distances for q = 1 (i.e. c1_within_dist(1), c2_within_dist(1),c3_within_dist(1) ) are very similar?\n"
   ]
  },
  {
   "cell_type": "markdown",
   "metadata": {},
   "source": [
    "[A]  q=1 equal Manhattan Distance, So x1+y1 and x2+y2 are similar values.\n",
    "    \n",
    "    because x1 -> c1_x *1.5 , y1 -> c1_y 0.5 x2 -> c2_x * 0.5 , y2 -> c2_y *1.5 "
   ]
  },
  {
   "cell_type": "markdown",
   "metadata": {},
   "source": [
    "q가 1일때는 맨하튼 거리로 두 점 사이의 절대값만큼의 거리이므로 rand 앞의 숫자 1.5, 0.5의 영향을 받아 거의 유사할 수 밖에 없다."
   ]
  },
  {
   "cell_type": "markdown",
   "metadata": {},
   "source": [
    "### 2. Why for q = 2 all distances are quite similar too?\n"
   ]
  },
  {
   "cell_type": "markdown",
   "metadata": {},
   "source": [
    "[A]  q=2 equal Euclidean distance, So distance is very similar  \n",
    "     \n",
    "     becuase class1 and class2's diagonal distance are equal. "
   ]
  },
  {
   "cell_type": "markdown",
   "metadata": {},
   "source": [
    "q=2 일땐 유클리안 거리이므로, 두 점의 거리의 제곱이기떄문에, \n",
    "이 역시 상당히 유사할 수 밖에 없다"
   ]
  },
  {
   "cell_type": "markdown",
   "metadata": {},
   "source": [
    "### 3. Why the average of within class distances in class 3 (blue) is much lower than within classes 1 and 2 for q = inf."
   ]
  },
  {
   "cell_type": "markdown",
   "metadata": {},
   "source": [
    "[A]   q=infinty equal supremum distance, So class is lower than classes 1 and classes 2\n",
    "\n",
    "      because class 3's diagonal is small than class1 and 2"
   ]
  },
  {
   "cell_type": "markdown",
   "metadata": {},
   "source": [
    "대각선의 길이가 1,2 보단 작기 때문에 값이 작지 않을까 생각한다"
   ]
  },
  {
   "cell_type": "markdown",
   "metadata": {},
   "source": [
    "---"
   ]
  },
  {
   "cell_type": "code",
   "execution_count": 72,
   "metadata": {
    "collapsed": false
   },
   "outputs": [
    {
     "data": {
      "text/plain": [
       "[<matplotlib.lines.Line2D at 0x10b079410>]"
      ]
     },
     "execution_count": 72,
     "metadata": {},
     "output_type": "execute_result"
    },
    {
     "data": {
      "image/png": "[encoded data removed]",
      "text/plain": [
       "<matplotlib.figure.Figure at 0x10c946bd0>"
      ]
     },
     "metadata": {},
     "output_type": "display_data"
    }
   ],
   "source": [
    "fig = plt.Figure()\n",
    "ax = fig.gca()\n",
    "plt.axis([1,6,0.6,1.3])\n",
    "plt.xlabel(q_list)\n",
    "plt.xticks(range(1,len(q_list)))\n",
    "plt.ylabel('distance')\n",
    "plt.grid(linestyle=':',linewidth=1)\n",
    "plt.hold()\n",
    "\n",
    "plt.plot(q_list,c1_within_dist_mean,\":.r\",ms=10)\n",
    "plt.plot(q_list,c2_within_dist_mean,\":.g\",ms=10)\n",
    "plt.plot(q_list,c3_within_dist_mean,\":.b\",ms=10)"
   ]
  },
  {
   "cell_type": "markdown",
   "metadata": {},
   "source": [
    "##  H/W Problem 2:"
   ]
  },
  {
   "cell_type": "markdown",
   "metadata": {},
   "source": [
    "### 1. Why curves c1c2_dist and c2c1_dist as well as c1c3_dist and c3c1_dist, and c2c3_dist and c3c2_dist overlap ?   \n",
    "      [A] Because c1c2_dist and c2c1_dist's centroids are equal. So Distance value is similar. symmetry! \n",
    "       \n",
    "### 2. Why for increasing q, c1c3_dist and c3c1_dist, as well as c2c3_dist and c3c2_dist decrease, however c1c2_dist and c2c1_dist do not decrease?  \n",
    "    [A] I don't know.. But Intuitive...\n",
    "        class 1 is 1.5 * 0.5, class 2  is 0.5 * 1.5 but class 3 is 1.0 * 1.0\n",
    "        So c1 and c2's shape are similar but c3 is different. \n",
    "        I think, c1c3, c2c3 distance are decrease, but c1, c2 distance is not decrease."
   ]
  },
  {
   "cell_type": "markdown",
   "metadata": {},
   "source": [
    "1. c1c2 ,c2c1 은 각각 거리의 중심은 같다. 둘은 대칭이다. 따라서 거리 또한 유사하다. \n",
    "2. 잘 모르겠지만 직관적으로 1,2 는 평면의 크기, 대칭이고 같다 그러나 3은 다르기때문에.."
   ]
  },
  {
   "cell_type": "markdown",
   "metadata": {},
   "source": []
  },
  {
   "cell_type": "markdown",
   "metadata": {},
   "source": [
    "---"
   ]
  },
  {
   "cell_type": "code",
   "execution_count": 73,
   "metadata": {
    "collapsed": false
   },
   "outputs": [
    {
     "data": {
      "text/plain": [
       "[<matplotlib.lines.Line2D at 0x10c963810>]"
      ]
     },
     "execution_count": 73,
     "metadata": {},
     "output_type": "execute_result"
    },
    {
     "data": {
      "image/png": "[encoded data removed]",
      "text/plain": [
       "<matplotlib.figure.Figure at 0x10cd18d10>"
      ]
     },
     "metadata": {},
     "output_type": "display_data"
    }
   ],
   "source": [
    "fig = plt.Figure()\n",
    "ax = fig.gca()\n",
    "plt.grid(True)\n",
    "plt.axis([1.0,6.0,6,13])\n",
    "plt.xticks(range(1,len(q_list)))\n",
    "plt.plot(q_list, c1c2_dist_mean,'--xr')\n",
    "plt.plot(q_list, c1c3_dist_mean,':or')\n",
    "plt.plot(q_list, c2c1_dist_mean,'--xg')\n",
    "plt.plot(q_list, c2c3_dist_mean,':og')\n",
    "plt.plot(q_list, c3c1_dist_mean,'--xb')\n",
    "plt.plot(q_list, c3c2_dist_mean,':ob')\n"
   ]
  },
  {
   "cell_type": "markdown",
   "metadata": {},
   "source": [
    "## H/W Problem 3: "
   ]
  },
  {
   "cell_type": "markdown",
   "metadata": {
    "collapsed": true
   },
   "source": [
    "###  Implement cosine similarity and compare it to minkowski distance based on the generated data, give some thoughts. Is there a distance functions (q ?) that is most similar to cosime similarity ?"
   ]
  },
  {
   "cell_type": "code",
   "execution_count": 204,
   "metadata": {
    "collapsed": false,
    "scrolled": true
   },
   "outputs": [
    {
     "name": "stdout",
     "output_type": "stream",
     "text": [
      "c1 and c2 =  0.802101358534\n",
      "c1 and c3 =  0.839426557398\n",
      "c2 and c1 =  0.802101358534\n",
      "c2 and c3 =  0.83687860825\n",
      "c3 and c1 =  0.839426557398\n",
      "c3 and c2 =  0.83687860825\n"
     ]
    }
   ],
   "source": [
    "print \"c1 and c2 = \", 1-scipy.spatial.distance.cosine(c1_within_dist,c2_within_dist)\n",
    "print \"c1 and c3 = \", 1-scipy.spatial.distance.cosine(c1_within_dist,c3_within_dist)\n",
    "print \"c2 and c1 = \", 1-scipy.spatial.distance.cosine(c2_within_dist,c1_within_dist)\n",
    "print \"c2 and c3 = \", 1-scipy.spatial.distance.cosine(c2_within_dist,c3_within_dist)\n",
    "print \"c3 and c1 = \", 1-scipy.spatial.distance.cosine(c3_within_dist,c1_within_dist)\n",
    "print \"c3 and c2 = \", 1-scipy.spatial.distance.cosine(c3_within_dist,c2_within_dist)"
   ]
  },
  {
   "cell_type": "markdown",
   "metadata": {},
   "source": [
    "I think c1 and c3 distance is most similar to cosine similarity."
   ]
  },
  {
   "cell_type": "markdown",
   "metadata": {},
   "source": [
    "------"
   ]
  }
 ],
 "metadata": {
  "kernelspec": {
   "display_name": "Python 2",
   "language": "python",
   "name": "python2"
  },
  "language_info": {
   "codemirror_mode": {
    "name": "ipython",
    "version": 2
   },
   "file_extension": ".py",
   "mimetype": "text/x-python",
   "name": "python",
   "nbconvert_exporter": "python",
   "pygments_lexer": "ipython2",
   "version": "2.7.9"
  }
 },
 "nbformat": 4,
 "nbformat_minor": 0
}
