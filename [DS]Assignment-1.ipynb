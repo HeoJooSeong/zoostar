{
 "cells": [
  {
   "cell_type": "code",
   "execution_count": 1,
   "metadata": {
    "collapsed": true
   },
   "outputs": [],
   "source": [
    "import pandas as pd"
   ]
  },
  {
   "cell_type": "code",
   "execution_count": 2,
   "metadata": {
    "collapsed": true
   },
   "outputs": [],
   "source": [
    "import numpy as np"
   ]
  },
  {
   "cell_type": "markdown",
   "metadata": {},
   "source": [
    "import matplotlib.pyplot as plt"
   ]
  },
  {
   "cell_type": "code",
   "execution_count": 4,
   "metadata": {
    "collapsed": true
   },
   "outputs": [],
   "source": [
    "s = pd.Series([1,3,5,np.nan,6,8])"
   ]
  },
  {
   "cell_type": "code",
   "execution_count": 5,
   "metadata": {
    "collapsed": false
   },
   "outputs": [
    {
     "data": {
      "text/plain": [
       "0    1.0\n",
       "1    3.0\n",
       "2    5.0\n",
       "3    NaN\n",
       "4    6.0\n",
       "5    8.0\n",
       "dtype: float64"
      ]
     },
     "execution_count": 5,
     "metadata": {},
     "output_type": "execute_result"
    }
   ],
   "source": [
    "s"
   ]
  },
  {
   "cell_type": "code",
   "execution_count": 6,
   "metadata": {
    "collapsed": true
   },
   "outputs": [],
   "source": [
    "dates = pd.date_range('20130101', periods=6)"
   ]
  },
  {
   "cell_type": "code",
   "execution_count": 7,
   "metadata": {
    "collapsed": false
   },
   "outputs": [
    {
     "data": {
      "text/plain": [
       "DatetimeIndex(['2013-01-01', '2013-01-02', '2013-01-03', '2013-01-04',\n",
       "               '2013-01-05', '2013-01-06'],\n",
       "              dtype='datetime64[ns]', freq='D')"
      ]
     },
     "execution_count": 7,
     "metadata": {},
     "output_type": "execute_result"
    }
   ],
   "source": [
    "dates"
   ]
  },
  {
   "cell_type": "code",
   "execution_count": 8,
   "metadata": {
    "collapsed": true
   },
   "outputs": [],
   "source": [
    "df = pd.DataFrame(np.random.randn(6,4), index=dates, columns=list('ABCD'))"
   ]
  },
  {
   "cell_type": "code",
   "execution_count": 9,
   "metadata": {
    "collapsed": false
   },
   "outputs": [
    {
     "data": {
      "text/html": [
       "<div>\n",
       "<table border=\"1\" class=\"dataframe\">\n",
       "  <thead>\n",
       "    <tr style=\"text-align: right;\">\n",
       "      <th></th>\n",
       "      <th>A</th>\n",
       "      <th>B</th>\n",
       "      <th>C</th>\n",
       "      <th>D</th>\n",
       "    </tr>\n",
       "  </thead>\n",
       "  <tbody>\n",
       "    <tr>\n",
       "      <th>2013-01-01</th>\n",
       "      <td>-0.376460</td>\n",
       "      <td>0.859699</td>\n",
       "      <td>-0.958447</td>\n",
       "      <td>-0.523839</td>\n",
       "    </tr>\n",
       "    <tr>\n",
       "      <th>2013-01-02</th>\n",
       "      <td>-1.730632</td>\n",
       "      <td>-0.802890</td>\n",
       "      <td>-0.897103</td>\n",
       "      <td>-1.134865</td>\n",
       "    </tr>\n",
       "    <tr>\n",
       "      <th>2013-01-03</th>\n",
       "      <td>0.336310</td>\n",
       "      <td>-0.087839</td>\n",
       "      <td>0.662318</td>\n",
       "      <td>-0.878529</td>\n",
       "    </tr>\n",
       "    <tr>\n",
       "      <th>2013-01-04</th>\n",
       "      <td>-0.474507</td>\n",
       "      <td>-0.039220</td>\n",
       "      <td>-0.061532</td>\n",
       "      <td>-1.000884</td>\n",
       "    </tr>\n",
       "    <tr>\n",
       "      <th>2013-01-05</th>\n",
       "      <td>-0.585381</td>\n",
       "      <td>-1.584209</td>\n",
       "      <td>1.238953</td>\n",
       "      <td>-1.242376</td>\n",
       "    </tr>\n",
       "    <tr>\n",
       "      <th>2013-01-06</th>\n",
       "      <td>0.058988</td>\n",
       "      <td>-0.766649</td>\n",
       "      <td>0.642791</td>\n",
       "      <td>0.024440</td>\n",
       "    </tr>\n",
       "  </tbody>\n",
       "</table>\n",
       "</div>"
      ],
      "text/plain": [
       "                   A         B         C         D\n",
       "2013-01-01 -0.376460  0.859699 -0.958447 -0.523839\n",
       "2013-01-02 -1.730632 -0.802890 -0.897103 -1.134865\n",
       "2013-01-03  0.336310 -0.087839  0.662318 -0.878529\n",
       "2013-01-04 -0.474507 -0.039220 -0.061532 -1.000884\n",
       "2013-01-05 -0.585381 -1.584209  1.238953 -1.242376\n",
       "2013-01-06  0.058988 -0.766649  0.642791  0.024440"
      ]
     },
     "execution_count": 9,
     "metadata": {},
     "output_type": "execute_result"
    }
   ],
   "source": [
    "df"
   ]
  },
  {
   "cell_type": "code",
   "execution_count": 10,
   "metadata": {
    "collapsed": true
   },
   "outputs": [],
   "source": [
    "df2 = pd.DataFrame({'A' : 1.,\n",
    "                    'B' : pd.Timestamp('20130102'),\n",
    "                    'C' : pd.Series(1,index=list(range(4)),dtype='float32'),\n",
    "                    'D' : np.array([3] * 4,dtype='int32'),\n",
    "                    'E' : pd.Categorical([\"test\",\"train\",\"test\",\"train\"]),\n",
    "                    'F' : 'foo' })"
   ]
  },
  {
   "cell_type": "code",
   "execution_count": 11,
   "metadata": {
    "collapsed": false
   },
   "outputs": [
    {
     "data": {
      "text/html": [
       "<div>\n",
       "<table border=\"1\" class=\"dataframe\">\n",
       "  <thead>\n",
       "    <tr style=\"text-align: right;\">\n",
       "      <th></th>\n",
       "      <th>A</th>\n",
       "      <th>B</th>\n",
       "      <th>C</th>\n",
       "      <th>D</th>\n",
       "      <th>E</th>\n",
       "      <th>F</th>\n",
       "    </tr>\n",
       "  </thead>\n",
       "  <tbody>\n",
       "    <tr>\n",
       "      <th>0</th>\n",
       "      <td>1.0</td>\n",
       "      <td>2013-01-02</td>\n",
       "      <td>1.0</td>\n",
       "      <td>3</td>\n",
       "      <td>test</td>\n",
       "      <td>foo</td>\n",
       "    </tr>\n",
       "    <tr>\n",
       "      <th>1</th>\n",
       "      <td>1.0</td>\n",
       "      <td>2013-01-02</td>\n",
       "      <td>1.0</td>\n",
       "      <td>3</td>\n",
       "      <td>train</td>\n",
       "      <td>foo</td>\n",
       "    </tr>\n",
       "    <tr>\n",
       "      <th>2</th>\n",
       "      <td>1.0</td>\n",
       "      <td>2013-01-02</td>\n",
       "      <td>1.0</td>\n",
       "      <td>3</td>\n",
       "      <td>test</td>\n",
       "      <td>foo</td>\n",
       "    </tr>\n",
       "    <tr>\n",
       "      <th>3</th>\n",
       "      <td>1.0</td>\n",
       "      <td>2013-01-02</td>\n",
       "      <td>1.0</td>\n",
       "      <td>3</td>\n",
       "      <td>train</td>\n",
       "      <td>foo</td>\n",
       "    </tr>\n",
       "  </tbody>\n",
       "</table>\n",
       "</div>"
      ],
      "text/plain": [
       "     A          B    C  D      E    F\n",
       "0  1.0 2013-01-02  1.0  3   test  foo\n",
       "1  1.0 2013-01-02  1.0  3  train  foo\n",
       "2  1.0 2013-01-02  1.0  3   test  foo\n",
       "3  1.0 2013-01-02  1.0  3  train  foo"
      ]
     },
     "execution_count": 11,
     "metadata": {},
     "output_type": "execute_result"
    }
   ],
   "source": [
    "df2"
   ]
  },
  {
   "cell_type": "code",
   "execution_count": 12,
   "metadata": {
    "collapsed": false
   },
   "outputs": [
    {
     "data": {
      "text/plain": [
       "A           float64\n",
       "B    datetime64[ns]\n",
       "C           float32\n",
       "D             int32\n",
       "E          category\n",
       "F            object\n",
       "dtype: object"
      ]
     },
     "execution_count": 12,
     "metadata": {},
     "output_type": "execute_result"
    }
   ],
   "source": [
    "df2.dtypes"
   ]
  },
  {
   "cell_type": "code",
   "execution_count": 13,
   "metadata": {
    "collapsed": false
   },
   "outputs": [
    {
     "ename": "SyntaxError",
     "evalue": "invalid syntax (<ipython-input-13-718b10675e1e>, line 1)",
     "output_type": "error",
     "traceback": [
      "\u001b[1;36m  File \u001b[1;32m\"<ipython-input-13-718b10675e1e>\"\u001b[1;36m, line \u001b[1;32m1\u001b[0m\n\u001b[1;33m    df2.A                  df2.boxplot\u001b[0m\n\u001b[1;37m                             ^\u001b[0m\n\u001b[1;31mSyntaxError\u001b[0m\u001b[1;31m:\u001b[0m invalid syntax\n"
     ]
    }
   ],
   "source": [
    "df2.A                  df2.boxplot\n",
    "df2.abs                df2.C\n",
    "df2.add                df2.clip\n",
    "df2.add_prefix         df2.clip_lower\n",
    "df2.add_suffix         df2.clip_upper\n",
    "df2.align              df2.columns\n",
    "df2.all                df2.combine\n",
    "df2.any                df2.combineAdd\n",
    "df2.append             df2.combine_first\n",
    "df2.apply              df2.combineMult\n",
    "df2.applymap           df2.compound\n",
    "df2.as_blocks          df2.consolidate\n",
    "df2.asfreq             df2.convert_objects\n",
    "df2.as_matrix          df2.copy\n",
    "df2.astype             df2.corr\n",
    "df2.at                 df2.corrwith\n",
    "df2.at_time            df2.count\n",
    "df2.axes               df2.cov\n",
    "df2.B                  df2.cummax\n",
    "df2.between_time       df2.cummin\n",
    "df2.bfill              df2.cumprod\n",
    "df2.blocks             df2.cumsum\n",
    "df2.bool               df2.D"
   ]
  },
  {
   "cell_type": "code",
   "execution_count": 14,
   "metadata": {
    "collapsed": false
   },
   "outputs": [
    {
     "data": {
      "text/html": [
       "<div>\n",
       "<table border=\"1\" class=\"dataframe\">\n",
       "  <thead>\n",
       "    <tr style=\"text-align: right;\">\n",
       "      <th></th>\n",
       "      <th>A</th>\n",
       "      <th>B</th>\n",
       "      <th>C</th>\n",
       "      <th>D</th>\n",
       "    </tr>\n",
       "  </thead>\n",
       "  <tbody>\n",
       "    <tr>\n",
       "      <th>2013-01-01</th>\n",
       "      <td>-0.376460</td>\n",
       "      <td>0.859699</td>\n",
       "      <td>-0.958447</td>\n",
       "      <td>-0.523839</td>\n",
       "    </tr>\n",
       "    <tr>\n",
       "      <th>2013-01-02</th>\n",
       "      <td>-1.730632</td>\n",
       "      <td>-0.802890</td>\n",
       "      <td>-0.897103</td>\n",
       "      <td>-1.134865</td>\n",
       "    </tr>\n",
       "    <tr>\n",
       "      <th>2013-01-03</th>\n",
       "      <td>0.336310</td>\n",
       "      <td>-0.087839</td>\n",
       "      <td>0.662318</td>\n",
       "      <td>-0.878529</td>\n",
       "    </tr>\n",
       "    <tr>\n",
       "      <th>2013-01-04</th>\n",
       "      <td>-0.474507</td>\n",
       "      <td>-0.039220</td>\n",
       "      <td>-0.061532</td>\n",
       "      <td>-1.000884</td>\n",
       "    </tr>\n",
       "    <tr>\n",
       "      <th>2013-01-05</th>\n",
       "      <td>-0.585381</td>\n",
       "      <td>-1.584209</td>\n",
       "      <td>1.238953</td>\n",
       "      <td>-1.242376</td>\n",
       "    </tr>\n",
       "  </tbody>\n",
       "</table>\n",
       "</div>"
      ],
      "text/plain": [
       "                   A         B         C         D\n",
       "2013-01-01 -0.376460  0.859699 -0.958447 -0.523839\n",
       "2013-01-02 -1.730632 -0.802890 -0.897103 -1.134865\n",
       "2013-01-03  0.336310 -0.087839  0.662318 -0.878529\n",
       "2013-01-04 -0.474507 -0.039220 -0.061532 -1.000884\n",
       "2013-01-05 -0.585381 -1.584209  1.238953 -1.242376"
      ]
     },
     "execution_count": 14,
     "metadata": {},
     "output_type": "execute_result"
    }
   ],
   "source": [
    "df.head()"
   ]
  },
  {
   "cell_type": "code",
   "execution_count": 15,
   "metadata": {
    "collapsed": false
   },
   "outputs": [
    {
     "data": {
      "text/html": [
       "<div>\n",
       "<table border=\"1\" class=\"dataframe\">\n",
       "  <thead>\n",
       "    <tr style=\"text-align: right;\">\n",
       "      <th></th>\n",
       "      <th>A</th>\n",
       "      <th>B</th>\n",
       "      <th>C</th>\n",
       "      <th>D</th>\n",
       "    </tr>\n",
       "  </thead>\n",
       "  <tbody>\n",
       "    <tr>\n",
       "      <th>2013-01-04</th>\n",
       "      <td>-0.474507</td>\n",
       "      <td>-0.039220</td>\n",
       "      <td>-0.061532</td>\n",
       "      <td>-1.000884</td>\n",
       "    </tr>\n",
       "    <tr>\n",
       "      <th>2013-01-05</th>\n",
       "      <td>-0.585381</td>\n",
       "      <td>-1.584209</td>\n",
       "      <td>1.238953</td>\n",
       "      <td>-1.242376</td>\n",
       "    </tr>\n",
       "    <tr>\n",
       "      <th>2013-01-06</th>\n",
       "      <td>0.058988</td>\n",
       "      <td>-0.766649</td>\n",
       "      <td>0.642791</td>\n",
       "      <td>0.024440</td>\n",
       "    </tr>\n",
       "  </tbody>\n",
       "</table>\n",
       "</div>"
      ],
      "text/plain": [
       "                   A         B         C         D\n",
       "2013-01-04 -0.474507 -0.039220 -0.061532 -1.000884\n",
       "2013-01-05 -0.585381 -1.584209  1.238953 -1.242376\n",
       "2013-01-06  0.058988 -0.766649  0.642791  0.024440"
      ]
     },
     "execution_count": 15,
     "metadata": {},
     "output_type": "execute_result"
    }
   ],
   "source": [
    "df.tail(3)"
   ]
  },
  {
   "cell_type": "code",
   "execution_count": 16,
   "metadata": {
    "collapsed": false
   },
   "outputs": [
    {
     "data": {
      "text/plain": [
       "DatetimeIndex(['2013-01-01', '2013-01-02', '2013-01-03', '2013-01-04',\n",
       "               '2013-01-05', '2013-01-06'],\n",
       "              dtype='datetime64[ns]', freq='D')"
      ]
     },
     "execution_count": 16,
     "metadata": {},
     "output_type": "execute_result"
    }
   ],
   "source": [
    "df.index"
   ]
  },
  {
   "cell_type": "code",
   "execution_count": 17,
   "metadata": {
    "collapsed": false
   },
   "outputs": [
    {
     "data": {
      "text/plain": [
       "Index(['A', 'B', 'C', 'D'], dtype='object')"
      ]
     },
     "execution_count": 17,
     "metadata": {},
     "output_type": "execute_result"
    }
   ],
   "source": [
    "df.columns"
   ]
  },
  {
   "cell_type": "code",
   "execution_count": 18,
   "metadata": {
    "collapsed": false
   },
   "outputs": [
    {
     "data": {
      "text/plain": [
       "array([[-0.37645987,  0.85969901, -0.95844707, -0.52383905],\n",
       "       [-1.73063191, -0.80289025, -0.89710332, -1.13486471],\n",
       "       [ 0.33630967, -0.08783869,  0.66231828, -0.87852869],\n",
       "       [-0.47450685, -0.03922015, -0.06153166, -1.00088442],\n",
       "       [-0.58538143, -1.58420901,  1.23895289, -1.24237583],\n",
       "       [ 0.05898812, -0.76664894,  0.64279115,  0.02443998]])"
      ]
     },
     "execution_count": 18,
     "metadata": {},
     "output_type": "execute_result"
    }
   ],
   "source": [
    "df.values"
   ]
  },
  {
   "cell_type": "code",
   "execution_count": 19,
   "metadata": {
    "collapsed": false
   },
   "outputs": [
    {
     "data": {
      "text/html": [
       "<div>\n",
       "<table border=\"1\" class=\"dataframe\">\n",
       "  <thead>\n",
       "    <tr style=\"text-align: right;\">\n",
       "      <th></th>\n",
       "      <th>A</th>\n",
       "      <th>B</th>\n",
       "      <th>C</th>\n",
       "      <th>D</th>\n",
       "    </tr>\n",
       "  </thead>\n",
       "  <tbody>\n",
       "    <tr>\n",
       "      <th>count</th>\n",
       "      <td>6.000000</td>\n",
       "      <td>6.000000</td>\n",
       "      <td>6.000000</td>\n",
       "      <td>6.000000</td>\n",
       "    </tr>\n",
       "    <tr>\n",
       "      <th>mean</th>\n",
       "      <td>-0.461947</td>\n",
       "      <td>-0.403518</td>\n",
       "      <td>0.104497</td>\n",
       "      <td>-0.792675</td>\n",
       "    </tr>\n",
       "    <tr>\n",
       "      <th>std</th>\n",
       "      <td>0.712860</td>\n",
       "      <td>0.838269</td>\n",
       "      <td>0.899837</td>\n",
       "      <td>0.471168</td>\n",
       "    </tr>\n",
       "    <tr>\n",
       "      <th>min</th>\n",
       "      <td>-1.730632</td>\n",
       "      <td>-1.584209</td>\n",
       "      <td>-0.958447</td>\n",
       "      <td>-1.242376</td>\n",
       "    </tr>\n",
       "    <tr>\n",
       "      <th>25%</th>\n",
       "      <td>-0.557663</td>\n",
       "      <td>-0.793830</td>\n",
       "      <td>-0.688210</td>\n",
       "      <td>-1.101370</td>\n",
       "    </tr>\n",
       "    <tr>\n",
       "      <th>50%</th>\n",
       "      <td>-0.425483</td>\n",
       "      <td>-0.427244</td>\n",
       "      <td>0.290630</td>\n",
       "      <td>-0.939707</td>\n",
       "    </tr>\n",
       "    <tr>\n",
       "      <th>75%</th>\n",
       "      <td>-0.049874</td>\n",
       "      <td>-0.051375</td>\n",
       "      <td>0.657436</td>\n",
       "      <td>-0.612511</td>\n",
       "    </tr>\n",
       "    <tr>\n",
       "      <th>max</th>\n",
       "      <td>0.336310</td>\n",
       "      <td>0.859699</td>\n",
       "      <td>1.238953</td>\n",
       "      <td>0.024440</td>\n",
       "    </tr>\n",
       "  </tbody>\n",
       "</table>\n",
       "</div>"
      ],
      "text/plain": [
       "              A         B         C         D\n",
       "count  6.000000  6.000000  6.000000  6.000000\n",
       "mean  -0.461947 -0.403518  0.104497 -0.792675\n",
       "std    0.712860  0.838269  0.899837  0.471168\n",
       "min   -1.730632 -1.584209 -0.958447 -1.242376\n",
       "25%   -0.557663 -0.793830 -0.688210 -1.101370\n",
       "50%   -0.425483 -0.427244  0.290630 -0.939707\n",
       "75%   -0.049874 -0.051375  0.657436 -0.612511\n",
       "max    0.336310  0.859699  1.238953  0.024440"
      ]
     },
     "execution_count": 19,
     "metadata": {},
     "output_type": "execute_result"
    }
   ],
   "source": [
    "df.describe()"
   ]
  },
  {
   "cell_type": "code",
   "execution_count": 20,
   "metadata": {
    "collapsed": false
   },
   "outputs": [
    {
     "data": {
      "text/html": [
       "<div>\n",
       "<table border=\"1\" class=\"dataframe\">\n",
       "  <thead>\n",
       "    <tr style=\"text-align: right;\">\n",
       "      <th></th>\n",
       "      <th>2013-01-01 00:00:00</th>\n",
       "      <th>2013-01-02 00:00:00</th>\n",
       "      <th>2013-01-03 00:00:00</th>\n",
       "      <th>2013-01-04 00:00:00</th>\n",
       "      <th>2013-01-05 00:00:00</th>\n",
       "      <th>2013-01-06 00:00:00</th>\n",
       "    </tr>\n",
       "  </thead>\n",
       "  <tbody>\n",
       "    <tr>\n",
       "      <th>A</th>\n",
       "      <td>-0.376460</td>\n",
       "      <td>-1.730632</td>\n",
       "      <td>0.336310</td>\n",
       "      <td>-0.474507</td>\n",
       "      <td>-0.585381</td>\n",
       "      <td>0.058988</td>\n",
       "    </tr>\n",
       "    <tr>\n",
       "      <th>B</th>\n",
       "      <td>0.859699</td>\n",
       "      <td>-0.802890</td>\n",
       "      <td>-0.087839</td>\n",
       "      <td>-0.039220</td>\n",
       "      <td>-1.584209</td>\n",
       "      <td>-0.766649</td>\n",
       "    </tr>\n",
       "    <tr>\n",
       "      <th>C</th>\n",
       "      <td>-0.958447</td>\n",
       "      <td>-0.897103</td>\n",
       "      <td>0.662318</td>\n",
       "      <td>-0.061532</td>\n",
       "      <td>1.238953</td>\n",
       "      <td>0.642791</td>\n",
       "    </tr>\n",
       "    <tr>\n",
       "      <th>D</th>\n",
       "      <td>-0.523839</td>\n",
       "      <td>-1.134865</td>\n",
       "      <td>-0.878529</td>\n",
       "      <td>-1.000884</td>\n",
       "      <td>-1.242376</td>\n",
       "      <td>0.024440</td>\n",
       "    </tr>\n",
       "  </tbody>\n",
       "</table>\n",
       "</div>"
      ],
      "text/plain": [
       "   2013-01-01  2013-01-02  2013-01-03  2013-01-04  2013-01-05  2013-01-06\n",
       "A   -0.376460   -1.730632    0.336310   -0.474507   -0.585381    0.058988\n",
       "B    0.859699   -0.802890   -0.087839   -0.039220   -1.584209   -0.766649\n",
       "C   -0.958447   -0.897103    0.662318   -0.061532    1.238953    0.642791\n",
       "D   -0.523839   -1.134865   -0.878529   -1.000884   -1.242376    0.024440"
      ]
     },
     "execution_count": 20,
     "metadata": {},
     "output_type": "execute_result"
    }
   ],
   "source": [
    "df.T"
   ]
  },
  {
   "cell_type": "code",
   "execution_count": 21,
   "metadata": {
    "collapsed": false
   },
   "outputs": [
    {
     "data": {
      "text/html": [
       "<div>\n",
       "<table border=\"1\" class=\"dataframe\">\n",
       "  <thead>\n",
       "    <tr style=\"text-align: right;\">\n",
       "      <th></th>\n",
       "      <th>D</th>\n",
       "      <th>C</th>\n",
       "      <th>B</th>\n",
       "      <th>A</th>\n",
       "    </tr>\n",
       "  </thead>\n",
       "  <tbody>\n",
       "    <tr>\n",
       "      <th>2013-01-01</th>\n",
       "      <td>-0.523839</td>\n",
       "      <td>-0.958447</td>\n",
       "      <td>0.859699</td>\n",
       "      <td>-0.376460</td>\n",
       "    </tr>\n",
       "    <tr>\n",
       "      <th>2013-01-02</th>\n",
       "      <td>-1.134865</td>\n",
       "      <td>-0.897103</td>\n",
       "      <td>-0.802890</td>\n",
       "      <td>-1.730632</td>\n",
       "    </tr>\n",
       "    <tr>\n",
       "      <th>2013-01-03</th>\n",
       "      <td>-0.878529</td>\n",
       "      <td>0.662318</td>\n",
       "      <td>-0.087839</td>\n",
       "      <td>0.336310</td>\n",
       "    </tr>\n",
       "    <tr>\n",
       "      <th>2013-01-04</th>\n",
       "      <td>-1.000884</td>\n",
       "      <td>-0.061532</td>\n",
       "      <td>-0.039220</td>\n",
       "      <td>-0.474507</td>\n",
       "    </tr>\n",
       "    <tr>\n",
       "      <th>2013-01-05</th>\n",
       "      <td>-1.242376</td>\n",
       "      <td>1.238953</td>\n",
       "      <td>-1.584209</td>\n",
       "      <td>-0.585381</td>\n",
       "    </tr>\n",
       "    <tr>\n",
       "      <th>2013-01-06</th>\n",
       "      <td>0.024440</td>\n",
       "      <td>0.642791</td>\n",
       "      <td>-0.766649</td>\n",
       "      <td>0.058988</td>\n",
       "    </tr>\n",
       "  </tbody>\n",
       "</table>\n",
       "</div>"
      ],
      "text/plain": [
       "                   D         C         B         A\n",
       "2013-01-01 -0.523839 -0.958447  0.859699 -0.376460\n",
       "2013-01-02 -1.134865 -0.897103 -0.802890 -1.730632\n",
       "2013-01-03 -0.878529  0.662318 -0.087839  0.336310\n",
       "2013-01-04 -1.000884 -0.061532 -0.039220 -0.474507\n",
       "2013-01-05 -1.242376  1.238953 -1.584209 -0.585381\n",
       "2013-01-06  0.024440  0.642791 -0.766649  0.058988"
      ]
     },
     "execution_count": 21,
     "metadata": {},
     "output_type": "execute_result"
    }
   ],
   "source": [
    "df.sort_index(axis=1, ascending=False)"
   ]
  },
  {
   "cell_type": "code",
   "execution_count": 22,
   "metadata": {
    "collapsed": false
   },
   "outputs": [
    {
     "data": {
      "text/html": [
       "<div>\n",
       "<table border=\"1\" class=\"dataframe\">\n",
       "  <thead>\n",
       "    <tr style=\"text-align: right;\">\n",
       "      <th></th>\n",
       "      <th>A</th>\n",
       "      <th>B</th>\n",
       "      <th>C</th>\n",
       "      <th>D</th>\n",
       "    </tr>\n",
       "  </thead>\n",
       "  <tbody>\n",
       "    <tr>\n",
       "      <th>2013-01-05</th>\n",
       "      <td>-0.585381</td>\n",
       "      <td>-1.584209</td>\n",
       "      <td>1.238953</td>\n",
       "      <td>-1.242376</td>\n",
       "    </tr>\n",
       "    <tr>\n",
       "      <th>2013-01-02</th>\n",
       "      <td>-1.730632</td>\n",
       "      <td>-0.802890</td>\n",
       "      <td>-0.897103</td>\n",
       "      <td>-1.134865</td>\n",
       "    </tr>\n",
       "    <tr>\n",
       "      <th>2013-01-06</th>\n",
       "      <td>0.058988</td>\n",
       "      <td>-0.766649</td>\n",
       "      <td>0.642791</td>\n",
       "      <td>0.024440</td>\n",
       "    </tr>\n",
       "    <tr>\n",
       "      <th>2013-01-03</th>\n",
       "      <td>0.336310</td>\n",
       "      <td>-0.087839</td>\n",
       "      <td>0.662318</td>\n",
       "      <td>-0.878529</td>\n",
       "    </tr>\n",
       "    <tr>\n",
       "      <th>2013-01-04</th>\n",
       "      <td>-0.474507</td>\n",
       "      <td>-0.039220</td>\n",
       "      <td>-0.061532</td>\n",
       "      <td>-1.000884</td>\n",
       "    </tr>\n",
       "    <tr>\n",
       "      <th>2013-01-01</th>\n",
       "      <td>-0.376460</td>\n",
       "      <td>0.859699</td>\n",
       "      <td>-0.958447</td>\n",
       "      <td>-0.523839</td>\n",
       "    </tr>\n",
       "  </tbody>\n",
       "</table>\n",
       "</div>"
      ],
      "text/plain": [
       "                   A         B         C         D\n",
       "2013-01-05 -0.585381 -1.584209  1.238953 -1.242376\n",
       "2013-01-02 -1.730632 -0.802890 -0.897103 -1.134865\n",
       "2013-01-06  0.058988 -0.766649  0.642791  0.024440\n",
       "2013-01-03  0.336310 -0.087839  0.662318 -0.878529\n",
       "2013-01-04 -0.474507 -0.039220 -0.061532 -1.000884\n",
       "2013-01-01 -0.376460  0.859699 -0.958447 -0.523839"
      ]
     },
     "execution_count": 22,
     "metadata": {},
     "output_type": "execute_result"
    }
   ],
   "source": [
    "df.sort_values(by='B')"
   ]
  },
  {
   "cell_type": "code",
   "execution_count": 23,
   "metadata": {
    "collapsed": false
   },
   "outputs": [
    {
     "data": {
      "text/plain": [
       "2013-01-01   -0.376460\n",
       "2013-01-02   -1.730632\n",
       "2013-01-03    0.336310\n",
       "2013-01-04   -0.474507\n",
       "2013-01-05   -0.585381\n",
       "2013-01-06    0.058988\n",
       "Freq: D, Name: A, dtype: float64"
      ]
     },
     "execution_count": 23,
     "metadata": {},
     "output_type": "execute_result"
    }
   ],
   "source": [
    "df['A']"
   ]
  },
  {
   "cell_type": "code",
   "execution_count": 24,
   "metadata": {
    "collapsed": false
   },
   "outputs": [
    {
     "data": {
      "text/html": [
       "<div>\n",
       "<table border=\"1\" class=\"dataframe\">\n",
       "  <thead>\n",
       "    <tr style=\"text-align: right;\">\n",
       "      <th></th>\n",
       "      <th>A</th>\n",
       "      <th>B</th>\n",
       "      <th>C</th>\n",
       "      <th>D</th>\n",
       "    </tr>\n",
       "  </thead>\n",
       "  <tbody>\n",
       "    <tr>\n",
       "      <th>2013-01-01</th>\n",
       "      <td>-0.376460</td>\n",
       "      <td>0.859699</td>\n",
       "      <td>-0.958447</td>\n",
       "      <td>-0.523839</td>\n",
       "    </tr>\n",
       "    <tr>\n",
       "      <th>2013-01-02</th>\n",
       "      <td>-1.730632</td>\n",
       "      <td>-0.802890</td>\n",
       "      <td>-0.897103</td>\n",
       "      <td>-1.134865</td>\n",
       "    </tr>\n",
       "    <tr>\n",
       "      <th>2013-01-03</th>\n",
       "      <td>0.336310</td>\n",
       "      <td>-0.087839</td>\n",
       "      <td>0.662318</td>\n",
       "      <td>-0.878529</td>\n",
       "    </tr>\n",
       "  </tbody>\n",
       "</table>\n",
       "</div>"
      ],
      "text/plain": [
       "                   A         B         C         D\n",
       "2013-01-01 -0.376460  0.859699 -0.958447 -0.523839\n",
       "2013-01-02 -1.730632 -0.802890 -0.897103 -1.134865\n",
       "2013-01-03  0.336310 -0.087839  0.662318 -0.878529"
      ]
     },
     "execution_count": 24,
     "metadata": {},
     "output_type": "execute_result"
    }
   ],
   "source": [
    "df[0:3]"
   ]
  },
  {
   "cell_type": "code",
   "execution_count": 25,
   "metadata": {
    "collapsed": false
   },
   "outputs": [
    {
     "data": {
      "text/html": [
       "<div>\n",
       "<table border=\"1\" class=\"dataframe\">\n",
       "  <thead>\n",
       "    <tr style=\"text-align: right;\">\n",
       "      <th></th>\n",
       "      <th>A</th>\n",
       "      <th>B</th>\n",
       "      <th>C</th>\n",
       "      <th>D</th>\n",
       "    </tr>\n",
       "  </thead>\n",
       "  <tbody>\n",
       "    <tr>\n",
       "      <th>2013-01-02</th>\n",
       "      <td>-1.730632</td>\n",
       "      <td>-0.802890</td>\n",
       "      <td>-0.897103</td>\n",
       "      <td>-1.134865</td>\n",
       "    </tr>\n",
       "    <tr>\n",
       "      <th>2013-01-03</th>\n",
       "      <td>0.336310</td>\n",
       "      <td>-0.087839</td>\n",
       "      <td>0.662318</td>\n",
       "      <td>-0.878529</td>\n",
       "    </tr>\n",
       "    <tr>\n",
       "      <th>2013-01-04</th>\n",
       "      <td>-0.474507</td>\n",
       "      <td>-0.039220</td>\n",
       "      <td>-0.061532</td>\n",
       "      <td>-1.000884</td>\n",
       "    </tr>\n",
       "  </tbody>\n",
       "</table>\n",
       "</div>"
      ],
      "text/plain": [
       "                   A         B         C         D\n",
       "2013-01-02 -1.730632 -0.802890 -0.897103 -1.134865\n",
       "2013-01-03  0.336310 -0.087839  0.662318 -0.878529\n",
       "2013-01-04 -0.474507 -0.039220 -0.061532 -1.000884"
      ]
     },
     "execution_count": 25,
     "metadata": {},
     "output_type": "execute_result"
    }
   ],
   "source": [
    "df['20130102':'20130104']"
   ]
  },
  {
   "cell_type": "code",
   "execution_count": 26,
   "metadata": {
    "collapsed": false
   },
   "outputs": [
    {
     "data": {
      "text/plain": [
       "A   -0.376460\n",
       "B    0.859699\n",
       "C   -0.958447\n",
       "D   -0.523839\n",
       "Name: 2013-01-01 00:00:00, dtype: float64"
      ]
     },
     "execution_count": 26,
     "metadata": {},
     "output_type": "execute_result"
    }
   ],
   "source": [
    "df.loc[dates[0]]"
   ]
  },
  {
   "cell_type": "code",
   "execution_count": 27,
   "metadata": {
    "collapsed": false
   },
   "outputs": [
    {
     "data": {
      "text/html": [
       "<div>\n",
       "<table border=\"1\" class=\"dataframe\">\n",
       "  <thead>\n",
       "    <tr style=\"text-align: right;\">\n",
       "      <th></th>\n",
       "      <th>A</th>\n",
       "      <th>B</th>\n",
       "    </tr>\n",
       "  </thead>\n",
       "  <tbody>\n",
       "    <tr>\n",
       "      <th>2013-01-01</th>\n",
       "      <td>-0.376460</td>\n",
       "      <td>0.859699</td>\n",
       "    </tr>\n",
       "    <tr>\n",
       "      <th>2013-01-02</th>\n",
       "      <td>-1.730632</td>\n",
       "      <td>-0.802890</td>\n",
       "    </tr>\n",
       "    <tr>\n",
       "      <th>2013-01-03</th>\n",
       "      <td>0.336310</td>\n",
       "      <td>-0.087839</td>\n",
       "    </tr>\n",
       "    <tr>\n",
       "      <th>2013-01-04</th>\n",
       "      <td>-0.474507</td>\n",
       "      <td>-0.039220</td>\n",
       "    </tr>\n",
       "    <tr>\n",
       "      <th>2013-01-05</th>\n",
       "      <td>-0.585381</td>\n",
       "      <td>-1.584209</td>\n",
       "    </tr>\n",
       "    <tr>\n",
       "      <th>2013-01-06</th>\n",
       "      <td>0.058988</td>\n",
       "      <td>-0.766649</td>\n",
       "    </tr>\n",
       "  </tbody>\n",
       "</table>\n",
       "</div>"
      ],
      "text/plain": [
       "                   A         B\n",
       "2013-01-01 -0.376460  0.859699\n",
       "2013-01-02 -1.730632 -0.802890\n",
       "2013-01-03  0.336310 -0.087839\n",
       "2013-01-04 -0.474507 -0.039220\n",
       "2013-01-05 -0.585381 -1.584209\n",
       "2013-01-06  0.058988 -0.766649"
      ]
     },
     "execution_count": 27,
     "metadata": {},
     "output_type": "execute_result"
    }
   ],
   "source": [
    "df.loc[:,['A','B']]"
   ]
  },
  {
   "cell_type": "code",
   "execution_count": 28,
   "metadata": {
    "collapsed": false
   },
   "outputs": [
    {
     "data": {
      "text/html": [
       "<div>\n",
       "<table border=\"1\" class=\"dataframe\">\n",
       "  <thead>\n",
       "    <tr style=\"text-align: right;\">\n",
       "      <th></th>\n",
       "      <th>A</th>\n",
       "      <th>B</th>\n",
       "    </tr>\n",
       "  </thead>\n",
       "  <tbody>\n",
       "    <tr>\n",
       "      <th>2013-01-02</th>\n",
       "      <td>-1.730632</td>\n",
       "      <td>-0.802890</td>\n",
       "    </tr>\n",
       "    <tr>\n",
       "      <th>2013-01-03</th>\n",
       "      <td>0.336310</td>\n",
       "      <td>-0.087839</td>\n",
       "    </tr>\n",
       "    <tr>\n",
       "      <th>2013-01-04</th>\n",
       "      <td>-0.474507</td>\n",
       "      <td>-0.039220</td>\n",
       "    </tr>\n",
       "  </tbody>\n",
       "</table>\n",
       "</div>"
      ],
      "text/plain": [
       "                   A         B\n",
       "2013-01-02 -1.730632 -0.802890\n",
       "2013-01-03  0.336310 -0.087839\n",
       "2013-01-04 -0.474507 -0.039220"
      ]
     },
     "execution_count": 28,
     "metadata": {},
     "output_type": "execute_result"
    }
   ],
   "source": [
    "df.loc['20130102':'20130104',['A','B']]"
   ]
  },
  {
   "cell_type": "code",
   "execution_count": 29,
   "metadata": {
    "collapsed": false
   },
   "outputs": [
    {
     "data": {
      "text/plain": [
       "A   -1.730632\n",
       "B   -0.802890\n",
       "Name: 2013-01-02 00:00:00, dtype: float64"
      ]
     },
     "execution_count": 29,
     "metadata": {},
     "output_type": "execute_result"
    }
   ],
   "source": [
    "df.loc['20130102',['A','B']]"
   ]
  },
  {
   "cell_type": "code",
   "execution_count": 30,
   "metadata": {
    "collapsed": false
   },
   "outputs": [
    {
     "data": {
      "text/plain": [
       "-0.37645986643552898"
      ]
     },
     "execution_count": 30,
     "metadata": {},
     "output_type": "execute_result"
    }
   ],
   "source": [
    "df.loc[dates[0],'A']"
   ]
  },
  {
   "cell_type": "code",
   "execution_count": 31,
   "metadata": {
    "collapsed": false
   },
   "outputs": [
    {
     "data": {
      "text/plain": [
       "-0.37645986643552898"
      ]
     },
     "execution_count": 31,
     "metadata": {},
     "output_type": "execute_result"
    }
   ],
   "source": [
    "df.at[dates[0],'A']"
   ]
  },
  {
   "cell_type": "code",
   "execution_count": 32,
   "metadata": {
    "collapsed": false
   },
   "outputs": [
    {
     "data": {
      "text/plain": [
       "A   -0.474507\n",
       "B   -0.039220\n",
       "C   -0.061532\n",
       "D   -1.000884\n",
       "Name: 2013-01-04 00:00:00, dtype: float64"
      ]
     },
     "execution_count": 32,
     "metadata": {},
     "output_type": "execute_result"
    }
   ],
   "source": [
    "df.iloc[3]"
   ]
  },
  {
   "cell_type": "code",
   "execution_count": 33,
   "metadata": {
    "collapsed": false
   },
   "outputs": [
    {
     "data": {
      "text/html": [
       "<div>\n",
       "<table border=\"1\" class=\"dataframe\">\n",
       "  <thead>\n",
       "    <tr style=\"text-align: right;\">\n",
       "      <th></th>\n",
       "      <th>A</th>\n",
       "      <th>B</th>\n",
       "    </tr>\n",
       "  </thead>\n",
       "  <tbody>\n",
       "    <tr>\n",
       "      <th>2013-01-04</th>\n",
       "      <td>-0.474507</td>\n",
       "      <td>-0.039220</td>\n",
       "    </tr>\n",
       "    <tr>\n",
       "      <th>2013-01-05</th>\n",
       "      <td>-0.585381</td>\n",
       "      <td>-1.584209</td>\n",
       "    </tr>\n",
       "  </tbody>\n",
       "</table>\n",
       "</div>"
      ],
      "text/plain": [
       "                   A         B\n",
       "2013-01-04 -0.474507 -0.039220\n",
       "2013-01-05 -0.585381 -1.584209"
      ]
     },
     "execution_count": 33,
     "metadata": {},
     "output_type": "execute_result"
    }
   ],
   "source": [
    "df.iloc[3:5,0:2]"
   ]
  },
  {
   "cell_type": "code",
   "execution_count": 34,
   "metadata": {
    "collapsed": false
   },
   "outputs": [
    {
     "data": {
      "text/html": [
       "<div>\n",
       "<table border=\"1\" class=\"dataframe\">\n",
       "  <thead>\n",
       "    <tr style=\"text-align: right;\">\n",
       "      <th></th>\n",
       "      <th>A</th>\n",
       "      <th>C</th>\n",
       "    </tr>\n",
       "  </thead>\n",
       "  <tbody>\n",
       "    <tr>\n",
       "      <th>2013-01-02</th>\n",
       "      <td>-1.730632</td>\n",
       "      <td>-0.897103</td>\n",
       "    </tr>\n",
       "    <tr>\n",
       "      <th>2013-01-03</th>\n",
       "      <td>0.336310</td>\n",
       "      <td>0.662318</td>\n",
       "    </tr>\n",
       "    <tr>\n",
       "      <th>2013-01-05</th>\n",
       "      <td>-0.585381</td>\n",
       "      <td>1.238953</td>\n",
       "    </tr>\n",
       "  </tbody>\n",
       "</table>\n",
       "</div>"
      ],
      "text/plain": [
       "                   A         C\n",
       "2013-01-02 -1.730632 -0.897103\n",
       "2013-01-03  0.336310  0.662318\n",
       "2013-01-05 -0.585381  1.238953"
      ]
     },
     "execution_count": 34,
     "metadata": {},
     "output_type": "execute_result"
    }
   ],
   "source": [
    "df.iloc[[1,2,4],[0,2]]"
   ]
  },
  {
   "cell_type": "code",
   "execution_count": 35,
   "metadata": {
    "collapsed": false
   },
   "outputs": [
    {
     "data": {
      "text/html": [
       "<div>\n",
       "<table border=\"1\" class=\"dataframe\">\n",
       "  <thead>\n",
       "    <tr style=\"text-align: right;\">\n",
       "      <th></th>\n",
       "      <th>A</th>\n",
       "      <th>B</th>\n",
       "      <th>C</th>\n",
       "      <th>D</th>\n",
       "    </tr>\n",
       "  </thead>\n",
       "  <tbody>\n",
       "    <tr>\n",
       "      <th>2013-01-02</th>\n",
       "      <td>-1.730632</td>\n",
       "      <td>-0.802890</td>\n",
       "      <td>-0.897103</td>\n",
       "      <td>-1.134865</td>\n",
       "    </tr>\n",
       "    <tr>\n",
       "      <th>2013-01-03</th>\n",
       "      <td>0.336310</td>\n",
       "      <td>-0.087839</td>\n",
       "      <td>0.662318</td>\n",
       "      <td>-0.878529</td>\n",
       "    </tr>\n",
       "  </tbody>\n",
       "</table>\n",
       "</div>"
      ],
      "text/plain": [
       "                   A         B         C         D\n",
       "2013-01-02 -1.730632 -0.802890 -0.897103 -1.134865\n",
       "2013-01-03  0.336310 -0.087839  0.662318 -0.878529"
      ]
     },
     "execution_count": 35,
     "metadata": {},
     "output_type": "execute_result"
    }
   ],
   "source": [
    "df.iloc[1:3,:]"
   ]
  },
  {
   "cell_type": "code",
   "execution_count": 36,
   "metadata": {
    "collapsed": false
   },
   "outputs": [
    {
     "data": {
      "text/html": [
       "<div>\n",
       "<table border=\"1\" class=\"dataframe\">\n",
       "  <thead>\n",
       "    <tr style=\"text-align: right;\">\n",
       "      <th></th>\n",
       "      <th>B</th>\n",
       "      <th>C</th>\n",
       "    </tr>\n",
       "  </thead>\n",
       "  <tbody>\n",
       "    <tr>\n",
       "      <th>2013-01-01</th>\n",
       "      <td>0.859699</td>\n",
       "      <td>-0.958447</td>\n",
       "    </tr>\n",
       "    <tr>\n",
       "      <th>2013-01-02</th>\n",
       "      <td>-0.802890</td>\n",
       "      <td>-0.897103</td>\n",
       "    </tr>\n",
       "    <tr>\n",
       "      <th>2013-01-03</th>\n",
       "      <td>-0.087839</td>\n",
       "      <td>0.662318</td>\n",
       "    </tr>\n",
       "    <tr>\n",
       "      <th>2013-01-04</th>\n",
       "      <td>-0.039220</td>\n",
       "      <td>-0.061532</td>\n",
       "    </tr>\n",
       "    <tr>\n",
       "      <th>2013-01-05</th>\n",
       "      <td>-1.584209</td>\n",
       "      <td>1.238953</td>\n",
       "    </tr>\n",
       "    <tr>\n",
       "      <th>2013-01-06</th>\n",
       "      <td>-0.766649</td>\n",
       "      <td>0.642791</td>\n",
       "    </tr>\n",
       "  </tbody>\n",
       "</table>\n",
       "</div>"
      ],
      "text/plain": [
       "                   B         C\n",
       "2013-01-01  0.859699 -0.958447\n",
       "2013-01-02 -0.802890 -0.897103\n",
       "2013-01-03 -0.087839  0.662318\n",
       "2013-01-04 -0.039220 -0.061532\n",
       "2013-01-05 -1.584209  1.238953\n",
       "2013-01-06 -0.766649  0.642791"
      ]
     },
     "execution_count": 36,
     "metadata": {},
     "output_type": "execute_result"
    }
   ],
   "source": [
    "df.iloc[:,1:3]"
   ]
  },
  {
   "cell_type": "code",
   "execution_count": 37,
   "metadata": {
    "collapsed": false
   },
   "outputs": [
    {
     "data": {
      "text/plain": [
       "-0.8028902469415764"
      ]
     },
     "execution_count": 37,
     "metadata": {},
     "output_type": "execute_result"
    }
   ],
   "source": [
    "df.iloc[1,1]"
   ]
  },
  {
   "cell_type": "code",
   "execution_count": 38,
   "metadata": {
    "collapsed": false
   },
   "outputs": [
    {
     "data": {
      "text/plain": [
       "-0.8028902469415764"
      ]
     },
     "execution_count": 38,
     "metadata": {},
     "output_type": "execute_result"
    }
   ],
   "source": [
    "df.iat[1,1]"
   ]
  },
  {
   "cell_type": "code",
   "execution_count": 39,
   "metadata": {
    "collapsed": false
   },
   "outputs": [
    {
     "data": {
      "text/html": [
       "<div>\n",
       "<table border=\"1\" class=\"dataframe\">\n",
       "  <thead>\n",
       "    <tr style=\"text-align: right;\">\n",
       "      <th></th>\n",
       "      <th>A</th>\n",
       "      <th>B</th>\n",
       "      <th>C</th>\n",
       "      <th>D</th>\n",
       "    </tr>\n",
       "  </thead>\n",
       "  <tbody>\n",
       "    <tr>\n",
       "      <th>2013-01-03</th>\n",
       "      <td>0.336310</td>\n",
       "      <td>-0.087839</td>\n",
       "      <td>0.662318</td>\n",
       "      <td>-0.878529</td>\n",
       "    </tr>\n",
       "    <tr>\n",
       "      <th>2013-01-06</th>\n",
       "      <td>0.058988</td>\n",
       "      <td>-0.766649</td>\n",
       "      <td>0.642791</td>\n",
       "      <td>0.024440</td>\n",
       "    </tr>\n",
       "  </tbody>\n",
       "</table>\n",
       "</div>"
      ],
      "text/plain": [
       "                   A         B         C         D\n",
       "2013-01-03  0.336310 -0.087839  0.662318 -0.878529\n",
       "2013-01-06  0.058988 -0.766649  0.642791  0.024440"
      ]
     },
     "execution_count": 39,
     "metadata": {},
     "output_type": "execute_result"
    }
   ],
   "source": [
    "df[df.A > 0]"
   ]
  },
  {
   "cell_type": "code",
   "execution_count": 40,
   "metadata": {
    "collapsed": false
   },
   "outputs": [
    {
     "data": {
      "text/html": [
       "<div>\n",
       "<table border=\"1\" class=\"dataframe\">\n",
       "  <thead>\n",
       "    <tr style=\"text-align: right;\">\n",
       "      <th></th>\n",
       "      <th>A</th>\n",
       "      <th>B</th>\n",
       "      <th>C</th>\n",
       "      <th>D</th>\n",
       "    </tr>\n",
       "  </thead>\n",
       "  <tbody>\n",
       "    <tr>\n",
       "      <th>2013-01-01</th>\n",
       "      <td>NaN</td>\n",
       "      <td>0.859699</td>\n",
       "      <td>NaN</td>\n",
       "      <td>NaN</td>\n",
       "    </tr>\n",
       "    <tr>\n",
       "      <th>2013-01-02</th>\n",
       "      <td>NaN</td>\n",
       "      <td>NaN</td>\n",
       "      <td>NaN</td>\n",
       "      <td>NaN</td>\n",
       "    </tr>\n",
       "    <tr>\n",
       "      <th>2013-01-03</th>\n",
       "      <td>0.336310</td>\n",
       "      <td>NaN</td>\n",
       "      <td>0.662318</td>\n",
       "      <td>NaN</td>\n",
       "    </tr>\n",
       "    <tr>\n",
       "      <th>2013-01-04</th>\n",
       "      <td>NaN</td>\n",
       "      <td>NaN</td>\n",
       "      <td>NaN</td>\n",
       "      <td>NaN</td>\n",
       "    </tr>\n",
       "    <tr>\n",
       "      <th>2013-01-05</th>\n",
       "      <td>NaN</td>\n",
       "      <td>NaN</td>\n",
       "      <td>1.238953</td>\n",
       "      <td>NaN</td>\n",
       "    </tr>\n",
       "    <tr>\n",
       "      <th>2013-01-06</th>\n",
       "      <td>0.058988</td>\n",
       "      <td>NaN</td>\n",
       "      <td>0.642791</td>\n",
       "      <td>0.02444</td>\n",
       "    </tr>\n",
       "  </tbody>\n",
       "</table>\n",
       "</div>"
      ],
      "text/plain": [
       "                   A         B         C        D\n",
       "2013-01-01       NaN  0.859699       NaN      NaN\n",
       "2013-01-02       NaN       NaN       NaN      NaN\n",
       "2013-01-03  0.336310       NaN  0.662318      NaN\n",
       "2013-01-04       NaN       NaN       NaN      NaN\n",
       "2013-01-05       NaN       NaN  1.238953      NaN\n",
       "2013-01-06  0.058988       NaN  0.642791  0.02444"
      ]
     },
     "execution_count": 40,
     "metadata": {},
     "output_type": "execute_result"
    }
   ],
   "source": [
    "df[df > 0]"
   ]
  },
  {
   "cell_type": "code",
   "execution_count": 41,
   "metadata": {
    "collapsed": true
   },
   "outputs": [],
   "source": [
    "df2 = df.copy()"
   ]
  },
  {
   "cell_type": "code",
   "execution_count": 42,
   "metadata": {
    "collapsed": true
   },
   "outputs": [],
   "source": [
    "df2['E'] = ['one', 'one','two','three','four','three']"
   ]
  },
  {
   "cell_type": "code",
   "execution_count": 43,
   "metadata": {
    "collapsed": false
   },
   "outputs": [
    {
     "data": {
      "text/html": [
       "<div>\n",
       "<table border=\"1\" class=\"dataframe\">\n",
       "  <thead>\n",
       "    <tr style=\"text-align: right;\">\n",
       "      <th></th>\n",
       "      <th>A</th>\n",
       "      <th>B</th>\n",
       "      <th>C</th>\n",
       "      <th>D</th>\n",
       "      <th>E</th>\n",
       "    </tr>\n",
       "  </thead>\n",
       "  <tbody>\n",
       "    <tr>\n",
       "      <th>2013-01-01</th>\n",
       "      <td>-0.376460</td>\n",
       "      <td>0.859699</td>\n",
       "      <td>-0.958447</td>\n",
       "      <td>-0.523839</td>\n",
       "      <td>one</td>\n",
       "    </tr>\n",
       "    <tr>\n",
       "      <th>2013-01-02</th>\n",
       "      <td>-1.730632</td>\n",
       "      <td>-0.802890</td>\n",
       "      <td>-0.897103</td>\n",
       "      <td>-1.134865</td>\n",
       "      <td>one</td>\n",
       "    </tr>\n",
       "    <tr>\n",
       "      <th>2013-01-03</th>\n",
       "      <td>0.336310</td>\n",
       "      <td>-0.087839</td>\n",
       "      <td>0.662318</td>\n",
       "      <td>-0.878529</td>\n",
       "      <td>two</td>\n",
       "    </tr>\n",
       "    <tr>\n",
       "      <th>2013-01-04</th>\n",
       "      <td>-0.474507</td>\n",
       "      <td>-0.039220</td>\n",
       "      <td>-0.061532</td>\n",
       "      <td>-1.000884</td>\n",
       "      <td>three</td>\n",
       "    </tr>\n",
       "    <tr>\n",
       "      <th>2013-01-05</th>\n",
       "      <td>-0.585381</td>\n",
       "      <td>-1.584209</td>\n",
       "      <td>1.238953</td>\n",
       "      <td>-1.242376</td>\n",
       "      <td>four</td>\n",
       "    </tr>\n",
       "    <tr>\n",
       "      <th>2013-01-06</th>\n",
       "      <td>0.058988</td>\n",
       "      <td>-0.766649</td>\n",
       "      <td>0.642791</td>\n",
       "      <td>0.024440</td>\n",
       "      <td>three</td>\n",
       "    </tr>\n",
       "  </tbody>\n",
       "</table>\n",
       "</div>"
      ],
      "text/plain": [
       "                   A         B         C         D      E\n",
       "2013-01-01 -0.376460  0.859699 -0.958447 -0.523839    one\n",
       "2013-01-02 -1.730632 -0.802890 -0.897103 -1.134865    one\n",
       "2013-01-03  0.336310 -0.087839  0.662318 -0.878529    two\n",
       "2013-01-04 -0.474507 -0.039220 -0.061532 -1.000884  three\n",
       "2013-01-05 -0.585381 -1.584209  1.238953 -1.242376   four\n",
       "2013-01-06  0.058988 -0.766649  0.642791  0.024440  three"
      ]
     },
     "execution_count": 43,
     "metadata": {},
     "output_type": "execute_result"
    }
   ],
   "source": [
    "df2"
   ]
  },
  {
   "cell_type": "code",
   "execution_count": 44,
   "metadata": {
    "collapsed": false
   },
   "outputs": [
    {
     "data": {
      "text/html": [
       "<div>\n",
       "<table border=\"1\" class=\"dataframe\">\n",
       "  <thead>\n",
       "    <tr style=\"text-align: right;\">\n",
       "      <th></th>\n",
       "      <th>A</th>\n",
       "      <th>B</th>\n",
       "      <th>C</th>\n",
       "      <th>D</th>\n",
       "      <th>E</th>\n",
       "    </tr>\n",
       "  </thead>\n",
       "  <tbody>\n",
       "    <tr>\n",
       "      <th>2013-01-03</th>\n",
       "      <td>0.336310</td>\n",
       "      <td>-0.087839</td>\n",
       "      <td>0.662318</td>\n",
       "      <td>-0.878529</td>\n",
       "      <td>two</td>\n",
       "    </tr>\n",
       "    <tr>\n",
       "      <th>2013-01-05</th>\n",
       "      <td>-0.585381</td>\n",
       "      <td>-1.584209</td>\n",
       "      <td>1.238953</td>\n",
       "      <td>-1.242376</td>\n",
       "      <td>four</td>\n",
       "    </tr>\n",
       "  </tbody>\n",
       "</table>\n",
       "</div>"
      ],
      "text/plain": [
       "                   A         B         C         D     E\n",
       "2013-01-03  0.336310 -0.087839  0.662318 -0.878529   two\n",
       "2013-01-05 -0.585381 -1.584209  1.238953 -1.242376  four"
      ]
     },
     "execution_count": 44,
     "metadata": {},
     "output_type": "execute_result"
    }
   ],
   "source": [
    "df2[df2['E'].isin(['two','four'])]"
   ]
  },
  {
   "cell_type": "code",
   "execution_count": 45,
   "metadata": {
    "collapsed": true
   },
   "outputs": [],
   "source": [
    "s1 = pd.Series([1,2,3,4,5,6], index=pd.date_range('20130102', periods=6))"
   ]
  },
  {
   "cell_type": "code",
   "execution_count": 46,
   "metadata": {
    "collapsed": false
   },
   "outputs": [
    {
     "data": {
      "text/plain": [
       "2013-01-02    1\n",
       "2013-01-03    2\n",
       "2013-01-04    3\n",
       "2013-01-05    4\n",
       "2013-01-06    5\n",
       "2013-01-07    6\n",
       "Freq: D, dtype: int64"
      ]
     },
     "execution_count": 46,
     "metadata": {},
     "output_type": "execute_result"
    }
   ],
   "source": [
    "s1"
   ]
  },
  {
   "cell_type": "code",
   "execution_count": 47,
   "metadata": {
    "collapsed": true
   },
   "outputs": [],
   "source": [
    "df['F'] = s1"
   ]
  },
  {
   "cell_type": "code",
   "execution_count": 48,
   "metadata": {
    "collapsed": true
   },
   "outputs": [],
   "source": [
    "df.at[dates[0],'A'] = 0"
   ]
  },
  {
   "cell_type": "code",
   "execution_count": 49,
   "metadata": {
    "collapsed": true
   },
   "outputs": [],
   "source": [
    "df.iat[0,1] = 0"
   ]
  },
  {
   "cell_type": "code",
   "execution_count": 50,
   "metadata": {
    "collapsed": true
   },
   "outputs": [],
   "source": [
    "df.loc[:,'D'] = np.array([5] * len(df))"
   ]
  },
  {
   "cell_type": "code",
   "execution_count": 51,
   "metadata": {
    "collapsed": false
   },
   "outputs": [
    {
     "data": {
      "text/html": [
       "<div>\n",
       "<table border=\"1\" class=\"dataframe\">\n",
       "  <thead>\n",
       "    <tr style=\"text-align: right;\">\n",
       "      <th></th>\n",
       "      <th>A</th>\n",
       "      <th>B</th>\n",
       "      <th>C</th>\n",
       "      <th>D</th>\n",
       "      <th>F</th>\n",
       "    </tr>\n",
       "  </thead>\n",
       "  <tbody>\n",
       "    <tr>\n",
       "      <th>2013-01-01</th>\n",
       "      <td>0.000000</td>\n",
       "      <td>0.000000</td>\n",
       "      <td>-0.958447</td>\n",
       "      <td>5</td>\n",
       "      <td>NaN</td>\n",
       "    </tr>\n",
       "    <tr>\n",
       "      <th>2013-01-02</th>\n",
       "      <td>-1.730632</td>\n",
       "      <td>-0.802890</td>\n",
       "      <td>-0.897103</td>\n",
       "      <td>5</td>\n",
       "      <td>1.0</td>\n",
       "    </tr>\n",
       "    <tr>\n",
       "      <th>2013-01-03</th>\n",
       "      <td>0.336310</td>\n",
       "      <td>-0.087839</td>\n",
       "      <td>0.662318</td>\n",
       "      <td>5</td>\n",
       "      <td>2.0</td>\n",
       "    </tr>\n",
       "    <tr>\n",
       "      <th>2013-01-04</th>\n",
       "      <td>-0.474507</td>\n",
       "      <td>-0.039220</td>\n",
       "      <td>-0.061532</td>\n",
       "      <td>5</td>\n",
       "      <td>3.0</td>\n",
       "    </tr>\n",
       "    <tr>\n",
       "      <th>2013-01-05</th>\n",
       "      <td>-0.585381</td>\n",
       "      <td>-1.584209</td>\n",
       "      <td>1.238953</td>\n",
       "      <td>5</td>\n",
       "      <td>4.0</td>\n",
       "    </tr>\n",
       "    <tr>\n",
       "      <th>2013-01-06</th>\n",
       "      <td>0.058988</td>\n",
       "      <td>-0.766649</td>\n",
       "      <td>0.642791</td>\n",
       "      <td>5</td>\n",
       "      <td>5.0</td>\n",
       "    </tr>\n",
       "  </tbody>\n",
       "</table>\n",
       "</div>"
      ],
      "text/plain": [
       "                   A         B         C  D    F\n",
       "2013-01-01  0.000000  0.000000 -0.958447  5  NaN\n",
       "2013-01-02 -1.730632 -0.802890 -0.897103  5  1.0\n",
       "2013-01-03  0.336310 -0.087839  0.662318  5  2.0\n",
       "2013-01-04 -0.474507 -0.039220 -0.061532  5  3.0\n",
       "2013-01-05 -0.585381 -1.584209  1.238953  5  4.0\n",
       "2013-01-06  0.058988 -0.766649  0.642791  5  5.0"
      ]
     },
     "execution_count": 51,
     "metadata": {},
     "output_type": "execute_result"
    }
   ],
   "source": [
    "df"
   ]
  },
  {
   "cell_type": "code",
   "execution_count": 52,
   "metadata": {
    "collapsed": true
   },
   "outputs": [],
   "source": [
    "df2 = df.copy()"
   ]
  },
  {
   "cell_type": "code",
   "execution_count": 53,
   "metadata": {
    "collapsed": true
   },
   "outputs": [],
   "source": [
    "df2[df2 > 0] = -df2"
   ]
  },
  {
   "cell_type": "code",
   "execution_count": 54,
   "metadata": {
    "collapsed": false
   },
   "outputs": [
    {
     "data": {
      "text/html": [
       "<div>\n",
       "<table border=\"1\" class=\"dataframe\">\n",
       "  <thead>\n",
       "    <tr style=\"text-align: right;\">\n",
       "      <th></th>\n",
       "      <th>A</th>\n",
       "      <th>B</th>\n",
       "      <th>C</th>\n",
       "      <th>D</th>\n",
       "      <th>F</th>\n",
       "    </tr>\n",
       "  </thead>\n",
       "  <tbody>\n",
       "    <tr>\n",
       "      <th>2013-01-01</th>\n",
       "      <td>0.000000</td>\n",
       "      <td>0.000000</td>\n",
       "      <td>-0.958447</td>\n",
       "      <td>-5</td>\n",
       "      <td>NaN</td>\n",
       "    </tr>\n",
       "    <tr>\n",
       "      <th>2013-01-02</th>\n",
       "      <td>-1.730632</td>\n",
       "      <td>-0.802890</td>\n",
       "      <td>-0.897103</td>\n",
       "      <td>-5</td>\n",
       "      <td>-1.0</td>\n",
       "    </tr>\n",
       "    <tr>\n",
       "      <th>2013-01-03</th>\n",
       "      <td>-0.336310</td>\n",
       "      <td>-0.087839</td>\n",
       "      <td>-0.662318</td>\n",
       "      <td>-5</td>\n",
       "      <td>-2.0</td>\n",
       "    </tr>\n",
       "    <tr>\n",
       "      <th>2013-01-04</th>\n",
       "      <td>-0.474507</td>\n",
       "      <td>-0.039220</td>\n",
       "      <td>-0.061532</td>\n",
       "      <td>-5</td>\n",
       "      <td>-3.0</td>\n",
       "    </tr>\n",
       "    <tr>\n",
       "      <th>2013-01-05</th>\n",
       "      <td>-0.585381</td>\n",
       "      <td>-1.584209</td>\n",
       "      <td>-1.238953</td>\n",
       "      <td>-5</td>\n",
       "      <td>-4.0</td>\n",
       "    </tr>\n",
       "    <tr>\n",
       "      <th>2013-01-06</th>\n",
       "      <td>-0.058988</td>\n",
       "      <td>-0.766649</td>\n",
       "      <td>-0.642791</td>\n",
       "      <td>-5</td>\n",
       "      <td>-5.0</td>\n",
       "    </tr>\n",
       "  </tbody>\n",
       "</table>\n",
       "</div>"
      ],
      "text/plain": [
       "                   A         B         C  D    F\n",
       "2013-01-01  0.000000  0.000000 -0.958447 -5  NaN\n",
       "2013-01-02 -1.730632 -0.802890 -0.897103 -5 -1.0\n",
       "2013-01-03 -0.336310 -0.087839 -0.662318 -5 -2.0\n",
       "2013-01-04 -0.474507 -0.039220 -0.061532 -5 -3.0\n",
       "2013-01-05 -0.585381 -1.584209 -1.238953 -5 -4.0\n",
       "2013-01-06 -0.058988 -0.766649 -0.642791 -5 -5.0"
      ]
     },
     "execution_count": 54,
     "metadata": {},
     "output_type": "execute_result"
    }
   ],
   "source": [
    "df2"
   ]
  },
  {
   "cell_type": "code",
   "execution_count": 55,
   "metadata": {
    "collapsed": true
   },
   "outputs": [],
   "source": [
    "df1 = df.reindex(index=dates[0:4], columns=list(df.columns) + ['E'])\n"
   ]
  },
  {
   "cell_type": "code",
   "execution_count": 56,
   "metadata": {
    "collapsed": true
   },
   "outputs": [],
   "source": [
    "df1.loc[dates[0]:dates[1],'E'] = 1"
   ]
  },
  {
   "cell_type": "code",
   "execution_count": 57,
   "metadata": {
    "collapsed": false
   },
   "outputs": [
    {
     "data": {
      "text/html": [
       "<div>\n",
       "<table border=\"1\" class=\"dataframe\">\n",
       "  <thead>\n",
       "    <tr style=\"text-align: right;\">\n",
       "      <th></th>\n",
       "      <th>A</th>\n",
       "      <th>B</th>\n",
       "      <th>C</th>\n",
       "      <th>D</th>\n",
       "      <th>F</th>\n",
       "      <th>E</th>\n",
       "    </tr>\n",
       "  </thead>\n",
       "  <tbody>\n",
       "    <tr>\n",
       "      <th>2013-01-01</th>\n",
       "      <td>0.000000</td>\n",
       "      <td>0.000000</td>\n",
       "      <td>-0.958447</td>\n",
       "      <td>5</td>\n",
       "      <td>NaN</td>\n",
       "      <td>1.0</td>\n",
       "    </tr>\n",
       "    <tr>\n",
       "      <th>2013-01-02</th>\n",
       "      <td>-1.730632</td>\n",
       "      <td>-0.802890</td>\n",
       "      <td>-0.897103</td>\n",
       "      <td>5</td>\n",
       "      <td>1.0</td>\n",
       "      <td>1.0</td>\n",
       "    </tr>\n",
       "    <tr>\n",
       "      <th>2013-01-03</th>\n",
       "      <td>0.336310</td>\n",
       "      <td>-0.087839</td>\n",
       "      <td>0.662318</td>\n",
       "      <td>5</td>\n",
       "      <td>2.0</td>\n",
       "      <td>NaN</td>\n",
       "    </tr>\n",
       "    <tr>\n",
       "      <th>2013-01-04</th>\n",
       "      <td>-0.474507</td>\n",
       "      <td>-0.039220</td>\n",
       "      <td>-0.061532</td>\n",
       "      <td>5</td>\n",
       "      <td>3.0</td>\n",
       "      <td>NaN</td>\n",
       "    </tr>\n",
       "  </tbody>\n",
       "</table>\n",
       "</div>"
      ],
      "text/plain": [
       "                   A         B         C  D    F    E\n",
       "2013-01-01  0.000000  0.000000 -0.958447  5  NaN  1.0\n",
       "2013-01-02 -1.730632 -0.802890 -0.897103  5  1.0  1.0\n",
       "2013-01-03  0.336310 -0.087839  0.662318  5  2.0  NaN\n",
       "2013-01-04 -0.474507 -0.039220 -0.061532  5  3.0  NaN"
      ]
     },
     "execution_count": 57,
     "metadata": {},
     "output_type": "execute_result"
    }
   ],
   "source": [
    "df1"
   ]
  },
  {
   "cell_type": "code",
   "execution_count": 58,
   "metadata": {
    "collapsed": false
   },
   "outputs": [
    {
     "data": {
      "text/html": [
       "<div>\n",
       "<table border=\"1\" class=\"dataframe\">\n",
       "  <thead>\n",
       "    <tr style=\"text-align: right;\">\n",
       "      <th></th>\n",
       "      <th>A</th>\n",
       "      <th>B</th>\n",
       "      <th>C</th>\n",
       "      <th>D</th>\n",
       "      <th>F</th>\n",
       "      <th>E</th>\n",
       "    </tr>\n",
       "  </thead>\n",
       "  <tbody>\n",
       "    <tr>\n",
       "      <th>2013-01-02</th>\n",
       "      <td>-1.730632</td>\n",
       "      <td>-0.80289</td>\n",
       "      <td>-0.897103</td>\n",
       "      <td>5</td>\n",
       "      <td>1.0</td>\n",
       "      <td>1.0</td>\n",
       "    </tr>\n",
       "  </tbody>\n",
       "</table>\n",
       "</div>"
      ],
      "text/plain": [
       "                   A        B         C  D    F    E\n",
       "2013-01-02 -1.730632 -0.80289 -0.897103  5  1.0  1.0"
      ]
     },
     "execution_count": 58,
     "metadata": {},
     "output_type": "execute_result"
    }
   ],
   "source": [
    "df1.dropna(how='any')"
   ]
  },
  {
   "cell_type": "code",
   "execution_count": 59,
   "metadata": {
    "collapsed": false
   },
   "outputs": [
    {
     "data": {
      "text/html": [
       "<div>\n",
       "<table border=\"1\" class=\"dataframe\">\n",
       "  <thead>\n",
       "    <tr style=\"text-align: right;\">\n",
       "      <th></th>\n",
       "      <th>A</th>\n",
       "      <th>B</th>\n",
       "      <th>C</th>\n",
       "      <th>D</th>\n",
       "      <th>F</th>\n",
       "      <th>E</th>\n",
       "    </tr>\n",
       "  </thead>\n",
       "  <tbody>\n",
       "    <tr>\n",
       "      <th>2013-01-01</th>\n",
       "      <td>0.000000</td>\n",
       "      <td>0.000000</td>\n",
       "      <td>-0.958447</td>\n",
       "      <td>5</td>\n",
       "      <td>5.0</td>\n",
       "      <td>1.0</td>\n",
       "    </tr>\n",
       "    <tr>\n",
       "      <th>2013-01-02</th>\n",
       "      <td>-1.730632</td>\n",
       "      <td>-0.802890</td>\n",
       "      <td>-0.897103</td>\n",
       "      <td>5</td>\n",
       "      <td>1.0</td>\n",
       "      <td>1.0</td>\n",
       "    </tr>\n",
       "    <tr>\n",
       "      <th>2013-01-03</th>\n",
       "      <td>0.336310</td>\n",
       "      <td>-0.087839</td>\n",
       "      <td>0.662318</td>\n",
       "      <td>5</td>\n",
       "      <td>2.0</td>\n",
       "      <td>5.0</td>\n",
       "    </tr>\n",
       "    <tr>\n",
       "      <th>2013-01-04</th>\n",
       "      <td>-0.474507</td>\n",
       "      <td>-0.039220</td>\n",
       "      <td>-0.061532</td>\n",
       "      <td>5</td>\n",
       "      <td>3.0</td>\n",
       "      <td>5.0</td>\n",
       "    </tr>\n",
       "  </tbody>\n",
       "</table>\n",
       "</div>"
      ],
      "text/plain": [
       "                   A         B         C  D    F    E\n",
       "2013-01-01  0.000000  0.000000 -0.958447  5  5.0  1.0\n",
       "2013-01-02 -1.730632 -0.802890 -0.897103  5  1.0  1.0\n",
       "2013-01-03  0.336310 -0.087839  0.662318  5  2.0  5.0\n",
       "2013-01-04 -0.474507 -0.039220 -0.061532  5  3.0  5.0"
      ]
     },
     "execution_count": 59,
     "metadata": {},
     "output_type": "execute_result"
    }
   ],
   "source": [
    "df1.fillna(value=5)"
   ]
  },
  {
   "cell_type": "code",
   "execution_count": 60,
   "metadata": {
    "collapsed": false
   },
   "outputs": [
    {
     "data": {
      "text/html": [
       "<div>\n",
       "<table border=\"1\" class=\"dataframe\">\n",
       "  <thead>\n",
       "    <tr style=\"text-align: right;\">\n",
       "      <th></th>\n",
       "      <th>A</th>\n",
       "      <th>B</th>\n",
       "      <th>C</th>\n",
       "      <th>D</th>\n",
       "      <th>F</th>\n",
       "      <th>E</th>\n",
       "    </tr>\n",
       "  </thead>\n",
       "  <tbody>\n",
       "    <tr>\n",
       "      <th>2013-01-01</th>\n",
       "      <td>False</td>\n",
       "      <td>False</td>\n",
       "      <td>False</td>\n",
       "      <td>False</td>\n",
       "      <td>True</td>\n",
       "      <td>False</td>\n",
       "    </tr>\n",
       "    <tr>\n",
       "      <th>2013-01-02</th>\n",
       "      <td>False</td>\n",
       "      <td>False</td>\n",
       "      <td>False</td>\n",
       "      <td>False</td>\n",
       "      <td>False</td>\n",
       "      <td>False</td>\n",
       "    </tr>\n",
       "    <tr>\n",
       "      <th>2013-01-03</th>\n",
       "      <td>False</td>\n",
       "      <td>False</td>\n",
       "      <td>False</td>\n",
       "      <td>False</td>\n",
       "      <td>False</td>\n",
       "      <td>True</td>\n",
       "    </tr>\n",
       "    <tr>\n",
       "      <th>2013-01-04</th>\n",
       "      <td>False</td>\n",
       "      <td>False</td>\n",
       "      <td>False</td>\n",
       "      <td>False</td>\n",
       "      <td>False</td>\n",
       "      <td>True</td>\n",
       "    </tr>\n",
       "  </tbody>\n",
       "</table>\n",
       "</div>"
      ],
      "text/plain": [
       "                A      B      C      D      F      E\n",
       "2013-01-01  False  False  False  False   True  False\n",
       "2013-01-02  False  False  False  False  False  False\n",
       "2013-01-03  False  False  False  False  False   True\n",
       "2013-01-04  False  False  False  False  False   True"
      ]
     },
     "execution_count": 60,
     "metadata": {},
     "output_type": "execute_result"
    }
   ],
   "source": [
    "pd.isnull(df1)"
   ]
  },
  {
   "cell_type": "code",
   "execution_count": 61,
   "metadata": {
    "collapsed": false
   },
   "outputs": [
    {
     "data": {
      "text/plain": [
       "A   -0.399204\n",
       "B   -0.546801\n",
       "C    0.104497\n",
       "D    5.000000\n",
       "F    3.000000\n",
       "dtype: float64"
      ]
     },
     "execution_count": 61,
     "metadata": {},
     "output_type": "execute_result"
    }
   ],
   "source": [
    "df.mean()"
   ]
  },
  {
   "cell_type": "code",
   "execution_count": 62,
   "metadata": {
    "collapsed": false
   },
   "outputs": [
    {
     "data": {
      "text/plain": [
       "2013-01-01    1.010388\n",
       "2013-01-02    0.513875\n",
       "2013-01-03    1.582158\n",
       "2013-01-04    1.484948\n",
       "2013-01-05    1.613872\n",
       "2013-01-06    1.987026\n",
       "Freq: D, dtype: float64"
      ]
     },
     "execution_count": 62,
     "metadata": {},
     "output_type": "execute_result"
    }
   ],
   "source": [
    "df.mean(1)"
   ]
  },
  {
   "cell_type": "code",
   "execution_count": 63,
   "metadata": {
    "collapsed": true
   },
   "outputs": [],
   "source": [
    "s = pd.Series([1,3,5,np.nan,6,8], index=dates).shift(2)"
   ]
  },
  {
   "cell_type": "code",
   "execution_count": 64,
   "metadata": {
    "collapsed": false
   },
   "outputs": [
    {
     "data": {
      "text/plain": [
       "2013-01-01    NaN\n",
       "2013-01-02    NaN\n",
       "2013-01-03    1.0\n",
       "2013-01-04    3.0\n",
       "2013-01-05    5.0\n",
       "2013-01-06    NaN\n",
       "Freq: D, dtype: float64"
      ]
     },
     "execution_count": 64,
     "metadata": {},
     "output_type": "execute_result"
    }
   ],
   "source": [
    "s"
   ]
  },
  {
   "cell_type": "code",
   "execution_count": 65,
   "metadata": {
    "collapsed": false
   },
   "outputs": [
    {
     "data": {
      "text/html": [
       "<div>\n",
       "<table border=\"1\" class=\"dataframe\">\n",
       "  <thead>\n",
       "    <tr style=\"text-align: right;\">\n",
       "      <th></th>\n",
       "      <th>A</th>\n",
       "      <th>B</th>\n",
       "      <th>C</th>\n",
       "      <th>D</th>\n",
       "      <th>F</th>\n",
       "    </tr>\n",
       "  </thead>\n",
       "  <tbody>\n",
       "    <tr>\n",
       "      <th>2013-01-01</th>\n",
       "      <td>NaN</td>\n",
       "      <td>NaN</td>\n",
       "      <td>NaN</td>\n",
       "      <td>NaN</td>\n",
       "      <td>NaN</td>\n",
       "    </tr>\n",
       "    <tr>\n",
       "      <th>2013-01-02</th>\n",
       "      <td>NaN</td>\n",
       "      <td>NaN</td>\n",
       "      <td>NaN</td>\n",
       "      <td>NaN</td>\n",
       "      <td>NaN</td>\n",
       "    </tr>\n",
       "    <tr>\n",
       "      <th>2013-01-03</th>\n",
       "      <td>-0.663690</td>\n",
       "      <td>-1.087839</td>\n",
       "      <td>-0.337682</td>\n",
       "      <td>4.0</td>\n",
       "      <td>1.0</td>\n",
       "    </tr>\n",
       "    <tr>\n",
       "      <th>2013-01-04</th>\n",
       "      <td>-3.474507</td>\n",
       "      <td>-3.039220</td>\n",
       "      <td>-3.061532</td>\n",
       "      <td>2.0</td>\n",
       "      <td>0.0</td>\n",
       "    </tr>\n",
       "    <tr>\n",
       "      <th>2013-01-05</th>\n",
       "      <td>-5.585381</td>\n",
       "      <td>-6.584209</td>\n",
       "      <td>-3.761047</td>\n",
       "      <td>0.0</td>\n",
       "      <td>-1.0</td>\n",
       "    </tr>\n",
       "    <tr>\n",
       "      <th>2013-01-06</th>\n",
       "      <td>NaN</td>\n",
       "      <td>NaN</td>\n",
       "      <td>NaN</td>\n",
       "      <td>NaN</td>\n",
       "      <td>NaN</td>\n",
       "    </tr>\n",
       "  </tbody>\n",
       "</table>\n",
       "</div>"
      ],
      "text/plain": [
       "                   A         B         C    D    F\n",
       "2013-01-01       NaN       NaN       NaN  NaN  NaN\n",
       "2013-01-02       NaN       NaN       NaN  NaN  NaN\n",
       "2013-01-03 -0.663690 -1.087839 -0.337682  4.0  1.0\n",
       "2013-01-04 -3.474507 -3.039220 -3.061532  2.0  0.0\n",
       "2013-01-05 -5.585381 -6.584209 -3.761047  0.0 -1.0\n",
       "2013-01-06       NaN       NaN       NaN  NaN  NaN"
      ]
     },
     "execution_count": 65,
     "metadata": {},
     "output_type": "execute_result"
    }
   ],
   "source": [
    "df.sub(s, axis='index')"
   ]
  },
  {
   "cell_type": "code",
   "execution_count": 66,
   "metadata": {
    "collapsed": false
   },
   "outputs": [
    {
     "data": {
      "text/html": [
       "<div>\n",
       "<table border=\"1\" class=\"dataframe\">\n",
       "  <thead>\n",
       "    <tr style=\"text-align: right;\">\n",
       "      <th></th>\n",
       "      <th>A</th>\n",
       "      <th>B</th>\n",
       "      <th>C</th>\n",
       "      <th>D</th>\n",
       "      <th>F</th>\n",
       "    </tr>\n",
       "  </thead>\n",
       "  <tbody>\n",
       "    <tr>\n",
       "      <th>2013-01-01</th>\n",
       "      <td>0.000000</td>\n",
       "      <td>0.000000</td>\n",
       "      <td>-0.958447</td>\n",
       "      <td>5</td>\n",
       "      <td>NaN</td>\n",
       "    </tr>\n",
       "    <tr>\n",
       "      <th>2013-01-02</th>\n",
       "      <td>-1.730632</td>\n",
       "      <td>-0.802890</td>\n",
       "      <td>-1.855550</td>\n",
       "      <td>10</td>\n",
       "      <td>1.0</td>\n",
       "    </tr>\n",
       "    <tr>\n",
       "      <th>2013-01-03</th>\n",
       "      <td>-1.394322</td>\n",
       "      <td>-0.890729</td>\n",
       "      <td>-1.193232</td>\n",
       "      <td>15</td>\n",
       "      <td>3.0</td>\n",
       "    </tr>\n",
       "    <tr>\n",
       "      <th>2013-01-04</th>\n",
       "      <td>-1.868829</td>\n",
       "      <td>-0.929949</td>\n",
       "      <td>-1.254764</td>\n",
       "      <td>20</td>\n",
       "      <td>6.0</td>\n",
       "    </tr>\n",
       "    <tr>\n",
       "      <th>2013-01-05</th>\n",
       "      <td>-2.454211</td>\n",
       "      <td>-2.514158</td>\n",
       "      <td>-0.015811</td>\n",
       "      <td>25</td>\n",
       "      <td>10.0</td>\n",
       "    </tr>\n",
       "    <tr>\n",
       "      <th>2013-01-06</th>\n",
       "      <td>-2.395222</td>\n",
       "      <td>-3.280807</td>\n",
       "      <td>0.626980</td>\n",
       "      <td>30</td>\n",
       "      <td>15.0</td>\n",
       "    </tr>\n",
       "  </tbody>\n",
       "</table>\n",
       "</div>"
      ],
      "text/plain": [
       "                   A         B         C   D     F\n",
       "2013-01-01  0.000000  0.000000 -0.958447   5   NaN\n",
       "2013-01-02 -1.730632 -0.802890 -1.855550  10   1.0\n",
       "2013-01-03 -1.394322 -0.890729 -1.193232  15   3.0\n",
       "2013-01-04 -1.868829 -0.929949 -1.254764  20   6.0\n",
       "2013-01-05 -2.454211 -2.514158 -0.015811  25  10.0\n",
       "2013-01-06 -2.395222 -3.280807  0.626980  30  15.0"
      ]
     },
     "execution_count": 66,
     "metadata": {},
     "output_type": "execute_result"
    }
   ],
   "source": [
    "df.apply(np.cumsum)"
   ]
  },
  {
   "cell_type": "code",
   "execution_count": 67,
   "metadata": {
    "collapsed": false
   },
   "outputs": [
    {
     "data": {
      "text/plain": [
       "A    2.066942\n",
       "B    1.584209\n",
       "C    2.197400\n",
       "D    0.000000\n",
       "F    4.000000\n",
       "dtype: float64"
      ]
     },
     "execution_count": 67,
     "metadata": {},
     "output_type": "execute_result"
    }
   ],
   "source": [
    "df.apply(lambda x: x.max() - x.min())"
   ]
  },
  {
   "cell_type": "code",
   "execution_count": 68,
   "metadata": {
    "collapsed": true
   },
   "outputs": [],
   "source": [
    "s = pd.Series(np.random.randint(0, 7, size=10))"
   ]
  },
  {
   "cell_type": "code",
   "execution_count": 69,
   "metadata": {
    "collapsed": false
   },
   "outputs": [
    {
     "data": {
      "text/plain": [
       "0    0\n",
       "1    6\n",
       "2    4\n",
       "3    0\n",
       "4    2\n",
       "5    4\n",
       "6    4\n",
       "7    2\n",
       "8    3\n",
       "9    2\n",
       "dtype: int32"
      ]
     },
     "execution_count": 69,
     "metadata": {},
     "output_type": "execute_result"
    }
   ],
   "source": [
    "s"
   ]
  },
  {
   "cell_type": "code",
   "execution_count": 70,
   "metadata": {
    "collapsed": false
   },
   "outputs": [
    {
     "data": {
      "text/plain": [
       "4    3\n",
       "2    3\n",
       "0    2\n",
       "6    1\n",
       "3    1\n",
       "dtype: int64"
      ]
     },
     "execution_count": 70,
     "metadata": {},
     "output_type": "execute_result"
    }
   ],
   "source": [
    "s.value_counts()"
   ]
  },
  {
   "cell_type": "code",
   "execution_count": 71,
   "metadata": {
    "collapsed": true
   },
   "outputs": [],
   "source": [
    "s = pd.Series(['A', 'B', 'C', 'Aaba', 'Baca', np.nan, 'CABA', 'dog', 'cat'])"
   ]
  },
  {
   "cell_type": "code",
   "execution_count": 72,
   "metadata": {
    "collapsed": false
   },
   "outputs": [
    {
     "data": {
      "text/plain": [
       "0       a\n",
       "1       b\n",
       "2       c\n",
       "3    aaba\n",
       "4    baca\n",
       "5     NaN\n",
       "6    caba\n",
       "7     dog\n",
       "8     cat\n",
       "dtype: object"
      ]
     },
     "execution_count": 72,
     "metadata": {},
     "output_type": "execute_result"
    }
   ],
   "source": [
    "s.str.lower()"
   ]
  },
  {
   "cell_type": "code",
   "execution_count": 73,
   "metadata": {
    "collapsed": true
   },
   "outputs": [],
   "source": [
    "df = pd.DataFrame(np.random.randn(10, 4))"
   ]
  },
  {
   "cell_type": "code",
   "execution_count": 74,
   "metadata": {
    "collapsed": false
   },
   "outputs": [
    {
     "data": {
      "text/html": [
       "<div>\n",
       "<table border=\"1\" class=\"dataframe\">\n",
       "  <thead>\n",
       "    <tr style=\"text-align: right;\">\n",
       "      <th></th>\n",
       "      <th>0</th>\n",
       "      <th>1</th>\n",
       "      <th>2</th>\n",
       "      <th>3</th>\n",
       "    </tr>\n",
       "  </thead>\n",
       "  <tbody>\n",
       "    <tr>\n",
       "      <th>0</th>\n",
       "      <td>0.288582</td>\n",
       "      <td>1.729575</td>\n",
       "      <td>0.282963</td>\n",
       "      <td>0.890097</td>\n",
       "    </tr>\n",
       "    <tr>\n",
       "      <th>1</th>\n",
       "      <td>0.660435</td>\n",
       "      <td>-1.548608</td>\n",
       "      <td>-0.193463</td>\n",
       "      <td>0.586756</td>\n",
       "    </tr>\n",
       "    <tr>\n",
       "      <th>2</th>\n",
       "      <td>-0.164238</td>\n",
       "      <td>-0.792997</td>\n",
       "      <td>0.944416</td>\n",
       "      <td>-0.728042</td>\n",
       "    </tr>\n",
       "    <tr>\n",
       "      <th>3</th>\n",
       "      <td>-0.593603</td>\n",
       "      <td>0.038868</td>\n",
       "      <td>0.093910</td>\n",
       "      <td>0.100717</td>\n",
       "    </tr>\n",
       "    <tr>\n",
       "      <th>4</th>\n",
       "      <td>-0.220005</td>\n",
       "      <td>-0.936033</td>\n",
       "      <td>-1.845436</td>\n",
       "      <td>-0.113558</td>\n",
       "    </tr>\n",
       "    <tr>\n",
       "      <th>5</th>\n",
       "      <td>1.713938</td>\n",
       "      <td>-0.596728</td>\n",
       "      <td>-0.385038</td>\n",
       "      <td>-1.143621</td>\n",
       "    </tr>\n",
       "    <tr>\n",
       "      <th>6</th>\n",
       "      <td>-1.190933</td>\n",
       "      <td>0.863845</td>\n",
       "      <td>0.792658</td>\n",
       "      <td>-1.524841</td>\n",
       "    </tr>\n",
       "    <tr>\n",
       "      <th>7</th>\n",
       "      <td>-0.405555</td>\n",
       "      <td>-0.596216</td>\n",
       "      <td>-0.521725</td>\n",
       "      <td>-0.009437</td>\n",
       "    </tr>\n",
       "    <tr>\n",
       "      <th>8</th>\n",
       "      <td>-1.099079</td>\n",
       "      <td>0.424075</td>\n",
       "      <td>0.322014</td>\n",
       "      <td>1.392580</td>\n",
       "    </tr>\n",
       "    <tr>\n",
       "      <th>9</th>\n",
       "      <td>1.933372</td>\n",
       "      <td>1.272387</td>\n",
       "      <td>-0.306589</td>\n",
       "      <td>1.106694</td>\n",
       "    </tr>\n",
       "  </tbody>\n",
       "</table>\n",
       "</div>"
      ],
      "text/plain": [
       "          0         1         2         3\n",
       "0  0.288582  1.729575  0.282963  0.890097\n",
       "1  0.660435 -1.548608 -0.193463  0.586756\n",
       "2 -0.164238 -0.792997  0.944416 -0.728042\n",
       "3 -0.593603  0.038868  0.093910  0.100717\n",
       "4 -0.220005 -0.936033 -1.845436 -0.113558\n",
       "5  1.713938 -0.596728 -0.385038 -1.143621\n",
       "6 -1.190933  0.863845  0.792658 -1.524841\n",
       "7 -0.405555 -0.596216 -0.521725 -0.009437\n",
       "8 -1.099079  0.424075  0.322014  1.392580\n",
       "9  1.933372  1.272387 -0.306589  1.106694"
      ]
     },
     "execution_count": 74,
     "metadata": {},
     "output_type": "execute_result"
    }
   ],
   "source": [
    "df"
   ]
  },
  {
   "cell_type": "code",
   "execution_count": 75,
   "metadata": {
    "collapsed": true
   },
   "outputs": [],
   "source": [
    "pieces = [df[:3], df[3:7], df[7:]]"
   ]
  },
  {
   "cell_type": "code",
   "execution_count": 76,
   "metadata": {
    "collapsed": false
   },
   "outputs": [
    {
     "data": {
      "text/html": [
       "<div>\n",
       "<table border=\"1\" class=\"dataframe\">\n",
       "  <thead>\n",
       "    <tr style=\"text-align: right;\">\n",
       "      <th></th>\n",
       "      <th>0</th>\n",
       "      <th>1</th>\n",
       "      <th>2</th>\n",
       "      <th>3</th>\n",
       "    </tr>\n",
       "  </thead>\n",
       "  <tbody>\n",
       "    <tr>\n",
       "      <th>0</th>\n",
       "      <td>0.288582</td>\n",
       "      <td>1.729575</td>\n",
       "      <td>0.282963</td>\n",
       "      <td>0.890097</td>\n",
       "    </tr>\n",
       "    <tr>\n",
       "      <th>1</th>\n",
       "      <td>0.660435</td>\n",
       "      <td>-1.548608</td>\n",
       "      <td>-0.193463</td>\n",
       "      <td>0.586756</td>\n",
       "    </tr>\n",
       "    <tr>\n",
       "      <th>2</th>\n",
       "      <td>-0.164238</td>\n",
       "      <td>-0.792997</td>\n",
       "      <td>0.944416</td>\n",
       "      <td>-0.728042</td>\n",
       "    </tr>\n",
       "    <tr>\n",
       "      <th>3</th>\n",
       "      <td>-0.593603</td>\n",
       "      <td>0.038868</td>\n",
       "      <td>0.093910</td>\n",
       "      <td>0.100717</td>\n",
       "    </tr>\n",
       "    <tr>\n",
       "      <th>4</th>\n",
       "      <td>-0.220005</td>\n",
       "      <td>-0.936033</td>\n",
       "      <td>-1.845436</td>\n",
       "      <td>-0.113558</td>\n",
       "    </tr>\n",
       "    <tr>\n",
       "      <th>5</th>\n",
       "      <td>1.713938</td>\n",
       "      <td>-0.596728</td>\n",
       "      <td>-0.385038</td>\n",
       "      <td>-1.143621</td>\n",
       "    </tr>\n",
       "    <tr>\n",
       "      <th>6</th>\n",
       "      <td>-1.190933</td>\n",
       "      <td>0.863845</td>\n",
       "      <td>0.792658</td>\n",
       "      <td>-1.524841</td>\n",
       "    </tr>\n",
       "    <tr>\n",
       "      <th>7</th>\n",
       "      <td>-0.405555</td>\n",
       "      <td>-0.596216</td>\n",
       "      <td>-0.521725</td>\n",
       "      <td>-0.009437</td>\n",
       "    </tr>\n",
       "    <tr>\n",
       "      <th>8</th>\n",
       "      <td>-1.099079</td>\n",
       "      <td>0.424075</td>\n",
       "      <td>0.322014</td>\n",
       "      <td>1.392580</td>\n",
       "    </tr>\n",
       "    <tr>\n",
       "      <th>9</th>\n",
       "      <td>1.933372</td>\n",
       "      <td>1.272387</td>\n",
       "      <td>-0.306589</td>\n",
       "      <td>1.106694</td>\n",
       "    </tr>\n",
       "  </tbody>\n",
       "</table>\n",
       "</div>"
      ],
      "text/plain": [
       "          0         1         2         3\n",
       "0  0.288582  1.729575  0.282963  0.890097\n",
       "1  0.660435 -1.548608 -0.193463  0.586756\n",
       "2 -0.164238 -0.792997  0.944416 -0.728042\n",
       "3 -0.593603  0.038868  0.093910  0.100717\n",
       "4 -0.220005 -0.936033 -1.845436 -0.113558\n",
       "5  1.713938 -0.596728 -0.385038 -1.143621\n",
       "6 -1.190933  0.863845  0.792658 -1.524841\n",
       "7 -0.405555 -0.596216 -0.521725 -0.009437\n",
       "8 -1.099079  0.424075  0.322014  1.392580\n",
       "9  1.933372  1.272387 -0.306589  1.106694"
      ]
     },
     "execution_count": 76,
     "metadata": {},
     "output_type": "execute_result"
    }
   ],
   "source": [
    "pd.concat(pieces)"
   ]
  },
  {
   "cell_type": "code",
   "execution_count": 77,
   "metadata": {
    "collapsed": true
   },
   "outputs": [],
   "source": [
    "left = pd.DataFrame({'key': ['foo', 'foo'], 'lval': [1, 2]})"
   ]
  },
  {
   "cell_type": "code",
   "execution_count": 78,
   "metadata": {
    "collapsed": true
   },
   "outputs": [],
   "source": [
    "right = pd.DataFrame({'key': ['foo', 'foo'], 'rval': [4, 5]})"
   ]
  },
  {
   "cell_type": "code",
   "execution_count": 79,
   "metadata": {
    "collapsed": false
   },
   "outputs": [
    {
     "data": {
      "text/html": [
       "<div>\n",
       "<table border=\"1\" class=\"dataframe\">\n",
       "  <thead>\n",
       "    <tr style=\"text-align: right;\">\n",
       "      <th></th>\n",
       "      <th>key</th>\n",
       "      <th>lval</th>\n",
       "    </tr>\n",
       "  </thead>\n",
       "  <tbody>\n",
       "    <tr>\n",
       "      <th>0</th>\n",
       "      <td>foo</td>\n",
       "      <td>1</td>\n",
       "    </tr>\n",
       "    <tr>\n",
       "      <th>1</th>\n",
       "      <td>foo</td>\n",
       "      <td>2</td>\n",
       "    </tr>\n",
       "  </tbody>\n",
       "</table>\n",
       "</div>"
      ],
      "text/plain": [
       "   key  lval\n",
       "0  foo     1\n",
       "1  foo     2"
      ]
     },
     "execution_count": 79,
     "metadata": {},
     "output_type": "execute_result"
    }
   ],
   "source": [
    "left"
   ]
  },
  {
   "cell_type": "code",
   "execution_count": 80,
   "metadata": {
    "collapsed": false
   },
   "outputs": [
    {
     "data": {
      "text/html": [
       "<div>\n",
       "<table border=\"1\" class=\"dataframe\">\n",
       "  <thead>\n",
       "    <tr style=\"text-align: right;\">\n",
       "      <th></th>\n",
       "      <th>key</th>\n",
       "      <th>rval</th>\n",
       "    </tr>\n",
       "  </thead>\n",
       "  <tbody>\n",
       "    <tr>\n",
       "      <th>0</th>\n",
       "      <td>foo</td>\n",
       "      <td>4</td>\n",
       "    </tr>\n",
       "    <tr>\n",
       "      <th>1</th>\n",
       "      <td>foo</td>\n",
       "      <td>5</td>\n",
       "    </tr>\n",
       "  </tbody>\n",
       "</table>\n",
       "</div>"
      ],
      "text/plain": [
       "   key  rval\n",
       "0  foo     4\n",
       "1  foo     5"
      ]
     },
     "execution_count": 80,
     "metadata": {},
     "output_type": "execute_result"
    }
   ],
   "source": [
    "right"
   ]
  },
  {
   "cell_type": "code",
   "execution_count": 81,
   "metadata": {
    "collapsed": false
   },
   "outputs": [
    {
     "data": {
      "text/html": [
       "<div>\n",
       "<table border=\"1\" class=\"dataframe\">\n",
       "  <thead>\n",
       "    <tr style=\"text-align: right;\">\n",
       "      <th></th>\n",
       "      <th>key</th>\n",
       "      <th>lval</th>\n",
       "      <th>rval</th>\n",
       "    </tr>\n",
       "  </thead>\n",
       "  <tbody>\n",
       "    <tr>\n",
       "      <th>0</th>\n",
       "      <td>foo</td>\n",
       "      <td>1</td>\n",
       "      <td>4</td>\n",
       "    </tr>\n",
       "    <tr>\n",
       "      <th>1</th>\n",
       "      <td>foo</td>\n",
       "      <td>1</td>\n",
       "      <td>5</td>\n",
       "    </tr>\n",
       "    <tr>\n",
       "      <th>2</th>\n",
       "      <td>foo</td>\n",
       "      <td>2</td>\n",
       "      <td>4</td>\n",
       "    </tr>\n",
       "    <tr>\n",
       "      <th>3</th>\n",
       "      <td>foo</td>\n",
       "      <td>2</td>\n",
       "      <td>5</td>\n",
       "    </tr>\n",
       "  </tbody>\n",
       "</table>\n",
       "</div>"
      ],
      "text/plain": [
       "   key  lval  rval\n",
       "0  foo     1     4\n",
       "1  foo     1     5\n",
       "2  foo     2     4\n",
       "3  foo     2     5"
      ]
     },
     "execution_count": 81,
     "metadata": {},
     "output_type": "execute_result"
    }
   ],
   "source": [
    "pd.merge(left, right, on='key')"
   ]
  },
  {
   "cell_type": "code",
   "execution_count": 82,
   "metadata": {
    "collapsed": true
   },
   "outputs": [],
   "source": [
    "df = pd.DataFrame(np.random.randn(8, 4), columns=['A','B','C','D'])"
   ]
  },
  {
   "cell_type": "code",
   "execution_count": 83,
   "metadata": {
    "collapsed": false
   },
   "outputs": [
    {
     "data": {
      "text/html": [
       "<div>\n",
       "<table border=\"1\" class=\"dataframe\">\n",
       "  <thead>\n",
       "    <tr style=\"text-align: right;\">\n",
       "      <th></th>\n",
       "      <th>A</th>\n",
       "      <th>B</th>\n",
       "      <th>C</th>\n",
       "      <th>D</th>\n",
       "    </tr>\n",
       "  </thead>\n",
       "  <tbody>\n",
       "    <tr>\n",
       "      <th>0</th>\n",
       "      <td>-0.477758</td>\n",
       "      <td>-0.010911</td>\n",
       "      <td>0.382816</td>\n",
       "      <td>-0.362028</td>\n",
       "    </tr>\n",
       "    <tr>\n",
       "      <th>1</th>\n",
       "      <td>1.255972</td>\n",
       "      <td>0.160663</td>\n",
       "      <td>1.901620</td>\n",
       "      <td>-0.041863</td>\n",
       "    </tr>\n",
       "    <tr>\n",
       "      <th>2</th>\n",
       "      <td>0.872562</td>\n",
       "      <td>-0.059692</td>\n",
       "      <td>-1.279824</td>\n",
       "      <td>0.641284</td>\n",
       "    </tr>\n",
       "    <tr>\n",
       "      <th>3</th>\n",
       "      <td>1.236204</td>\n",
       "      <td>-0.404394</td>\n",
       "      <td>1.598555</td>\n",
       "      <td>-0.770311</td>\n",
       "    </tr>\n",
       "    <tr>\n",
       "      <th>4</th>\n",
       "      <td>-0.376488</td>\n",
       "      <td>0.297722</td>\n",
       "      <td>-1.458211</td>\n",
       "      <td>-0.005275</td>\n",
       "    </tr>\n",
       "    <tr>\n",
       "      <th>5</th>\n",
       "      <td>0.817383</td>\n",
       "      <td>-1.391037</td>\n",
       "      <td>-1.670626</td>\n",
       "      <td>0.601689</td>\n",
       "    </tr>\n",
       "    <tr>\n",
       "      <th>6</th>\n",
       "      <td>-1.231504</td>\n",
       "      <td>-1.435515</td>\n",
       "      <td>1.179011</td>\n",
       "      <td>-0.566869</td>\n",
       "    </tr>\n",
       "    <tr>\n",
       "      <th>7</th>\n",
       "      <td>0.810255</td>\n",
       "      <td>-0.284596</td>\n",
       "      <td>0.596403</td>\n",
       "      <td>-0.358429</td>\n",
       "    </tr>\n",
       "  </tbody>\n",
       "</table>\n",
       "</div>"
      ],
      "text/plain": [
       "          A         B         C         D\n",
       "0 -0.477758 -0.010911  0.382816 -0.362028\n",
       "1  1.255972  0.160663  1.901620 -0.041863\n",
       "2  0.872562 -0.059692 -1.279824  0.641284\n",
       "3  1.236204 -0.404394  1.598555 -0.770311\n",
       "4 -0.376488  0.297722 -1.458211 -0.005275\n",
       "5  0.817383 -1.391037 -1.670626  0.601689\n",
       "6 -1.231504 -1.435515  1.179011 -0.566869\n",
       "7  0.810255 -0.284596  0.596403 -0.358429"
      ]
     },
     "execution_count": 83,
     "metadata": {},
     "output_type": "execute_result"
    }
   ],
   "source": [
    "df"
   ]
  },
  {
   "cell_type": "code",
   "execution_count": 84,
   "metadata": {
    "collapsed": true
   },
   "outputs": [],
   "source": [
    "s = df.iloc[3]"
   ]
  },
  {
   "cell_type": "code",
   "execution_count": 85,
   "metadata": {
    "collapsed": false
   },
   "outputs": [
    {
     "data": {
      "text/html": [
       "<div>\n",
       "<table border=\"1\" class=\"dataframe\">\n",
       "  <thead>\n",
       "    <tr style=\"text-align: right;\">\n",
       "      <th></th>\n",
       "      <th>A</th>\n",
       "      <th>B</th>\n",
       "      <th>C</th>\n",
       "      <th>D</th>\n",
       "    </tr>\n",
       "  </thead>\n",
       "  <tbody>\n",
       "    <tr>\n",
       "      <th>0</th>\n",
       "      <td>-0.477758</td>\n",
       "      <td>-0.010911</td>\n",
       "      <td>0.382816</td>\n",
       "      <td>-0.362028</td>\n",
       "    </tr>\n",
       "    <tr>\n",
       "      <th>1</th>\n",
       "      <td>1.255972</td>\n",
       "      <td>0.160663</td>\n",
       "      <td>1.901620</td>\n",
       "      <td>-0.041863</td>\n",
       "    </tr>\n",
       "    <tr>\n",
       "      <th>2</th>\n",
       "      <td>0.872562</td>\n",
       "      <td>-0.059692</td>\n",
       "      <td>-1.279824</td>\n",
       "      <td>0.641284</td>\n",
       "    </tr>\n",
       "    <tr>\n",
       "      <th>3</th>\n",
       "      <td>1.236204</td>\n",
       "      <td>-0.404394</td>\n",
       "      <td>1.598555</td>\n",
       "      <td>-0.770311</td>\n",
       "    </tr>\n",
       "    <tr>\n",
       "      <th>4</th>\n",
       "      <td>-0.376488</td>\n",
       "      <td>0.297722</td>\n",
       "      <td>-1.458211</td>\n",
       "      <td>-0.005275</td>\n",
       "    </tr>\n",
       "    <tr>\n",
       "      <th>5</th>\n",
       "      <td>0.817383</td>\n",
       "      <td>-1.391037</td>\n",
       "      <td>-1.670626</td>\n",
       "      <td>0.601689</td>\n",
       "    </tr>\n",
       "    <tr>\n",
       "      <th>6</th>\n",
       "      <td>-1.231504</td>\n",
       "      <td>-1.435515</td>\n",
       "      <td>1.179011</td>\n",
       "      <td>-0.566869</td>\n",
       "    </tr>\n",
       "    <tr>\n",
       "      <th>7</th>\n",
       "      <td>0.810255</td>\n",
       "      <td>-0.284596</td>\n",
       "      <td>0.596403</td>\n",
       "      <td>-0.358429</td>\n",
       "    </tr>\n",
       "    <tr>\n",
       "      <th>8</th>\n",
       "      <td>1.236204</td>\n",
       "      <td>-0.404394</td>\n",
       "      <td>1.598555</td>\n",
       "      <td>-0.770311</td>\n",
       "    </tr>\n",
       "  </tbody>\n",
       "</table>\n",
       "</div>"
      ],
      "text/plain": [
       "          A         B         C         D\n",
       "0 -0.477758 -0.010911  0.382816 -0.362028\n",
       "1  1.255972  0.160663  1.901620 -0.041863\n",
       "2  0.872562 -0.059692 -1.279824  0.641284\n",
       "3  1.236204 -0.404394  1.598555 -0.770311\n",
       "4 -0.376488  0.297722 -1.458211 -0.005275\n",
       "5  0.817383 -1.391037 -1.670626  0.601689\n",
       "6 -1.231504 -1.435515  1.179011 -0.566869\n",
       "7  0.810255 -0.284596  0.596403 -0.358429\n",
       "8  1.236204 -0.404394  1.598555 -0.770311"
      ]
     },
     "execution_count": 85,
     "metadata": {},
     "output_type": "execute_result"
    }
   ],
   "source": [
    "df.append(s, ignore_index=True)"
   ]
  },
  {
   "cell_type": "code",
   "execution_count": 86,
   "metadata": {
    "collapsed": true
   },
   "outputs": [],
   "source": [
    "df = pd.DataFrame({'A' : ['foo', 'bar', 'foo', 'bar',\n",
    "                            'foo', 'bar', 'foo', 'foo'],\n",
    "                    'B' : ['one', 'one', 'two', 'three',\n",
    "                            'two', 'two', 'one', 'three'],\n",
    "                    'C' : np.random.randn(8),\n",
    "                    'D' : np.random.randn(8)})"
   ]
  },
  {
   "cell_type": "code",
   "execution_count": 87,
   "metadata": {
    "collapsed": false
   },
   "outputs": [
    {
     "data": {
      "text/html": [
       "<div>\n",
       "<table border=\"1\" class=\"dataframe\">\n",
       "  <thead>\n",
       "    <tr style=\"text-align: right;\">\n",
       "      <th></th>\n",
       "      <th>A</th>\n",
       "      <th>B</th>\n",
       "      <th>C</th>\n",
       "      <th>D</th>\n",
       "    </tr>\n",
       "  </thead>\n",
       "  <tbody>\n",
       "    <tr>\n",
       "      <th>0</th>\n",
       "      <td>foo</td>\n",
       "      <td>one</td>\n",
       "      <td>0.439225</td>\n",
       "      <td>1.540637</td>\n",
       "    </tr>\n",
       "    <tr>\n",
       "      <th>1</th>\n",
       "      <td>bar</td>\n",
       "      <td>one</td>\n",
       "      <td>0.607508</td>\n",
       "      <td>-0.160075</td>\n",
       "    </tr>\n",
       "    <tr>\n",
       "      <th>2</th>\n",
       "      <td>foo</td>\n",
       "      <td>two</td>\n",
       "      <td>-0.179632</td>\n",
       "      <td>0.177545</td>\n",
       "    </tr>\n",
       "    <tr>\n",
       "      <th>3</th>\n",
       "      <td>bar</td>\n",
       "      <td>three</td>\n",
       "      <td>0.779358</td>\n",
       "      <td>-0.453204</td>\n",
       "    </tr>\n",
       "    <tr>\n",
       "      <th>4</th>\n",
       "      <td>foo</td>\n",
       "      <td>two</td>\n",
       "      <td>0.675787</td>\n",
       "      <td>0.678545</td>\n",
       "    </tr>\n",
       "    <tr>\n",
       "      <th>5</th>\n",
       "      <td>bar</td>\n",
       "      <td>two</td>\n",
       "      <td>0.139450</td>\n",
       "      <td>-1.460717</td>\n",
       "    </tr>\n",
       "    <tr>\n",
       "      <th>6</th>\n",
       "      <td>foo</td>\n",
       "      <td>one</td>\n",
       "      <td>-0.218886</td>\n",
       "      <td>2.999360</td>\n",
       "    </tr>\n",
       "    <tr>\n",
       "      <th>7</th>\n",
       "      <td>foo</td>\n",
       "      <td>three</td>\n",
       "      <td>0.520531</td>\n",
       "      <td>-0.987434</td>\n",
       "    </tr>\n",
       "  </tbody>\n",
       "</table>\n",
       "</div>"
      ],
      "text/plain": [
       "     A      B         C         D\n",
       "0  foo    one  0.439225  1.540637\n",
       "1  bar    one  0.607508 -0.160075\n",
       "2  foo    two -0.179632  0.177545\n",
       "3  bar  three  0.779358 -0.453204\n",
       "4  foo    two  0.675787  0.678545\n",
       "5  bar    two  0.139450 -1.460717\n",
       "6  foo    one -0.218886  2.999360\n",
       "7  foo  three  0.520531 -0.987434"
      ]
     },
     "execution_count": 87,
     "metadata": {},
     "output_type": "execute_result"
    }
   ],
   "source": [
    "df"
   ]
  },
  {
   "cell_type": "code",
   "execution_count": 88,
   "metadata": {
    "collapsed": false
   },
   "outputs": [
    {
     "data": {
      "text/html": [
       "<div>\n",
       "<table border=\"1\" class=\"dataframe\">\n",
       "  <thead>\n",
       "    <tr style=\"text-align: right;\">\n",
       "      <th></th>\n",
       "      <th>C</th>\n",
       "      <th>D</th>\n",
       "    </tr>\n",
       "    <tr>\n",
       "      <th>A</th>\n",
       "      <th></th>\n",
       "      <th></th>\n",
       "    </tr>\n",
       "  </thead>\n",
       "  <tbody>\n",
       "    <tr>\n",
       "      <th>bar</th>\n",
       "      <td>1.526316</td>\n",
       "      <td>-2.073996</td>\n",
       "    </tr>\n",
       "    <tr>\n",
       "      <th>foo</th>\n",
       "      <td>1.237025</td>\n",
       "      <td>4.408654</td>\n",
       "    </tr>\n",
       "  </tbody>\n",
       "</table>\n",
       "</div>"
      ],
      "text/plain": [
       "            C         D\n",
       "A                      \n",
       "bar  1.526316 -2.073996\n",
       "foo  1.237025  4.408654"
      ]
     },
     "execution_count": 88,
     "metadata": {},
     "output_type": "execute_result"
    }
   ],
   "source": [
    "df.groupby('A').sum()"
   ]
  },
  {
   "cell_type": "code",
   "execution_count": 89,
   "metadata": {
    "collapsed": false
   },
   "outputs": [
    {
     "data": {
      "text/html": [
       "<div>\n",
       "<table border=\"1\" class=\"dataframe\">\n",
       "  <thead>\n",
       "    <tr style=\"text-align: right;\">\n",
       "      <th></th>\n",
       "      <th></th>\n",
       "      <th>C</th>\n",
       "      <th>D</th>\n",
       "    </tr>\n",
       "    <tr>\n",
       "      <th>A</th>\n",
       "      <th>B</th>\n",
       "      <th></th>\n",
       "      <th></th>\n",
       "    </tr>\n",
       "  </thead>\n",
       "  <tbody>\n",
       "    <tr>\n",
       "      <th rowspan=\"3\" valign=\"top\">bar</th>\n",
       "      <th>one</th>\n",
       "      <td>0.607508</td>\n",
       "      <td>-0.160075</td>\n",
       "    </tr>\n",
       "    <tr>\n",
       "      <th>three</th>\n",
       "      <td>0.779358</td>\n",
       "      <td>-0.453204</td>\n",
       "    </tr>\n",
       "    <tr>\n",
       "      <th>two</th>\n",
       "      <td>0.139450</td>\n",
       "      <td>-1.460717</td>\n",
       "    </tr>\n",
       "    <tr>\n",
       "      <th rowspan=\"3\" valign=\"top\">foo</th>\n",
       "      <th>one</th>\n",
       "      <td>0.220339</td>\n",
       "      <td>4.539997</td>\n",
       "    </tr>\n",
       "    <tr>\n",
       "      <th>three</th>\n",
       "      <td>0.520531</td>\n",
       "      <td>-0.987434</td>\n",
       "    </tr>\n",
       "    <tr>\n",
       "      <th>two</th>\n",
       "      <td>0.496155</td>\n",
       "      <td>0.856091</td>\n",
       "    </tr>\n",
       "  </tbody>\n",
       "</table>\n",
       "</div>"
      ],
      "text/plain": [
       "                  C         D\n",
       "A   B                        \n",
       "bar one    0.607508 -0.160075\n",
       "    three  0.779358 -0.453204\n",
       "    two    0.139450 -1.460717\n",
       "foo one    0.220339  4.539997\n",
       "    three  0.520531 -0.987434\n",
       "    two    0.496155  0.856091"
      ]
     },
     "execution_count": 89,
     "metadata": {},
     "output_type": "execute_result"
    }
   ],
   "source": [
    "df.groupby(['A','B']).sum()"
   ]
  },
  {
   "cell_type": "code",
   "execution_count": 90,
   "metadata": {
    "collapsed": true
   },
   "outputs": [],
   "source": [
    "tuples = list(zip(*[['bar', 'bar', 'baz', 'baz',\n",
    "                    'foo', 'foo', 'qux', 'qux'],\n",
    "                    ['one', 'two', 'one', 'two',\n",
    "                    'one', 'two', 'one', 'two']]))"
   ]
  },
  {
   "cell_type": "code",
   "execution_count": 91,
   "metadata": {
    "collapsed": true
   },
   "outputs": [],
   "source": [
    "index = pd.MultiIndex.from_tuples(tuples, names=['first', 'second'])"
   ]
  },
  {
   "cell_type": "code",
   "execution_count": 92,
   "metadata": {
    "collapsed": true
   },
   "outputs": [],
   "source": [
    "df = pd.DataFrame(np.random.randn(8, 2), index=index, columns=['A', 'B'])"
   ]
  },
  {
   "cell_type": "code",
   "execution_count": 93,
   "metadata": {
    "collapsed": true
   },
   "outputs": [],
   "source": [
    "df2 = df[:4]"
   ]
  },
  {
   "cell_type": "code",
   "execution_count": 94,
   "metadata": {
    "collapsed": false
   },
   "outputs": [
    {
     "data": {
      "text/html": [
       "<div>\n",
       "<table border=\"1\" class=\"dataframe\">\n",
       "  <thead>\n",
       "    <tr style=\"text-align: right;\">\n",
       "      <th></th>\n",
       "      <th></th>\n",
       "      <th>A</th>\n",
       "      <th>B</th>\n",
       "    </tr>\n",
       "    <tr>\n",
       "      <th>first</th>\n",
       "      <th>second</th>\n",
       "      <th></th>\n",
       "      <th></th>\n",
       "    </tr>\n",
       "  </thead>\n",
       "  <tbody>\n",
       "    <tr>\n",
       "      <th rowspan=\"2\" valign=\"top\">bar</th>\n",
       "      <th>one</th>\n",
       "      <td>1.299013</td>\n",
       "      <td>0.293092</td>\n",
       "    </tr>\n",
       "    <tr>\n",
       "      <th>two</th>\n",
       "      <td>1.949414</td>\n",
       "      <td>0.512387</td>\n",
       "    </tr>\n",
       "    <tr>\n",
       "      <th rowspan=\"2\" valign=\"top\">baz</th>\n",
       "      <th>one</th>\n",
       "      <td>0.267328</td>\n",
       "      <td>-0.059476</td>\n",
       "    </tr>\n",
       "    <tr>\n",
       "      <th>two</th>\n",
       "      <td>0.479537</td>\n",
       "      <td>-0.715786</td>\n",
       "    </tr>\n",
       "  </tbody>\n",
       "</table>\n",
       "</div>"
      ],
      "text/plain": [
       "                     A         B\n",
       "first second                    \n",
       "bar   one     1.299013  0.293092\n",
       "      two     1.949414  0.512387\n",
       "baz   one     0.267328 -0.059476\n",
       "      two     0.479537 -0.715786"
      ]
     },
     "execution_count": 94,
     "metadata": {},
     "output_type": "execute_result"
    }
   ],
   "source": [
    "df2"
   ]
  },
  {
   "cell_type": "code",
   "execution_count": 95,
   "metadata": {
    "collapsed": true
   },
   "outputs": [],
   "source": [
    "stacked = df2.stack()"
   ]
  },
  {
   "cell_type": "code",
   "execution_count": 96,
   "metadata": {
    "collapsed": false
   },
   "outputs": [
    {
     "data": {
      "text/plain": [
       "first  second   \n",
       "bar    one     A    1.299013\n",
       "               B    0.293092\n",
       "       two     A    1.949414\n",
       "               B    0.512387\n",
       "baz    one     A    0.267328\n",
       "               B   -0.059476\n",
       "       two     A    0.479537\n",
       "               B   -0.715786\n",
       "dtype: float64"
      ]
     },
     "execution_count": 96,
     "metadata": {},
     "output_type": "execute_result"
    }
   ],
   "source": [
    "stacked"
   ]
  },
  {
   "cell_type": "code",
   "execution_count": 97,
   "metadata": {
    "collapsed": false
   },
   "outputs": [
    {
     "data": {
      "text/html": [
       "<div>\n",
       "<table border=\"1\" class=\"dataframe\">\n",
       "  <thead>\n",
       "    <tr style=\"text-align: right;\">\n",
       "      <th></th>\n",
       "      <th></th>\n",
       "      <th>A</th>\n",
       "      <th>B</th>\n",
       "    </tr>\n",
       "    <tr>\n",
       "      <th>first</th>\n",
       "      <th>second</th>\n",
       "      <th></th>\n",
       "      <th></th>\n",
       "    </tr>\n",
       "  </thead>\n",
       "  <tbody>\n",
       "    <tr>\n",
       "      <th rowspan=\"2\" valign=\"top\">bar</th>\n",
       "      <th>one</th>\n",
       "      <td>1.299013</td>\n",
       "      <td>0.293092</td>\n",
       "    </tr>\n",
       "    <tr>\n",
       "      <th>two</th>\n",
       "      <td>1.949414</td>\n",
       "      <td>0.512387</td>\n",
       "    </tr>\n",
       "    <tr>\n",
       "      <th rowspan=\"2\" valign=\"top\">baz</th>\n",
       "      <th>one</th>\n",
       "      <td>0.267328</td>\n",
       "      <td>-0.059476</td>\n",
       "    </tr>\n",
       "    <tr>\n",
       "      <th>two</th>\n",
       "      <td>0.479537</td>\n",
       "      <td>-0.715786</td>\n",
       "    </tr>\n",
       "  </tbody>\n",
       "</table>\n",
       "</div>"
      ],
      "text/plain": [
       "                     A         B\n",
       "first second                    \n",
       "bar   one     1.299013  0.293092\n",
       "      two     1.949414  0.512387\n",
       "baz   one     0.267328 -0.059476\n",
       "      two     0.479537 -0.715786"
      ]
     },
     "execution_count": 97,
     "metadata": {},
     "output_type": "execute_result"
    }
   ],
   "source": [
    "stacked.unstack()"
   ]
  },
  {
   "cell_type": "code",
   "execution_count": 98,
   "metadata": {
    "collapsed": false
   },
   "outputs": [
    {
     "data": {
      "text/html": [
       "<div>\n",
       "<table border=\"1\" class=\"dataframe\">\n",
       "  <thead>\n",
       "    <tr style=\"text-align: right;\">\n",
       "      <th></th>\n",
       "      <th>second</th>\n",
       "      <th>one</th>\n",
       "      <th>two</th>\n",
       "    </tr>\n",
       "    <tr>\n",
       "      <th>first</th>\n",
       "      <th></th>\n",
       "      <th></th>\n",
       "      <th></th>\n",
       "    </tr>\n",
       "  </thead>\n",
       "  <tbody>\n",
       "    <tr>\n",
       "      <th rowspan=\"2\" valign=\"top\">bar</th>\n",
       "      <th>A</th>\n",
       "      <td>1.299013</td>\n",
       "      <td>1.949414</td>\n",
       "    </tr>\n",
       "    <tr>\n",
       "      <th>B</th>\n",
       "      <td>0.293092</td>\n",
       "      <td>0.512387</td>\n",
       "    </tr>\n",
       "    <tr>\n",
       "      <th rowspan=\"2\" valign=\"top\">baz</th>\n",
       "      <th>A</th>\n",
       "      <td>0.267328</td>\n",
       "      <td>0.479537</td>\n",
       "    </tr>\n",
       "    <tr>\n",
       "      <th>B</th>\n",
       "      <td>-0.059476</td>\n",
       "      <td>-0.715786</td>\n",
       "    </tr>\n",
       "  </tbody>\n",
       "</table>\n",
       "</div>"
      ],
      "text/plain": [
       "second        one       two\n",
       "first                      \n",
       "bar   A  1.299013  1.949414\n",
       "      B  0.293092  0.512387\n",
       "baz   A  0.267328  0.479537\n",
       "      B -0.059476 -0.715786"
      ]
     },
     "execution_count": 98,
     "metadata": {},
     "output_type": "execute_result"
    }
   ],
   "source": [
    "stacked.unstack(1)"
   ]
  },
  {
   "cell_type": "code",
   "execution_count": 99,
   "metadata": {
    "collapsed": false
   },
   "outputs": [
    {
     "data": {
      "text/html": [
       "<div>\n",
       "<table border=\"1\" class=\"dataframe\">\n",
       "  <thead>\n",
       "    <tr style=\"text-align: right;\">\n",
       "      <th></th>\n",
       "      <th>first</th>\n",
       "      <th>bar</th>\n",
       "      <th>baz</th>\n",
       "    </tr>\n",
       "    <tr>\n",
       "      <th>second</th>\n",
       "      <th></th>\n",
       "      <th></th>\n",
       "      <th></th>\n",
       "    </tr>\n",
       "  </thead>\n",
       "  <tbody>\n",
       "    <tr>\n",
       "      <th rowspan=\"2\" valign=\"top\">one</th>\n",
       "      <th>A</th>\n",
       "      <td>1.299013</td>\n",
       "      <td>0.267328</td>\n",
       "    </tr>\n",
       "    <tr>\n",
       "      <th>B</th>\n",
       "      <td>0.293092</td>\n",
       "      <td>-0.059476</td>\n",
       "    </tr>\n",
       "    <tr>\n",
       "      <th rowspan=\"2\" valign=\"top\">two</th>\n",
       "      <th>A</th>\n",
       "      <td>1.949414</td>\n",
       "      <td>0.479537</td>\n",
       "    </tr>\n",
       "    <tr>\n",
       "      <th>B</th>\n",
       "      <td>0.512387</td>\n",
       "      <td>-0.715786</td>\n",
       "    </tr>\n",
       "  </tbody>\n",
       "</table>\n",
       "</div>"
      ],
      "text/plain": [
       "first          bar       baz\n",
       "second                      \n",
       "one    A  1.299013  0.267328\n",
       "       B  0.293092 -0.059476\n",
       "two    A  1.949414  0.479537\n",
       "       B  0.512387 -0.715786"
      ]
     },
     "execution_count": 99,
     "metadata": {},
     "output_type": "execute_result"
    }
   ],
   "source": [
    "stacked.unstack(0)"
   ]
  },
  {
   "cell_type": "code",
   "execution_count": 100,
   "metadata": {
    "collapsed": true
   },
   "outputs": [],
   "source": [
    "df = pd.DataFrame({'A' : ['one', 'one', 'two', 'three'] * 3,\n",
    "                    'B' : ['A', 'B', 'C'] * 4,\n",
    "                    'C' : ['foo', 'foo', 'foo', 'bar', 'bar', 'bar'] * 2,\n",
    "                    'D' : np.random.randn(12),\n",
    "                    'E' : np.random.randn(12)})"
   ]
  },
  {
   "cell_type": "code",
   "execution_count": 101,
   "metadata": {
    "collapsed": false
   },
   "outputs": [
    {
     "data": {
      "text/html": [
       "<div>\n",
       "<table border=\"1\" class=\"dataframe\">\n",
       "  <thead>\n",
       "    <tr style=\"text-align: right;\">\n",
       "      <th></th>\n",
       "      <th>A</th>\n",
       "      <th>B</th>\n",
       "      <th>C</th>\n",
       "      <th>D</th>\n",
       "      <th>E</th>\n",
       "    </tr>\n",
       "  </thead>\n",
       "  <tbody>\n",
       "    <tr>\n",
       "      <th>0</th>\n",
       "      <td>one</td>\n",
       "      <td>A</td>\n",
       "      <td>foo</td>\n",
       "      <td>-1.983189</td>\n",
       "      <td>-0.447476</td>\n",
       "    </tr>\n",
       "    <tr>\n",
       "      <th>1</th>\n",
       "      <td>one</td>\n",
       "      <td>B</td>\n",
       "      <td>foo</td>\n",
       "      <td>-0.291405</td>\n",
       "      <td>-0.440978</td>\n",
       "    </tr>\n",
       "    <tr>\n",
       "      <th>2</th>\n",
       "      <td>two</td>\n",
       "      <td>C</td>\n",
       "      <td>foo</td>\n",
       "      <td>1.395505</td>\n",
       "      <td>1.501378</td>\n",
       "    </tr>\n",
       "    <tr>\n",
       "      <th>3</th>\n",
       "      <td>three</td>\n",
       "      <td>A</td>\n",
       "      <td>bar</td>\n",
       "      <td>-1.497897</td>\n",
       "      <td>0.969154</td>\n",
       "    </tr>\n",
       "    <tr>\n",
       "      <th>4</th>\n",
       "      <td>one</td>\n",
       "      <td>B</td>\n",
       "      <td>bar</td>\n",
       "      <td>0.540710</td>\n",
       "      <td>0.854187</td>\n",
       "    </tr>\n",
       "    <tr>\n",
       "      <th>5</th>\n",
       "      <td>one</td>\n",
       "      <td>C</td>\n",
       "      <td>bar</td>\n",
       "      <td>-1.516840</td>\n",
       "      <td>0.416362</td>\n",
       "    </tr>\n",
       "    <tr>\n",
       "      <th>6</th>\n",
       "      <td>two</td>\n",
       "      <td>A</td>\n",
       "      <td>foo</td>\n",
       "      <td>1.069464</td>\n",
       "      <td>1.166171</td>\n",
       "    </tr>\n",
       "    <tr>\n",
       "      <th>7</th>\n",
       "      <td>three</td>\n",
       "      <td>B</td>\n",
       "      <td>foo</td>\n",
       "      <td>-0.127908</td>\n",
       "      <td>-0.976170</td>\n",
       "    </tr>\n",
       "    <tr>\n",
       "      <th>8</th>\n",
       "      <td>one</td>\n",
       "      <td>C</td>\n",
       "      <td>foo</td>\n",
       "      <td>-1.725760</td>\n",
       "      <td>0.568707</td>\n",
       "    </tr>\n",
       "    <tr>\n",
       "      <th>9</th>\n",
       "      <td>one</td>\n",
       "      <td>A</td>\n",
       "      <td>bar</td>\n",
       "      <td>-0.599159</td>\n",
       "      <td>-0.225993</td>\n",
       "    </tr>\n",
       "    <tr>\n",
       "      <th>10</th>\n",
       "      <td>two</td>\n",
       "      <td>B</td>\n",
       "      <td>bar</td>\n",
       "      <td>-0.428666</td>\n",
       "      <td>-1.382062</td>\n",
       "    </tr>\n",
       "    <tr>\n",
       "      <th>11</th>\n",
       "      <td>three</td>\n",
       "      <td>C</td>\n",
       "      <td>bar</td>\n",
       "      <td>-0.230843</td>\n",
       "      <td>-0.031818</td>\n",
       "    </tr>\n",
       "  </tbody>\n",
       "</table>\n",
       "</div>"
      ],
      "text/plain": [
       "        A  B    C         D         E\n",
       "0     one  A  foo -1.983189 -0.447476\n",
       "1     one  B  foo -0.291405 -0.440978\n",
       "2     two  C  foo  1.395505  1.501378\n",
       "3   three  A  bar -1.497897  0.969154\n",
       "4     one  B  bar  0.540710  0.854187\n",
       "5     one  C  bar -1.516840  0.416362\n",
       "6     two  A  foo  1.069464  1.166171\n",
       "7   three  B  foo -0.127908 -0.976170\n",
       "8     one  C  foo -1.725760  0.568707\n",
       "9     one  A  bar -0.599159 -0.225993\n",
       "10    two  B  bar -0.428666 -1.382062\n",
       "11  three  C  bar -0.230843 -0.031818"
      ]
     },
     "execution_count": 101,
     "metadata": {},
     "output_type": "execute_result"
    }
   ],
   "source": [
    "df"
   ]
  },
  {
   "cell_type": "code",
   "execution_count": 102,
   "metadata": {
    "collapsed": false
   },
   "outputs": [
    {
     "data": {
      "text/html": [
       "<div>\n",
       "<table border=\"1\" class=\"dataframe\">\n",
       "  <thead>\n",
       "    <tr style=\"text-align: right;\">\n",
       "      <th></th>\n",
       "      <th>C</th>\n",
       "      <th>bar</th>\n",
       "      <th>foo</th>\n",
       "    </tr>\n",
       "    <tr>\n",
       "      <th>A</th>\n",
       "      <th>B</th>\n",
       "      <th></th>\n",
       "      <th></th>\n",
       "    </tr>\n",
       "  </thead>\n",
       "  <tbody>\n",
       "    <tr>\n",
       "      <th rowspan=\"3\" valign=\"top\">one</th>\n",
       "      <th>A</th>\n",
       "      <td>-0.599159</td>\n",
       "      <td>-1.983189</td>\n",
       "    </tr>\n",
       "    <tr>\n",
       "      <th>B</th>\n",
       "      <td>0.540710</td>\n",
       "      <td>-0.291405</td>\n",
       "    </tr>\n",
       "    <tr>\n",
       "      <th>C</th>\n",
       "      <td>-1.516840</td>\n",
       "      <td>-1.725760</td>\n",
       "    </tr>\n",
       "    <tr>\n",
       "      <th rowspan=\"3\" valign=\"top\">three</th>\n",
       "      <th>A</th>\n",
       "      <td>-1.497897</td>\n",
       "      <td>NaN</td>\n",
       "    </tr>\n",
       "    <tr>\n",
       "      <th>B</th>\n",
       "      <td>NaN</td>\n",
       "      <td>-0.127908</td>\n",
       "    </tr>\n",
       "    <tr>\n",
       "      <th>C</th>\n",
       "      <td>-0.230843</td>\n",
       "      <td>NaN</td>\n",
       "    </tr>\n",
       "    <tr>\n",
       "      <th rowspan=\"3\" valign=\"top\">two</th>\n",
       "      <th>A</th>\n",
       "      <td>NaN</td>\n",
       "      <td>1.069464</td>\n",
       "    </tr>\n",
       "    <tr>\n",
       "      <th>B</th>\n",
       "      <td>-0.428666</td>\n",
       "      <td>NaN</td>\n",
       "    </tr>\n",
       "    <tr>\n",
       "      <th>C</th>\n",
       "      <td>NaN</td>\n",
       "      <td>1.395505</td>\n",
       "    </tr>\n",
       "  </tbody>\n",
       "</table>\n",
       "</div>"
      ],
      "text/plain": [
       "C             bar       foo\n",
       "A     B                    \n",
       "one   A -0.599159 -1.983189\n",
       "      B  0.540710 -0.291405\n",
       "      C -1.516840 -1.725760\n",
       "three A -1.497897       NaN\n",
       "      B       NaN -0.127908\n",
       "      C -0.230843       NaN\n",
       "two   A       NaN  1.069464\n",
       "      B -0.428666       NaN\n",
       "      C       NaN  1.395505"
      ]
     },
     "execution_count": 102,
     "metadata": {},
     "output_type": "execute_result"
    }
   ],
   "source": [
    "pd.pivot_table(df, values='D', index=['A', 'B'], columns=['C'])"
   ]
  },
  {
   "cell_type": "code",
   "execution_count": 103,
   "metadata": {
    "collapsed": true
   },
   "outputs": [],
   "source": [
    "rng = pd.date_range('1/1/2012', periods=100, freq='S')"
   ]
  },
  {
   "cell_type": "code",
   "execution_count": 104,
   "metadata": {
    "collapsed": true
   },
   "outputs": [],
   "source": [
    "ts = pd.Series(np.random.randint(0, 500, len(rng)), index=rng)"
   ]
  },
  {
   "cell_type": "code",
   "execution_count": 105,
   "metadata": {
    "collapsed": false
   },
   "outputs": [
    {
     "data": {
      "text/plain": [
       "2012-01-01    25446\n",
       "Freq: 5T, dtype: int32"
      ]
     },
     "execution_count": 105,
     "metadata": {},
     "output_type": "execute_result"
    }
   ],
   "source": [
    "ts.resample('5Min').sum()"
   ]
  },
  {
   "cell_type": "code",
   "execution_count": 106,
   "metadata": {
    "collapsed": true
   },
   "outputs": [],
   "source": [
    "rng = pd.date_range('3/6/2012 00:00', periods=5, freq='D')"
   ]
  },
  {
   "cell_type": "code",
   "execution_count": 107,
   "metadata": {
    "collapsed": true
   },
   "outputs": [],
   "source": [
    "ts = pd.Series(np.random.randn(len(rng)), rng)"
   ]
  },
  {
   "cell_type": "code",
   "execution_count": 108,
   "metadata": {
    "collapsed": false
   },
   "outputs": [
    {
     "data": {
      "text/plain": [
       "2012-03-06   -0.673644\n",
       "2012-03-07    0.775660\n",
       "2012-03-08   -0.750924\n",
       "2012-03-09   -1.468760\n",
       "2012-03-10   -0.576187\n",
       "Freq: D, dtype: float64"
      ]
     },
     "execution_count": 108,
     "metadata": {},
     "output_type": "execute_result"
    }
   ],
   "source": [
    "ts"
   ]
  },
  {
   "cell_type": "code",
   "execution_count": 109,
   "metadata": {
    "collapsed": true
   },
   "outputs": [],
   "source": [
    "ts_utc = ts.tz_localize('UTC')"
   ]
  },
  {
   "cell_type": "code",
   "execution_count": 110,
   "metadata": {
    "collapsed": false
   },
   "outputs": [
    {
     "data": {
      "text/plain": [
       "2012-03-06 00:00:00+00:00   -0.673644\n",
       "2012-03-07 00:00:00+00:00    0.775660\n",
       "2012-03-08 00:00:00+00:00   -0.750924\n",
       "2012-03-09 00:00:00+00:00   -1.468760\n",
       "2012-03-10 00:00:00+00:00   -0.576187\n",
       "Freq: D, dtype: float64"
      ]
     },
     "execution_count": 110,
     "metadata": {},
     "output_type": "execute_result"
    }
   ],
   "source": [
    "ts_utc"
   ]
  },
  {
   "cell_type": "code",
   "execution_count": 111,
   "metadata": {
    "collapsed": false
   },
   "outputs": [
    {
     "data": {
      "text/plain": [
       "2012-03-05 19:00:00-05:00   -0.673644\n",
       "2012-03-06 19:00:00-05:00    0.775660\n",
       "2012-03-07 19:00:00-05:00   -0.750924\n",
       "2012-03-08 19:00:00-05:00   -1.468760\n",
       "2012-03-09 19:00:00-05:00   -0.576187\n",
       "Freq: D, dtype: float64"
      ]
     },
     "execution_count": 111,
     "metadata": {},
     "output_type": "execute_result"
    }
   ],
   "source": [
    "ts_utc.tz_convert('US/Eastern')"
   ]
  },
  {
   "cell_type": "code",
   "execution_count": 112,
   "metadata": {
    "collapsed": true
   },
   "outputs": [],
   "source": [
    "rng = pd.date_range('1/1/2012', periods=5, freq='M')"
   ]
  },
  {
   "cell_type": "code",
   "execution_count": 113,
   "metadata": {
    "collapsed": true
   },
   "outputs": [],
   "source": [
    "ts = pd.Series(np.random.randn(len(rng)), index=rng)"
   ]
  },
  {
   "cell_type": "code",
   "execution_count": 114,
   "metadata": {
    "collapsed": false
   },
   "outputs": [
    {
     "data": {
      "text/plain": [
       "2012-01-31   -0.667910\n",
       "2012-02-29    0.827453\n",
       "2012-03-31   -0.064627\n",
       "2012-04-30    1.745744\n",
       "2012-05-31    0.804139\n",
       "Freq: M, dtype: float64"
      ]
     },
     "execution_count": 114,
     "metadata": {},
     "output_type": "execute_result"
    }
   ],
   "source": [
    "ts"
   ]
  },
  {
   "cell_type": "code",
   "execution_count": 115,
   "metadata": {
    "collapsed": true
   },
   "outputs": [],
   "source": [
    "ps = ts.to_period()"
   ]
  },
  {
   "cell_type": "code",
   "execution_count": 116,
   "metadata": {
    "collapsed": false
   },
   "outputs": [
    {
     "data": {
      "text/plain": [
       "2012-01   -0.667910\n",
       "2012-02    0.827453\n",
       "2012-03   -0.064627\n",
       "2012-04    1.745744\n",
       "2012-05    0.804139\n",
       "Freq: M, dtype: float64"
      ]
     },
     "execution_count": 116,
     "metadata": {},
     "output_type": "execute_result"
    }
   ],
   "source": [
    "ps"
   ]
  },
  {
   "cell_type": "code",
   "execution_count": 117,
   "metadata": {
    "collapsed": false
   },
   "outputs": [
    {
     "data": {
      "text/plain": [
       "2012-01-01   -0.667910\n",
       "2012-02-01    0.827453\n",
       "2012-03-01   -0.064627\n",
       "2012-04-01    1.745744\n",
       "2012-05-01    0.804139\n",
       "Freq: MS, dtype: float64"
      ]
     },
     "execution_count": 117,
     "metadata": {},
     "output_type": "execute_result"
    }
   ],
   "source": [
    "ps.to_timestamp()"
   ]
  },
  {
   "cell_type": "code",
   "execution_count": 118,
   "metadata": {
    "collapsed": true
   },
   "outputs": [],
   "source": [
    "prng = pd.period_range('1990Q1', '2000Q4', freq='Q-NOV')"
   ]
  },
  {
   "cell_type": "code",
   "execution_count": 119,
   "metadata": {
    "collapsed": true
   },
   "outputs": [],
   "source": [
    "ts = pd.Series(np.random.randn(len(prng)), prng)"
   ]
  },
  {
   "cell_type": "code",
   "execution_count": 120,
   "metadata": {
    "collapsed": true
   },
   "outputs": [],
   "source": [
    "ts.index = (prng.asfreq('M', 'e') + 1).asfreq('H', 's') + 9"
   ]
  },
  {
   "cell_type": "code",
   "execution_count": 121,
   "metadata": {
    "collapsed": false
   },
   "outputs": [
    {
     "data": {
      "text/plain": [
       "1990-03-01 09:00   -0.560772\n",
       "1990-06-01 09:00    1.574855\n",
       "1990-09-01 09:00   -0.674105\n",
       "1990-12-01 09:00   -0.949071\n",
       "1991-03-01 09:00   -1.117714\n",
       "Freq: H, dtype: float64"
      ]
     },
     "execution_count": 121,
     "metadata": {},
     "output_type": "execute_result"
    }
   ],
   "source": [
    "ts.head()"
   ]
  },
  {
   "cell_type": "code",
   "execution_count": 122,
   "metadata": {
    "collapsed": true
   },
   "outputs": [],
   "source": [
    "df = pd.DataFrame({\"id\":[1,2,3,4,5,6], \"raw_grade\":['a', 'b', 'b', 'a', 'a', 'e']})"
   ]
  },
  {
   "cell_type": "code",
   "execution_count": 123,
   "metadata": {
    "collapsed": true
   },
   "outputs": [],
   "source": [
    "df[\"grade\"] = df[\"raw_grade\"].astype(\"category\")"
   ]
  },
  {
   "cell_type": "code",
   "execution_count": 124,
   "metadata": {
    "collapsed": false
   },
   "outputs": [
    {
     "data": {
      "text/plain": [
       "0    a\n",
       "1    b\n",
       "2    b\n",
       "3    a\n",
       "4    a\n",
       "5    e\n",
       "Name: grade, dtype: category\n",
       "Categories (3, object): [a, b, e]"
      ]
     },
     "execution_count": 124,
     "metadata": {},
     "output_type": "execute_result"
    }
   ],
   "source": [
    "df[\"grade\"]"
   ]
  },
  {
   "cell_type": "code",
   "execution_count": 125,
   "metadata": {
    "collapsed": true
   },
   "outputs": [],
   "source": [
    "df[\"grade\"].cat.categories = [\"very good\", \"good\", \"very bad\"]"
   ]
  },
  {
   "cell_type": "code",
   "execution_count": 126,
   "metadata": {
    "collapsed": true
   },
   "outputs": [],
   "source": [
    "df[\"grade\"] = df[\"grade\"].cat.set_categories([\"very bad\", \"bad\", \"medium\", \"good\", \"very good\"])"
   ]
  },
  {
   "cell_type": "code",
   "execution_count": 127,
   "metadata": {
    "collapsed": false
   },
   "outputs": [
    {
     "data": {
      "text/plain": [
       "0    very good\n",
       "1         good\n",
       "2         good\n",
       "3    very good\n",
       "4    very good\n",
       "5     very bad\n",
       "Name: grade, dtype: category\n",
       "Categories (5, object): [very bad, bad, medium, good, very good]"
      ]
     },
     "execution_count": 127,
     "metadata": {},
     "output_type": "execute_result"
    }
   ],
   "source": [
    "df[\"grade\"]"
   ]
  },
  {
   "cell_type": "code",
   "execution_count": 128,
   "metadata": {
    "collapsed": false
   },
   "outputs": [
    {
     "data": {
      "text/html": [
       "<div>\n",
       "<table border=\"1\" class=\"dataframe\">\n",
       "  <thead>\n",
       "    <tr style=\"text-align: right;\">\n",
       "      <th></th>\n",
       "      <th>id</th>\n",
       "      <th>raw_grade</th>\n",
       "      <th>grade</th>\n",
       "    </tr>\n",
       "  </thead>\n",
       "  <tbody>\n",
       "    <tr>\n",
       "      <th>5</th>\n",
       "      <td>6</td>\n",
       "      <td>e</td>\n",
       "      <td>very bad</td>\n",
       "    </tr>\n",
       "    <tr>\n",
       "      <th>1</th>\n",
       "      <td>2</td>\n",
       "      <td>b</td>\n",
       "      <td>good</td>\n",
       "    </tr>\n",
       "    <tr>\n",
       "      <th>2</th>\n",
       "      <td>3</td>\n",
       "      <td>b</td>\n",
       "      <td>good</td>\n",
       "    </tr>\n",
       "    <tr>\n",
       "      <th>0</th>\n",
       "      <td>1</td>\n",
       "      <td>a</td>\n",
       "      <td>very good</td>\n",
       "    </tr>\n",
       "    <tr>\n",
       "      <th>3</th>\n",
       "      <td>4</td>\n",
       "      <td>a</td>\n",
       "      <td>very good</td>\n",
       "    </tr>\n",
       "    <tr>\n",
       "      <th>4</th>\n",
       "      <td>5</td>\n",
       "      <td>a</td>\n",
       "      <td>very good</td>\n",
       "    </tr>\n",
       "  </tbody>\n",
       "</table>\n",
       "</div>"
      ],
      "text/plain": [
       "   id raw_grade      grade\n",
       "5   6         e   very bad\n",
       "1   2         b       good\n",
       "2   3         b       good\n",
       "0   1         a  very good\n",
       "3   4         a  very good\n",
       "4   5         a  very good"
      ]
     },
     "execution_count": 128,
     "metadata": {},
     "output_type": "execute_result"
    }
   ],
   "source": [
    "df.sort_values(by=\"grade\")"
   ]
  },
  {
   "cell_type": "code",
   "execution_count": 129,
   "metadata": {
    "collapsed": false
   },
   "outputs": [
    {
     "data": {
      "text/plain": [
       "grade\n",
       "very bad     1\n",
       "bad          0\n",
       "medium       0\n",
       "good         2\n",
       "very good    3\n",
       "dtype: int64"
      ]
     },
     "execution_count": 129,
     "metadata": {},
     "output_type": "execute_result"
    }
   ],
   "source": [
    "df.groupby(\"grade\").size()"
   ]
  },
  {
   "cell_type": "code",
   "execution_count": 130,
   "metadata": {
    "collapsed": true
   },
   "outputs": [],
   "source": [
    "ts = pd.Series(np.random.randn(1000), index=pd.date_range('1/1/2000', periods=1000))"
   ]
  },
  {
   "cell_type": "code",
   "execution_count": 131,
   "metadata": {
    "collapsed": true
   },
   "outputs": [],
   "source": [
    "ts = ts.cumsum()"
   ]
  },
  {
   "cell_type": "code",
   "execution_count": 132,
   "metadata": {
    "collapsed": false
   },
   "outputs": [
    {
     "data": {
      "text/plain": [
       "<matplotlib.axes._subplots.AxesSubplot at 0x821e198>"
      ]
     },
     "execution_count": 132,
     "metadata": {},
     "output_type": "execute_result"
    }
   ],
   "source": [
    "ts.plot()"
   ]
  },
  {
   "cell_type": "code",
   "execution_count": 133,
   "metadata": {
    "collapsed": true
   },
   "outputs": [],
   "source": [
    "df = pd.DataFrame(np.random.randn(1000, 4), index=ts.index,\n",
    "                    columns=['A', 'B', 'C', 'D'])"
   ]
  },
  {
   "cell_type": "code",
   "execution_count": 134,
   "metadata": {
    "collapsed": true
   },
   "outputs": [],
   "source": [
    "df = df.cumsum()"
   ]
  },
  {
   "cell_type": "code",
   "execution_count": 135,
   "metadata": {
    "collapsed": false
   },
   "outputs": [
    {
     "data": {
      "text/plain": [
       "<matplotlib.legend.Legend at 0x8f3c8d0>"
      ]
     },
     "execution_count": 135,
     "metadata": {},
     "output_type": "execute_result"
    }
   ],
   "source": [
    "plt.figure(); df.plot(); plt.legend(loc='best')"
   ]
  },
  {
   "cell_type": "code",
   "execution_count": 136,
   "metadata": {
    "collapsed": true
   },
   "outputs": [],
   "source": [
    "df.to_csv('foo.csv')"
   ]
  },
  {
   "cell_type": "code",
   "execution_count": 137,
   "metadata": {
    "collapsed": false
   },
   "outputs": [
    {
     "data": {
      "text/html": [
       "<div>\n",
       "<table border=\"1\" class=\"dataframe\">\n",
       "  <thead>\n",
       "    <tr style=\"text-align: right;\">\n",
       "      <th></th>\n",
       "      <th>Unnamed: 0</th>\n",
       "      <th>A</th>\n",
       "      <th>B</th>\n",
       "      <th>C</th>\n",
       "      <th>D</th>\n",
       "    </tr>\n",
       "  </thead>\n",
       "  <tbody>\n",
       "    <tr>\n",
       "      <th>0</th>\n",
       "      <td>2000-01-01</td>\n",
       "      <td>-0.919928</td>\n",
       "      <td>1.081738</td>\n",
       "      <td>-0.186911</td>\n",
       "      <td>0.739160</td>\n",
       "    </tr>\n",
       "    <tr>\n",
       "      <th>1</th>\n",
       "      <td>2000-01-02</td>\n",
       "      <td>-0.270961</td>\n",
       "      <td>1.963527</td>\n",
       "      <td>-0.631587</td>\n",
       "      <td>1.103502</td>\n",
       "    </tr>\n",
       "    <tr>\n",
       "      <th>2</th>\n",
       "      <td>2000-01-03</td>\n",
       "      <td>1.882641</td>\n",
       "      <td>1.855084</td>\n",
       "      <td>-0.800290</td>\n",
       "      <td>-0.113979</td>\n",
       "    </tr>\n",
       "    <tr>\n",
       "      <th>3</th>\n",
       "      <td>2000-01-04</td>\n",
       "      <td>2.851876</td>\n",
       "      <td>0.610934</td>\n",
       "      <td>1.256351</td>\n",
       "      <td>-0.436652</td>\n",
       "    </tr>\n",
       "    <tr>\n",
       "      <th>4</th>\n",
       "      <td>2000-01-05</td>\n",
       "      <td>2.892188</td>\n",
       "      <td>-1.317954</td>\n",
       "      <td>0.619808</td>\n",
       "      <td>0.927255</td>\n",
       "    </tr>\n",
       "    <tr>\n",
       "      <th>5</th>\n",
       "      <td>2000-01-06</td>\n",
       "      <td>4.094697</td>\n",
       "      <td>-3.955532</td>\n",
       "      <td>0.684621</td>\n",
       "      <td>1.695725</td>\n",
       "    </tr>\n",
       "    <tr>\n",
       "      <th>6</th>\n",
       "      <td>2000-01-07</td>\n",
       "      <td>4.112604</td>\n",
       "      <td>-1.901707</td>\n",
       "      <td>1.726961</td>\n",
       "      <td>1.903704</td>\n",
       "    </tr>\n",
       "    <tr>\n",
       "      <th>7</th>\n",
       "      <td>2000-01-08</td>\n",
       "      <td>3.537720</td>\n",
       "      <td>-1.971962</td>\n",
       "      <td>3.350954</td>\n",
       "      <td>3.111633</td>\n",
       "    </tr>\n",
       "    <tr>\n",
       "      <th>8</th>\n",
       "      <td>2000-01-09</td>\n",
       "      <td>6.395478</td>\n",
       "      <td>-3.343957</td>\n",
       "      <td>4.235083</td>\n",
       "      <td>6.348437</td>\n",
       "    </tr>\n",
       "    <tr>\n",
       "      <th>9</th>\n",
       "      <td>2000-01-10</td>\n",
       "      <td>4.506804</td>\n",
       "      <td>-4.301666</td>\n",
       "      <td>3.761705</td>\n",
       "      <td>6.098201</td>\n",
       "    </tr>\n",
       "    <tr>\n",
       "      <th>10</th>\n",
       "      <td>2000-01-11</td>\n",
       "      <td>3.820394</td>\n",
       "      <td>-3.572915</td>\n",
       "      <td>3.535860</td>\n",
       "      <td>5.175339</td>\n",
       "    </tr>\n",
       "    <tr>\n",
       "      <th>11</th>\n",
       "      <td>2000-01-12</td>\n",
       "      <td>3.458146</td>\n",
       "      <td>-1.440174</td>\n",
       "      <td>3.829066</td>\n",
       "      <td>5.932258</td>\n",
       "    </tr>\n",
       "    <tr>\n",
       "      <th>12</th>\n",
       "      <td>2000-01-13</td>\n",
       "      <td>3.531780</td>\n",
       "      <td>-1.921043</td>\n",
       "      <td>3.650361</td>\n",
       "      <td>5.699988</td>\n",
       "    </tr>\n",
       "    <tr>\n",
       "      <th>13</th>\n",
       "      <td>2000-01-14</td>\n",
       "      <td>3.736585</td>\n",
       "      <td>-1.340193</td>\n",
       "      <td>4.088815</td>\n",
       "      <td>5.655213</td>\n",
       "    </tr>\n",
       "    <tr>\n",
       "      <th>14</th>\n",
       "      <td>2000-01-15</td>\n",
       "      <td>3.581510</td>\n",
       "      <td>-2.230484</td>\n",
       "      <td>4.011262</td>\n",
       "      <td>4.440446</td>\n",
       "    </tr>\n",
       "    <tr>\n",
       "      <th>15</th>\n",
       "      <td>2000-01-16</td>\n",
       "      <td>2.942614</td>\n",
       "      <td>-1.832305</td>\n",
       "      <td>1.933797</td>\n",
       "      <td>4.192433</td>\n",
       "    </tr>\n",
       "    <tr>\n",
       "      <th>16</th>\n",
       "      <td>2000-01-17</td>\n",
       "      <td>2.613332</td>\n",
       "      <td>-3.238367</td>\n",
       "      <td>3.494031</td>\n",
       "      <td>3.999749</td>\n",
       "    </tr>\n",
       "    <tr>\n",
       "      <th>17</th>\n",
       "      <td>2000-01-18</td>\n",
       "      <td>4.611238</td>\n",
       "      <td>-3.447495</td>\n",
       "      <td>3.062263</td>\n",
       "      <td>5.474165</td>\n",
       "    </tr>\n",
       "    <tr>\n",
       "      <th>18</th>\n",
       "      <td>2000-01-19</td>\n",
       "      <td>5.192262</td>\n",
       "      <td>-3.408610</td>\n",
       "      <td>2.271601</td>\n",
       "      <td>3.827952</td>\n",
       "    </tr>\n",
       "    <tr>\n",
       "      <th>19</th>\n",
       "      <td>2000-01-20</td>\n",
       "      <td>5.006160</td>\n",
       "      <td>-4.134497</td>\n",
       "      <td>2.538508</td>\n",
       "      <td>2.188973</td>\n",
       "    </tr>\n",
       "    <tr>\n",
       "      <th>20</th>\n",
       "      <td>2000-01-21</td>\n",
       "      <td>2.773312</td>\n",
       "      <td>-5.459046</td>\n",
       "      <td>4.621657</td>\n",
       "      <td>1.894303</td>\n",
       "    </tr>\n",
       "    <tr>\n",
       "      <th>21</th>\n",
       "      <td>2000-01-22</td>\n",
       "      <td>2.442135</td>\n",
       "      <td>-6.164332</td>\n",
       "      <td>4.293115</td>\n",
       "      <td>1.687484</td>\n",
       "    </tr>\n",
       "    <tr>\n",
       "      <th>22</th>\n",
       "      <td>2000-01-23</td>\n",
       "      <td>2.448109</td>\n",
       "      <td>-5.333358</td>\n",
       "      <td>3.358044</td>\n",
       "      <td>1.689873</td>\n",
       "    </tr>\n",
       "    <tr>\n",
       "      <th>23</th>\n",
       "      <td>2000-01-24</td>\n",
       "      <td>3.216344</td>\n",
       "      <td>-5.793664</td>\n",
       "      <td>1.978117</td>\n",
       "      <td>0.445122</td>\n",
       "    </tr>\n",
       "    <tr>\n",
       "      <th>24</th>\n",
       "      <td>2000-01-25</td>\n",
       "      <td>4.203174</td>\n",
       "      <td>-4.604009</td>\n",
       "      <td>2.586009</td>\n",
       "      <td>-0.223096</td>\n",
       "    </tr>\n",
       "    <tr>\n",
       "      <th>25</th>\n",
       "      <td>2000-01-26</td>\n",
       "      <td>4.586604</td>\n",
       "      <td>-3.984405</td>\n",
       "      <td>3.465251</td>\n",
       "      <td>-1.235843</td>\n",
       "    </tr>\n",
       "    <tr>\n",
       "      <th>26</th>\n",
       "      <td>2000-01-27</td>\n",
       "      <td>4.487645</td>\n",
       "      <td>-5.009677</td>\n",
       "      <td>3.423911</td>\n",
       "      <td>-1.737196</td>\n",
       "    </tr>\n",
       "    <tr>\n",
       "      <th>27</th>\n",
       "      <td>2000-01-28</td>\n",
       "      <td>4.199822</td>\n",
       "      <td>-6.279987</td>\n",
       "      <td>4.377824</td>\n",
       "      <td>-2.825481</td>\n",
       "    </tr>\n",
       "    <tr>\n",
       "      <th>28</th>\n",
       "      <td>2000-01-29</td>\n",
       "      <td>3.608006</td>\n",
       "      <td>-5.776560</td>\n",
       "      <td>5.752423</td>\n",
       "      <td>-2.129035</td>\n",
       "    </tr>\n",
       "    <tr>\n",
       "      <th>29</th>\n",
       "      <td>2000-01-30</td>\n",
       "      <td>3.084502</td>\n",
       "      <td>-6.091893</td>\n",
       "      <td>6.255134</td>\n",
       "      <td>-1.392003</td>\n",
       "    </tr>\n",
       "    <tr>\n",
       "      <th>...</th>\n",
       "      <td>...</td>\n",
       "      <td>...</td>\n",
       "      <td>...</td>\n",
       "      <td>...</td>\n",
       "      <td>...</td>\n",
       "    </tr>\n",
       "    <tr>\n",
       "      <th>970</th>\n",
       "      <td>2002-08-28</td>\n",
       "      <td>22.780061</td>\n",
       "      <td>20.648851</td>\n",
       "      <td>-21.604012</td>\n",
       "      <td>15.742328</td>\n",
       "    </tr>\n",
       "    <tr>\n",
       "      <th>971</th>\n",
       "      <td>2002-08-29</td>\n",
       "      <td>22.933123</td>\n",
       "      <td>22.128622</td>\n",
       "      <td>-21.738120</td>\n",
       "      <td>17.014633</td>\n",
       "    </tr>\n",
       "    <tr>\n",
       "      <th>972</th>\n",
       "      <td>2002-08-30</td>\n",
       "      <td>21.626663</td>\n",
       "      <td>21.535557</td>\n",
       "      <td>-19.564974</td>\n",
       "      <td>18.556905</td>\n",
       "    </tr>\n",
       "    <tr>\n",
       "      <th>973</th>\n",
       "      <td>2002-08-31</td>\n",
       "      <td>22.726063</td>\n",
       "      <td>23.593569</td>\n",
       "      <td>-18.631220</td>\n",
       "      <td>16.634772</td>\n",
       "    </tr>\n",
       "    <tr>\n",
       "      <th>974</th>\n",
       "      <td>2002-09-01</td>\n",
       "      <td>22.108608</td>\n",
       "      <td>22.180184</td>\n",
       "      <td>-18.322060</td>\n",
       "      <td>17.469928</td>\n",
       "    </tr>\n",
       "    <tr>\n",
       "      <th>975</th>\n",
       "      <td>2002-09-02</td>\n",
       "      <td>21.590939</td>\n",
       "      <td>21.943505</td>\n",
       "      <td>-19.179314</td>\n",
       "      <td>17.762106</td>\n",
       "    </tr>\n",
       "    <tr>\n",
       "      <th>976</th>\n",
       "      <td>2002-09-03</td>\n",
       "      <td>21.607837</td>\n",
       "      <td>23.728029</td>\n",
       "      <td>-19.305509</td>\n",
       "      <td>17.661149</td>\n",
       "    </tr>\n",
       "    <tr>\n",
       "      <th>977</th>\n",
       "      <td>2002-09-04</td>\n",
       "      <td>22.023978</td>\n",
       "      <td>24.921333</td>\n",
       "      <td>-19.504191</td>\n",
       "      <td>19.775536</td>\n",
       "    </tr>\n",
       "    <tr>\n",
       "      <th>978</th>\n",
       "      <td>2002-09-05</td>\n",
       "      <td>21.640818</td>\n",
       "      <td>24.468493</td>\n",
       "      <td>-19.798892</td>\n",
       "      <td>20.102941</td>\n",
       "    </tr>\n",
       "    <tr>\n",
       "      <th>979</th>\n",
       "      <td>2002-09-06</td>\n",
       "      <td>21.890561</td>\n",
       "      <td>25.698231</td>\n",
       "      <td>-19.813194</td>\n",
       "      <td>19.117859</td>\n",
       "    </tr>\n",
       "    <tr>\n",
       "      <th>980</th>\n",
       "      <td>2002-09-07</td>\n",
       "      <td>21.126275</td>\n",
       "      <td>25.721356</td>\n",
       "      <td>-19.903672</td>\n",
       "      <td>21.125285</td>\n",
       "    </tr>\n",
       "    <tr>\n",
       "      <th>981</th>\n",
       "      <td>2002-09-08</td>\n",
       "      <td>20.368905</td>\n",
       "      <td>26.675317</td>\n",
       "      <td>-18.654863</td>\n",
       "      <td>20.866159</td>\n",
       "    </tr>\n",
       "    <tr>\n",
       "      <th>982</th>\n",
       "      <td>2002-09-09</td>\n",
       "      <td>20.584284</td>\n",
       "      <td>25.873043</td>\n",
       "      <td>-20.277675</td>\n",
       "      <td>20.736735</td>\n",
       "    </tr>\n",
       "    <tr>\n",
       "      <th>983</th>\n",
       "      <td>2002-09-10</td>\n",
       "      <td>22.968723</td>\n",
       "      <td>26.312450</td>\n",
       "      <td>-19.754751</td>\n",
       "      <td>21.056429</td>\n",
       "    </tr>\n",
       "    <tr>\n",
       "      <th>984</th>\n",
       "      <td>2002-09-11</td>\n",
       "      <td>22.690295</td>\n",
       "      <td>27.823611</td>\n",
       "      <td>-19.797484</td>\n",
       "      <td>22.113665</td>\n",
       "    </tr>\n",
       "    <tr>\n",
       "      <th>985</th>\n",
       "      <td>2002-09-12</td>\n",
       "      <td>23.848687</td>\n",
       "      <td>28.269865</td>\n",
       "      <td>-19.316796</td>\n",
       "      <td>23.027453</td>\n",
       "    </tr>\n",
       "    <tr>\n",
       "      <th>986</th>\n",
       "      <td>2002-09-13</td>\n",
       "      <td>22.588458</td>\n",
       "      <td>28.136116</td>\n",
       "      <td>-18.659905</td>\n",
       "      <td>24.512653</td>\n",
       "    </tr>\n",
       "    <tr>\n",
       "      <th>987</th>\n",
       "      <td>2002-09-14</td>\n",
       "      <td>23.894968</td>\n",
       "      <td>28.479373</td>\n",
       "      <td>-19.395166</td>\n",
       "      <td>25.239211</td>\n",
       "    </tr>\n",
       "    <tr>\n",
       "      <th>988</th>\n",
       "      <td>2002-09-15</td>\n",
       "      <td>25.778426</td>\n",
       "      <td>28.180056</td>\n",
       "      <td>-19.109166</td>\n",
       "      <td>26.221094</td>\n",
       "    </tr>\n",
       "    <tr>\n",
       "      <th>989</th>\n",
       "      <td>2002-09-16</td>\n",
       "      <td>25.906219</td>\n",
       "      <td>29.700355</td>\n",
       "      <td>-19.885183</td>\n",
       "      <td>27.449251</td>\n",
       "    </tr>\n",
       "    <tr>\n",
       "      <th>990</th>\n",
       "      <td>2002-09-17</td>\n",
       "      <td>27.853709</td>\n",
       "      <td>29.811529</td>\n",
       "      <td>-18.097719</td>\n",
       "      <td>26.578918</td>\n",
       "    </tr>\n",
       "    <tr>\n",
       "      <th>991</th>\n",
       "      <td>2002-09-18</td>\n",
       "      <td>25.296754</td>\n",
       "      <td>29.922515</td>\n",
       "      <td>-18.429311</td>\n",
       "      <td>24.477316</td>\n",
       "    </tr>\n",
       "    <tr>\n",
       "      <th>992</th>\n",
       "      <td>2002-09-19</td>\n",
       "      <td>25.091081</td>\n",
       "      <td>30.723172</td>\n",
       "      <td>-17.901037</td>\n",
       "      <td>25.596198</td>\n",
       "    </tr>\n",
       "    <tr>\n",
       "      <th>993</th>\n",
       "      <td>2002-09-20</td>\n",
       "      <td>24.869786</td>\n",
       "      <td>30.221543</td>\n",
       "      <td>-18.306350</td>\n",
       "      <td>28.173137</td>\n",
       "    </tr>\n",
       "    <tr>\n",
       "      <th>994</th>\n",
       "      <td>2002-09-21</td>\n",
       "      <td>24.342214</td>\n",
       "      <td>31.668983</td>\n",
       "      <td>-17.418617</td>\n",
       "      <td>27.616035</td>\n",
       "    </tr>\n",
       "    <tr>\n",
       "      <th>995</th>\n",
       "      <td>2002-09-22</td>\n",
       "      <td>26.174939</td>\n",
       "      <td>32.610929</td>\n",
       "      <td>-17.963764</td>\n",
       "      <td>27.115884</td>\n",
       "    </tr>\n",
       "    <tr>\n",
       "      <th>996</th>\n",
       "      <td>2002-09-23</td>\n",
       "      <td>26.623812</td>\n",
       "      <td>32.408973</td>\n",
       "      <td>-17.570757</td>\n",
       "      <td>25.590087</td>\n",
       "    </tr>\n",
       "    <tr>\n",
       "      <th>997</th>\n",
       "      <td>2002-09-24</td>\n",
       "      <td>27.221335</td>\n",
       "      <td>33.479513</td>\n",
       "      <td>-17.722957</td>\n",
       "      <td>24.480275</td>\n",
       "    </tr>\n",
       "    <tr>\n",
       "      <th>998</th>\n",
       "      <td>2002-09-25</td>\n",
       "      <td>26.851276</td>\n",
       "      <td>32.401026</td>\n",
       "      <td>-18.712882</td>\n",
       "      <td>26.629902</td>\n",
       "    </tr>\n",
       "    <tr>\n",
       "      <th>999</th>\n",
       "      <td>2002-09-26</td>\n",
       "      <td>25.808979</td>\n",
       "      <td>31.709772</td>\n",
       "      <td>-18.118046</td>\n",
       "      <td>26.750451</td>\n",
       "    </tr>\n",
       "  </tbody>\n",
       "</table>\n",
       "<p>1000 rows × 5 columns</p>\n",
       "</div>"
      ],
      "text/plain": [
       "     Unnamed: 0          A          B          C          D\n",
       "0    2000-01-01  -0.919928   1.081738  -0.186911   0.739160\n",
       "1    2000-01-02  -0.270961   1.963527  -0.631587   1.103502\n",
       "2    2000-01-03   1.882641   1.855084  -0.800290  -0.113979\n",
       "3    2000-01-04   2.851876   0.610934   1.256351  -0.436652\n",
       "4    2000-01-05   2.892188  -1.317954   0.619808   0.927255\n",
       "5    2000-01-06   4.094697  -3.955532   0.684621   1.695725\n",
       "6    2000-01-07   4.112604  -1.901707   1.726961   1.903704\n",
       "7    2000-01-08   3.537720  -1.971962   3.350954   3.111633\n",
       "8    2000-01-09   6.395478  -3.343957   4.235083   6.348437\n",
       "9    2000-01-10   4.506804  -4.301666   3.761705   6.098201\n",
       "10   2000-01-11   3.820394  -3.572915   3.535860   5.175339\n",
       "11   2000-01-12   3.458146  -1.440174   3.829066   5.932258\n",
       "12   2000-01-13   3.531780  -1.921043   3.650361   5.699988\n",
       "13   2000-01-14   3.736585  -1.340193   4.088815   5.655213\n",
       "14   2000-01-15   3.581510  -2.230484   4.011262   4.440446\n",
       "15   2000-01-16   2.942614  -1.832305   1.933797   4.192433\n",
       "16   2000-01-17   2.613332  -3.238367   3.494031   3.999749\n",
       "17   2000-01-18   4.611238  -3.447495   3.062263   5.474165\n",
       "18   2000-01-19   5.192262  -3.408610   2.271601   3.827952\n",
       "19   2000-01-20   5.006160  -4.134497   2.538508   2.188973\n",
       "20   2000-01-21   2.773312  -5.459046   4.621657   1.894303\n",
       "21   2000-01-22   2.442135  -6.164332   4.293115   1.687484\n",
       "22   2000-01-23   2.448109  -5.333358   3.358044   1.689873\n",
       "23   2000-01-24   3.216344  -5.793664   1.978117   0.445122\n",
       "24   2000-01-25   4.203174  -4.604009   2.586009  -0.223096\n",
       "25   2000-01-26   4.586604  -3.984405   3.465251  -1.235843\n",
       "26   2000-01-27   4.487645  -5.009677   3.423911  -1.737196\n",
       "27   2000-01-28   4.199822  -6.279987   4.377824  -2.825481\n",
       "28   2000-01-29   3.608006  -5.776560   5.752423  -2.129035\n",
       "29   2000-01-30   3.084502  -6.091893   6.255134  -1.392003\n",
       "..          ...        ...        ...        ...        ...\n",
       "970  2002-08-28  22.780061  20.648851 -21.604012  15.742328\n",
       "971  2002-08-29  22.933123  22.128622 -21.738120  17.014633\n",
       "972  2002-08-30  21.626663  21.535557 -19.564974  18.556905\n",
       "973  2002-08-31  22.726063  23.593569 -18.631220  16.634772\n",
       "974  2002-09-01  22.108608  22.180184 -18.322060  17.469928\n",
       "975  2002-09-02  21.590939  21.943505 -19.179314  17.762106\n",
       "976  2002-09-03  21.607837  23.728029 -19.305509  17.661149\n",
       "977  2002-09-04  22.023978  24.921333 -19.504191  19.775536\n",
       "978  2002-09-05  21.640818  24.468493 -19.798892  20.102941\n",
       "979  2002-09-06  21.890561  25.698231 -19.813194  19.117859\n",
       "980  2002-09-07  21.126275  25.721356 -19.903672  21.125285\n",
       "981  2002-09-08  20.368905  26.675317 -18.654863  20.866159\n",
       "982  2002-09-09  20.584284  25.873043 -20.277675  20.736735\n",
       "983  2002-09-10  22.968723  26.312450 -19.754751  21.056429\n",
       "984  2002-09-11  22.690295  27.823611 -19.797484  22.113665\n",
       "985  2002-09-12  23.848687  28.269865 -19.316796  23.027453\n",
       "986  2002-09-13  22.588458  28.136116 -18.659905  24.512653\n",
       "987  2002-09-14  23.894968  28.479373 -19.395166  25.239211\n",
       "988  2002-09-15  25.778426  28.180056 -19.109166  26.221094\n",
       "989  2002-09-16  25.906219  29.700355 -19.885183  27.449251\n",
       "990  2002-09-17  27.853709  29.811529 -18.097719  26.578918\n",
       "991  2002-09-18  25.296754  29.922515 -18.429311  24.477316\n",
       "992  2002-09-19  25.091081  30.723172 -17.901037  25.596198\n",
       "993  2002-09-20  24.869786  30.221543 -18.306350  28.173137\n",
       "994  2002-09-21  24.342214  31.668983 -17.418617  27.616035\n",
       "995  2002-09-22  26.174939  32.610929 -17.963764  27.115884\n",
       "996  2002-09-23  26.623812  32.408973 -17.570757  25.590087\n",
       "997  2002-09-24  27.221335  33.479513 -17.722957  24.480275\n",
       "998  2002-09-25  26.851276  32.401026 -18.712882  26.629902\n",
       "999  2002-09-26  25.808979  31.709772 -18.118046  26.750451\n",
       "\n",
       "[1000 rows x 5 columns]"
      ]
     },
     "execution_count": 137,
     "metadata": {},
     "output_type": "execute_result"
    }
   ],
   "source": [
    "pd.read_csv('foo.csv')"
   ]
  },
  {
   "cell_type": "code",
   "execution_count": 138,
   "metadata": {
    "collapsed": true
   },
   "outputs": [],
   "source": [
    "df.to_hdf('foo.h5','df')"
   ]
  },
  {
   "cell_type": "code",
   "execution_count": 139,
   "metadata": {
    "collapsed": false
   },
   "outputs": [
    {
     "data": {
      "text/html": [
       "<div>\n",
       "<table border=\"1\" class=\"dataframe\">\n",
       "  <thead>\n",
       "    <tr style=\"text-align: right;\">\n",
       "      <th></th>\n",
       "      <th>A</th>\n",
       "      <th>B</th>\n",
       "      <th>C</th>\n",
       "      <th>D</th>\n",
       "    </tr>\n",
       "  </thead>\n",
       "  <tbody>\n",
       "    <tr>\n",
       "      <th>2000-01-01</th>\n",
       "      <td>-0.919928</td>\n",
       "      <td>1.081738</td>\n",
       "      <td>-0.186911</td>\n",
       "      <td>0.739160</td>\n",
       "    </tr>\n",
       "    <tr>\n",
       "      <th>2000-01-02</th>\n",
       "      <td>-0.270961</td>\n",
       "      <td>1.963527</td>\n",
       "      <td>-0.631587</td>\n",
       "      <td>1.103502</td>\n",
       "    </tr>\n",
       "    <tr>\n",
       "      <th>2000-01-03</th>\n",
       "      <td>1.882641</td>\n",
       "      <td>1.855084</td>\n",
       "      <td>-0.800290</td>\n",
       "      <td>-0.113979</td>\n",
       "    </tr>\n",
       "    <tr>\n",
       "      <th>2000-01-04</th>\n",
       "      <td>2.851876</td>\n",
       "      <td>0.610934</td>\n",
       "      <td>1.256351</td>\n",
       "      <td>-0.436652</td>\n",
       "    </tr>\n",
       "    <tr>\n",
       "      <th>2000-01-05</th>\n",
       "      <td>2.892188</td>\n",
       "      <td>-1.317954</td>\n",
       "      <td>0.619808</td>\n",
       "      <td>0.927255</td>\n",
       "    </tr>\n",
       "    <tr>\n",
       "      <th>2000-01-06</th>\n",
       "      <td>4.094697</td>\n",
       "      <td>-3.955532</td>\n",
       "      <td>0.684621</td>\n",
       "      <td>1.695725</td>\n",
       "    </tr>\n",
       "    <tr>\n",
       "      <th>2000-01-07</th>\n",
       "      <td>4.112604</td>\n",
       "      <td>-1.901707</td>\n",
       "      <td>1.726961</td>\n",
       "      <td>1.903704</td>\n",
       "    </tr>\n",
       "    <tr>\n",
       "      <th>2000-01-08</th>\n",
       "      <td>3.537720</td>\n",
       "      <td>-1.971962</td>\n",
       "      <td>3.350954</td>\n",
       "      <td>3.111633</td>\n",
       "    </tr>\n",
       "    <tr>\n",
       "      <th>2000-01-09</th>\n",
       "      <td>6.395478</td>\n",
       "      <td>-3.343957</td>\n",
       "      <td>4.235083</td>\n",
       "      <td>6.348437</td>\n",
       "    </tr>\n",
       "    <tr>\n",
       "      <th>2000-01-10</th>\n",
       "      <td>4.506804</td>\n",
       "      <td>-4.301666</td>\n",
       "      <td>3.761705</td>\n",
       "      <td>6.098201</td>\n",
       "    </tr>\n",
       "    <tr>\n",
       "      <th>2000-01-11</th>\n",
       "      <td>3.820394</td>\n",
       "      <td>-3.572915</td>\n",
       "      <td>3.535860</td>\n",
       "      <td>5.175339</td>\n",
       "    </tr>\n",
       "    <tr>\n",
       "      <th>2000-01-12</th>\n",
       "      <td>3.458146</td>\n",
       "      <td>-1.440174</td>\n",
       "      <td>3.829066</td>\n",
       "      <td>5.932258</td>\n",
       "    </tr>\n",
       "    <tr>\n",
       "      <th>2000-01-13</th>\n",
       "      <td>3.531780</td>\n",
       "      <td>-1.921043</td>\n",
       "      <td>3.650361</td>\n",
       "      <td>5.699988</td>\n",
       "    </tr>\n",
       "    <tr>\n",
       "      <th>2000-01-14</th>\n",
       "      <td>3.736585</td>\n",
       "      <td>-1.340193</td>\n",
       "      <td>4.088815</td>\n",
       "      <td>5.655213</td>\n",
       "    </tr>\n",
       "    <tr>\n",
       "      <th>2000-01-15</th>\n",
       "      <td>3.581510</td>\n",
       "      <td>-2.230484</td>\n",
       "      <td>4.011262</td>\n",
       "      <td>4.440446</td>\n",
       "    </tr>\n",
       "    <tr>\n",
       "      <th>2000-01-16</th>\n",
       "      <td>2.942614</td>\n",
       "      <td>-1.832305</td>\n",
       "      <td>1.933797</td>\n",
       "      <td>4.192433</td>\n",
       "    </tr>\n",
       "    <tr>\n",
       "      <th>2000-01-17</th>\n",
       "      <td>2.613332</td>\n",
       "      <td>-3.238367</td>\n",
       "      <td>3.494031</td>\n",
       "      <td>3.999749</td>\n",
       "    </tr>\n",
       "    <tr>\n",
       "      <th>2000-01-18</th>\n",
       "      <td>4.611238</td>\n",
       "      <td>-3.447495</td>\n",
       "      <td>3.062263</td>\n",
       "      <td>5.474165</td>\n",
       "    </tr>\n",
       "    <tr>\n",
       "      <th>2000-01-19</th>\n",
       "      <td>5.192262</td>\n",
       "      <td>-3.408610</td>\n",
       "      <td>2.271601</td>\n",
       "      <td>3.827952</td>\n",
       "    </tr>\n",
       "    <tr>\n",
       "      <th>2000-01-20</th>\n",
       "      <td>5.006160</td>\n",
       "      <td>-4.134497</td>\n",
       "      <td>2.538508</td>\n",
       "      <td>2.188973</td>\n",
       "    </tr>\n",
       "    <tr>\n",
       "      <th>2000-01-21</th>\n",
       "      <td>2.773312</td>\n",
       "      <td>-5.459046</td>\n",
       "      <td>4.621657</td>\n",
       "      <td>1.894303</td>\n",
       "    </tr>\n",
       "    <tr>\n",
       "      <th>2000-01-22</th>\n",
       "      <td>2.442135</td>\n",
       "      <td>-6.164332</td>\n",
       "      <td>4.293115</td>\n",
       "      <td>1.687484</td>\n",
       "    </tr>\n",
       "    <tr>\n",
       "      <th>2000-01-23</th>\n",
       "      <td>2.448109</td>\n",
       "      <td>-5.333358</td>\n",
       "      <td>3.358044</td>\n",
       "      <td>1.689873</td>\n",
       "    </tr>\n",
       "    <tr>\n",
       "      <th>2000-01-24</th>\n",
       "      <td>3.216344</td>\n",
       "      <td>-5.793664</td>\n",
       "      <td>1.978117</td>\n",
       "      <td>0.445122</td>\n",
       "    </tr>\n",
       "    <tr>\n",
       "      <th>2000-01-25</th>\n",
       "      <td>4.203174</td>\n",
       "      <td>-4.604009</td>\n",
       "      <td>2.586009</td>\n",
       "      <td>-0.223096</td>\n",
       "    </tr>\n",
       "    <tr>\n",
       "      <th>2000-01-26</th>\n",
       "      <td>4.586604</td>\n",
       "      <td>-3.984405</td>\n",
       "      <td>3.465251</td>\n",
       "      <td>-1.235843</td>\n",
       "    </tr>\n",
       "    <tr>\n",
       "      <th>2000-01-27</th>\n",
       "      <td>4.487645</td>\n",
       "      <td>-5.009677</td>\n",
       "      <td>3.423911</td>\n",
       "      <td>-1.737196</td>\n",
       "    </tr>\n",
       "    <tr>\n",
       "      <th>2000-01-28</th>\n",
       "      <td>4.199822</td>\n",
       "      <td>-6.279987</td>\n",
       "      <td>4.377824</td>\n",
       "      <td>-2.825481</td>\n",
       "    </tr>\n",
       "    <tr>\n",
       "      <th>2000-01-29</th>\n",
       "      <td>3.608006</td>\n",
       "      <td>-5.776560</td>\n",
       "      <td>5.752423</td>\n",
       "      <td>-2.129035</td>\n",
       "    </tr>\n",
       "    <tr>\n",
       "      <th>2000-01-30</th>\n",
       "      <td>3.084502</td>\n",
       "      <td>-6.091893</td>\n",
       "      <td>6.255134</td>\n",
       "      <td>-1.392003</td>\n",
       "    </tr>\n",
       "    <tr>\n",
       "      <th>...</th>\n",
       "      <td>...</td>\n",
       "      <td>...</td>\n",
       "      <td>...</td>\n",
       "      <td>...</td>\n",
       "    </tr>\n",
       "    <tr>\n",
       "      <th>2002-08-28</th>\n",
       "      <td>22.780061</td>\n",
       "      <td>20.648851</td>\n",
       "      <td>-21.604012</td>\n",
       "      <td>15.742328</td>\n",
       "    </tr>\n",
       "    <tr>\n",
       "      <th>2002-08-29</th>\n",
       "      <td>22.933123</td>\n",
       "      <td>22.128622</td>\n",
       "      <td>-21.738120</td>\n",
       "      <td>17.014633</td>\n",
       "    </tr>\n",
       "    <tr>\n",
       "      <th>2002-08-30</th>\n",
       "      <td>21.626663</td>\n",
       "      <td>21.535557</td>\n",
       "      <td>-19.564974</td>\n",
       "      <td>18.556905</td>\n",
       "    </tr>\n",
       "    <tr>\n",
       "      <th>2002-08-31</th>\n",
       "      <td>22.726063</td>\n",
       "      <td>23.593569</td>\n",
       "      <td>-18.631220</td>\n",
       "      <td>16.634772</td>\n",
       "    </tr>\n",
       "    <tr>\n",
       "      <th>2002-09-01</th>\n",
       "      <td>22.108608</td>\n",
       "      <td>22.180184</td>\n",
       "      <td>-18.322060</td>\n",
       "      <td>17.469928</td>\n",
       "    </tr>\n",
       "    <tr>\n",
       "      <th>2002-09-02</th>\n",
       "      <td>21.590939</td>\n",
       "      <td>21.943505</td>\n",
       "      <td>-19.179314</td>\n",
       "      <td>17.762106</td>\n",
       "    </tr>\n",
       "    <tr>\n",
       "      <th>2002-09-03</th>\n",
       "      <td>21.607837</td>\n",
       "      <td>23.728029</td>\n",
       "      <td>-19.305509</td>\n",
       "      <td>17.661149</td>\n",
       "    </tr>\n",
       "    <tr>\n",
       "      <th>2002-09-04</th>\n",
       "      <td>22.023978</td>\n",
       "      <td>24.921333</td>\n",
       "      <td>-19.504191</td>\n",
       "      <td>19.775536</td>\n",
       "    </tr>\n",
       "    <tr>\n",
       "      <th>2002-09-05</th>\n",
       "      <td>21.640818</td>\n",
       "      <td>24.468493</td>\n",
       "      <td>-19.798892</td>\n",
       "      <td>20.102941</td>\n",
       "    </tr>\n",
       "    <tr>\n",
       "      <th>2002-09-06</th>\n",
       "      <td>21.890561</td>\n",
       "      <td>25.698231</td>\n",
       "      <td>-19.813194</td>\n",
       "      <td>19.117859</td>\n",
       "    </tr>\n",
       "    <tr>\n",
       "      <th>2002-09-07</th>\n",
       "      <td>21.126275</td>\n",
       "      <td>25.721356</td>\n",
       "      <td>-19.903672</td>\n",
       "      <td>21.125285</td>\n",
       "    </tr>\n",
       "    <tr>\n",
       "      <th>2002-09-08</th>\n",
       "      <td>20.368905</td>\n",
       "      <td>26.675317</td>\n",
       "      <td>-18.654863</td>\n",
       "      <td>20.866159</td>\n",
       "    </tr>\n",
       "    <tr>\n",
       "      <th>2002-09-09</th>\n",
       "      <td>20.584284</td>\n",
       "      <td>25.873043</td>\n",
       "      <td>-20.277675</td>\n",
       "      <td>20.736735</td>\n",
       "    </tr>\n",
       "    <tr>\n",
       "      <th>2002-09-10</th>\n",
       "      <td>22.968723</td>\n",
       "      <td>26.312450</td>\n",
       "      <td>-19.754751</td>\n",
       "      <td>21.056429</td>\n",
       "    </tr>\n",
       "    <tr>\n",
       "      <th>2002-09-11</th>\n",
       "      <td>22.690295</td>\n",
       "      <td>27.823611</td>\n",
       "      <td>-19.797484</td>\n",
       "      <td>22.113665</td>\n",
       "    </tr>\n",
       "    <tr>\n",
       "      <th>2002-09-12</th>\n",
       "      <td>23.848687</td>\n",
       "      <td>28.269865</td>\n",
       "      <td>-19.316796</td>\n",
       "      <td>23.027453</td>\n",
       "    </tr>\n",
       "    <tr>\n",
       "      <th>2002-09-13</th>\n",
       "      <td>22.588458</td>\n",
       "      <td>28.136116</td>\n",
       "      <td>-18.659905</td>\n",
       "      <td>24.512653</td>\n",
       "    </tr>\n",
       "    <tr>\n",
       "      <th>2002-09-14</th>\n",
       "      <td>23.894968</td>\n",
       "      <td>28.479373</td>\n",
       "      <td>-19.395166</td>\n",
       "      <td>25.239211</td>\n",
       "    </tr>\n",
       "    <tr>\n",
       "      <th>2002-09-15</th>\n",
       "      <td>25.778426</td>\n",
       "      <td>28.180056</td>\n",
       "      <td>-19.109166</td>\n",
       "      <td>26.221094</td>\n",
       "    </tr>\n",
       "    <tr>\n",
       "      <th>2002-09-16</th>\n",
       "      <td>25.906219</td>\n",
       "      <td>29.700355</td>\n",
       "      <td>-19.885183</td>\n",
       "      <td>27.449251</td>\n",
       "    </tr>\n",
       "    <tr>\n",
       "      <th>2002-09-17</th>\n",
       "      <td>27.853709</td>\n",
       "      <td>29.811529</td>\n",
       "      <td>-18.097719</td>\n",
       "      <td>26.578918</td>\n",
       "    </tr>\n",
       "    <tr>\n",
       "      <th>2002-09-18</th>\n",
       "      <td>25.296754</td>\n",
       "      <td>29.922515</td>\n",
       "      <td>-18.429311</td>\n",
       "      <td>24.477316</td>\n",
       "    </tr>\n",
       "    <tr>\n",
       "      <th>2002-09-19</th>\n",
       "      <td>25.091081</td>\n",
       "      <td>30.723172</td>\n",
       "      <td>-17.901037</td>\n",
       "      <td>25.596198</td>\n",
       "    </tr>\n",
       "    <tr>\n",
       "      <th>2002-09-20</th>\n",
       "      <td>24.869786</td>\n",
       "      <td>30.221543</td>\n",
       "      <td>-18.306350</td>\n",
       "      <td>28.173137</td>\n",
       "    </tr>\n",
       "    <tr>\n",
       "      <th>2002-09-21</th>\n",
       "      <td>24.342214</td>\n",
       "      <td>31.668983</td>\n",
       "      <td>-17.418617</td>\n",
       "      <td>27.616035</td>\n",
       "    </tr>\n",
       "    <tr>\n",
       "      <th>2002-09-22</th>\n",
       "      <td>26.174939</td>\n",
       "      <td>32.610929</td>\n",
       "      <td>-17.963764</td>\n",
       "      <td>27.115884</td>\n",
       "    </tr>\n",
       "    <tr>\n",
       "      <th>2002-09-23</th>\n",
       "      <td>26.623812</td>\n",
       "      <td>32.408973</td>\n",
       "      <td>-17.570757</td>\n",
       "      <td>25.590087</td>\n",
       "    </tr>\n",
       "    <tr>\n",
       "      <th>2002-09-24</th>\n",
       "      <td>27.221335</td>\n",
       "      <td>33.479513</td>\n",
       "      <td>-17.722957</td>\n",
       "      <td>24.480275</td>\n",
       "    </tr>\n",
       "    <tr>\n",
       "      <th>2002-09-25</th>\n",
       "      <td>26.851276</td>\n",
       "      <td>32.401026</td>\n",
       "      <td>-18.712882</td>\n",
       "      <td>26.629902</td>\n",
       "    </tr>\n",
       "    <tr>\n",
       "      <th>2002-09-26</th>\n",
       "      <td>25.808979</td>\n",
       "      <td>31.709772</td>\n",
       "      <td>-18.118046</td>\n",
       "      <td>26.750451</td>\n",
       "    </tr>\n",
       "  </tbody>\n",
       "</table>\n",
       "<p>1000 rows × 4 columns</p>\n",
       "</div>"
      ],
      "text/plain": [
       "                    A          B          C          D\n",
       "2000-01-01  -0.919928   1.081738  -0.186911   0.739160\n",
       "2000-01-02  -0.270961   1.963527  -0.631587   1.103502\n",
       "2000-01-03   1.882641   1.855084  -0.800290  -0.113979\n",
       "2000-01-04   2.851876   0.610934   1.256351  -0.436652\n",
       "2000-01-05   2.892188  -1.317954   0.619808   0.927255\n",
       "2000-01-06   4.094697  -3.955532   0.684621   1.695725\n",
       "2000-01-07   4.112604  -1.901707   1.726961   1.903704\n",
       "2000-01-08   3.537720  -1.971962   3.350954   3.111633\n",
       "2000-01-09   6.395478  -3.343957   4.235083   6.348437\n",
       "2000-01-10   4.506804  -4.301666   3.761705   6.098201\n",
       "2000-01-11   3.820394  -3.572915   3.535860   5.175339\n",
       "2000-01-12   3.458146  -1.440174   3.829066   5.932258\n",
       "2000-01-13   3.531780  -1.921043   3.650361   5.699988\n",
       "2000-01-14   3.736585  -1.340193   4.088815   5.655213\n",
       "2000-01-15   3.581510  -2.230484   4.011262   4.440446\n",
       "2000-01-16   2.942614  -1.832305   1.933797   4.192433\n",
       "2000-01-17   2.613332  -3.238367   3.494031   3.999749\n",
       "2000-01-18   4.611238  -3.447495   3.062263   5.474165\n",
       "2000-01-19   5.192262  -3.408610   2.271601   3.827952\n",
       "2000-01-20   5.006160  -4.134497   2.538508   2.188973\n",
       "2000-01-21   2.773312  -5.459046   4.621657   1.894303\n",
       "2000-01-22   2.442135  -6.164332   4.293115   1.687484\n",
       "2000-01-23   2.448109  -5.333358   3.358044   1.689873\n",
       "2000-01-24   3.216344  -5.793664   1.978117   0.445122\n",
       "2000-01-25   4.203174  -4.604009   2.586009  -0.223096\n",
       "2000-01-26   4.586604  -3.984405   3.465251  -1.235843\n",
       "2000-01-27   4.487645  -5.009677   3.423911  -1.737196\n",
       "2000-01-28   4.199822  -6.279987   4.377824  -2.825481\n",
       "2000-01-29   3.608006  -5.776560   5.752423  -2.129035\n",
       "2000-01-30   3.084502  -6.091893   6.255134  -1.392003\n",
       "...               ...        ...        ...        ...\n",
       "2002-08-28  22.780061  20.648851 -21.604012  15.742328\n",
       "2002-08-29  22.933123  22.128622 -21.738120  17.014633\n",
       "2002-08-30  21.626663  21.535557 -19.564974  18.556905\n",
       "2002-08-31  22.726063  23.593569 -18.631220  16.634772\n",
       "2002-09-01  22.108608  22.180184 -18.322060  17.469928\n",
       "2002-09-02  21.590939  21.943505 -19.179314  17.762106\n",
       "2002-09-03  21.607837  23.728029 -19.305509  17.661149\n",
       "2002-09-04  22.023978  24.921333 -19.504191  19.775536\n",
       "2002-09-05  21.640818  24.468493 -19.798892  20.102941\n",
       "2002-09-06  21.890561  25.698231 -19.813194  19.117859\n",
       "2002-09-07  21.126275  25.721356 -19.903672  21.125285\n",
       "2002-09-08  20.368905  26.675317 -18.654863  20.866159\n",
       "2002-09-09  20.584284  25.873043 -20.277675  20.736735\n",
       "2002-09-10  22.968723  26.312450 -19.754751  21.056429\n",
       "2002-09-11  22.690295  27.823611 -19.797484  22.113665\n",
       "2002-09-12  23.848687  28.269865 -19.316796  23.027453\n",
       "2002-09-13  22.588458  28.136116 -18.659905  24.512653\n",
       "2002-09-14  23.894968  28.479373 -19.395166  25.239211\n",
       "2002-09-15  25.778426  28.180056 -19.109166  26.221094\n",
       "2002-09-16  25.906219  29.700355 -19.885183  27.449251\n",
       "2002-09-17  27.853709  29.811529 -18.097719  26.578918\n",
       "2002-09-18  25.296754  29.922515 -18.429311  24.477316\n",
       "2002-09-19  25.091081  30.723172 -17.901037  25.596198\n",
       "2002-09-20  24.869786  30.221543 -18.306350  28.173137\n",
       "2002-09-21  24.342214  31.668983 -17.418617  27.616035\n",
       "2002-09-22  26.174939  32.610929 -17.963764  27.115884\n",
       "2002-09-23  26.623812  32.408973 -17.570757  25.590087\n",
       "2002-09-24  27.221335  33.479513 -17.722957  24.480275\n",
       "2002-09-25  26.851276  32.401026 -18.712882  26.629902\n",
       "2002-09-26  25.808979  31.709772 -18.118046  26.750451\n",
       "\n",
       "[1000 rows x 4 columns]"
      ]
     },
     "execution_count": 139,
     "metadata": {},
     "output_type": "execute_result"
    }
   ],
   "source": [
    "pd.read_hdf('foo.h5','df')"
   ]
  },
  {
   "cell_type": "code",
   "execution_count": 140,
   "metadata": {
    "collapsed": true
   },
   "outputs": [],
   "source": [
    "df.to_excel('foo.xlsx', sheet_name='Sheet1')"
   ]
  },
  {
   "cell_type": "code",
   "execution_count": 141,
   "metadata": {
    "collapsed": false
   },
   "outputs": [
    {
     "data": {
      "text/html": [
       "<div>\n",
       "<table border=\"1\" class=\"dataframe\">\n",
       "  <thead>\n",
       "    <tr style=\"text-align: right;\">\n",
       "      <th></th>\n",
       "      <th>A</th>\n",
       "      <th>B</th>\n",
       "      <th>C</th>\n",
       "      <th>D</th>\n",
       "    </tr>\n",
       "  </thead>\n",
       "  <tbody>\n",
       "    <tr>\n",
       "      <th>2000-01-01</th>\n",
       "      <td>-0.919928</td>\n",
       "      <td>1.081738</td>\n",
       "      <td>-0.186911</td>\n",
       "      <td>0.739160</td>\n",
       "    </tr>\n",
       "    <tr>\n",
       "      <th>2000-01-02</th>\n",
       "      <td>-0.270961</td>\n",
       "      <td>1.963527</td>\n",
       "      <td>-0.631587</td>\n",
       "      <td>1.103502</td>\n",
       "    </tr>\n",
       "    <tr>\n",
       "      <th>2000-01-03</th>\n",
       "      <td>1.882641</td>\n",
       "      <td>1.855084</td>\n",
       "      <td>-0.800290</td>\n",
       "      <td>-0.113979</td>\n",
       "    </tr>\n",
       "    <tr>\n",
       "      <th>2000-01-04</th>\n",
       "      <td>2.851876</td>\n",
       "      <td>0.610934</td>\n",
       "      <td>1.256351</td>\n",
       "      <td>-0.436652</td>\n",
       "    </tr>\n",
       "    <tr>\n",
       "      <th>2000-01-05</th>\n",
       "      <td>2.892188</td>\n",
       "      <td>-1.317954</td>\n",
       "      <td>0.619808</td>\n",
       "      <td>0.927255</td>\n",
       "    </tr>\n",
       "    <tr>\n",
       "      <th>2000-01-06</th>\n",
       "      <td>4.094697</td>\n",
       "      <td>-3.955532</td>\n",
       "      <td>0.684621</td>\n",
       "      <td>1.695725</td>\n",
       "    </tr>\n",
       "    <tr>\n",
       "      <th>2000-01-07</th>\n",
       "      <td>4.112604</td>\n",
       "      <td>-1.901707</td>\n",
       "      <td>1.726961</td>\n",
       "      <td>1.903704</td>\n",
       "    </tr>\n",
       "    <tr>\n",
       "      <th>2000-01-08</th>\n",
       "      <td>3.537720</td>\n",
       "      <td>-1.971962</td>\n",
       "      <td>3.350954</td>\n",
       "      <td>3.111633</td>\n",
       "    </tr>\n",
       "    <tr>\n",
       "      <th>2000-01-09</th>\n",
       "      <td>6.395478</td>\n",
       "      <td>-3.343957</td>\n",
       "      <td>4.235083</td>\n",
       "      <td>6.348437</td>\n",
       "    </tr>\n",
       "    <tr>\n",
       "      <th>2000-01-10</th>\n",
       "      <td>4.506804</td>\n",
       "      <td>-4.301666</td>\n",
       "      <td>3.761705</td>\n",
       "      <td>6.098201</td>\n",
       "    </tr>\n",
       "    <tr>\n",
       "      <th>2000-01-11</th>\n",
       "      <td>3.820394</td>\n",
       "      <td>-3.572915</td>\n",
       "      <td>3.535860</td>\n",
       "      <td>5.175339</td>\n",
       "    </tr>\n",
       "    <tr>\n",
       "      <th>2000-01-12</th>\n",
       "      <td>3.458146</td>\n",
       "      <td>-1.440174</td>\n",
       "      <td>3.829066</td>\n",
       "      <td>5.932258</td>\n",
       "    </tr>\n",
       "    <tr>\n",
       "      <th>2000-01-13</th>\n",
       "      <td>3.531780</td>\n",
       "      <td>-1.921043</td>\n",
       "      <td>3.650361</td>\n",
       "      <td>5.699988</td>\n",
       "    </tr>\n",
       "    <tr>\n",
       "      <th>2000-01-14</th>\n",
       "      <td>3.736585</td>\n",
       "      <td>-1.340193</td>\n",
       "      <td>4.088815</td>\n",
       "      <td>5.655213</td>\n",
       "    </tr>\n",
       "    <tr>\n",
       "      <th>2000-01-15</th>\n",
       "      <td>3.581510</td>\n",
       "      <td>-2.230484</td>\n",
       "      <td>4.011262</td>\n",
       "      <td>4.440446</td>\n",
       "    </tr>\n",
       "    <tr>\n",
       "      <th>2000-01-16</th>\n",
       "      <td>2.942614</td>\n",
       "      <td>-1.832305</td>\n",
       "      <td>1.933797</td>\n",
       "      <td>4.192433</td>\n",
       "    </tr>\n",
       "    <tr>\n",
       "      <th>2000-01-17</th>\n",
       "      <td>2.613332</td>\n",
       "      <td>-3.238367</td>\n",
       "      <td>3.494031</td>\n",
       "      <td>3.999749</td>\n",
       "    </tr>\n",
       "    <tr>\n",
       "      <th>2000-01-18</th>\n",
       "      <td>4.611238</td>\n",
       "      <td>-3.447495</td>\n",
       "      <td>3.062263</td>\n",
       "      <td>5.474165</td>\n",
       "    </tr>\n",
       "    <tr>\n",
       "      <th>2000-01-19</th>\n",
       "      <td>5.192262</td>\n",
       "      <td>-3.408610</td>\n",
       "      <td>2.271601</td>\n",
       "      <td>3.827952</td>\n",
       "    </tr>\n",
       "    <tr>\n",
       "      <th>2000-01-20</th>\n",
       "      <td>5.006160</td>\n",
       "      <td>-4.134497</td>\n",
       "      <td>2.538508</td>\n",
       "      <td>2.188973</td>\n",
       "    </tr>\n",
       "    <tr>\n",
       "      <th>2000-01-21</th>\n",
       "      <td>2.773312</td>\n",
       "      <td>-5.459046</td>\n",
       "      <td>4.621657</td>\n",
       "      <td>1.894303</td>\n",
       "    </tr>\n",
       "    <tr>\n",
       "      <th>2000-01-22</th>\n",
       "      <td>2.442135</td>\n",
       "      <td>-6.164332</td>\n",
       "      <td>4.293115</td>\n",
       "      <td>1.687484</td>\n",
       "    </tr>\n",
       "    <tr>\n",
       "      <th>2000-01-23</th>\n",
       "      <td>2.448109</td>\n",
       "      <td>-5.333358</td>\n",
       "      <td>3.358044</td>\n",
       "      <td>1.689873</td>\n",
       "    </tr>\n",
       "    <tr>\n",
       "      <th>2000-01-24</th>\n",
       "      <td>3.216344</td>\n",
       "      <td>-5.793664</td>\n",
       "      <td>1.978117</td>\n",
       "      <td>0.445122</td>\n",
       "    </tr>\n",
       "    <tr>\n",
       "      <th>2000-01-25</th>\n",
       "      <td>4.203174</td>\n",
       "      <td>-4.604009</td>\n",
       "      <td>2.586009</td>\n",
       "      <td>-0.223096</td>\n",
       "    </tr>\n",
       "    <tr>\n",
       "      <th>2000-01-26</th>\n",
       "      <td>4.586604</td>\n",
       "      <td>-3.984405</td>\n",
       "      <td>3.465251</td>\n",
       "      <td>-1.235843</td>\n",
       "    </tr>\n",
       "    <tr>\n",
       "      <th>2000-01-27</th>\n",
       "      <td>4.487645</td>\n",
       "      <td>-5.009677</td>\n",
       "      <td>3.423911</td>\n",
       "      <td>-1.737196</td>\n",
       "    </tr>\n",
       "    <tr>\n",
       "      <th>2000-01-28</th>\n",
       "      <td>4.199822</td>\n",
       "      <td>-6.279987</td>\n",
       "      <td>4.377824</td>\n",
       "      <td>-2.825481</td>\n",
       "    </tr>\n",
       "    <tr>\n",
       "      <th>2000-01-29</th>\n",
       "      <td>3.608006</td>\n",
       "      <td>-5.776560</td>\n",
       "      <td>5.752423</td>\n",
       "      <td>-2.129035</td>\n",
       "    </tr>\n",
       "    <tr>\n",
       "      <th>2000-01-30</th>\n",
       "      <td>3.084502</td>\n",
       "      <td>-6.091893</td>\n",
       "      <td>6.255134</td>\n",
       "      <td>-1.392003</td>\n",
       "    </tr>\n",
       "    <tr>\n",
       "      <th>...</th>\n",
       "      <td>...</td>\n",
       "      <td>...</td>\n",
       "      <td>...</td>\n",
       "      <td>...</td>\n",
       "    </tr>\n",
       "    <tr>\n",
       "      <th>2002-08-28</th>\n",
       "      <td>22.780061</td>\n",
       "      <td>20.648851</td>\n",
       "      <td>-21.604012</td>\n",
       "      <td>15.742328</td>\n",
       "    </tr>\n",
       "    <tr>\n",
       "      <th>2002-08-29</th>\n",
       "      <td>22.933123</td>\n",
       "      <td>22.128622</td>\n",
       "      <td>-21.738120</td>\n",
       "      <td>17.014633</td>\n",
       "    </tr>\n",
       "    <tr>\n",
       "      <th>2002-08-30</th>\n",
       "      <td>21.626663</td>\n",
       "      <td>21.535557</td>\n",
       "      <td>-19.564974</td>\n",
       "      <td>18.556905</td>\n",
       "    </tr>\n",
       "    <tr>\n",
       "      <th>2002-08-31</th>\n",
       "      <td>22.726063</td>\n",
       "      <td>23.593569</td>\n",
       "      <td>-18.631220</td>\n",
       "      <td>16.634772</td>\n",
       "    </tr>\n",
       "    <tr>\n",
       "      <th>2002-09-01</th>\n",
       "      <td>22.108608</td>\n",
       "      <td>22.180184</td>\n",
       "      <td>-18.322060</td>\n",
       "      <td>17.469928</td>\n",
       "    </tr>\n",
       "    <tr>\n",
       "      <th>2002-09-02</th>\n",
       "      <td>21.590939</td>\n",
       "      <td>21.943505</td>\n",
       "      <td>-19.179314</td>\n",
       "      <td>17.762106</td>\n",
       "    </tr>\n",
       "    <tr>\n",
       "      <th>2002-09-03</th>\n",
       "      <td>21.607837</td>\n",
       "      <td>23.728029</td>\n",
       "      <td>-19.305509</td>\n",
       "      <td>17.661149</td>\n",
       "    </tr>\n",
       "    <tr>\n",
       "      <th>2002-09-04</th>\n",
       "      <td>22.023978</td>\n",
       "      <td>24.921333</td>\n",
       "      <td>-19.504191</td>\n",
       "      <td>19.775536</td>\n",
       "    </tr>\n",
       "    <tr>\n",
       "      <th>2002-09-05</th>\n",
       "      <td>21.640818</td>\n",
       "      <td>24.468493</td>\n",
       "      <td>-19.798892</td>\n",
       "      <td>20.102941</td>\n",
       "    </tr>\n",
       "    <tr>\n",
       "      <th>2002-09-06</th>\n",
       "      <td>21.890561</td>\n",
       "      <td>25.698231</td>\n",
       "      <td>-19.813194</td>\n",
       "      <td>19.117859</td>\n",
       "    </tr>\n",
       "    <tr>\n",
       "      <th>2002-09-07</th>\n",
       "      <td>21.126275</td>\n",
       "      <td>25.721356</td>\n",
       "      <td>-19.903672</td>\n",
       "      <td>21.125285</td>\n",
       "    </tr>\n",
       "    <tr>\n",
       "      <th>2002-09-08</th>\n",
       "      <td>20.368905</td>\n",
       "      <td>26.675317</td>\n",
       "      <td>-18.654863</td>\n",
       "      <td>20.866159</td>\n",
       "    </tr>\n",
       "    <tr>\n",
       "      <th>2002-09-09</th>\n",
       "      <td>20.584284</td>\n",
       "      <td>25.873043</td>\n",
       "      <td>-20.277675</td>\n",
       "      <td>20.736735</td>\n",
       "    </tr>\n",
       "    <tr>\n",
       "      <th>2002-09-10</th>\n",
       "      <td>22.968723</td>\n",
       "      <td>26.312450</td>\n",
       "      <td>-19.754751</td>\n",
       "      <td>21.056429</td>\n",
       "    </tr>\n",
       "    <tr>\n",
       "      <th>2002-09-11</th>\n",
       "      <td>22.690295</td>\n",
       "      <td>27.823611</td>\n",
       "      <td>-19.797484</td>\n",
       "      <td>22.113665</td>\n",
       "    </tr>\n",
       "    <tr>\n",
       "      <th>2002-09-12</th>\n",
       "      <td>23.848687</td>\n",
       "      <td>28.269865</td>\n",
       "      <td>-19.316796</td>\n",
       "      <td>23.027453</td>\n",
       "    </tr>\n",
       "    <tr>\n",
       "      <th>2002-09-13</th>\n",
       "      <td>22.588458</td>\n",
       "      <td>28.136116</td>\n",
       "      <td>-18.659905</td>\n",
       "      <td>24.512653</td>\n",
       "    </tr>\n",
       "    <tr>\n",
       "      <th>2002-09-14</th>\n",
       "      <td>23.894968</td>\n",
       "      <td>28.479373</td>\n",
       "      <td>-19.395166</td>\n",
       "      <td>25.239211</td>\n",
       "    </tr>\n",
       "    <tr>\n",
       "      <th>2002-09-15</th>\n",
       "      <td>25.778426</td>\n",
       "      <td>28.180056</td>\n",
       "      <td>-19.109166</td>\n",
       "      <td>26.221094</td>\n",
       "    </tr>\n",
       "    <tr>\n",
       "      <th>2002-09-16</th>\n",
       "      <td>25.906219</td>\n",
       "      <td>29.700355</td>\n",
       "      <td>-19.885183</td>\n",
       "      <td>27.449251</td>\n",
       "    </tr>\n",
       "    <tr>\n",
       "      <th>2002-09-17</th>\n",
       "      <td>27.853709</td>\n",
       "      <td>29.811529</td>\n",
       "      <td>-18.097719</td>\n",
       "      <td>26.578918</td>\n",
       "    </tr>\n",
       "    <tr>\n",
       "      <th>2002-09-18</th>\n",
       "      <td>25.296754</td>\n",
       "      <td>29.922515</td>\n",
       "      <td>-18.429311</td>\n",
       "      <td>24.477316</td>\n",
       "    </tr>\n",
       "    <tr>\n",
       "      <th>2002-09-19</th>\n",
       "      <td>25.091081</td>\n",
       "      <td>30.723172</td>\n",
       "      <td>-17.901037</td>\n",
       "      <td>25.596198</td>\n",
       "    </tr>\n",
       "    <tr>\n",
       "      <th>2002-09-20</th>\n",
       "      <td>24.869786</td>\n",
       "      <td>30.221543</td>\n",
       "      <td>-18.306350</td>\n",
       "      <td>28.173137</td>\n",
       "    </tr>\n",
       "    <tr>\n",
       "      <th>2002-09-21</th>\n",
       "      <td>24.342214</td>\n",
       "      <td>31.668983</td>\n",
       "      <td>-17.418617</td>\n",
       "      <td>27.616035</td>\n",
       "    </tr>\n",
       "    <tr>\n",
       "      <th>2002-09-22</th>\n",
       "      <td>26.174939</td>\n",
       "      <td>32.610929</td>\n",
       "      <td>-17.963764</td>\n",
       "      <td>27.115884</td>\n",
       "    </tr>\n",
       "    <tr>\n",
       "      <th>2002-09-23</th>\n",
       "      <td>26.623812</td>\n",
       "      <td>32.408973</td>\n",
       "      <td>-17.570757</td>\n",
       "      <td>25.590087</td>\n",
       "    </tr>\n",
       "    <tr>\n",
       "      <th>2002-09-24</th>\n",
       "      <td>27.221335</td>\n",
       "      <td>33.479513</td>\n",
       "      <td>-17.722957</td>\n",
       "      <td>24.480275</td>\n",
       "    </tr>\n",
       "    <tr>\n",
       "      <th>2002-09-25</th>\n",
       "      <td>26.851276</td>\n",
       "      <td>32.401026</td>\n",
       "      <td>-18.712882</td>\n",
       "      <td>26.629902</td>\n",
       "    </tr>\n",
       "    <tr>\n",
       "      <th>2002-09-26</th>\n",
       "      <td>25.808979</td>\n",
       "      <td>31.709772</td>\n",
       "      <td>-18.118046</td>\n",
       "      <td>26.750451</td>\n",
       "    </tr>\n",
       "  </tbody>\n",
       "</table>\n",
       "<p>1000 rows × 4 columns</p>\n",
       "</div>"
      ],
      "text/plain": [
       "                    A          B          C          D\n",
       "2000-01-01  -0.919928   1.081738  -0.186911   0.739160\n",
       "2000-01-02  -0.270961   1.963527  -0.631587   1.103502\n",
       "2000-01-03   1.882641   1.855084  -0.800290  -0.113979\n",
       "2000-01-04   2.851876   0.610934   1.256351  -0.436652\n",
       "2000-01-05   2.892188  -1.317954   0.619808   0.927255\n",
       "2000-01-06   4.094697  -3.955532   0.684621   1.695725\n",
       "2000-01-07   4.112604  -1.901707   1.726961   1.903704\n",
       "2000-01-08   3.537720  -1.971962   3.350954   3.111633\n",
       "2000-01-09   6.395478  -3.343957   4.235083   6.348437\n",
       "2000-01-10   4.506804  -4.301666   3.761705   6.098201\n",
       "2000-01-11   3.820394  -3.572915   3.535860   5.175339\n",
       "2000-01-12   3.458146  -1.440174   3.829066   5.932258\n",
       "2000-01-13   3.531780  -1.921043   3.650361   5.699988\n",
       "2000-01-14   3.736585  -1.340193   4.088815   5.655213\n",
       "2000-01-15   3.581510  -2.230484   4.011262   4.440446\n",
       "2000-01-16   2.942614  -1.832305   1.933797   4.192433\n",
       "2000-01-17   2.613332  -3.238367   3.494031   3.999749\n",
       "2000-01-18   4.611238  -3.447495   3.062263   5.474165\n",
       "2000-01-19   5.192262  -3.408610   2.271601   3.827952\n",
       "2000-01-20   5.006160  -4.134497   2.538508   2.188973\n",
       "2000-01-21   2.773312  -5.459046   4.621657   1.894303\n",
       "2000-01-22   2.442135  -6.164332   4.293115   1.687484\n",
       "2000-01-23   2.448109  -5.333358   3.358044   1.689873\n",
       "2000-01-24   3.216344  -5.793664   1.978117   0.445122\n",
       "2000-01-25   4.203174  -4.604009   2.586009  -0.223096\n",
       "2000-01-26   4.586604  -3.984405   3.465251  -1.235843\n",
       "2000-01-27   4.487645  -5.009677   3.423911  -1.737196\n",
       "2000-01-28   4.199822  -6.279987   4.377824  -2.825481\n",
       "2000-01-29   3.608006  -5.776560   5.752423  -2.129035\n",
       "2000-01-30   3.084502  -6.091893   6.255134  -1.392003\n",
       "...               ...        ...        ...        ...\n",
       "2002-08-28  22.780061  20.648851 -21.604012  15.742328\n",
       "2002-08-29  22.933123  22.128622 -21.738120  17.014633\n",
       "2002-08-30  21.626663  21.535557 -19.564974  18.556905\n",
       "2002-08-31  22.726063  23.593569 -18.631220  16.634772\n",
       "2002-09-01  22.108608  22.180184 -18.322060  17.469928\n",
       "2002-09-02  21.590939  21.943505 -19.179314  17.762106\n",
       "2002-09-03  21.607837  23.728029 -19.305509  17.661149\n",
       "2002-09-04  22.023978  24.921333 -19.504191  19.775536\n",
       "2002-09-05  21.640818  24.468493 -19.798892  20.102941\n",
       "2002-09-06  21.890561  25.698231 -19.813194  19.117859\n",
       "2002-09-07  21.126275  25.721356 -19.903672  21.125285\n",
       "2002-09-08  20.368905  26.675317 -18.654863  20.866159\n",
       "2002-09-09  20.584284  25.873043 -20.277675  20.736735\n",
       "2002-09-10  22.968723  26.312450 -19.754751  21.056429\n",
       "2002-09-11  22.690295  27.823611 -19.797484  22.113665\n",
       "2002-09-12  23.848687  28.269865 -19.316796  23.027453\n",
       "2002-09-13  22.588458  28.136116 -18.659905  24.512653\n",
       "2002-09-14  23.894968  28.479373 -19.395166  25.239211\n",
       "2002-09-15  25.778426  28.180056 -19.109166  26.221094\n",
       "2002-09-16  25.906219  29.700355 -19.885183  27.449251\n",
       "2002-09-17  27.853709  29.811529 -18.097719  26.578918\n",
       "2002-09-18  25.296754  29.922515 -18.429311  24.477316\n",
       "2002-09-19  25.091081  30.723172 -17.901037  25.596198\n",
       "2002-09-20  24.869786  30.221543 -18.306350  28.173137\n",
       "2002-09-21  24.342214  31.668983 -17.418617  27.616035\n",
       "2002-09-22  26.174939  32.610929 -17.963764  27.115884\n",
       "2002-09-23  26.623812  32.408973 -17.570757  25.590087\n",
       "2002-09-24  27.221335  33.479513 -17.722957  24.480275\n",
       "2002-09-25  26.851276  32.401026 -18.712882  26.629902\n",
       "2002-09-26  25.808979  31.709772 -18.118046  26.750451\n",
       "\n",
       "[1000 rows x 4 columns]"
      ]
     },
     "execution_count": 141,
     "metadata": {},
     "output_type": "execute_result"
    }
   ],
   "source": [
    "pd.read_excel('foo.xlsx', 'Sheet1', index_col=None, na_values=['NA'])"
   ]
  },
  {
   "cell_type": "code",
   "execution_count": null,
   "metadata": {
    "collapsed": true
   },
   "outputs": [],
   "source": []
  }
 ],
 "metadata": {
  "kernelspec": {
   "display_name": "Python [Root]",
   "language": "python",
   "name": "Python [Root]"
  },
  "language_info": {
   "codemirror_mode": {
    "name": "ipython",
    "version": 3
   },
   "file_extension": ".py",
   "mimetype": "text/x-python",
   "name": "python",
   "nbconvert_exporter": "python",
   "pygments_lexer": "ipython3",
   "version": "3.5.2"
  }
 },
 "nbformat": 4,
 "nbformat_minor": 0
}
