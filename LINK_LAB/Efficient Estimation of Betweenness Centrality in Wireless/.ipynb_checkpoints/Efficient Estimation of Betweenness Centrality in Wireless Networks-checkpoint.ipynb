{
 "cells": [
  {
   "cell_type": "markdown",
   "metadata": {},
   "source": [
    "#  Efficient Estimation of Betweenness Centrality in Wireless Networks"
   ]
  },
  {
   "cell_type": "markdown",
   "metadata": {},
   "source": [
    "* 지난 세미나까지 한 내용들.\n",
    "    1. Ego Network  \n",
    "      - \\\\(A^2[1-A]\\\\)  \n",
    "    2. X-Ego Network\n",
    "  \n",
    "\n",
    "* 이번 시간 할 내용\n",
    "    1. Theorem 2\n",
    "    2. Theorem 3\n",
    "    3. Theorem 4"
   ]
  },
  {
   "cell_type": "markdown",
   "metadata": {},
   "source": [
    "----"
   ]
  },
  {
   "cell_type": "markdown",
   "metadata": {},
   "source": [
    "![](https://github.com/HeoJooSeong/zoostar/blob/master/LINK_LAB/Efficient%20Estimation%20of%20Betweenness%20Centrality%20in%20Wireless/image/Ego,XEgo.png?raw=true)  \n",
    "![](https://github.com/HeoJooSeong/zoostar/blob/master/LINK_LAB/Efficient%20Estimation%20of%20Betweenness%20Centrality%20in%20Wireless/image/Def1.png?raw=true)"
   ]
  },
  {
   "cell_type": "markdown",
   "metadata": {},
   "source": [
    "  ![](https://github.com/HeoJooSeong/zoostar/blob/master/LINK_LAB/Efficient%20Estimation%20of%20Betweenness%20Centrality%20in%20Wireless/image/Def2.png?raw=true)"
   ]
  },
  {
   "cell_type": "markdown",
   "metadata": {},
   "source": [
    "----"
   ]
  },
  {
   "cell_type": "markdown",
   "metadata": {},
   "source": [
    "  ![](https://github.com/HeoJooSeong/zoostar/blob/master/LINK_LAB/Efficient%20Estimation%20of%20Betweenness%20Centrality%20in%20Wireless/image/Theorem1.png?raw=true)"
   ]
  },
  {
   "cell_type": "markdown",
   "metadata": {},
   "source": [
    "x-ego 네트워크에서 두개의 다른 1홉 노드들 중 두 노드가 연결되어 있다면 두 노드간의 의존성은 0이다. "
   ]
  },
  {
   "cell_type": "markdown",
   "metadata": {},
   "source": [
    "  ![](https://github.com/HeoJooSeong/zoostar/blob/master/LINK_LAB/Efficient%20Estimation%20of%20Betweenness%20Centrality%20in%20Wireless/image/Theorem2.png?raw=true)"
   ]
  },
  {
   "cell_type": "markdown",
   "metadata": {},
   "source": [
    "![](https://github.com/HeoJooSeong/zoostar/blob/master/LINK_LAB/Efficient%20Estimation%20of%20Betweenness%20Centrality%20in%20Wireless/image/Ego,XEgo.png?raw=true) "
   ]
  },
  {
   "cell_type": "markdown",
   "metadata": {},
   "source": [
    "x-ego 네트워크에서 두개의 다른 1홉 노드들 중 두 노드가 연결되어 있지 않다면 두 노드 간의 의존성은 두 노드 사이의 공통된 이웃의 수 분의 1과 같다"
   ]
  },
  {
   "cell_type": "markdown",
   "metadata": {},
   "source": [
    "  ![](https://github.com/HeoJooSeong/zoostar/blob/master/LINK_LAB/Efficient%20Estimation%20of%20Betweenness%20Centrality%20in%20Wireless/image/Theorem3.png?raw=true)"
   ]
  },
  {
   "cell_type": "markdown",
   "metadata": {},
   "source": [
    "x-ego 네트워크에서 두개의 다른 노드들 중 s는 2홉,1홉 거리, t는 2홉 거리인 노드일때, t의 1홉 노드와 s까지의 의존성이 0이면, s와 t의 의존성 역시 0이다."
   ]
  },
  {
   "cell_type": "markdown",
   "metadata": {},
   "source": [
    "  ![](https://github.com/HeoJooSeong/zoostar/blob/master/LINK_LAB/Efficient%20Estimation%20of%20Betweenness%20Centrality%20in%20Wireless/image/Theorem4.png?raw=true)"
   ]
  },
  {
   "cell_type": "markdown",
   "metadata": {},
   "source": [
    "x-ego 네트워크에서 두개의 다른 노드들 중 s는 2홉,1홉 거리, t는 2홉 거리인 노드일때, 두 노드간의 의존성은 s와 t의 1홉노드들 간의 의존성 값들의 조화평균과 같다."
   ]
  },
  {
   "cell_type": "markdown",
   "metadata": {},
   "source": []
  },
  {
   "cell_type": "markdown",
   "metadata": {},
   "source": []
  },
  {
   "cell_type": "markdown",
   "metadata": {},
   "source": []
  },
  {
   "cell_type": "markdown",
   "metadata": {},
   "source": []
  },
  {
   "cell_type": "markdown",
   "metadata": {},
   "source": []
  }
 ],
 "metadata": {
  "kernelspec": {
   "display_name": "Python 2",
   "language": "python",
   "name": "python2"
  },
  "language_info": {
   "codemirror_mode": {
    "name": "ipython",
    "version": 2
   },
   "file_extension": ".py",
   "mimetype": "text/x-python",
   "name": "python",
   "nbconvert_exporter": "python",
   "pygments_lexer": "ipython2",
   "version": "2.7.9"
  }
 },
 "nbformat": 4,
 "nbformat_minor": 0
}
