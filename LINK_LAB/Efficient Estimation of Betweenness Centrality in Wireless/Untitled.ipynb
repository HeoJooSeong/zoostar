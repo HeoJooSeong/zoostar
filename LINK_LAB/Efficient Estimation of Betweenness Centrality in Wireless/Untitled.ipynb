{
 "cells": [
  {
   "cell_type": "markdown",
   "metadata": {},
   "source": [
    "#  Efficient Estimation of Betweenness Centrality in Wireless Networks"
   ]
  },
  {
   "cell_type": "markdown",
   "metadata": {},
   "source": [
    "* 지난 세미나까지 한 내용들.\n",
    "    1. Ego Network  \n",
    "      - \\\\(A^2[1-A]\\\\)  \n",
    "    2. X-Ego Network\n",
    "  \n",
    "\n",
    "* 이번 시간 할 내용\n",
    "    1. Theorem 2\n",
    "    2. Theorem 3\n",
    "    3. Theorem 4"
   ]
  },
  {
   "cell_type": "markdown",
   "metadata": {},
   "source": [
    "----"
   ]
  },
  {
   "cell_type": "markdown",
   "metadata": {},
   "source": [
    "![](https://github.com/HeoJooSeong/zoostar/blob/master/LINK_LAB/Efficient%20Estimation%20of%20Betweenness%20Centrality%20in%20Wireless/image/Ego,XEgo.png?raw=true)  \n",
    "![](https://github.com/HeoJooSeong/zoostar/blob/master/LINK_LAB/Efficient%20Estimation%20of%20Betweenness%20Centrality%20in%20Wireless/image/Def1.png?raw=true)"
   ]
  },
  {
   "cell_type": "markdown",
   "metadata": {},
   "source": [
    "  ![](https://github.com/HeoJooSeong/zoostar/blob/master/LINK_LAB/Efficient%20Estimation%20of%20Betweenness%20Centrality%20in%20Wireless/image/Def2.png?raw=true)"
   ]
  },
  {
   "cell_type": "markdown",
   "metadata": {},
   "source": []
  },
  {
   "cell_type": "markdown",
   "metadata": {},
   "source": []
  },
  {
   "cell_type": "markdown",
   "metadata": {},
   "source": []
  },
  {
   "cell_type": "markdown",
   "metadata": {},
   "source": []
  },
  {
   "cell_type": "markdown",
   "metadata": {},
   "source": []
  }
 ],
 "metadata": {
  "kernelspec": {
   "display_name": "Python 2",
   "language": "python",
   "name": "python2"
  },
  "language_info": {
   "codemirror_mode": {
    "name": "ipython",
    "version": 2
   },
   "file_extension": ".py",
   "mimetype": "text/x-python",
   "name": "python",
   "nbconvert_exporter": "python",
   "pygments_lexer": "ipython2",
   "version": "2.7.9"
  }
 },
 "nbformat": 4,
 "nbformat_minor": 0
}
