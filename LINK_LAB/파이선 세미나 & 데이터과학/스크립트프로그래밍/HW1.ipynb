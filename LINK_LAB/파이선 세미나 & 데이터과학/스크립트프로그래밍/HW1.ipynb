{
 "metadata": {
  "name": "",
  "signature": "sha256:d48376c869b104cc022643c72cd0cbc50421662d786824c18c92357caca244e5"
 },
 "nbformat": 3,
 "nbformat_minor": 0,
 "worksheets": [
  {
   "cells": [
    {
     "cell_type": "markdown",
     "metadata": {},
     "source": [
      "HW1_2010136140_\ud5c8\uc8fc\uc131 \uacfc\uc81c"
     ]
    },
    {
     "cell_type": "markdown",
     "metadata": {},
     "source": [
      "[1\ubc88 \ubb38\uc81c]\n",
      " a=\"Hello Python\" \ubb38\uc790\uc5f4\uc744 Slicing\uacfc \uc5f0\uacb0 \uc5f0\uc0b0\uc790 (+)\ub97c \uc0ac\uc6a9\ud558\uc5ec \"Python Hello\"\ub85c \ubcc0\uacbd\ud558\uc2dc\uc624.\n",
      "[\uc8fc\uc758] a \ubcc0\uc218 \uc790\uccb4\uc5d0 \"Python Hello\" \ubb38\uc790\uc5f4\uc774 \uc800\uc7a5\ub418\uc5b4\uc57c \ud568"
     ]
    },
    {
     "cell_type": "code",
     "collapsed": false,
     "input": [
      "a=\"Hello Python\"\n",
      "a= a[6:] + \" Hello\"\n",
      "a"
     ],
     "language": "python",
     "metadata": {},
     "outputs": [
      {
       "metadata": {},
       "output_type": "pyout",
       "prompt_number": 23,
       "text": [
        "'Python Hello'"
       ]
      }
     ],
     "prompt_number": 23
    },
    {
     "cell_type": "markdown",
     "metadata": {},
     "source": [
      "[2\ubc88 \ubb38\uc81c]\n",
      " b=\"Hello Python World\" \ubb38\uc790\uc5f4\uc744 Slicing\uacfc \uc5f0\uacb0 \uc5f0\uc0b0\uc790 (+)\ub97c \uc0ac\uc6a9\ud558\uc5ec \"World Python Hello\"\ub85c \ubcc0\uacbd\ud558\uc2dc\uc624.\n",
      "[\uc8fc\uc758] b \ubcc0\uc218 \uc790\uccb4\uc5d0 \"Python Hello\" \ubb38\uc790\uc5f4\uc774 \uc800\uc7a5\ub418\uc5b4\uc57c \ud568"
     ]
    },
    {
     "cell_type": "code",
     "collapsed": false,
     "input": [
      "b=\"Hello Python World\"\n",
      "b=b[0:12]\n",
      "print \"World \" + b"
     ],
     "language": "python",
     "metadata": {},
     "outputs": [
      {
       "output_type": "stream",
       "stream": "stdout",
       "text": [
        "World Hello Python\n"
       ]
      }
     ],
     "prompt_number": 28
    },
    {
     "cell_type": "markdown",
     "metadata": {},
     "source": [
      "[3\ubc88 \ubb38\uc81c]\n",
      " c=\"Hello\"\ub97c \"olleH\"\ub85c \ubcc0\uacbd\ud558\uc2dc\uc624\n",
      "[\uc8fc\uc758] c \ubcc0\uc218 \uc790\uccb4\uc5d0 \"olleH\" \ubb38\uc790\uc5f4\uc774 \uc800\uc7a5\ub418\uc5b4\uc57c \ud568"
     ]
    },
    {
     "cell_type": "code",
     "collapsed": false,
     "input": [
      "c=\"Hello\"\n",
      "c=c[-1::-1]\n",
      "print c"
     ],
     "language": "python",
     "metadata": {},
     "outputs": [
      {
       "output_type": "stream",
       "stream": "stdout",
       "text": [
        "olleH\n"
       ]
      }
     ],
     "prompt_number": 2
    },
    {
     "cell_type": "markdown",
     "metadata": {},
     "source": [
      "[4\ubc88 \ubb38\uc81c]\n",
      "s=\"python\"\uc5d0 \ub300\ud574 \ub2e4\uc74c \ubb38\uc81c\ub97c \ud480\uc5b4\ubcf4\uc2dc\uc624.\n",
      "s[0], s[0][0], s[0][0][0]\uc740 \uac01\uac01 \uc5b4\ub5a4 \uac12\uc774 \ub098\uc624\ub294\uc9c0 \ud655\uc778\ud558\uace0 \uadf8 \uc774\uc720\ub97c \ub098\ub984\ub300\ub85c \uc124\uba85\ud574 \ubcf4\uc2dc\uc624.\n",
      "s[-100], s[100]\uc740 \uac12\uc774 \ub098\uc624\ub294\uc9c0 \uc5d0\ub7ec\uac00 \ub098\uc624\ub294\uc9c0 \ud655\uc778\ud558\uace0 \uadf8 \uacb0\uacfc\uc5d0 \ub300\ud55c \uc774\uc720\ub97c \ub098\ub984\ub300\ub85c \uc124\uba85\ud574 \ubcf4\uc2dc\uc624.\n",
      "s[-100, 100]\uc740 \uac12\uc774 \ub098\uc624\ub294\uc9c0 \uc5d0\ub7ec\uac00 \ub098\uc624\ub294\uc9c0 \ud655\uc778\ud558\uace0 \uadf8 \uacb0\uacfc\uc5d0 \ub300\ud55c \uc774\uc720\ub97c \ub098\ub984\ub300\ub85c \uc124\uba85\ud574 \ubcf4\uc2dc\uc624.\n",
      "s[1:-1]\uc758 \uacb0\uacfc\ub97c \ud655\uc778\ud558\uace0 \uadf8 \uacb0\uacfc\uc5d0 \ub300\ud55c \uc774\uc720\ub97c \uc815\ud655\ud558\uac8c \uc124\uba85\ud558\uc2dc\uc624.\n",
      "s[3:-3]\uc758 \uacb0\uacfc\ub97c \ud655\uc778\ud558\uace0 \uadf8 \uacb0\uacfc\uc5d0 \ub300\ud55c \uc774\uc720\ub97c \uc815\ud655\ud558\uac8c \uc124\uba85\ud558\uc2dc\uc624."
     ]
    },
    {
     "cell_type": "code",
     "collapsed": false,
     "input": [
      "s=\"python\"\n",
      "s[0]"
     ],
     "language": "python",
     "metadata": {},
     "outputs": [
      {
       "metadata": {},
       "output_type": "pyout",
       "prompt_number": 5,
       "text": [
        "'p'"
       ]
      }
     ],
     "prompt_number": 5
    },
    {
     "cell_type": "code",
     "collapsed": false,
     "input": [
      "s[0][0]"
     ],
     "language": "python",
     "metadata": {},
     "outputs": [
      {
       "metadata": {},
       "output_type": "pyout",
       "prompt_number": 31,
       "text": [
        "'p'"
       ]
      }
     ],
     "prompt_number": 31
    },
    {
     "cell_type": "code",
     "collapsed": false,
     "input": [
      "s[0][0][0]"
     ],
     "language": "python",
     "metadata": {},
     "outputs": [
      {
       "metadata": {},
       "output_type": "pyout",
       "prompt_number": 7,
       "text": [
        "'p'"
       ]
      }
     ],
     "prompt_number": 7
    },
    {
     "cell_type": "markdown",
     "metadata": {},
     "source": [
      "\uc774\uc720 : \ud30c\uc774\uc36c \uc5b8\uc5b4\uc758 \ud2b9\uc131 \uc0c1 \ub3d9\uc801\uc778 \ub370\uc774\ud130\ud0c0\uc785 \uacb0\uc815\uc744 \uc9c0\uc6d0\ud574\uc8fc\uae30 \ub54c\ubb38\uc5d0 \ubaa8\ub450 \ub611\uac19\uc740 \uac12\uc774 \ub098\uc624\ub294 \uac83 \uac19\ub2e4."
     ]
    },
    {
     "cell_type": "code",
     "collapsed": false,
     "input": [
      "s[100]"
     ],
     "language": "python",
     "metadata": {},
     "outputs": [
      {
       "ename": "IndexError",
       "evalue": "string index out of range",
       "output_type": "pyerr",
       "traceback": [
        "\u001b[1;31m---------------------------------------------------------------------------\u001b[0m\n\u001b[1;31mIndexError\u001b[0m                                Traceback (most recent call last)",
        "\u001b[1;32m<ipython-input-39-563ffd4f61fe>\u001b[0m in \u001b[0;36m<module>\u001b[1;34m()\u001b[0m\n\u001b[1;32m----> 1\u001b[1;33m \u001b[0ms\u001b[0m\u001b[1;33m[\u001b[0m\u001b[1;36m10\u001b[0m\u001b[1;33m]\u001b[0m\u001b[1;33m\u001b[0m\u001b[0m\n\u001b[0m",
        "\u001b[1;31mIndexError\u001b[0m: string index out of range"
       ]
      }
     ],
     "prompt_number": 39
    },
    {
     "cell_type": "code",
     "collapsed": false,
     "input": [
      "s[-100]"
     ],
     "language": "python",
     "metadata": {},
     "outputs": [
      {
       "ename": "IndexError",
       "evalue": "string index out of range",
       "output_type": "pyerr",
       "traceback": [
        "\u001b[1;31m---------------------------------------------------------------------------\u001b[0m\n\u001b[1;31mIndexError\u001b[0m                                Traceback (most recent call last)",
        "\u001b[1;32m<ipython-input-38-c9bfa1a0d327>\u001b[0m in \u001b[0;36m<module>\u001b[1;34m()\u001b[0m\n\u001b[1;32m----> 1\u001b[1;33m \u001b[0ms\u001b[0m\u001b[1;33m[\u001b[0m\u001b[1;33m-\u001b[0m\u001b[1;36m100\u001b[0m\u001b[1;33m]\u001b[0m\u001b[1;33m\u001b[0m\u001b[0m\n\u001b[0m",
        "\u001b[1;31mIndexError\u001b[0m: string index out of range"
       ]
      }
     ],
     "prompt_number": 38
    },
    {
     "cell_type": "markdown",
     "metadata": {},
     "source": [
      "\uc774\uc720 : s\uc5d0 python \uc774\ub77c\ub294 \ubb38\uc790\uc5f4\uc774 \uc800\uc7a5\ub418\uc5b4 \uc788\ub294\ub370 s[100]\uc640  s[-100]\uc740 string \ubc94\uc704\ub97c \ubc97\uc5b4\ub0ac\uae30 \ub54c\ubb38\uc5d0 \uc624\ub958\uac00 \ub09c\ub2e4."
     ]
    },
    {
     "cell_type": "code",
     "collapsed": false,
     "input": [
      "s[1:-1]"
     ],
     "language": "python",
     "metadata": {},
     "outputs": [
      {
       "metadata": {},
       "output_type": "pyout",
       "prompt_number": 40,
       "text": [
        "'ytho'"
       ]
      }
     ],
     "prompt_number": 40
    },
    {
     "cell_type": "markdown",
     "metadata": {},
     "source": [
      "\uc774\uc720 : s[-1]\uc740 \ud55c\ubc14\ud034 \ub3cc\uc544\uc11c \ub9c8\uc9c0\ub9c9 'n'\uc744 \ub098\ud0c0\ub0b4\ubbc0\ub85c 1\ubd80\ud130 -1\uae4c\uc9c0\ub294 P\uc640 n\uc744 \ube80 'ytho'\uac00 \ub41c\ub2e4."
     ]
    },
    {
     "cell_type": "code",
     "collapsed": false,
     "input": [
      "s[3:-3]"
     ],
     "language": "python",
     "metadata": {},
     "outputs": [
      {
       "metadata": {},
       "output_type": "pyout",
       "prompt_number": 44,
       "text": [
        "''"
       ]
      }
     ],
     "prompt_number": 44
    },
    {
     "cell_type": "markdown",
     "metadata": {},
     "source": [
      "\uc774\uc720 : Python\uc740 \ucd1d 6\uae00\uc790\ub85c s[3:]\uacfc s[-3:]\uc758 \uc2dc\uc791\uc810\uc774 \uac19\uae30 \ub54c\ubb38\uc5d0 \ucd9c\ub825 \uacb0\uacfc\ub294 \uc5c6\uac8c \ub41c\ub2e4."
     ]
    },
    {
     "cell_type": "markdown",
     "metadata": {},
     "source": [
      "[5\ubc88 \ubb38\uc81c]\n",
      " for\ubb38\uc744 \ud65c\uc6a9\ud558\uc5ec 1\ubd80\ud130 100\uc0ac\uc774\uc758 \ud640\uc218\ub97c \ucd9c\ub825\ud558\uc2dc\uc624."
     ]
    },
    {
     "cell_type": "code",
     "collapsed": false,
     "input": [
      "for x in  range(1,101):\n",
      "    if x%2 == 0:\n",
      "        continue\n",
      "    else:\n",
      "        print x"
     ],
     "language": "python",
     "metadata": {},
     "outputs": [
      {
       "output_type": "stream",
       "stream": "stdout",
       "text": [
        "1\n",
        "3\n",
        "5\n",
        "7\n",
        "9\n",
        "11\n",
        "13\n",
        "15\n",
        "17\n",
        "19\n",
        "21\n",
        "23\n",
        "25\n",
        "27\n",
        "29\n",
        "31\n",
        "33\n",
        "35\n",
        "37\n",
        "39\n",
        "41\n",
        "43\n",
        "45\n",
        "47\n",
        "49\n",
        "51\n",
        "53\n",
        "55\n",
        "57\n",
        "59\n",
        "61\n",
        "63\n",
        "65\n",
        "67\n",
        "69\n",
        "71\n",
        "73\n",
        "75\n",
        "77\n",
        "79\n",
        "81\n",
        "83\n",
        "85\n",
        "87\n",
        "89\n",
        "91\n",
        "93\n",
        "95\n",
        "97\n",
        "99\n"
       ]
      }
     ],
     "prompt_number": 48
    },
    {
     "cell_type": "markdown",
     "metadata": {},
     "source": [
      "\uc124\uba85 : \ud640\uc218\ub97c \ucd9c\ub825\ud558\uae30 \ub54c\ubb38\uc5d0 %2\ub97c \uc0ac\uc6a9\ud574 \ud640\uc218\ub97c \uac78\ub7ec\ub0b4 \ucd9c\ub825\uc2dc\ucf30\ub2e4."
     ]
    },
    {
     "cell_type": "markdown",
     "metadata": {},
     "source": [
      "[6\ubc88 \ubb38\uc81c]\n",
      " while\ubb38\uc744 \ud65c\uc6a9\ud558\uc5ec 1\ubd80\ud130 100\uc0ac\uc774\uc758 \uc9dd\uc218\uc758 \ud569\uc744 \uacc4\uc0b0\ud558\uc5ec \ucd9c\ub825\ud558\uc2dc\uc624."
     ]
    },
    {
     "cell_type": "code",
     "collapsed": false,
     "input": [
      "sum = 0\n",
      "a = 0\n",
      "while a < 101:\n",
      "    a = a + 1\n",
      "    if a%2 == 0:\n",
      "        sum = sum + a\n",
      "    else:\n",
      "        continue\n",
      "print sum"
     ],
     "language": "python",
     "metadata": {},
     "outputs": [
      {
       "output_type": "stream",
       "stream": "stdout",
       "text": [
        "2550\n"
       ]
      }
     ],
     "prompt_number": 2
    },
    {
     "cell_type": "markdown",
     "metadata": {},
     "source": [
      "\uc124\uba85 : \uc9dd\uc218\uc758 \ud569\uc744 \uacc4\uc0b0\ud558\uae30\ub54c\ubb38\uc5d0 \uba3c\uc800 \uc9dd\uc218\ub97c \uad6c\ud55c\ub4a4 sum \ubcc0\uc218\uc5d0 \uadf8 \uac12\uc744 \uacc4\uc18d \ud569\ud574\uc92c\ub2e4."
     ]
    },
    {
     "cell_type": "markdown",
     "metadata": {},
     "source": [
      "[7\ubc88 \ubb38\uc81c]\n",
      "\uc678\ubd80\ub85c \ubd80\ud130 \uc815\uc218\ub97c \uc785\ub825\ubc1b\uc544\uc11c 1\ubd80\ud130 \uadf8 \uc0ac\uc774\uc5d0 \uc874\uc7ac\ud558\ub294 \uc18c\uc218 (Prime number)\ub97c \ucd9c\ub825\ud558\ub294 \ud30c\uc774\uc36c \ud504\ub85c\uadf8\ub7a8\uc744 \uc791\uc131\ud558\uc2dc\uc624."
     ]
    },
    {
     "cell_type": "code",
     "collapsed": false,
     "input": [
      "k = int(raw_input('input : '))\n",
      "\n",
      "for num in range(2, k+1):\n",
      "    count = 0  \n",
      "\n",
      "    for n in range(1, num+1):\n",
      "        if num % n == 0:    \n",
      "            count += 1 \n",
      "        if count > 2: \n",
      "            break\n",
      " \n",
      "    if count == 2:\n",
      "        print(num)"
     ],
     "language": "python",
     "metadata": {},
     "outputs": [
      {
       "name": "stdout",
       "output_type": "stream",
       "stream": "stdout",
       "text": [
        "input : 10\n"
       ]
      },
      {
       "output_type": "stream",
       "stream": "stdout",
       "text": [
        "2\n",
        "3\n",
        "5\n",
        "7\n"
       ]
      }
     ],
     "prompt_number": 4
    },
    {
     "cell_type": "markdown",
     "metadata": {},
     "source": [
      "\uc124\uba85 : \uba3c\uc800 \uc815\uc218\ub97c \uc785\ub825 \ubc1b\uc740 \ub4a4 \uc911\ubcf5 for\ubb38\uc744 \ud1b5\ud574 \uc57d\uc218\uc758 \uac2f\uc218(count)\uac00 2\uac1c \uc774\uc0c1\uc778 \uac83\uc740 \uc18c\uc218\uac00 \uc544\ub2c8\ubbc0\ub85c \uc81c\uc678\ud558\uace0 \ub098\uba38\uc9c0\ub9cc \ubaa8\ub450 \ucd9c\ub825\uc2dc\ucf30\ub2e4."
     ]
    },
    {
     "cell_type": "markdown",
     "metadata": {},
     "source": [
      "****\ud604\uc7ac\uae4c\uc9c0 \uac15\uc758\ub97c \ub4e4\uc740 \uc774\ud6c4\uc758 \uc18c\uac10****\n",
      "\uc9c0\ub3c4\uad50\uc218\ub2d8 \uc218\uc5c5\uc774\ub77c \uadf8\uc800 \ub9c9\uc5f0\ud558\uac8c \ub4e4\uc5b4\ubcf4\uace0 \uc2f6\uc5b4 \uc2e0\uccad\ud55c \uacfc\ubaa9\uc774\uc5c8\ub294\ub370 \ucc98\uc74c\uc5d4 \uc2a4\ud06c\ub9bd\ud2b8 \ud504\ub85c\uadf8\ub798\ubc0d\uc774, \ub610 \ud30c\uc774\uc36c\uc774 \ubb54\uc9c0\ub3c4 \ubab0\ub790\uc9c0\ub9cc\n",
      "\ub9c9\uc0c1 \uc811\ud574\ubcf4\ub2c8 \uc0c8\ub85c\uc6b4 \uc5b8\uc5b4\uc9c0\ub9cc \uc0dd\uac01\ubcf4\ub2e4 \uc26c\uc6b4 \uac83 \uac19\uace0 \uc7ac\ubbf8\uc788\ub2e4. \uacfc\uc81c \uc81c\ucd9c\ubc29\uc2dd\ub3c4 \uc0c8\ub85c\uc6cc \uc2e0\uc120\ud588\ub2e4.\n",
      "\n",
      "****\uc219\uc81c\ub97c \ud55c \uc774\ud6c4\uc758 \uc18c\uac10, \ub610\ub294 \uc804\ud558\uace0\uc790 \ud558\ub294 \ub9d0****\n",
      "\uc2dc\uc2a4\ud15c\ud658\uacbd \uc708\ub3c4\uc6b0 8\uc5d0\uc11c Microsoft \uacc4\uc815\uc744 \uc5f0\ub3d9\ud574 \ud30c\uc77c\uacbd\ub85c\uac00 \ud55c\uae00\ub85c \uc124\uc815\ub418\uc5b4 \uc788\uc5b4\uc11c canopy\ub97c \uc124\uce58\ud558\ub294\ub370\ub9cc \uc0c1\ub2f9\ud55c \uc2dc\uac04\uc774 \uac78\ub838\ub2e4.\n",
      "\ud604\uc7ac \uc9c0\uae08\ub3c4 Editor\ub294 \uc0ac\uc6a9 \ubabb\ud558\uace0 \uc788\uc9c0\ub9cc ipython\uc740 \ubb34\ub9ac\uac00 \uc5c6\uae30\uc5d0 \uacfc\uc81c\ub97c \ud558\ub294\ub370\uc5d4 \uc774\uc0c1\uc774 \uc5c6\uc5c8\ub2e4.\n",
      "\uace0\uc0dd\uace0\uc0dd\ud574\uc11c \uc124\uce58\ud55c \ub355\ubd84\uc778\uc9c0 \ud558\uace0\ub098\ub2c8 \ubfcc\ub4ef\ud558\uace0 \ud504\ub85c\uadf8\ub798\ubc0d\uc5d4 \uc790\uc2e0\uc774 \uc5c6\ub294\ub370 \uc774\uac74 \uc544\uc9c1 \uc5b8\uc5b4\uc758 \uc2dc\uc791\uc774\ub77c \uc26c\uc6cc\n",
      "\uc9c0\uae08\ubd80\ud130 \uc5f4\uc2ec\ud788 \ud558\uba74 \ud30c\uc774\uc36c\uc744 \uc798 \ud560 \uc218 \uc788\uc744\uac83 \uac19\uc740 \uae30\ub300\uac10\uc774 \ub4e0\ub2e4. "
     ]
    }
   ],
   "metadata": {}
  }
 ]
}