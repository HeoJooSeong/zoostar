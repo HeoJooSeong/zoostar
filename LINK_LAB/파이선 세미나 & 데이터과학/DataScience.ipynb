{
 "cells": [
  {
   "cell_type": "markdown",
   "metadata": {},
   "source": [
    "# 10 Minutes to pandas"
   ]
  },
  {
   "cell_type": "code",
   "execution_count": 1,
   "metadata": {
    "collapsed": false
   },
   "outputs": [
    {
     "name": "stdout",
     "output_type": "stream",
     "text": [
      "Using matplotlib backend: MacOSX\n",
      "Populating the interactive namespace from numpy and matplotlib\n"
     ]
    }
   ],
   "source": [
    "In [1]: import pandas as pd\n",
    "\n",
    "In [2]: import numpy as np\n",
    "\n",
    "import matplotlib.pyplot as plt\n",
    "%pylab"
   ]
  },
  {
   "cell_type": "code",
   "execution_count": 2,
   "metadata": {
    "collapsed": false
   },
   "outputs": [
    {
     "data": {
      "text/plain": [
       "0    1.0\n",
       "1    3.0\n",
       "2    5.0\n",
       "3    NaN\n",
       "4    6.0\n",
       "5    8.0\n",
       "dtype: float64"
      ]
     },
     "execution_count": 2,
     "metadata": {},
     "output_type": "execute_result"
    }
   ],
   "source": [
    "s = pd.Series([1,3,5,np.nan,6,8])\n",
    "s"
   ]
  },
  {
   "cell_type": "code",
   "execution_count": 3,
   "metadata": {
    "collapsed": false
   },
   "outputs": [
    {
     "data": {
      "text/plain": [
       "DatetimeIndex(['2013-01-01', '2013-01-02', '2013-01-03', '2013-01-04',\n",
       "               '2013-01-05', '2013-01-06'],\n",
       "              dtype='datetime64[ns]', freq='D')"
      ]
     },
     "execution_count": 3,
     "metadata": {},
     "output_type": "execute_result"
    }
   ],
   "source": [
    "dates = pd.date_range('20130101', periods=6)\n",
    "\n",
    "dates"
   ]
  },
  {
   "cell_type": "code",
   "execution_count": 4,
   "metadata": {
    "collapsed": false
   },
   "outputs": [
    {
     "data": {
      "text/html": [
       "<div>\n",
       "<table border=\"1\" class=\"dataframe\">\n",
       "  <thead>\n",
       "    <tr style=\"text-align: right;\">\n",
       "      <th></th>\n",
       "      <th>A</th>\n",
       "      <th>B</th>\n",
       "      <th>C</th>\n",
       "      <th>D</th>\n",
       "    </tr>\n",
       "  </thead>\n",
       "  <tbody>\n",
       "    <tr>\n",
       "      <th>2013-01-01</th>\n",
       "      <td>-0.745720</td>\n",
       "      <td>-0.170951</td>\n",
       "      <td>0.235976</td>\n",
       "      <td>0.435479</td>\n",
       "    </tr>\n",
       "    <tr>\n",
       "      <th>2013-01-02</th>\n",
       "      <td>0.472137</td>\n",
       "      <td>-1.257141</td>\n",
       "      <td>1.780038</td>\n",
       "      <td>0.736831</td>\n",
       "    </tr>\n",
       "    <tr>\n",
       "      <th>2013-01-03</th>\n",
       "      <td>0.373253</td>\n",
       "      <td>-0.571853</td>\n",
       "      <td>-1.315548</td>\n",
       "      <td>1.232026</td>\n",
       "    </tr>\n",
       "    <tr>\n",
       "      <th>2013-01-04</th>\n",
       "      <td>-0.555839</td>\n",
       "      <td>1.040594</td>\n",
       "      <td>0.863719</td>\n",
       "      <td>-0.146615</td>\n",
       "    </tr>\n",
       "    <tr>\n",
       "      <th>2013-01-05</th>\n",
       "      <td>0.715316</td>\n",
       "      <td>0.396855</td>\n",
       "      <td>0.186399</td>\n",
       "      <td>-0.780587</td>\n",
       "    </tr>\n",
       "    <tr>\n",
       "      <th>2013-01-06</th>\n",
       "      <td>0.152544</td>\n",
       "      <td>-0.333792</td>\n",
       "      <td>0.351103</td>\n",
       "      <td>-2.017988</td>\n",
       "    </tr>\n",
       "  </tbody>\n",
       "</table>\n",
       "</div>"
      ],
      "text/plain": [
       "                   A         B         C         D\n",
       "2013-01-01 -0.745720 -0.170951  0.235976  0.435479\n",
       "2013-01-02  0.472137 -1.257141  1.780038  0.736831\n",
       "2013-01-03  0.373253 -0.571853 -1.315548  1.232026\n",
       "2013-01-04 -0.555839  1.040594  0.863719 -0.146615\n",
       "2013-01-05  0.715316  0.396855  0.186399 -0.780587\n",
       "2013-01-06  0.152544 -0.333792  0.351103 -2.017988"
      ]
     },
     "execution_count": 4,
     "metadata": {},
     "output_type": "execute_result"
    }
   ],
   "source": [
    "df = pd.DataFrame(np.random.randn(6,4), index=dates, columns=list('ABCD'))\n",
    "\n",
    "df"
   ]
  },
  {
   "cell_type": "code",
   "execution_count": 5,
   "metadata": {
    "collapsed": true
   },
   "outputs": [],
   "source": [
    "df2 = pd.DataFrame({ 'A' : 1.,\n",
    "   ....:                      'B' : pd.Timestamp('20130102'),\n",
    "   ....:                      'C' : pd.Series(1,index=list(range(4)),dtype='float32'),\n",
    "   ....:                      'D' : np.array([3] * 4,dtype='int32'),\n",
    "   ....:                      'E' : pd.Categorical([\"test\",\"train\",\"test\",\"train\"]),\n",
    "   ....:                      'F' : 'foo' })"
   ]
  },
  {
   "cell_type": "code",
   "execution_count": 6,
   "metadata": {
    "collapsed": false
   },
   "outputs": [
    {
     "data": {
      "text/html": [
       "<div>\n",
       "<table border=\"1\" class=\"dataframe\">\n",
       "  <thead>\n",
       "    <tr style=\"text-align: right;\">\n",
       "      <th></th>\n",
       "      <th>A</th>\n",
       "      <th>B</th>\n",
       "      <th>C</th>\n",
       "      <th>D</th>\n",
       "      <th>E</th>\n",
       "      <th>F</th>\n",
       "    </tr>\n",
       "  </thead>\n",
       "  <tbody>\n",
       "    <tr>\n",
       "      <th>0</th>\n",
       "      <td>1.0</td>\n",
       "      <td>2013-01-02</td>\n",
       "      <td>1.0</td>\n",
       "      <td>3</td>\n",
       "      <td>test</td>\n",
       "      <td>foo</td>\n",
       "    </tr>\n",
       "    <tr>\n",
       "      <th>1</th>\n",
       "      <td>1.0</td>\n",
       "      <td>2013-01-02</td>\n",
       "      <td>1.0</td>\n",
       "      <td>3</td>\n",
       "      <td>train</td>\n",
       "      <td>foo</td>\n",
       "    </tr>\n",
       "    <tr>\n",
       "      <th>2</th>\n",
       "      <td>1.0</td>\n",
       "      <td>2013-01-02</td>\n",
       "      <td>1.0</td>\n",
       "      <td>3</td>\n",
       "      <td>test</td>\n",
       "      <td>foo</td>\n",
       "    </tr>\n",
       "    <tr>\n",
       "      <th>3</th>\n",
       "      <td>1.0</td>\n",
       "      <td>2013-01-02</td>\n",
       "      <td>1.0</td>\n",
       "      <td>3</td>\n",
       "      <td>train</td>\n",
       "      <td>foo</td>\n",
       "    </tr>\n",
       "  </tbody>\n",
       "</table>\n",
       "</div>"
      ],
      "text/plain": [
       "     A          B    C  D      E    F\n",
       "0  1.0 2013-01-02  1.0  3   test  foo\n",
       "1  1.0 2013-01-02  1.0  3  train  foo\n",
       "2  1.0 2013-01-02  1.0  3   test  foo\n",
       "3  1.0 2013-01-02  1.0  3  train  foo"
      ]
     },
     "execution_count": 6,
     "metadata": {},
     "output_type": "execute_result"
    }
   ],
   "source": [
    "df2"
   ]
  },
  {
   "cell_type": "code",
   "execution_count": 7,
   "metadata": {
    "collapsed": false
   },
   "outputs": [
    {
     "data": {
      "text/plain": [
       "A           float64\n",
       "B    datetime64[ns]\n",
       "C           float32\n",
       "D             int32\n",
       "E          category\n",
       "F            object\n",
       "dtype: object"
      ]
     },
     "execution_count": 7,
     "metadata": {},
     "output_type": "execute_result"
    }
   ],
   "source": [
    "df2.dtypes"
   ]
  },
  {
   "cell_type": "code",
   "execution_count": 8,
   "metadata": {
    "collapsed": false
   },
   "outputs": [
    {
     "data": {
      "text/html": [
       "<div>\n",
       "<table border=\"1\" class=\"dataframe\">\n",
       "  <thead>\n",
       "    <tr style=\"text-align: right;\">\n",
       "      <th></th>\n",
       "      <th>A</th>\n",
       "      <th>B</th>\n",
       "      <th>C</th>\n",
       "      <th>D</th>\n",
       "    </tr>\n",
       "  </thead>\n",
       "  <tbody>\n",
       "    <tr>\n",
       "      <th>2013-01-01</th>\n",
       "      <td>-0.745720</td>\n",
       "      <td>-0.170951</td>\n",
       "      <td>0.235976</td>\n",
       "      <td>0.435479</td>\n",
       "    </tr>\n",
       "    <tr>\n",
       "      <th>2013-01-02</th>\n",
       "      <td>0.472137</td>\n",
       "      <td>-1.257141</td>\n",
       "      <td>1.780038</td>\n",
       "      <td>0.736831</td>\n",
       "    </tr>\n",
       "    <tr>\n",
       "      <th>2013-01-03</th>\n",
       "      <td>0.373253</td>\n",
       "      <td>-0.571853</td>\n",
       "      <td>-1.315548</td>\n",
       "      <td>1.232026</td>\n",
       "    </tr>\n",
       "    <tr>\n",
       "      <th>2013-01-04</th>\n",
       "      <td>-0.555839</td>\n",
       "      <td>1.040594</td>\n",
       "      <td>0.863719</td>\n",
       "      <td>-0.146615</td>\n",
       "    </tr>\n",
       "    <tr>\n",
       "      <th>2013-01-05</th>\n",
       "      <td>0.715316</td>\n",
       "      <td>0.396855</td>\n",
       "      <td>0.186399</td>\n",
       "      <td>-0.780587</td>\n",
       "    </tr>\n",
       "  </tbody>\n",
       "</table>\n",
       "</div>"
      ],
      "text/plain": [
       "                   A         B         C         D\n",
       "2013-01-01 -0.745720 -0.170951  0.235976  0.435479\n",
       "2013-01-02  0.472137 -1.257141  1.780038  0.736831\n",
       "2013-01-03  0.373253 -0.571853 -1.315548  1.232026\n",
       "2013-01-04 -0.555839  1.040594  0.863719 -0.146615\n",
       "2013-01-05  0.715316  0.396855  0.186399 -0.780587"
      ]
     },
     "execution_count": 8,
     "metadata": {},
     "output_type": "execute_result"
    }
   ],
   "source": [
    "df.head()"
   ]
  },
  {
   "cell_type": "code",
   "execution_count": 9,
   "metadata": {
    "collapsed": false
   },
   "outputs": [
    {
     "data": {
      "text/plain": [
       "DatetimeIndex(['2013-01-01', '2013-01-02', '2013-01-03', '2013-01-04',\n",
       "               '2013-01-05', '2013-01-06'],\n",
       "              dtype='datetime64[ns]', freq='D')"
      ]
     },
     "execution_count": 9,
     "metadata": {},
     "output_type": "execute_result"
    }
   ],
   "source": [
    "df.index"
   ]
  },
  {
   "cell_type": "code",
   "execution_count": 10,
   "metadata": {
    "collapsed": false
   },
   "outputs": [
    {
     "data": {
      "text/plain": [
       "Index([u'A', u'B', u'C', u'D'], dtype='object')"
      ]
     },
     "execution_count": 10,
     "metadata": {},
     "output_type": "execute_result"
    }
   ],
   "source": [
    "df.columns"
   ]
  },
  {
   "cell_type": "code",
   "execution_count": 11,
   "metadata": {
    "collapsed": false
   },
   "outputs": [
    {
     "data": {
      "text/plain": [
       "array([[-0.74572045, -0.17095138,  0.23597604,  0.43547884],\n",
       "       [ 0.47213655, -1.25714133,  1.78003826,  0.73683076],\n",
       "       [ 0.37325336, -0.57185316, -1.31554757,  1.23202614],\n",
       "       [-0.55583934,  1.0405939 ,  0.86371926, -0.14661517],\n",
       "       [ 0.71531586,  0.39685513,  0.1863989 , -0.78058655],\n",
       "       [ 0.1525444 , -0.33379219,  0.35110313, -2.01798814]])"
      ]
     },
     "execution_count": 11,
     "metadata": {},
     "output_type": "execute_result"
    }
   ],
   "source": [
    "df.values"
   ]
  },
  {
   "cell_type": "code",
   "execution_count": 12,
   "metadata": {
    "collapsed": false
   },
   "outputs": [
    {
     "data": {
      "text/html": [
       "<div>\n",
       "<table border=\"1\" class=\"dataframe\">\n",
       "  <thead>\n",
       "    <tr style=\"text-align: right;\">\n",
       "      <th></th>\n",
       "      <th>A</th>\n",
       "      <th>B</th>\n",
       "      <th>C</th>\n",
       "      <th>D</th>\n",
       "    </tr>\n",
       "  </thead>\n",
       "  <tbody>\n",
       "    <tr>\n",
       "      <th>count</th>\n",
       "      <td>6.000000</td>\n",
       "      <td>6.000000</td>\n",
       "      <td>6.000000</td>\n",
       "      <td>6.000000</td>\n",
       "    </tr>\n",
       "    <tr>\n",
       "      <th>mean</th>\n",
       "      <td>0.068615</td>\n",
       "      <td>-0.149382</td>\n",
       "      <td>0.350281</td>\n",
       "      <td>-0.090142</td>\n",
       "    </tr>\n",
       "    <tr>\n",
       "      <th>std</th>\n",
       "      <td>0.588895</td>\n",
       "      <td>0.794292</td>\n",
       "      <td>1.012199</td>\n",
       "      <td>1.175141</td>\n",
       "    </tr>\n",
       "    <tr>\n",
       "      <th>min</th>\n",
       "      <td>-0.745720</td>\n",
       "      <td>-1.257141</td>\n",
       "      <td>-1.315548</td>\n",
       "      <td>-2.017988</td>\n",
       "    </tr>\n",
       "    <tr>\n",
       "      <th>25%</th>\n",
       "      <td>-0.378743</td>\n",
       "      <td>-0.512338</td>\n",
       "      <td>0.198793</td>\n",
       "      <td>-0.622094</td>\n",
       "    </tr>\n",
       "    <tr>\n",
       "      <th>50%</th>\n",
       "      <td>0.262899</td>\n",
       "      <td>-0.252372</td>\n",
       "      <td>0.293540</td>\n",
       "      <td>0.144432</td>\n",
       "    </tr>\n",
       "    <tr>\n",
       "      <th>75%</th>\n",
       "      <td>0.447416</td>\n",
       "      <td>0.254903</td>\n",
       "      <td>0.735565</td>\n",
       "      <td>0.661493</td>\n",
       "    </tr>\n",
       "    <tr>\n",
       "      <th>max</th>\n",
       "      <td>0.715316</td>\n",
       "      <td>1.040594</td>\n",
       "      <td>1.780038</td>\n",
       "      <td>1.232026</td>\n",
       "    </tr>\n",
       "  </tbody>\n",
       "</table>\n",
       "</div>"
      ],
      "text/plain": [
       "              A         B         C         D\n",
       "count  6.000000  6.000000  6.000000  6.000000\n",
       "mean   0.068615 -0.149382  0.350281 -0.090142\n",
       "std    0.588895  0.794292  1.012199  1.175141\n",
       "min   -0.745720 -1.257141 -1.315548 -2.017988\n",
       "25%   -0.378743 -0.512338  0.198793 -0.622094\n",
       "50%    0.262899 -0.252372  0.293540  0.144432\n",
       "75%    0.447416  0.254903  0.735565  0.661493\n",
       "max    0.715316  1.040594  1.780038  1.232026"
      ]
     },
     "execution_count": 12,
     "metadata": {},
     "output_type": "execute_result"
    }
   ],
   "source": [
    "df.describe()"
   ]
  },
  {
   "cell_type": "code",
   "execution_count": 13,
   "metadata": {
    "collapsed": false
   },
   "outputs": [
    {
     "data": {
      "text/html": [
       "<div>\n",
       "<table border=\"1\" class=\"dataframe\">\n",
       "  <thead>\n",
       "    <tr style=\"text-align: right;\">\n",
       "      <th></th>\n",
       "      <th>2013-01-01 00:00:00</th>\n",
       "      <th>2013-01-02 00:00:00</th>\n",
       "      <th>2013-01-03 00:00:00</th>\n",
       "      <th>2013-01-04 00:00:00</th>\n",
       "      <th>2013-01-05 00:00:00</th>\n",
       "      <th>2013-01-06 00:00:00</th>\n",
       "    </tr>\n",
       "  </thead>\n",
       "  <tbody>\n",
       "    <tr>\n",
       "      <th>A</th>\n",
       "      <td>-0.745720</td>\n",
       "      <td>0.472137</td>\n",
       "      <td>0.373253</td>\n",
       "      <td>-0.555839</td>\n",
       "      <td>0.715316</td>\n",
       "      <td>0.152544</td>\n",
       "    </tr>\n",
       "    <tr>\n",
       "      <th>B</th>\n",
       "      <td>-0.170951</td>\n",
       "      <td>-1.257141</td>\n",
       "      <td>-0.571853</td>\n",
       "      <td>1.040594</td>\n",
       "      <td>0.396855</td>\n",
       "      <td>-0.333792</td>\n",
       "    </tr>\n",
       "    <tr>\n",
       "      <th>C</th>\n",
       "      <td>0.235976</td>\n",
       "      <td>1.780038</td>\n",
       "      <td>-1.315548</td>\n",
       "      <td>0.863719</td>\n",
       "      <td>0.186399</td>\n",
       "      <td>0.351103</td>\n",
       "    </tr>\n",
       "    <tr>\n",
       "      <th>D</th>\n",
       "      <td>0.435479</td>\n",
       "      <td>0.736831</td>\n",
       "      <td>1.232026</td>\n",
       "      <td>-0.146615</td>\n",
       "      <td>-0.780587</td>\n",
       "      <td>-2.017988</td>\n",
       "    </tr>\n",
       "  </tbody>\n",
       "</table>\n",
       "</div>"
      ],
      "text/plain": [
       "   2013-01-01  2013-01-02  2013-01-03  2013-01-04  2013-01-05  2013-01-06\n",
       "A   -0.745720    0.472137    0.373253   -0.555839    0.715316    0.152544\n",
       "B   -0.170951   -1.257141   -0.571853    1.040594    0.396855   -0.333792\n",
       "C    0.235976    1.780038   -1.315548    0.863719    0.186399    0.351103\n",
       "D    0.435479    0.736831    1.232026   -0.146615   -0.780587   -2.017988"
      ]
     },
     "execution_count": 13,
     "metadata": {},
     "output_type": "execute_result"
    }
   ],
   "source": [
    "df.T"
   ]
  },
  {
   "cell_type": "code",
   "execution_count": 14,
   "metadata": {
    "collapsed": false
   },
   "outputs": [
    {
     "data": {
      "text/html": [
       "<div>\n",
       "<table border=\"1\" class=\"dataframe\">\n",
       "  <thead>\n",
       "    <tr style=\"text-align: right;\">\n",
       "      <th></th>\n",
       "      <th>D</th>\n",
       "      <th>C</th>\n",
       "      <th>B</th>\n",
       "      <th>A</th>\n",
       "    </tr>\n",
       "  </thead>\n",
       "  <tbody>\n",
       "    <tr>\n",
       "      <th>2013-01-01</th>\n",
       "      <td>0.435479</td>\n",
       "      <td>0.235976</td>\n",
       "      <td>-0.170951</td>\n",
       "      <td>-0.745720</td>\n",
       "    </tr>\n",
       "    <tr>\n",
       "      <th>2013-01-02</th>\n",
       "      <td>0.736831</td>\n",
       "      <td>1.780038</td>\n",
       "      <td>-1.257141</td>\n",
       "      <td>0.472137</td>\n",
       "    </tr>\n",
       "    <tr>\n",
       "      <th>2013-01-03</th>\n",
       "      <td>1.232026</td>\n",
       "      <td>-1.315548</td>\n",
       "      <td>-0.571853</td>\n",
       "      <td>0.373253</td>\n",
       "    </tr>\n",
       "    <tr>\n",
       "      <th>2013-01-04</th>\n",
       "      <td>-0.146615</td>\n",
       "      <td>0.863719</td>\n",
       "      <td>1.040594</td>\n",
       "      <td>-0.555839</td>\n",
       "    </tr>\n",
       "    <tr>\n",
       "      <th>2013-01-05</th>\n",
       "      <td>-0.780587</td>\n",
       "      <td>0.186399</td>\n",
       "      <td>0.396855</td>\n",
       "      <td>0.715316</td>\n",
       "    </tr>\n",
       "    <tr>\n",
       "      <th>2013-01-06</th>\n",
       "      <td>-2.017988</td>\n",
       "      <td>0.351103</td>\n",
       "      <td>-0.333792</td>\n",
       "      <td>0.152544</td>\n",
       "    </tr>\n",
       "  </tbody>\n",
       "</table>\n",
       "</div>"
      ],
      "text/plain": [
       "                   D         C         B         A\n",
       "2013-01-01  0.435479  0.235976 -0.170951 -0.745720\n",
       "2013-01-02  0.736831  1.780038 -1.257141  0.472137\n",
       "2013-01-03  1.232026 -1.315548 -0.571853  0.373253\n",
       "2013-01-04 -0.146615  0.863719  1.040594 -0.555839\n",
       "2013-01-05 -0.780587  0.186399  0.396855  0.715316\n",
       "2013-01-06 -2.017988  0.351103 -0.333792  0.152544"
      ]
     },
     "execution_count": 14,
     "metadata": {},
     "output_type": "execute_result"
    }
   ],
   "source": [
    "df.sort_index(axis=1, ascending=False)"
   ]
  },
  {
   "cell_type": "code",
   "execution_count": 15,
   "metadata": {
    "collapsed": false
   },
   "outputs": [
    {
     "name": "stderr",
     "output_type": "stream",
     "text": [
      "/Users/zoostar/anaconda/lib/python2.7/site-packages/ipykernel/__main__.py:1: FutureWarning: sort(columns=....) is deprecated, use sort_values(by=.....)\n",
      "  if __name__ == '__main__':\n"
     ]
    },
    {
     "data": {
      "text/html": [
       "<div>\n",
       "<table border=\"1\" class=\"dataframe\">\n",
       "  <thead>\n",
       "    <tr style=\"text-align: right;\">\n",
       "      <th></th>\n",
       "      <th>A</th>\n",
       "      <th>B</th>\n",
       "      <th>C</th>\n",
       "      <th>D</th>\n",
       "    </tr>\n",
       "  </thead>\n",
       "  <tbody>\n",
       "    <tr>\n",
       "      <th>2013-01-02</th>\n",
       "      <td>0.472137</td>\n",
       "      <td>-1.257141</td>\n",
       "      <td>1.780038</td>\n",
       "      <td>0.736831</td>\n",
       "    </tr>\n",
       "    <tr>\n",
       "      <th>2013-01-03</th>\n",
       "      <td>0.373253</td>\n",
       "      <td>-0.571853</td>\n",
       "      <td>-1.315548</td>\n",
       "      <td>1.232026</td>\n",
       "    </tr>\n",
       "    <tr>\n",
       "      <th>2013-01-06</th>\n",
       "      <td>0.152544</td>\n",
       "      <td>-0.333792</td>\n",
       "      <td>0.351103</td>\n",
       "      <td>-2.017988</td>\n",
       "    </tr>\n",
       "    <tr>\n",
       "      <th>2013-01-01</th>\n",
       "      <td>-0.745720</td>\n",
       "      <td>-0.170951</td>\n",
       "      <td>0.235976</td>\n",
       "      <td>0.435479</td>\n",
       "    </tr>\n",
       "    <tr>\n",
       "      <th>2013-01-05</th>\n",
       "      <td>0.715316</td>\n",
       "      <td>0.396855</td>\n",
       "      <td>0.186399</td>\n",
       "      <td>-0.780587</td>\n",
       "    </tr>\n",
       "    <tr>\n",
       "      <th>2013-01-04</th>\n",
       "      <td>-0.555839</td>\n",
       "      <td>1.040594</td>\n",
       "      <td>0.863719</td>\n",
       "      <td>-0.146615</td>\n",
       "    </tr>\n",
       "  </tbody>\n",
       "</table>\n",
       "</div>"
      ],
      "text/plain": [
       "                   A         B         C         D\n",
       "2013-01-02  0.472137 -1.257141  1.780038  0.736831\n",
       "2013-01-03  0.373253 -0.571853 -1.315548  1.232026\n",
       "2013-01-06  0.152544 -0.333792  0.351103 -2.017988\n",
       "2013-01-01 -0.745720 -0.170951  0.235976  0.435479\n",
       "2013-01-05  0.715316  0.396855  0.186399 -0.780587\n",
       "2013-01-04 -0.555839  1.040594  0.863719 -0.146615"
      ]
     },
     "execution_count": 15,
     "metadata": {},
     "output_type": "execute_result"
    }
   ],
   "source": [
    "df.sort(columns='B')"
   ]
  },
  {
   "cell_type": "code",
   "execution_count": 16,
   "metadata": {
    "collapsed": false
   },
   "outputs": [
    {
     "data": {
      "text/plain": [
       "2013-01-01   -0.745720\n",
       "2013-01-02    0.472137\n",
       "2013-01-03    0.373253\n",
       "2013-01-04   -0.555839\n",
       "2013-01-05    0.715316\n",
       "2013-01-06    0.152544\n",
       "Freq: D, Name: A, dtype: float64"
      ]
     },
     "execution_count": 16,
     "metadata": {},
     "output_type": "execute_result"
    }
   ],
   "source": [
    "df['A']"
   ]
  },
  {
   "cell_type": "code",
   "execution_count": 17,
   "metadata": {
    "collapsed": false
   },
   "outputs": [
    {
     "data": {
      "text/html": [
       "<div>\n",
       "<table border=\"1\" class=\"dataframe\">\n",
       "  <thead>\n",
       "    <tr style=\"text-align: right;\">\n",
       "      <th></th>\n",
       "      <th>A</th>\n",
       "      <th>B</th>\n",
       "      <th>C</th>\n",
       "      <th>D</th>\n",
       "    </tr>\n",
       "  </thead>\n",
       "  <tbody>\n",
       "    <tr>\n",
       "      <th>2013-01-01</th>\n",
       "      <td>-0.745720</td>\n",
       "      <td>-0.170951</td>\n",
       "      <td>0.235976</td>\n",
       "      <td>0.435479</td>\n",
       "    </tr>\n",
       "    <tr>\n",
       "      <th>2013-01-02</th>\n",
       "      <td>0.472137</td>\n",
       "      <td>-1.257141</td>\n",
       "      <td>1.780038</td>\n",
       "      <td>0.736831</td>\n",
       "    </tr>\n",
       "    <tr>\n",
       "      <th>2013-01-03</th>\n",
       "      <td>0.373253</td>\n",
       "      <td>-0.571853</td>\n",
       "      <td>-1.315548</td>\n",
       "      <td>1.232026</td>\n",
       "    </tr>\n",
       "  </tbody>\n",
       "</table>\n",
       "</div>"
      ],
      "text/plain": [
       "                   A         B         C         D\n",
       "2013-01-01 -0.745720 -0.170951  0.235976  0.435479\n",
       "2013-01-02  0.472137 -1.257141  1.780038  0.736831\n",
       "2013-01-03  0.373253 -0.571853 -1.315548  1.232026"
      ]
     },
     "execution_count": 17,
     "metadata": {},
     "output_type": "execute_result"
    }
   ],
   "source": [
    "df[0:3]"
   ]
  },
  {
   "cell_type": "code",
   "execution_count": 18,
   "metadata": {
    "collapsed": false
   },
   "outputs": [
    {
     "data": {
      "text/html": [
       "<div>\n",
       "<table border=\"1\" class=\"dataframe\">\n",
       "  <thead>\n",
       "    <tr style=\"text-align: right;\">\n",
       "      <th></th>\n",
       "      <th>A</th>\n",
       "      <th>B</th>\n",
       "      <th>C</th>\n",
       "      <th>D</th>\n",
       "    </tr>\n",
       "  </thead>\n",
       "  <tbody>\n",
       "    <tr>\n",
       "      <th>2013-01-02</th>\n",
       "      <td>0.472137</td>\n",
       "      <td>-1.257141</td>\n",
       "      <td>1.780038</td>\n",
       "      <td>0.736831</td>\n",
       "    </tr>\n",
       "    <tr>\n",
       "      <th>2013-01-03</th>\n",
       "      <td>0.373253</td>\n",
       "      <td>-0.571853</td>\n",
       "      <td>-1.315548</td>\n",
       "      <td>1.232026</td>\n",
       "    </tr>\n",
       "    <tr>\n",
       "      <th>2013-01-04</th>\n",
       "      <td>-0.555839</td>\n",
       "      <td>1.040594</td>\n",
       "      <td>0.863719</td>\n",
       "      <td>-0.146615</td>\n",
       "    </tr>\n",
       "  </tbody>\n",
       "</table>\n",
       "</div>"
      ],
      "text/plain": [
       "                   A         B         C         D\n",
       "2013-01-02  0.472137 -1.257141  1.780038  0.736831\n",
       "2013-01-03  0.373253 -0.571853 -1.315548  1.232026\n",
       "2013-01-04 -0.555839  1.040594  0.863719 -0.146615"
      ]
     },
     "execution_count": 18,
     "metadata": {},
     "output_type": "execute_result"
    }
   ],
   "source": [
    "df['20130102':'20130104']"
   ]
  },
  {
   "cell_type": "code",
   "execution_count": 19,
   "metadata": {
    "collapsed": false
   },
   "outputs": [
    {
     "data": {
      "text/plain": [
       "A   -0.745720\n",
       "B   -0.170951\n",
       "C    0.235976\n",
       "D    0.435479\n",
       "Name: 2013-01-01 00:00:00, dtype: float64"
      ]
     },
     "execution_count": 19,
     "metadata": {},
     "output_type": "execute_result"
    }
   ],
   "source": [
    "df.loc[dates[0]]"
   ]
  },
  {
   "cell_type": "code",
   "execution_count": 20,
   "metadata": {
    "collapsed": false
   },
   "outputs": [
    {
     "data": {
      "text/html": [
       "<div>\n",
       "<table border=\"1\" class=\"dataframe\">\n",
       "  <thead>\n",
       "    <tr style=\"text-align: right;\">\n",
       "      <th></th>\n",
       "      <th>A</th>\n",
       "      <th>B</th>\n",
       "    </tr>\n",
       "  </thead>\n",
       "  <tbody>\n",
       "    <tr>\n",
       "      <th>2013-01-01</th>\n",
       "      <td>-0.745720</td>\n",
       "      <td>-0.170951</td>\n",
       "    </tr>\n",
       "    <tr>\n",
       "      <th>2013-01-02</th>\n",
       "      <td>0.472137</td>\n",
       "      <td>-1.257141</td>\n",
       "    </tr>\n",
       "    <tr>\n",
       "      <th>2013-01-03</th>\n",
       "      <td>0.373253</td>\n",
       "      <td>-0.571853</td>\n",
       "    </tr>\n",
       "    <tr>\n",
       "      <th>2013-01-04</th>\n",
       "      <td>-0.555839</td>\n",
       "      <td>1.040594</td>\n",
       "    </tr>\n",
       "    <tr>\n",
       "      <th>2013-01-05</th>\n",
       "      <td>0.715316</td>\n",
       "      <td>0.396855</td>\n",
       "    </tr>\n",
       "    <tr>\n",
       "      <th>2013-01-06</th>\n",
       "      <td>0.152544</td>\n",
       "      <td>-0.333792</td>\n",
       "    </tr>\n",
       "  </tbody>\n",
       "</table>\n",
       "</div>"
      ],
      "text/plain": [
       "                   A         B\n",
       "2013-01-01 -0.745720 -0.170951\n",
       "2013-01-02  0.472137 -1.257141\n",
       "2013-01-03  0.373253 -0.571853\n",
       "2013-01-04 -0.555839  1.040594\n",
       "2013-01-05  0.715316  0.396855\n",
       "2013-01-06  0.152544 -0.333792"
      ]
     },
     "execution_count": 20,
     "metadata": {},
     "output_type": "execute_result"
    }
   ],
   "source": [
    "df.loc[:,['A','B']]"
   ]
  },
  {
   "cell_type": "code",
   "execution_count": 21,
   "metadata": {
    "collapsed": false
   },
   "outputs": [
    {
     "data": {
      "text/html": [
       "<div>\n",
       "<table border=\"1\" class=\"dataframe\">\n",
       "  <thead>\n",
       "    <tr style=\"text-align: right;\">\n",
       "      <th></th>\n",
       "      <th>A</th>\n",
       "      <th>B</th>\n",
       "    </tr>\n",
       "  </thead>\n",
       "  <tbody>\n",
       "    <tr>\n",
       "      <th>2013-01-02</th>\n",
       "      <td>0.472137</td>\n",
       "      <td>-1.257141</td>\n",
       "    </tr>\n",
       "    <tr>\n",
       "      <th>2013-01-03</th>\n",
       "      <td>0.373253</td>\n",
       "      <td>-0.571853</td>\n",
       "    </tr>\n",
       "    <tr>\n",
       "      <th>2013-01-04</th>\n",
       "      <td>-0.555839</td>\n",
       "      <td>1.040594</td>\n",
       "    </tr>\n",
       "  </tbody>\n",
       "</table>\n",
       "</div>"
      ],
      "text/plain": [
       "                   A         B\n",
       "2013-01-02  0.472137 -1.257141\n",
       "2013-01-03  0.373253 -0.571853\n",
       "2013-01-04 -0.555839  1.040594"
      ]
     },
     "execution_count": 21,
     "metadata": {},
     "output_type": "execute_result"
    }
   ],
   "source": [
    "df.loc['20130102':'20130104',['A','B']]"
   ]
  },
  {
   "cell_type": "code",
   "execution_count": 22,
   "metadata": {
    "collapsed": false
   },
   "outputs": [
    {
     "data": {
      "text/plain": [
       "A    0.472137\n",
       "B   -1.257141\n",
       "Name: 2013-01-02 00:00:00, dtype: float64"
      ]
     },
     "execution_count": 22,
     "metadata": {},
     "output_type": "execute_result"
    }
   ],
   "source": [
    "df.loc['20130102',['A','B']]"
   ]
  },
  {
   "cell_type": "code",
   "execution_count": 23,
   "metadata": {
    "collapsed": false
   },
   "outputs": [
    {
     "data": {
      "text/plain": [
       "-0.74572045067230053"
      ]
     },
     "execution_count": 23,
     "metadata": {},
     "output_type": "execute_result"
    }
   ],
   "source": [
    "df.loc[dates[0],'A']"
   ]
  },
  {
   "cell_type": "code",
   "execution_count": 24,
   "metadata": {
    "collapsed": false
   },
   "outputs": [
    {
     "data": {
      "text/plain": [
       "-0.74572045067230053"
      ]
     },
     "execution_count": 24,
     "metadata": {},
     "output_type": "execute_result"
    }
   ],
   "source": [
    "df.at[dates[0],'A']"
   ]
  },
  {
   "cell_type": "code",
   "execution_count": 25,
   "metadata": {
    "collapsed": false
   },
   "outputs": [
    {
     "data": {
      "text/plain": [
       "A   -0.555839\n",
       "B    1.040594\n",
       "C    0.863719\n",
       "D   -0.146615\n",
       "Name: 2013-01-04 00:00:00, dtype: float64"
      ]
     },
     "execution_count": 25,
     "metadata": {},
     "output_type": "execute_result"
    }
   ],
   "source": [
    "df.iloc[3]"
   ]
  },
  {
   "cell_type": "code",
   "execution_count": 26,
   "metadata": {
    "collapsed": false
   },
   "outputs": [
    {
     "data": {
      "text/html": [
       "<div>\n",
       "<table border=\"1\" class=\"dataframe\">\n",
       "  <thead>\n",
       "    <tr style=\"text-align: right;\">\n",
       "      <th></th>\n",
       "      <th>A</th>\n",
       "      <th>B</th>\n",
       "    </tr>\n",
       "  </thead>\n",
       "  <tbody>\n",
       "    <tr>\n",
       "      <th>2013-01-04</th>\n",
       "      <td>-0.555839</td>\n",
       "      <td>1.040594</td>\n",
       "    </tr>\n",
       "    <tr>\n",
       "      <th>2013-01-05</th>\n",
       "      <td>0.715316</td>\n",
       "      <td>0.396855</td>\n",
       "    </tr>\n",
       "  </tbody>\n",
       "</table>\n",
       "</div>"
      ],
      "text/plain": [
       "                   A         B\n",
       "2013-01-04 -0.555839  1.040594\n",
       "2013-01-05  0.715316  0.396855"
      ]
     },
     "execution_count": 26,
     "metadata": {},
     "output_type": "execute_result"
    }
   ],
   "source": [
    "df.iloc[3:5,0:2]"
   ]
  },
  {
   "cell_type": "code",
   "execution_count": 27,
   "metadata": {
    "collapsed": false
   },
   "outputs": [
    {
     "data": {
      "text/html": [
       "<div>\n",
       "<table border=\"1\" class=\"dataframe\">\n",
       "  <thead>\n",
       "    <tr style=\"text-align: right;\">\n",
       "      <th></th>\n",
       "      <th>A</th>\n",
       "      <th>C</th>\n",
       "    </tr>\n",
       "  </thead>\n",
       "  <tbody>\n",
       "    <tr>\n",
       "      <th>2013-01-02</th>\n",
       "      <td>0.472137</td>\n",
       "      <td>1.780038</td>\n",
       "    </tr>\n",
       "    <tr>\n",
       "      <th>2013-01-03</th>\n",
       "      <td>0.373253</td>\n",
       "      <td>-1.315548</td>\n",
       "    </tr>\n",
       "    <tr>\n",
       "      <th>2013-01-05</th>\n",
       "      <td>0.715316</td>\n",
       "      <td>0.186399</td>\n",
       "    </tr>\n",
       "  </tbody>\n",
       "</table>\n",
       "</div>"
      ],
      "text/plain": [
       "                   A         C\n",
       "2013-01-02  0.472137  1.780038\n",
       "2013-01-03  0.373253 -1.315548\n",
       "2013-01-05  0.715316  0.186399"
      ]
     },
     "execution_count": 27,
     "metadata": {},
     "output_type": "execute_result"
    }
   ],
   "source": [
    "df.iloc[[1,2,4],[0,2]]"
   ]
  },
  {
   "cell_type": "code",
   "execution_count": 28,
   "metadata": {
    "collapsed": false
   },
   "outputs": [
    {
     "data": {
      "text/html": [
       "<div>\n",
       "<table border=\"1\" class=\"dataframe\">\n",
       "  <thead>\n",
       "    <tr style=\"text-align: right;\">\n",
       "      <th></th>\n",
       "      <th>A</th>\n",
       "      <th>B</th>\n",
       "      <th>C</th>\n",
       "      <th>D</th>\n",
       "    </tr>\n",
       "  </thead>\n",
       "  <tbody>\n",
       "    <tr>\n",
       "      <th>2013-01-02</th>\n",
       "      <td>0.472137</td>\n",
       "      <td>-1.257141</td>\n",
       "      <td>1.780038</td>\n",
       "      <td>0.736831</td>\n",
       "    </tr>\n",
       "    <tr>\n",
       "      <th>2013-01-03</th>\n",
       "      <td>0.373253</td>\n",
       "      <td>-0.571853</td>\n",
       "      <td>-1.315548</td>\n",
       "      <td>1.232026</td>\n",
       "    </tr>\n",
       "  </tbody>\n",
       "</table>\n",
       "</div>"
      ],
      "text/plain": [
       "                   A         B         C         D\n",
       "2013-01-02  0.472137 -1.257141  1.780038  0.736831\n",
       "2013-01-03  0.373253 -0.571853 -1.315548  1.232026"
      ]
     },
     "execution_count": 28,
     "metadata": {},
     "output_type": "execute_result"
    }
   ],
   "source": [
    "df.iloc[1:3,:]"
   ]
  },
  {
   "cell_type": "code",
   "execution_count": 29,
   "metadata": {
    "collapsed": false
   },
   "outputs": [
    {
     "data": {
      "text/html": [
       "<div>\n",
       "<table border=\"1\" class=\"dataframe\">\n",
       "  <thead>\n",
       "    <tr style=\"text-align: right;\">\n",
       "      <th></th>\n",
       "      <th>B</th>\n",
       "      <th>C</th>\n",
       "    </tr>\n",
       "  </thead>\n",
       "  <tbody>\n",
       "    <tr>\n",
       "      <th>2013-01-01</th>\n",
       "      <td>-0.170951</td>\n",
       "      <td>0.235976</td>\n",
       "    </tr>\n",
       "    <tr>\n",
       "      <th>2013-01-02</th>\n",
       "      <td>-1.257141</td>\n",
       "      <td>1.780038</td>\n",
       "    </tr>\n",
       "    <tr>\n",
       "      <th>2013-01-03</th>\n",
       "      <td>-0.571853</td>\n",
       "      <td>-1.315548</td>\n",
       "    </tr>\n",
       "    <tr>\n",
       "      <th>2013-01-04</th>\n",
       "      <td>1.040594</td>\n",
       "      <td>0.863719</td>\n",
       "    </tr>\n",
       "    <tr>\n",
       "      <th>2013-01-05</th>\n",
       "      <td>0.396855</td>\n",
       "      <td>0.186399</td>\n",
       "    </tr>\n",
       "    <tr>\n",
       "      <th>2013-01-06</th>\n",
       "      <td>-0.333792</td>\n",
       "      <td>0.351103</td>\n",
       "    </tr>\n",
       "  </tbody>\n",
       "</table>\n",
       "</div>"
      ],
      "text/plain": [
       "                   B         C\n",
       "2013-01-01 -0.170951  0.235976\n",
       "2013-01-02 -1.257141  1.780038\n",
       "2013-01-03 -0.571853 -1.315548\n",
       "2013-01-04  1.040594  0.863719\n",
       "2013-01-05  0.396855  0.186399\n",
       "2013-01-06 -0.333792  0.351103"
      ]
     },
     "execution_count": 29,
     "metadata": {},
     "output_type": "execute_result"
    }
   ],
   "source": [
    "df.iloc[:,1:3]"
   ]
  },
  {
   "cell_type": "code",
   "execution_count": 30,
   "metadata": {
    "collapsed": false
   },
   "outputs": [
    {
     "data": {
      "text/plain": [
       "-1.2571413341137343"
      ]
     },
     "execution_count": 30,
     "metadata": {},
     "output_type": "execute_result"
    }
   ],
   "source": [
    "df.iloc[1,1]"
   ]
  },
  {
   "cell_type": "code",
   "execution_count": 31,
   "metadata": {
    "collapsed": false
   },
   "outputs": [
    {
     "data": {
      "text/plain": [
       "-1.2571413341137343"
      ]
     },
     "execution_count": 31,
     "metadata": {},
     "output_type": "execute_result"
    }
   ],
   "source": [
    "df.iat[1,1]"
   ]
  },
  {
   "cell_type": "code",
   "execution_count": 32,
   "metadata": {
    "collapsed": false
   },
   "outputs": [
    {
     "data": {
      "text/html": [
       "<div>\n",
       "<table border=\"1\" class=\"dataframe\">\n",
       "  <thead>\n",
       "    <tr style=\"text-align: right;\">\n",
       "      <th></th>\n",
       "      <th>A</th>\n",
       "      <th>B</th>\n",
       "      <th>C</th>\n",
       "      <th>D</th>\n",
       "    </tr>\n",
       "  </thead>\n",
       "  <tbody>\n",
       "    <tr>\n",
       "      <th>2013-01-02</th>\n",
       "      <td>0.472137</td>\n",
       "      <td>-1.257141</td>\n",
       "      <td>1.780038</td>\n",
       "      <td>0.736831</td>\n",
       "    </tr>\n",
       "    <tr>\n",
       "      <th>2013-01-03</th>\n",
       "      <td>0.373253</td>\n",
       "      <td>-0.571853</td>\n",
       "      <td>-1.315548</td>\n",
       "      <td>1.232026</td>\n",
       "    </tr>\n",
       "    <tr>\n",
       "      <th>2013-01-05</th>\n",
       "      <td>0.715316</td>\n",
       "      <td>0.396855</td>\n",
       "      <td>0.186399</td>\n",
       "      <td>-0.780587</td>\n",
       "    </tr>\n",
       "    <tr>\n",
       "      <th>2013-01-06</th>\n",
       "      <td>0.152544</td>\n",
       "      <td>-0.333792</td>\n",
       "      <td>0.351103</td>\n",
       "      <td>-2.017988</td>\n",
       "    </tr>\n",
       "  </tbody>\n",
       "</table>\n",
       "</div>"
      ],
      "text/plain": [
       "                   A         B         C         D\n",
       "2013-01-02  0.472137 -1.257141  1.780038  0.736831\n",
       "2013-01-03  0.373253 -0.571853 -1.315548  1.232026\n",
       "2013-01-05  0.715316  0.396855  0.186399 -0.780587\n",
       "2013-01-06  0.152544 -0.333792  0.351103 -2.017988"
      ]
     },
     "execution_count": 32,
     "metadata": {},
     "output_type": "execute_result"
    }
   ],
   "source": [
    "df[df.A > 0]"
   ]
  },
  {
   "cell_type": "code",
   "execution_count": 33,
   "metadata": {
    "collapsed": false
   },
   "outputs": [
    {
     "data": {
      "text/html": [
       "<div>\n",
       "<table border=\"1\" class=\"dataframe\">\n",
       "  <thead>\n",
       "    <tr style=\"text-align: right;\">\n",
       "      <th></th>\n",
       "      <th>A</th>\n",
       "      <th>B</th>\n",
       "      <th>C</th>\n",
       "      <th>D</th>\n",
       "    </tr>\n",
       "  </thead>\n",
       "  <tbody>\n",
       "    <tr>\n",
       "      <th>2013-01-01</th>\n",
       "      <td>NaN</td>\n",
       "      <td>NaN</td>\n",
       "      <td>0.235976</td>\n",
       "      <td>0.435479</td>\n",
       "    </tr>\n",
       "    <tr>\n",
       "      <th>2013-01-02</th>\n",
       "      <td>0.472137</td>\n",
       "      <td>NaN</td>\n",
       "      <td>1.780038</td>\n",
       "      <td>0.736831</td>\n",
       "    </tr>\n",
       "    <tr>\n",
       "      <th>2013-01-03</th>\n",
       "      <td>0.373253</td>\n",
       "      <td>NaN</td>\n",
       "      <td>NaN</td>\n",
       "      <td>1.232026</td>\n",
       "    </tr>\n",
       "    <tr>\n",
       "      <th>2013-01-04</th>\n",
       "      <td>NaN</td>\n",
       "      <td>1.040594</td>\n",
       "      <td>0.863719</td>\n",
       "      <td>NaN</td>\n",
       "    </tr>\n",
       "    <tr>\n",
       "      <th>2013-01-05</th>\n",
       "      <td>0.715316</td>\n",
       "      <td>0.396855</td>\n",
       "      <td>0.186399</td>\n",
       "      <td>NaN</td>\n",
       "    </tr>\n",
       "    <tr>\n",
       "      <th>2013-01-06</th>\n",
       "      <td>0.152544</td>\n",
       "      <td>NaN</td>\n",
       "      <td>0.351103</td>\n",
       "      <td>NaN</td>\n",
       "    </tr>\n",
       "  </tbody>\n",
       "</table>\n",
       "</div>"
      ],
      "text/plain": [
       "                   A         B         C         D\n",
       "2013-01-01       NaN       NaN  0.235976  0.435479\n",
       "2013-01-02  0.472137       NaN  1.780038  0.736831\n",
       "2013-01-03  0.373253       NaN       NaN  1.232026\n",
       "2013-01-04       NaN  1.040594  0.863719       NaN\n",
       "2013-01-05  0.715316  0.396855  0.186399       NaN\n",
       "2013-01-06  0.152544       NaN  0.351103       NaN"
      ]
     },
     "execution_count": 33,
     "metadata": {},
     "output_type": "execute_result"
    }
   ],
   "source": [
    "df[df > 0]"
   ]
  },
  {
   "cell_type": "code",
   "execution_count": 34,
   "metadata": {
    "collapsed": false
   },
   "outputs": [
    {
     "data": {
      "text/html": [
       "<div>\n",
       "<table border=\"1\" class=\"dataframe\">\n",
       "  <thead>\n",
       "    <tr style=\"text-align: right;\">\n",
       "      <th></th>\n",
       "      <th>A</th>\n",
       "      <th>B</th>\n",
       "      <th>C</th>\n",
       "      <th>D</th>\n",
       "    </tr>\n",
       "  </thead>\n",
       "  <tbody>\n",
       "    <tr>\n",
       "      <th>2013-01-01</th>\n",
       "      <td>-0.745720</td>\n",
       "      <td>-0.170951</td>\n",
       "      <td>0.235976</td>\n",
       "      <td>0.435479</td>\n",
       "    </tr>\n",
       "    <tr>\n",
       "      <th>2013-01-02</th>\n",
       "      <td>0.472137</td>\n",
       "      <td>-1.257141</td>\n",
       "      <td>1.780038</td>\n",
       "      <td>0.736831</td>\n",
       "    </tr>\n",
       "    <tr>\n",
       "      <th>2013-01-03</th>\n",
       "      <td>0.373253</td>\n",
       "      <td>-0.571853</td>\n",
       "      <td>-1.315548</td>\n",
       "      <td>1.232026</td>\n",
       "    </tr>\n",
       "    <tr>\n",
       "      <th>2013-01-04</th>\n",
       "      <td>-0.555839</td>\n",
       "      <td>1.040594</td>\n",
       "      <td>0.863719</td>\n",
       "      <td>-0.146615</td>\n",
       "    </tr>\n",
       "    <tr>\n",
       "      <th>2013-01-05</th>\n",
       "      <td>0.715316</td>\n",
       "      <td>0.396855</td>\n",
       "      <td>0.186399</td>\n",
       "      <td>-0.780587</td>\n",
       "    </tr>\n",
       "    <tr>\n",
       "      <th>2013-01-06</th>\n",
       "      <td>0.152544</td>\n",
       "      <td>-0.333792</td>\n",
       "      <td>0.351103</td>\n",
       "      <td>-2.017988</td>\n",
       "    </tr>\n",
       "  </tbody>\n",
       "</table>\n",
       "</div>"
      ],
      "text/plain": [
       "                   A         B         C         D\n",
       "2013-01-01 -0.745720 -0.170951  0.235976  0.435479\n",
       "2013-01-02  0.472137 -1.257141  1.780038  0.736831\n",
       "2013-01-03  0.373253 -0.571853 -1.315548  1.232026\n",
       "2013-01-04 -0.555839  1.040594  0.863719 -0.146615\n",
       "2013-01-05  0.715316  0.396855  0.186399 -0.780587\n",
       "2013-01-06  0.152544 -0.333792  0.351103 -2.017988"
      ]
     },
     "execution_count": 34,
     "metadata": {},
     "output_type": "execute_result"
    }
   ],
   "source": [
    "df2 = df.copy()\n",
    "\n",
    "df2['E'] = ['one', 'one','two','three','four','three']\n",
    "\n",
    "df"
   ]
  },
  {
   "cell_type": "code",
   "execution_count": 35,
   "metadata": {
    "collapsed": false
   },
   "outputs": [
    {
     "data": {
      "text/html": [
       "<div>\n",
       "<table border=\"1\" class=\"dataframe\">\n",
       "  <thead>\n",
       "    <tr style=\"text-align: right;\">\n",
       "      <th></th>\n",
       "      <th>A</th>\n",
       "      <th>B</th>\n",
       "      <th>C</th>\n",
       "      <th>D</th>\n",
       "      <th>E</th>\n",
       "    </tr>\n",
       "  </thead>\n",
       "  <tbody>\n",
       "    <tr>\n",
       "      <th>2013-01-03</th>\n",
       "      <td>0.373253</td>\n",
       "      <td>-0.571853</td>\n",
       "      <td>-1.315548</td>\n",
       "      <td>1.232026</td>\n",
       "      <td>two</td>\n",
       "    </tr>\n",
       "    <tr>\n",
       "      <th>2013-01-05</th>\n",
       "      <td>0.715316</td>\n",
       "      <td>0.396855</td>\n",
       "      <td>0.186399</td>\n",
       "      <td>-0.780587</td>\n",
       "      <td>four</td>\n",
       "    </tr>\n",
       "  </tbody>\n",
       "</table>\n",
       "</div>"
      ],
      "text/plain": [
       "                   A         B         C         D     E\n",
       "2013-01-03  0.373253 -0.571853 -1.315548  1.232026   two\n",
       "2013-01-05  0.715316  0.396855  0.186399 -0.780587  four"
      ]
     },
     "execution_count": 35,
     "metadata": {},
     "output_type": "execute_result"
    }
   ],
   "source": [
    "df2[df2['E'].isin(['two','four'])]"
   ]
  },
  {
   "cell_type": "code",
   "execution_count": 36,
   "metadata": {
    "collapsed": false
   },
   "outputs": [
    {
     "data": {
      "text/plain": [
       "2013-01-02    1\n",
       "2013-01-03    2\n",
       "2013-01-04    3\n",
       "2013-01-05    4\n",
       "2013-01-06    5\n",
       "2013-01-07    6\n",
       "Freq: D, dtype: int64"
      ]
     },
     "execution_count": 36,
     "metadata": {},
     "output_type": "execute_result"
    }
   ],
   "source": [
    "s1 = pd.Series([1,2,3,4,5,6], index=pd.date_range('20130102', periods=6))\n",
    "\n",
    "s1"
   ]
  },
  {
   "cell_type": "code",
   "execution_count": 37,
   "metadata": {
    "collapsed": true
   },
   "outputs": [],
   "source": [
    "df.at[dates[0],'A'] = 0"
   ]
  },
  {
   "cell_type": "code",
   "execution_count": 38,
   "metadata": {
    "collapsed": true
   },
   "outputs": [],
   "source": [
    "df.iat[0,1] = 0"
   ]
  },
  {
   "cell_type": "code",
   "execution_count": 39,
   "metadata": {
    "collapsed": true
   },
   "outputs": [],
   "source": [
    "df.loc[:,'D'] = np.array([5] * len(df))"
   ]
  },
  {
   "cell_type": "code",
   "execution_count": 40,
   "metadata": {
    "collapsed": false
   },
   "outputs": [
    {
     "data": {
      "text/html": [
       "<div>\n",
       "<table border=\"1\" class=\"dataframe\">\n",
       "  <thead>\n",
       "    <tr style=\"text-align: right;\">\n",
       "      <th></th>\n",
       "      <th>A</th>\n",
       "      <th>B</th>\n",
       "      <th>C</th>\n",
       "      <th>D</th>\n",
       "    </tr>\n",
       "  </thead>\n",
       "  <tbody>\n",
       "    <tr>\n",
       "      <th>2013-01-01</th>\n",
       "      <td>0.000000</td>\n",
       "      <td>0.000000</td>\n",
       "      <td>0.235976</td>\n",
       "      <td>5</td>\n",
       "    </tr>\n",
       "    <tr>\n",
       "      <th>2013-01-02</th>\n",
       "      <td>0.472137</td>\n",
       "      <td>-1.257141</td>\n",
       "      <td>1.780038</td>\n",
       "      <td>5</td>\n",
       "    </tr>\n",
       "    <tr>\n",
       "      <th>2013-01-03</th>\n",
       "      <td>0.373253</td>\n",
       "      <td>-0.571853</td>\n",
       "      <td>-1.315548</td>\n",
       "      <td>5</td>\n",
       "    </tr>\n",
       "    <tr>\n",
       "      <th>2013-01-04</th>\n",
       "      <td>-0.555839</td>\n",
       "      <td>1.040594</td>\n",
       "      <td>0.863719</td>\n",
       "      <td>5</td>\n",
       "    </tr>\n",
       "    <tr>\n",
       "      <th>2013-01-05</th>\n",
       "      <td>0.715316</td>\n",
       "      <td>0.396855</td>\n",
       "      <td>0.186399</td>\n",
       "      <td>5</td>\n",
       "    </tr>\n",
       "    <tr>\n",
       "      <th>2013-01-06</th>\n",
       "      <td>0.152544</td>\n",
       "      <td>-0.333792</td>\n",
       "      <td>0.351103</td>\n",
       "      <td>5</td>\n",
       "    </tr>\n",
       "  </tbody>\n",
       "</table>\n",
       "</div>"
      ],
      "text/plain": [
       "                   A         B         C  D\n",
       "2013-01-01  0.000000  0.000000  0.235976  5\n",
       "2013-01-02  0.472137 -1.257141  1.780038  5\n",
       "2013-01-03  0.373253 -0.571853 -1.315548  5\n",
       "2013-01-04 -0.555839  1.040594  0.863719  5\n",
       "2013-01-05  0.715316  0.396855  0.186399  5\n",
       "2013-01-06  0.152544 -0.333792  0.351103  5"
      ]
     },
     "execution_count": 40,
     "metadata": {},
     "output_type": "execute_result"
    }
   ],
   "source": [
    "df"
   ]
  },
  {
   "cell_type": "code",
   "execution_count": 41,
   "metadata": {
    "collapsed": false
   },
   "outputs": [
    {
     "data": {
      "text/html": [
       "<div>\n",
       "<table border=\"1\" class=\"dataframe\">\n",
       "  <thead>\n",
       "    <tr style=\"text-align: right;\">\n",
       "      <th></th>\n",
       "      <th>A</th>\n",
       "      <th>B</th>\n",
       "      <th>C</th>\n",
       "      <th>D</th>\n",
       "    </tr>\n",
       "  </thead>\n",
       "  <tbody>\n",
       "    <tr>\n",
       "      <th>2013-01-01</th>\n",
       "      <td>0.000000</td>\n",
       "      <td>0.000000</td>\n",
       "      <td>-0.235976</td>\n",
       "      <td>-5</td>\n",
       "    </tr>\n",
       "    <tr>\n",
       "      <th>2013-01-02</th>\n",
       "      <td>-0.472137</td>\n",
       "      <td>-1.257141</td>\n",
       "      <td>-1.780038</td>\n",
       "      <td>-5</td>\n",
       "    </tr>\n",
       "    <tr>\n",
       "      <th>2013-01-03</th>\n",
       "      <td>-0.373253</td>\n",
       "      <td>-0.571853</td>\n",
       "      <td>-1.315548</td>\n",
       "      <td>-5</td>\n",
       "    </tr>\n",
       "    <tr>\n",
       "      <th>2013-01-04</th>\n",
       "      <td>-0.555839</td>\n",
       "      <td>-1.040594</td>\n",
       "      <td>-0.863719</td>\n",
       "      <td>-5</td>\n",
       "    </tr>\n",
       "    <tr>\n",
       "      <th>2013-01-05</th>\n",
       "      <td>-0.715316</td>\n",
       "      <td>-0.396855</td>\n",
       "      <td>-0.186399</td>\n",
       "      <td>-5</td>\n",
       "    </tr>\n",
       "    <tr>\n",
       "      <th>2013-01-06</th>\n",
       "      <td>-0.152544</td>\n",
       "      <td>-0.333792</td>\n",
       "      <td>-0.351103</td>\n",
       "      <td>-5</td>\n",
       "    </tr>\n",
       "  </tbody>\n",
       "</table>\n",
       "</div>"
      ],
      "text/plain": [
       "                   A         B         C  D\n",
       "2013-01-01  0.000000  0.000000 -0.235976 -5\n",
       "2013-01-02 -0.472137 -1.257141 -1.780038 -5\n",
       "2013-01-03 -0.373253 -0.571853 -1.315548 -5\n",
       "2013-01-04 -0.555839 -1.040594 -0.863719 -5\n",
       "2013-01-05 -0.715316 -0.396855 -0.186399 -5\n",
       "2013-01-06 -0.152544 -0.333792 -0.351103 -5"
      ]
     },
     "execution_count": 41,
     "metadata": {},
     "output_type": "execute_result"
    }
   ],
   "source": [
    "df2 = df.copy()\n",
    "\n",
    "df2[df2 > 0] = -df2\n",
    "\n",
    "df2"
   ]
  },
  {
   "cell_type": "code",
   "execution_count": 42,
   "metadata": {
    "collapsed": false
   },
   "outputs": [
    {
     "data": {
      "text/html": [
       "<div>\n",
       "<table border=\"1\" class=\"dataframe\">\n",
       "  <thead>\n",
       "    <tr style=\"text-align: right;\">\n",
       "      <th></th>\n",
       "      <th>A</th>\n",
       "      <th>B</th>\n",
       "      <th>C</th>\n",
       "      <th>D</th>\n",
       "      <th>E</th>\n",
       "    </tr>\n",
       "  </thead>\n",
       "  <tbody>\n",
       "    <tr>\n",
       "      <th>2013-01-01</th>\n",
       "      <td>0.000000</td>\n",
       "      <td>0.000000</td>\n",
       "      <td>0.235976</td>\n",
       "      <td>5</td>\n",
       "      <td>1.0</td>\n",
       "    </tr>\n",
       "    <tr>\n",
       "      <th>2013-01-02</th>\n",
       "      <td>0.472137</td>\n",
       "      <td>-1.257141</td>\n",
       "      <td>1.780038</td>\n",
       "      <td>5</td>\n",
       "      <td>1.0</td>\n",
       "    </tr>\n",
       "    <tr>\n",
       "      <th>2013-01-03</th>\n",
       "      <td>0.373253</td>\n",
       "      <td>-0.571853</td>\n",
       "      <td>-1.315548</td>\n",
       "      <td>5</td>\n",
       "      <td>NaN</td>\n",
       "    </tr>\n",
       "    <tr>\n",
       "      <th>2013-01-04</th>\n",
       "      <td>-0.555839</td>\n",
       "      <td>1.040594</td>\n",
       "      <td>0.863719</td>\n",
       "      <td>5</td>\n",
       "      <td>NaN</td>\n",
       "    </tr>\n",
       "  </tbody>\n",
       "</table>\n",
       "</div>"
      ],
      "text/plain": [
       "                   A         B         C  D    E\n",
       "2013-01-01  0.000000  0.000000  0.235976  5  1.0\n",
       "2013-01-02  0.472137 -1.257141  1.780038  5  1.0\n",
       "2013-01-03  0.373253 -0.571853 -1.315548  5  NaN\n",
       "2013-01-04 -0.555839  1.040594  0.863719  5  NaN"
      ]
     },
     "execution_count": 42,
     "metadata": {},
     "output_type": "execute_result"
    }
   ],
   "source": [
    "df1 = df.reindex(index=dates[0:4], columns=list(df.columns) + ['E'])\n",
    "\n",
    "df1.loc[dates[0]:dates[1],'E'] = 1\n",
    "\n",
    "df1"
   ]
  },
  {
   "cell_type": "code",
   "execution_count": 43,
   "metadata": {
    "collapsed": false
   },
   "outputs": [
    {
     "data": {
      "text/html": [
       "<div>\n",
       "<table border=\"1\" class=\"dataframe\">\n",
       "  <thead>\n",
       "    <tr style=\"text-align: right;\">\n",
       "      <th></th>\n",
       "      <th>A</th>\n",
       "      <th>B</th>\n",
       "      <th>C</th>\n",
       "      <th>D</th>\n",
       "      <th>E</th>\n",
       "    </tr>\n",
       "  </thead>\n",
       "  <tbody>\n",
       "    <tr>\n",
       "      <th>2013-01-01</th>\n",
       "      <td>0.000000</td>\n",
       "      <td>0.000000</td>\n",
       "      <td>0.235976</td>\n",
       "      <td>5</td>\n",
       "      <td>1.0</td>\n",
       "    </tr>\n",
       "    <tr>\n",
       "      <th>2013-01-02</th>\n",
       "      <td>0.472137</td>\n",
       "      <td>-1.257141</td>\n",
       "      <td>1.780038</td>\n",
       "      <td>5</td>\n",
       "      <td>1.0</td>\n",
       "    </tr>\n",
       "  </tbody>\n",
       "</table>\n",
       "</div>"
      ],
      "text/plain": [
       "                   A         B         C  D    E\n",
       "2013-01-01  0.000000  0.000000  0.235976  5  1.0\n",
       "2013-01-02  0.472137 -1.257141  1.780038  5  1.0"
      ]
     },
     "execution_count": 43,
     "metadata": {},
     "output_type": "execute_result"
    }
   ],
   "source": [
    "df1.dropna(how='any')"
   ]
  },
  {
   "cell_type": "code",
   "execution_count": 44,
   "metadata": {
    "collapsed": false
   },
   "outputs": [
    {
     "data": {
      "text/html": [
       "<div>\n",
       "<table border=\"1\" class=\"dataframe\">\n",
       "  <thead>\n",
       "    <tr style=\"text-align: right;\">\n",
       "      <th></th>\n",
       "      <th>A</th>\n",
       "      <th>B</th>\n",
       "      <th>C</th>\n",
       "      <th>D</th>\n",
       "      <th>E</th>\n",
       "    </tr>\n",
       "  </thead>\n",
       "  <tbody>\n",
       "    <tr>\n",
       "      <th>2013-01-01</th>\n",
       "      <td>0.000000</td>\n",
       "      <td>0.000000</td>\n",
       "      <td>0.235976</td>\n",
       "      <td>5</td>\n",
       "      <td>1.0</td>\n",
       "    </tr>\n",
       "    <tr>\n",
       "      <th>2013-01-02</th>\n",
       "      <td>0.472137</td>\n",
       "      <td>-1.257141</td>\n",
       "      <td>1.780038</td>\n",
       "      <td>5</td>\n",
       "      <td>1.0</td>\n",
       "    </tr>\n",
       "    <tr>\n",
       "      <th>2013-01-03</th>\n",
       "      <td>0.373253</td>\n",
       "      <td>-0.571853</td>\n",
       "      <td>-1.315548</td>\n",
       "      <td>5</td>\n",
       "      <td>5.0</td>\n",
       "    </tr>\n",
       "    <tr>\n",
       "      <th>2013-01-04</th>\n",
       "      <td>-0.555839</td>\n",
       "      <td>1.040594</td>\n",
       "      <td>0.863719</td>\n",
       "      <td>5</td>\n",
       "      <td>5.0</td>\n",
       "    </tr>\n",
       "  </tbody>\n",
       "</table>\n",
       "</div>"
      ],
      "text/plain": [
       "                   A         B         C  D    E\n",
       "2013-01-01  0.000000  0.000000  0.235976  5  1.0\n",
       "2013-01-02  0.472137 -1.257141  1.780038  5  1.0\n",
       "2013-01-03  0.373253 -0.571853 -1.315548  5  5.0\n",
       "2013-01-04 -0.555839  1.040594  0.863719  5  5.0"
      ]
     },
     "execution_count": 44,
     "metadata": {},
     "output_type": "execute_result"
    }
   ],
   "source": [
    "df1.fillna(value=5)"
   ]
  },
  {
   "cell_type": "code",
   "execution_count": 45,
   "metadata": {
    "collapsed": false
   },
   "outputs": [
    {
     "data": {
      "text/html": [
       "<div>\n",
       "<table border=\"1\" class=\"dataframe\">\n",
       "  <thead>\n",
       "    <tr style=\"text-align: right;\">\n",
       "      <th></th>\n",
       "      <th>A</th>\n",
       "      <th>B</th>\n",
       "      <th>C</th>\n",
       "      <th>D</th>\n",
       "      <th>E</th>\n",
       "    </tr>\n",
       "  </thead>\n",
       "  <tbody>\n",
       "    <tr>\n",
       "      <th>2013-01-01</th>\n",
       "      <td>False</td>\n",
       "      <td>False</td>\n",
       "      <td>False</td>\n",
       "      <td>False</td>\n",
       "      <td>False</td>\n",
       "    </tr>\n",
       "    <tr>\n",
       "      <th>2013-01-02</th>\n",
       "      <td>False</td>\n",
       "      <td>False</td>\n",
       "      <td>False</td>\n",
       "      <td>False</td>\n",
       "      <td>False</td>\n",
       "    </tr>\n",
       "    <tr>\n",
       "      <th>2013-01-03</th>\n",
       "      <td>False</td>\n",
       "      <td>False</td>\n",
       "      <td>False</td>\n",
       "      <td>False</td>\n",
       "      <td>True</td>\n",
       "    </tr>\n",
       "    <tr>\n",
       "      <th>2013-01-04</th>\n",
       "      <td>False</td>\n",
       "      <td>False</td>\n",
       "      <td>False</td>\n",
       "      <td>False</td>\n",
       "      <td>True</td>\n",
       "    </tr>\n",
       "  </tbody>\n",
       "</table>\n",
       "</div>"
      ],
      "text/plain": [
       "                A      B      C      D      E\n",
       "2013-01-01  False  False  False  False  False\n",
       "2013-01-02  False  False  False  False  False\n",
       "2013-01-03  False  False  False  False   True\n",
       "2013-01-04  False  False  False  False   True"
      ]
     },
     "execution_count": 45,
     "metadata": {},
     "output_type": "execute_result"
    }
   ],
   "source": [
    "pd.isnull(df1)"
   ]
  },
  {
   "cell_type": "code",
   "execution_count": 46,
   "metadata": {
    "collapsed": false
   },
   "outputs": [
    {
     "data": {
      "text/plain": [
       "A    0.192902\n",
       "B   -0.120890\n",
       "C    0.350281\n",
       "D    5.000000\n",
       "dtype: float64"
      ]
     },
     "execution_count": 46,
     "metadata": {},
     "output_type": "execute_result"
    }
   ],
   "source": [
    "df.mean()"
   ]
  },
  {
   "cell_type": "code",
   "execution_count": 47,
   "metadata": {
    "collapsed": false
   },
   "outputs": [
    {
     "data": {
      "text/plain": [
       "2013-01-01    1.308994\n",
       "2013-01-02    1.498758\n",
       "2013-01-03    0.871463\n",
       "2013-01-04    1.587118\n",
       "2013-01-05    1.574642\n",
       "2013-01-06    1.292464\n",
       "Freq: D, dtype: float64"
      ]
     },
     "execution_count": 47,
     "metadata": {},
     "output_type": "execute_result"
    }
   ],
   "source": [
    "df.mean(1)"
   ]
  },
  {
   "cell_type": "code",
   "execution_count": 48,
   "metadata": {
    "collapsed": false
   },
   "outputs": [
    {
     "data": {
      "text/plain": [
       "2013-01-01    NaN\n",
       "2013-01-02    NaN\n",
       "2013-01-03    1.0\n",
       "2013-01-04    3.0\n",
       "2013-01-05    5.0\n",
       "2013-01-06    NaN\n",
       "Freq: D, dtype: float64"
      ]
     },
     "execution_count": 48,
     "metadata": {},
     "output_type": "execute_result"
    }
   ],
   "source": [
    "s = pd.Series([1,3,5,np.nan,6,8], index=dates).shift(2)\n",
    "\n",
    "s"
   ]
  },
  {
   "cell_type": "code",
   "execution_count": 49,
   "metadata": {
    "collapsed": false
   },
   "outputs": [
    {
     "data": {
      "text/html": [
       "<div>\n",
       "<table border=\"1\" class=\"dataframe\">\n",
       "  <thead>\n",
       "    <tr style=\"text-align: right;\">\n",
       "      <th></th>\n",
       "      <th>A</th>\n",
       "      <th>B</th>\n",
       "      <th>C</th>\n",
       "      <th>D</th>\n",
       "    </tr>\n",
       "  </thead>\n",
       "  <tbody>\n",
       "    <tr>\n",
       "      <th>2013-01-01</th>\n",
       "      <td>NaN</td>\n",
       "      <td>NaN</td>\n",
       "      <td>NaN</td>\n",
       "      <td>NaN</td>\n",
       "    </tr>\n",
       "    <tr>\n",
       "      <th>2013-01-02</th>\n",
       "      <td>NaN</td>\n",
       "      <td>NaN</td>\n",
       "      <td>NaN</td>\n",
       "      <td>NaN</td>\n",
       "    </tr>\n",
       "    <tr>\n",
       "      <th>2013-01-03</th>\n",
       "      <td>-0.626747</td>\n",
       "      <td>-1.571853</td>\n",
       "      <td>-2.315548</td>\n",
       "      <td>4.0</td>\n",
       "    </tr>\n",
       "    <tr>\n",
       "      <th>2013-01-04</th>\n",
       "      <td>-3.555839</td>\n",
       "      <td>-1.959406</td>\n",
       "      <td>-2.136281</td>\n",
       "      <td>2.0</td>\n",
       "    </tr>\n",
       "    <tr>\n",
       "      <th>2013-01-05</th>\n",
       "      <td>-4.284684</td>\n",
       "      <td>-4.603145</td>\n",
       "      <td>-4.813601</td>\n",
       "      <td>0.0</td>\n",
       "    </tr>\n",
       "    <tr>\n",
       "      <th>2013-01-06</th>\n",
       "      <td>NaN</td>\n",
       "      <td>NaN</td>\n",
       "      <td>NaN</td>\n",
       "      <td>NaN</td>\n",
       "    </tr>\n",
       "  </tbody>\n",
       "</table>\n",
       "</div>"
      ],
      "text/plain": [
       "                   A         B         C    D\n",
       "2013-01-01       NaN       NaN       NaN  NaN\n",
       "2013-01-02       NaN       NaN       NaN  NaN\n",
       "2013-01-03 -0.626747 -1.571853 -2.315548  4.0\n",
       "2013-01-04 -3.555839 -1.959406 -2.136281  2.0\n",
       "2013-01-05 -4.284684 -4.603145 -4.813601  0.0\n",
       "2013-01-06       NaN       NaN       NaN  NaN"
      ]
     },
     "execution_count": 49,
     "metadata": {},
     "output_type": "execute_result"
    }
   ],
   "source": [
    "df.sub(s, axis='index')"
   ]
  },
  {
   "cell_type": "code",
   "execution_count": 50,
   "metadata": {
    "collapsed": false
   },
   "outputs": [
    {
     "data": {
      "text/html": [
       "<div>\n",
       "<table border=\"1\" class=\"dataframe\">\n",
       "  <thead>\n",
       "    <tr style=\"text-align: right;\">\n",
       "      <th></th>\n",
       "      <th>A</th>\n",
       "      <th>B</th>\n",
       "      <th>C</th>\n",
       "      <th>D</th>\n",
       "    </tr>\n",
       "  </thead>\n",
       "  <tbody>\n",
       "    <tr>\n",
       "      <th>2013-01-01</th>\n",
       "      <td>0.000000</td>\n",
       "      <td>0.000000</td>\n",
       "      <td>0.235976</td>\n",
       "      <td>5</td>\n",
       "    </tr>\n",
       "    <tr>\n",
       "      <th>2013-01-02</th>\n",
       "      <td>0.472137</td>\n",
       "      <td>-1.257141</td>\n",
       "      <td>2.016014</td>\n",
       "      <td>10</td>\n",
       "    </tr>\n",
       "    <tr>\n",
       "      <th>2013-01-03</th>\n",
       "      <td>0.845390</td>\n",
       "      <td>-1.828994</td>\n",
       "      <td>0.700467</td>\n",
       "      <td>15</td>\n",
       "    </tr>\n",
       "    <tr>\n",
       "      <th>2013-01-04</th>\n",
       "      <td>0.289551</td>\n",
       "      <td>-0.788401</td>\n",
       "      <td>1.564186</td>\n",
       "      <td>20</td>\n",
       "    </tr>\n",
       "    <tr>\n",
       "      <th>2013-01-05</th>\n",
       "      <td>1.004866</td>\n",
       "      <td>-0.391545</td>\n",
       "      <td>1.750585</td>\n",
       "      <td>25</td>\n",
       "    </tr>\n",
       "    <tr>\n",
       "      <th>2013-01-06</th>\n",
       "      <td>1.157411</td>\n",
       "      <td>-0.725338</td>\n",
       "      <td>2.101688</td>\n",
       "      <td>30</td>\n",
       "    </tr>\n",
       "  </tbody>\n",
       "</table>\n",
       "</div>"
      ],
      "text/plain": [
       "                   A         B         C   D\n",
       "2013-01-01  0.000000  0.000000  0.235976   5\n",
       "2013-01-02  0.472137 -1.257141  2.016014  10\n",
       "2013-01-03  0.845390 -1.828994  0.700467  15\n",
       "2013-01-04  0.289551 -0.788401  1.564186  20\n",
       "2013-01-05  1.004866 -0.391545  1.750585  25\n",
       "2013-01-06  1.157411 -0.725338  2.101688  30"
      ]
     },
     "execution_count": 50,
     "metadata": {},
     "output_type": "execute_result"
    }
   ],
   "source": [
    "df.apply(np.cumsum)"
   ]
  },
  {
   "cell_type": "code",
   "execution_count": 51,
   "metadata": {
    "collapsed": false
   },
   "outputs": [
    {
     "data": {
      "text/plain": [
       "A    1.271155\n",
       "B    2.297735\n",
       "C    3.095586\n",
       "D    0.000000\n",
       "dtype: float64"
      ]
     },
     "execution_count": 51,
     "metadata": {},
     "output_type": "execute_result"
    }
   ],
   "source": [
    "df.apply(lambda x: x.max() - x.min())"
   ]
  },
  {
   "cell_type": "code",
   "execution_count": 52,
   "metadata": {
    "collapsed": false
   },
   "outputs": [
    {
     "data": {
      "text/plain": [
       "0    4\n",
       "1    3\n",
       "2    2\n",
       "3    6\n",
       "4    4\n",
       "5    5\n",
       "6    3\n",
       "7    2\n",
       "8    3\n",
       "9    2\n",
       "dtype: int64"
      ]
     },
     "execution_count": 52,
     "metadata": {},
     "output_type": "execute_result"
    }
   ],
   "source": [
    "s = pd.Series(np.random.randint(0, 7, size=10))\n",
    "s"
   ]
  },
  {
   "cell_type": "code",
   "execution_count": 53,
   "metadata": {
    "collapsed": false
   },
   "outputs": [
    {
     "data": {
      "text/plain": [
       "3    3\n",
       "2    3\n",
       "4    2\n",
       "6    1\n",
       "5    1\n",
       "dtype: int64"
      ]
     },
     "execution_count": 53,
     "metadata": {},
     "output_type": "execute_result"
    }
   ],
   "source": [
    "s.value_counts()"
   ]
  },
  {
   "cell_type": "code",
   "execution_count": 54,
   "metadata": {
    "collapsed": false
   },
   "outputs": [
    {
     "data": {
      "text/plain": [
       "0       a\n",
       "1       b\n",
       "2       c\n",
       "3    aaba\n",
       "4    baca\n",
       "5     NaN\n",
       "6    caba\n",
       "7     dog\n",
       "8     cat\n",
       "dtype: object"
      ]
     },
     "execution_count": 54,
     "metadata": {},
     "output_type": "execute_result"
    }
   ],
   "source": [
    "s = pd.Series(['A', 'B', 'C', 'Aaba', 'Baca', np.nan, 'CABA', 'dog', 'cat'])\n",
    "\n",
    "s.str.lower()"
   ]
  },
  {
   "cell_type": "code",
   "execution_count": 55,
   "metadata": {
    "collapsed": false
   },
   "outputs": [
    {
     "data": {
      "text/html": [
       "<div>\n",
       "<table border=\"1\" class=\"dataframe\">\n",
       "  <thead>\n",
       "    <tr style=\"text-align: right;\">\n",
       "      <th></th>\n",
       "      <th>0</th>\n",
       "      <th>1</th>\n",
       "      <th>2</th>\n",
       "      <th>3</th>\n",
       "    </tr>\n",
       "  </thead>\n",
       "  <tbody>\n",
       "    <tr>\n",
       "      <th>0</th>\n",
       "      <td>1.156938</td>\n",
       "      <td>-0.668489</td>\n",
       "      <td>-0.585029</td>\n",
       "      <td>-0.252604</td>\n",
       "    </tr>\n",
       "    <tr>\n",
       "      <th>1</th>\n",
       "      <td>-1.635822</td>\n",
       "      <td>0.591176</td>\n",
       "      <td>-0.772269</td>\n",
       "      <td>1.079044</td>\n",
       "    </tr>\n",
       "    <tr>\n",
       "      <th>2</th>\n",
       "      <td>-0.482830</td>\n",
       "      <td>-0.980376</td>\n",
       "      <td>0.928091</td>\n",
       "      <td>1.357526</td>\n",
       "    </tr>\n",
       "    <tr>\n",
       "      <th>3</th>\n",
       "      <td>1.194029</td>\n",
       "      <td>1.197885</td>\n",
       "      <td>-2.680886</td>\n",
       "      <td>-0.082251</td>\n",
       "    </tr>\n",
       "    <tr>\n",
       "      <th>4</th>\n",
       "      <td>-1.364829</td>\n",
       "      <td>-0.247522</td>\n",
       "      <td>-0.522040</td>\n",
       "      <td>0.052309</td>\n",
       "    </tr>\n",
       "    <tr>\n",
       "      <th>5</th>\n",
       "      <td>-0.291764</td>\n",
       "      <td>1.423019</td>\n",
       "      <td>0.804821</td>\n",
       "      <td>0.006749</td>\n",
       "    </tr>\n",
       "    <tr>\n",
       "      <th>6</th>\n",
       "      <td>-0.866614</td>\n",
       "      <td>2.814030</td>\n",
       "      <td>0.754982</td>\n",
       "      <td>-0.881179</td>\n",
       "    </tr>\n",
       "    <tr>\n",
       "      <th>7</th>\n",
       "      <td>-0.176269</td>\n",
       "      <td>2.164149</td>\n",
       "      <td>-0.404514</td>\n",
       "      <td>0.986652</td>\n",
       "    </tr>\n",
       "    <tr>\n",
       "      <th>8</th>\n",
       "      <td>0.570690</td>\n",
       "      <td>0.006849</td>\n",
       "      <td>1.381350</td>\n",
       "      <td>-0.737616</td>\n",
       "    </tr>\n",
       "    <tr>\n",
       "      <th>9</th>\n",
       "      <td>0.584204</td>\n",
       "      <td>1.984082</td>\n",
       "      <td>1.863346</td>\n",
       "      <td>-1.109424</td>\n",
       "    </tr>\n",
       "  </tbody>\n",
       "</table>\n",
       "</div>"
      ],
      "text/plain": [
       "          0         1         2         3\n",
       "0  1.156938 -0.668489 -0.585029 -0.252604\n",
       "1 -1.635822  0.591176 -0.772269  1.079044\n",
       "2 -0.482830 -0.980376  0.928091  1.357526\n",
       "3  1.194029  1.197885 -2.680886 -0.082251\n",
       "4 -1.364829 -0.247522 -0.522040  0.052309\n",
       "5 -0.291764  1.423019  0.804821  0.006749\n",
       "6 -0.866614  2.814030  0.754982 -0.881179\n",
       "7 -0.176269  2.164149 -0.404514  0.986652\n",
       "8  0.570690  0.006849  1.381350 -0.737616\n",
       "9  0.584204  1.984082  1.863346 -1.109424"
      ]
     },
     "execution_count": 55,
     "metadata": {},
     "output_type": "execute_result"
    }
   ],
   "source": [
    "df = pd.DataFrame(np.random.randn(10, 4))\n",
    "df"
   ]
  },
  {
   "cell_type": "code",
   "execution_count": 56,
   "metadata": {
    "collapsed": false
   },
   "outputs": [
    {
     "data": {
      "text/html": [
       "<div>\n",
       "<table border=\"1\" class=\"dataframe\">\n",
       "  <thead>\n",
       "    <tr style=\"text-align: right;\">\n",
       "      <th></th>\n",
       "      <th>0</th>\n",
       "      <th>1</th>\n",
       "      <th>2</th>\n",
       "      <th>3</th>\n",
       "    </tr>\n",
       "  </thead>\n",
       "  <tbody>\n",
       "    <tr>\n",
       "      <th>0</th>\n",
       "      <td>1.156938</td>\n",
       "      <td>-0.668489</td>\n",
       "      <td>-0.585029</td>\n",
       "      <td>-0.252604</td>\n",
       "    </tr>\n",
       "    <tr>\n",
       "      <th>1</th>\n",
       "      <td>-1.635822</td>\n",
       "      <td>0.591176</td>\n",
       "      <td>-0.772269</td>\n",
       "      <td>1.079044</td>\n",
       "    </tr>\n",
       "    <tr>\n",
       "      <th>2</th>\n",
       "      <td>-0.482830</td>\n",
       "      <td>-0.980376</td>\n",
       "      <td>0.928091</td>\n",
       "      <td>1.357526</td>\n",
       "    </tr>\n",
       "    <tr>\n",
       "      <th>3</th>\n",
       "      <td>1.194029</td>\n",
       "      <td>1.197885</td>\n",
       "      <td>-2.680886</td>\n",
       "      <td>-0.082251</td>\n",
       "    </tr>\n",
       "    <tr>\n",
       "      <th>4</th>\n",
       "      <td>-1.364829</td>\n",
       "      <td>-0.247522</td>\n",
       "      <td>-0.522040</td>\n",
       "      <td>0.052309</td>\n",
       "    </tr>\n",
       "    <tr>\n",
       "      <th>5</th>\n",
       "      <td>-0.291764</td>\n",
       "      <td>1.423019</td>\n",
       "      <td>0.804821</td>\n",
       "      <td>0.006749</td>\n",
       "    </tr>\n",
       "    <tr>\n",
       "      <th>6</th>\n",
       "      <td>-0.866614</td>\n",
       "      <td>2.814030</td>\n",
       "      <td>0.754982</td>\n",
       "      <td>-0.881179</td>\n",
       "    </tr>\n",
       "    <tr>\n",
       "      <th>7</th>\n",
       "      <td>-0.176269</td>\n",
       "      <td>2.164149</td>\n",
       "      <td>-0.404514</td>\n",
       "      <td>0.986652</td>\n",
       "    </tr>\n",
       "    <tr>\n",
       "      <th>8</th>\n",
       "      <td>0.570690</td>\n",
       "      <td>0.006849</td>\n",
       "      <td>1.381350</td>\n",
       "      <td>-0.737616</td>\n",
       "    </tr>\n",
       "    <tr>\n",
       "      <th>9</th>\n",
       "      <td>0.584204</td>\n",
       "      <td>1.984082</td>\n",
       "      <td>1.863346</td>\n",
       "      <td>-1.109424</td>\n",
       "    </tr>\n",
       "  </tbody>\n",
       "</table>\n",
       "</div>"
      ],
      "text/plain": [
       "          0         1         2         3\n",
       "0  1.156938 -0.668489 -0.585029 -0.252604\n",
       "1 -1.635822  0.591176 -0.772269  1.079044\n",
       "2 -0.482830 -0.980376  0.928091  1.357526\n",
       "3  1.194029  1.197885 -2.680886 -0.082251\n",
       "4 -1.364829 -0.247522 -0.522040  0.052309\n",
       "5 -0.291764  1.423019  0.804821  0.006749\n",
       "6 -0.866614  2.814030  0.754982 -0.881179\n",
       "7 -0.176269  2.164149 -0.404514  0.986652\n",
       "8  0.570690  0.006849  1.381350 -0.737616\n",
       "9  0.584204  1.984082  1.863346 -1.109424"
      ]
     },
     "execution_count": 56,
     "metadata": {},
     "output_type": "execute_result"
    }
   ],
   "source": [
    "pieces = [df[:3], df[3:7], df[7:]]\n",
    "\n",
    "pd.concat(pieces)"
   ]
  },
  {
   "cell_type": "code",
   "execution_count": 57,
   "metadata": {
    "collapsed": false
   },
   "outputs": [
    {
     "data": {
      "text/html": [
       "<div>\n",
       "<table border=\"1\" class=\"dataframe\">\n",
       "  <thead>\n",
       "    <tr style=\"text-align: right;\">\n",
       "      <th></th>\n",
       "      <th>key</th>\n",
       "      <th>lval</th>\n",
       "    </tr>\n",
       "  </thead>\n",
       "  <tbody>\n",
       "    <tr>\n",
       "      <th>0</th>\n",
       "      <td>foo</td>\n",
       "      <td>1</td>\n",
       "    </tr>\n",
       "    <tr>\n",
       "      <th>1</th>\n",
       "      <td>foo</td>\n",
       "      <td>2</td>\n",
       "    </tr>\n",
       "  </tbody>\n",
       "</table>\n",
       "</div>"
      ],
      "text/plain": [
       "   key  lval\n",
       "0  foo     1\n",
       "1  foo     2"
      ]
     },
     "execution_count": 57,
     "metadata": {},
     "output_type": "execute_result"
    }
   ],
   "source": [
    "left = pd.DataFrame({'key': ['foo', 'foo'], 'lval': [1, 2]})\n",
    "\n",
    "right = pd.DataFrame({'key': ['foo', 'foo'], 'rval': [4, 5]})\n",
    "\n",
    "left"
   ]
  },
  {
   "cell_type": "code",
   "execution_count": 58,
   "metadata": {
    "collapsed": false
   },
   "outputs": [
    {
     "data": {
      "text/html": [
       "<div>\n",
       "<table border=\"1\" class=\"dataframe\">\n",
       "  <thead>\n",
       "    <tr style=\"text-align: right;\">\n",
       "      <th></th>\n",
       "      <th>key</th>\n",
       "      <th>rval</th>\n",
       "    </tr>\n",
       "  </thead>\n",
       "  <tbody>\n",
       "    <tr>\n",
       "      <th>0</th>\n",
       "      <td>foo</td>\n",
       "      <td>4</td>\n",
       "    </tr>\n",
       "    <tr>\n",
       "      <th>1</th>\n",
       "      <td>foo</td>\n",
       "      <td>5</td>\n",
       "    </tr>\n",
       "  </tbody>\n",
       "</table>\n",
       "</div>"
      ],
      "text/plain": [
       "   key  rval\n",
       "0  foo     4\n",
       "1  foo     5"
      ]
     },
     "execution_count": 58,
     "metadata": {},
     "output_type": "execute_result"
    }
   ],
   "source": [
    "right"
   ]
  },
  {
   "cell_type": "code",
   "execution_count": 59,
   "metadata": {
    "collapsed": false
   },
   "outputs": [
    {
     "data": {
      "text/html": [
       "<div>\n",
       "<table border=\"1\" class=\"dataframe\">\n",
       "  <thead>\n",
       "    <tr style=\"text-align: right;\">\n",
       "      <th></th>\n",
       "      <th>key</th>\n",
       "      <th>lval</th>\n",
       "      <th>rval</th>\n",
       "    </tr>\n",
       "  </thead>\n",
       "  <tbody>\n",
       "    <tr>\n",
       "      <th>0</th>\n",
       "      <td>foo</td>\n",
       "      <td>1</td>\n",
       "      <td>4</td>\n",
       "    </tr>\n",
       "    <tr>\n",
       "      <th>1</th>\n",
       "      <td>foo</td>\n",
       "      <td>1</td>\n",
       "      <td>5</td>\n",
       "    </tr>\n",
       "    <tr>\n",
       "      <th>2</th>\n",
       "      <td>foo</td>\n",
       "      <td>2</td>\n",
       "      <td>4</td>\n",
       "    </tr>\n",
       "    <tr>\n",
       "      <th>3</th>\n",
       "      <td>foo</td>\n",
       "      <td>2</td>\n",
       "      <td>5</td>\n",
       "    </tr>\n",
       "  </tbody>\n",
       "</table>\n",
       "</div>"
      ],
      "text/plain": [
       "   key  lval  rval\n",
       "0  foo     1     4\n",
       "1  foo     1     5\n",
       "2  foo     2     4\n",
       "3  foo     2     5"
      ]
     },
     "execution_count": 59,
     "metadata": {},
     "output_type": "execute_result"
    }
   ],
   "source": [
    "pd.merge(left, right, on='key')"
   ]
  },
  {
   "cell_type": "code",
   "execution_count": 60,
   "metadata": {
    "collapsed": false
   },
   "outputs": [
    {
     "data": {
      "text/html": [
       "<div>\n",
       "<table border=\"1\" class=\"dataframe\">\n",
       "  <thead>\n",
       "    <tr style=\"text-align: right;\">\n",
       "      <th></th>\n",
       "      <th>A</th>\n",
       "      <th>B</th>\n",
       "      <th>C</th>\n",
       "      <th>D</th>\n",
       "    </tr>\n",
       "  </thead>\n",
       "  <tbody>\n",
       "    <tr>\n",
       "      <th>0</th>\n",
       "      <td>0.050510</td>\n",
       "      <td>1.625183</td>\n",
       "      <td>-0.035616</td>\n",
       "      <td>0.677130</td>\n",
       "    </tr>\n",
       "    <tr>\n",
       "      <th>1</th>\n",
       "      <td>1.301213</td>\n",
       "      <td>-1.357857</td>\n",
       "      <td>-1.287389</td>\n",
       "      <td>-0.300750</td>\n",
       "    </tr>\n",
       "    <tr>\n",
       "      <th>2</th>\n",
       "      <td>-2.237305</td>\n",
       "      <td>0.524535</td>\n",
       "      <td>0.671208</td>\n",
       "      <td>1.023794</td>\n",
       "    </tr>\n",
       "    <tr>\n",
       "      <th>3</th>\n",
       "      <td>0.591677</td>\n",
       "      <td>-1.095434</td>\n",
       "      <td>-1.470349</td>\n",
       "      <td>0.372617</td>\n",
       "    </tr>\n",
       "    <tr>\n",
       "      <th>4</th>\n",
       "      <td>-0.827263</td>\n",
       "      <td>-1.353937</td>\n",
       "      <td>-1.366670</td>\n",
       "      <td>-1.414469</td>\n",
       "    </tr>\n",
       "    <tr>\n",
       "      <th>5</th>\n",
       "      <td>-0.556755</td>\n",
       "      <td>0.594979</td>\n",
       "      <td>-0.077677</td>\n",
       "      <td>-0.117689</td>\n",
       "    </tr>\n",
       "    <tr>\n",
       "      <th>6</th>\n",
       "      <td>-0.560431</td>\n",
       "      <td>1.419270</td>\n",
       "      <td>-0.489615</td>\n",
       "      <td>-1.107423</td>\n",
       "    </tr>\n",
       "    <tr>\n",
       "      <th>7</th>\n",
       "      <td>1.424281</td>\n",
       "      <td>-0.788048</td>\n",
       "      <td>-2.031079</td>\n",
       "      <td>1.230782</td>\n",
       "    </tr>\n",
       "  </tbody>\n",
       "</table>\n",
       "</div>"
      ],
      "text/plain": [
       "          A         B         C         D\n",
       "0  0.050510  1.625183 -0.035616  0.677130\n",
       "1  1.301213 -1.357857 -1.287389 -0.300750\n",
       "2 -2.237305  0.524535  0.671208  1.023794\n",
       "3  0.591677 -1.095434 -1.470349  0.372617\n",
       "4 -0.827263 -1.353937 -1.366670 -1.414469\n",
       "5 -0.556755  0.594979 -0.077677 -0.117689\n",
       "6 -0.560431  1.419270 -0.489615 -1.107423\n",
       "7  1.424281 -0.788048 -2.031079  1.230782"
      ]
     },
     "execution_count": 60,
     "metadata": {},
     "output_type": "execute_result"
    }
   ],
   "source": [
    "df = pd.DataFrame(np.random.randn(8, 4), columns=['A','B','C','D'])\n",
    "\n",
    "df"
   ]
  },
  {
   "cell_type": "code",
   "execution_count": 61,
   "metadata": {
    "collapsed": false
   },
   "outputs": [
    {
     "data": {
      "text/html": [
       "<div>\n",
       "<table border=\"1\" class=\"dataframe\">\n",
       "  <thead>\n",
       "    <tr style=\"text-align: right;\">\n",
       "      <th></th>\n",
       "      <th>A</th>\n",
       "      <th>B</th>\n",
       "      <th>C</th>\n",
       "      <th>D</th>\n",
       "    </tr>\n",
       "  </thead>\n",
       "  <tbody>\n",
       "    <tr>\n",
       "      <th>0</th>\n",
       "      <td>0.050510</td>\n",
       "      <td>1.625183</td>\n",
       "      <td>-0.035616</td>\n",
       "      <td>0.677130</td>\n",
       "    </tr>\n",
       "    <tr>\n",
       "      <th>1</th>\n",
       "      <td>1.301213</td>\n",
       "      <td>-1.357857</td>\n",
       "      <td>-1.287389</td>\n",
       "      <td>-0.300750</td>\n",
       "    </tr>\n",
       "    <tr>\n",
       "      <th>2</th>\n",
       "      <td>-2.237305</td>\n",
       "      <td>0.524535</td>\n",
       "      <td>0.671208</td>\n",
       "      <td>1.023794</td>\n",
       "    </tr>\n",
       "    <tr>\n",
       "      <th>3</th>\n",
       "      <td>0.591677</td>\n",
       "      <td>-1.095434</td>\n",
       "      <td>-1.470349</td>\n",
       "      <td>0.372617</td>\n",
       "    </tr>\n",
       "    <tr>\n",
       "      <th>4</th>\n",
       "      <td>-0.827263</td>\n",
       "      <td>-1.353937</td>\n",
       "      <td>-1.366670</td>\n",
       "      <td>-1.414469</td>\n",
       "    </tr>\n",
       "    <tr>\n",
       "      <th>5</th>\n",
       "      <td>-0.556755</td>\n",
       "      <td>0.594979</td>\n",
       "      <td>-0.077677</td>\n",
       "      <td>-0.117689</td>\n",
       "    </tr>\n",
       "    <tr>\n",
       "      <th>6</th>\n",
       "      <td>-0.560431</td>\n",
       "      <td>1.419270</td>\n",
       "      <td>-0.489615</td>\n",
       "      <td>-1.107423</td>\n",
       "    </tr>\n",
       "    <tr>\n",
       "      <th>7</th>\n",
       "      <td>1.424281</td>\n",
       "      <td>-0.788048</td>\n",
       "      <td>-2.031079</td>\n",
       "      <td>1.230782</td>\n",
       "    </tr>\n",
       "    <tr>\n",
       "      <th>8</th>\n",
       "      <td>0.591677</td>\n",
       "      <td>-1.095434</td>\n",
       "      <td>-1.470349</td>\n",
       "      <td>0.372617</td>\n",
       "    </tr>\n",
       "  </tbody>\n",
       "</table>\n",
       "</div>"
      ],
      "text/plain": [
       "          A         B         C         D\n",
       "0  0.050510  1.625183 -0.035616  0.677130\n",
       "1  1.301213 -1.357857 -1.287389 -0.300750\n",
       "2 -2.237305  0.524535  0.671208  1.023794\n",
       "3  0.591677 -1.095434 -1.470349  0.372617\n",
       "4 -0.827263 -1.353937 -1.366670 -1.414469\n",
       "5 -0.556755  0.594979 -0.077677 -0.117689\n",
       "6 -0.560431  1.419270 -0.489615 -1.107423\n",
       "7  1.424281 -0.788048 -2.031079  1.230782\n",
       "8  0.591677 -1.095434 -1.470349  0.372617"
      ]
     },
     "execution_count": 61,
     "metadata": {},
     "output_type": "execute_result"
    }
   ],
   "source": [
    "s = df.iloc[3]\n",
    "\n",
    "df.append(s, ignore_index=True)"
   ]
  },
  {
   "cell_type": "code",
   "execution_count": 62,
   "metadata": {
    "collapsed": true
   },
   "outputs": [],
   "source": [
    "df = pd.DataFrame({'A' : ['foo', 'bar', 'foo', 'bar',\n",
    "   ....:                           'foo', 'bar', 'foo', 'foo'],\n",
    "   ....:                    'B' : ['one', 'one', 'two', 'three',\n",
    "   ....:                           'two', 'two', 'one', 'three'],\n",
    "   ....:                    'C' : np.random.randn(8),\n",
    "   ....:                    'D' : np.random.randn(8)})"
   ]
  },
  {
   "cell_type": "code",
   "execution_count": 63,
   "metadata": {
    "collapsed": false
   },
   "outputs": [
    {
     "data": {
      "text/html": [
       "<div>\n",
       "<table border=\"1\" class=\"dataframe\">\n",
       "  <thead>\n",
       "    <tr style=\"text-align: right;\">\n",
       "      <th></th>\n",
       "      <th>A</th>\n",
       "      <th>B</th>\n",
       "      <th>C</th>\n",
       "      <th>D</th>\n",
       "    </tr>\n",
       "  </thead>\n",
       "  <tbody>\n",
       "    <tr>\n",
       "      <th>0</th>\n",
       "      <td>foo</td>\n",
       "      <td>one</td>\n",
       "      <td>1.411709</td>\n",
       "      <td>-0.044690</td>\n",
       "    </tr>\n",
       "    <tr>\n",
       "      <th>1</th>\n",
       "      <td>bar</td>\n",
       "      <td>one</td>\n",
       "      <td>-0.909330</td>\n",
       "      <td>-1.041273</td>\n",
       "    </tr>\n",
       "    <tr>\n",
       "      <th>2</th>\n",
       "      <td>foo</td>\n",
       "      <td>two</td>\n",
       "      <td>1.490972</td>\n",
       "      <td>-0.475478</td>\n",
       "    </tr>\n",
       "    <tr>\n",
       "      <th>3</th>\n",
       "      <td>bar</td>\n",
       "      <td>three</td>\n",
       "      <td>0.742594</td>\n",
       "      <td>-1.741642</td>\n",
       "    </tr>\n",
       "    <tr>\n",
       "      <th>4</th>\n",
       "      <td>foo</td>\n",
       "      <td>two</td>\n",
       "      <td>1.553839</td>\n",
       "      <td>-1.060279</td>\n",
       "    </tr>\n",
       "    <tr>\n",
       "      <th>5</th>\n",
       "      <td>bar</td>\n",
       "      <td>two</td>\n",
       "      <td>0.874153</td>\n",
       "      <td>0.017906</td>\n",
       "    </tr>\n",
       "    <tr>\n",
       "      <th>6</th>\n",
       "      <td>foo</td>\n",
       "      <td>one</td>\n",
       "      <td>0.541124</td>\n",
       "      <td>1.737394</td>\n",
       "    </tr>\n",
       "    <tr>\n",
       "      <th>7</th>\n",
       "      <td>foo</td>\n",
       "      <td>three</td>\n",
       "      <td>-0.622036</td>\n",
       "      <td>0.846885</td>\n",
       "    </tr>\n",
       "  </tbody>\n",
       "</table>\n",
       "</div>"
      ],
      "text/plain": [
       "     A      B         C         D\n",
       "0  foo    one  1.411709 -0.044690\n",
       "1  bar    one -0.909330 -1.041273\n",
       "2  foo    two  1.490972 -0.475478\n",
       "3  bar  three  0.742594 -1.741642\n",
       "4  foo    two  1.553839 -1.060279\n",
       "5  bar    two  0.874153  0.017906\n",
       "6  foo    one  0.541124  1.737394\n",
       "7  foo  three -0.622036  0.846885"
      ]
     },
     "execution_count": 63,
     "metadata": {},
     "output_type": "execute_result"
    }
   ],
   "source": [
    "df"
   ]
  },
  {
   "cell_type": "code",
   "execution_count": 64,
   "metadata": {
    "collapsed": false
   },
   "outputs": [
    {
     "data": {
      "text/html": [
       "<div>\n",
       "<table border=\"1\" class=\"dataframe\">\n",
       "  <thead>\n",
       "    <tr style=\"text-align: right;\">\n",
       "      <th></th>\n",
       "      <th>C</th>\n",
       "      <th>D</th>\n",
       "    </tr>\n",
       "    <tr>\n",
       "      <th>A</th>\n",
       "      <th></th>\n",
       "      <th></th>\n",
       "    </tr>\n",
       "  </thead>\n",
       "  <tbody>\n",
       "    <tr>\n",
       "      <th>bar</th>\n",
       "      <td>0.707417</td>\n",
       "      <td>-2.765010</td>\n",
       "    </tr>\n",
       "    <tr>\n",
       "      <th>foo</th>\n",
       "      <td>4.375607</td>\n",
       "      <td>1.003833</td>\n",
       "    </tr>\n",
       "  </tbody>\n",
       "</table>\n",
       "</div>"
      ],
      "text/plain": [
       "            C         D\n",
       "A                      \n",
       "bar  0.707417 -2.765010\n",
       "foo  4.375607  1.003833"
      ]
     },
     "execution_count": 64,
     "metadata": {},
     "output_type": "execute_result"
    }
   ],
   "source": [
    "df.groupby('A').sum()"
   ]
  },
  {
   "cell_type": "code",
   "execution_count": 65,
   "metadata": {
    "collapsed": false
   },
   "outputs": [
    {
     "data": {
      "text/html": [
       "<div>\n",
       "<table border=\"1\" class=\"dataframe\">\n",
       "  <thead>\n",
       "    <tr style=\"text-align: right;\">\n",
       "      <th></th>\n",
       "      <th></th>\n",
       "      <th>C</th>\n",
       "      <th>D</th>\n",
       "    </tr>\n",
       "    <tr>\n",
       "      <th>A</th>\n",
       "      <th>B</th>\n",
       "      <th></th>\n",
       "      <th></th>\n",
       "    </tr>\n",
       "  </thead>\n",
       "  <tbody>\n",
       "    <tr>\n",
       "      <th rowspan=\"3\" valign=\"top\">bar</th>\n",
       "      <th>one</th>\n",
       "      <td>-0.909330</td>\n",
       "      <td>-1.041273</td>\n",
       "    </tr>\n",
       "    <tr>\n",
       "      <th>three</th>\n",
       "      <td>0.742594</td>\n",
       "      <td>-1.741642</td>\n",
       "    </tr>\n",
       "    <tr>\n",
       "      <th>two</th>\n",
       "      <td>0.874153</td>\n",
       "      <td>0.017906</td>\n",
       "    </tr>\n",
       "    <tr>\n",
       "      <th rowspan=\"3\" valign=\"top\">foo</th>\n",
       "      <th>one</th>\n",
       "      <td>1.952832</td>\n",
       "      <td>1.692704</td>\n",
       "    </tr>\n",
       "    <tr>\n",
       "      <th>three</th>\n",
       "      <td>-0.622036</td>\n",
       "      <td>0.846885</td>\n",
       "    </tr>\n",
       "    <tr>\n",
       "      <th>two</th>\n",
       "      <td>3.044811</td>\n",
       "      <td>-1.535756</td>\n",
       "    </tr>\n",
       "  </tbody>\n",
       "</table>\n",
       "</div>"
      ],
      "text/plain": [
       "                  C         D\n",
       "A   B                        \n",
       "bar one   -0.909330 -1.041273\n",
       "    three  0.742594 -1.741642\n",
       "    two    0.874153  0.017906\n",
       "foo one    1.952832  1.692704\n",
       "    three -0.622036  0.846885\n",
       "    two    3.044811 -1.535756"
      ]
     },
     "execution_count": 65,
     "metadata": {},
     "output_type": "execute_result"
    }
   ],
   "source": [
    "df.groupby(['A','B']).sum()"
   ]
  },
  {
   "cell_type": "code",
   "execution_count": 66,
   "metadata": {
    "collapsed": false
   },
   "outputs": [
    {
     "data": {
      "text/html": [
       "<div>\n",
       "<table border=\"1\" class=\"dataframe\">\n",
       "  <thead>\n",
       "    <tr style=\"text-align: right;\">\n",
       "      <th></th>\n",
       "      <th></th>\n",
       "      <th>A</th>\n",
       "      <th>B</th>\n",
       "    </tr>\n",
       "    <tr>\n",
       "      <th>first</th>\n",
       "      <th>second</th>\n",
       "      <th></th>\n",
       "      <th></th>\n",
       "    </tr>\n",
       "  </thead>\n",
       "  <tbody>\n",
       "    <tr>\n",
       "      <th rowspan=\"2\" valign=\"top\">bar</th>\n",
       "      <th>one</th>\n",
       "      <td>0.929200</td>\n",
       "      <td>-0.174770</td>\n",
       "    </tr>\n",
       "    <tr>\n",
       "      <th>two</th>\n",
       "      <td>-0.350198</td>\n",
       "      <td>-0.666616</td>\n",
       "    </tr>\n",
       "    <tr>\n",
       "      <th rowspan=\"2\" valign=\"top\">baz</th>\n",
       "      <th>one</th>\n",
       "      <td>1.464027</td>\n",
       "      <td>-0.485057</td>\n",
       "    </tr>\n",
       "    <tr>\n",
       "      <th>two</th>\n",
       "      <td>-0.543362</td>\n",
       "      <td>0.392313</td>\n",
       "    </tr>\n",
       "  </tbody>\n",
       "</table>\n",
       "</div>"
      ],
      "text/plain": [
       "                     A         B\n",
       "first second                    \n",
       "bar   one     0.929200 -0.174770\n",
       "      two    -0.350198 -0.666616\n",
       "baz   one     1.464027 -0.485057\n",
       "      two    -0.543362  0.392313"
      ]
     },
     "execution_count": 66,
     "metadata": {},
     "output_type": "execute_result"
    }
   ],
   "source": [
    "tuples = list(zip(*[['bar', 'bar', 'baz', 'baz',\n",
    "   ....:                      'foo', 'foo', 'qux', 'qux'],\n",
    "   ....:                     ['one', 'two', 'one', 'two',\n",
    "   ....:                      'one', 'two', 'one', 'two']]))\n",
    "   ....: \n",
    "\n",
    "index = pd.MultiIndex.from_tuples(tuples, names=['first', 'second'])\n",
    "\n",
    "df = pd.DataFrame(np.random.randn(8, 2), index=index, columns=['A', 'B'])\n",
    "\n",
    "df2 = df[:4]\n",
    "\n",
    "df2"
   ]
  },
  {
   "cell_type": "code",
   "execution_count": 67,
   "metadata": {
    "collapsed": false
   },
   "outputs": [
    {
     "data": {
      "text/plain": [
       "first  second   \n",
       "bar    one     A    0.929200\n",
       "               B   -0.174770\n",
       "       two     A   -0.350198\n",
       "               B   -0.666616\n",
       "baz    one     A    1.464027\n",
       "               B   -0.485057\n",
       "       two     A   -0.543362\n",
       "               B    0.392313\n",
       "dtype: float64"
      ]
     },
     "execution_count": 67,
     "metadata": {},
     "output_type": "execute_result"
    }
   ],
   "source": [
    "stacked = df2.stack()\n",
    "\n",
    "stacked"
   ]
  },
  {
   "cell_type": "code",
   "execution_count": 68,
   "metadata": {
    "collapsed": false
   },
   "outputs": [
    {
     "data": {
      "text/html": [
       "<div>\n",
       "<table border=\"1\" class=\"dataframe\">\n",
       "  <thead>\n",
       "    <tr style=\"text-align: right;\">\n",
       "      <th></th>\n",
       "      <th></th>\n",
       "      <th>A</th>\n",
       "      <th>B</th>\n",
       "    </tr>\n",
       "    <tr>\n",
       "      <th>first</th>\n",
       "      <th>second</th>\n",
       "      <th></th>\n",
       "      <th></th>\n",
       "    </tr>\n",
       "  </thead>\n",
       "  <tbody>\n",
       "    <tr>\n",
       "      <th rowspan=\"2\" valign=\"top\">bar</th>\n",
       "      <th>one</th>\n",
       "      <td>0.929200</td>\n",
       "      <td>-0.174770</td>\n",
       "    </tr>\n",
       "    <tr>\n",
       "      <th>two</th>\n",
       "      <td>-0.350198</td>\n",
       "      <td>-0.666616</td>\n",
       "    </tr>\n",
       "    <tr>\n",
       "      <th rowspan=\"2\" valign=\"top\">baz</th>\n",
       "      <th>one</th>\n",
       "      <td>1.464027</td>\n",
       "      <td>-0.485057</td>\n",
       "    </tr>\n",
       "    <tr>\n",
       "      <th>two</th>\n",
       "      <td>-0.543362</td>\n",
       "      <td>0.392313</td>\n",
       "    </tr>\n",
       "  </tbody>\n",
       "</table>\n",
       "</div>"
      ],
      "text/plain": [
       "                     A         B\n",
       "first second                    \n",
       "bar   one     0.929200 -0.174770\n",
       "      two    -0.350198 -0.666616\n",
       "baz   one     1.464027 -0.485057\n",
       "      two    -0.543362  0.392313"
      ]
     },
     "execution_count": 68,
     "metadata": {},
     "output_type": "execute_result"
    }
   ],
   "source": [
    "stacked.unstack()"
   ]
  },
  {
   "cell_type": "code",
   "execution_count": 69,
   "metadata": {
    "collapsed": false
   },
   "outputs": [
    {
     "data": {
      "text/html": [
       "<div>\n",
       "<table border=\"1\" class=\"dataframe\">\n",
       "  <thead>\n",
       "    <tr style=\"text-align: right;\">\n",
       "      <th></th>\n",
       "      <th>second</th>\n",
       "      <th>one</th>\n",
       "      <th>two</th>\n",
       "    </tr>\n",
       "    <tr>\n",
       "      <th>first</th>\n",
       "      <th></th>\n",
       "      <th></th>\n",
       "      <th></th>\n",
       "    </tr>\n",
       "  </thead>\n",
       "  <tbody>\n",
       "    <tr>\n",
       "      <th rowspan=\"2\" valign=\"top\">bar</th>\n",
       "      <th>A</th>\n",
       "      <td>0.929200</td>\n",
       "      <td>-0.350198</td>\n",
       "    </tr>\n",
       "    <tr>\n",
       "      <th>B</th>\n",
       "      <td>-0.174770</td>\n",
       "      <td>-0.666616</td>\n",
       "    </tr>\n",
       "    <tr>\n",
       "      <th rowspan=\"2\" valign=\"top\">baz</th>\n",
       "      <th>A</th>\n",
       "      <td>1.464027</td>\n",
       "      <td>-0.543362</td>\n",
       "    </tr>\n",
       "    <tr>\n",
       "      <th>B</th>\n",
       "      <td>-0.485057</td>\n",
       "      <td>0.392313</td>\n",
       "    </tr>\n",
       "  </tbody>\n",
       "</table>\n",
       "</div>"
      ],
      "text/plain": [
       "second        one       two\n",
       "first                      \n",
       "bar   A  0.929200 -0.350198\n",
       "      B -0.174770 -0.666616\n",
       "baz   A  1.464027 -0.543362\n",
       "      B -0.485057  0.392313"
      ]
     },
     "execution_count": 69,
     "metadata": {},
     "output_type": "execute_result"
    }
   ],
   "source": [
    "stacked.unstack(1)"
   ]
  },
  {
   "cell_type": "code",
   "execution_count": 70,
   "metadata": {
    "collapsed": false
   },
   "outputs": [
    {
     "data": {
      "text/html": [
       "<div>\n",
       "<table border=\"1\" class=\"dataframe\">\n",
       "  <thead>\n",
       "    <tr style=\"text-align: right;\">\n",
       "      <th></th>\n",
       "      <th>first</th>\n",
       "      <th>bar</th>\n",
       "      <th>baz</th>\n",
       "    </tr>\n",
       "    <tr>\n",
       "      <th>second</th>\n",
       "      <th></th>\n",
       "      <th></th>\n",
       "      <th></th>\n",
       "    </tr>\n",
       "  </thead>\n",
       "  <tbody>\n",
       "    <tr>\n",
       "      <th rowspan=\"2\" valign=\"top\">one</th>\n",
       "      <th>A</th>\n",
       "      <td>0.929200</td>\n",
       "      <td>1.464027</td>\n",
       "    </tr>\n",
       "    <tr>\n",
       "      <th>B</th>\n",
       "      <td>-0.174770</td>\n",
       "      <td>-0.485057</td>\n",
       "    </tr>\n",
       "    <tr>\n",
       "      <th rowspan=\"2\" valign=\"top\">two</th>\n",
       "      <th>A</th>\n",
       "      <td>-0.350198</td>\n",
       "      <td>-0.543362</td>\n",
       "    </tr>\n",
       "    <tr>\n",
       "      <th>B</th>\n",
       "      <td>-0.666616</td>\n",
       "      <td>0.392313</td>\n",
       "    </tr>\n",
       "  </tbody>\n",
       "</table>\n",
       "</div>"
      ],
      "text/plain": [
       "first          bar       baz\n",
       "second                      \n",
       "one    A  0.929200  1.464027\n",
       "       B -0.174770 -0.485057\n",
       "two    A -0.350198 -0.543362\n",
       "       B -0.666616  0.392313"
      ]
     },
     "execution_count": 70,
     "metadata": {},
     "output_type": "execute_result"
    }
   ],
   "source": [
    "stacked.unstack(0)"
   ]
  },
  {
   "cell_type": "code",
   "execution_count": 71,
   "metadata": {
    "collapsed": true
   },
   "outputs": [],
   "source": [
    "df = pd.DataFrame({'A' : ['one', 'one', 'two', 'three'] * 3,\n",
    "   .....:                    'B' : ['A', 'B', 'C'] * 4,\n",
    "   .....:                    'C' : ['foo', 'foo', 'foo', 'bar', 'bar', 'bar'] * 2,\n",
    "   .....:                    'D' : np.random.randn(12),\n",
    "   .....:                    'E' : np.random.randn(12)})"
   ]
  },
  {
   "cell_type": "code",
   "execution_count": 72,
   "metadata": {
    "collapsed": false
   },
   "outputs": [
    {
     "data": {
      "text/html": [
       "<div>\n",
       "<table border=\"1\" class=\"dataframe\">\n",
       "  <thead>\n",
       "    <tr style=\"text-align: right;\">\n",
       "      <th></th>\n",
       "      <th>A</th>\n",
       "      <th>B</th>\n",
       "      <th>C</th>\n",
       "      <th>D</th>\n",
       "      <th>E</th>\n",
       "    </tr>\n",
       "  </thead>\n",
       "  <tbody>\n",
       "    <tr>\n",
       "      <th>0</th>\n",
       "      <td>one</td>\n",
       "      <td>A</td>\n",
       "      <td>foo</td>\n",
       "      <td>0.603856</td>\n",
       "      <td>-0.278826</td>\n",
       "    </tr>\n",
       "    <tr>\n",
       "      <th>1</th>\n",
       "      <td>one</td>\n",
       "      <td>B</td>\n",
       "      <td>foo</td>\n",
       "      <td>-0.492946</td>\n",
       "      <td>0.031735</td>\n",
       "    </tr>\n",
       "    <tr>\n",
       "      <th>2</th>\n",
       "      <td>two</td>\n",
       "      <td>C</td>\n",
       "      <td>foo</td>\n",
       "      <td>0.624009</td>\n",
       "      <td>-0.654703</td>\n",
       "    </tr>\n",
       "    <tr>\n",
       "      <th>3</th>\n",
       "      <td>three</td>\n",
       "      <td>A</td>\n",
       "      <td>bar</td>\n",
       "      <td>-0.541536</td>\n",
       "      <td>0.376391</td>\n",
       "    </tr>\n",
       "    <tr>\n",
       "      <th>4</th>\n",
       "      <td>one</td>\n",
       "      <td>B</td>\n",
       "      <td>bar</td>\n",
       "      <td>0.351418</td>\n",
       "      <td>0.085257</td>\n",
       "    </tr>\n",
       "    <tr>\n",
       "      <th>5</th>\n",
       "      <td>one</td>\n",
       "      <td>C</td>\n",
       "      <td>bar</td>\n",
       "      <td>-2.025349</td>\n",
       "      <td>-0.761228</td>\n",
       "    </tr>\n",
       "    <tr>\n",
       "      <th>6</th>\n",
       "      <td>two</td>\n",
       "      <td>A</td>\n",
       "      <td>foo</td>\n",
       "      <td>-0.038506</td>\n",
       "      <td>1.914392</td>\n",
       "    </tr>\n",
       "    <tr>\n",
       "      <th>7</th>\n",
       "      <td>three</td>\n",
       "      <td>B</td>\n",
       "      <td>foo</td>\n",
       "      <td>-1.042859</td>\n",
       "      <td>0.478547</td>\n",
       "    </tr>\n",
       "    <tr>\n",
       "      <th>8</th>\n",
       "      <td>one</td>\n",
       "      <td>C</td>\n",
       "      <td>foo</td>\n",
       "      <td>0.512220</td>\n",
       "      <td>-0.843693</td>\n",
       "    </tr>\n",
       "    <tr>\n",
       "      <th>9</th>\n",
       "      <td>one</td>\n",
       "      <td>A</td>\n",
       "      <td>bar</td>\n",
       "      <td>-0.450817</td>\n",
       "      <td>1.173881</td>\n",
       "    </tr>\n",
       "    <tr>\n",
       "      <th>10</th>\n",
       "      <td>two</td>\n",
       "      <td>B</td>\n",
       "      <td>bar</td>\n",
       "      <td>-0.241704</td>\n",
       "      <td>1.140567</td>\n",
       "    </tr>\n",
       "    <tr>\n",
       "      <th>11</th>\n",
       "      <td>three</td>\n",
       "      <td>C</td>\n",
       "      <td>bar</td>\n",
       "      <td>0.095218</td>\n",
       "      <td>-0.357334</td>\n",
       "    </tr>\n",
       "  </tbody>\n",
       "</table>\n",
       "</div>"
      ],
      "text/plain": [
       "        A  B    C         D         E\n",
       "0     one  A  foo  0.603856 -0.278826\n",
       "1     one  B  foo -0.492946  0.031735\n",
       "2     two  C  foo  0.624009 -0.654703\n",
       "3   three  A  bar -0.541536  0.376391\n",
       "4     one  B  bar  0.351418  0.085257\n",
       "5     one  C  bar -2.025349 -0.761228\n",
       "6     two  A  foo -0.038506  1.914392\n",
       "7   three  B  foo -1.042859  0.478547\n",
       "8     one  C  foo  0.512220 -0.843693\n",
       "9     one  A  bar -0.450817  1.173881\n",
       "10    two  B  bar -0.241704  1.140567\n",
       "11  three  C  bar  0.095218 -0.357334"
      ]
     },
     "execution_count": 72,
     "metadata": {},
     "output_type": "execute_result"
    }
   ],
   "source": [
    "df"
   ]
  },
  {
   "cell_type": "code",
   "execution_count": 73,
   "metadata": {
    "collapsed": false
   },
   "outputs": [
    {
     "data": {
      "text/html": [
       "<div>\n",
       "<table border=\"1\" class=\"dataframe\">\n",
       "  <thead>\n",
       "    <tr style=\"text-align: right;\">\n",
       "      <th></th>\n",
       "      <th>C</th>\n",
       "      <th>bar</th>\n",
       "      <th>foo</th>\n",
       "    </tr>\n",
       "    <tr>\n",
       "      <th>A</th>\n",
       "      <th>B</th>\n",
       "      <th></th>\n",
       "      <th></th>\n",
       "    </tr>\n",
       "  </thead>\n",
       "  <tbody>\n",
       "    <tr>\n",
       "      <th rowspan=\"3\" valign=\"top\">one</th>\n",
       "      <th>A</th>\n",
       "      <td>-0.450817</td>\n",
       "      <td>0.603856</td>\n",
       "    </tr>\n",
       "    <tr>\n",
       "      <th>B</th>\n",
       "      <td>0.351418</td>\n",
       "      <td>-0.492946</td>\n",
       "    </tr>\n",
       "    <tr>\n",
       "      <th>C</th>\n",
       "      <td>-2.025349</td>\n",
       "      <td>0.512220</td>\n",
       "    </tr>\n",
       "    <tr>\n",
       "      <th rowspan=\"3\" valign=\"top\">three</th>\n",
       "      <th>A</th>\n",
       "      <td>-0.541536</td>\n",
       "      <td>NaN</td>\n",
       "    </tr>\n",
       "    <tr>\n",
       "      <th>B</th>\n",
       "      <td>NaN</td>\n",
       "      <td>-1.042859</td>\n",
       "    </tr>\n",
       "    <tr>\n",
       "      <th>C</th>\n",
       "      <td>0.095218</td>\n",
       "      <td>NaN</td>\n",
       "    </tr>\n",
       "    <tr>\n",
       "      <th rowspan=\"3\" valign=\"top\">two</th>\n",
       "      <th>A</th>\n",
       "      <td>NaN</td>\n",
       "      <td>-0.038506</td>\n",
       "    </tr>\n",
       "    <tr>\n",
       "      <th>B</th>\n",
       "      <td>-0.241704</td>\n",
       "      <td>NaN</td>\n",
       "    </tr>\n",
       "    <tr>\n",
       "      <th>C</th>\n",
       "      <td>NaN</td>\n",
       "      <td>0.624009</td>\n",
       "    </tr>\n",
       "  </tbody>\n",
       "</table>\n",
       "</div>"
      ],
      "text/plain": [
       "C             bar       foo\n",
       "A     B                    \n",
       "one   A -0.450817  0.603856\n",
       "      B  0.351418 -0.492946\n",
       "      C -2.025349  0.512220\n",
       "three A -0.541536       NaN\n",
       "      B       NaN -1.042859\n",
       "      C  0.095218       NaN\n",
       "two   A       NaN -0.038506\n",
       "      B -0.241704       NaN\n",
       "      C       NaN  0.624009"
      ]
     },
     "execution_count": 73,
     "metadata": {},
     "output_type": "execute_result"
    }
   ],
   "source": [
    "pd.pivot_table(df, values='D', index=['A', 'B'], columns=['C'])"
   ]
  },
  {
   "cell_type": "code",
   "execution_count": 74,
   "metadata": {
    "collapsed": false
   },
   "outputs": [
    {
     "name": "stderr",
     "output_type": "stream",
     "text": [
      "/Users/zoostar/anaconda/lib/python2.7/site-packages/ipykernel/__main__.py:5: FutureWarning: how in .resample() is deprecated\n",
      "the new syntax is .resample(...).sum()\n"
     ]
    },
    {
     "data": {
      "text/plain": [
       "2012-01-01    23766\n",
       "Freq: 5T, dtype: int64"
      ]
     },
     "execution_count": 74,
     "metadata": {},
     "output_type": "execute_result"
    }
   ],
   "source": [
    "rng = pd.date_range('1/1/2012', periods=100, freq='S')\n",
    "\n",
    "ts = pd.Series(np.random.randint(0, 500, len(rng)), index=rng)\n",
    "\n",
    "ts.resample('5Min', how='sum')"
   ]
  },
  {
   "cell_type": "code",
   "execution_count": 75,
   "metadata": {
    "collapsed": false
   },
   "outputs": [
    {
     "data": {
      "text/plain": [
       "2012-03-06   -0.711528\n",
       "2012-03-07   -1.458662\n",
       "2012-03-08   -0.532752\n",
       "2012-03-09    0.814039\n",
       "2012-03-10   -1.787990\n",
       "Freq: D, dtype: float64"
      ]
     },
     "execution_count": 75,
     "metadata": {},
     "output_type": "execute_result"
    }
   ],
   "source": [
    "rng = pd.date_range('3/6/2012 00:00', periods=5, freq='D')\n",
    "\n",
    "ts = pd.Series(np.random.randn(len(rng)), rng)\n",
    "\n",
    "ts"
   ]
  },
  {
   "cell_type": "code",
   "execution_count": 76,
   "metadata": {
    "collapsed": false
   },
   "outputs": [
    {
     "data": {
      "text/plain": [
       "2012-03-06 00:00:00+00:00   -0.711528\n",
       "2012-03-07 00:00:00+00:00   -1.458662\n",
       "2012-03-08 00:00:00+00:00   -0.532752\n",
       "2012-03-09 00:00:00+00:00    0.814039\n",
       "2012-03-10 00:00:00+00:00   -1.787990\n",
       "Freq: D, dtype: float64"
      ]
     },
     "execution_count": 76,
     "metadata": {},
     "output_type": "execute_result"
    }
   ],
   "source": [
    "ts_utc = ts.tz_localize('UTC')\n",
    "\n",
    "ts_utc"
   ]
  },
  {
   "cell_type": "code",
   "execution_count": 77,
   "metadata": {
    "collapsed": false
   },
   "outputs": [
    {
     "data": {
      "text/plain": [
       "2012-03-05 19:00:00-05:00   -0.711528\n",
       "2012-03-06 19:00:00-05:00   -1.458662\n",
       "2012-03-07 19:00:00-05:00   -0.532752\n",
       "2012-03-08 19:00:00-05:00    0.814039\n",
       "2012-03-09 19:00:00-05:00   -1.787990\n",
       "Freq: D, dtype: float64"
      ]
     },
     "execution_count": 77,
     "metadata": {},
     "output_type": "execute_result"
    }
   ],
   "source": [
    " ts_utc.tz_convert('US/Eastern')"
   ]
  },
  {
   "cell_type": "code",
   "execution_count": 78,
   "metadata": {
    "collapsed": false
   },
   "outputs": [
    {
     "data": {
      "text/plain": [
       "2012-01-31    0.648295\n",
       "2012-02-29    0.204497\n",
       "2012-03-31   -0.316593\n",
       "2012-04-30    0.931600\n",
       "2012-05-31   -0.848099\n",
       "Freq: M, dtype: float64"
      ]
     },
     "execution_count": 78,
     "metadata": {},
     "output_type": "execute_result"
    }
   ],
   "source": [
    "rng = pd.date_range('1/1/2012', periods=5, freq='M')\n",
    "\n",
    "ts = pd.Series(np.random.randn(len(rng)), index=rng)\n",
    "\n",
    "ts"
   ]
  },
  {
   "cell_type": "code",
   "execution_count": 79,
   "metadata": {
    "collapsed": false
   },
   "outputs": [
    {
     "data": {
      "text/plain": [
       "2012-01    0.648295\n",
       "2012-02    0.204497\n",
       "2012-03   -0.316593\n",
       "2012-04    0.931600\n",
       "2012-05   -0.848099\n",
       "Freq: M, dtype: float64"
      ]
     },
     "execution_count": 79,
     "metadata": {},
     "output_type": "execute_result"
    }
   ],
   "source": [
    "ps = ts.to_period()\n",
    "\n",
    "ps"
   ]
  },
  {
   "cell_type": "code",
   "execution_count": 80,
   "metadata": {
    "collapsed": false
   },
   "outputs": [
    {
     "data": {
      "text/plain": [
       "2012-01-01    0.648295\n",
       "2012-02-01    0.204497\n",
       "2012-03-01   -0.316593\n",
       "2012-04-01    0.931600\n",
       "2012-05-01   -0.848099\n",
       "Freq: MS, dtype: float64"
      ]
     },
     "execution_count": 80,
     "metadata": {},
     "output_type": "execute_result"
    }
   ],
   "source": [
    "ps.to_timestamp()"
   ]
  },
  {
   "cell_type": "code",
   "execution_count": 81,
   "metadata": {
    "collapsed": false
   },
   "outputs": [
    {
     "data": {
      "text/plain": [
       "1990-03-01 09:00   -0.957358\n",
       "1990-06-01 09:00   -1.586243\n",
       "1990-09-01 09:00   -0.666276\n",
       "1990-12-01 09:00   -0.459179\n",
       "1991-03-01 09:00   -0.868795\n",
       "Freq: H, dtype: float64"
      ]
     },
     "execution_count": 81,
     "metadata": {},
     "output_type": "execute_result"
    }
   ],
   "source": [
    "prng = pd.period_range('1990Q1', '2000Q4', freq='Q-NOV')\n",
    "\n",
    "ts = pd.Series(np.random.randn(len(prng)), prng)\n",
    "\n",
    "ts.index = (prng.asfreq('M', 'e') + 1).asfreq('H', 's') + 9\n",
    "\n",
    "ts.head()"
   ]
  },
  {
   "cell_type": "code",
   "execution_count": 82,
   "metadata": {
    "collapsed": true
   },
   "outputs": [],
   "source": [
    "df = pd.DataFrame({\"id\":[1,2,3,4,5,6], \"raw_grade\":['a', 'b', 'b', 'a', 'a', 'e']})"
   ]
  },
  {
   "cell_type": "code",
   "execution_count": 83,
   "metadata": {
    "collapsed": false
   },
   "outputs": [
    {
     "data": {
      "text/plain": [
       "0    a\n",
       "1    b\n",
       "2    b\n",
       "3    a\n",
       "4    a\n",
       "5    e\n",
       "Name: grade, dtype: category\n",
       "Categories (3, object): [a, b, e]"
      ]
     },
     "execution_count": 83,
     "metadata": {},
     "output_type": "execute_result"
    }
   ],
   "source": [
    "df[\"grade\"] = df[\"raw_grade\"].astype(\"category\")\n",
    "\n",
    "df[\"grade\"]"
   ]
  },
  {
   "cell_type": "code",
   "execution_count": 84,
   "metadata": {
    "collapsed": true
   },
   "outputs": [],
   "source": [
    "df[\"grade\"].cat.categories = [\"very good\", \"good\", \"very bad\"]"
   ]
  },
  {
   "cell_type": "code",
   "execution_count": 85,
   "metadata": {
    "collapsed": false
   },
   "outputs": [
    {
     "data": {
      "text/plain": [
       "0    very good\n",
       "1         good\n",
       "2         good\n",
       "3    very good\n",
       "4    very good\n",
       "5     very bad\n",
       "Name: grade, dtype: category\n",
       "Categories (5, object): [very bad, bad, medium, good, very good]"
      ]
     },
     "execution_count": 85,
     "metadata": {},
     "output_type": "execute_result"
    }
   ],
   "source": [
    "df[\"grade\"] = df[\"grade\"].cat.set_categories([\"very bad\", \"bad\", \"medium\", \"good\", \"very good\"])\n",
    "\n",
    "df[\"grade\"]"
   ]
  },
  {
   "cell_type": "code",
   "execution_count": 93,
   "metadata": {
    "collapsed": false
   },
   "outputs": [
    {
     "data": {
      "text/html": [
       "<div>\n",
       "<table border=\"1\" class=\"dataframe\">\n",
       "  <thead>\n",
       "    <tr style=\"text-align: right;\">\n",
       "      <th></th>\n",
       "      <th>id</th>\n",
       "      <th>raw_grade</th>\n",
       "      <th>grade</th>\n",
       "    </tr>\n",
       "  </thead>\n",
       "  <tbody>\n",
       "    <tr>\n",
       "      <th>5</th>\n",
       "      <td>6</td>\n",
       "      <td>e</td>\n",
       "      <td>very bad</td>\n",
       "    </tr>\n",
       "    <tr>\n",
       "      <th>1</th>\n",
       "      <td>2</td>\n",
       "      <td>b</td>\n",
       "      <td>good</td>\n",
       "    </tr>\n",
       "    <tr>\n",
       "      <th>2</th>\n",
       "      <td>3</td>\n",
       "      <td>b</td>\n",
       "      <td>good</td>\n",
       "    </tr>\n",
       "    <tr>\n",
       "      <th>0</th>\n",
       "      <td>1</td>\n",
       "      <td>a</td>\n",
       "      <td>very good</td>\n",
       "    </tr>\n",
       "    <tr>\n",
       "      <th>3</th>\n",
       "      <td>4</td>\n",
       "      <td>a</td>\n",
       "      <td>very good</td>\n",
       "    </tr>\n",
       "    <tr>\n",
       "      <th>4</th>\n",
       "      <td>5</td>\n",
       "      <td>a</td>\n",
       "      <td>very good</td>\n",
       "    </tr>\n",
       "  </tbody>\n",
       "</table>\n",
       "</div>"
      ],
      "text/plain": [
       "   id raw_grade      grade\n",
       "5   6         e   very bad\n",
       "1   2         b       good\n",
       "2   3         b       good\n",
       "0   1         a  very good\n",
       "3   4         a  very good\n",
       "4   5         a  very good"
      ]
     },
     "execution_count": 93,
     "metadata": {},
     "output_type": "execute_result"
    }
   ],
   "source": [
    "df.sort_values(by=\"grade\")"
   ]
  },
  {
   "cell_type": "code",
   "execution_count": 87,
   "metadata": {
    "collapsed": false
   },
   "outputs": [
    {
     "data": {
      "text/plain": [
       "grade\n",
       "very bad     1\n",
       "bad          0\n",
       "medium       0\n",
       "good         2\n",
       "very good    3\n",
       "dtype: int64"
      ]
     },
     "execution_count": 87,
     "metadata": {},
     "output_type": "execute_result"
    }
   ],
   "source": [
    "df.groupby(\"grade\").size()"
   ]
  },
  {
   "cell_type": "code",
   "execution_count": 110,
   "metadata": {
    "collapsed": true
   },
   "outputs": [],
   "source": [
    "%matplotlib inline"
   ]
  },
  {
   "cell_type": "code",
   "execution_count": 96,
   "metadata": {
    "collapsed": false
   },
   "outputs": [],
   "source": [
    "import matplotlib.pylab\n",
    "import matplotlib.pyplot as plt"
   ]
  },
  {
   "cell_type": "code",
   "execution_count": 109,
   "metadata": {
    "collapsed": false
   },
   "outputs": [
    {
     "data": {
      "text/plain": [
       "'module://ipykernel.pylab.backend_inline'"
      ]
     },
     "execution_count": 109,
     "metadata": {},
     "output_type": "execute_result"
    }
   ],
   "source": [
    "matplotlib.get_backend()"
   ]
  },
  {
   "cell_type": "code",
   "execution_count": 115,
   "metadata": {
    "collapsed": false
   },
   "outputs": [
    {
     "data": {
      "text/plain": [
       "[<matplotlib.lines.Line2D at 0x116337890>]"
      ]
     },
     "execution_count": 115,
     "metadata": {},
     "output_type": "execute_result"
    },
    {
     "data": {
      "image/png": "[encoded data removed]",
      "text/plain": [
       "<matplotlib.figure.Figure at 0x118d5c6d0>"
      ]
     },
     "metadata": {},
     "output_type": "display_data"
    }
   ],
   "source": [
    "ts = pd.Series(np.random.randn(1000), index=pd.date_range('1/1/2000', periods=1000))\n",
    "\n",
    "ts = ts.cumsum()\n",
    "plt.plot(ts)"
   ]
  },
  {
   "cell_type": "code",
   "execution_count": 116,
   "metadata": {
    "collapsed": false
   },
   "outputs": [
    {
     "name": "stderr",
     "output_type": "stream",
     "text": [
      "/Users/zoostar/anaconda/lib/python2.7/site-packages/matplotlib/axes/_axes.py:519: UserWarning: No labelled objects found. Use label='...' kwarg on individual plots.\n",
      "  warnings.warn(\"No labelled objects found. \"\n"
     ]
    },
    {
     "data": {
      "image/png": "[encoded data removed]",
      "text/plain": [
       "<matplotlib.figure.Figure at 0x1165a65d0>"
      ]
     },
     "metadata": {},
     "output_type": "display_data"
    }
   ],
   "source": [
    "df = pd.DataFrame(np.random.randn(1000, 4), index=ts.index,columns=['A', 'B', 'C', 'D']) \n",
    "\n",
    "df = df.cumsum()\n",
    "\n",
    "plt.figure();\n",
    "plt.plot(df)\n",
    "plt.legend(loc='best')"
   ]
  },
  {
   "cell_type": "code",
   "execution_count": 99,
   "metadata": {
    "collapsed": true
   },
   "outputs": [],
   "source": [
    "df.to_csv('foo.csv')"
   ]
  },
  {
   "cell_type": "code",
   "execution_count": 100,
   "metadata": {
    "collapsed": false
   },
   "outputs": [
    {
     "data": {
      "text/html": [
       "<div>\n",
       "<table border=\"1\" class=\"dataframe\">\n",
       "  <thead>\n",
       "    <tr style=\"text-align: right;\">\n",
       "      <th></th>\n",
       "      <th>Unnamed: 0</th>\n",
       "      <th>A</th>\n",
       "      <th>B</th>\n",
       "      <th>C</th>\n",
       "      <th>D</th>\n",
       "    </tr>\n",
       "  </thead>\n",
       "  <tbody>\n",
       "    <tr>\n",
       "      <th>0</th>\n",
       "      <td>2000-01-01</td>\n",
       "      <td>0.167880</td>\n",
       "      <td>0.449979</td>\n",
       "      <td>0.760280</td>\n",
       "      <td>0.143719</td>\n",
       "    </tr>\n",
       "    <tr>\n",
       "      <th>1</th>\n",
       "      <td>2000-01-02</td>\n",
       "      <td>1.415723</td>\n",
       "      <td>1.109259</td>\n",
       "      <td>1.043444</td>\n",
       "      <td>-0.659320</td>\n",
       "    </tr>\n",
       "    <tr>\n",
       "      <th>2</th>\n",
       "      <td>2000-01-03</td>\n",
       "      <td>2.332954</td>\n",
       "      <td>1.019915</td>\n",
       "      <td>1.640784</td>\n",
       "      <td>-0.572795</td>\n",
       "    </tr>\n",
       "    <tr>\n",
       "      <th>3</th>\n",
       "      <td>2000-01-04</td>\n",
       "      <td>3.291297</td>\n",
       "      <td>-0.165844</td>\n",
       "      <td>1.661092</td>\n",
       "      <td>-1.326248</td>\n",
       "    </tr>\n",
       "    <tr>\n",
       "      <th>4</th>\n",
       "      <td>2000-01-05</td>\n",
       "      <td>3.703555</td>\n",
       "      <td>1.795259</td>\n",
       "      <td>1.166112</td>\n",
       "      <td>-2.709278</td>\n",
       "    </tr>\n",
       "    <tr>\n",
       "      <th>5</th>\n",
       "      <td>2000-01-06</td>\n",
       "      <td>4.695452</td>\n",
       "      <td>1.730050</td>\n",
       "      <td>0.197465</td>\n",
       "      <td>-2.642662</td>\n",
       "    </tr>\n",
       "    <tr>\n",
       "      <th>6</th>\n",
       "      <td>2000-01-07</td>\n",
       "      <td>5.153339</td>\n",
       "      <td>1.403745</td>\n",
       "      <td>0.111445</td>\n",
       "      <td>-2.904859</td>\n",
       "    </tr>\n",
       "    <tr>\n",
       "      <th>7</th>\n",
       "      <td>2000-01-08</td>\n",
       "      <td>5.229884</td>\n",
       "      <td>0.549227</td>\n",
       "      <td>1.338921</td>\n",
       "      <td>-2.374675</td>\n",
       "    </tr>\n",
       "    <tr>\n",
       "      <th>8</th>\n",
       "      <td>2000-01-09</td>\n",
       "      <td>6.834794</td>\n",
       "      <td>0.816332</td>\n",
       "      <td>-0.021085</td>\n",
       "      <td>-1.443427</td>\n",
       "    </tr>\n",
       "    <tr>\n",
       "      <th>9</th>\n",
       "      <td>2000-01-10</td>\n",
       "      <td>7.479675</td>\n",
       "      <td>1.954935</td>\n",
       "      <td>0.516446</td>\n",
       "      <td>-2.564909</td>\n",
       "    </tr>\n",
       "    <tr>\n",
       "      <th>10</th>\n",
       "      <td>2000-01-11</td>\n",
       "      <td>6.040874</td>\n",
       "      <td>1.835237</td>\n",
       "      <td>0.894369</td>\n",
       "      <td>-3.373590</td>\n",
       "    </tr>\n",
       "    <tr>\n",
       "      <th>11</th>\n",
       "      <td>2000-01-12</td>\n",
       "      <td>6.163212</td>\n",
       "      <td>2.666831</td>\n",
       "      <td>-1.650974</td>\n",
       "      <td>-3.787224</td>\n",
       "    </tr>\n",
       "    <tr>\n",
       "      <th>12</th>\n",
       "      <td>2000-01-13</td>\n",
       "      <td>6.100803</td>\n",
       "      <td>1.108172</td>\n",
       "      <td>-1.065775</td>\n",
       "      <td>-2.804611</td>\n",
       "    </tr>\n",
       "    <tr>\n",
       "      <th>13</th>\n",
       "      <td>2000-01-14</td>\n",
       "      <td>7.363846</td>\n",
       "      <td>1.457340</td>\n",
       "      <td>-1.105352</td>\n",
       "      <td>-2.908165</td>\n",
       "    </tr>\n",
       "    <tr>\n",
       "      <th>14</th>\n",
       "      <td>2000-01-15</td>\n",
       "      <td>7.532313</td>\n",
       "      <td>0.695678</td>\n",
       "      <td>-3.446161</td>\n",
       "      <td>-3.305195</td>\n",
       "    </tr>\n",
       "    <tr>\n",
       "      <th>15</th>\n",
       "      <td>2000-01-16</td>\n",
       "      <td>6.240939</td>\n",
       "      <td>1.313275</td>\n",
       "      <td>-5.187943</td>\n",
       "      <td>-3.630486</td>\n",
       "    </tr>\n",
       "    <tr>\n",
       "      <th>16</th>\n",
       "      <td>2000-01-17</td>\n",
       "      <td>6.306419</td>\n",
       "      <td>2.491542</td>\n",
       "      <td>-6.255966</td>\n",
       "      <td>-3.951213</td>\n",
       "    </tr>\n",
       "    <tr>\n",
       "      <th>17</th>\n",
       "      <td>2000-01-18</td>\n",
       "      <td>6.807121</td>\n",
       "      <td>1.268852</td>\n",
       "      <td>-6.037042</td>\n",
       "      <td>-2.801424</td>\n",
       "    </tr>\n",
       "    <tr>\n",
       "      <th>18</th>\n",
       "      <td>2000-01-19</td>\n",
       "      <td>6.194018</td>\n",
       "      <td>1.205568</td>\n",
       "      <td>-6.892005</td>\n",
       "      <td>-2.504392</td>\n",
       "    </tr>\n",
       "    <tr>\n",
       "      <th>19</th>\n",
       "      <td>2000-01-20</td>\n",
       "      <td>5.752059</td>\n",
       "      <td>0.732732</td>\n",
       "      <td>-8.883175</td>\n",
       "      <td>-1.034984</td>\n",
       "    </tr>\n",
       "    <tr>\n",
       "      <th>20</th>\n",
       "      <td>2000-01-21</td>\n",
       "      <td>6.621657</td>\n",
       "      <td>2.343523</td>\n",
       "      <td>-7.465762</td>\n",
       "      <td>-0.061285</td>\n",
       "    </tr>\n",
       "    <tr>\n",
       "      <th>21</th>\n",
       "      <td>2000-01-22</td>\n",
       "      <td>6.022305</td>\n",
       "      <td>2.793085</td>\n",
       "      <td>-10.271893</td>\n",
       "      <td>-1.274290</td>\n",
       "    </tr>\n",
       "    <tr>\n",
       "      <th>22</th>\n",
       "      <td>2000-01-23</td>\n",
       "      <td>7.275126</td>\n",
       "      <td>2.048264</td>\n",
       "      <td>-9.214590</td>\n",
       "      <td>-0.966921</td>\n",
       "    </tr>\n",
       "    <tr>\n",
       "      <th>23</th>\n",
       "      <td>2000-01-24</td>\n",
       "      <td>6.767118</td>\n",
       "      <td>2.261854</td>\n",
       "      <td>-9.168344</td>\n",
       "      <td>-1.320045</td>\n",
       "    </tr>\n",
       "    <tr>\n",
       "      <th>24</th>\n",
       "      <td>2000-01-25</td>\n",
       "      <td>7.687874</td>\n",
       "      <td>0.646427</td>\n",
       "      <td>-7.456982</td>\n",
       "      <td>-0.234840</td>\n",
       "    </tr>\n",
       "    <tr>\n",
       "      <th>25</th>\n",
       "      <td>2000-01-26</td>\n",
       "      <td>7.866852</td>\n",
       "      <td>1.475269</td>\n",
       "      <td>-6.667159</td>\n",
       "      <td>-0.393029</td>\n",
       "    </tr>\n",
       "    <tr>\n",
       "      <th>26</th>\n",
       "      <td>2000-01-27</td>\n",
       "      <td>7.238634</td>\n",
       "      <td>1.528020</td>\n",
       "      <td>-7.545252</td>\n",
       "      <td>-0.963824</td>\n",
       "    </tr>\n",
       "    <tr>\n",
       "      <th>27</th>\n",
       "      <td>2000-01-28</td>\n",
       "      <td>8.478220</td>\n",
       "      <td>1.081542</td>\n",
       "      <td>-6.442093</td>\n",
       "      <td>-1.039890</td>\n",
       "    </tr>\n",
       "    <tr>\n",
       "      <th>28</th>\n",
       "      <td>2000-01-29</td>\n",
       "      <td>7.608118</td>\n",
       "      <td>0.600917</td>\n",
       "      <td>-6.959693</td>\n",
       "      <td>-0.390795</td>\n",
       "    </tr>\n",
       "    <tr>\n",
       "      <th>29</th>\n",
       "      <td>2000-01-30</td>\n",
       "      <td>7.210054</td>\n",
       "      <td>1.994420</td>\n",
       "      <td>-10.114678</td>\n",
       "      <td>-0.888193</td>\n",
       "    </tr>\n",
       "    <tr>\n",
       "      <th>...</th>\n",
       "      <td>...</td>\n",
       "      <td>...</td>\n",
       "      <td>...</td>\n",
       "      <td>...</td>\n",
       "      <td>...</td>\n",
       "    </tr>\n",
       "    <tr>\n",
       "      <th>970</th>\n",
       "      <td>2002-08-28</td>\n",
       "      <td>17.437068</td>\n",
       "      <td>15.450764</td>\n",
       "      <td>13.216050</td>\n",
       "      <td>-6.148368</td>\n",
       "    </tr>\n",
       "    <tr>\n",
       "      <th>971</th>\n",
       "      <td>2002-08-29</td>\n",
       "      <td>16.484871</td>\n",
       "      <td>15.783321</td>\n",
       "      <td>13.486062</td>\n",
       "      <td>-6.385225</td>\n",
       "    </tr>\n",
       "    <tr>\n",
       "      <th>972</th>\n",
       "      <td>2002-08-30</td>\n",
       "      <td>15.740217</td>\n",
       "      <td>16.237396</td>\n",
       "      <td>13.147258</td>\n",
       "      <td>-6.176150</td>\n",
       "    </tr>\n",
       "    <tr>\n",
       "      <th>973</th>\n",
       "      <td>2002-08-31</td>\n",
       "      <td>14.340795</td>\n",
       "      <td>16.922184</td>\n",
       "      <td>13.124970</td>\n",
       "      <td>-7.058553</td>\n",
       "    </tr>\n",
       "    <tr>\n",
       "      <th>974</th>\n",
       "      <td>2002-09-01</td>\n",
       "      <td>15.169522</td>\n",
       "      <td>16.809410</td>\n",
       "      <td>13.159041</td>\n",
       "      <td>-7.126526</td>\n",
       "    </tr>\n",
       "    <tr>\n",
       "      <th>975</th>\n",
       "      <td>2002-09-02</td>\n",
       "      <td>15.526881</td>\n",
       "      <td>15.985046</td>\n",
       "      <td>13.862428</td>\n",
       "      <td>-8.144999</td>\n",
       "    </tr>\n",
       "    <tr>\n",
       "      <th>976</th>\n",
       "      <td>2002-09-03</td>\n",
       "      <td>16.085008</td>\n",
       "      <td>16.939751</td>\n",
       "      <td>13.227115</td>\n",
       "      <td>-8.962981</td>\n",
       "    </tr>\n",
       "    <tr>\n",
       "      <th>977</th>\n",
       "      <td>2002-09-04</td>\n",
       "      <td>16.102913</td>\n",
       "      <td>18.158305</td>\n",
       "      <td>12.867642</td>\n",
       "      <td>-7.519896</td>\n",
       "    </tr>\n",
       "    <tr>\n",
       "      <th>978</th>\n",
       "      <td>2002-09-05</td>\n",
       "      <td>16.628913</td>\n",
       "      <td>17.824559</td>\n",
       "      <td>12.833309</td>\n",
       "      <td>-8.914175</td>\n",
       "    </tr>\n",
       "    <tr>\n",
       "      <th>979</th>\n",
       "      <td>2002-09-06</td>\n",
       "      <td>17.034823</td>\n",
       "      <td>18.865486</td>\n",
       "      <td>11.867723</td>\n",
       "      <td>-8.745775</td>\n",
       "    </tr>\n",
       "    <tr>\n",
       "      <th>980</th>\n",
       "      <td>2002-09-07</td>\n",
       "      <td>19.102706</td>\n",
       "      <td>18.026957</td>\n",
       "      <td>10.877719</td>\n",
       "      <td>-10.135052</td>\n",
       "    </tr>\n",
       "    <tr>\n",
       "      <th>981</th>\n",
       "      <td>2002-09-08</td>\n",
       "      <td>18.766015</td>\n",
       "      <td>17.379502</td>\n",
       "      <td>11.273796</td>\n",
       "      <td>-10.614667</td>\n",
       "    </tr>\n",
       "    <tr>\n",
       "      <th>982</th>\n",
       "      <td>2002-09-09</td>\n",
       "      <td>15.843793</td>\n",
       "      <td>18.849549</td>\n",
       "      <td>11.249158</td>\n",
       "      <td>-10.633067</td>\n",
       "    </tr>\n",
       "    <tr>\n",
       "      <th>983</th>\n",
       "      <td>2002-09-10</td>\n",
       "      <td>14.562472</td>\n",
       "      <td>19.435065</td>\n",
       "      <td>10.738738</td>\n",
       "      <td>-12.091476</td>\n",
       "    </tr>\n",
       "    <tr>\n",
       "      <th>984</th>\n",
       "      <td>2002-09-11</td>\n",
       "      <td>15.495722</td>\n",
       "      <td>18.639092</td>\n",
       "      <td>11.409487</td>\n",
       "      <td>-12.114493</td>\n",
       "    </tr>\n",
       "    <tr>\n",
       "      <th>985</th>\n",
       "      <td>2002-09-12</td>\n",
       "      <td>14.516972</td>\n",
       "      <td>20.174363</td>\n",
       "      <td>9.667691</td>\n",
       "      <td>-12.432794</td>\n",
       "    </tr>\n",
       "    <tr>\n",
       "      <th>986</th>\n",
       "      <td>2002-09-13</td>\n",
       "      <td>13.267138</td>\n",
       "      <td>21.212997</td>\n",
       "      <td>8.522563</td>\n",
       "      <td>-10.228562</td>\n",
       "    </tr>\n",
       "    <tr>\n",
       "      <th>987</th>\n",
       "      <td>2002-09-14</td>\n",
       "      <td>13.260208</td>\n",
       "      <td>19.255902</td>\n",
       "      <td>10.872347</td>\n",
       "      <td>-10.160898</td>\n",
       "    </tr>\n",
       "    <tr>\n",
       "      <th>988</th>\n",
       "      <td>2002-09-15</td>\n",
       "      <td>14.095865</td>\n",
       "      <td>19.223318</td>\n",
       "      <td>11.931941</td>\n",
       "      <td>-10.884893</td>\n",
       "    </tr>\n",
       "    <tr>\n",
       "      <th>989</th>\n",
       "      <td>2002-09-16</td>\n",
       "      <td>13.972761</td>\n",
       "      <td>20.390426</td>\n",
       "      <td>10.062041</td>\n",
       "      <td>-12.680935</td>\n",
       "    </tr>\n",
       "    <tr>\n",
       "      <th>990</th>\n",
       "      <td>2002-09-17</td>\n",
       "      <td>13.345484</td>\n",
       "      <td>21.621339</td>\n",
       "      <td>10.326594</td>\n",
       "      <td>-12.147241</td>\n",
       "    </tr>\n",
       "    <tr>\n",
       "      <th>991</th>\n",
       "      <td>2002-09-18</td>\n",
       "      <td>14.156052</td>\n",
       "      <td>21.573659</td>\n",
       "      <td>10.438187</td>\n",
       "      <td>-12.508471</td>\n",
       "    </tr>\n",
       "    <tr>\n",
       "      <th>992</th>\n",
       "      <td>2002-09-19</td>\n",
       "      <td>14.398653</td>\n",
       "      <td>22.054349</td>\n",
       "      <td>10.126630</td>\n",
       "      <td>-11.745325</td>\n",
       "    </tr>\n",
       "    <tr>\n",
       "      <th>993</th>\n",
       "      <td>2002-09-20</td>\n",
       "      <td>13.775903</td>\n",
       "      <td>21.509266</td>\n",
       "      <td>11.560970</td>\n",
       "      <td>-11.025248</td>\n",
       "    </tr>\n",
       "    <tr>\n",
       "      <th>994</th>\n",
       "      <td>2002-09-21</td>\n",
       "      <td>13.547872</td>\n",
       "      <td>22.918671</td>\n",
       "      <td>11.440298</td>\n",
       "      <td>-12.133957</td>\n",
       "    </tr>\n",
       "    <tr>\n",
       "      <th>995</th>\n",
       "      <td>2002-09-22</td>\n",
       "      <td>13.454134</td>\n",
       "      <td>23.025591</td>\n",
       "      <td>10.112645</td>\n",
       "      <td>-10.519158</td>\n",
       "    </tr>\n",
       "    <tr>\n",
       "      <th>996</th>\n",
       "      <td>2002-09-23</td>\n",
       "      <td>13.021232</td>\n",
       "      <td>23.013191</td>\n",
       "      <td>11.207608</td>\n",
       "      <td>-9.961071</td>\n",
       "    </tr>\n",
       "    <tr>\n",
       "      <th>997</th>\n",
       "      <td>2002-09-24</td>\n",
       "      <td>12.016730</td>\n",
       "      <td>21.137173</td>\n",
       "      <td>11.024686</td>\n",
       "      <td>-10.263268</td>\n",
       "    </tr>\n",
       "    <tr>\n",
       "      <th>998</th>\n",
       "      <td>2002-09-25</td>\n",
       "      <td>11.341194</td>\n",
       "      <td>19.837601</td>\n",
       "      <td>11.755220</td>\n",
       "      <td>-10.393324</td>\n",
       "    </tr>\n",
       "    <tr>\n",
       "      <th>999</th>\n",
       "      <td>2002-09-26</td>\n",
       "      <td>11.158402</td>\n",
       "      <td>16.547522</td>\n",
       "      <td>13.894005</td>\n",
       "      <td>-8.688782</td>\n",
       "    </tr>\n",
       "  </tbody>\n",
       "</table>\n",
       "<p>1000 rows × 5 columns</p>\n",
       "</div>"
      ],
      "text/plain": [
       "     Unnamed: 0          A          B          C          D\n",
       "0    2000-01-01   0.167880   0.449979   0.760280   0.143719\n",
       "1    2000-01-02   1.415723   1.109259   1.043444  -0.659320\n",
       "2    2000-01-03   2.332954   1.019915   1.640784  -0.572795\n",
       "3    2000-01-04   3.291297  -0.165844   1.661092  -1.326248\n",
       "4    2000-01-05   3.703555   1.795259   1.166112  -2.709278\n",
       "5    2000-01-06   4.695452   1.730050   0.197465  -2.642662\n",
       "6    2000-01-07   5.153339   1.403745   0.111445  -2.904859\n",
       "7    2000-01-08   5.229884   0.549227   1.338921  -2.374675\n",
       "8    2000-01-09   6.834794   0.816332  -0.021085  -1.443427\n",
       "9    2000-01-10   7.479675   1.954935   0.516446  -2.564909\n",
       "10   2000-01-11   6.040874   1.835237   0.894369  -3.373590\n",
       "11   2000-01-12   6.163212   2.666831  -1.650974  -3.787224\n",
       "12   2000-01-13   6.100803   1.108172  -1.065775  -2.804611\n",
       "13   2000-01-14   7.363846   1.457340  -1.105352  -2.908165\n",
       "14   2000-01-15   7.532313   0.695678  -3.446161  -3.305195\n",
       "15   2000-01-16   6.240939   1.313275  -5.187943  -3.630486\n",
       "16   2000-01-17   6.306419   2.491542  -6.255966  -3.951213\n",
       "17   2000-01-18   6.807121   1.268852  -6.037042  -2.801424\n",
       "18   2000-01-19   6.194018   1.205568  -6.892005  -2.504392\n",
       "19   2000-01-20   5.752059   0.732732  -8.883175  -1.034984\n",
       "20   2000-01-21   6.621657   2.343523  -7.465762  -0.061285\n",
       "21   2000-01-22   6.022305   2.793085 -10.271893  -1.274290\n",
       "22   2000-01-23   7.275126   2.048264  -9.214590  -0.966921\n",
       "23   2000-01-24   6.767118   2.261854  -9.168344  -1.320045\n",
       "24   2000-01-25   7.687874   0.646427  -7.456982  -0.234840\n",
       "25   2000-01-26   7.866852   1.475269  -6.667159  -0.393029\n",
       "26   2000-01-27   7.238634   1.528020  -7.545252  -0.963824\n",
       "27   2000-01-28   8.478220   1.081542  -6.442093  -1.039890\n",
       "28   2000-01-29   7.608118   0.600917  -6.959693  -0.390795\n",
       "29   2000-01-30   7.210054   1.994420 -10.114678  -0.888193\n",
       "..          ...        ...        ...        ...        ...\n",
       "970  2002-08-28  17.437068  15.450764  13.216050  -6.148368\n",
       "971  2002-08-29  16.484871  15.783321  13.486062  -6.385225\n",
       "972  2002-08-30  15.740217  16.237396  13.147258  -6.176150\n",
       "973  2002-08-31  14.340795  16.922184  13.124970  -7.058553\n",
       "974  2002-09-01  15.169522  16.809410  13.159041  -7.126526\n",
       "975  2002-09-02  15.526881  15.985046  13.862428  -8.144999\n",
       "976  2002-09-03  16.085008  16.939751  13.227115  -8.962981\n",
       "977  2002-09-04  16.102913  18.158305  12.867642  -7.519896\n",
       "978  2002-09-05  16.628913  17.824559  12.833309  -8.914175\n",
       "979  2002-09-06  17.034823  18.865486  11.867723  -8.745775\n",
       "980  2002-09-07  19.102706  18.026957  10.877719 -10.135052\n",
       "981  2002-09-08  18.766015  17.379502  11.273796 -10.614667\n",
       "982  2002-09-09  15.843793  18.849549  11.249158 -10.633067\n",
       "983  2002-09-10  14.562472  19.435065  10.738738 -12.091476\n",
       "984  2002-09-11  15.495722  18.639092  11.409487 -12.114493\n",
       "985  2002-09-12  14.516972  20.174363   9.667691 -12.432794\n",
       "986  2002-09-13  13.267138  21.212997   8.522563 -10.228562\n",
       "987  2002-09-14  13.260208  19.255902  10.872347 -10.160898\n",
       "988  2002-09-15  14.095865  19.223318  11.931941 -10.884893\n",
       "989  2002-09-16  13.972761  20.390426  10.062041 -12.680935\n",
       "990  2002-09-17  13.345484  21.621339  10.326594 -12.147241\n",
       "991  2002-09-18  14.156052  21.573659  10.438187 -12.508471\n",
       "992  2002-09-19  14.398653  22.054349  10.126630 -11.745325\n",
       "993  2002-09-20  13.775903  21.509266  11.560970 -11.025248\n",
       "994  2002-09-21  13.547872  22.918671  11.440298 -12.133957\n",
       "995  2002-09-22  13.454134  23.025591  10.112645 -10.519158\n",
       "996  2002-09-23  13.021232  23.013191  11.207608  -9.961071\n",
       "997  2002-09-24  12.016730  21.137173  11.024686 -10.263268\n",
       "998  2002-09-25  11.341194  19.837601  11.755220 -10.393324\n",
       "999  2002-09-26  11.158402  16.547522  13.894005  -8.688782\n",
       "\n",
       "[1000 rows x 5 columns]"
      ]
     },
     "execution_count": 100,
     "metadata": {},
     "output_type": "execute_result"
    }
   ],
   "source": [
    "pd.read_csv('foo.csv')"
   ]
  },
  {
   "cell_type": "code",
   "execution_count": 101,
   "metadata": {
    "collapsed": true
   },
   "outputs": [],
   "source": [
    "df.to_hdf('foo.h5','df')"
   ]
  },
  {
   "cell_type": "code",
   "execution_count": 102,
   "metadata": {
    "collapsed": false
   },
   "outputs": [
    {
     "data": {
      "text/html": [
       "<div>\n",
       "<table border=\"1\" class=\"dataframe\">\n",
       "  <thead>\n",
       "    <tr style=\"text-align: right;\">\n",
       "      <th></th>\n",
       "      <th>A</th>\n",
       "      <th>B</th>\n",
       "      <th>C</th>\n",
       "      <th>D</th>\n",
       "    </tr>\n",
       "  </thead>\n",
       "  <tbody>\n",
       "    <tr>\n",
       "      <th>2000-01-01</th>\n",
       "      <td>0.167880</td>\n",
       "      <td>0.449979</td>\n",
       "      <td>0.760280</td>\n",
       "      <td>0.143719</td>\n",
       "    </tr>\n",
       "    <tr>\n",
       "      <th>2000-01-02</th>\n",
       "      <td>1.415723</td>\n",
       "      <td>1.109259</td>\n",
       "      <td>1.043444</td>\n",
       "      <td>-0.659320</td>\n",
       "    </tr>\n",
       "    <tr>\n",
       "      <th>2000-01-03</th>\n",
       "      <td>2.332954</td>\n",
       "      <td>1.019915</td>\n",
       "      <td>1.640784</td>\n",
       "      <td>-0.572795</td>\n",
       "    </tr>\n",
       "    <tr>\n",
       "      <th>2000-01-04</th>\n",
       "      <td>3.291297</td>\n",
       "      <td>-0.165844</td>\n",
       "      <td>1.661092</td>\n",
       "      <td>-1.326248</td>\n",
       "    </tr>\n",
       "    <tr>\n",
       "      <th>2000-01-05</th>\n",
       "      <td>3.703555</td>\n",
       "      <td>1.795259</td>\n",
       "      <td>1.166112</td>\n",
       "      <td>-2.709278</td>\n",
       "    </tr>\n",
       "    <tr>\n",
       "      <th>2000-01-06</th>\n",
       "      <td>4.695452</td>\n",
       "      <td>1.730050</td>\n",
       "      <td>0.197465</td>\n",
       "      <td>-2.642662</td>\n",
       "    </tr>\n",
       "    <tr>\n",
       "      <th>2000-01-07</th>\n",
       "      <td>5.153339</td>\n",
       "      <td>1.403745</td>\n",
       "      <td>0.111445</td>\n",
       "      <td>-2.904859</td>\n",
       "    </tr>\n",
       "    <tr>\n",
       "      <th>2000-01-08</th>\n",
       "      <td>5.229884</td>\n",
       "      <td>0.549227</td>\n",
       "      <td>1.338921</td>\n",
       "      <td>-2.374675</td>\n",
       "    </tr>\n",
       "    <tr>\n",
       "      <th>2000-01-09</th>\n",
       "      <td>6.834794</td>\n",
       "      <td>0.816332</td>\n",
       "      <td>-0.021085</td>\n",
       "      <td>-1.443427</td>\n",
       "    </tr>\n",
       "    <tr>\n",
       "      <th>2000-01-10</th>\n",
       "      <td>7.479675</td>\n",
       "      <td>1.954935</td>\n",
       "      <td>0.516446</td>\n",
       "      <td>-2.564909</td>\n",
       "    </tr>\n",
       "    <tr>\n",
       "      <th>2000-01-11</th>\n",
       "      <td>6.040874</td>\n",
       "      <td>1.835237</td>\n",
       "      <td>0.894369</td>\n",
       "      <td>-3.373590</td>\n",
       "    </tr>\n",
       "    <tr>\n",
       "      <th>2000-01-12</th>\n",
       "      <td>6.163212</td>\n",
       "      <td>2.666831</td>\n",
       "      <td>-1.650974</td>\n",
       "      <td>-3.787224</td>\n",
       "    </tr>\n",
       "    <tr>\n",
       "      <th>2000-01-13</th>\n",
       "      <td>6.100803</td>\n",
       "      <td>1.108172</td>\n",
       "      <td>-1.065775</td>\n",
       "      <td>-2.804611</td>\n",
       "    </tr>\n",
       "    <tr>\n",
       "      <th>2000-01-14</th>\n",
       "      <td>7.363846</td>\n",
       "      <td>1.457340</td>\n",
       "      <td>-1.105352</td>\n",
       "      <td>-2.908165</td>\n",
       "    </tr>\n",
       "    <tr>\n",
       "      <th>2000-01-15</th>\n",
       "      <td>7.532313</td>\n",
       "      <td>0.695678</td>\n",
       "      <td>-3.446161</td>\n",
       "      <td>-3.305195</td>\n",
       "    </tr>\n",
       "    <tr>\n",
       "      <th>2000-01-16</th>\n",
       "      <td>6.240939</td>\n",
       "      <td>1.313275</td>\n",
       "      <td>-5.187943</td>\n",
       "      <td>-3.630486</td>\n",
       "    </tr>\n",
       "    <tr>\n",
       "      <th>2000-01-17</th>\n",
       "      <td>6.306419</td>\n",
       "      <td>2.491542</td>\n",
       "      <td>-6.255966</td>\n",
       "      <td>-3.951213</td>\n",
       "    </tr>\n",
       "    <tr>\n",
       "      <th>2000-01-18</th>\n",
       "      <td>6.807121</td>\n",
       "      <td>1.268852</td>\n",
       "      <td>-6.037042</td>\n",
       "      <td>-2.801424</td>\n",
       "    </tr>\n",
       "    <tr>\n",
       "      <th>2000-01-19</th>\n",
       "      <td>6.194018</td>\n",
       "      <td>1.205568</td>\n",
       "      <td>-6.892005</td>\n",
       "      <td>-2.504392</td>\n",
       "    </tr>\n",
       "    <tr>\n",
       "      <th>2000-01-20</th>\n",
       "      <td>5.752059</td>\n",
       "      <td>0.732732</td>\n",
       "      <td>-8.883175</td>\n",
       "      <td>-1.034984</td>\n",
       "    </tr>\n",
       "    <tr>\n",
       "      <th>2000-01-21</th>\n",
       "      <td>6.621657</td>\n",
       "      <td>2.343523</td>\n",
       "      <td>-7.465762</td>\n",
       "      <td>-0.061285</td>\n",
       "    </tr>\n",
       "    <tr>\n",
       "      <th>2000-01-22</th>\n",
       "      <td>6.022305</td>\n",
       "      <td>2.793085</td>\n",
       "      <td>-10.271893</td>\n",
       "      <td>-1.274290</td>\n",
       "    </tr>\n",
       "    <tr>\n",
       "      <th>2000-01-23</th>\n",
       "      <td>7.275126</td>\n",
       "      <td>2.048264</td>\n",
       "      <td>-9.214590</td>\n",
       "      <td>-0.966921</td>\n",
       "    </tr>\n",
       "    <tr>\n",
       "      <th>2000-01-24</th>\n",
       "      <td>6.767118</td>\n",
       "      <td>2.261854</td>\n",
       "      <td>-9.168344</td>\n",
       "      <td>-1.320045</td>\n",
       "    </tr>\n",
       "    <tr>\n",
       "      <th>2000-01-25</th>\n",
       "      <td>7.687874</td>\n",
       "      <td>0.646427</td>\n",
       "      <td>-7.456982</td>\n",
       "      <td>-0.234840</td>\n",
       "    </tr>\n",
       "    <tr>\n",
       "      <th>2000-01-26</th>\n",
       "      <td>7.866852</td>\n",
       "      <td>1.475269</td>\n",
       "      <td>-6.667159</td>\n",
       "      <td>-0.393029</td>\n",
       "    </tr>\n",
       "    <tr>\n",
       "      <th>2000-01-27</th>\n",
       "      <td>7.238634</td>\n",
       "      <td>1.528020</td>\n",
       "      <td>-7.545252</td>\n",
       "      <td>-0.963824</td>\n",
       "    </tr>\n",
       "    <tr>\n",
       "      <th>2000-01-28</th>\n",
       "      <td>8.478220</td>\n",
       "      <td>1.081542</td>\n",
       "      <td>-6.442093</td>\n",
       "      <td>-1.039890</td>\n",
       "    </tr>\n",
       "    <tr>\n",
       "      <th>2000-01-29</th>\n",
       "      <td>7.608118</td>\n",
       "      <td>0.600917</td>\n",
       "      <td>-6.959693</td>\n",
       "      <td>-0.390795</td>\n",
       "    </tr>\n",
       "    <tr>\n",
       "      <th>2000-01-30</th>\n",
       "      <td>7.210054</td>\n",
       "      <td>1.994420</td>\n",
       "      <td>-10.114678</td>\n",
       "      <td>-0.888193</td>\n",
       "    </tr>\n",
       "    <tr>\n",
       "      <th>...</th>\n",
       "      <td>...</td>\n",
       "      <td>...</td>\n",
       "      <td>...</td>\n",
       "      <td>...</td>\n",
       "    </tr>\n",
       "    <tr>\n",
       "      <th>2002-08-28</th>\n",
       "      <td>17.437068</td>\n",
       "      <td>15.450764</td>\n",
       "      <td>13.216050</td>\n",
       "      <td>-6.148368</td>\n",
       "    </tr>\n",
       "    <tr>\n",
       "      <th>2002-08-29</th>\n",
       "      <td>16.484871</td>\n",
       "      <td>15.783321</td>\n",
       "      <td>13.486062</td>\n",
       "      <td>-6.385225</td>\n",
       "    </tr>\n",
       "    <tr>\n",
       "      <th>2002-08-30</th>\n",
       "      <td>15.740217</td>\n",
       "      <td>16.237396</td>\n",
       "      <td>13.147258</td>\n",
       "      <td>-6.176150</td>\n",
       "    </tr>\n",
       "    <tr>\n",
       "      <th>2002-08-31</th>\n",
       "      <td>14.340795</td>\n",
       "      <td>16.922184</td>\n",
       "      <td>13.124970</td>\n",
       "      <td>-7.058553</td>\n",
       "    </tr>\n",
       "    <tr>\n",
       "      <th>2002-09-01</th>\n",
       "      <td>15.169522</td>\n",
       "      <td>16.809410</td>\n",
       "      <td>13.159041</td>\n",
       "      <td>-7.126526</td>\n",
       "    </tr>\n",
       "    <tr>\n",
       "      <th>2002-09-02</th>\n",
       "      <td>15.526881</td>\n",
       "      <td>15.985046</td>\n",
       "      <td>13.862428</td>\n",
       "      <td>-8.144999</td>\n",
       "    </tr>\n",
       "    <tr>\n",
       "      <th>2002-09-03</th>\n",
       "      <td>16.085008</td>\n",
       "      <td>16.939751</td>\n",
       "      <td>13.227115</td>\n",
       "      <td>-8.962981</td>\n",
       "    </tr>\n",
       "    <tr>\n",
       "      <th>2002-09-04</th>\n",
       "      <td>16.102913</td>\n",
       "      <td>18.158305</td>\n",
       "      <td>12.867642</td>\n",
       "      <td>-7.519896</td>\n",
       "    </tr>\n",
       "    <tr>\n",
       "      <th>2002-09-05</th>\n",
       "      <td>16.628913</td>\n",
       "      <td>17.824559</td>\n",
       "      <td>12.833309</td>\n",
       "      <td>-8.914175</td>\n",
       "    </tr>\n",
       "    <tr>\n",
       "      <th>2002-09-06</th>\n",
       "      <td>17.034823</td>\n",
       "      <td>18.865486</td>\n",
       "      <td>11.867723</td>\n",
       "      <td>-8.745775</td>\n",
       "    </tr>\n",
       "    <tr>\n",
       "      <th>2002-09-07</th>\n",
       "      <td>19.102706</td>\n",
       "      <td>18.026957</td>\n",
       "      <td>10.877719</td>\n",
       "      <td>-10.135052</td>\n",
       "    </tr>\n",
       "    <tr>\n",
       "      <th>2002-09-08</th>\n",
       "      <td>18.766015</td>\n",
       "      <td>17.379502</td>\n",
       "      <td>11.273796</td>\n",
       "      <td>-10.614667</td>\n",
       "    </tr>\n",
       "    <tr>\n",
       "      <th>2002-09-09</th>\n",
       "      <td>15.843793</td>\n",
       "      <td>18.849549</td>\n",
       "      <td>11.249158</td>\n",
       "      <td>-10.633067</td>\n",
       "    </tr>\n",
       "    <tr>\n",
       "      <th>2002-09-10</th>\n",
       "      <td>14.562472</td>\n",
       "      <td>19.435065</td>\n",
       "      <td>10.738738</td>\n",
       "      <td>-12.091476</td>\n",
       "    </tr>\n",
       "    <tr>\n",
       "      <th>2002-09-11</th>\n",
       "      <td>15.495722</td>\n",
       "      <td>18.639092</td>\n",
       "      <td>11.409487</td>\n",
       "      <td>-12.114493</td>\n",
       "    </tr>\n",
       "    <tr>\n",
       "      <th>2002-09-12</th>\n",
       "      <td>14.516972</td>\n",
       "      <td>20.174363</td>\n",
       "      <td>9.667691</td>\n",
       "      <td>-12.432794</td>\n",
       "    </tr>\n",
       "    <tr>\n",
       "      <th>2002-09-13</th>\n",
       "      <td>13.267138</td>\n",
       "      <td>21.212997</td>\n",
       "      <td>8.522563</td>\n",
       "      <td>-10.228562</td>\n",
       "    </tr>\n",
       "    <tr>\n",
       "      <th>2002-09-14</th>\n",
       "      <td>13.260208</td>\n",
       "      <td>19.255902</td>\n",
       "      <td>10.872347</td>\n",
       "      <td>-10.160898</td>\n",
       "    </tr>\n",
       "    <tr>\n",
       "      <th>2002-09-15</th>\n",
       "      <td>14.095865</td>\n",
       "      <td>19.223318</td>\n",
       "      <td>11.931941</td>\n",
       "      <td>-10.884893</td>\n",
       "    </tr>\n",
       "    <tr>\n",
       "      <th>2002-09-16</th>\n",
       "      <td>13.972761</td>\n",
       "      <td>20.390426</td>\n",
       "      <td>10.062041</td>\n",
       "      <td>-12.680935</td>\n",
       "    </tr>\n",
       "    <tr>\n",
       "      <th>2002-09-17</th>\n",
       "      <td>13.345484</td>\n",
       "      <td>21.621339</td>\n",
       "      <td>10.326594</td>\n",
       "      <td>-12.147241</td>\n",
       "    </tr>\n",
       "    <tr>\n",
       "      <th>2002-09-18</th>\n",
       "      <td>14.156052</td>\n",
       "      <td>21.573659</td>\n",
       "      <td>10.438187</td>\n",
       "      <td>-12.508471</td>\n",
       "    </tr>\n",
       "    <tr>\n",
       "      <th>2002-09-19</th>\n",
       "      <td>14.398653</td>\n",
       "      <td>22.054349</td>\n",
       "      <td>10.126630</td>\n",
       "      <td>-11.745325</td>\n",
       "    </tr>\n",
       "    <tr>\n",
       "      <th>2002-09-20</th>\n",
       "      <td>13.775903</td>\n",
       "      <td>21.509266</td>\n",
       "      <td>11.560970</td>\n",
       "      <td>-11.025248</td>\n",
       "    </tr>\n",
       "    <tr>\n",
       "      <th>2002-09-21</th>\n",
       "      <td>13.547872</td>\n",
       "      <td>22.918671</td>\n",
       "      <td>11.440298</td>\n",
       "      <td>-12.133957</td>\n",
       "    </tr>\n",
       "    <tr>\n",
       "      <th>2002-09-22</th>\n",
       "      <td>13.454134</td>\n",
       "      <td>23.025591</td>\n",
       "      <td>10.112645</td>\n",
       "      <td>-10.519158</td>\n",
       "    </tr>\n",
       "    <tr>\n",
       "      <th>2002-09-23</th>\n",
       "      <td>13.021232</td>\n",
       "      <td>23.013191</td>\n",
       "      <td>11.207608</td>\n",
       "      <td>-9.961071</td>\n",
       "    </tr>\n",
       "    <tr>\n",
       "      <th>2002-09-24</th>\n",
       "      <td>12.016730</td>\n",
       "      <td>21.137173</td>\n",
       "      <td>11.024686</td>\n",
       "      <td>-10.263268</td>\n",
       "    </tr>\n",
       "    <tr>\n",
       "      <th>2002-09-25</th>\n",
       "      <td>11.341194</td>\n",
       "      <td>19.837601</td>\n",
       "      <td>11.755220</td>\n",
       "      <td>-10.393324</td>\n",
       "    </tr>\n",
       "    <tr>\n",
       "      <th>2002-09-26</th>\n",
       "      <td>11.158402</td>\n",
       "      <td>16.547522</td>\n",
       "      <td>13.894005</td>\n",
       "      <td>-8.688782</td>\n",
       "    </tr>\n",
       "  </tbody>\n",
       "</table>\n",
       "<p>1000 rows × 4 columns</p>\n",
       "</div>"
      ],
      "text/plain": [
       "                    A          B          C          D\n",
       "2000-01-01   0.167880   0.449979   0.760280   0.143719\n",
       "2000-01-02   1.415723   1.109259   1.043444  -0.659320\n",
       "2000-01-03   2.332954   1.019915   1.640784  -0.572795\n",
       "2000-01-04   3.291297  -0.165844   1.661092  -1.326248\n",
       "2000-01-05   3.703555   1.795259   1.166112  -2.709278\n",
       "2000-01-06   4.695452   1.730050   0.197465  -2.642662\n",
       "2000-01-07   5.153339   1.403745   0.111445  -2.904859\n",
       "2000-01-08   5.229884   0.549227   1.338921  -2.374675\n",
       "2000-01-09   6.834794   0.816332  -0.021085  -1.443427\n",
       "2000-01-10   7.479675   1.954935   0.516446  -2.564909\n",
       "2000-01-11   6.040874   1.835237   0.894369  -3.373590\n",
       "2000-01-12   6.163212   2.666831  -1.650974  -3.787224\n",
       "2000-01-13   6.100803   1.108172  -1.065775  -2.804611\n",
       "2000-01-14   7.363846   1.457340  -1.105352  -2.908165\n",
       "2000-01-15   7.532313   0.695678  -3.446161  -3.305195\n",
       "2000-01-16   6.240939   1.313275  -5.187943  -3.630486\n",
       "2000-01-17   6.306419   2.491542  -6.255966  -3.951213\n",
       "2000-01-18   6.807121   1.268852  -6.037042  -2.801424\n",
       "2000-01-19   6.194018   1.205568  -6.892005  -2.504392\n",
       "2000-01-20   5.752059   0.732732  -8.883175  -1.034984\n",
       "2000-01-21   6.621657   2.343523  -7.465762  -0.061285\n",
       "2000-01-22   6.022305   2.793085 -10.271893  -1.274290\n",
       "2000-01-23   7.275126   2.048264  -9.214590  -0.966921\n",
       "2000-01-24   6.767118   2.261854  -9.168344  -1.320045\n",
       "2000-01-25   7.687874   0.646427  -7.456982  -0.234840\n",
       "2000-01-26   7.866852   1.475269  -6.667159  -0.393029\n",
       "2000-01-27   7.238634   1.528020  -7.545252  -0.963824\n",
       "2000-01-28   8.478220   1.081542  -6.442093  -1.039890\n",
       "2000-01-29   7.608118   0.600917  -6.959693  -0.390795\n",
       "2000-01-30   7.210054   1.994420 -10.114678  -0.888193\n",
       "...               ...        ...        ...        ...\n",
       "2002-08-28  17.437068  15.450764  13.216050  -6.148368\n",
       "2002-08-29  16.484871  15.783321  13.486062  -6.385225\n",
       "2002-08-30  15.740217  16.237396  13.147258  -6.176150\n",
       "2002-08-31  14.340795  16.922184  13.124970  -7.058553\n",
       "2002-09-01  15.169522  16.809410  13.159041  -7.126526\n",
       "2002-09-02  15.526881  15.985046  13.862428  -8.144999\n",
       "2002-09-03  16.085008  16.939751  13.227115  -8.962981\n",
       "2002-09-04  16.102913  18.158305  12.867642  -7.519896\n",
       "2002-09-05  16.628913  17.824559  12.833309  -8.914175\n",
       "2002-09-06  17.034823  18.865486  11.867723  -8.745775\n",
       "2002-09-07  19.102706  18.026957  10.877719 -10.135052\n",
       "2002-09-08  18.766015  17.379502  11.273796 -10.614667\n",
       "2002-09-09  15.843793  18.849549  11.249158 -10.633067\n",
       "2002-09-10  14.562472  19.435065  10.738738 -12.091476\n",
       "2002-09-11  15.495722  18.639092  11.409487 -12.114493\n",
       "2002-09-12  14.516972  20.174363   9.667691 -12.432794\n",
       "2002-09-13  13.267138  21.212997   8.522563 -10.228562\n",
       "2002-09-14  13.260208  19.255902  10.872347 -10.160898\n",
       "2002-09-15  14.095865  19.223318  11.931941 -10.884893\n",
       "2002-09-16  13.972761  20.390426  10.062041 -12.680935\n",
       "2002-09-17  13.345484  21.621339  10.326594 -12.147241\n",
       "2002-09-18  14.156052  21.573659  10.438187 -12.508471\n",
       "2002-09-19  14.398653  22.054349  10.126630 -11.745325\n",
       "2002-09-20  13.775903  21.509266  11.560970 -11.025248\n",
       "2002-09-21  13.547872  22.918671  11.440298 -12.133957\n",
       "2002-09-22  13.454134  23.025591  10.112645 -10.519158\n",
       "2002-09-23  13.021232  23.013191  11.207608  -9.961071\n",
       "2002-09-24  12.016730  21.137173  11.024686 -10.263268\n",
       "2002-09-25  11.341194  19.837601  11.755220 -10.393324\n",
       "2002-09-26  11.158402  16.547522  13.894005  -8.688782\n",
       "\n",
       "[1000 rows x 4 columns]"
      ]
     },
     "execution_count": 102,
     "metadata": {},
     "output_type": "execute_result"
    }
   ],
   "source": [
    "pd.read_hdf('foo.h5','df')\n"
   ]
  },
  {
   "cell_type": "code",
   "execution_count": 103,
   "metadata": {
    "collapsed": true
   },
   "outputs": [],
   "source": [
    "df.to_excel('foo.xlsx', sheet_name='Sheet1')"
   ]
  },
  {
   "cell_type": "code",
   "execution_count": 104,
   "metadata": {
    "collapsed": false
   },
   "outputs": [
    {
     "data": {
      "text/html": [
       "<div>\n",
       "<table border=\"1\" class=\"dataframe\">\n",
       "  <thead>\n",
       "    <tr style=\"text-align: right;\">\n",
       "      <th></th>\n",
       "      <th>A</th>\n",
       "      <th>B</th>\n",
       "      <th>C</th>\n",
       "      <th>D</th>\n",
       "    </tr>\n",
       "  </thead>\n",
       "  <tbody>\n",
       "    <tr>\n",
       "      <th>2000-01-01</th>\n",
       "      <td>0.167880</td>\n",
       "      <td>0.449979</td>\n",
       "      <td>0.760280</td>\n",
       "      <td>0.143719</td>\n",
       "    </tr>\n",
       "    <tr>\n",
       "      <th>2000-01-02</th>\n",
       "      <td>1.415723</td>\n",
       "      <td>1.109259</td>\n",
       "      <td>1.043444</td>\n",
       "      <td>-0.659320</td>\n",
       "    </tr>\n",
       "    <tr>\n",
       "      <th>2000-01-03</th>\n",
       "      <td>2.332954</td>\n",
       "      <td>1.019915</td>\n",
       "      <td>1.640784</td>\n",
       "      <td>-0.572795</td>\n",
       "    </tr>\n",
       "    <tr>\n",
       "      <th>2000-01-04</th>\n",
       "      <td>3.291297</td>\n",
       "      <td>-0.165844</td>\n",
       "      <td>1.661092</td>\n",
       "      <td>-1.326248</td>\n",
       "    </tr>\n",
       "    <tr>\n",
       "      <th>2000-01-05</th>\n",
       "      <td>3.703555</td>\n",
       "      <td>1.795259</td>\n",
       "      <td>1.166112</td>\n",
       "      <td>-2.709278</td>\n",
       "    </tr>\n",
       "    <tr>\n",
       "      <th>2000-01-06</th>\n",
       "      <td>4.695452</td>\n",
       "      <td>1.730050</td>\n",
       "      <td>0.197465</td>\n",
       "      <td>-2.642662</td>\n",
       "    </tr>\n",
       "    <tr>\n",
       "      <th>2000-01-07</th>\n",
       "      <td>5.153339</td>\n",
       "      <td>1.403745</td>\n",
       "      <td>0.111445</td>\n",
       "      <td>-2.904859</td>\n",
       "    </tr>\n",
       "    <tr>\n",
       "      <th>2000-01-08</th>\n",
       "      <td>5.229884</td>\n",
       "      <td>0.549227</td>\n",
       "      <td>1.338921</td>\n",
       "      <td>-2.374675</td>\n",
       "    </tr>\n",
       "    <tr>\n",
       "      <th>2000-01-09</th>\n",
       "      <td>6.834794</td>\n",
       "      <td>0.816332</td>\n",
       "      <td>-0.021085</td>\n",
       "      <td>-1.443427</td>\n",
       "    </tr>\n",
       "    <tr>\n",
       "      <th>2000-01-10</th>\n",
       "      <td>7.479675</td>\n",
       "      <td>1.954935</td>\n",
       "      <td>0.516446</td>\n",
       "      <td>-2.564909</td>\n",
       "    </tr>\n",
       "    <tr>\n",
       "      <th>2000-01-11</th>\n",
       "      <td>6.040874</td>\n",
       "      <td>1.835237</td>\n",
       "      <td>0.894369</td>\n",
       "      <td>-3.373590</td>\n",
       "    </tr>\n",
       "    <tr>\n",
       "      <th>2000-01-12</th>\n",
       "      <td>6.163212</td>\n",
       "      <td>2.666831</td>\n",
       "      <td>-1.650974</td>\n",
       "      <td>-3.787224</td>\n",
       "    </tr>\n",
       "    <tr>\n",
       "      <th>2000-01-13</th>\n",
       "      <td>6.100803</td>\n",
       "      <td>1.108172</td>\n",
       "      <td>-1.065775</td>\n",
       "      <td>-2.804611</td>\n",
       "    </tr>\n",
       "    <tr>\n",
       "      <th>2000-01-14</th>\n",
       "      <td>7.363846</td>\n",
       "      <td>1.457340</td>\n",
       "      <td>-1.105352</td>\n",
       "      <td>-2.908165</td>\n",
       "    </tr>\n",
       "    <tr>\n",
       "      <th>2000-01-15</th>\n",
       "      <td>7.532313</td>\n",
       "      <td>0.695678</td>\n",
       "      <td>-3.446161</td>\n",
       "      <td>-3.305195</td>\n",
       "    </tr>\n",
       "    <tr>\n",
       "      <th>2000-01-16</th>\n",
       "      <td>6.240939</td>\n",
       "      <td>1.313275</td>\n",
       "      <td>-5.187943</td>\n",
       "      <td>-3.630486</td>\n",
       "    </tr>\n",
       "    <tr>\n",
       "      <th>2000-01-17</th>\n",
       "      <td>6.306419</td>\n",
       "      <td>2.491542</td>\n",
       "      <td>-6.255966</td>\n",
       "      <td>-3.951213</td>\n",
       "    </tr>\n",
       "    <tr>\n",
       "      <th>2000-01-18</th>\n",
       "      <td>6.807121</td>\n",
       "      <td>1.268852</td>\n",
       "      <td>-6.037042</td>\n",
       "      <td>-2.801424</td>\n",
       "    </tr>\n",
       "    <tr>\n",
       "      <th>2000-01-19</th>\n",
       "      <td>6.194018</td>\n",
       "      <td>1.205568</td>\n",
       "      <td>-6.892005</td>\n",
       "      <td>-2.504392</td>\n",
       "    </tr>\n",
       "    <tr>\n",
       "      <th>2000-01-20</th>\n",
       "      <td>5.752059</td>\n",
       "      <td>0.732732</td>\n",
       "      <td>-8.883175</td>\n",
       "      <td>-1.034984</td>\n",
       "    </tr>\n",
       "    <tr>\n",
       "      <th>2000-01-21</th>\n",
       "      <td>6.621657</td>\n",
       "      <td>2.343523</td>\n",
       "      <td>-7.465762</td>\n",
       "      <td>-0.061285</td>\n",
       "    </tr>\n",
       "    <tr>\n",
       "      <th>2000-01-22</th>\n",
       "      <td>6.022305</td>\n",
       "      <td>2.793085</td>\n",
       "      <td>-10.271893</td>\n",
       "      <td>-1.274290</td>\n",
       "    </tr>\n",
       "    <tr>\n",
       "      <th>2000-01-23</th>\n",
       "      <td>7.275126</td>\n",
       "      <td>2.048264</td>\n",
       "      <td>-9.214590</td>\n",
       "      <td>-0.966921</td>\n",
       "    </tr>\n",
       "    <tr>\n",
       "      <th>2000-01-24</th>\n",
       "      <td>6.767118</td>\n",
       "      <td>2.261854</td>\n",
       "      <td>-9.168344</td>\n",
       "      <td>-1.320045</td>\n",
       "    </tr>\n",
       "    <tr>\n",
       "      <th>2000-01-25</th>\n",
       "      <td>7.687874</td>\n",
       "      <td>0.646427</td>\n",
       "      <td>-7.456982</td>\n",
       "      <td>-0.234840</td>\n",
       "    </tr>\n",
       "    <tr>\n",
       "      <th>2000-01-26</th>\n",
       "      <td>7.866852</td>\n",
       "      <td>1.475269</td>\n",
       "      <td>-6.667159</td>\n",
       "      <td>-0.393029</td>\n",
       "    </tr>\n",
       "    <tr>\n",
       "      <th>2000-01-27</th>\n",
       "      <td>7.238634</td>\n",
       "      <td>1.528020</td>\n",
       "      <td>-7.545252</td>\n",
       "      <td>-0.963824</td>\n",
       "    </tr>\n",
       "    <tr>\n",
       "      <th>2000-01-28</th>\n",
       "      <td>8.478220</td>\n",
       "      <td>1.081542</td>\n",
       "      <td>-6.442093</td>\n",
       "      <td>-1.039890</td>\n",
       "    </tr>\n",
       "    <tr>\n",
       "      <th>2000-01-29</th>\n",
       "      <td>7.608118</td>\n",
       "      <td>0.600917</td>\n",
       "      <td>-6.959693</td>\n",
       "      <td>-0.390795</td>\n",
       "    </tr>\n",
       "    <tr>\n",
       "      <th>2000-01-30</th>\n",
       "      <td>7.210054</td>\n",
       "      <td>1.994420</td>\n",
       "      <td>-10.114678</td>\n",
       "      <td>-0.888193</td>\n",
       "    </tr>\n",
       "    <tr>\n",
       "      <th>...</th>\n",
       "      <td>...</td>\n",
       "      <td>...</td>\n",
       "      <td>...</td>\n",
       "      <td>...</td>\n",
       "    </tr>\n",
       "    <tr>\n",
       "      <th>2002-08-28</th>\n",
       "      <td>17.437068</td>\n",
       "      <td>15.450764</td>\n",
       "      <td>13.216050</td>\n",
       "      <td>-6.148368</td>\n",
       "    </tr>\n",
       "    <tr>\n",
       "      <th>2002-08-29</th>\n",
       "      <td>16.484871</td>\n",
       "      <td>15.783321</td>\n",
       "      <td>13.486062</td>\n",
       "      <td>-6.385225</td>\n",
       "    </tr>\n",
       "    <tr>\n",
       "      <th>2002-08-30</th>\n",
       "      <td>15.740217</td>\n",
       "      <td>16.237396</td>\n",
       "      <td>13.147258</td>\n",
       "      <td>-6.176150</td>\n",
       "    </tr>\n",
       "    <tr>\n",
       "      <th>2002-08-31</th>\n",
       "      <td>14.340795</td>\n",
       "      <td>16.922184</td>\n",
       "      <td>13.124970</td>\n",
       "      <td>-7.058553</td>\n",
       "    </tr>\n",
       "    <tr>\n",
       "      <th>2002-09-01</th>\n",
       "      <td>15.169522</td>\n",
       "      <td>16.809410</td>\n",
       "      <td>13.159041</td>\n",
       "      <td>-7.126526</td>\n",
       "    </tr>\n",
       "    <tr>\n",
       "      <th>2002-09-02</th>\n",
       "      <td>15.526881</td>\n",
       "      <td>15.985046</td>\n",
       "      <td>13.862428</td>\n",
       "      <td>-8.144999</td>\n",
       "    </tr>\n",
       "    <tr>\n",
       "      <th>2002-09-03</th>\n",
       "      <td>16.085008</td>\n",
       "      <td>16.939751</td>\n",
       "      <td>13.227115</td>\n",
       "      <td>-8.962981</td>\n",
       "    </tr>\n",
       "    <tr>\n",
       "      <th>2002-09-04</th>\n",
       "      <td>16.102913</td>\n",
       "      <td>18.158305</td>\n",
       "      <td>12.867642</td>\n",
       "      <td>-7.519896</td>\n",
       "    </tr>\n",
       "    <tr>\n",
       "      <th>2002-09-05</th>\n",
       "      <td>16.628913</td>\n",
       "      <td>17.824559</td>\n",
       "      <td>12.833309</td>\n",
       "      <td>-8.914175</td>\n",
       "    </tr>\n",
       "    <tr>\n",
       "      <th>2002-09-06</th>\n",
       "      <td>17.034823</td>\n",
       "      <td>18.865486</td>\n",
       "      <td>11.867723</td>\n",
       "      <td>-8.745775</td>\n",
       "    </tr>\n",
       "    <tr>\n",
       "      <th>2002-09-07</th>\n",
       "      <td>19.102706</td>\n",
       "      <td>18.026957</td>\n",
       "      <td>10.877719</td>\n",
       "      <td>-10.135052</td>\n",
       "    </tr>\n",
       "    <tr>\n",
       "      <th>2002-09-08</th>\n",
       "      <td>18.766015</td>\n",
       "      <td>17.379502</td>\n",
       "      <td>11.273796</td>\n",
       "      <td>-10.614667</td>\n",
       "    </tr>\n",
       "    <tr>\n",
       "      <th>2002-09-09</th>\n",
       "      <td>15.843793</td>\n",
       "      <td>18.849549</td>\n",
       "      <td>11.249158</td>\n",
       "      <td>-10.633067</td>\n",
       "    </tr>\n",
       "    <tr>\n",
       "      <th>2002-09-10</th>\n",
       "      <td>14.562472</td>\n",
       "      <td>19.435065</td>\n",
       "      <td>10.738738</td>\n",
       "      <td>-12.091476</td>\n",
       "    </tr>\n",
       "    <tr>\n",
       "      <th>2002-09-11</th>\n",
       "      <td>15.495722</td>\n",
       "      <td>18.639092</td>\n",
       "      <td>11.409487</td>\n",
       "      <td>-12.114493</td>\n",
       "    </tr>\n",
       "    <tr>\n",
       "      <th>2002-09-12</th>\n",
       "      <td>14.516972</td>\n",
       "      <td>20.174363</td>\n",
       "      <td>9.667691</td>\n",
       "      <td>-12.432794</td>\n",
       "    </tr>\n",
       "    <tr>\n",
       "      <th>2002-09-13</th>\n",
       "      <td>13.267138</td>\n",
       "      <td>21.212997</td>\n",
       "      <td>8.522563</td>\n",
       "      <td>-10.228562</td>\n",
       "    </tr>\n",
       "    <tr>\n",
       "      <th>2002-09-14</th>\n",
       "      <td>13.260208</td>\n",
       "      <td>19.255902</td>\n",
       "      <td>10.872347</td>\n",
       "      <td>-10.160898</td>\n",
       "    </tr>\n",
       "    <tr>\n",
       "      <th>2002-09-15</th>\n",
       "      <td>14.095865</td>\n",
       "      <td>19.223318</td>\n",
       "      <td>11.931941</td>\n",
       "      <td>-10.884893</td>\n",
       "    </tr>\n",
       "    <tr>\n",
       "      <th>2002-09-16</th>\n",
       "      <td>13.972761</td>\n",
       "      <td>20.390426</td>\n",
       "      <td>10.062041</td>\n",
       "      <td>-12.680935</td>\n",
       "    </tr>\n",
       "    <tr>\n",
       "      <th>2002-09-17</th>\n",
       "      <td>13.345484</td>\n",
       "      <td>21.621339</td>\n",
       "      <td>10.326594</td>\n",
       "      <td>-12.147241</td>\n",
       "    </tr>\n",
       "    <tr>\n",
       "      <th>2002-09-18</th>\n",
       "      <td>14.156052</td>\n",
       "      <td>21.573659</td>\n",
       "      <td>10.438187</td>\n",
       "      <td>-12.508471</td>\n",
       "    </tr>\n",
       "    <tr>\n",
       "      <th>2002-09-19</th>\n",
       "      <td>14.398653</td>\n",
       "      <td>22.054349</td>\n",
       "      <td>10.126630</td>\n",
       "      <td>-11.745325</td>\n",
       "    </tr>\n",
       "    <tr>\n",
       "      <th>2002-09-20</th>\n",
       "      <td>13.775903</td>\n",
       "      <td>21.509266</td>\n",
       "      <td>11.560970</td>\n",
       "      <td>-11.025248</td>\n",
       "    </tr>\n",
       "    <tr>\n",
       "      <th>2002-09-21</th>\n",
       "      <td>13.547872</td>\n",
       "      <td>22.918671</td>\n",
       "      <td>11.440298</td>\n",
       "      <td>-12.133957</td>\n",
       "    </tr>\n",
       "    <tr>\n",
       "      <th>2002-09-22</th>\n",
       "      <td>13.454134</td>\n",
       "      <td>23.025591</td>\n",
       "      <td>10.112645</td>\n",
       "      <td>-10.519158</td>\n",
       "    </tr>\n",
       "    <tr>\n",
       "      <th>2002-09-23</th>\n",
       "      <td>13.021232</td>\n",
       "      <td>23.013191</td>\n",
       "      <td>11.207608</td>\n",
       "      <td>-9.961071</td>\n",
       "    </tr>\n",
       "    <tr>\n",
       "      <th>2002-09-24</th>\n",
       "      <td>12.016730</td>\n",
       "      <td>21.137173</td>\n",
       "      <td>11.024686</td>\n",
       "      <td>-10.263268</td>\n",
       "    </tr>\n",
       "    <tr>\n",
       "      <th>2002-09-25</th>\n",
       "      <td>11.341194</td>\n",
       "      <td>19.837601</td>\n",
       "      <td>11.755220</td>\n",
       "      <td>-10.393324</td>\n",
       "    </tr>\n",
       "    <tr>\n",
       "      <th>2002-09-26</th>\n",
       "      <td>11.158402</td>\n",
       "      <td>16.547522</td>\n",
       "      <td>13.894005</td>\n",
       "      <td>-8.688782</td>\n",
       "    </tr>\n",
       "  </tbody>\n",
       "</table>\n",
       "<p>1000 rows × 4 columns</p>\n",
       "</div>"
      ],
      "text/plain": [
       "                    A          B          C          D\n",
       "2000-01-01   0.167880   0.449979   0.760280   0.143719\n",
       "2000-01-02   1.415723   1.109259   1.043444  -0.659320\n",
       "2000-01-03   2.332954   1.019915   1.640784  -0.572795\n",
       "2000-01-04   3.291297  -0.165844   1.661092  -1.326248\n",
       "2000-01-05   3.703555   1.795259   1.166112  -2.709278\n",
       "2000-01-06   4.695452   1.730050   0.197465  -2.642662\n",
       "2000-01-07   5.153339   1.403745   0.111445  -2.904859\n",
       "2000-01-08   5.229884   0.549227   1.338921  -2.374675\n",
       "2000-01-09   6.834794   0.816332  -0.021085  -1.443427\n",
       "2000-01-10   7.479675   1.954935   0.516446  -2.564909\n",
       "2000-01-11   6.040874   1.835237   0.894369  -3.373590\n",
       "2000-01-12   6.163212   2.666831  -1.650974  -3.787224\n",
       "2000-01-13   6.100803   1.108172  -1.065775  -2.804611\n",
       "2000-01-14   7.363846   1.457340  -1.105352  -2.908165\n",
       "2000-01-15   7.532313   0.695678  -3.446161  -3.305195\n",
       "2000-01-16   6.240939   1.313275  -5.187943  -3.630486\n",
       "2000-01-17   6.306419   2.491542  -6.255966  -3.951213\n",
       "2000-01-18   6.807121   1.268852  -6.037042  -2.801424\n",
       "2000-01-19   6.194018   1.205568  -6.892005  -2.504392\n",
       "2000-01-20   5.752059   0.732732  -8.883175  -1.034984\n",
       "2000-01-21   6.621657   2.343523  -7.465762  -0.061285\n",
       "2000-01-22   6.022305   2.793085 -10.271893  -1.274290\n",
       "2000-01-23   7.275126   2.048264  -9.214590  -0.966921\n",
       "2000-01-24   6.767118   2.261854  -9.168344  -1.320045\n",
       "2000-01-25   7.687874   0.646427  -7.456982  -0.234840\n",
       "2000-01-26   7.866852   1.475269  -6.667159  -0.393029\n",
       "2000-01-27   7.238634   1.528020  -7.545252  -0.963824\n",
       "2000-01-28   8.478220   1.081542  -6.442093  -1.039890\n",
       "2000-01-29   7.608118   0.600917  -6.959693  -0.390795\n",
       "2000-01-30   7.210054   1.994420 -10.114678  -0.888193\n",
       "...               ...        ...        ...        ...\n",
       "2002-08-28  17.437068  15.450764  13.216050  -6.148368\n",
       "2002-08-29  16.484871  15.783321  13.486062  -6.385225\n",
       "2002-08-30  15.740217  16.237396  13.147258  -6.176150\n",
       "2002-08-31  14.340795  16.922184  13.124970  -7.058553\n",
       "2002-09-01  15.169522  16.809410  13.159041  -7.126526\n",
       "2002-09-02  15.526881  15.985046  13.862428  -8.144999\n",
       "2002-09-03  16.085008  16.939751  13.227115  -8.962981\n",
       "2002-09-04  16.102913  18.158305  12.867642  -7.519896\n",
       "2002-09-05  16.628913  17.824559  12.833309  -8.914175\n",
       "2002-09-06  17.034823  18.865486  11.867723  -8.745775\n",
       "2002-09-07  19.102706  18.026957  10.877719 -10.135052\n",
       "2002-09-08  18.766015  17.379502  11.273796 -10.614667\n",
       "2002-09-09  15.843793  18.849549  11.249158 -10.633067\n",
       "2002-09-10  14.562472  19.435065  10.738738 -12.091476\n",
       "2002-09-11  15.495722  18.639092  11.409487 -12.114493\n",
       "2002-09-12  14.516972  20.174363   9.667691 -12.432794\n",
       "2002-09-13  13.267138  21.212997   8.522563 -10.228562\n",
       "2002-09-14  13.260208  19.255902  10.872347 -10.160898\n",
       "2002-09-15  14.095865  19.223318  11.931941 -10.884893\n",
       "2002-09-16  13.972761  20.390426  10.062041 -12.680935\n",
       "2002-09-17  13.345484  21.621339  10.326594 -12.147241\n",
       "2002-09-18  14.156052  21.573659  10.438187 -12.508471\n",
       "2002-09-19  14.398653  22.054349  10.126630 -11.745325\n",
       "2002-09-20  13.775903  21.509266  11.560970 -11.025248\n",
       "2002-09-21  13.547872  22.918671  11.440298 -12.133957\n",
       "2002-09-22  13.454134  23.025591  10.112645 -10.519158\n",
       "2002-09-23  13.021232  23.013191  11.207608  -9.961071\n",
       "2002-09-24  12.016730  21.137173  11.024686 -10.263268\n",
       "2002-09-25  11.341194  19.837601  11.755220 -10.393324\n",
       "2002-09-26  11.158402  16.547522  13.894005  -8.688782\n",
       "\n",
       "[1000 rows x 4 columns]"
      ]
     },
     "execution_count": 104,
     "metadata": {},
     "output_type": "execute_result"
    }
   ],
   "source": [
    "pd.read_excel('foo.xlsx', 'Sheet1', index_col=None, na_values=['NA'])"
   ]
  },
  {
   "cell_type": "code",
   "execution_count": null,
   "metadata": {
    "collapsed": true
   },
   "outputs": [],
   "source": []
  }
 ],
 "metadata": {
  "kernelspec": {
   "display_name": "Python [Root]",
   "language": "python",
   "name": "Python [Root]"
  },
  "language_info": {
   "codemirror_mode": {
    "name": "ipython",
    "version": 2
   },
   "file_extension": ".py",
   "mimetype": "text/x-python",
   "name": "python",
   "nbconvert_exporter": "python",
   "pygments_lexer": "ipython2",
   "version": "2.7.12"
  }
 },
 "nbformat": 4,
 "nbformat_minor": 0
}
