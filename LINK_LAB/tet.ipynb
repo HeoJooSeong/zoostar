{
 "cells": [
  {
   "cell_type": "code",
   "execution_count": 1,
   "metadata": {
    "collapsed": true
   },
   "outputs": [],
   "source": [
    "import pymysql\n",
    "from stop_words import get_stop_words"
   ]
  },
  {
   "cell_type": "code",
   "execution_count": 2,
   "metadata": {
    "collapsed": true
   },
   "outputs": [],
   "source": [
    "def stripNonAlphaNum(text):\n",
    "    import re\n",
    "    return re.compile(r'\\W+', re.UNICODE).split(text)"
   ]
  },
  {
   "cell_type": "code",
   "execution_count": 3,
   "metadata": {
    "collapsed": true
   },
   "outputs": [],
   "source": [
    "def clr(tmp):\n",
    "    tmp = tmp.replace(',),','')\n",
    "    tmp = tmp.replace(',','')\n",
    "    tmp = tmp.replace(',)','')\n",
    "    tmp = tmp.replace('(','')\n",
    "    tmp = tmp.replace('\\\"','')\n",
    "    tmp = tmp.replace('/',' ')\n",
    "    tmp = tmp.replace(\".\\'\",'')\n",
    "    tmp = tmp.replace(\"u'\",'')\n",
    "    tmp = tmp.lower()\n",
    "    return tmp"
   ]
  },
  {
   "cell_type": "code",
   "execution_count": 4,
   "metadata": {
    "collapsed": true
   },
   "outputs": [],
   "source": [
    "db = pymysql.connect(host='218.150.181.120',port=33060,user='link',passwd='1234#link',db='papercrawler',charset='utf8', use_unicode=True)\n",
    "cursor = db.cursor()\n",
    "sql1 = \"SELECT title FROM manuscript\"\n",
    "\n",
    "cursor.execute(sql1)\n",
    "\n",
    "result=cursor.fetchall()"
   ]
  },
  {
   "cell_type": "code",
   "execution_count": 5,
   "metadata": {
    "collapsed": true
   },
   "outputs": [],
   "source": [
    "result = str(result)\n",
    "stop_words = get_stop_words('en')"
   ]
  },
  {
   "cell_type": "code",
   "execution_count": 6,
   "metadata": {
    "collapsed": false
   },
   "outputs": [],
   "source": [
    "text = clr(result)\n",
    "text = ' '.join([word for word in text.lower().split() if word not in stop_words])"
   ]
  },
  {
   "cell_type": "code",
   "execution_count": 7,
   "metadata": {
    "collapsed": false
   },
   "outputs": [],
   "source": [
    "text = stripNonAlphaNum(text)"
   ]
  },
  {
   "cell_type": "code",
   "execution_count": 239,
   "metadata": {
    "collapsed": false
   },
   "outputs": [
    {
     "name": "stdout",
     "output_type": "stream",
     "text": [
      "25734358\n"
     ]
    }
   ],
   "source": [
    "print len(text)"
   ]
  },
  {
   "cell_type": "code",
   "execution_count": 8,
   "metadata": {
    "collapsed": true
   },
   "outputs": [],
   "source": [
    "word_count = {}"
   ]
  },
  {
   "cell_type": "code",
   "execution_count": 9,
   "metadata": {
    "collapsed": false
   },
   "outputs": [],
   "source": [
    "for word in text:\n",
    "    try: \n",
    "        word_count[word]+=1\n",
    "    except: \n",
    "        word_count[word]=1"
   ]
  },
  {
   "cell_type": "code",
   "execution_count": null,
   "metadata": {
    "collapsed": false
   },
   "outputs": [],
   "source": [
    "final_word = []\n",
    "for i in range(len(word_count)):\n",
    "    if (word_count.values()[i] > 100):\n",
    "        final_word.append(word_count.keys()[i])\n",
    "    else:\n",
    "        continue"
   ]
  },
  {
   "cell_type": "code",
   "execution_count": null,
   "metadata": {
    "collapsed": false
   },
   "outputs": [],
   "source": [
    "print final_word"
   ]
  },
  {
   "cell_type": "code",
   "execution_count": 246,
   "metadata": {
    "collapsed": false
   },
   "outputs": [
    {
     "name": "stdout",
     "output_type": "stream",
     "text": [
      "18952\n"
     ]
    }
   ],
   "source": [
    "print len(final_word)"
   ]
  },
  {
   "cell_type": "code",
   "execution_count": 247,
   "metadata": {
    "collapsed": true
   },
   "outputs": [],
   "source": [
    "db = pymysql.connect(host='218.150.181.120',port=33060,user='link',passwd='1234#link',db='papercrawler',charset='utf8', use_unicode=True)\n",
    "cursor = db.cursor()\n",
    "sql1 = \"SELECT abstractPaper FROM abstractManuscript\"\n",
    "\n",
    "cursor.execute(sql1)\n",
    "\n",
    "result=cursor.fetchall()"
   ]
  },
  {
   "cell_type": "code",
   "execution_count": 248,
   "metadata": {
    "collapsed": true
   },
   "outputs": [],
   "source": [
    "result = str(result)\n",
    "stop_words = get_stop_words('en')\n",
    "text = clr(result)\n",
    "text = ' '.join([word for word in text.lower().split() if word not in stop_words])\n",
    "text = stripNonAlphaNum(text)\n",
    "word_count = {}"
   ]
  },
  {
   "cell_type": "code",
   "execution_count": null,
   "metadata": {
    "collapsed": true
   },
   "outputs": [],
   "source": [
    "for word in text:\n",
    "    try: \n",
    "        word_count[word]+=1\n",
    "    except: \n",
    "        word_count[word]=1"
   ]
  },
  {
   "cell_type": "code",
   "execution_count": null,
   "metadata": {
    "collapsed": true
   },
   "outputs": [],
   "source": [
    "final_word = []\n",
    "for i in range(len(word_count)):\n",
    "    if (word_count.values()[i] > 100):\n",
    "        final_word.append(word_count.keys()[i])\n",
    "    else:\n",
    "        continue"
   ]
  },
  {
   "cell_type": "code",
   "execution_count": null,
   "metadata": {
    "collapsed": true
   },
   "outputs": [],
   "source": [
    "pring final_word"
   ]
  },
  {
   "cell_type": "code",
   "execution_count": null,
   "metadata": {
    "collapsed": true
   },
   "outputs": [],
   "source": []
  }
 ],
 "metadata": {
  "kernelspec": {
   "display_name": "Python 2",
   "language": "python",
   "name": "python2"
  },
  "language_info": {
   "codemirror_mode": {
    "name": "ipython",
    "version": 2
   },
   "file_extension": ".py",
   "mimetype": "text/x-python",
   "name": "python",
   "nbconvert_exporter": "python",
   "pygments_lexer": "ipython2",
   "version": "2.7.9"
  }
 },
 "nbformat": 4,
 "nbformat_minor": 0
}
