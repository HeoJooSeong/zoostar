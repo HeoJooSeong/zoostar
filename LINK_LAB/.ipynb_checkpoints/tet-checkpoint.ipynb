{
 "cells": [
  {
   "cell_type": "code",
   "execution_count": 11,
   "metadata": {
    "collapsed": true
   },
   "outputs": [],
   "source": [
    "import pymysql\n",
    "from stop_words import get_stop_words"
   ]
  },
  {
   "cell_type": "code",
   "execution_count": 12,
   "metadata": {
    "collapsed": true
   },
   "outputs": [],
   "source": [
    "def stripNonAlphaNum(text):\n",
    "    import re\n",
    "    return re.compile(r'\\W+', re.UNICODE).split(text)"
   ]
  },
  {
   "cell_type": "code",
   "execution_count": 13,
   "metadata": {
    "collapsed": true
   },
   "outputs": [],
   "source": [
    "def clr(tmp):\n",
    "    tmp = tmp.replace(',),','')\n",
    "    tmp = tmp.replace(',','')\n",
    "    tmp = tmp.replace(',)','')\n",
    "    tmp = tmp.replace('(','')\n",
    "    tmp = tmp.replace('\\\"','')\n",
    "    tmp = tmp.replace('?','')\n",
    "    tmp = tmp.replace('/',' ')\n",
    "    tmp = tmp.replace(\".\\'\",'')\n",
    "    tmp = tmp.replace(\"u'\",'')\n",
    "    tmp = tmp.lower()\n",
    "    tmp = tmp.replace('-','')\n",
    "#    for i in range(100):\n",
    " #       tmp = tmp.replace(str(i),'')\n",
    "    return tmp"
   ]
  },
  {
   "cell_type": "code",
   "execution_count": 19,
   "metadata": {
    "collapsed": false
   },
   "outputs": [],
   "source": [
    "db = pymysql.connect(host='218.150.181.120',port=33060,user='root',passwd='1234#link',db='papercrawler',charset='utf8', use_unicode=True)\n",
    "cursor = db.cursor()\n",
    "sql1 = \"SELECT title FROM manuscript\"\n",
    "\n",
    "cursor.execute(sql1)\n",
    "\n",
    "result=cursor.fetchall()"
   ]
  },
  {
   "cell_type": "code",
   "execution_count": 20,
   "metadata": {
    "collapsed": true
   },
   "outputs": [],
   "source": [
    "result = str(result)\n",
    "stop_words = get_stop_words('en')"
   ]
  },
  {
   "cell_type": "code",
   "execution_count": 21,
   "metadata": {
    "collapsed": false
   },
   "outputs": [],
   "source": [
    "text = clr(result)\n",
    "text = ' '.join([word for word in text.lower().split() if word not in stop_words])"
   ]
  },
  {
   "cell_type": "code",
   "execution_count": 22,
   "metadata": {
    "collapsed": false
   },
   "outputs": [],
   "source": [
    "text = stripNonAlphaNum(text)"
   ]
  },
  {
   "cell_type": "code",
   "execution_count": 25,
   "metadata": {
    "collapsed": false,
    "scrolled": true
   },
   "outputs": [
    {
     "name": "stdout",
     "output_type": "stream",
     "text": [
      "13460737\n"
     ]
    }
   ],
   "source": [
    "print len(text)"
   ]
  },
  {
   "cell_type": "code",
   "execution_count": 24,
   "metadata": {
    "collapsed": false
   },
   "outputs": [
    {
     "ename": "KeyboardInterrupt",
     "evalue": "",
     "output_type": "error",
     "traceback": [
      "\u001b[0;31m---------------------------------------------------------------------------\u001b[0m",
      "\u001b[0;31mKeyboardInterrupt\u001b[0m                         Traceback (most recent call last)",
      "\u001b[0;32m<ipython-input-24-221504e97500>\u001b[0m in \u001b[0;36m<module>\u001b[0;34m()\u001b[0m\n\u001b[1;32m      1\u001b[0m \u001b[0;32mfor\u001b[0m \u001b[0mi\u001b[0m \u001b[0;32min\u001b[0m \u001b[0mtext\u001b[0m\u001b[0;34m:\u001b[0m\u001b[0;34m\u001b[0m\u001b[0m\n\u001b[1;32m      2\u001b[0m     \u001b[0;32mif\u001b[0m\u001b[0;34m(\u001b[0m\u001b[0mlen\u001b[0m\u001b[0;34m(\u001b[0m\u001b[0mi\u001b[0m\u001b[0;34m)\u001b[0m\u001b[0;34m==\u001b[0m\u001b[0;36m1\u001b[0m\u001b[0;34m)\u001b[0m\u001b[0;34m:\u001b[0m\u001b[0;34m\u001b[0m\u001b[0m\n\u001b[0;32m----> 3\u001b[0;31m         \u001b[0mtext\u001b[0m\u001b[0;34m.\u001b[0m\u001b[0mremove\u001b[0m\u001b[0;34m(\u001b[0m\u001b[0mi\u001b[0m\u001b[0;34m)\u001b[0m\u001b[0;34m\u001b[0m\u001b[0m\n\u001b[0m\u001b[1;32m      4\u001b[0m     \u001b[0;32mif\u001b[0m\u001b[0;34m(\u001b[0m\u001b[0mlen\u001b[0m\u001b[0;34m(\u001b[0m\u001b[0mi\u001b[0m\u001b[0;34m)\u001b[0m\u001b[0;34m==\u001b[0m\u001b[0;36m2\u001b[0m\u001b[0;34m)\u001b[0m\u001b[0;34m:\u001b[0m\u001b[0;34m\u001b[0m\u001b[0m\n\u001b[1;32m      5\u001b[0m         \u001b[0mtext\u001b[0m\u001b[0;34m.\u001b[0m\u001b[0mremove\u001b[0m\u001b[0;34m(\u001b[0m\u001b[0mi\u001b[0m\u001b[0;34m)\u001b[0m\u001b[0;34m\u001b[0m\u001b[0m\n",
      "\u001b[0;31mKeyboardInterrupt\u001b[0m: "
     ]
    }
   ],
   "source": [
    "for i in text:\n",
    "    if(len(i)==1):\n",
    "        text.remove(i)\n",
    "    if(len(i)==2):\n",
    "        text.remove(i)"
   ]
  },
  {
   "cell_type": "code",
   "execution_count": 26,
   "metadata": {
    "collapsed": true
   },
   "outputs": [],
   "source": [
    "word_count = {}"
   ]
  },
  {
   "cell_type": "code",
   "execution_count": 27,
   "metadata": {
    "collapsed": false
   },
   "outputs": [],
   "source": [
    "for word in text:\n",
    "    try: \n",
    "        word_count[word]+=1\n",
    "    except: \n",
    "        word_count[word]=1"
   ]
  },
  {
   "cell_type": "code",
   "execution_count": 28,
   "metadata": {
    "collapsed": false
   },
   "outputs": [],
   "source": [
    "final_word = []\n",
    "for i in range(len(word_count)):\n",
    "    if (word_count.values()[i] > 1000):\n",
    "        final_word.append(word_count.keys()[i])\n",
    "    else:\n",
    "        continue"
   ]
  },
  {
   "cell_type": "code",
   "execution_count": 29,
   "metadata": {
    "collapsed": false
   },
   "outputs": [
    {
     "name": "stdout",
     "output_type": "stream",
     "text": [
      "['dna', 'combinatorial', 'chain', 'exact', 'texture', 'multipath', 'generator', 'hash', 'automata', 'learn', 'perception', 'analog', 'influence', 'suppression', 'transient', 'video', 'evolutionary', 'placement', 'coherence', 'magnetic', 'integrity', 'replication', 'discrimination', 'innovative', 'production', 'contents', 'privacypreserving', 'cooperation', 'contextaware', 'dependencies', 'transition', 'manipulator', 'vs', 'physics', 'correlated', 'camera', 'links', 'limits', 'controlled', 'controller', 'speaker', 'highspeed', 'histogram', 'automatically', 'analyse', 'targets', 'assurance', 'frequent', 'complexity', 'considering', 'maps', 'convolutional', 'teams', 'direct', 'parallel', 'variational', 'fault', 'multistage', 'representations', 'discretetime', 'surfaces', 'managing', 'direction', 'case', 'employing', 'higher', 'questions', 'unknown', 'lightweight', 'smart', 'regional', 'sensors', 'topological', 'net', 'best', 'collections', 'descriptor', 'parameter', 'records', 'nested', 'ambient', 'rfid', 'allocation', 'costs', 'media', 'ai', 'fairness', 'compliance', 'proxy', 'relationship', 'set', 'community', 'levels', 'location', 'satisfiability', 'computational', 'index', 'efficiently', 'frequency', 'interactions', 'documents', 'mechanism', 'email', 'drug', 'trajectory', 'xe7', 'xe0', 'xe9', 'secure', 'latent', 'supporting', 'change', 'window', 'interface', 'storage', 'mathematics', 'u043e', 'u0438', 'pipelined', 'trees', 'maintenance', 'benchmark', 'spatiotemporal', 'evolution', 'expansion', 'evolving', 'matter', 'near', 'ip', 'ii', 'im', 'identify', 'cancer', 'achieving', 'agentbased', 'individual', 'multiparty', 'supply', 'alignment', 'forward', 'regions', 'equilibrium', 'national', 'center', 'tests', 'regularized', 'effectiveness', 'mixture', 'layered', 'operating', 'medium', 'groups', 'r', 'user', 'authoring', 'robotics', 'asynchronous', 'rate', 'nonlinear', 'extension', 'preface', 'second', 'layout', 'logical', 'conditional', 'mass', 'parameterized', 'systematic', 'private', 'd', 'multicore', 'accuracy', 'checking', 'theories', 'schemes', 'scenes', 'transmit', 'contact', 'can', 'cad', 'care', 'price', 'reliability', 'time', 'selective', 'minimal', 'rewriting', 'based', 'bases', 'persistent', 'mean', 'subject', 'bounds', 'warehouse', 'reviews', 'pitch', 'sensor', 'switching', 'driver', 'planar', 'locally', 'component', 'comparing', 'sector', 'pricing', 'metric', 'power', 'cycles', 'chaotic', 'limited', 'urban', 'solutions', 'automatic', 'detection', 'weak', 'trust', 'multiprocessors', 'environment', 'generative', 'database', 'style', 'compiler', 'handover', 'componentbased', 'module', 'auctions', 'platforms', 'calibration', 'pulse', 'unit', 'acquisition', 'projects', 'manufacturing', 'realization', 'note', 'scientific', 'rdf', 'input', 'broadband', 'age', 'partial', 'singular', 'realworld', 'rule', 'phones', 'multiresolution', 'analytical', 'engines', 'egovernment', 'independent', 'repository', 'online', 'equivalence', 'instruction', 'block', 'electrical', 'measure', 'behaviors', 'emerging', 'proofs', 'overhead', 'composite', 'restricted', 'agile', 'parsing', 'technique', 'word', 'additive', 'views', 'proteins', 'living', 'ranking', 'geometric', 'profiles', 'movements', 'different', 'measuring', 'practical', 'varying', 'response', 'benchmarking', 'calculation', 'curves', 'preliminary', 'p2p', 'phone', 'gate', 'availability', 'trajectories', 'memory', 'lossless', 'ant', 'capabilities', 'column', 'cache', 'view', 'searching', 'sensitivity', 'algebraic', 'arrays', 'working', 'internet', 'emotion', 'wideband', 's', 'tracking', 'dimension', 'clock', 'full', 'empirical', 'methods', 'process', 'educational', 'adaptive', 'pervasive', 'expert', 'web', 'protection', 'detecting', 'musical', 'peer', 'cost', 'asymmetric', 'serviceoriented', 'monte', 'consistency', 'economic', 'e', 'computations', 'temporal', 'casebased', 'overlay', 'observation', 'incorporating', 'workload', 'analytic', 'awareness', 'governance', 'numbers', 'shape', 'decisionmaking', 'amplifier', 'access', 'physical', 'workflow', 'vehicular', 'boundary', 'boosting', 'longterm', 'filter', 'primary', 'discovery', 'numerical', 'setting', 'diagrams', 'animation', 'fundamental', 'competition', 'ubiquitous', 'linked', 'environments', 'modulation', 'fair', 'intrusion', 'visual', 'values', 'hci', 'contrast', 'action', 'information', 'play', 'plan', 'synchronization', 'link', 'line', 'code', 'les', 'timevarying', 'construction', 'heuristics', 'recurrent', 'passive', 'xfcr', 'gaussian', 'speed', 'coverage', 'fractional', 'towards', 'circuits', 'depth', 'experiment', 'mode', 'compressive', 'sequencing', 'virtualization', 'messages', 'fields', 'humanoid', 'mechanisms', 'continuous', 'summary', 'assessing', 'paths', 'selforganizing', 'handwritten', 'specific', 'core', 'detector', 'annealing', 'changing', 'heuristic', 'autonomic', 'discrete', 'swarm', 'integer', 'fingerprint', 'patients', 'layer', 'perspectives', 'lessons', 'theoretical', 'optimal', 'square', 'iterative', 'city', 'defect', 'progressive', 'body', 'error', 'person', 'formal', 'log', 'lines', 'configuration', 'site', 'distribution', 'implementation', 'heart', 'attribute', 'progress', 't', 'generating', 'convex', 'capture', 'faults', 'signature', 'modern', 'transforms', 'surgery', 'interpretation', 'server', 'mixed', 'association', 'networks', 'distributed', 'reverse', 'objects', 'f', 'strategic', 'mit', 'graphs', 'constructing', 'ad', 'gaze', 'consistent', 'radio', 'approach', 'multiclass', 'activities', 'pairwise', 'profiling', 'tables', 'secondorder', 'class', 'units', 'validation', 'atm', 'middleware', 'conversion', 'sar', 'pages', 'technologies', 'broadcasting', 'driven', 'interconnection', 'load', 'm', 'tools', 'pour', 'semisupervised', 'target', 'extending', 'clinical', 'emotional', 'optimisation', 'abstract', 'genes', 'variables', 'thinking', 'comparison', 'modular', 'analyzing', 'smartphone', 'cdma', 'event', 'mobile', 'statistics', 'quality', 'connected', 'joint', 'diversity', 'networking', 'teaching', 'force', 'better', 'einer', 'eines', 'reconstruction', 'background', 'watermarking', 'mining', 'normal', 'optimality', 'characteristics', 'neighborhood', 'big', 'bit', 'tradeoff', 'routing', 'editing', 'scheduling', 'driving', 'adapting', 'advances', 'modified', 'symbolic', 'multiple', 'opportunities', 'framework', 'generation', 'imperfect', 'multiuser', 'modal', 'motor', 'interoperability', 'words', 'closed', 'sequence', 'dependence', 'dependency', 'registration', 'projection', 'effects', 'queue', 'formulation', 'recognizing', 'adaptation', 'implicit', 'metrics', 'confidence', 'customer', 'integrating', 'intelligent', 'greedy', 'grids', 'machines', 'erp', 'sparse', 'architectural', 'brain', 'challenges', 'embedded', 'cues', 'radial', 'toward', 'scalability', 'modelling', 'composition', 'functional', 'times', 'timed', 'higherorder', 'surface', 'auf', 'combination', 'realtime', 'editor', 'threshold', 'identifying', 'cyclic', 'constant', 'profile', 'disease', 'knowledge', 'recommendation', 'attacks', 'runtime', 'platform', 'elearning', 'simulator', 'decisions', 'equations', 'volume', 'wind', 'financial', 'laboratory', 'haptic', 'fpga', 'data', 'morphological', 'combined', 'spatial', 'cover', 'integral', 'textual', 'guidance', 'symmetric', 'families', 'balanced', 'flash', 'orthogonal', 'anonymous', 'space', 'correction', 'bias', 'touch', 'used', 'tomography', 'pressure', 'cloud', 'constrained', 'downlink', 'contexts', 'networked', 'modeling', 'practices', 'bandwidth', 'stability', 'personalized', 'lifetime', 'search', 'none', 'existence', 'creativity', 'integration', 'environmental', 'timing', 'webbased', 'virtual', 'path', 'modelbased', 'superresolution', 'tool', 'capacity', 'criteria', 'weighted', 'transcription', 'receivers', 'color', 'program', 'design', 'texts', 'equation', 'utilization', 'lower', 'competitive', 'conditions', 'table', 'dual', 'growth', 'types', 'auditory', 'recommender', 'toolkit', 'soc', 'support', 'devices', 'examples', 'sign', 'creating', 'addressing', 'average', 'memories', 'belief', 'guest', 'uncertain', 'technical', 'extreme', '2015', '2013', 'accurate', 'principal', 'decoding', 'browsing', 'manipulators', 'hierarchies', 'bound', 'ein', 'multiobjective', 'issue', 'graphbased', 'mathematical', 'genome', 'cellular', 'commercial', 'management', 'bus', 'databases', 'maximal', 'consumer', 'grid', 'arithmetic', 'two', 'ensemble', 'regulation', 'manifold', 'role', 'forest', 'regular', 'relevant', 'fourier', 'roles', 'assessment', 'rank', 'satellite', 'engine', 'behaviour', 'java', 'loss', 'multivariate', 'worlds', 'hoc', 'locationbased', 'incomplete', 'things', 'exploratory', 'creative', 'programming', 'proving', 'complete', 'elimination', 'social', 'fitting', 'opinion', 'h', 'relationships', 'order', '802', 'phase', 'receiver', 'compression', 'reality', 'assistance', 'annotation', 'scaling', 'semantics', 'balancing', 'processors', 'translation', 'querying', 'cell', 'making', 'vehicle', 'geometry', 'indoor', 'group', 'smartphones', 'effect', 'dense', 'tuning', 'children', 'sound', 'benefits', 'latency', 'failures', 'finite', 'expressive', 'correlation', 'classes', 'metadata', 'insights', 'exploring', 'components', 'synthetic', 'imaging', 'various', 'reduction', 'sensing', 'meets', 'book', 'feasibility', 'china', 'task', 'spectrum', 'throughput', 'symmetry', 'situation', 'displays', 'organization', 'measurements', 'spam', 'resources', 'entropy', 'electronic', 'ring', 'semantic', 'safety', 'multilingual', 'experimental', 'injection', 'gene', 'xf3n', 'home', 'ultrasound', 'display', 'open', 'artificial', '0', 'inferring', 'among', 'structure', 'division', 'gender', 'source', 'restoration', 'carlo', 'assisted', 'decentralized', 'highperformance', 'neural', 'parallelism', 'preserving', 'relations', 'news', 'need', 'foundations', 'standards', 'computer', 'reduce', 'compressed', 'short', 'electric', 'unsupervised', 'caching', 'international', 'predictive', 'tcp', 'facial', 'coupling', 'disaster', 'team', 'introducing', 'applications', 'xml', 'file', 'image', 'principles', 'pilot', 'condition', 'science', 'localization', 'acceptance', 'corpora', 'defined', 'accelerating', 'smooth', 'green', 'polynomial', 'evidence', 'modules', 'criterion', 'developing', 'syntactic', 'strong', 'malware', 'fully', 'capability', 'transformation', 'evaluate', 'signal', 'tradeoffs', 'et', 'hiding', 'novel', 'i', 'hierarchical', 'vector', 'acoustic', 'points', 'digital', 'editors', 'interference', 'strategies', 'assignment', 'specifications', 'likelihood', 'ontologybased', 'arabic', 'testbed', 'spacetime', 'mesh', 'oriented', 'flow', 'dimensions', 'categorization', 'simplified', 'multithreaded', 'model', 'bounded', 'curve', 'removal', 'circuit', 'sustainable', 'fast', 'issues', 'relation', 'hmm', 'reversible', 'abstraction', 'logic', 'maximizing', 'scale', 'tasks', 'monitoring', 'nonparametric', 'policies', 'aspects', 'robustness', 'behavioral', 'uplink', 'tangible', 'poster', 'xe3o', 'asymptotic', 'supervised', 'rotation', 'architectures', 'infinite', 'drawing', 'government', 'selecting', 'approximation', 'highly', 'nets', 'uniform', 'perceptions', 'orientation', 'collective', 'family', 'deformation', 'constructions', 'positive', 'circular', 'processes', 'side', 'changes', 'protocol', 'reuse', 'failure', 'potential', 'writing', 'decomposition', 'difference', 'minimizing', 'simple', 'leveraging', 'acceleration', 'enhanced', 'sequential', 'reputation', 'immersive', 'twoway', 'advanced', 'transform', 'sense', '1', 'die', 'colony', 'satisfaction', 'quantization', 'designing', 'flows', 'shapes', 'generated', 'contentbased', 'deterministic', 'feedback', 'transactions', 'signatures', 'wide', 'multiprocessor', 'prediction', 'crowdsourcing', 'plant', 'plane', 'logistics', 'dependent', 'structures', 'graphics', 'dataflow', 'highdimensional', 'analytics', 'relaxation', 'properties', 'considerations', 'opportunistic', 'distributions', 'switched', 'relaying', 'control', 'privacy', 'coordination', 'converter', 'active', 'declarative', 'one', 'classifying', 'relative', 'cluster', 'sliding', 'transformations', 'parametric', 'multilayer', 'proof', 'das', 'compensation', 'selection', 'underwater', 'approximating', 'industrial', 'portable', 'eye', 'minimization', 'p', 'arm', 'behavior', 'tag', 'dictionary', 'audiovisual', 'concurrency', 'errors', 'prevention', 'corporate', 'crowd', 'onchip', 'spoken', 'traffic', 'firstorder', 'periodic', 'bioinformatics', 'courses', 'research', 'offline', 'binding', 'clustering', 'dynamics', 'multimedia', 'genetic', 'recognition', 'biology', 'problem', 'workflows', 'rendering', 'concept', 'blocks', 'position', 'lexical', 'mapreduce', 'compact', 'special', 'randomized', 'key', 'gait', 'gain', 'multimodal', 'markov', 'personal', 'algebras', 'exploiting', 'predicting', 'across', 'protein', 'extended', 'collision', 'minimum', 'technology', 'micro', 'services', 'lattices', 'point', 'preference', 'packing', 'invariant', 'elastic', 'procedure', 'biometric', 'fuzzy', 'vlsi', 'faster', 'reactive', 'wireless', 'paper', 'status', 'estimator', 'discovering', 'beamforming', 'gpu', 'contextual', 'factorization', 'pipeline', 'long', 'partitioning', 'carrier', 'automated', 'machine', 'engagement', 'extraction', 'life', 'massively', 'people', 'reducing', 'dimensionality', 'solver', 'current', 'studies', '2', 'algorithm', 'vocabulary', 'reasoning', 'coupled', 'imagery', 'positioning', 'codes', 'coded', 'robotic', 'function', 'delivery', 'reinforcement', 'multiview', 'scalable', 'negotiation', 'comparative', 'scenario', 'adding', 'comments', 'global', 'graph', 'relational', 'em', 'en', 'characterization', 'real', 'ontology', 'perceptual', 'probability', 'interpolation', 'processing', 'probabilistic', 'products', 'transaction', '264', 'controllers', 'keyword', 'zur', 'congestion', 'forecasting', 'problems', 'blood', 'interactive', 'zero', 'historical', 'interfaces', 'y', 'coloring', 'areas', 'piecewise', 'panel', 'dataset', 'eine', 'augmented', 'cooperative', 'specification', 'end', 'using', 'complex', 'compositional', 'simulations', 'requirements', 'indexing', 'sampling', 'guided', 'chip', 'analyses', 'secret', 'record', 'diagnostic', 'k', 'channels', 'approximations', 'quantitative', 'understanding', 'tutoring', 'resource', 'vertical', 'binary', 'named', 'un', 'ua', 'transmission', 'leakage', 'causal', 'delay', 'mechanical', 'invited', 'software', 'disambiguation', 'cryptography', 'property', 'visualization', 'rna', 'organizations', 'redundancy', 'rational', 'attributes', 'help', 'hierarchy', 'scheme', 'schema', 'experiences', 'look', 'loop', 'reconfigurable', 'features', 'distance', 'extracting', 'multicast', 'map', 'mac', 'speech', 'application', 'deep', 'radar', 'para', 'part', 'common', 'discourse', 'automotive', 'merging', 'fluid', 'report', 'normalization', 'focus', 'labeling', 'als', 'stochastic', 'markets', 'induced', 'contour', 'innovation', 'conversational', 'consensus', 'publishing', 'elements', 'static', 'testing', 'calculus', 'device', 'lattice', 'overlapping', 'cameras', 'programs', 'observer', 'fusion', 'building', 'beyond', 'sensitive', 'cryptographic', 'state', 'ontologies', 'utility', 'cells', 'refinement', 'call', 'modeldriven', 'operations', 'energyefficient', 'maximization', 'inductive', 'trace', 'track', 'biological', 'build', 'polynomials', 'noise', 'noisy', 'risk', 'movement', 'partition', 'characters', 'presence', 'computation', 'denoising', 'factors', 'review', 'datadriven', 'windows', 'libraries', 'theorem', 'english', 'fractal', 'multidimensional', 'variable', 'choice', 'incremental', 'feature', 'buffer', '3', 'vision', 'past', 'knowledgebased', 'experience', 'prior', 'operation', 'definition', 'microprocessor', 'next', 'robot', 'resonance', 'matrix', 'recovery', 'safe', 'l', 'programmable', 'optimum', 'participation', 'update', 'interval', 'product', 'dynamically', 'taxonomy', 'assembly', 'multihop', 'systems', 'missing', 'svm', 'wave', 'functions', 'provisioning', 'bridging', 'description', 'images', 'expressions', 'perspective', 'tolerant', 'debugging', 'breast', 'development', 'alternative', 'cryptanalysis', 'fixed', 'intensity', 'anomaly', 'classical', 'corpus', 'conference', 'grammars', 'clouds', 'usability', 'protocols', 'without', 'datasets', 'wifi', 'list', 'weight', 'traditional', 'range', 'question', 'users', 'sentiment', 'affective', 'local', 'differential', 'transfer', 'relay', 'effective', 'directional', 'structural', 'dsp', 'uml', 'spaces', 'industry', 'section', 'mapping', 'number', 'session', 'wearable', 'agreement', 'deformable', 'robots', 'challenge', 'balance', 'transport', 'multiagent', 'study', 'system', 'enhancing', 'flexible', 'voice', 'objective', 'ground', 'document', 'treatment', 'operator', 'logics', 'permutation', 'descriptors', 'base', 'encoding', 'creation', 'heterogeneous', 'route', 'providing', 'dynamic', 'new', 'tactile', 'total', 'template', 'effort', 'regularization', 'reading', 'authentication', 'manipulation', '4', 'videos', 'hybrid', 'controlling', 'der', 'des', 'connectivity', 'theoretic', 'la', 'value', 'parallelization', 'variations', 'join', 'g', 'priority', 'pose', 'theory', 'detect', 'outsourcing', 'events', 'legal', 'largescale', 'nonnegative', 'health', 'separation', 'integrated', 'hypothesis', 'cross', 'rapid', 'cmos', 'resilient', 'example', 'european', 'improving', 'methodology', 'mimo', 'package', 'tv', 'measurement', 'factor', 'reliable', 'harvesting', 'sorting', 'degrees', 'face', 'utilizing', 'frameworks', 'band', 'meshes', 'decoder', 'topic', 'statistical', 'forms', 'domain', 'overview', 'microarray', 'extensible', 'interest', 'low', 'appearance', 'rulebased', 'game', 'generic', 'page', 'diagnosis', 'adhoc', 'gradient', 'und', 'une', 'secondary', 'compilation', 'energy', 'patient', '3d', 'acm', 'interaction', 'multi', 'comprehensive', 'games', 'cultural', 'arbitrary', 'term', 'summarization', 'affine', 'communities', 'context', 'informatics', 'files', 'light', 'queries', 'automation', 'right', 'equalization', 'stress', 'course', 'training', 'massive', 'neighbor', 'results', 'molecular', 'optimization', 'evaluating', 'servers', 'centers', 'high', 'redundant', 'threedimensional', 'uwb', 'upper', 'recursive', 'processor', 'solving', 'quantum', 'tracing', 'unstructured', 'stereo', 'importance', 'subspace', 'sources', 'japanese', 'content', 'multiscale', 'locality', 'sharing', 'encryption', 'bayesian', 'road', 'solve', 'multichannel', 'meeting', 'matching', 'demonstration', 'biomedical', 'qualitative', 'soft', 'free', 'hypermedia', 'motion', '5', 'computers', 'dans', 'analysis', 'aggregation', 'visualizing', 'practice', 'academic', 'address', 'proactive', 'single', 'preservation', 'frame', 'petri', 'test', 'shared', 'discussion', 'implications', 'output', 'inspired', 'ordered', 'university', 'estimation', 'intersection', 'education', 'enhance', 'mobility', 'trading', 'uncertainty', 'initial', 'sample', 'policy', 'first', 'heritage', 'infrastructure', 'investigating', 'needs', 'evaluation', 'variance', 'success', 'n', 'inverse', 'peertopeer', 'cases', 'fpgas', 'reconfiguration', 'sum', 'transactional', 'precision', 'languages', 'humanrobot', 'counting', 'job', 'object', 'usage', 'exponential', 'conceptual', 'future', 'expression', 'states', 'migration', 'agents', 'relevance', 'reference', 'ct', 'laser', 'dissemination', 'disk', 'length', 'classifier', 'coherent', 'spread', 'inference', 'live', 'ratio', 'hyperspectral', 'mpi', 'bidirectional', 'series', 'transportation', 'prolog', 'domainspecific', 'attack', 'bei', 'lowcost', 'string', 'scenarios', 'curriculum', 'chemical', 'gesture', 'entity', 'language', 'kernel', 'field', 'students', 'generators', 'related', 'remote', 'estimates', 'lte', 'enterprise', 'tensor', 'improve', 'ict', 'coordinated', 'communication', 'applying', 'presentation', 'student', 'measures', 'activity', 'robust', 'streaming', 'associated', 'stable', 'estimating', 'culture', 'smoothing', 'tree', 'simulated', 'pattern', 'experiments', 'investigation', 'squares', 'many', 'four', 'distortion', 'uthe', 'work', 'associative', 'shortest', 'packet', 'aware', 'observations', 'voting', 'air', 'aid', 'nonuniform', 'computing', 'concurrent', 'perceived', 'finegrained', 'message', 'thermal', 'embedding', 'rules', 'multirobot', 'probabilities', 'history', 'classifiers', 'deployment', 'step', 'wavelet', 'objectoriented', 'preferences', 'structured', 'principle', 'architecture', 'human', 'character', 'eeg', 'simultaneous', 'coefficients', 'strategy', 'filters', '2d', 'kernels', 'gas', 'gap', 'extensions', 'proposal', 'delays', 'node', 'cyber', 'array', 'finding', 'head', 'reduced', 'collaborative', 'algebra', 'optical', 'terms', 'variability', 'sequences', 'improved', 'quadratic', 'mutual', 'wikipedia', 'mitigation', 'o', 'vectors', 'stream', 'aerial', 'propagation', 'surveillance', 'broadcast', 'method', 'handling', 'signals', 'communications', 'verification', 'segmentation', 'professional', 'external', 'early', 'business', 'area', 'discriminative', 'a', 'accessibility', 'dialogue', 'determination', 'generalization', 'simulation', 'inspection', 'boolean', 'faulttolerant', 'harmonic', 'twitter', 'three', 'sentence', 'predict', 'answering', 'channel', 'critical', 'resolution', 'mental', 'rates', 'fading', 'genomic', 'responses', 'cognitive', 'multilevel', 'directed', 'vehicles', 'collection', 'hashing', 'annotations', 'formation', 'lowpower', 'algorithmic', 'synthesis', 'differences', 'learned', 'planning', 'water', 'particle', 'operators', 'double', 'intelligence', 'edge', 'music', 'service', 'years', 'qos', 'world', 'small', 'self', 'project', 'connection', 'von', 'emergency', 'survey', 'perfect', 'scene', 'ordering', 'identity', 'patterns', 'audio', 'techniques', 'characterizing', 'hand', 'maximum', 'domains', 'blind', 'mri', 'models', 'ecommerce', 'guide', 'ofdma', 'determining', 'density', 'library', 'universal', 'aided', 'implementations', 'guidelines', 'basis', 'basic', 'nearest', 'performance', 'sites', 'prototype', 'decision', 'approaches', 'school', 'representation', 'filtering', 'version', 'level', 'simulating', 'pedestrian', 'degree', 'antennas', 'collaboration', 'identification', 'similarity', 'hidden', 'admission', 'representing', 'walking', 'synchronous', 'durch', 'preprocessing', 'geographic', 'diffusion', 'impact', 'recent', 'twodimensional', 'designs', 'illumination', 'means', 'explicit', 'highlevel', 'size', 'editorial', 'execution', 'antenna', 'nodes', 'documentation', 'descriptions', 'trends', 'optimizing', 'healthcare', 'demand', 'solution', 'type', 'medical', 'negative', 'form', 'elliptic', 'capturing', 'versus', 'completion', 'b', 'discriminant', 'back', 'engineering', 'query', 'implementing', 'partially', 'algorithms', 'combining', 'coding', 'random', 'enterprises', 'spectral', 'region', 'directions', 'linking', 'temperature', 'tagging', 'use', 'induction', 'rf', 'graphical', 'natural', 'linguistic', 'large', 'scan', 'register', 'introduction', 'internal', 'generalized', 'dimensional', 'element', 'regulatory', 'streams', 'hardware', 'android', 'constraints', 'convergence', 'standard', 'applied', 'unified', 'way', 'only', 'enabling', 'sets', 'signaling', 'recommendations', 'voltage', 'conflict', 'within', 'procedures', 'make', 'materials', 'shift', 'spanning', '11', 'efficient', 'workshop', 'public', 'hard', 'least', 'constraint', 'grouping', 'exploration', 'exchange', 'crosslayer', 'regression', 'learning', 'tutorial', 'interconnect', 'dynamical', 'population', 'actions', 'chinese', 'literature', 'consumption', 'material', 'avoidance', 'clusters', 'artifacts', 'cancellation', 'classification', 'concepts', 'topology', 'commerce', 'immune', 'queueing', 'via', 'organizational', 'transparent', 'society', 'rough', 'law', 'network', 'optimized', 'ldpc', 'market', 'ieee', 'improvement', 'enhancement', 'attention', 'parameters', 'infrastructures', 'matrices', 'stabilization', 'art', 'efficiency', 'skills', 'answer', 'grammar', 'linear', 'tolerance', 'paradigm', 'approximate', 'endtoend', 'agent', 'switch', 'variation', 'retrieval', 'good', 'notes', 'prototyping', 'autonomous', 'stock', 'de', 'multiplication', 'verifying', 'text', 'ofdm', 'general', 'revisited', 'chains', 'cycle', 'security', 'navigation', 'classroom', 'realistic', 'fiber', 'c', 'adoption', 'moving', 'increasing', 'operational', 'kalman']\n"
     ]
    }
   ],
   "source": [
    "print final_word"
   ]
  },
  {
   "cell_type": "code",
   "execution_count": 30,
   "metadata": {
    "collapsed": false
   },
   "outputs": [
    {
     "name": "stdout",
     "output_type": "stream",
     "text": [
      "2058\n"
     ]
    }
   ],
   "source": [
    "print len(final_word)"
   ]
  },
  {
   "cell_type": "code",
   "execution_count": 169,
   "metadata": {
    "collapsed": true
   },
   "outputs": [],
   "source": [
    "db = pymysql.connect(host='218.150.181.120',port=33060,user='link',passwd='1234#link',db='papercrawler',charset='utf8', use_unicode=True)\n",
    "cursor = db.cursor()\n",
    "sql1 = \"SELECT abstractPaper FROM abstractManuscript\"\n",
    "\n",
    "cursor.execute(sql1)\n",
    "\n",
    "result=cursor.fetchall()"
   ]
  },
  {
   "cell_type": "code",
   "execution_count": 170,
   "metadata": {
    "collapsed": true
   },
   "outputs": [],
   "source": [
    "result = str(result)\n",
    "stop_words = get_stop_words('en')\n",
    "text = clr(result)\n",
    "text = ' '.join([word for word in text.lower().split() if word not in stop_words])\n",
    "text = stripNonAlphaNum(text)\n",
    "word_count = {}"
   ]
  },
  {
   "cell_type": "code",
   "execution_count": 176,
   "metadata": {
    "collapsed": false
   },
   "outputs": [
    {
     "ename": "KeyboardInterrupt",
     "evalue": "",
     "output_type": "error",
     "traceback": [
      "\u001b[0;31m---------------------------------------------------------------------------\u001b[0m",
      "\u001b[0;31mKeyboardInterrupt\u001b[0m                         Traceback (most recent call last)",
      "\u001b[0;32m<ipython-input-176-221504e97500>\u001b[0m in \u001b[0;36m<module>\u001b[0;34m()\u001b[0m\n\u001b[1;32m      3\u001b[0m         \u001b[0mtext\u001b[0m\u001b[0;34m.\u001b[0m\u001b[0mremove\u001b[0m\u001b[0;34m(\u001b[0m\u001b[0mi\u001b[0m\u001b[0;34m)\u001b[0m\u001b[0;34m\u001b[0m\u001b[0m\n\u001b[1;32m      4\u001b[0m     \u001b[0;32mif\u001b[0m\u001b[0;34m(\u001b[0m\u001b[0mlen\u001b[0m\u001b[0;34m(\u001b[0m\u001b[0mi\u001b[0m\u001b[0;34m)\u001b[0m\u001b[0;34m==\u001b[0m\u001b[0;36m2\u001b[0m\u001b[0;34m)\u001b[0m\u001b[0;34m:\u001b[0m\u001b[0;34m\u001b[0m\u001b[0m\n\u001b[0;32m----> 5\u001b[0;31m         \u001b[0mtext\u001b[0m\u001b[0;34m.\u001b[0m\u001b[0mremove\u001b[0m\u001b[0;34m(\u001b[0m\u001b[0mi\u001b[0m\u001b[0;34m)\u001b[0m\u001b[0;34m\u001b[0m\u001b[0m\n\u001b[0m",
      "\u001b[0;31mKeyboardInterrupt\u001b[0m: "
     ]
    }
   ],
   "source": [
    "for i in text:\n",
    "    if(len(i)==1):\n",
    "        text.remove(i)\n",
    "    if(len(i)==2):\n",
    "        text.remove(i)"
   ]
  },
  {
   "cell_type": "code",
   "execution_count": 172,
   "metadata": {
    "collapsed": true
   },
   "outputs": [],
   "source": [
    "for word in text:\n",
    "    try: \n",
    "        word_count[word]+=1\n",
    "    except: \n",
    "        word_count[word]=1"
   ]
  },
  {
   "cell_type": "code",
   "execution_count": 173,
   "metadata": {
    "collapsed": true
   },
   "outputs": [],
   "source": [
    "final_word = []\n",
    "for i in range(len(word_count)):\n",
    "    if (word_count.values()[i] > 300):\n",
    "        final_word.append(word_count.keys()[i])\n",
    "    else:\n",
    "        continue"
   ]
  },
  {
   "cell_type": "code",
   "execution_count": 174,
   "metadata": {
    "collapsed": false,
    "scrolled": true
   },
   "outputs": [
    {
     "name": "stdout",
     "output_type": "stream",
     "text": [
      "['china', 'dna', 'therefore', 'effects', 'service', 'formation', 'sensitivity', 'much', 'survival', 'anomalous', 'role', 'following', 'one', 'caused', 'small', 'followed', 'tested', 'paper', 'research', 'calculations', 'also', 'virus', 'binding', 'individuals', 'methods', 'measurements', 'dynamics', 'process', 'matrix', 'length', 'membrane', 'genetic', 'greater', 'patterns', 'problem', 'compared', 'exposure', 'magnetic', 'obtained', 'indicated', 'production', 'electronic', 'subjects', 'assessed', 'techniques', 'climate', 'tissue', 'maximum', 'test', '0', 'cost', 'rainfall', 'brain', 'still', 'year', 'furthermore', 'transition', 'tropical', 'inflammatory', 'primary', 'antibody', 'regression', 'thermal', 'systems', '7', 'experimental', 'liver', 'composition', 'fatty', '001', 'similar', 'application', 'correlated', 'e', 'wave', 'gene', 'including', 'cause', 'times', 'receptors', 'years', 'key', 'surface', 'examined', 'density', 'loss', 'inflammation', 'demonstrated', 'previously', 'additional', 'north', 'highest', 'functions', 'likely', 'combination', 'basis', 'group', 'first', 'moisture', 'performance', 'across', 'among', 'strain', 'protein', 'evaluation', 'u03b1', 'u03b2', 'point', 'development', 'source', 'metabolic', 'access', 'approaches', 'disease', 'knowledge', 'intensity', 'transplantation', 'lipid', 'direct', 'parallel', 'diseases', 'days', 'despite', 'however', 'ocean', 'proposed', 'level', 'cases', 'predicted', 'period', 'case', 'without', 'acute', 'discussed', 'weight', 'leading', '9', 'higher', 'range', 'include', 'acid', 'larger', 'suggests', 'syndrome', 'g', 'local', 'available', 'ability', 'thus', 'conclusion', 'dynamic', 'regional', 'increasing', 'effective', 'wind', 'structural', 'carbon', 'conclusions', 'current', 'studied', 'studies', 'positive', 'values', 'winter', 'applications', 'data', 'hcv', 'suggesting', 'indicate', '2', 'future', 'expression', 'combined', 'influence', 'algorithm', 'spatial', 'contrast', 'resources', 'states', 'information', 'propose', 'u2019', 'number', 'relationship', 'determined', 'play', 'impact', 'set', 'sea', 'elevated', 'recent', 'agreement', 'computational', 'results', 'high', 'frequency', 'interactions', 'mechanism', 'molecules', 'ldlc', 'transport', 'function', 'study', 'affected', 'mrna', 'identify', 'confirmed', 'plasma', 'evidence', 'physical', 'together', 'global', 'change', 'significantly', 'shown', 'space', 'shows', 'size', 'objective', 'ratio', 'developed', 'article', 'moreover', 'soil', 'treatment', 'execution', 'central', 'circulation', 'describe', 'nodes', 'strong', 'site', 'since', 'described', 'used', 'evaluate', 'processing', 'required', 'pressure', 'products', 'anomalies', 'improve', 'inhibitor', 'mode', 'evolution', 'addition', 'efflux', 'novel', 'pathways', 'activation', 'affect', 'solution', 'cholesterol', 'new', 'mechanisms', 'type', 'kinin', 'near', 'form', 'diet', 'pathway', 'designed', 'provide', 'stability', 'according', 'cancer', 'inhibition', 'seasonal', 'field', 'blood', 'late', 'monsoon', 'participants', 'onset', 'significant', 'individual', '4', 'precipitation', 'per', 'xb1', 'assay', 'regions', 'areas', 'atmospheric', 'value', 'variations', 'variation', 'estimated', 'western', 'flow', 'viruses', 'complex', 'several', 'specific', 'heat', 'simulations', 'ni', 'particular', 'accumulation', 'groups', 'theory', 'considered', 'region', 'events', 'model', 'pacific', 'provided', 'provides', 'strongly', 'included', 'rats', 'rate', 'design', 'largescale', 'might', 'health', 'temperature', 'warming', 'measured', 'recently', 'due', 'strategy', 'lower', 'associated', 'electron', 'use', 'infection', 'transfer', 'layer', 'stable', 'growth', 'demonstrate', 'four', 'types', 'series', 'vitro', 'showed', 'simulated', 'previous', 'support', 'resulted', 'devices', 'models', 'understanding', 'optimal', 'revealed', 'experiments', 'average', 'resource', 'sites', 'many', 'around', 'mass', 'large', '6', 'treatments', 'found', 'reduce', 'enzyme', 'factor', 'using', 'spring', 'spectroscopy', 'transmission', 'expressed', 'resulting', 'system', 'therapeutic', 'software', 'assess', 'distribution', 'highly', 'total', 'negative', 'band', 'standard', 'observations', 'calculated', 'implementation', 'terms', 'applied', 'air', 'aim', 'possible', 'rna', 'hepatic', 'months', 'computing', 'presented', 'can', 'domain', 'increase', 'renal', 'severe', 'viral', 'low', 'lipoprotein', 'species', 'spectra', 'scheme', 'signaling', 'northern', 'conditions', 'within', 'kidney', 'cellular', 'remains', 'management', 'based', 'processes', 'corresponding', 'well', 'asian', 'warm', 'weeks', 'therapy', 'mean', 'features', 'plasmapheresis', 'architecture', 'mouse', 'protocol', 'human', 'failure', 'uptake', 'ci', 'efficient', 'potential', 'algorithms', 'show', 'relative', 'grid', 'either', 'xb0c', 'general', 'film', 'important', 'difference', 'association', 'conducted', 'regulation', 'part', 'glucose', 'networks', 'distributed', 'common', 'simple', 'gas', 'ldl', 'patient', 'single', 'decrease', 'interaction', 'min', 'controls', 'enhanced', 'pattern', 'convection', 'u22121', 'although', 'functional', 'limited', 'consistent', 'report', 'detection', 'approach', 'suggest', 'metabolism', 'whereas', 'environment', 'healthy', 'mortality', '1', 'given', 'population', 'coupled', 'antibodies', 'reduced', 'activities', 'known', 'characterized', 'induced', 'optical', 'investigate', 'achieved', 'evaluated', 'problems', 'generated', 'resistance', 'consumption', 'performed', 'six', 'clusters', 'related', 'variability', 'present', 'load', 'whether', 'second', 'reported', 'temperatures', 'levels', 'result', '100', 'eastern', 'east', 'time', 'findings', 'prediction', 'along', 'films', 'immune', 'stress', 'decreased', 'structures', 'activity', 'summer', 'power', 'tumor', 'mice', 'acids', 'influenza', 'method', 'via', 'emission', 'male', 'plant', 'major', 'molecular', 'index', 'respectively', 'interface', 'improved', 'xa0', 'age', 'existing', 'indian', 'involved', 'produced', 'communication', 'suggested', 'less', '5', 'increased', 'increases', 'five', 'program', 'work', 'order', 'oxygen', 'network', 'interannual', 'u2019s', 'rates', 'target', 'phase', 'observed', 'received', 'independent', 'properties', 'clinical', 'genes', 'southern', 'h', 'initial', '3', 'analyzed', 'investigated', 'two', 'improvement', 'early', 'comparison', 'area', 'amount', 'processors', 'derived', 'cardiovascular', 'concentration', 'mobile', 'parameters', 'baseline', 'hdlc', 'simulation', 'structure', 'cell', 'control', 'may', 'quality', 'need', 'able', 'overall', 'state', 'importance', 'efficiency', 'effect', 'receptor', 'cells', 'presents', 'even', 'asia', 'active', 'better', 'content', 'linear', 'three', 'background', 'bold', 'daily', 'technique', 'finally', 'useful', 'main', 'proteins', 'normal', 'especially', 'hdl', 'characteristics', 'cluster', 'different', 'critical', 'children', 'response', 'detected', 'good', 'treated', 'find', 'responses', 'dietary', 'often', 'scale', 'fed', 'cloud', 'body', 'day', 'identified', 'south', 'absorption', 'host', 'chronic', 'risk', 'changes', 'scheduling', 'correlation', 'free', 'relatively', 'patients', 'cycle', 'presence', 'synthesis', 'differences', 'vivo', 'water', 'memory', 'mainly', 'factors', 'season', 'multiple', 'sst', 'reaction', 'components', 'samples', 'concentrations', 'determine', 'energy', 'framework', 'p', 'various', 'reduction', 'behavior', 'analysis', 'analyses', '8', 'women', 'serum', 'will', 'sequence', 'lead']\n"
     ]
    }
   ],
   "source": [
    "print final_word"
   ]
  },
  {
   "cell_type": "code",
   "execution_count": 175,
   "metadata": {
    "collapsed": false
   },
   "outputs": [
    {
     "data": {
      "text/plain": [
       "677"
      ]
     },
     "execution_count": 175,
     "metadata": {},
     "output_type": "execute_result"
    }
   ],
   "source": [
    "len(final_word)"
   ]
  },
  {
   "cell_type": "code",
   "execution_count": 31,
   "metadata": {
    "collapsed": true
   },
   "outputs": [],
   "source": [
    "import csv"
   ]
  },
  {
   "cell_type": "code",
   "execution_count": 40,
   "metadata": {
    "collapsed": false,
    "scrolled": true
   },
   "outputs": [
    {
     "data": {
      "text/plain": [
       "list"
      ]
     },
     "execution_count": 40,
     "metadata": {},
     "output_type": "execute_result"
    }
   ],
   "source": [
    "type(row)"
   ]
  },
  {
   "cell_type": "code",
   "execution_count": 252,
   "metadata": {
    "collapsed": false,
    "scrolled": true
   },
   "outputs": [],
   "source": [
    "abstract = []\n",
    "f = open('abstract_1000.csv', 'r')\n",
    "csvReader = csv.reader(f)\n",
    "\n",
    "for row in csvReader:\n",
    "    abstract.append(row)\n",
    "f.close()"
   ]
  },
  {
   "cell_type": "code",
   "execution_count": 181,
   "metadata": {
    "collapsed": true
   },
   "outputs": [],
   "source": [
    "title = []\n",
    "f = open('title_1.csv', 'r')\n",
    "csvReader = csv.reader(f)\n",
    "\n",
    "for row in csvReader:\n",
    "    title.append(row)\n",
    "f.close()"
   ]
  },
  {
   "cell_type": "code",
   "execution_count": 182,
   "metadata": {
    "collapsed": true
   },
   "outputs": [],
   "source": [
    "title2 = []\n",
    "f = open('title_2.csv', 'r')\n",
    "csvReader = csv.reader(f)\n",
    "\n",
    "for row in csvReader:\n",
    "    title2.append(row)\n",
    "f.close()"
   ]
  },
  {
   "cell_type": "code",
   "execution_count": 183,
   "metadata": {
    "collapsed": false
   },
   "outputs": [],
   "source": [
    "title.append(title2)"
   ]
  },
  {
   "cell_type": "code",
   "execution_count": 184,
   "metadata": {
    "collapsed": false
   },
   "outputs": [],
   "source": [
    "title = str(title)"
   ]
  },
  {
   "cell_type": "code",
   "execution_count": 186,
   "metadata": {
    "collapsed": false
   },
   "outputs": [],
   "source": [
    "title = title[3:len(title)-4]"
   ]
  },
  {
   "cell_type": "code",
   "execution_count": 187,
   "metadata": {
    "collapsed": false
   },
   "outputs": [],
   "source": [
    "title = title.replace(\"\\'\",'')"
   ]
  },
  {
   "cell_type": "code",
   "execution_count": 189,
   "metadata": {
    "collapsed": false
   },
   "outputs": [],
   "source": [
    "title = title.replace(' ','')"
   ]
  },
  {
   "cell_type": "code",
   "execution_count": 190,
   "metadata": {
    "collapsed": false
   },
   "outputs": [],
   "source": [
    "title = title.split(',')"
   ]
  },
  {
   "cell_type": "code",
   "execution_count": 192,
   "metadata": {
    "collapsed": true
   },
   "outputs": [],
   "source": [
    "title2 = list(set(title))"
   ]
  },
  {
   "cell_type": "code",
   "execution_count": 193,
   "metadata": {
    "collapsed": false
   },
   "outputs": [
    {
     "name": "stdout",
     "output_type": "stream",
     "text": [
      "2147\n"
     ]
    }
   ],
   "source": [
    "print len(title2)"
   ]
  },
  {
   "cell_type": "code",
   "execution_count": 194,
   "metadata": {
    "collapsed": false
   },
   "outputs": [
    {
     "data": {
      "text/plain": [
       "2521"
      ]
     },
     "execution_count": 194,
     "metadata": {},
     "output_type": "execute_result"
    }
   ],
   "source": [
    "len(title)"
   ]
  },
  {
   "cell_type": "code",
   "execution_count": 196,
   "metadata": {
    "collapsed": false
   },
   "outputs": [
    {
     "name": "stdout",
     "output_type": "stream",
     "text": [
      "['aided', 'limited', 'similarity', 'magnetic', 'dynamic', 'all', 'four', 'entropy', 'asian', 'preface', 'relationships', 'presents', 'teaching', 'conjecture', 'risk', 'activation', 'regional', 'replication', 'affect', 'fractal', 'school', 'cause', 'u221e', 'solution', 'vector', 'cholesterol', 'indices', 'enhance', 'markov', 'force', 'consistent', 'estimates', 'direct', 'pulse', 'empirical', 'approximation', 'second', 'n', 'machines', 'tactile', 'even', 'mpeg', 'preferences', 'specification', 'workflow', 'asia', 'children', 'steiner', 'petri', 'reconstruction', 'designing', 'resilient', 'new', 'net', 'increasing', 'metadata', 'coefficient', 'evolving', 'centric', 'behavior', 'refinement', 'protection', 'china', 'active', 'path', '100', 'obtained', 'chaotic', 'voice', 'k', 'wdm', 'characterizing', 'fourier', 'changes', 'cancellation', 'biometric', 'secure', 'classification', 'mobility', 'discontinuous', 'highly', 'total', 'unit', 'dna', 'negative', 'call', 'therefore', 'assessment', 'relay', 'composite', 'aware', 'reversible', 'preserving', 'word', 'work', 'theories', 'temperatures', 'mr', 'example', 'indicated', 'programming', 'in', 'discovery', 'implementations', 'scheduling', 'end', 'recovery', 'provide', 'vehicular', 'machine', 'faults', 'methodology', 'hop', 'gate', 'abstraction', 'description', 'modulation', 'mesh', 'law', 'parallel', 'types', 'effective', 'complexity', 'algorithms', 'correlation', 'order', 'wind', 'operations', 'emotion', 'interpretation', 'feedback', 'nets', 'fir', 'directional', 'personal', 'better', 'production', 'hidden', 'uon', 'inventory', 'maximal', 'affected', 'diseases', 'combination', 'similar', 'band', 'therapy', 'effects', 'multidimensional', 'structural', 'eigenvalue', 'oxygen', 'queues', 'l', 'mrna', 'acoustic', 'interpolation', 'classifier', 'associative', 'mean', 'schemes', 'financial', 'series', 'principles', 'literature', 'trading', 'combining', 'message', 'networked', 'network', 'driving', 'gradient', 'restricted', 'content', 'combinatorial', 'rf', 'safety', 'assignment', 'u2019s', 'sliding', 'perception', 'linear', 'free', 'standard', 'formation', 'detecting', 'atm', 'modules', 'tolerant', 'filter', 'signature', 'industrial', 'features', 'viral', 'coding', 'primary', 'rank', 'channels', 'meshes', 'rats', 'electronic', 'plasmapheresis', 'service', 'top', 'rates', 'observations', 'ordered', 'variational', 'glucose', 'urban', 'enhancing', 'tool', 'western', 'distance', 'target', 'showed', 'approximations', 'enabled', 'zero', 'project', 'matter', 'classes', 'acquisition', 'extracting', 'spectrum', 'subjects', 'ray', 'latency', 'estimated', 'cardiac', 'oriented', 'fitting', 'contact', 'transmit', 'effectiveness', 'object', 'metrics', 'extending', 'optimized', 'regular', '802', 'phase', 'assessed', 'observation', 'medical', 'partition', 'flow', 'points', 'principle', 'enterprise', 'voting', 'consumer', 'sum', 'incomplete', 'heuristics', 'signatures', 'rayleigh', 'random', 'infrared', 'radio', 'solutions', 'decoding', 'availability', 'lessons', 'finally', 'layout', 'implementation', 'delays', 'topological', 'coefficients', 'mixture', '10', 'de', 'fluid', 'despite', 'report', 'hdlc', 'ds', 'covering', 'fields', 'public', 'architecture', 'analytical', 'automatic', 'fair', 'sensitivity', 'testing', 'detection', 'analytics', 'result', 'news', 'optimum', 'best', 'subject', 'capacity', 'tensor', 'compensation', 'artificial', 'symmetric', 'completion', 'future', 'cooperation', 'conceptual', 'previous', 'approach', 'handwritten', 'galerkin', 'terms', 'weak', 'however', 'modeling', 'improve', 'suggested', 'received', 'climate', 'reported', 'fault', 'uncertainty', 'merging', 'layered', 'und', 'receiver', 'variance', 'negotiation', 'pre', 'viruses', 'polynomial', 'trust', 'conference', 'basis', 'three', 'extraction', 'mitigation', 'interest', 'basic', 'flexible', 'algebras', 'dynamically', 'life', 'families', 'eastern', 'coherent', 'applied', 'commerce', 'air', 'aim', 'near', 'balance', 'study', 'procedure', 'manipulators', 'ip', 'ii', 'need', 'grammars', 'tissue', 'haptic', 'comparative', 'mouse', 'ring', 'confirmed', 'suggest', 'recurrent', 'complex', 'split', 'evaluate', 'several', 'rna', 'european', 'independent', 'satellite', 'numerical', 'hand', 'cycle', 'intrusion', 'programs', 'fusion', 'ocean', 'academic', 'practices', 'simulated', 'quantitative', 'the', 'paradigm', 'seasonal', 'unified', 'protocol', 'proposed', 'newton', 'bandwidth', 'identify', 'transforms', 'human', 'scattering', 'projection', 'visualization', 'agile', 'character', 'scalable', 'passive', 'spread', 'east', 'plasma', 'reuse', 'advances', 'survival', 'possible', 'cultural', 'background', 'ldpc', 'advanced', 'cognitive', 'multiplexing', 'specific', 'sparse', 'arbitrary', 'security', 'people', 'dense', 'electromagnetic', 'microwave', 'uml', 'cortical', 'ict', 'core', 'particular', 'algorithmic', 'bold', 'minimization', 'predicting', 'architectural', 'peer', 'post', 'manufacturing', 'super', 'properties', 'zur', 'stokes', 'grid', 'attacks', 'months', 'anomalous', 'xfcr', 'o', 'guest', 'runtime', 'functions', 'considerations', 'markovian', 'facility', 'bound', 'two', 'rendering', 'balanced', 'reducing', 'often', 'categorization', 'gis', 'compression', 'support', 'initial', 'transform', 'clinical', 'editor', 'way', 'resulted', 'music', 'metabolism', 'synthesis', 'multiscale', 'head', 'medium', 'fpga', 'differences', 'wireless', 'failure', 'heat', 'multiprocessor', 'decoder', 'watermarking', 'especially', 'arrays', 'type', 'equalization', 'bounds', 'devices', 'achieving', 'emotional', 'optimisation', 'computing', 'abstract', 'opportunistic', 'evidence', 'simulations', 'distributions', 'physical', 'ni', 'nm', 'whereas', 'reality', 'role', 'digital', 'test', 'cortex', 'node', 'models', 'mechanical', 'describe', 'update', 'diet', 'concurrent', 'variable', 'corresponding', 'interval', 'pseudo', 'together', 'warm', 'time', 'lipoprotein', 'concept', 'chain', 'switched', 'global', 'comments', 'computation', 'inverse', 'graph', 'technique', 'editors', 'environment', '0', 'quasi', 'elliptic', 'discovering', 'division', 'supported', 'string', 'orthogonal', 'choice', 'exact', 'partitions', 'clouds', 'solver', 'die', 'standards', 'discrete', 'team', 'perceptual', 'equation', 'upper', 'findings', 'maximization', 'prediction', 'cyber', 'sign', 'cost', 'run', 'targets', 'spectral', 'uniform', 'current', 'switch', 'sequential', 'template', 'relational', 'supporting', 'pose', 'transportation', 'denoising', 'concepts', 'understanding', 'water', 'groups', 'congestion', 'along', 'change', 'box', 'healthy', 'shift', 'vectors', 'queue', 'multicast', 'throughput', 'poisson', 'domains', 'resonance', 'studies', 'tasks', 'inference', 'logical', 'controls', 'market', 'additive', 'working', 'positive', 'scenarios', 'memory', 'films', 'theoretical', 'diagrams', 'rainfall', 'sharing', 'duality', 'visual', 'rigid', 'cases', 'organizations', 'valued', 'oscillator', 'modified', 'strain', 'values', 'can', 'following', 'making', 'usability', 'heart', 'relaying', 'stream', 'attribute', 'chip', 'agent', 'sample', 'incremental', 'performed', 'spanning', 'counting', 'serum', 'regularization', 'redundancy', 'requirements', 'winter', 'provisioning', 'chemical', 'immune', 'criterion', 'optimal', 'parameter', 'pathway', 'map', 'product', 'information', 'may', 'max', 'fed', 'southern', 'applications', 'mac', 'designed', 'improving', 'representations', 'data', 'annotation', 'goal', 'stress', 'natural', 'dynamical', 'joint', 'explicit', 'ghz', 'q', 'annealing', 'representation', 'gesture', 'mainly', 'nonparametric', 'feature', 'stability', 'brain', 'experiments', 'statistical', 'multipath', 'ieee', 'group', 'presence', 'forms', 'platform', 'window', 'policy', 'coordinated', 'main', 'uptake', 'non', 'views', 'processes', 'chromatic', 'scaling', 'term', 'proteins', 'realistic', 'domain', 'weighted', 'significantly', 'gaussian', 'challenges', 'year', 'et', 'shown', 'hcv', 'factors', 'furthermore', 'interference', 'increase', 'investigation', 'rational', 'internet', 'suggesting', 'squares', 'sensor', 'shows', 'theory', 'mechanisms', 'treatments', 'inductive', 'mimo', 'care', 'training', 'cycles', 'language', 'transition', 'iterative', 'motion', 'frequent', 'first', 'blind', 'wlan', 'symmetry', 'variables', 'symbolic', 'one', 'fast', 'array', 'open', 'size', 'fmri', 'given', 'structured', 'indicate', '2', 'moisture', 'realization', 'white', 'structures', 'national', 'exploring', 'mining', 'asymmetric', 'season', 'branch]', 'continuous', 'broadcast', 'short', 'module', 'representing', 'semantics', 'population', '11', 'wide', 'third', 'kinin', 'r', 'transport', 'and', 'correction', 'generalization', 'ant', 'sar', 'conversion', 'form', 'exploratory', 'efficient', 'note', 'animation', 'online', 'objective', 'performance', 'personalized', 'switching', 'channel', 'multiple', 'trace', 'normal', 'buffer', 'price', 'algebraic', 'pair', 'neuro', 'renal', 'considered', 'average', 'implications', 'drive', 'mri', 'sigma', 'shop', 'walking', 'qos', 'show', 'synchronous', 'spaces', 'threshold', 'injection', 'pacific', 'ground', 'xml', 'ratio', 'texture', 'analytic', 'tolerance', 'parabolic', 'awareness', 'routing', 'ranking', 'sst', 'morphological', 'trade', 'secondary', 'resource', 'bifurcation', 'privacy', 'predicted', 'vision', 'kernel', 'burst', 'maximum', 'relative', 'vivo', 'wideband', 'surgery', 'surfaces', 'inequalities', 'managing', 'review', 'sites', 'materials', '3', 'geometric', 'across', 'infrastructure', 'vertical', 'receivers', 'queueing', 'revealed', 'analyzed', 'article', 'reaction', 'efficiency', 'many', 'region', 'according', 'enabling', 'propagation', 's', 'embedding', 'expression', 'among', 'forecasting', 'affine', 'cancer', 'characterization', 'color', 'overview', 'robotics', 'colony', 'period', 'sampling', 'satisfaction', 'anti', 'learning', 'constant', 'considering', 'tuning', 'encryption', 'locally', 'tropical', 'workshop', 'combined', 'deformable', 'linguistic', 'prototype', 'engine', 'direction', 'optimality', 'external', 'bayesian', 'weeks', 'protocols', 'pilot', 'sound', 'developing', 'single', 'profiles', 'editorial', 'investigating', 'hdl', 'versus', 'planar', 'orientation', 'coupled', 'characteristics', 'metric', 'organizational', 'bias', 'ambient', 'protein', 'property', 'technology', 'binary', 'different', 'impact', 'surveillance', 'microarray', 'authentication', 'speech', 'document', 'events', 'extended', 'rfid', 'driver', 'allocation', 'driven', 'reference', 'antibodies', 'tracking', 'modes', 'severe', 'costs', 'solve', 'components', 'model', 'dimension', 'summer', 'guided', 'actions', 'filtering', 'speed', 'heuristic', 'generator', 'improvement', '4', 'samples', 'coded', 'real', 'aspects', 'around', 'rules', 'early', 'inhibition', 'traffic', 'preference', 'reconfiguration', 'using', 'execution', 'correlated', 'acute', 'particle', 'identifying', 'collective', 'server', 'agreement', 't', 'output', 'inter', 'stationary', 'reduced', 'hyperspectral', 'conditional', 'competition', 'moreover', 'images', 'organizing', 'matching', 'capability', 'manipulator', 'dimensions', 'critical', 'decomposition', 'provides', 'measuring', 'assembly', 'scientific', 'business', 'tree', 'ontology', 'on', 'central', 'package', 'of', 'industry', 'theorems', 'discussed', 'xb0c', 'side', 'practical', 'estimator', 'supervised', 'neighbor', 'discrimination', 'mixed', 'antibody', 'processor', 'road', 'enhancement', 'decreased', 'communication', 'image', 'determine', 'operator', 'spline', 'logics', 'log', 'area', 'low', 'actuator', 'complete', 'delayed', 'land', 'elimination', 'impedance', 'technologies', 'utilizing', 'datasets', 'applying', 'embedded', 'robustness', 'strongly', 'required', 'ad', 'multiobjective', 'certain', 'citation', 'deep', 'general', 'reliability', 'asynchronous', 'daily', 'file', 'formulation', 'lifetime', 'intra', 'film', 'assessing', 'antenna', 'hybrid', 'green', 'field', '5', 'spatial', 'mathematics', 'collaborative', 'students', 'symbol', 'vertex', 'important', 'bounded', 'coverage', 'included', 'building', 'remote', 'controlled', 'acids', 'curve', 'efflux', 'interannual', 'u', 'behavioral', 'resolution', 'monte', 'influenza', 'semantic', 'chinese', 'caused', 'splitting', 'cooperative', 'fairness', 'expressions', 'disk', 'decisions', 'reasoning', 'synthetic', 'semiconductor', 're', 'tv', 'equivalence', 'participants', 'opportunities', 'removal', 'to', 'program', 'stochastic', 'nodes', 'norm', 'activities', 'resistance', 'lyapunov', 'balancing', 'uwb', 'difference', 'condition', 'hamiltonian', 'evaluation', 'list', 'large', 'small', 'biological', 'employing', 'neighborhood', 'rate', 'design', 'perspective', 'canonical', 'nonlinear', 'sub', 'clock', 'section', 'version', 'fractional', 'method', 'contrast', 'movement', 'segmentation', 'full', 'policies', 'component', 'behaviour', 'modular', 'selective', 'operating', 'compressed', 'relaxation', 'strong', 'equations', 'social', 'search', 'inspired', 'experience', 'prior', 'amount', 'periodic', 'permutation', 'action', 'via', 'followed', 'family', 'analyzing', 'sensors', 'languages', 'eye', 'vlsi', 'probabilities', 'charge', 'comparing', 'automata', '6', 'markets', 'converters', 'turbo', 'descriptors', 'operators', 'emission', 'tested', 'domination', 'controlling', 'impulse', 'varying', 'known', 'largescale', 'none', 'erratum', 'science', 'der', 'des', 'examined', 'v', 'strategies', 'male', 'history', 'scan', 'days', 'states', 'collision', 'minimum', 'numbers', 'sense', 'species', 'silicon', 'recursive', 'maps', 'ensemble', 'plant', 'ubiquitous', 'circuit', 'algebra', 'derived', 'mapping', 'connectivity', 'plane', 'blood', 'waves', 'response', 'a', 'imagery', 'spectra', 'parameterized', 'broadcasting', 'fundamental', 'media', 'geographic', 'retrieval', 'hierarchy', 'developed', 'distortion', 'radar', 'thermal', 'paper', 'filters', 'existence', 'uthe', 'cardiovascular', 'multiagent', 'solving', 'late', 'detected', 'systems', 'might', 'deformation', 'good', 'propose', 'vitro', 'framework', 'communities', 'association', 'fully', 'level', 'labeling', '2d', 'micro', 'inequality', 'radial', 'monsoon', 'found', 'characterized', 'u2019', 'weight', 'generation', 'energy', 'hard', 'reduce', 'investigated', 'measurement', 'quantum', 'operation', 'beyond', 'event', 'p', 'since', 'research', 'beamforming', 'health', '7', 'induced', 'issue', 'fiber', 'belief', 'localization', 'monotone', 'base', 'imaging', 'temperature', 'definition', 'pairs', 'benefits', 'computers', 'positioning', 'accumulation', 'conducted', 'w', 'cdma', 'u03b1', 'u03b2', 'major', 'probability', 'encoding', 'number', 'perturbation', 'errors', 'utilization', 'introduction', 'leading', 'least', 'swarm', 'regulation', 'warming', 'calculations', 'gpu', 'molecular', 'schema', 'imperfect', 'relationship', 'optical', 'signaling', 'translation', 'classifiers', 'diffusion', 'scheme', 'cyclic', 'double', 'instruction', 'determined', 'toward', 'treated', 'interactive', 'concentration', 'fading', 'paths', 'self', 'onset', 'also', 'without', 'interconnection', 'finding', 'uplink', 'play', 'towards', 'electric', 'measures', 'virus', 'experiences', 'significant', 'services', 'probabilistic', 'unsupervised', 'windows', 'cover', 'part', 'caching', 'velocity', 'physics', 'session', 'relation', 'fine', 'networks', 'multichannel', 'cell', 'simulating', 'parameters', 'distributed', 'enzyme', 'indian', 'factor', '8', 'dependent', 'trees', 'synchronization', 'breast', 'shared', 'lattices', 'contextual', 'factorization', 'investigate', 'common', 'activity', 'x', 'scanning', 'set', 'art', 'achieved', 'iteration', 'individual', 'migration', 'sea', 'theoretic', 'contour', 'analog', 'expert', 'libraries', 'case', 'various', 'avoidance', 'conditions', 'available', 'genes', 'recently', 'creating', 'missing', 'interfaces', 'attention', 'scalability', 'interface', 'c', 'improved', 'reverse', 'quantization', 'sensitive', 'connection', 'context', 'experimental', 'load', 'supply', 'simple', 'community', 'dimensional', 'dietary', 'agents', 'adaptation', 'pp', 'java', 'perspectives', 'discriminant', 'acceptance', 'due', 'strategy', 'reduction', 'maintenance', 'treatment', 'generating', 'flight', 'kalman', 'gas', 'precision', 'modelling', 'gap', 'determination', 'liver', 'systematic', 'demand', 'presented', 'handling', 'uncertain', 'resulting', 'exponential', 'xa0', 'reliable', 'batch', 'evaluated', 'cluster', 'optimization', 'evaluating', 'error', 'loop', 'studied', 'approximate', 'von', 'binding', 'neurons', 'carbon', 'baseline', 'estimate', 'elevated', 'simultaneous', '9', 'survey', 'relatively', 'composition', 'conflict', 'higher', 'development', 'used', 'fatty', 'comprehensive', 'flows', '001', 'levels', 'moving', 'user', 'robust', 'recent', 'lower', 'task', 'database', 'navigation', 'analysis', 'edge', 'consistency', 'organization', 'parametric', '264', 'competitive', 'ldl', 'sequencing', 'shape', 'world', 'spatially', 'alternative', 'alignment', 'cut', 'conclusions', 'scenario', 'admission', 'humanoid', 'dc', 'signals', 'source', 'internal', 'location', 'theorem', 'relevance', 'input', 'transformation', 'generalized', 'bio', 'emergency', 'big', 'aggregation', 'game', 'integer', 'bit', 'precipitation', 'projects', 'formal', 'anomalies', 'sorting', 'd', 'semi', 'signal', 'consensus', 'communications', 'individuals', 'eeg', 'mathematical', 'methods', 'metabolic', 'spring', 'creation', 'back', 'multiuser', 'streaming', 'trends', 'economic', 'pricing', 'scale', 'broadband', 'decision', 'measurements', 'integration', 'per', 'innovation', 'minimal', 'either', 'patient', 'processing', 'confidence', 'step', 'constraint', 'tracing', 'simulation', 'range', 'extensions', 'modal', 'block', 'computational', 'within', 'integral', 'clustering', 'statistics', 'classical', 'measured', 'simulator', 'long', 'forward', 'criteria', 'link', 'multilevel', 'delta', 'line', 'directed', 'partitioning', 'circuits', 'characteristic', 'middleware', 'up', 'international', 'mobile', 'exploration', 'verification', 'spectroscopy', 'heterogeneous', 'autonomous', 'ua', 'calculated', 'associated', 'defined', 'm', 'convex', 'influence', 'quantification', 'engineering', 'tomography', 'kidney', 'codes', 'xb1', 'rewriting', 'application', 'electrical', 'genome', 'arithmetic', 'elements', 'users', 'provided', 'problems', 'robots', 'polynomials', 'generated', 'restoration', 'suppression', 'structure', 'svm', 'e', 'algorithm', 'age', 'vehicles', 'depth', 'weights', 'failures', 'code', 'partial', 'amplifier', 'results', 'existing', 'query', 'issues', 'compact', 'deterministic', 'intensive', 'stable', 'visualizing', 'include', 'resources', 'assay', 'automotive', 'wave', 'unstructured', 'electron', 'cellular', 'matrices', 'transmission', 'f', 'minimizing', 'inspection', 'hepatic', 'video', 'traveling', 'dynamics', 'acid', 'carlo', 'leakage', 'index', 'power', 'atmospheric', 'assisted', 'multimedia', 'expressed', 'find', 'access', 'experiment', '3d', 'body', 'multivariate', 'degree', 'exchange', 'respectively', 'packing', 'objects', 'separation', 'implicit', 'extreme', 'northern', 'technical', 'involved', 'larger', 'suggests', 'products', 'gene', 'spatio', 'decentralized', 'stabilization', 'transformations', 'nearest', 'private', 'boolean', 'decrease', 'motor', 'tools', 'causal', 'cloud', 'use', 'asymptotic', 'consumption', 'remains', 'bi', 'next', 'calculation', 'camera', 'vehicle', 'stage', 'screening', 'optimizing', 'comparison', 'infection', 'transient', 'antennas', 'potential', 'women', 'customer', 'topic', 'integrating', 'challenge', 'thin', 'inhibitor', 'proof', 'control', 'links', 'process', 'high', 'serial', 'tumor', 'educational', 'syndrome', 'six', 'delay', 'forest', 'intelligent', 'circular', 'profile', 'singular', 'specifications', 'collection', 'impulsive', 'concentrations', 'multiplication', 'monitoring', 'computations', 'light', 'lines', 'robot', 'redundant', 'element', 'healthcare', 'bipartite', 'evolutionary', 'produced', 'feasibility', 'including', 'perfect', 'regions', 'la', 'temporal', 'estimating', 'degrees', 'biomedical', 'clusters', 'pixel', 'designs', 'greater', 'material', 'indexing', 'cutting', 'fingerprint', 'front', 'rotation', 'day', 'ofdma', 'chronic', 'university', 'identified', 'mode', 'stock', 'constraints', 'homogeneous', 'estimators', 'related', 'society', 'meta', 'static', 'measure', 'special', 'out', 'matrix', 'chaos', 'mediated', 'adaptive', 'induction', 'integrated', 'interactions', 'greedy', 'approaches', 'regulatory', 'likelihood', 'shortest', 'interaction', 'g', 'geometry', 'determining', 'route', 'times', 'length', 'lte', 'timed', 'south', 'isbn', 'scene', 'strategic', 'randomized', 'quality', 'management', 'observer', 'hyperbolic', 'ordering', 'unknown', 'system', 'relations', 'priority', 'attack', 'intelligence', 'programmable', 'pervasive', 'environmental', 'manipulation', 'fuzzy', 'observed', 'patients', 'arc', 'providing', 'behaviors', 'curves', 'disjoint', 'constrained', 'acceleration', 'documents', 'angle', 'mappings', 'min', 'able', 'accelerated', 'mechanism', 'arm', '[[china', 'incorporating', 'detector', 'techniques', 'mit', 'accuracy', 'calculus', 'collaboration', 'useful', 'connected', 'preliminary', 'device', 'histogram', 'class', 'delivery', 'stereo', 'placement', 'disease', 'face', 'graphs', 'hierarchical', 'databases', 'emerging', 'selection', 'text', 'indoor', 'downlink', 'planning', 'portfolio', 'rough', 'mice', 'principal', 'coloring', 'based', 'knowledge', 'much', 'cache', 'receptors', 'operational', 'reactive', 'bases', 'molecules', 'b', 'local', 'mortality', 'equilibrium', 'means', 'overall', 'likely', 'beam', 'interoperability', 'words', 'timing', 'years', 'procedures', 'areas', 'evolution', 'circulation', 'course', 'h', 'differential', 'queries', 'fixed', 'view', 'predictive', 'constructing', 'ofdm', 'approximating', 'smooth', 'frame', 'terrain', 'packet', 'intensity', 'computer', 'enhanced', 'responses', 'still', 'pattern', 'state', 'identification', 'wavelet', 'closed', 'membrane', 'invariant', 'boundary', 'variability', 'ability', 'underwater', 'importance', 'implementing', 'job', 'p2p', 'key', 'configuration', 'problem', 'limits', 'drug', 'transplantation', 'streams', 'attributes', 'estimation', 'ci', 'inflammatory', 'co', 'harmonic', 'environments', 'sequences', 'table', 'ct', 'videos', 'piecewise', 'addition', 'trajectory', 'genetic', 'proposal', 'topology', 'anomaly', 'ontologies', 'ldlc', 'diversity', 'coherence', 'subspace', 'controller', 'graphics', 'present', 'multi', 'novel', 'laser', 'hoc', 'value', 'will', 'revisited', 'ultra', 'layer', 'almost', 'neuron', 'thus', 'site', 'surface', 'intuitionistic', 'hardware', 'vs', 'dual', 'lightweight', 'convection', 'regression', 'avc', 'capture', 'generic', 'cross', 'speaker', 'units', 'games', 'finite', 'practice', 'cubic', 'logic', 'effect', 'automation', 'architectures', 'student', 'robotic', 'infinite', 'identity', 'transaction', 'off', 'center', 'neural', 'i', 'well', 'patterns', '1', 'sets', 'position', 'audio', 'sensing', 'spherical', 'less', 'storage', 'accurate', 'tcp', 'sources', 'voltage', 'coordination', 'web', 'rapid', 'density', 'absorption', 'point', 'capabilities', 'lattice', 'adoption', 'adc', 'usage', 'aerial', 'smart', 'tests', 'increased', 'government', 'checking', 'inversion', 'increases', 'five', 'facial', 'deployment', 'press', 'intersection', 'xe9', 'loss', 'like', 'success', 'exploiting', 'qualitative', 'controllers', 'soft', 'therapeutic', 'grids', 'sequence', 'searching', 'library', 'platforms', 'growth', 'recommendation', 'home', 'recognition', 'u22121', 'lead', 'overlay', 'reconfigurable', 'inflammation', 'chains', 'demonstrated', 'biology', 'noise', 'lipid', 'selecting', 'expansion', 'pressure', 'host', 'although', 'offset', 'described', 'analyses', 'noisy', 'extension', 'processors', 'dependence', 'carrier', 'software', 'previously', 'functional', 'assess', 'ultrasound', 'square', 'receptor', 'registration', 'utility', 'networking', 'additional', 'elastic', 'transfer', 'soil', 'secret', 'smoothing', 'quadratic', 'polarimetric', 'function', 'north', 'bus', 'triangular', 'gait', 'volume', 'construction', 'gain', 'automated', 'convergence', 'highest', 'partially', 'converter', 'whether', 'cells', 'j', 'variations', 'reinforcement', 'frequency', 'limit', 'demonstrate', 'distribution', 'display', 'universal', 'graphical', 'multimodal', 'wavelength', 'education', 'cmos', 'mutual', 'compared', 'calibration', 'virtual', 'book', 'mass', 'conclusion', 'variation', 'pathways', 'exposure', 'coupling', 'space', 'rule', 'diagnosis', 'validation', 'augmented']\n"
     ]
    }
   ],
   "source": [
    "print title2"
   ]
  },
  {
   "cell_type": "code",
   "execution_count": 253,
   "metadata": {
    "collapsed": false
   },
   "outputs": [],
   "source": [
    "abstract = str(abstract)"
   ]
  },
  {
   "cell_type": "code",
   "execution_count": 254,
   "metadata": {
    "collapsed": false
   },
   "outputs": [],
   "source": [
    "abstract = abstract[2:len(abstract)-2]"
   ]
  },
  {
   "cell_type": "code",
   "execution_count": 255,
   "metadata": {
    "collapsed": false
   },
   "outputs": [],
   "source": [
    "abstract = abstract.replace(\"\\'\",'')"
   ]
  },
  {
   "cell_type": "code",
   "execution_count": 256,
   "metadata": {
    "collapsed": true
   },
   "outputs": [],
   "source": [
    "abstract = abstract.replace(' ','')"
   ]
  },
  {
   "cell_type": "code",
   "execution_count": 257,
   "metadata": {
    "collapsed": false
   },
   "outputs": [],
   "source": [
    "abstract2= abstract.split(',')"
   ]
  },
  {
   "cell_type": "code",
   "execution_count": 258,
   "metadata": {
    "collapsed": false,
    "scrolled": true
   },
   "outputs": [
    {
     "name": "stdout",
     "output_type": "stream",
     "text": [
      "4384\n"
     ]
    }
   ],
   "source": [
    "print len(abstract2)"
   ]
  },
  {
   "cell_type": "code",
   "execution_count": 259,
   "metadata": {
    "collapsed": true
   },
   "outputs": [],
   "source": [
    "for i in title2:\n",
    "    abstract2.append(i)"
   ]
  },
  {
   "cell_type": "code",
   "execution_count": 340,
   "metadata": {
    "collapsed": false
   },
   "outputs": [
    {
     "data": {
      "text/plain": [
       "6531"
      ]
     },
     "execution_count": 340,
     "metadata": {},
     "output_type": "execute_result"
    }
   ],
   "source": [
    "len(abstract2)"
   ]
  },
  {
   "cell_type": "code",
   "execution_count": 261,
   "metadata": {
    "collapsed": false
   },
   "outputs": [],
   "source": [
    "final = list(set(abstract2))"
   ]
  },
  {
   "cell_type": "code",
   "execution_count": 288,
   "metadata": {
    "collapsed": false
   },
   "outputs": [
    {
     "data": {
      "text/plain": [
       "4395"
      ]
     },
     "execution_count": 288,
     "metadata": {},
     "output_type": "execute_result"
    }
   ],
   "source": [
    "len(final)"
   ]
  },
  {
   "cell_type": "code",
   "execution_count": 263,
   "metadata": {
    "collapsed": false
   },
   "outputs": [
    {
     "name": "stdout",
     "output_type": "stream",
     "text": [
      "['aided', 'limited', 'transitions', 'similarity', 'alleles', 'magnetic', 'desirable', 'all', 'four', 'facilities', 'entropy', 'asian', 'preface', 'consists', 'semantic', 'theorems', 'integrity', 'mrow', 'cytokines', 'poorly', 'relationships', 'phonon', 'feeding', 'calculate', 'physiological', 'segments', 'disability', 'presents', 'teaching', 'silicon', 'inform', 'conjecture', 'allergy', 'music', 'risk', 'downstream', 'commerce', 'hypertensive', 'dynamic', 'activation', 'regional', 'replication', 'handling', 'every', 'coding', 'affect', 'solver', 'multiple', 'special', 'markers', 'believed', 'differentiated', 'squares', 'progression', 'crops', 'supports', 'u221e', 'companies', 'solution', 'viable', 'minimization', 'solid', 'vector', 'math', 'cholesterol', 'indices', 'sleep', 'markov', 'lagrangian', 'force', 'cooperative', 'excited', 'consistent', 'guidelines', 'estimates', 'direct', 'pulse', 'batch', 'feasibility', 'surrounding', 'second', 'avc', '49', 'infiltration', 'n', 'machines', 'institute', 'blue', 'established', 'errors', 'clinicians', 'organisms', 'specification', 'interactions', 'contributed', 'asia', 'decoding', 'postoperative', 'largescale', 'cores', 'en', 'localized', 'reconstruction', 'designing', 'resilient', 'new', 'net', 'contributes', 'ever', 'consisting', 'metadata', 'coefficient', 'evolving', 'million', 'simultaneously', 'evaluating', 'whose', 'divergence', 'never', 'residual', 'atoms', 'met', 'deposition', 'protection', 'china', 'provisioning', 'ethanol', 'represented', 'path', '100', 'diagnostic', 'patches', 'stresses', 'chaotic', 'property', 'attending', 'items', 'leaves', 'changed', 'approaches', 'reports', 'akt', 'tolerance', 'characterizing', 'smoke', 'complicated', 'fourier', 'adolescents', 'der', 'mutual', 'diameter', 'secure', 'classification', 'mobility', 'discontinuous', 'explained', 'highly', 'psychological', 'visible', 'modulated', 'moral', 'visualization', 'transformations', 'socioeconomic', 'counts', 'total', 'topics', 'unit', 'derivatives', 'sexual', 'quasi', 'dna', 'comments', 'decentralized', 'e1', 'hospital', 'mortality', 'negative', 'overhead', 'therefore', 'm2', 'assessment', 'separated', 'coupled', 'standardized', 'relay', 'populations', 'composite', '43', 'infusion', 'curvature', 'aware', '99', 'phone', 'warm', 'adult', 'excellent', '91', '90', 'hole', 'hold', '95', 'blocking', 'origin', 'must', 'abundance', 'intake', 'claims', 'word', 'room', '1997', 'characterize', '1999', '1998', 'mo', 'work', 'mi', 'theories', 'mammalian', 'oxide', 'tnf', 'temperatures', 'ms', 'mr', 'experts', 'root', 'example', 'indicated', 'give', 'programming', 'household', 'preserving', 'table', 'implementations', 'involve', 'indicates', 'hormone', 'scheduling', 'validated', 'guarantee', 'aging', 'admission', 'end', 'hoc', 'carriers', 'provide', 'verify', 'travel', 'damage', 'machine', 'faults', 'hot', 'toxin', 'adjacent', 'significance', 'toxic', 'gate', 'widespread', 'classify', '26', 'fever', 'description', 'undergoing', 'toxicity', 'thermodynamic', 'arthritis', 'conductivity', 'containing', 'diagram', 'polymerase', 'mesh', 'fat', 'involvement', 'law', 'meaningful', 'parallel', 'types', 'lyapunov', 'attempt', 'third', 'sets', 'recombination', 'fungi', 'hypotheses', 'recombinant', 'maintain', 'green', 'frequent', 'decreasing', 'balancing', 'preventive', 'operate', 'order', 'wind', 'operations', 'restriction', 'bipartite', 'cumulative', 'interpretation', 'feedback', 'over', 'fall', 'vary', 'satisfied', 'innovative', 'responsive', 'japan', 'gastrointestinal', 'nets', 'scoring', 'languages', 'position', 'ligand', 'fit', 'benign', 'personal', 'highlights', 'reconfigurable', 'expectations', 'exhibits', 'writing', 'survivors', 'production', 'condition', '400', 'transcriptional', 'anemia', 'uon', 'overcome', 'phenotype', 'versus', 'donors', 'them', 'affected', 'colorectal', 'combination', 'fragment', 'symbolic', 'safe', 'school', 'often', 'modification', 'hypoxia', 'therapy', 'effects', 'focus', 'schools', 'multidimensional', 'one', 'bank', 'structural', 'represents', 'several', 'vibrational', 'oxygen', 'recovery', 'queues', 'hamiltonian', 'l', 'fibrosis', 'deficient', 'charged', 'mrna', 'seedlings', 'acoustic', 'organized', 'interpolation', 'side', 'bone', 'mean', 'schemes', 'financial', 'covered', 'series', 'transient', 'platelets', 'principles', 'prolonged', 'line', 'literature', 'trading', 'combining', 'bands', 'laboratory', 'mothers', 'extract', 'message', 'fatty', 'rt', 'large', 'by', 'networked', 'network', 'driving', 'gradient', 'restricted', 'crucial', 'forty', 'vessels', 'content', 'combinatorial', 'rf', 'adapt', 'precision', 'assignment', 'medicine', 'newly', 'size', 'nitrogen', 'independence', 'foundation', 'pylori', 'linear', 'barrier', 'inos', 'ldlc', 'surveys', 'tg', 'standard', 'sensory', 'formation', 'chromosomal', 'sensors', 'heat', 'slope', 'tags', 'r2', 'created', 'diabetic', 'messages', 'moment', 'dispersal', 'tolerant', 'filter', '000', 'smokers', 'atp', 'signature', 'moving', 'transaction', 'onto', 'purpose', 'already', 'features', 'grade', 'assumptions', 'primary', 'rank', 'channels', 'adopted', 'another', 'implicated', 'neighborhood', 'electronic', 'illustrate', 'plasmapheresis', 'rated', 'likely', 'similarly', 'injected', 'top', 'engagement', 'girls', 'approximately', 'needed', 'perturbations', 'rates', 'observations', 'percentage', 'variational', 'dogs', 'glucose', 'urban', 'descriptors', 'enhancing', 'metabolites', 'et', 'arising', 'tool', 'realization', 'serve', 'took', 'formulate', 'japanese', 'weakly', 'western', 'programmable', 'nurse', 'developmental', 'broader', 'maintaining', 'positively', 'p53', 'december', 'approximation', 'anxiety', 'target', 'showed', 'structures', 'approximations', 'database', 'iteration', 'zero', 'final', 'preparation', 'matter', 'classes', 'circulation', 'historical', 'hdlc', 'biochemical', 'enables', 'acquisition', 'perspective', 'pervasive', 'fashion', 'nutrition', 'modern', 'eyes', 'glass', 'outperforms', 'rat', 'seed', 'interventions', 'inherit', 'seen', 'seem', 'regulate', 'contents', 'relatively', 'latency', 'strength', 'cardiac', 'mostly', 'person', 'climate', 'latter', 'responsible', 'isolated', 'predominantly', 'oriented', 'sound', 'recommended', 'causing', 'forces', 'transmit', 'systolic', 'isolates', 'effectiveness', 'completed', 'even', 'exactly', 'though', 'object', 'viscosity', 'accurately', 'metrics', 'extending', 'optimized', 'involving', 'carcinoma', 'ensure', 'letter', 'entry', 'phase', 'assessed', 'drought', 'materials', 'quantify', 'preferences', 'interannual', 'peers', 'clearance', 'observation', 'calculated', 'camp', 'lps', 'vertices', 'accounted', 'principle', 'enterprise', 'voting', 'consumer', 'notion', 'incomplete', 'heuristics', 'signatures', 'tgf', 'rayleigh', 'reductions', 'differed', 'doped', 'sage', 'least', 'infrared', 'soluble', 'attempts', 'radio', 'solutions', 'participate', 'earth', 'availability', 'lessons', 'execution', 'layout', 'just', 'became', 'implementation', 'situations', 'guidance', 'kinase', 'topological', 'maturation', 'pathological', 'screening', 'rich', 'integrate', 'adequate', 'rice', 'personality', 'plate', 'dl', 'mixture', 'cubic', 'wide', 'air', 'de', 'db', 'scalable', 'preferred', 'degradation', 'dynamically', '12', 'tuberculosis', 'despite', 'report', 'reviewed', 'ds', 'becomes', 'unfortunately', 'cancellation', 'runs', 'increasing', 'covering', 'fields', 'animation', 'consensus', 'microscopy', 'patch', 'twice', 'architecture', 'isolation', 'analytical', 'freshwater', 'automatic', 'setup', 'respond', 'ethical', 'reference', 'implies', 'sensitivity', 'testing', 'alterations', 'infectious', 'detection', 'analytics', 'depends', 'centric', 'radius', 'mature', 'fail', 'depressive', 'optimum', 'best', 'subject', '02', '03', '00', 'co2', 'capacity', '07', '04', '05', 'rare', 'away', 'meta', 'compensation', 'artificial', 'partition', 'symmetric', 'pressures', 'protected', 'interprofessional', 'cooperation', 'conceptual', 'drawn', 'occupational', 'previous', 'approach', 'discovery', 'galerkin', 'we', 'men', 'terms', 'reproduction', 'extend', 'nature', 'oxidation', 'component', 'weak', 'vitamin', 'wt', 'extent', 'contamination', 'modeling', 'flowering', 'holds', 'linkage', 'improve', 'suggested', 'behaviour', 'protect', 'providing', 'agonist', 'reported', 'resistant', 'cox', 'extracts', 'interstitial', 'heating', 'ventricular', 'players', 'merging', 'layered', 'games', 'une', '94', 'receiver', 'threads', 'requests', 'argue', 'adapted', 'asked', 'supplementation', 'negotiation', 'exhibit', 'appeared', 'character', 'recursive', 'excess', 'mutations', 'height', 'active', 'written', 'viruses', 'applicability', 'pregnancy', 'news', 'trust', 'conference', 'signals', 'abdominal', 'tc', 'basis', 'psychometric', 'three', 'quickly', 'extraction', '96', 'much', 'interest', 'basic', 'expected', 'collections', 'basin', 'contraction', 'pro', 'obese', 'life', 'families', 'efficacy', 'yeast', 'drugs', 'quantities', 'concerning', 'bladder', 'locations', 'coherent', 'substance', 'child', 'spin', 'applied', 'physician', 'inhibit', 'guarantees', 'antiretroviral', 'transformation', 'aim', 'calcium', 'near', 'teachers', 'aid', 'balance', 'k', 'procedure', 'savanna', 'seven', 'losses', 'played', 'ip', 'graphene', 'ir', 'it', 'iv', 'ii', 'player', 'grammars', 'tissue', 'traffic', 'il', 'in', 'comparative', 'pathology', 'mouse', 'id', 'grown', 'confirmed', 'dementia', 'severity', 'perform', 'suggest', 'make', 'recurrent', 'tactile', 'adopt', 'linked', 'complex', 'potentially', 'inventory', 'mixtures', 'controllers', 'lithium', 'rna', 'european', 'independent', 'satellite', 'du', 'myocardial', 'bits', 'numerical', 'hand', 'pharmacological', 'characters', 'potentials', 'computationally', 'opportunity', 'outputs', 'subgroups', 'prescribed', 'suitable', 'scenario', 'programs', 'changes', 'stimuli', 'cultural', 'deal', 'ocean', 'academic', 'contact', 'greatest', 'u03b5', 'simulated', '802', 'the', 'paradigm', '33', 'wider', 'left', 'seasonal', 'unified', 'world', 'protocol', 'birth', 'proposed', 'newton', 'ideas', 'assigned', 'proposes', 'bandwidth', 'identify', 'transforms', 'human', 'ecosystems', 'extracted', 'scattering', 'yet', 'projection', 'adding', 'unique', 'monitored', 'catalytic', 'candidate', 'sciences', 'similarities', 'regarded', 'strains', 'mirnas', 'ideal', 'passive', 'spread', 'transformed', 'easy', 'technological', 'allele', 'east', 'plasma', 'gave', 'elevation', 'reuse', 'advances', 'survival', 'measurement', 'possible', 'objective', 'fusion', 'sorting', 'item', 'background', '30', 'lymphoma', 'advanced', 'cognitive', 'multiplexing', '59', '58', '55', '54', '57', '56', '51', 'diffraction', '53', '52', 'specific', 'steps', 'persistence', 'malnutrition', 'hepatic', 'security', 'valence', 'signal', 'calculus', 'www', 'right', 'old', 'hierarchy', 'people', 'manual', 'refinement', 'successfully', 'elderly', '50', 'born', 'linearly', 'multichannel', 'rise', 'altered', 'indirect', 'repeated', 'separately', 'dense', 'cns', 'for', 'flux', 'stronger', 'electromagnetic', 'opposite', 'microwave', 'contributing', 'buffer', 'individuals', 'landscape', 'nitrate', 'unstable', 'cortical', 'genotypes', 'participation', 'ict', 'cord', 'core', 'epigenetic', 'algorithmic', 'bold', 'fish', 'elucidate', 'predicting', 'translated', 'metastatic', 'architectural', 'substitution', 'peer', 'post', 'manufacturing', 'super', 'properties', 'zur', 'stokes', 'limitation', 'attacks', 'months', 'anomalous', 'xfcr', 'o', 'essential', 'probabilities', 'plus', 'guest', 'eight', 'efforts', 'runtime', 'slightly', 'automatically', 'considerations', 'soc', 'managers', 'agile', '93', 'presence', 'haplotype', 'obtaining', 'bound', 'intellectual', 'combine', 'down', 'rendering', 'explain', 'coastal', 'balanced', 'reducing', 'methods', 'wavelet', 'rely', 'categorization', 'gis', 'compression', 'vaccination', 'transcript', 'support', 'initial', 'transform', 'diseases', 'width', 'accordingly', 'clinical', 'editor', 'fraction', 'resulted', 'call', 'metabolism', 'synthesis', 'lowest', 'multiscale', 'head', 'medium', 'form', 'offer', 'clinics', 'forming', 'becoming', 'differences', 'analyse', 'oil', 'acute', 'wireless', 'failure', 'economic', 'multiprocessor', 'incorporation', 'solar', 'estimation', 'encoded', 'patient', 'removed', 'true', 'watermarking', 'especially', 'week', 'absent', 'reproductive', 'versions', 'arrays', 'type', 'inside', 'equalization', 'bounds', 'vivo', 'converters', 'crystal', 'phosphate', 'complications', 'adenosine', 'emotional', 'stages', 'optimisation', 'biometric', 'examples', '150', 'medication', 'proved', 'organizational', 'computing', 'implications', 'abstract', 'store', 'proven', 'evidence', 'gland', 'conserved', 'exist', 'simulations', 'accounting', 'usability', 'distributions', 'check', 'regime', 'ni', 'xb5g', 'epidemiological', 'nm', 'no', 'xb5m', 'na', 'whereas', 'generally', 'nf', 'reality', 'successful', 'setting', 'role', 'papers', 'np', 'ns', 'nt', 'operators', 'mri', 'node', 'picture', 'diagrams', 'delivered', 'models', 'constructs', 'mechanical', 'bottom', 'diet', 'outpatient', 'concurrent', 'scores', 'variable', 'discharge', 'died', 'younger', 'longer', 'disruption', 'assume', 'typically', 'interval', 'packets', 'domination', 'together', 'icc', 'reversible', 'egfr', 'time', 'lipoprotein', 'nuclei', 'quantity', 'debate', 'participating', 'urinary', 'now', 'concept', 'managed', 'chain', 'switched', 'particular', 'alternatives', 'atmosphere', 'leads', 'mild', 'delays', 'ice', 'computation', 'skin', 'morphology', 'abundant', 'milk', 'retention', 'layers', 'amplification', 'depend', 'mpeg', 'disorders', 'dominated', 'graph', 'technique', 'editors', 'experimentally', 'environment', '0', 'finally', 'promoting', '97', 'elliptic', 'discovering', 'crystals', 'conservation', 'division', 'indoor', 'string', 'advantage', 'orthogonal', 'mathjax_main', 'frequencies', 'mg', 'macrophages', 'choice', 'uml', 'ma', 'exact', 'partitions', 'perceived', 'respiratory', 'clouds', 'presented', 'die', 'tex', 'mb', 'standards', 'discrete', 'enos', 'team', 'loads', 'perceptual', 'round', 'prevent', 'mn', 'occurrence', 'oscillation', 'hepatitis', 'trend', 'u200a0', 'maximization', 'prediction', 'cyber', 'sign', 'cost', 'uk', 'eating', 'defining', 'targets', 'spectral', 'psychosocial', 'appear', 'moments', 'uniform', 'current', 'switch', 'health', 'template', 'international', 'staff', 'satisfy', 'supporting', 'pose', 'transportation', 'denoising', 'genes', 'french', 'understanding', 'water', 'coloring', 'groups', 'congestion', 'alone', 're', 'along', 'stem', 'appears', 'change', 'box', 'arc', 'thirty', 'precursor', 'shift', 'studied', 'commonly', 'queue', 'trial', 'multicast', 'throughput', 'diagnosed', 'pediatric', 'domains', '10', 'xe9s', 'studies', 'tasks', 'regardless', 'extra', 'inducing', 'logical', 'spanish', 'flexibility', 'receptors', 'marker', 'illumination', 'rarely', 'maintained', 'transplant', '0px', 'additive', 'working', 'reactive', 'ca2', 'visit', 'predictions', 'optimize', 'scenarios', 'live', 'explicitly', 'prey', 'memory', 'films', 'enriched', 'australian', 'theoretical', 'today', 'rainfall', 'sharing', 'duality', 'sessions', 'india', 'acceptable', 'apparent', 'validity', 'visual', 'rigid', 'corresponding', 'cases', 'given', 'effort', 'insights', 'fly', 'organizations', 'valued', 'collision', 'constraint', 'ibd', 'modified', 'reviews', 'labeled', 'ligase', 'vegf', 'can', 'tracing', 'growing', 'making', 'trans', 'stimulating', 'cad', 'heart', 'dedicated', 'multipath', 'nursing', 'stream', 'predict', 'attribute', 'chip', 'sense', 'agent', 'topic', 'stroke', 'incremental', 'performed', 'allowed', 'handle', 'spanning', 'simulation', 'hydrogen', 'occur', 'scalar', 'redundancy', 'monitoring', 'winter', 'tube', 'divided', 'erratum', 'activated', 'species', '1', 'immune', 'vital', 'criterion', 'approximating', 'pure', 'optimal', 'absolute', 'parameter', 'pathway', 'economy', 'map', 'product', 'explores', 'information', 'may', 'overall', 'use', 'southern', 'needs', 'residues', 'applications', 'mac', 'explored', 'snr', 'designed', 'snp', 'islands', 'floral', 'representations', 'revealed', 'annotation', 'processors', 'stress', 'natural', 'dynamical', 'liquid', 'beam', 'sr', 'turbo', 'sp', 'explicit', 'sigma', 'ghz', 'st', 'q', 'sj', 'annealing', 'so', 'gamma', 'african', 'sc', 'definitions', 'pollution', 'sf', 'se', 'typical', 'forced', 'acts', 'nerve', 'indeed', 'thresholds', 'epilepsy', 'mainly', 'infections', 'nonparametric', 'argues', 'stability', 'brain', 'episodes', 'experiments', 'statistical', 'coli', 'argued', 'cold', 'still', 'ieee', 'birds', 'tendency', 'markovian', 'observational', 'derive', 'group', 'monitor', 'interesting', 'facility', 'lesions', 'decreases', 'resection', 'forms', 'platform', 'window', 'offers', 'tillage', 'policy', 'decreased', 'main', 'decades', 'correspondence', 'non', 'hop', 'recipients', 'views', 'ros', 'processes', 'introduce', 'chromatic', 'scaling', 'records', 'half', 'not', 'feature', 'servers', 'provision', 'ordinary', 'developments', 'nos', 'susceptibility', 'term', 'workload', 'organ', 'january', 'times', 'settings', 'proteins', 'establishing', 'possibilities', 'realistic', '25', 'instability', 'em', 'el', 'domain', 'weighted', 'significantly', 'secondary', 'ed', 'abnormal', 'gaussian', 'ec', 'challenges', 'prognosis', 'abstraction', 'ex', 'year', 'symptoms', 'cytokine', 'mapping', 'ev', 'es', 'plans', 'canada', 'living', 'shown', 'medications', 'hcv', 'space', 'furthermore', 'algebra', 'interference', 'rational', 'increase', 'modulation', 'contained', 'investigation', 'assays', 'emerged', 'internet', 'suggesting', 'formula', 'receiving', 'sensor', 'correct', 'shows', 'biomedical', 'earlier', 'theory', 'pathogenic', 'variant', 'xe9es', 'mechanisms', 'possibility', 'quite', 'advantages', 'besides', 'org', 'marine', 'e3', 'care', 'advance', 'training', 'fixed', 'language', 'methylation', 'amyloid', 'transition', 'iterative', 'forecast', 'british', 'sediment', 'motion', 'turn', 'place', 'massive', 'childhood', 'substrates', '1000', 'emotion', 'schema', 'wlan', 'symmetry', 'reveals', 'variables', 'nutritional', 'comprised', 'amino', 'simplified', 'fast', 'directly', 'specificity', 'carry', 'ring', 'open', 'horizontal', 'constructing', 'and', 'city', 'little', 'necessarily', 'genotype', 'permutation', 'structured', 'europe', 'establishment', 'stimulation', 'indicate', 'cooling', '2', 'constants', 'moisture', 'articles', 'white', 'participated', 'frame', '3', 'exploring', 'mining', 'way', 'apoptotic', 'cope', 'asymmetric', 'season', 'branch]', 'continuous', 'obtained', 'undertaken', 'broadcast', 'released', 'imagery', 'fresh', 'packet', 'pathogens', 'probably', 'occurring', 'copy', 'representing', 'semantics', 'population', '11', 'professionals', '13', 'albumin', '15', 'effective', '17', '16', '19', '18', 'require', 'war', 'r', 'outcome', 'transport', 'published', 'pre', 'raman', 'addressing', 'illness', 'matched', 'remained', 'correction', 'measure', 'argument', 'generalization', 'ant', 'medical', 'delta', 'abnormalities', 'duration', 'conversion', 'date', 'fpga', 'exploratory', 'efficient', 'transcription', 'complexity', 'note', 'equipment', 'emphasis', 'potential', 'take', 'fracture', 'online', 'interior', 'performance', 'personalized', 'concern', 'impairment', 'switching', 'channel', '200', 'chromosomes', 'trace', 'investigations', 'track', 'mjxp', 'price', 'correlation', 'molecule', 'dioxide', 'algebraic', 'beta', 'importantly', 'tract', 'pair', 'interconnection', 'america', 'inhibitory', 'haptic', 'renal', 'considered', 'average', 'later', 'steady', 'drive', 'ways', 'peptides', 'cortex', 'nuclear', 'professional', 'salt', 'atlantic', 'laws', 'precise', 'rating', 'walking', 'qos', 'regulated', 'show', 'german', 'atom', 'synchronous', 'contemporary', 'discovered', 'spaces', 'sustained', 'threshold', 'aggressive', 'qol', 'data', 'injection', 'ground', 'xml', 'slow', 'ratio', 'daily', 'representation', 'proportion', 'behind', 'texture', '42', 'analytic', 'only', 'wood', 'black', 'parabolic', 'extracellular', 'awareness', 'first', 'ranking', 'closed', 'get', 'sst', 'morphological', 'nobr', 'nearly', 'invariant', 'conjunction', 'neither', 'gel', 'closure', 'reveal', 'regarding', 'resource', 'radar', 'bifurcation', 'median', 'yield', 'summary', 'predicted', 'mapped', 'vision', 'irradiation', 'compressed', 'concert', 'attenuated', 'maximum', 'relative', 'namely', 'college', 'devices', 'staining', 'wideband', 'stigma', 'surgery', 'uthe', 'points', 'surfaces', 'detect', 'inequalities', 'compounds', 'managing', 'subsequent', 'review', 'receivers', 'circulating', 'sites', 'label', 'boundaries', 'importance', 'outside', 'affecting', 'cancers', 'geometric', 'reading', 'across', 'therapies', 'verification', 'arrival', 'gives', 'infrastructure', 'jobs', 'august', 'vertical', 'parental', 'screen', 'queueing', 'citation', 'flow', 'rapidly', 'heterogeneous', 'implemented', 'fluctuations', 'analyzed', 'article', 'detecting', 'cervical', 'suppressed', 'pixels', 'biosynthesis', 'perceptions', 'efficiency', 'ua', 'region', '23', 'emergency', 'according', 'contract', 'called', 'enabling', 'propagation', 's', 'uc', 'embedding', 'expression', 'among', 'forecasting', 'filtering', 'cancer', 'characterization', 'color', 'overview', 'robotics', 'colony', 'period', 'sampling', '60', '61', 'exploit', '63', 'anti', '65', '66', '67', '68', 'moreover', 'considers', 'noisy', 'logic', 'considering', 'better', 'combines', 'tuning', 'capable', 'west', 'locally', 'informed', 'detected', 'tropical', 'incubation', 'workshop', 'deposited', 'combined', 'deformable', 'linguistic', 'prototype', '500', 'engine', 'direction', 'enable', 'reaction', 'offered', 'formed', 'photon', 'observe', 'optimality', 'external', 'bayesian', 'former', 'protocols', 'pilot', 'case', 'developing', 'single', 'profiles', 'deformation', 'ongoing', 'shear', 'policies', 'promising', 'situation', 'hdl', 'margin', 'methodologies', 'maximal', 'planar', 'orientation', 'prevalence', 'characteristics', 'metric', 'edge', 'deficits', 'middle', 'bias', 'attributed', 'ambient', 'motivated', 'protein', 'technology', 'ubiquitin', 'binary', 'different', 'develop', 'interdisciplinary', 'april', 'media', 'pigs', 'respondents', 'surveillance', 'shifts', 'authentication', 'speech', 'arguments', 'streams', 'constructed', 'events', 'status', 'reasoning', 'investigated', 'singapore', 'assist', 'driver', 'driven', 'persons', 'running', 'fruit', 'investigates', 'intended', 'changing', 'validate', 'functionality', 'cr', 'six', 'relies', 'antibodies', 'tracking', 'modes', 'largely', 'minimize', 'incorporated', 'severe', 'costs', 'poplar', 'components', 'communications', 'coordinate', 'model', 'otherwise', 'dimension', 'researchers', 'consisted', 'summer', 'being', 'guided', 'ci', 'rest', 'encryption', 'inflammatory', 'aspect', 'differentiation', 'behavioural', 'ng', 'speed', 'captured', 'heuristic', 'polar', 'death', 'antagonist', 'cm', 'generator', '974em', 'thinking', 'ordered', 'conclude', 'seems', 'except', 'improvement', 'instrument', 'treatment', 'samples', 'coded', 'extensive', 'ca', 'momentum', 'real', 'aspects', 'around', 'eigenvalue', 'read', 'digital', 'harmonic', 'dark', 'test', 'inhibition', 'grid', 'preference', 'mol', 'reconfiguration', 'amp', 'accepted', 'predictors', 'satisfaction', 'graphics', 'particle', 'identifying', 'aqueous', 'collective', '62', 'server', 'agreement', 'benefit', 't', 'neuronal', 'clay', 'resolved', 'colon', 'inter', 'stationary', 'intestinal', 'satisfactory', 'classified', 'learning', 'exposed', 'conditional', 'generalized', 'competition', 'presentation', 'specified', 'images', 'subtypes', 'questionnaire', 'intact', 'organizing', 'interleukin', 'users', 'provided', 'manipulator', 'genetics', 'dimensions', 'confirm', 'cavity', 'ability', 'recorded', 'extensively', 'legal', 'depletion', 'critical', 'decomposition', 'provides', 'provider', 'mathcal', 'moderate', 'o2', 'doi', 'measuring', 'wheat', 'reasonable', 'power', 'tree', 'equivalent', 'fitness', 'tumour', 'update', 'notably', 'polynomials', 'ratios', 'found', 'mmol', 'kernel', '_', 'comparison', 'stone', 'central', 'stations', 'of', 'disabilities', 'violence', 'discussed', 'generated', 'classifier', 'tumor', 'polymorphic', 'estimator', 'supervised', 'greatly', 'neighbor', 'act', 'mixed', 'bond', 'os', 'or', 'road', 'enhancement', 'u2019', 'client', 'inclusion', 'communication', 'image', 'numerically', 'markedly', 'spinal', 'accounts', 'determine', 'einstein', 'operator', 'spline', 'theoretically', 'intervention', 'performing', 'methyl', 'logics', 'log', 'area', 'assumed', '1038', 'cultured', 'dispersion', 'start', 'fir', 'low', 'italic', 'secretion', 'cultures', 'u2013', 'allergic', 'hard', 'emergence', 'complete', 'newtonian', 'enough', 'regard', 'delayed', 'amongst', 'displacement', 'posterior', 'land', 'cycle', 'clones', 'impedance', 'technologies', 'promote', 'proposal', 'faster', 'regimen', 'october', 'applying', 'improved', 'embedded', 'robustness', 'ontologies', 'nearest', 'emissions', 'polymorphisms', 'purified', 'grass', 'beliefs', 'regimes', 'aa', 'ab', 'autoimmune', 'ad', 'ag', 'modules', 'describe', 'metastasis', 'al', 'deep', 'general', 'substantially', 'as', 'reliability', 'hypertension', 'at', 'file', 'aids', 'diversity', 'gradients', 'hospitals', 'intra', 'film', 'processed', 'multilevel', 'assessing', 'raised', 'antenna', 'administered', 'storage', '2000', 'igg', 'tight', 'ige', 'valid', '5', 'underwater', 'spatial', 'antimicrobial', 'forcing', 'immunity', 'presenting', 'deviation', 'fourth', 'briefly', 'bmi', 'phys', 'collaborative', 'bacillus', 'students', 'symbol', 'enrolled', 'drift', 'm', 'includes', 'tetracycline', 'important', 'bounded', 'peak', 'coverage', 'serious', 'included', 'flexible', 'pool', 'building', 'gastric', 'remote', 'bilateral', 'calls', 'odds', 'acids', 'curve', 'pseudo', 'nitric', 'inhibited', 'u', 'parallelism', 'behavioral', 'nutrient', 'signalling', 'starting', 'original', '98', 'represent', 'monte', 'influenza', 'sci', 'consider', 'chinese', 'caused', 'lack', 'splitting', 'month', 'surgical', 'systemic', 'u03bc', 'zinc', 'smoking', 'follow', 'expressions', 'u03bb', 'decisions', 'children', 'causes', 'synthetic', 'responsiveness', 'rights', 'number', 'adhesion', 'tv', 'subjected', 'equivalence', 'participants', 'opportunities', 'removal', 'to', 'program', 'enhance', 'stochastic', 'nodes', 'heterogeneity', 'tb', 'endogenous', 'norm', 'ra', 'activities', 'belonging', 'woman', 'incorporate', 'far', 'apoptosis', 'peaks', 'induce', 'resistance', 'vertex', 'worst', 'transcriptome', 'approximate', 'laser', 'gait', 'difference', 'u2019s', 'uwe', 'treating', 'themes', 'neurological', 'rewriting', 'unlike', 'impact', 'stimulus', 'evaluation', 'list', 'applicable', 'phosphorylation', 'sliding', 'random', 'circuit', 'small', 'biological', 'handwritten', 'programme', 'employing', 'rats', 'glioma', 'ten', 'split', 'past', 'tumours', 'rate', 'perception', 'design', 'displays', 'pass', 'solvent', 'choices', 'investment', 'canonical', 'residue', 'nonlinear', 'cues', 'sub', 'consumers', 'clock', 'sum', 'brief', 'emotions', 'thickness', 'public', 'version', 'attitudes', 'sur', 'fractional', 'learned', 'method', 'contrast', 'movement', 'segmentation', 'full', 'editorial', 'malaria', 'ranged', 'modify', 'vomiting', 'ranges', 'modular', 'selective', 'operating', 'free', 'relaxation', 'directions', 'strong', 'equations', 'revisited', 'publisher', 'search', 'zone', '14', 'inspired', 'compliance', 'allows', 'experience', 'prior', 'amount', 'periodic', 'social', 'action', 'xb10', 'pulmonary', 'narrow', 'options', 'headache', 'via', 'followed', 'family', 'polymer', 'requiring', 'demands', 'africa', 'endothelial', 'und', 'href', 'analyzing', 'aimed', 'trained', 'establish', 'estimate', 'select', 'readily', 'recurrence', 'conventional', 'eye', 'takes', 'vlsi', 'improves', 'distinct', 'objectives', 'contains', 'two', 'induction', 'u201d', 'comparing', 'automata', 'xa00', 'mirna', 'soil', 'taken', 'injury', 'markets', 'achieving', 'minor', 'flat', 'neuron', 'populus', 'initiated', 'definition', 'coating', 'company', 'corrected', 'emission', 'site', 'tested', 'antibiotics', 'controlling', 'impulse', 'varying', 'known', 'producing', 'document', 'ml', 'none', 'organization', 'cluster', 'opportunistic', 'recall', 'equation', 'des', 'huge', 'remain', 'examined', 'nine', 'indicating', 'evolved', 'learn', 'strategies', 'male', 'specialized', 'broad', 'history', 'ions', 'compare', 'computers', 'challenging', 'impacts', 'scan', 'lives', 'correctness', 'lightweight', 'share', 'ann', 'days', 'states', 'sphere', 'minimum', 'numbers', 'arise', 'offspring', 'simple', 'axis', 'terrestrial', 'influenced', 'respective', 'answer', 'goal', 'liver', 'rather', 'csf', 'utilize', 'regression', 'maps', 'functioning', 'influences', 'movements', 'ensemble', 'interoperability', 'recording', 'plant', 'ubiquitous', 'w', 'prognostic', 'cohort', 'wiley', 'derived', 'long', 'reflect', 'connectivity', 'plane', 'fe', 'waves', 'invasion', 'evaluations', 'wave', 'response', 'a', 'unstructured', 'short', 'enzymes', 'author', 'parameterized', 'diets', 'broadcasting', 'fundamental', 'inline', 'element', 'geographic', 'egg', 'retrieval', 'infant', 'help', 'enhances', 'developed', 'urine', 'major', 'distortion', 'held', 'thermal', 'paper', 'filters', 'signs', 'existence', 'kinetic', 'suffer', 'roots', 'cardiovascular', '24', 'member', 'style', '27', '20', '21', '22', 'sodium', 'energies', 'matrices', 'lateral', 'solving', '28', '29', 'actually', 'late', 'absence', 'microscopic', 'systems', 'inlineequation', 'pca', 'might', 'alter', 'good', 'return', 'spatio', 'evaluate', 'seeking', 'food', 'propose', 'males', 'vitro', 'framework', 'terrain', 'compound', 'communities', 'yr', 'nucleus', 'crohn', 'association', 'easily', 'subunit', 'shop', 'pregnant', 'coping', 'always', 'level', 'labeling', 'intrusion', 'capability', 'micro', 'inequality', 'radial', 'monsoon', 'inherent', 'ifn', 'adc', 'out', 'characterized', 'referred', 'heavy', 'reactions', 'shock', 'mental', 'weight', 'p', 'generation', 'hundred', 'energy', 'interviews', 'reduce', 'u2014', 'circadian', 'extended', 'doses', 'quantum', 'operation', 'beyond', 'event', 'substrate', 'alcohol', 'solved', 'since', 'induces', 'viability', 'research', 'si', 'acting', 'mucosal', 'safety', '7', 'induced', 'issue', 'occurs', 'fiber', 'strain', 'belief', 'localization', 'monotone', 'gut', 'mmp', 'difficulty', 'reason', 'base', 'alzheimer', 'imaging', 'members', 'airway', 'put', 'beginning', 'generate', 'wall', 'temperature', 'allocation', 'pairs', 'benefits', 'service', 'thread', 'utilization', 'positioning', 'success', 'accumulation', 'conducted', 'edges', 'threat', 'twenty', 'consequence', 'u03b4', 'cdma', 'u03b1', 'exhibited', 'u03b3', 'u03b2', 'feed', 'copper', 'formulas', 'utilizes', 'probability', 'encoding', 'radical', 'robotic', 'reflected', 'instances', 'utilized', 'smaller', 'done', 'defects', 'cronbach', 'fluxes', 'infinite', 'stage', 'idea', 'trade', 'differ', 'perturbation', 'symptom', 'findings', 'jet', 'script', 'introduction', 'leading', 'interact', 'internal', 'construct', 'swarm', 'regulation', 'station', 'identity', 'calculations', 'dealing', 'gpu', 'scheme', 'quadratic', 'recovered', 'gps', 'spp', 'imperfect', 'option', 'relationship', 'pcr', 'bowel', 'retinal', 'immediate', 'required', 'basal', 'employ', 'assumption', 'part', 'signaling', 'authors', 'focusing', 'translation', 'believe', 'corpus', 'center', 'diffusion', 'discrimination', 'kind', 'john', 'determines', 'cyclic', 'double', 'instruction', 'dans', 'aims', 'ranging', 'youth', 'nevertheless', 'determined', 'contrary', 'risks', 'beneficial', 'toward', 'treated', 'interactive', 'motivation', '92', 'derivative', 'ages', 'defect', 'randomly', 'substantial', 'traits', 'concentration', 'null', 'organs', 'orders', 'vulnerable', 'paths', 'built', 'depending', 'essentially', 'self', '[[china', 'nucleotide', 'bacteria', 'onset', 'majority', 'without', 'build', 'genetically', 'donor', 'uplink', 'tensor', 'microarray', 'play', 'towards', 'electric', '64', 'vibration', 'english', 'reach', 'charge', '77', '76', '75', '74', '73', 'plan', '71', '70', 'services', 'alpha', 'probabilistic', 'numerous', '79', '78', 'value', 'audio', 'kg', 'mineral', 'unsupervised', 'mobile', 'industry', 'clear', 'sometimes', 'cover', 'km', 'salinity', 'traditional', 'dissolved', 'optical', 'electrons', 'bodies', 'caching', 'velocity', 'subgroup', 'physics', 'assisted', 'sector', 'antibiotic', 'particularly', 'phenomenon', 'gold', 'disturbances', 'norms', 'session', 'relation', 'malignant', 'algorithms', 'font', 'fine', 'networks', 'faces', 'completion', 'cell', 'indicator', 'datasets', 'inductive', 'simulating', 'northern', 'queries', 'nervous', 'distributed', 'u2212', 'incidence', 'classifiers', 'failed', 'enzyme', 'sequential', 'colitis', 'factor', 'u0394', '8', 'accurate', 'indian', 'prevented', 'dominant', 'gains', 'hiv', 'distance', 'dependent', 'connections', 'sparse', 'biopsy', 'dry', 'trees', 'cd4', 'synchronization', 'valuable', 'closely', 'relational', 'combinations', 'critically', 'dose', '69', 'untreated', 'inducible', 'u03bab', 'crp', 'roles', 'progressive', 'tumors', 'cry', 'factorization', 'hyperbolic', 'investigate', 'underlying', 'common', 'logistic', 'activity', 'sustainable', 'x', 'river', 'voltage', 'scanning', 'set', 'art', 'proximal', 'september', 'achieved', 'enabled', 'u2264', 'u2265', 'potent', 'sex', 'achieves', 'culture', 'see', 'individual', 'gaps', 'migration', 'sea', 'close', 'u200a', 'theoretic', 'arm', 'analog', 'sequences', 'project', 'expert', 'directional', 'currently', 'grids', 'coordination', 'libraries', 'platelet', 'various', 'homeostasis', 'vascular', 'pairwise', 'avoidance', 'conditions', 'available', 'profiling', 'recently', 'creating', 'sampled', 'targeted', 'complement', 'attention', 'scalability', 'incident', 'disturbance', 'interface', 'asthma', 'observer', 'minimizing', 'shared', 'c', 'last', 'reverse', 'desired', 'annual', 'packing', 'foreign', 'sensitive', 'connection', 'les', 'context', 'focused', 'extracting', 'whole', 'fairness', 'experimental', 'healing', 'load', 'flies', 'regulates', 'distress', 'study', 'supply', 'battery', 'address', 'community', 'dimensional', 'dietary', 'simply', 'adaptation', 'consideration', 'throughout', 'expensive', 'pr', 'ps', 'pp', 'described', 'perspectives', 'pt', 'lattice', 'syndrome', 'create', 'acceptance', 'political', 'due', 'screened', 'pb', 'pc', 'reduction', 'describes', 'initiation', 'pg', 'pd', 'pe', 'collected', 'adoption', 'ph', 'pi', 'meeting', 'xae', 'u03c0', '4', 'generating', 'partly', '0001', 'kalman', 'fire', 'gas', '39', 'modelling', 'spectrum', 'usage', 'biodiversity', 'determination', 'representative', 'systematic', 'demand', 'plasmas', 'ligands', 'plants', 'xa9', 'texatom', 'uncertain', 'look', 'exponential', 'raw', 'xa0', 'reliable', 'expanded', 'empirical', 'evaluated', 'receive', 'decoder', 'optimization', 'translocation', 'match', 'behavior', 'error', 'socio', 'transcripts', 'guide', 'loop', 'manner', 'identical', 'detailed', 'larger', 'wild', 'century', 'spontaneous', 'von', 'binding', 'saturation', 'encountered', 'neurons', 'meshes', '35', 'triple', 'simulator', 'currents', 'increased', 'saline', 'aged', 'baseline', 'fibers', 'lengths', 'intrinsic', 'elevated', 'fading', 'shorter', 'rules', 'arabidopsis', 'simultaneous', 'deletion', 'uncertainty', '9', 'products', 'ray', 'composition', 'conflict', 'higher', 'development', 'used', 'poisson', 'regulator', 'ratings', 'comprehensive', 'overweight', 'flows', 'usually', '001', 'levels', 'uses', 'user', 'resonance', 'aggregate', 'robust', 'residents', 'focal', 'recent', 'early', 'lower', 'task', 'older', 'navigation', 'myeloma', 'analysis', 'concrete', 'associative', 'body', 'regulating', 'consistency', 'y', 'five', 'chemistry', 'parametric', 'prevention', 'pollen', 'distances', 'ce', 'abilities', 'burden', 'cultivars', 'hypothesized', 'observed', '264', 'competitive', 'ldl', 'press', 'shape', 'intervals', 'atomic', 'questions', 'using', 'inference', 'alternative', 'fluorescence', 'alignment', 'fmri', 'gt', 'cut', 'remission', 'conclusions', 'workers', 'fitting', 'dc', 'possibly', 'source', 'subjects', 'parents', 'location', 'theorem', 'relevance', 'input', 'prominent', 'remaining', 'hybridization', 'associations', 'petri', 'customers', 'australia', 'march', 'lacking', 'format', 'big', 'showing', 'uwb', 'aggregation', 'finding', 'game', 'marked', 'visualizing', 'integer', 'bit', 'precipitation', 'weights', 'projects', 'formal', 'insect', 'modifications', 'mutants', 'd', 'semi', 'shaped', 'systematically', 'follows', 'interestingly', 'shapes', '0em', 'continue', 'yields', 'cereus', 'popular', 'eeg', 'fault', 'disorder', 'healthy', 'actin', 'mathematical', 'ecology', 'anomalies', 'metabolic', 'spring', 'creation', 'back', 'stimulated', 'global', 'understood', 'trends', 'added', 'pricing', 'oscillations', 'multiuser', 'ofdm', 'investigating', 'pronounced', 'scale', 'describing', 'pet', 'affects', 'decision', 'measurements', 'integration', 'per', 'market', 'innovation', 'fragments', 'minimal', 'either', 'fluids', 'measures', 'run', '300', 'nasal', 'processing', 'phylogenetic', 'fed', 'colonization', 'bt', 'step', 'bp', 'biomarkers', 'output', 'plots', 'relating', 'intense', 'vaccine', 'hidden', 'usa', 'complexes', 'differentially', 'prove', 'virus', 'methodology', 'range', 'regular', 'extensions', 'modal', 'positive', 'experiences', 'replacement', 'consequently', 'block', '72', 'anterior', 'repair', 'computational', 'significant', 'within', 'integral', 'efflux', 'locus', 'appropriate', 'mitochondrial', 'selected', 'primarily', 'frames', 'proportional', 'inhibitors', 'clustering', 'uncertainties', 'statistics', 'span', 'classical', 'extremely', 'hyperspectral', 'question', 'specifically', 'fully', 'infected', 'rfid', 'forward', 'examination', 'analyze', 'sections', 'files', 'considerably', 'kb', 'adjusting', 'criteria', 'chromatography', 'boys', 'properly', 'link', 'pacific', 'scope', 'clarify', 'pain', 'considerable', 'deployed', 'directed', 'inverse', 'partitioning', 'rejection', 'leakage', 'platforms', 'circuits', 'characteristic', 'middleware', 'uv', 'up', 'us', 'par', 'cis', 'windows', 'un', 'exploration', 'u2032', 'spectroscopy', 'performances', 'continuously', 'highlight', 'autonomous', 'z', 'similar', 'tanzania', 'recognition', 'v', 'constant', 'adults', 'introducing', 'defined', 'metal', 'recommendation', 'influence', 'metals', 'package', 'globally', 'blot', 'engineering', 'diverse', 'tomography', 'formalism', 'kidney', 'cotton', 'codes', 'amounts', 'u22122', 'xb1', 'xb0', 'matching', 'preventing', 'application', 'priori', 'electrical', 'genome', 'income', 'department', 'influencing', 'arithmetic', 'elements', 'generates', 'excitation', 'viral', 'problems', 'robots', 'visits', 'prepared', 'spatially', 'meaning', 'restoration', 'allowing', 'suppression', 'vectors', 'structure', 'bases', 'independently', 'correlated', 'e', 'algorithm', 'mating', 'age', 'vehicles', 'kinetics', 'barriers', 'institutions', '2002', '2003', 'depth', '2001', 'correlates', '2007', '2004', '2005', 'failures', '2008', '2009', 'requires', 'enrichment', 'stones', 'code', 'partial', 'rr', 'gp', 'delivery', 'amplifier', 'results', 'existing', 'illustrated', 'fungal', 'gc', 'pathogenesis', 'ga', 'go', 'query', 'amplified', 'adjustment', 'contributions', 'centers', 'issues', 'compact', 'concerned', 'deterministic', 'young', 'intensive', 'helps', 'excluded', 'stable', 'weather', 'include', 'dramatically', 'resources', 'inflammation', 'tabindex', 'probe', 'assay', 'expressing', 'susceptible', 'automotive', 'phenotypes', 'schedule', 'affinity', 'sar', 'electron', 'cellular', 'mixing', 'artery', 'drinking', 'continued', 'categories', 'nausea', 'severely', 'transmission', 'positions', 'array', 'integrating', 'fewer', 'intravenous', 'deals', 'race', 'fractions', 'obesity', 'inspection', 'noted', 'mm', 'configurations', 'concluded', 'limitations', 'zn', 'averaged', 'bleeding', 'antigen', 'ubackground', 'mediterranean', 'biomass', 'crop', 'fold', 'video', 'traveling', 'insertion', 'assembly', 'dynamics', 'acid', 'carlo', 'elisa', 'depression', 'scientific', 'u03bcg', 'index', 'plays', 'business', 'giving', 'u03bcm', 'multimedia', 'expressed', 'find', 'access', 'consistently', 'experiment', 'vehicular', 'capital', 'mathjax', 'values', 'exercise', '3d', 'dysfunction', 'multivariate', 'proliferation', 'led', 'degree', 'exchange', 'respectively', 'commercial', 'analysed', 'following', 'explore', 'objects', 'let', 'rasch', 'separation', 'others', 'oxidative', 'latent', 'implicit', 'extreme', 'great', '38', 'respiration', 'technical', '32', '31', 'brazil', '37', '36', 'membrane', '34', 'suggests', 'resulting', 'insulin', 'manipulators', 'ovarian', 'implement', 'gene', 'makes', 'sup', 'involves', 'composed', 'examining', 'named', 'formulated', 'stabilization', 'addresses', 'scales', 'app', 'manage', 'private', 'outcomes', 'addressed', 'boolean', 'decrease', 'motor', 'apply', 'administration', 'tools', 'causal', 'cloud', 'relaying', 'standing', 'confidence', 'ontology', 'chd', 'asymptotic', 'consumption', 'remains', 'bi', 'next', 'calculation', 'camera', 'estimated', 'vehicle', 'panel', 'burst', 'reflects', 'optimizing', 'on', 'started', 'trait', 'benchmark', 'occurred', 'infection', 'carrying', 'virulence', 'normalized', 'antennas', 'u20132', 'u20131', 'u20130', 'iii', 'women', 'customer', 'sample', 'account', 'animals', 'f', 'this', 'females', 'challenge', 'clients', '6', 'pour', 'tag', 'thin', 'island', 'industrial', 'meet', 'inhibitor', 'rehabilitation', 'steiner', 'proof', 'control', 'habitats', 'links', 'providers', 'process', 'loci', 'purposes', 'xb0c', 'high', 'effectively', 'dm', 'employs', 'sought', 'serial', 'voice', 'native', 'practical', 'educational', 'united', 'varied', 'verified', 'genomes', 'serum', 'regions', 'located', 'u2022', 'carrier', 'forest', 'animal', 'venous', 'instead', 'intelligent', 'circular', 'profile', 'tension', 'express', 'maternal', 'singular', 'specifications', 'waters', 'aureus', 'regularization', 'hazard', 'fluid', 'concentrations', 'loading', 'fatigue', 'psychiatric', 'demonstrating', 'ethnic', 'multiplication', 'requirements', 'marrow', 'yielded', 'prostate', 'efficiently', 'realized', 'discusses', 'physical', 'overexpression', 'computations', 'antibody', 'many', 'lines', 'microbial', 'redundant', 'processor', '2d', 'allow', 'healthcare', 'american', 'subsequently', 'mjx', 'discussion', 'complementary', 'breast', 'evolutionary', 'coordinated', 'produces', 'institutional', 'insight', 'oral', 'interpreted', 'sperm', 'pulses', 'gender', 'mentioned', 'agricultural', 'facilitates', 'parameters', 'operative', 'perfect', 'delay', 'le', 'longitudinal', 'decay', 'chosen', 'temporal', 'varies', 'lh', 'estimating', 'lt', 'permanent', 'degrees', 'choose', 'instruments', '2014', 'contextual', 'histological', 'pixel', '2013', '2012', 'accelerated', 'physicians', 'designs', 'descriptive', 'richness', 'unclear', 'practice', 'indexing', 'beamforming', 'cutting', 'bio', 'fingerprint', 'front', 'impaired', 'documented', 'day', 'dielectric', 'mmhg', 'ofdma', 'chronic', 'svm', 'university', 'countries', 'identified', 'dominance', 'sufficiently', 'magnitude', 'transmitted', 'mode', 'truth', 'interview', 'accompanied', 'identifies', 'stock', 'transgenic', 'experienced', 'constraints', 'homogeneous', 'eastern', 'inputs', 'density', 'estimators', 'related', 'climatic', 'deficiency', '88', 'frequency', 'static', 'variety', 'neuro', 'sectional', '82', 'blocks', '80', '81', '86', '87', '84', '85', 'category', 'matrix', 'cerebral', 'relate', 'chaos', 'behaviours', 'mediated', 'performs', 'max', 'adaptive', 'cause', 'integrated', 'red', 'quantification', 'immunohistochemistry', 'workflow', 'recommendations', 'greedy', 'caregivers', 'fractal', 'release', 'completely', 'testosterone', 'que', 'collection', 'streaming', 'usual', 'regulatory', 'asynchronous', 'impulsive', 'likelihood', 'shortest', 'additional', 'java', 'pancreatic', 'interaction', 'organic', 'adolescent', 'g', 'geometry', 'determining', 'route', 'feasible', 'length', 'produce', 'lte', 'hence', 'oscillator', 'phenotypic', 'facilitate', 'south', 'arterial', 'prospective', 'isbn', 'widely', 'collagen', 'powerful', 'scene', 'skills', 'strategic', 'randomized', 'improvements', 'practices', 'reached', 'precisely', 'quality', 'endemic', 'management', 'atm', 'fair', 'practitioners', 'privacy', 'ordering', 'unknown', 'system', 'relations', 'priority', 'attack', 'intermediate', 'multiobjective', 'intelligence', 'chemotherapy', 'man', 'peripheral', 'pathogen', 'prone', 'interests', 'shell', 'wavelength', 'explanation', 'shallow', 'contribute', 'environmental', 'simulate', 'manipulation', 'fuzzy', 'july', 'morbidity', 'blind', 'zones', 'quantitative', 'correlate', 'recruited', 'ldpc', 'measured', 'schizophrenia', 'involved', 'limiting', 'claim', 'patients', 'defense', 'amplitude', 'light', 'negatively', 'naturally', 'counting', 'result', 'behaviors', 'false', 'clip', 'curves', 'robot', 'genomic', 'need', 'constrained', 'border', 'clearly', 'viewed', 'acceleration', 'documents', 'angle', 'mappings', 'min', 'studying', 'agency', 'able', 'mid', 'mechanism', 'contour', 'polarization', 'instance', 'concerns', 'incorporating', 'detector', 'mir', 'mit', 'vegetation', 'accuracy', 'worldwide', 'mathjax_preview', 'centre', 'collaboration', 'techniques', 'iron', 'useful', '01', 'connected', 'preliminary', 'device', '06', 'future', 'segment', 'class', '2011', 'subjective', 'stereo', 'placement', 'reduces', 'consequences', 'request', 'disease', 'face', 'graphs', 'hierarchical', 'gesture', 'databases', 'hours', 'sd', 'normally', '2010', 'fact', 'gain', 'emerging', 'selection', 'text', 'supported', 'downlink', 'xd7', 'elimination', 'planning', 'portfolio', 'rough', 'mice', 'decade', 'principal', 'partners', 'highest', 'based', 'knowledge', 'cache', 'controls', 'operational', 'terminal', 'entities', 'score', 'candidates', 'molecules', 'fuel', 'employed', 'b', 'local', 'achieve', 'equilibrium', 'move', 'peptide', 'means', 'displayed', 'quantified', '120', 'joint', 'ones', 'neisseria', 'words', 'consecutive', 'timing', 'years', 'procedures', 'hla', 'areas', 'produced', 'evolution', 'determinants', 'densities', 'tobacco', 'course', 'upper', 'h', 'differential', 'comprising', 'gram', 'contain', 'including', 'cycles', 'conduct', 'view', 'predictive', 'requirement', 'computed', 'exists', 'acquired', 'variations', 'national', 'correlations', 'humans', 'module', 'intensity', 'computer', 'usefulness', 'enhanced', 'cyclotron', 'qtl', 'electrode', 'statistically', 'affine', 'phases', 'exploited', 'interacting', 'focuses', 'placed', 'pattern', 'missing', 'tend', 'initially', 'state', 'difficulties', 'identification', 'routing', 'correctly', 'routine', 'progress', 'boundary', 'interfaces', 'variability', 'comparable', 'bed', 'superior', 'snps', 'lesion', 'kinin', 'however', 'neonatal', 'implementing', 'job', 'hypothesis', 'p2p', 'key', 'synthase', 'outer', 'configuration', 'problem', 'restrictions', 'weeks', 'limits', 'spectra', 'taking', 'la', 'equal', 'drug', 'etc', 'transplantation', 'grain', 'section', 'attributes', 'placebo', 'humanoid', 'trajectories', 'reactivity', 'come', 'strongly', 'adjusted', 'relevant', 'co', 'agents', 'cl', 'cc', 'invasive', 'antioxidant', 'solve', 'environments', 'cd', 'concepts', 'distinguish', 'coordinates', 'maximize', 'carbon', 'cs', 'respect', 'curriculum', 'cp', 'cv', 'cu', 'ct', 'protective', 'videos', 'piecewise', 'addition', 'trajectory', 'arbitrary', 'copies', 'mathematics', 'genetic', 'treat', 'certain', 'indicators', 'utilizing', 'topology', 'anomaly', 'universal', 'nnos', 'define', 'field', 'arises', 'controlled', 'meningitis', 'retrospective', 'received', 'sufficient', 'coherence', 'subspace', 'arginine', 'bulk', 'controller', 'emphasistypeitalic', 'lung', 'clusters', 'fullerene', 'assessments', 'uin', '2006', 'present', 'uptake', 'associated', 'multi', 'novel', 'atmospheric', 'survey', 'subsets', 'contexts', 'microsatellite', 'align', 'appearance', 'examine', 'promoter', 'promotes', 'will', 'ar', 'broadband', 'country', 'promoted', 'au', 'cvd', 'ultra', 'ill', 'epithelial', 'layer', 'mutant', 'examines', 'u2009', 'almost', 'molecular', 'blood', 'formulation', 'thus', 'surprisingly', 'surface', 'intuitionistic', 'hardware', 'vs', 'dual', 'lifetime', 'partner', 'convection', 'quantization', 'situ', 'coefficients', 'greater', 'parent', 'capture', 'productivity', 'thereby', 'generic', 'radiation', 'cross', 'coronary', 'highlighted', 'adverse', 'parts', 'speaker', 'chromosome', 'geographical', 'largest', 'units', 'party', 'finite', 'difficult', 'responses', 'material', 'http', 'bacterial', 'recruitment', 'reporting', 'upon', 'effect', 'automation', 'ion', 'compared', 'architectures', 'student', 'variance', 'dust', 'frequently', 'contribution', 'warming', 'diabetes', 'polymorphism', 'genus', 'off', 'reflection', 'neural', 'i', 'colour', 'modeled', 'well', 'thought', 'patterns', '47', 'firstly', 'comparisons', 'muscle', 'sensing', 'drawing', 'fetal', 'spherical', 'treatments', 'less', 'increasingly', 'hybrid', 'proximity', 'domestic', 'obtain', 'tcp', 'detail', 'sources', 'clinic', 'stored', '40', 'predicts', '1000em', 'skill', 'mathml', 'rotation', 'reduced', 'web', 'soils', 'rapid', 'adp', 'entire', 'absorption', 'point', 'demographic', 'lake', 'capabilities', 'discuss', 'reasons', 'add', 'book', 'extends', 'attractive', 'nanoparticles', 'wet', 'lymphocytes', 'adherence', 'aerial', 'possess', 'smart', 'murine', 'tests', 'branch', 'putative', 'government', 'checking', 'inversion', 'increases', 'xe0', 'know', 'facial', 'deployment', 'sequencing', 'immediately', 'variants', 'intersection', 'xe9', 'name', 'mimo', 'loss', 'necessary', 'like', 'lost', 'sizes', 'exploiting', 'qualitative', 'admitted', 'parasite', 'sized', 'hosts', 'particles', 'become', 'works', 'soft', 'page', 'therapeutic', 'accessible', 'poor', 'drop', 'habitat', 'sequence', 'underwent', 'phenomena', 'searching', 'library', 'hair', 'polynomial', 'growth', 'band', 'convex', 'proper', 'home', 'employment', 'mother', 'u22120', 'u22121', 'est', 'leaf', 'lead', 'overlay', 'demonstrates', 'avoid', 'separate', 'overlap', 'disk', 'mutation', 'assuming', 'constitute', 'wdm', 'chains', 'demonstrated', 'trap', 'uthis', 'biology', 'noise', 'lipid', 'decline', 'selecting', 'journal', 'consuming', 'expansion', 'pressure', 'host', 'although', 'offset', 'targeting', 'analyses', 'mitigation', 'science', 'gained', 'actual', 'carried', 'extension', 'xe9e', 'column', 'freedom', 'discriminant', 'introduces', 'dependence', 'recognized', 'compatible', 'dependency', 'seeds', 'multiagent', 'insufficient', 'introduced', 'predictor', 'software', 'subset', 'equally', 'intracellular', 'suited', 'previously', 'functional', 'dataset', 'assess', 'ultrasound', 'square', 'receptor', 'actions', 'female', 'registration', 'algebras', 'strategy', 'utility', 'descriptions', 'maize', 'networking', 'larvae', 'elastic', 'synthesized', 'transfer', 'housing', 'secret', 'semiconductor', 'smoothing', 'intention', 'pa', 'inner', 'timed', 'breeding', 'specimens', 'polarimetric', 'coarse', 'function', 'north', 'maintenance', 'hr', 'bus', 'triangular', 'overlapping', 'histogram', 'volume', 'neutral', 'construction', 'goals', 'automated', 'convergence', 'clinically', 'overflow', 'ha', 'membranes', 'hd', 'partially', 'count', 'also', 'fragmentation', 'made', 'compute', 'converter', 'evident', 'society', 'whether', 'ecosystem', 'cells', 'j', 'smooth', 'reinforcement', 'record', '89', 'limit', 'infants', 'demonstrate', 'distribution', 'spectrometry', 'minutes', 'display', 'bearing', 'actuator', 'lattices', 'deaths', 'nurses', 'recognize', 'taxa', 'tissues', 'graphical', 'multimodal', 'periods', '83', 'flight', 'education', 'cmos', 'functions', 'programmes', 'improving', '48', 'calibration', '46', 'trials', '44', '45', 'percent', 'forests', 'virtual', '41', 'disjoint', 'other', 'details', 'normal', 'mass', 'er', 'conclusion', 'repeat', 'kinds', 'volumes', 'june', 'ultimately', 'variation', 'stay', 'ecological', 'pathways', 'additionally', 'rural', 'gap', 'exposure', 'coupling', 'prevalent', 'resolution', 'necrosis', 'factors', 'persistent', 'rule', 'cpu', 'portion', 'chemical', 'diagnosis', 'questionnaires', 'understand', 'validation', 'augmented']\n"
     ]
    }
   ],
   "source": [
    "print final"
   ]
  },
  {
   "cell_type": "code",
   "execution_count": 289,
   "metadata": {
    "collapsed": false
   },
   "outputs": [],
   "source": [
    "for i in final2:\n",
    "    if(len(i)==1):\n",
    "        final2.remove(i)\n",
    "    if(len(i)==2):\n",
    "        final2.remove(i)"
   ]
  },
  {
   "cell_type": "code",
   "execution_count": 290,
   "metadata": {
    "collapsed": false
   },
   "outputs": [
    {
     "data": {
      "text/plain": [
       "4395"
      ]
     },
     "execution_count": 290,
     "metadata": {},
     "output_type": "execute_result"
    }
   ],
   "source": [
    "len(final2)"
   ]
  },
  {
   "cell_type": "code",
   "execution_count": 291,
   "metadata": {
    "collapsed": false
   },
   "outputs": [
    {
     "name": "stdout",
     "output_type": "stream",
     "text": [
      "['aided', 'limited', 'transitions', 'similarity', 'alleles', 'magnetic', 'desirable', 'all', 'four', 'facilities', 'entropy', 'asian', 'preface', 'consists', 'semantic', 'theorems', 'integrity', 'mrow', 'cytokines', 'poorly', 'relationships', 'phonon', 'feeding', 'calculate', 'physiological', 'segments', 'disability', 'presents', 'teaching', 'silicon', 'inform', 'conjecture', 'allergy', 'music', 'risk', 'downstream', 'commerce', 'hypertensive', 'dynamic', 'activation', 'regional', 'replication', 'handling', 'every', 'coding', 'affect', 'solver', 'multiple', 'special', 'markers', 'believed', 'differentiated', 'squares', 'progression', 'crops', 'supports', 'u221e', 'companies', 'solution', 'viable', 'minimization', 'solid', 'vector', 'math', 'cholesterol', 'indices', 'sleep', 'markov', 'lagrangian', 'force', 'cooperative', 'excited', 'consistent', 'guidelines', 'estimates', 'direct', 'pulse', 'batch', 'feasibility', 'surrounding', 'second', 'avc', 'infiltration', 'machines', 'institute', 'blue', 'established', 'errors', 'clinicians', 'organisms', 'specification', 'interactions', 'contributed', 'asia', 'decoding', 'postoperative', 'largescale', 'cores', 'localized', 'reconstruction', 'designing', 'resilient', 'new', 'net', 'contributes', 'ever', 'consisting', 'metadata', 'coefficient', 'evolving', 'million', 'simultaneously', 'evaluating', 'whose', 'divergence', 'never', 'residual', 'atoms', 'met', 'deposition', 'protection', 'china', 'provisioning', 'ethanol', 'represented', 'path', '100', 'diagnostic', 'patches', 'stresses', 'chaotic', 'property', 'attending', 'items', 'leaves', 'changed', 'approaches', 'reports', 'akt', 'tolerance', 'characterizing', 'smoke', 'complicated', 'fourier', 'adolescents', 'der', 'mutual', 'diameter', 'secure', 'classification', 'mobility', 'discontinuous', 'explained', 'highly', 'psychological', 'visible', 'modulated', 'moral', 'visualization', 'transformations', 'socioeconomic', 'counts', 'total', 'topics', 'unit', 'derivatives', 'sexual', 'quasi', 'dna', 'comments', 'decentralized', 'hospital', 'mortality', 'negative', 'overhead', 'therefore', 'assessment', 'separated', 'coupled', 'standardized', 'relay', 'populations', 'composite', 'infusion', 'curvature', 'aware', 'phone', 'warm', 'adult', 'excellent', 'hole', 'hold', 'blocking', 'origin', 'must', 'abundance', 'intake', 'claims', 'word', 'room', '1997', 'characterize', '1999', '1998', 'work', 'theories', 'mammalian', 'oxide', 'tnf', 'temperatures', 'experts', 'root', 'example', 'indicated', 'give', 'programming', 'household', 'preserving', 'table', 'implementations', 'involve', 'indicates', 'hormone', 'scheduling', 'validated', 'guarantee', 'aging', 'admission', 'end', 'hoc', 'carriers', 'provide', 'verify', 'travel', 'damage', 'machine', 'faults', 'hot', 'toxin', 'adjacent', 'significance', 'toxic', 'gate', 'widespread', 'classify', 'fever', 'description', 'undergoing', 'toxicity', 'thermodynamic', 'arthritis', 'conductivity', 'containing', 'diagram', 'polymerase', 'mesh', 'fat', 'involvement', 'law', 'meaningful', 'parallel', 'types', 'lyapunov', 'attempt', 'third', 'sets', 'recombination', 'fungi', 'hypotheses', 'recombinant', 'maintain', 'green', 'frequent', 'decreasing', 'balancing', 'preventive', 'operate', 'order', 'wind', 'operations', 'restriction', 'bipartite', 'cumulative', 'interpretation', 'feedback', 'over', 'fall', 'vary', 'satisfied', 'innovative', 'responsive', 'japan', 'gastrointestinal', 'nets', 'scoring', 'languages', 'position', 'ligand', 'fit', 'benign', 'personal', 'highlights', 'reconfigurable', 'expectations', 'exhibits', 'writing', 'survivors', 'production', 'condition', '400', 'transcriptional', 'anemia', 'uon', 'overcome', 'phenotype', 'versus', 'donors', 'them', 'affected', 'colorectal', 'combination', 'fragment', 'symbolic', 'safe', 'school', 'often', 'modification', 'hypoxia', 'therapy', 'effects', 'focus', 'schools', 'multidimensional', 'one', 'bank', 'structural', 'represents', 'several', 'vibrational', 'oxygen', 'recovery', 'queues', 'hamiltonian', 'fibrosis', 'deficient', 'charged', 'mrna', 'seedlings', 'acoustic', 'organized', 'interpolation', 'side', 'bone', 'mean', 'schemes', 'financial', 'covered', 'series', 'transient', 'platelets', 'principles', 'prolonged', 'line', 'literature', 'trading', 'combining', 'bands', 'laboratory', 'mothers', 'extract', 'message', 'fatty', 'large', 'networked', 'network', 'driving', 'gradient', 'restricted', 'crucial', 'forty', 'vessels', 'content', 'combinatorial', 'adapt', 'precision', 'assignment', 'medicine', 'newly', 'size', 'nitrogen', 'independence', 'foundation', 'pylori', 'linear', 'barrier', 'inos', 'ldlc', 'surveys', 'standard', 'sensory', 'formation', 'chromosomal', 'sensors', 'heat', 'slope', 'tags', 'created', 'diabetic', 'messages', 'moment', 'dispersal', 'tolerant', 'filter', '000', 'smokers', 'atp', 'signature', 'moving', 'transaction', 'onto', 'purpose', 'already', 'features', 'grade', 'assumptions', 'primary', 'rank', 'channels', 'adopted', 'another', 'implicated', 'neighborhood', 'electronic', 'illustrate', 'plasmapheresis', 'rated', 'likely', 'similarly', 'injected', 'top', 'engagement', 'girls', 'approximately', 'needed', 'perturbations', 'rates', 'observations', 'percentage', 'variational', 'dogs', 'glucose', 'urban', 'descriptors', 'enhancing', 'metabolites', 'arising', 'tool', 'realization', 'serve', 'took', 'formulate', 'japanese', 'weakly', 'western', 'programmable', 'nurse', 'developmental', 'broader', 'maintaining', 'positively', 'p53', 'december', 'approximation', 'anxiety', 'target', 'showed', 'structures', 'approximations', 'database', 'iteration', 'zero', 'final', 'preparation', 'matter', 'classes', 'circulation', 'historical', 'hdlc', 'biochemical', 'enables', 'acquisition', 'perspective', 'pervasive', 'fashion', 'nutrition', 'modern', 'eyes', 'glass', 'outperforms', 'rat', 'seed', 'interventions', 'inherit', 'seen', 'seem', 'regulate', 'contents', 'relatively', 'latency', 'strength', 'cardiac', 'mostly', 'person', 'climate', 'latter', 'responsible', 'isolated', 'predominantly', 'oriented', 'sound', 'recommended', 'causing', 'forces', 'transmit', 'systolic', 'isolates', 'effectiveness', 'completed', 'even', 'exactly', 'though', 'object', 'viscosity', 'accurately', 'metrics', 'extending', 'optimized', 'involving', 'carcinoma', 'ensure', 'letter', 'entry', 'phase', 'assessed', 'drought', 'materials', 'quantify', 'preferences', 'interannual', 'peers', 'clearance', 'observation', 'calculated', 'camp', 'lps', 'vertices', 'accounted', 'principle', 'enterprise', 'voting', 'consumer', 'notion', 'incomplete', 'heuristics', 'signatures', 'tgf', 'rayleigh', 'reductions', 'differed', 'doped', 'sage', 'least', 'infrared', 'soluble', 'attempts', 'radio', 'solutions', 'participate', 'earth', 'availability', 'lessons', 'execution', 'layout', 'just', 'became', 'implementation', 'situations', 'guidance', 'kinase', 'topological', 'maturation', 'pathological', 'screening', 'rich', 'integrate', 'adequate', 'rice', 'personality', 'plate', 'mixture', 'cubic', 'wide', 'air', 'scalable', 'preferred', 'degradation', 'dynamically', 'tuberculosis', 'despite', 'report', 'reviewed', 'becomes', 'unfortunately', 'cancellation', 'runs', 'increasing', 'covering', 'fields', 'animation', 'consensus', 'microscopy', 'patch', 'twice', 'architecture', 'isolation', 'analytical', 'freshwater', 'automatic', 'setup', 'respond', 'ethical', 'reference', 'implies', 'sensitivity', 'testing', 'alterations', 'infectious', 'detection', 'analytics', 'depends', 'centric', 'radius', 'mature', 'fail', 'depressive', 'optimum', 'best', 'subject', 'co2', 'capacity', 'rare', 'away', 'meta', 'compensation', 'artificial', 'partition', 'symmetric', 'pressures', 'protected', 'interprofessional', 'cooperation', 'conceptual', 'drawn', 'occupational', 'previous', 'approach', 'discovery', 'galerkin', 'men', 'terms', 'reproduction', 'extend', 'nature', 'oxidation', 'component', 'weak', 'vitamin', 'extent', 'contamination', 'modeling', 'flowering', 'holds', 'linkage', 'improve', 'suggested', 'behaviour', 'protect', 'providing', 'agonist', 'reported', 'resistant', 'cox', 'extracts', 'interstitial', 'heating', 'ventricular', 'players', 'merging', 'layered', 'games', 'une', 'receiver', 'threads', 'requests', 'argue', 'adapted', 'asked', 'supplementation', 'negotiation', 'exhibit', 'appeared', 'character', 'recursive', 'excess', 'mutations', 'height', 'active', 'written', 'viruses', 'applicability', 'pregnancy', 'news', 'trust', 'conference', 'signals', 'abdominal', 'basis', 'psychometric', 'three', 'quickly', 'extraction', 'much', 'interest', 'basic', 'expected', 'collections', 'basin', 'contraction', 'pro', 'obese', 'life', 'families', 'efficacy', 'yeast', 'drugs', 'quantities', 'concerning', 'bladder', 'locations', 'coherent', 'substance', 'child', 'spin', 'applied', 'physician', 'inhibit', 'guarantees', 'antiretroviral', 'transformation', 'aim', 'calcium', 'near', 'teachers', 'aid', 'balance', 'procedure', 'savanna', 'seven', 'losses', 'played', 'graphene', 'player', 'grammars', 'tissue', 'traffic', 'comparative', 'pathology', 'mouse', 'grown', 'confirmed', 'dementia', 'severity', 'perform', 'suggest', 'make', 'recurrent', 'tactile', 'adopt', 'linked', 'complex', 'potentially', 'inventory', 'mixtures', 'controllers', 'lithium', 'rna', 'european', 'independent', 'satellite', 'myocardial', 'bits', 'numerical', 'hand', 'pharmacological', 'characters', 'potentials', 'computationally', 'opportunity', 'outputs', 'subgroups', 'prescribed', 'suitable', 'scenario', 'programs', 'changes', 'stimuli', 'cultural', 'deal', 'ocean', 'academic', 'contact', 'greatest', 'u03b5', 'simulated', '802', 'the', 'paradigm', 'wider', 'left', 'seasonal', 'unified', 'world', 'protocol', 'birth', 'proposed', 'newton', 'ideas', 'assigned', 'proposes', 'bandwidth', 'identify', 'transforms', 'human', 'ecosystems', 'extracted', 'scattering', 'yet', 'projection', 'adding', 'unique', 'monitored', 'catalytic', 'candidate', 'sciences', 'similarities', 'regarded', 'strains', 'mirnas', 'ideal', 'passive', 'spread', 'transformed', 'easy', 'technological', 'allele', 'east', 'plasma', 'gave', 'elevation', 'reuse', 'advances', 'survival', 'measurement', 'possible', 'objective', 'fusion', 'sorting', 'item', 'background', 'lymphoma', 'advanced', 'cognitive', 'multiplexing', 'diffraction', 'specific', 'steps', 'persistence', 'malnutrition', 'hepatic', 'security', 'valence', 'signal', 'calculus', 'www', 'right', 'old', 'hierarchy', 'people', 'manual', 'refinement', 'successfully', 'elderly', 'born', 'linearly', 'multichannel', 'rise', 'altered', 'indirect', 'repeated', 'separately', 'dense', 'cns', 'for', 'flux', 'stronger', 'electromagnetic', 'opposite', 'microwave', 'contributing', 'buffer', 'individuals', 'landscape', 'nitrate', 'unstable', 'cortical', 'genotypes', 'participation', 'ict', 'cord', 'core', 'epigenetic', 'algorithmic', 'bold', 'fish', 'elucidate', 'predicting', 'translated', 'metastatic', 'architectural', 'substitution', 'peer', 'post', 'manufacturing', 'super', 'properties', 'zur', 'stokes', 'limitation', 'attacks', 'months', 'anomalous', 'xfcr', 'essential', 'probabilities', 'plus', 'guest', 'eight', 'efforts', 'runtime', 'slightly', 'automatically', 'considerations', 'soc', 'managers', 'agile', 'presence', 'haplotype', 'obtaining', 'bound', 'intellectual', 'combine', 'down', 'rendering', 'explain', 'coastal', 'balanced', 'reducing', 'methods', 'wavelet', 'rely', 'categorization', 'gis', 'compression', 'vaccination', 'transcript', 'support', 'initial', 'transform', 'diseases', 'width', 'accordingly', 'clinical', 'editor', 'fraction', 'resulted', 'call', 'metabolism', 'synthesis', 'lowest', 'multiscale', 'head', 'medium', 'form', 'offer', 'clinics', 'forming', 'becoming', 'differences', 'analyse', 'oil', 'acute', 'wireless', 'failure', 'economic', 'multiprocessor', 'incorporation', 'solar', 'estimation', 'encoded', 'patient', 'removed', 'true', 'watermarking', 'especially', 'week', 'absent', 'reproductive', 'versions', 'arrays', 'type', 'inside', 'equalization', 'bounds', 'vivo', 'converters', 'crystal', 'phosphate', 'complications', 'adenosine', 'emotional', 'stages', 'optimisation', 'biometric', 'examples', '150', 'medication', 'proved', 'organizational', 'computing', 'implications', 'abstract', 'store', 'proven', 'evidence', 'gland', 'conserved', 'exist', 'simulations', 'accounting', 'usability', 'distributions', 'check', 'regime', 'xb5g', 'epidemiological', 'xb5m', 'whereas', 'generally', 'reality', 'successful', 'setting', 'role', 'papers', 'operators', 'mri', 'node', 'picture', 'diagrams', 'delivered', 'models', 'constructs', 'mechanical', 'bottom', 'diet', 'outpatient', 'concurrent', 'scores', 'variable', 'discharge', 'died', 'younger', 'longer', 'disruption', 'assume', 'typically', 'interval', 'packets', 'domination', 'together', 'icc', 'reversible', 'egfr', 'time', 'lipoprotein', 'nuclei', 'quantity', 'debate', 'participating', 'urinary', 'now', 'concept', 'managed', 'chain', 'switched', 'particular', 'alternatives', 'atmosphere', 'leads', 'mild', 'delays', 'ice', 'computation', 'skin', 'morphology', 'abundant', 'milk', 'retention', 'layers', 'amplification', 'depend', 'mpeg', 'disorders', 'dominated', 'graph', 'technique', 'editors', 'experimentally', 'environment', 'finally', 'promoting', 'elliptic', 'discovering', 'crystals', 'conservation', 'division', 'indoor', 'string', 'advantage', 'orthogonal', 'mathjax_main', 'frequencies', 'macrophages', 'choice', 'uml', 'exact', 'partitions', 'perceived', 'respiratory', 'clouds', 'presented', 'die', 'tex', 'standards', 'discrete', 'enos', 'team', 'loads', 'perceptual', 'round', 'prevent', 'occurrence', 'oscillation', 'hepatitis', 'trend', 'u200a0', 'maximization', 'prediction', 'cyber', 'sign', 'cost', 'eating', 'defining', 'targets', 'spectral', 'psychosocial', 'appear', 'moments', 'uniform', 'current', 'switch', 'health', 'template', 'international', 'staff', 'satisfy', 'supporting', 'pose', 'transportation', 'denoising', 'genes', 'french', 'understanding', 'water', 'coloring', 'groups', 'congestion', 'alone', 'along', 'stem', 'appears', 'change', 'box', 'arc', 'thirty', 'precursor', 'shift', 'studied', 'commonly', 'queue', 'trial', 'multicast', 'throughput', 'diagnosed', 'pediatric', 'domains', 'xe9s', 'studies', 'tasks', 'regardless', 'extra', 'inducing', 'logical', 'spanish', 'flexibility', 'receptors', 'marker', 'illumination', 'rarely', 'maintained', 'transplant', '0px', 'additive', 'working', 'reactive', 'ca2', 'visit', 'predictions', 'optimize', 'scenarios', 'live', 'explicitly', 'prey', 'memory', 'films', 'enriched', 'australian', 'theoretical', 'today', 'rainfall', 'sharing', 'duality', 'sessions', 'india', 'acceptable', 'apparent', 'validity', 'visual', 'rigid', 'corresponding', 'cases', 'given', 'effort', 'insights', 'fly', 'organizations', 'valued', 'collision', 'constraint', 'ibd', 'modified', 'reviews', 'labeled', 'ligase', 'vegf', 'can', 'tracing', 'growing', 'making', 'trans', 'stimulating', 'cad', 'heart', 'dedicated', 'multipath', 'nursing', 'stream', 'predict', 'attribute', 'chip', 'sense', 'agent', 'topic', 'stroke', 'incremental', 'performed', 'allowed', 'handle', 'spanning', 'simulation', 'hydrogen', 'occur', 'scalar', 'redundancy', 'monitoring', 'winter', 'tube', 'divided', 'erratum', 'activated', 'species', 'immune', 'vital', 'criterion', 'approximating', 'pure', 'optimal', 'absolute', 'parameter', 'pathway', 'economy', 'map', 'product', 'explores', 'information', 'may', 'overall', 'use', 'southern', 'needs', 'residues', 'applications', 'mac', 'explored', 'snr', 'designed', 'snp', 'islands', 'floral', 'representations', 'revealed', 'annotation', 'processors', 'stress', 'natural', 'dynamical', 'liquid', 'beam', 'turbo', 'explicit', 'sigma', 'ghz', 'annealing', 'gamma', 'african', 'definitions', 'pollution', 'typical', 'forced', 'acts', 'nerve', 'indeed', 'thresholds', 'epilepsy', 'mainly', 'infections', 'nonparametric', 'argues', 'stability', 'brain', 'episodes', 'experiments', 'statistical', 'coli', 'argued', 'cold', 'still', 'ieee', 'birds', 'tendency', 'markovian', 'observational', 'derive', 'group', 'monitor', 'interesting', 'facility', 'lesions', 'decreases', 'resection', 'forms', 'platform', 'window', 'offers', 'tillage', 'policy', 'decreased', 'main', 'decades', 'correspondence', 'non', 'hop', 'recipients', 'views', 'ros', 'processes', 'introduce', 'chromatic', 'scaling', 'records', 'half', 'not', 'feature', 'servers', 'provision', 'ordinary', 'developments', 'nos', 'susceptibility', 'term', 'workload', 'organ', 'january', 'times', 'settings', 'proteins', 'establishing', 'possibilities', 'realistic', 'instability', 'domain', 'weighted', 'significantly', 'secondary', 'abnormal', 'gaussian', 'challenges', 'prognosis', 'abstraction', 'year', 'symptoms', 'cytokine', 'mapping', 'plans', 'canada', 'living', 'shown', 'medications', 'hcv', 'space', 'furthermore', 'algebra', 'interference', 'rational', 'increase', 'modulation', 'contained', 'investigation', 'assays', 'emerged', 'internet', 'suggesting', 'formula', 'receiving', 'sensor', 'correct', 'shows', 'biomedical', 'earlier', 'theory', 'pathogenic', 'variant', 'xe9es', 'mechanisms', 'possibility', 'quite', 'advantages', 'besides', 'org', 'marine', 'care', 'advance', 'training', 'fixed', 'language', 'methylation', 'amyloid', 'transition', 'iterative', 'forecast', 'british', 'sediment', 'motion', 'turn', 'place', 'massive', 'childhood', 'substrates', '1000', 'emotion', 'schema', 'wlan', 'symmetry', 'reveals', 'variables', 'nutritional', 'comprised', 'amino', 'simplified', 'fast', 'directly', 'specificity', 'carry', 'ring', 'open', 'horizontal', 'constructing', 'and', 'city', 'little', 'necessarily', 'genotype', 'permutation', 'structured', 'europe', 'establishment', 'stimulation', 'indicate', 'cooling', 'constants', 'moisture', 'articles', 'white', 'participated', 'frame', 'exploring', 'mining', 'way', 'apoptotic', 'cope', 'asymmetric', 'season', 'branch]', 'continuous', 'obtained', 'undertaken', 'broadcast', 'released', 'imagery', 'fresh', 'packet', 'pathogens', 'probably', 'occurring', 'copy', 'representing', 'semantics', 'population', 'professionals', 'albumin', 'effective', 'require', 'war', 'outcome', 'transport', 'published', 'pre', 'raman', 'addressing', 'illness', 'matched', 'remained', 'correction', 'measure', 'argument', 'generalization', 'ant', 'medical', 'delta', 'abnormalities', 'duration', 'conversion', 'date', 'fpga', 'exploratory', 'efficient', 'transcription', 'complexity', 'note', 'equipment', 'emphasis', 'potential', 'take', 'fracture', 'online', 'interior', 'performance', 'personalized', 'concern', 'impairment', 'switching', 'channel', '200', 'chromosomes', 'trace', 'investigations', 'track', 'mjxp', 'price', 'correlation', 'molecule', 'dioxide', 'algebraic', 'beta', 'importantly', 'tract', 'pair', 'interconnection', 'america', 'inhibitory', 'haptic', 'renal', 'considered', 'average', 'later', 'steady', 'drive', 'ways', 'peptides', 'cortex', 'nuclear', 'professional', 'salt', 'atlantic', 'laws', 'precise', 'rating', 'walking', 'qos', 'regulated', 'show', 'german', 'atom', 'synchronous', 'contemporary', 'discovered', 'spaces', 'sustained', 'threshold', 'aggressive', 'qol', 'data', 'injection', 'ground', 'xml', 'slow', 'ratio', 'daily', 'representation', 'proportion', 'behind', 'texture', 'analytic', 'only', 'wood', 'black', 'parabolic', 'extracellular', 'awareness', 'first', 'ranking', 'closed', 'get', 'sst', 'morphological', 'nobr', 'nearly', 'invariant', 'conjunction', 'neither', 'gel', 'closure', 'reveal', 'regarding', 'resource', 'radar', 'bifurcation', 'median', 'yield', 'summary', 'predicted', 'mapped', 'vision', 'irradiation', 'compressed', 'concert', 'attenuated', 'maximum', 'relative', 'namely', 'college', 'devices', 'staining', 'wideband', 'stigma', 'surgery', 'uthe', 'points', 'surfaces', 'detect', 'inequalities', 'compounds', 'managing', 'subsequent', 'review', 'receivers', 'circulating', 'sites', 'label', 'boundaries', 'importance', 'outside', 'affecting', 'cancers', 'geometric', 'reading', 'across', 'therapies', 'verification', 'arrival', 'gives', 'infrastructure', 'jobs', 'august', 'vertical', 'parental', 'screen', 'queueing', 'citation', 'flow', 'rapidly', 'heterogeneous', 'implemented', 'fluctuations', 'analyzed', 'article', 'detecting', 'cervical', 'suppressed', 'pixels', 'biosynthesis', 'perceptions', 'efficiency', 'region', 'emergency', 'according', 'contract', 'called', 'enabling', 'propagation', 'embedding', 'expression', 'among', 'forecasting', 'filtering', 'cancer', 'characterization', 'color', 'overview', 'robotics', 'colony', 'period', 'sampling', 'exploit', 'anti', 'moreover', 'considers', 'noisy', 'logic', 'considering', 'better', 'combines', 'tuning', 'capable', 'west', 'locally', 'informed', 'detected', 'tropical', 'incubation', 'workshop', 'deposited', 'combined', 'deformable', 'linguistic', 'prototype', '500', 'engine', 'direction', 'enable', 'reaction', 'offered', 'formed', 'photon', 'observe', 'optimality', 'external', 'bayesian', 'former', 'protocols', 'pilot', 'case', 'developing', 'single', 'profiles', 'deformation', 'ongoing', 'shear', 'policies', 'promising', 'situation', 'hdl', 'margin', 'methodologies', 'maximal', 'planar', 'orientation', 'prevalence', 'characteristics', 'metric', 'edge', 'deficits', 'middle', 'bias', 'attributed', 'ambient', 'motivated', 'protein', 'technology', 'ubiquitin', 'binary', 'different', 'develop', 'interdisciplinary', 'april', 'media', 'pigs', 'respondents', 'surveillance', 'shifts', 'authentication', 'speech', 'arguments', 'streams', 'constructed', 'events', 'status', 'reasoning', 'investigated', 'singapore', 'assist', 'driver', 'driven', 'persons', 'running', 'fruit', 'investigates', 'intended', 'changing', 'validate', 'functionality', 'six', 'relies', 'antibodies', 'tracking', 'modes', 'largely', 'minimize', 'incorporated', 'severe', 'costs', 'poplar', 'components', 'communications', 'coordinate', 'model', 'otherwise', 'dimension', 'researchers', 'consisted', 'summer', 'being', 'guided', 'rest', 'encryption', 'inflammatory', 'aspect', 'differentiation', 'behavioural', 'speed', 'captured', 'heuristic', 'polar', 'death', 'antagonist', 'generator', '974em', 'thinking', 'ordered', 'conclude', 'seems', 'except', 'improvement', 'instrument', 'treatment', 'samples', 'coded', 'extensive', 'momentum', 'real', 'aspects', 'around', 'eigenvalue', 'read', 'digital', 'harmonic', 'dark', 'test', 'inhibition', 'grid', 'preference', 'mol', 'reconfiguration', 'amp', 'accepted', 'predictors', 'satisfaction', 'graphics', 'particle', 'identifying', 'aqueous', 'collective', 'server', 'agreement', 'benefit', 'neuronal', 'clay', 'resolved', 'colon', 'inter', 'stationary', 'intestinal', 'satisfactory', 'classified', 'learning', 'exposed', 'conditional', 'generalized', 'competition', 'presentation', 'specified', 'images', 'subtypes', 'questionnaire', 'intact', 'organizing', 'interleukin', 'users', 'provided', 'manipulator', 'genetics', 'dimensions', 'confirm', 'cavity', 'ability', 'recorded', 'extensively', 'legal', 'depletion', 'critical', 'decomposition', 'provides', 'provider', 'mathcal', 'moderate', 'doi', 'measuring', 'wheat', 'reasonable', 'power', 'tree', 'equivalent', 'fitness', 'tumour', 'update', 'notably', 'polynomials', 'ratios', 'found', 'mmol', 'kernel', 'comparison', 'stone', 'central', 'stations', 'disabilities', 'violence', 'discussed', 'generated', 'classifier', 'tumor', 'polymorphic', 'estimator', 'supervised', 'greatly', 'neighbor', 'act', 'mixed', 'bond', 'road', 'enhancement', 'u2019', 'client', 'inclusion', 'communication', 'image', 'numerically', 'markedly', 'spinal', 'accounts', 'determine', 'einstein', 'operator', 'spline', 'theoretically', 'intervention', 'performing', 'methyl', 'logics', 'log', 'area', 'assumed', '1038', 'cultured', 'dispersion', 'start', 'fir', 'low', 'italic', 'secretion', 'cultures', 'u2013', 'allergic', 'hard', 'emergence', 'complete', 'newtonian', 'enough', 'regard', 'delayed', 'amongst', 'displacement', 'posterior', 'land', 'cycle', 'clones', 'impedance', 'technologies', 'promote', 'proposal', 'faster', 'regimen', 'october', 'applying', 'improved', 'embedded', 'robustness', 'ontologies', 'nearest', 'emissions', 'polymorphisms', 'purified', 'grass', 'beliefs', 'regimes', 'autoimmune', 'modules', 'describe', 'metastasis', 'deep', 'general', 'substantially', 'reliability', 'hypertension', 'file', 'aids', 'diversity', 'gradients', 'hospitals', 'intra', 'film', 'processed', 'multilevel', 'assessing', 'raised', 'antenna', 'administered', 'storage', '2000', 'igg', 'tight', 'ige', 'valid', 'underwater', 'spatial', 'antimicrobial', 'forcing', 'immunity', 'presenting', 'deviation', 'fourth', 'briefly', 'bmi', 'phys', 'collaborative', 'bacillus', 'students', 'symbol', 'enrolled', 'drift', 'includes', 'tetracycline', 'important', 'bounded', 'peak', 'coverage', 'serious', 'included', 'flexible', 'pool', 'building', 'gastric', 'remote', 'bilateral', 'calls', 'odds', 'acids', 'curve', 'pseudo', 'nitric', 'inhibited', 'parallelism', 'behavioral', 'nutrient', 'signalling', 'starting', 'original', 'represent', 'monte', 'influenza', 'sci', 'consider', 'chinese', 'caused', 'lack', 'splitting', 'month', 'surgical', 'systemic', 'u03bc', 'zinc', 'smoking', 'follow', 'expressions', 'u03bb', 'decisions', 'children', 'causes', 'synthetic', 'responsiveness', 'rights', 'number', 'adhesion', 'subjected', 'equivalence', 'participants', 'opportunities', 'removal', 'program', 'enhance', 'stochastic', 'nodes', 'heterogeneity', 'endogenous', 'norm', 'activities', 'belonging', 'woman', 'incorporate', 'far', 'apoptosis', 'peaks', 'induce', 'resistance', 'vertex', 'worst', 'transcriptome', 'approximate', 'laser', 'gait', 'difference', 'u2019s', 'uwe', 'treating', 'themes', 'neurological', 'rewriting', 'unlike', 'impact', 'stimulus', 'evaluation', 'list', 'applicable', 'phosphorylation', 'sliding', 'random', 'circuit', 'small', 'biological', 'handwritten', 'programme', 'employing', 'rats', 'glioma', 'ten', 'split', 'past', 'tumours', 'rate', 'perception', 'design', 'displays', 'pass', 'solvent', 'choices', 'investment', 'canonical', 'residue', 'nonlinear', 'cues', 'sub', 'consumers', 'clock', 'sum', 'brief', 'emotions', 'thickness', 'public', 'version', 'attitudes', 'sur', 'fractional', 'learned', 'method', 'contrast', 'movement', 'segmentation', 'full', 'editorial', 'malaria', 'ranged', 'modify', 'vomiting', 'ranges', 'modular', 'selective', 'operating', 'free', 'relaxation', 'directions', 'strong', 'equations', 'revisited', 'publisher', 'search', 'zone', 'inspired', 'compliance', 'allows', 'experience', 'prior', 'amount', 'periodic', 'social', 'action', 'xb10', 'pulmonary', 'narrow', 'options', 'headache', 'via', 'followed', 'family', 'polymer', 'requiring', 'demands', 'africa', 'endothelial', 'und', 'href', 'analyzing', 'aimed', 'trained', 'establish', 'estimate', 'select', 'readily', 'recurrence', 'conventional', 'eye', 'takes', 'vlsi', 'improves', 'distinct', 'objectives', 'contains', 'two', 'induction', 'u201d', 'comparing', 'automata', 'xa00', 'mirna', 'soil', 'taken', 'injury', 'markets', 'achieving', 'minor', 'flat', 'neuron', 'populus', 'initiated', 'definition', 'coating', 'company', 'corrected', 'emission', 'site', 'tested', 'antibiotics', 'controlling', 'impulse', 'varying', 'known', 'producing', 'document', 'none', 'organization', 'cluster', 'opportunistic', 'recall', 'equation', 'des', 'huge', 'remain', 'examined', 'nine', 'indicating', 'evolved', 'learn', 'strategies', 'male', 'specialized', 'broad', 'history', 'ions', 'compare', 'computers', 'challenging', 'impacts', 'scan', 'lives', 'correctness', 'lightweight', 'share', 'ann', 'days', 'states', 'sphere', 'minimum', 'numbers', 'arise', 'offspring', 'simple', 'axis', 'terrestrial', 'influenced', 'respective', 'answer', 'goal', 'liver', 'rather', 'csf', 'utilize', 'regression', 'maps', 'functioning', 'influences', 'movements', 'ensemble', 'interoperability', 'recording', 'plant', 'ubiquitous', 'prognostic', 'cohort', 'wiley', 'derived', 'long', 'reflect', 'connectivity', 'plane', 'waves', 'invasion', 'evaluations', 'wave', 'response', 'unstructured', 'short', 'enzymes', 'author', 'parameterized', 'diets', 'broadcasting', 'fundamental', 'inline', 'element', 'geographic', 'egg', 'retrieval', 'infant', 'help', 'enhances', 'developed', 'urine', 'major', 'distortion', 'held', 'thermal', 'paper', 'filters', 'signs', 'existence', 'kinetic', 'suffer', 'roots', 'cardiovascular', 'member', 'style', 'sodium', 'energies', 'matrices', 'lateral', 'solving', 'actually', 'late', 'absence', 'microscopic', 'systems', 'inlineequation', 'pca', 'might', 'alter', 'good', 'return', 'spatio', 'evaluate', 'seeking', 'food', 'propose', 'males', 'vitro', 'framework', 'terrain', 'compound', 'communities', 'nucleus', 'crohn', 'association', 'easily', 'subunit', 'shop', 'pregnant', 'coping', 'always', 'level', 'labeling', 'intrusion', 'capability', 'micro', 'inequality', 'radial', 'monsoon', 'inherent', 'ifn', 'adc', 'out', 'characterized', 'referred', 'heavy', 'reactions', 'shock', 'mental', 'weight', 'generation', 'hundred', 'energy', 'interviews', 'reduce', 'u2014', 'circadian', 'extended', 'doses', 'quantum', 'operation', 'beyond', 'event', 'substrate', 'alcohol', 'solved', 'since', 'induces', 'viability', 'research', 'acting', 'mucosal', 'safety', 'induced', 'issue', 'occurs', 'fiber', 'strain', 'belief', 'localization', 'monotone', 'gut', 'mmp', 'difficulty', 'reason', 'base', 'alzheimer', 'imaging', 'members', 'airway', 'put', 'beginning', 'generate', 'wall', 'temperature', 'allocation', 'pairs', 'benefits', 'service', 'thread', 'utilization', 'positioning', 'success', 'accumulation', 'conducted', 'edges', 'threat', 'twenty', 'consequence', 'u03b4', 'cdma', 'u03b1', 'exhibited', 'u03b3', 'u03b2', 'feed', 'copper', 'formulas', 'utilizes', 'probability', 'encoding', 'radical', 'robotic', 'reflected', 'instances', 'utilized', 'smaller', 'done', 'defects', 'cronbach', 'fluxes', 'infinite', 'stage', 'idea', 'trade', 'differ', 'perturbation', 'symptom', 'findings', 'jet', 'script', 'introduction', 'leading', 'interact', 'internal', 'construct', 'swarm', 'regulation', 'station', 'identity', 'calculations', 'dealing', 'gpu', 'scheme', 'quadratic', 'recovered', 'gps', 'spp', 'imperfect', 'option', 'relationship', 'pcr', 'bowel', 'retinal', 'immediate', 'required', 'basal', 'employ', 'assumption', 'part', 'signaling', 'authors', 'focusing', 'translation', 'believe', 'corpus', 'center', 'diffusion', 'discrimination', 'kind', 'john', 'determines', 'cyclic', 'double', 'instruction', 'dans', 'aims', 'ranging', 'youth', 'nevertheless', 'determined', 'contrary', 'risks', 'beneficial', 'toward', 'treated', 'interactive', 'motivation', 'derivative', 'ages', 'defect', 'randomly', 'substantial', 'traits', 'concentration', 'null', 'organs', 'orders', 'vulnerable', 'paths', 'built', 'depending', 'essentially', 'self', '[[china', 'nucleotide', 'bacteria', 'onset', 'majority', 'without', 'build', 'genetically', 'donor', 'uplink', 'tensor', 'microarray', 'play', 'towards', 'electric', 'vibration', 'english', 'reach', 'charge', 'plan', 'services', 'alpha', 'probabilistic', 'numerous', 'value', 'audio', 'mineral', 'unsupervised', 'mobile', 'industry', 'clear', 'sometimes', 'cover', 'salinity', 'traditional', 'dissolved', 'optical', 'electrons', 'bodies', 'caching', 'velocity', 'subgroup', 'physics', 'assisted', 'sector', 'antibiotic', 'particularly', 'phenomenon', 'gold', 'disturbances', 'norms', 'session', 'relation', 'malignant', 'algorithms', 'font', 'fine', 'networks', 'faces', 'completion', 'cell', 'indicator', 'datasets', 'inductive', 'simulating', 'northern', 'queries', 'nervous', 'distributed', 'u2212', 'incidence', 'classifiers', 'failed', 'enzyme', 'sequential', 'colitis', 'factor', 'u0394', 'accurate', 'indian', 'prevented', 'dominant', 'gains', 'hiv', 'distance', 'dependent', 'connections', 'sparse', 'biopsy', 'dry', 'trees', 'cd4', 'synchronization', 'valuable', 'closely', 'relational', 'combinations', 'critically', 'dose', 'untreated', 'inducible', 'u03bab', 'crp', 'roles', 'progressive', 'tumors', 'cry', 'factorization', 'hyperbolic', 'investigate', 'underlying', 'common', 'logistic', 'activity', 'sustainable', 'river', 'voltage', 'scanning', 'set', 'art', 'proximal', 'september', 'achieved', 'enabled', 'u2264', 'u2265', 'potent', 'sex', 'achieves', 'culture', 'see', 'individual', 'gaps', 'migration', 'sea', 'close', 'u200a', 'theoretic', 'arm', 'analog', 'sequences', 'project', 'expert', 'directional', 'currently', 'grids', 'coordination', 'libraries', 'platelet', 'various', 'homeostasis', 'vascular', 'pairwise', 'avoidance', 'conditions', 'available', 'profiling', 'recently', 'creating', 'sampled', 'targeted', 'complement', 'attention', 'scalability', 'incident', 'disturbance', 'interface', 'asthma', 'observer', 'minimizing', 'shared', 'last', 'reverse', 'desired', 'annual', 'packing', 'foreign', 'sensitive', 'connection', 'les', 'context', 'focused', 'extracting', 'whole', 'fairness', 'experimental', 'healing', 'load', 'flies', 'regulates', 'distress', 'study', 'supply', 'battery', 'address', 'community', 'dimensional', 'dietary', 'simply', 'adaptation', 'consideration', 'throughout', 'expensive', 'described', 'perspectives', 'lattice', 'syndrome', 'create', 'acceptance', 'political', 'due', 'screened', 'reduction', 'describes', 'initiation', 'collected', 'adoption', 'meeting', 'xae', 'u03c0', 'generating', 'partly', '0001', 'kalman', 'fire', 'gas', 'modelling', 'spectrum', 'usage', 'biodiversity', 'determination', 'representative', 'systematic', 'demand', 'plasmas', 'ligands', 'plants', 'xa9', 'texatom', 'uncertain', 'look', 'exponential', 'raw', 'xa0', 'reliable', 'expanded', 'empirical', 'evaluated', 'receive', 'decoder', 'optimization', 'translocation', 'match', 'behavior', 'error', 'socio', 'transcripts', 'guide', 'loop', 'manner', 'identical', 'detailed', 'larger', 'wild', 'century', 'spontaneous', 'von', 'binding', 'saturation', 'encountered', 'neurons', 'meshes', 'triple', 'simulator', 'currents', 'increased', 'saline', 'aged', 'baseline', 'fibers', 'lengths', 'intrinsic', 'elevated', 'fading', 'shorter', 'rules', 'arabidopsis', 'simultaneous', 'deletion', 'uncertainty', 'products', 'ray', 'composition', 'conflict', 'higher', 'development', 'used', 'poisson', 'regulator', 'ratings', 'comprehensive', 'overweight', 'flows', 'usually', '001', 'levels', 'uses', 'user', 'resonance', 'aggregate', 'robust', 'residents', 'focal', 'recent', 'early', 'lower', 'task', 'older', 'navigation', 'myeloma', 'analysis', 'concrete', 'associative', 'body', 'regulating', 'consistency', 'five', 'chemistry', 'parametric', 'prevention', 'pollen', 'distances', 'abilities', 'burden', 'cultivars', 'hypothesized', 'observed', '264', 'competitive', 'ldl', 'press', 'shape', 'intervals', 'atomic', 'questions', 'using', 'inference', 'alternative', 'fluorescence', 'alignment', 'fmri', 'cut', 'remission', 'conclusions', 'workers', 'fitting', 'possibly', 'source', 'subjects', 'parents', 'location', 'theorem', 'relevance', 'input', 'prominent', 'remaining', 'hybridization', 'associations', 'petri', 'customers', 'australia', 'march', 'lacking', 'format', 'big', 'showing', 'uwb', 'aggregation', 'finding', 'game', 'marked', 'visualizing', 'integer', 'bit', 'precipitation', 'weights', 'projects', 'formal', 'insect', 'modifications', 'mutants', 'semi', 'shaped', 'systematically', 'follows', 'interestingly', 'shapes', '0em', 'continue', 'yields', 'cereus', 'popular', 'eeg', 'fault', 'disorder', 'healthy', 'actin', 'mathematical', 'ecology', 'anomalies', 'metabolic', 'spring', 'creation', 'back', 'stimulated', 'global', 'understood', 'trends', 'added', 'pricing', 'oscillations', 'multiuser', 'ofdm', 'investigating', 'pronounced', 'scale', 'describing', 'pet', 'affects', 'decision', 'measurements', 'integration', 'per', 'market', 'innovation', 'fragments', 'minimal', 'either', 'fluids', 'measures', 'run', '300', 'nasal', 'processing', 'phylogenetic', 'fed', 'colonization', 'step', 'biomarkers', 'output', 'plots', 'relating', 'intense', 'vaccine', 'hidden', 'usa', 'complexes', 'differentially', 'prove', 'virus', 'methodology', 'range', 'regular', 'extensions', 'modal', 'positive', 'experiences', 'replacement', 'consequently', 'block', 'anterior', 'repair', 'computational', 'significant', 'within', 'integral', 'efflux', 'locus', 'appropriate', 'mitochondrial', 'selected', 'primarily', 'frames', 'proportional', 'inhibitors', 'clustering', 'uncertainties', 'statistics', 'span', 'classical', 'extremely', 'hyperspectral', 'question', 'specifically', 'fully', 'infected', 'rfid', 'forward', 'examination', 'analyze', 'sections', 'files', 'considerably', 'adjusting', 'criteria', 'chromatography', 'boys', 'properly', 'link', 'pacific', 'scope', 'clarify', 'pain', 'considerable', 'deployed', 'directed', 'inverse', 'partitioning', 'rejection', 'leakage', 'platforms', 'circuits', 'characteristic', 'middleware', 'par', 'cis', 'windows', 'exploration', 'u2032', 'spectroscopy', 'performances', 'continuously', 'highlight', 'autonomous', 'similar', 'tanzania', 'recognition', 'constant', 'adults', 'introducing', 'defined', 'metal', 'recommendation', 'influence', 'metals', 'package', 'globally', 'blot', 'engineering', 'diverse', 'tomography', 'formalism', 'kidney', 'cotton', 'codes', 'amounts', 'u22122', 'xb1', 'xb0', 'matching', 'preventing', 'application', 'priori', 'electrical', 'genome', 'income', 'department', 'influencing', 'arithmetic', 'elements', 'generates', 'excitation', 'viral', 'problems', 'robots', 'visits', 'prepared', 'spatially', 'meaning', 'restoration', 'allowing', 'suppression', 'vectors', 'structure', 'bases', 'independently', 'correlated', 'algorithm', 'mating', 'age', 'vehicles', 'kinetics', 'barriers', 'institutions', '2002', '2003', 'depth', '2001', 'correlates', '2007', '2004', '2005', 'failures', '2008', '2009', 'requires', 'enrichment', 'stones', 'code', 'partial', 'delivery', 'amplifier', 'results', 'existing', 'illustrated', 'fungal', 'pathogenesis', 'query', 'amplified', 'adjustment', 'contributions', 'centers', 'issues', 'compact', 'concerned', 'deterministic', 'young', 'intensive', 'helps', 'excluded', 'stable', 'weather', 'include', 'dramatically', 'resources', 'inflammation', 'tabindex', 'probe', 'assay', 'expressing', 'susceptible', 'automotive', 'phenotypes', 'schedule', 'affinity', 'sar', 'electron', 'cellular', 'mixing', 'artery', 'drinking', 'continued', 'categories', 'nausea', 'severely', 'transmission', 'positions', 'array', 'integrating', 'fewer', 'intravenous', 'deals', 'race', 'fractions', 'obesity', 'inspection', 'noted', 'configurations', 'concluded', 'limitations', 'averaged', 'bleeding', 'antigen', 'ubackground', 'mediterranean', 'biomass', 'crop', 'fold', 'video', 'traveling', 'insertion', 'assembly', 'dynamics', 'acid', 'carlo', 'elisa', 'depression', 'scientific', 'u03bcg', 'index', 'plays', 'business', 'giving', 'u03bcm', 'multimedia', 'expressed', 'find', 'access', 'consistently', 'experiment', 'vehicular', 'capital', 'mathjax', 'values', 'exercise', 'dysfunction', 'multivariate', 'proliferation', 'led', 'degree', 'exchange', 'respectively', 'commercial', 'analysed', 'following', 'explore', 'objects', 'let', 'rasch', 'separation', 'others', 'oxidative', 'latent', 'implicit', 'extreme', 'great', 'respiration', 'technical', 'brazil', 'membrane', 'suggests', 'resulting', 'insulin', 'manipulators', 'ovarian', 'implement', 'gene', 'makes', 'sup', 'involves', 'composed', 'examining', 'named', 'formulated', 'stabilization', 'addresses', 'scales', 'app', 'manage', 'private', 'outcomes', 'addressed', 'boolean', 'decrease', 'motor', 'apply', 'administration', 'tools', 'causal', 'cloud', 'relaying', 'standing', 'confidence', 'ontology', 'chd', 'asymptotic', 'consumption', 'remains', 'next', 'calculation', 'camera', 'estimated', 'vehicle', 'panel', 'burst', 'reflects', 'optimizing', 'started', 'trait', 'benchmark', 'occurred', 'infection', 'carrying', 'virulence', 'normalized', 'antennas', 'u20132', 'u20131', 'u20130', 'iii', 'women', 'customer', 'sample', 'account', 'animals', 'this', 'females', 'challenge', 'clients', 'pour', 'tag', 'thin', 'island', 'industrial', 'meet', 'inhibitor', 'rehabilitation', 'steiner', 'proof', 'control', 'habitats', 'links', 'providers', 'process', 'loci', 'purposes', 'xb0c', 'high', 'effectively', 'employs', 'sought', 'serial', 'voice', 'native', 'practical', 'educational', 'united', 'varied', 'verified', 'genomes', 'serum', 'regions', 'located', 'u2022', 'carrier', 'forest', 'animal', 'venous', 'instead', 'intelligent', 'circular', 'profile', 'tension', 'express', 'maternal', 'singular', 'specifications', 'waters', 'aureus', 'regularization', 'hazard', 'fluid', 'concentrations', 'loading', 'fatigue', 'psychiatric', 'demonstrating', 'ethnic', 'multiplication', 'requirements', 'marrow', 'yielded', 'prostate', 'efficiently', 'realized', 'discusses', 'physical', 'overexpression', 'computations', 'antibody', 'many', 'lines', 'microbial', 'redundant', 'processor', 'allow', 'healthcare', 'american', 'subsequently', 'mjx', 'discussion', 'complementary', 'breast', 'evolutionary', 'coordinated', 'produces', 'institutional', 'insight', 'oral', 'interpreted', 'sperm', 'pulses', 'gender', 'mentioned', 'agricultural', 'facilitates', 'parameters', 'operative', 'perfect', 'delay', 'longitudinal', 'decay', 'chosen', 'temporal', 'varies', 'estimating', 'permanent', 'degrees', 'choose', 'instruments', '2014', 'contextual', 'histological', 'pixel', '2013', '2012', 'accelerated', 'physicians', 'designs', 'descriptive', 'richness', 'unclear', 'practice', 'indexing', 'beamforming', 'cutting', 'bio', 'fingerprint', 'front', 'impaired', 'documented', 'day', 'dielectric', 'mmhg', 'ofdma', 'chronic', 'svm', 'university', 'countries', 'identified', 'dominance', 'sufficiently', 'magnitude', 'transmitted', 'mode', 'truth', 'interview', 'accompanied', 'identifies', 'stock', 'transgenic', 'experienced', 'constraints', 'homogeneous', 'eastern', 'inputs', 'density', 'estimators', 'related', 'climatic', 'deficiency', 'frequency', 'static', 'variety', 'neuro', 'sectional', 'blocks', 'category', 'matrix', 'cerebral', 'relate', 'chaos', 'behaviours', 'mediated', 'performs', 'max', 'adaptive', 'cause', 'integrated', 'red', 'quantification', 'immunohistochemistry', 'workflow', 'recommendations', 'greedy', 'caregivers', 'fractal', 'release', 'completely', 'testosterone', 'que', 'collection', 'streaming', 'usual', 'regulatory', 'asynchronous', 'impulsive', 'likelihood', 'shortest', 'additional', 'java', 'pancreatic', 'interaction', 'organic', 'adolescent', 'geometry', 'determining', 'route', 'feasible', 'length', 'produce', 'lte', 'hence', 'oscillator', 'phenotypic', 'facilitate', 'south', 'arterial', 'prospective', 'isbn', 'widely', 'collagen', 'powerful', 'scene', 'skills', 'strategic', 'randomized', 'improvements', 'practices', 'reached', 'precisely', 'quality', 'endemic', 'management', 'atm', 'fair', 'practitioners', 'privacy', 'ordering', 'unknown', 'system', 'relations', 'priority', 'attack', 'intermediate', 'multiobjective', 'intelligence', 'chemotherapy', 'man', 'peripheral', 'pathogen', 'prone', 'interests', 'shell', 'wavelength', 'explanation', 'shallow', 'contribute', 'environmental', 'simulate', 'manipulation', 'fuzzy', 'july', 'morbidity', 'blind', 'zones', 'quantitative', 'correlate', 'recruited', 'ldpc', 'measured', 'schizophrenia', 'involved', 'limiting', 'claim', 'patients', 'defense', 'amplitude', 'light', 'negatively', 'naturally', 'counting', 'result', 'behaviors', 'false', 'clip', 'curves', 'robot', 'genomic', 'need', 'constrained', 'border', 'clearly', 'viewed', 'acceleration', 'documents', 'angle', 'mappings', 'min', 'studying', 'agency', 'able', 'mid', 'mechanism', 'contour', 'polarization', 'instance', 'concerns', 'incorporating', 'detector', 'mir', 'mit', 'vegetation', 'accuracy', 'worldwide', 'mathjax_preview', 'centre', 'collaboration', 'techniques', 'iron', 'useful', 'connected', 'preliminary', 'device', 'future', 'segment', 'class', '2011', 'subjective', 'stereo', 'placement', 'reduces', 'consequences', 'request', 'disease', 'face', 'graphs', 'hierarchical', 'gesture', 'databases', 'hours', 'normally', '2010', 'fact', 'gain', 'emerging', 'selection', 'text', 'supported', 'downlink', 'xd7', 'elimination', 'planning', 'portfolio', 'rough', 'mice', 'decade', 'principal', 'partners', 'highest', 'based', 'knowledge', 'cache', 'controls', 'operational', 'terminal', 'entities', 'score', 'candidates', 'molecules', 'fuel', 'employed', 'local', 'achieve', 'equilibrium', 'move', 'peptide', 'means', 'displayed', 'quantified', '120', 'joint', 'ones', 'neisseria', 'words', 'consecutive', 'timing', 'years', 'procedures', 'hla', 'areas', 'produced', 'evolution', 'determinants', 'densities', 'tobacco', 'course', 'upper', 'differential', 'comprising', 'gram', 'contain', 'including', 'cycles', 'conduct', 'view', 'predictive', 'requirement', 'computed', 'exists', 'acquired', 'variations', 'national', 'correlations', 'humans', 'module', 'intensity', 'computer', 'usefulness', 'enhanced', 'cyclotron', 'qtl', 'electrode', 'statistically', 'affine', 'phases', 'exploited', 'interacting', 'focuses', 'placed', 'pattern', 'missing', 'tend', 'initially', 'state', 'difficulties', 'identification', 'routing', 'correctly', 'routine', 'progress', 'boundary', 'interfaces', 'variability', 'comparable', 'bed', 'superior', 'snps', 'lesion', 'kinin', 'however', 'neonatal', 'implementing', 'job', 'hypothesis', 'p2p', 'key', 'synthase', 'outer', 'configuration', 'problem', 'restrictions', 'weeks', 'limits', 'spectra', 'taking', 'equal', 'drug', 'etc', 'transplantation', 'grain', 'section', 'attributes', 'placebo', 'humanoid', 'trajectories', 'reactivity', 'come', 'strongly', 'adjusted', 'relevant', 'agents', 'invasive', 'antioxidant', 'solve', 'environments', 'concepts', 'distinguish', 'coordinates', 'maximize', 'carbon', 'respect', 'curriculum', 'protective', 'videos', 'piecewise', 'addition', 'trajectory', 'arbitrary', 'copies', 'mathematics', 'genetic', 'treat', 'certain', 'indicators', 'utilizing', 'topology', 'anomaly', 'universal', 'nnos', 'define', 'field', 'arises', 'controlled', 'meningitis', 'retrospective', 'received', 'sufficient', 'coherence', 'subspace', 'arginine', 'bulk', 'controller', 'emphasistypeitalic', 'lung', 'clusters', 'fullerene', 'assessments', 'uin', '2006', 'present', 'uptake', 'associated', 'multi', 'novel', 'atmospheric', 'survey', 'subsets', 'contexts', 'microsatellite', 'align', 'appearance', 'examine', 'promoter', 'promotes', 'will', 'broadband', 'country', 'promoted', 'cvd', 'ultra', 'ill', 'epithelial', 'layer', 'mutant', 'examines', 'u2009', 'almost', 'molecular', 'blood', 'formulation', 'thus', 'surprisingly', 'surface', 'intuitionistic', 'hardware', 'dual', 'lifetime', 'partner', 'convection', 'quantization', 'situ', 'coefficients', 'greater', 'parent', 'capture', 'productivity', 'thereby', 'generic', 'radiation', 'cross', 'coronary', 'highlighted', 'adverse', 'parts', 'speaker', 'chromosome', 'geographical', 'largest', 'units', 'party', 'finite', 'difficult', 'responses', 'material', 'http', 'bacterial', 'recruitment', 'reporting', 'upon', 'effect', 'automation', 'ion', 'compared', 'architectures', 'student', 'variance', 'dust', 'frequently', 'contribution', 'warming', 'diabetes', 'polymorphism', 'genus', 'off', 'reflection', 'neural', 'colour', 'modeled', 'well', 'thought', 'patterns', 'firstly', 'comparisons', 'muscle', 'sensing', 'drawing', 'fetal', 'spherical', 'treatments', 'less', 'increasingly', 'hybrid', 'proximity', 'domestic', 'obtain', 'tcp', 'detail', 'sources', 'clinic', 'stored', 'predicts', '1000em', 'skill', 'mathml', 'rotation', 'reduced', 'web', 'soils', 'rapid', 'adp', 'entire', 'absorption', 'point', 'demographic', 'lake', 'capabilities', 'discuss', 'reasons', 'add', 'book', 'extends', 'attractive', 'nanoparticles', 'wet', 'lymphocytes', 'adherence', 'aerial', 'possess', 'smart', 'murine', 'tests', 'branch', 'putative', 'government', 'checking', 'inversion', 'increases', 'xe0', 'know', 'facial', 'deployment', 'sequencing', 'immediately', 'variants', 'intersection', 'xe9', 'name', 'mimo', 'loss', 'necessary', 'like', 'lost', 'sizes', 'exploiting', 'qualitative', 'admitted', 'parasite', 'sized', 'hosts', 'particles', 'become', 'works', 'soft', 'page', 'therapeutic', 'accessible', 'poor', 'drop', 'habitat', 'sequence', 'underwent', 'phenomena', 'searching', 'library', 'hair', 'polynomial', 'growth', 'band', 'convex', 'proper', 'home', 'employment', 'mother', 'u22120', 'u22121', 'est', 'leaf', 'lead', 'overlay', 'demonstrates', 'avoid', 'separate', 'overlap', 'disk', 'mutation', 'assuming', 'constitute', 'wdm', 'chains', 'demonstrated', 'trap', 'uthis', 'biology', 'noise', 'lipid', 'decline', 'selecting', 'journal', 'consuming', 'expansion', 'pressure', 'host', 'although', 'offset', 'targeting', 'analyses', 'mitigation', 'science', 'gained', 'actual', 'carried', 'extension', 'xe9e', 'column', 'freedom', 'discriminant', 'introduces', 'dependence', 'recognized', 'compatible', 'dependency', 'seeds', 'multiagent', 'insufficient', 'introduced', 'predictor', 'software', 'subset', 'equally', 'intracellular', 'suited', 'previously', 'functional', 'dataset', 'assess', 'ultrasound', 'square', 'receptor', 'actions', 'female', 'registration', 'algebras', 'strategy', 'utility', 'descriptions', 'maize', 'networking', 'larvae', 'elastic', 'synthesized', 'transfer', 'housing', 'secret', 'semiconductor', 'smoothing', 'intention', 'inner', 'timed', 'breeding', 'specimens', 'polarimetric', 'coarse', 'function', 'north', 'maintenance', 'bus', 'triangular', 'overlapping', 'histogram', 'volume', 'neutral', 'construction', 'goals', 'automated', 'convergence', 'clinically', 'overflow', 'membranes', 'partially', 'count', 'also', 'fragmentation', 'made', 'compute', 'converter', 'evident', 'society', 'whether', 'ecosystem', 'cells', 'smooth', 'reinforcement', 'record', 'limit', 'infants', 'demonstrate', 'distribution', 'spectrometry', 'minutes', 'display', 'bearing', 'actuator', 'lattices', 'deaths', 'nurses', 'recognize', 'taxa', 'tissues', 'graphical', 'multimodal', 'periods', 'flight', 'education', 'cmos', 'functions', 'programmes', 'improving', 'calibration', 'trials', 'percent', 'forests', 'virtual', 'disjoint', 'other', 'details', 'normal', 'mass', 'conclusion', 'repeat', 'kinds', 'volumes', 'june', 'ultimately', 'variation', 'stay', 'ecological', 'pathways', 'additionally', 'rural', 'gap', 'exposure', 'coupling', 'prevalent', 'resolution', 'necrosis', 'factors', 'persistent', 'rule', 'cpu', 'portion', 'chemical', 'diagnosis', 'questionnaires', 'understand', 'validation', 'augmented']\n"
     ]
    }
   ],
   "source": [
    "print final2"
   ]
  },
  {
   "cell_type": "code",
   "execution_count": 293,
   "metadata": {
    "collapsed": false
   },
   "outputs": [],
   "source": [
    "final = sorted(final2)"
   ]
  },
  {
   "cell_type": "code",
   "execution_count": 294,
   "metadata": {
    "collapsed": false
   },
   "outputs": [
    {
     "name": "stdout",
     "output_type": "stream",
     "text": [
      "['000', '0001', '001', '0em', '0px', '100', '1000', '1000em', '1038', '120', '150', '1997', '1998', '1999', '200', '2000', '2001', '2002', '2003', '2004', '2005', '2006', '2007', '2008', '2009', '2010', '2011', '2012', '2013', '2014', '264', '300', '400', '500', '802', '974em', '[[china', 'abdominal', 'abilities', 'ability', 'able', 'abnormal', 'abnormalities', 'absence', 'absent', 'absolute', 'absorption', 'abstract', 'abstraction', 'abundance', 'abundant', 'academic', 'accelerated', 'acceleration', 'acceptable', 'acceptance', 'accepted', 'access', 'accessible', 'accompanied', 'according', 'accordingly', 'account', 'accounted', 'accounting', 'accounts', 'accumulation', 'accuracy', 'accurate', 'accurately', 'achieve', 'achieved', 'achieves', 'achieving', 'acid', 'acids', 'acoustic', 'acquired', 'acquisition', 'across', 'act', 'actin', 'acting', 'action', 'actions', 'activated', 'activation', 'active', 'activities', 'activity', 'acts', 'actual', 'actually', 'actuator', 'acute', 'adapt', 'adaptation', 'adapted', 'adaptive', 'adc', 'add', 'added', 'adding', 'addition', 'additional', 'additionally', 'additive', 'address', 'addressed', 'addresses', 'addressing', 'adenosine', 'adequate', 'adherence', 'adhesion', 'adjacent', 'adjusted', 'adjusting', 'adjustment', 'administered', 'administration', 'admission', 'admitted', 'adolescent', 'adolescents', 'adopt', 'adopted', 'adoption', 'adp', 'adult', 'adults', 'advance', 'advanced', 'advances', 'advantage', 'advantages', 'adverse', 'aerial', 'affect', 'affected', 'affecting', 'affects', 'affine', 'affinity', 'africa', 'african', 'age', 'aged', 'agency', 'agent', 'agents', 'ages', 'aggregate', 'aggregation', 'aggressive', 'agile', 'aging', 'agonist', 'agreement', 'agricultural', 'aid', 'aided', 'aids', 'aim', 'aimed', 'aims', 'air', 'airway', 'akt', 'albumin', 'alcohol', 'algebra', 'algebraic', 'algebras', 'algorithm', 'algorithmic', 'algorithms', 'align', 'alignment', 'all', 'allele', 'alleles', 'allergic', 'allergy', 'allocation', 'allow', 'allowed', 'allowing', 'allows', 'almost', 'alone', 'along', 'alpha', 'already', 'also', 'alter', 'alterations', 'altered', 'alternative', 'alternatives', 'although', 'always', 'alzheimer', 'ambient', 'america', 'american', 'amino', 'among', 'amongst', 'amount', 'amounts', 'amp', 'amplification', 'amplified', 'amplifier', 'amplitude', 'amyloid', 'analog', 'analyse', 'analysed', 'analyses', 'analysis', 'analytic', 'analytical', 'analytics', 'analyze', 'analyzed', 'analyzing', 'and', 'anemia', 'angle', 'animal', 'animals', 'animation', 'ann', 'annealing', 'annotation', 'annual', 'anomalies', 'anomalous', 'anomaly', 'another', 'answer', 'ant', 'antagonist', 'antenna', 'antennas', 'anterior', 'anti', 'antibiotic', 'antibiotics', 'antibodies', 'antibody', 'antigen', 'antimicrobial', 'antioxidant', 'antiretroviral', 'anxiety', 'apoptosis', 'apoptotic', 'app', 'apparent', 'appear', 'appearance', 'appeared', 'appears', 'applicability', 'applicable', 'application', 'applications', 'applied', 'apply', 'applying', 'approach', 'approaches', 'appropriate', 'approximate', 'approximately', 'approximating', 'approximation', 'approximations', 'april', 'aqueous', 'arabidopsis', 'arbitrary', 'arc', 'architectural', 'architecture', 'architectures', 'area', 'areas', 'arginine', 'argue', 'argued', 'argues', 'argument', 'arguments', 'arise', 'arises', 'arising', 'arithmetic', 'arm', 'around', 'array', 'arrays', 'arrival', 'art', 'arterial', 'artery', 'arthritis', 'article', 'articles', 'artificial', 'asia', 'asian', 'asked', 'aspect', 'aspects', 'assay', 'assays', 'assembly', 'assess', 'assessed', 'assessing', 'assessment', 'assessments', 'assigned', 'assignment', 'assist', 'assisted', 'associated', 'association', 'associations', 'associative', 'assume', 'assumed', 'assuming', 'assumption', 'assumptions', 'asthma', 'asymmetric', 'asymptotic', 'asynchronous', 'atlantic', 'atm', 'atmosphere', 'atmospheric', 'atom', 'atomic', 'atoms', 'atp', 'attack', 'attacks', 'attempt', 'attempts', 'attending', 'attention', 'attenuated', 'attitudes', 'attractive', 'attribute', 'attributed', 'attributes', 'audio', 'augmented', 'august', 'aureus', 'australia', 'australian', 'authentication', 'author', 'authors', 'autoimmune', 'automata', 'automated', 'automatic', 'automatically', 'automation', 'automotive', 'autonomous', 'availability', 'available', 'avc', 'average', 'averaged', 'avoid', 'avoidance', 'aware', 'awareness', 'away', 'axis', 'bacillus', 'back', 'background', 'bacteria', 'bacterial', 'balance', 'balanced', 'balancing', 'band', 'bands', 'bandwidth', 'bank', 'barrier', 'barriers', 'basal', 'base', 'based', 'baseline', 'bases', 'basic', 'basin', 'basis', 'batch', 'battery', 'bayesian', 'beam', 'beamforming', 'bearing', 'became', 'become', 'becomes', 'becoming', 'bed', 'beginning', 'behavior', 'behavioral', 'behaviors', 'behaviour', 'behavioural', 'behaviours', 'behind', 'being', 'belief', 'beliefs', 'believe', 'believed', 'belonging', 'benchmark', 'beneficial', 'benefit', 'benefits', 'benign', 'besides', 'best', 'beta', 'better', 'beyond', 'bias', 'bifurcation', 'big', 'bilateral', 'binary', 'binding', 'bio', 'biochemical', 'biodiversity', 'biological', 'biology', 'biomarkers', 'biomass', 'biomedical', 'biometric', 'biopsy', 'biosynthesis', 'bipartite', 'birds', 'birth', 'bit', 'bits', 'black', 'bladder', 'bleeding', 'blind', 'block', 'blocking', 'blocks', 'blood', 'blot', 'blue', 'bmi', 'bodies', 'body', 'bold', 'bond', 'bone', 'book', 'boolean', 'border', 'born', 'bottom', 'bound', 'boundaries', 'boundary', 'bounded', 'bounds', 'bowel', 'box', 'boys', 'brain', 'branch', 'branch]', 'brazil', 'breast', 'breeding', 'brief', 'briefly', 'british', 'broad', 'broadband', 'broadcast', 'broadcasting', 'broader', 'buffer', 'build', 'building', 'built', 'bulk', 'burden', 'burst', 'bus', 'business', 'ca2', 'cache', 'caching', 'cad', 'calcium', 'calculate', 'calculated', 'calculation', 'calculations', 'calculus', 'calibration', 'call', 'called', 'calls', 'camera', 'camp', 'can', 'canada', 'cancellation', 'cancer', 'cancers', 'candidate', 'candidates', 'canonical', 'capabilities', 'capability', 'capable', 'capacity', 'capital', 'capture', 'captured', 'carbon', 'carcinoma', 'cardiac', 'cardiovascular', 'care', 'caregivers', 'carlo', 'carried', 'carrier', 'carriers', 'carry', 'carrying', 'case', 'cases', 'catalytic', 'categories', 'categorization', 'category', 'causal', 'cause', 'caused', 'causes', 'causing', 'cavity', 'cd4', 'cdma', 'cell', 'cells', 'cellular', 'center', 'centers', 'central', 'centre', 'centric', 'century', 'cerebral', 'cereus', 'certain', 'cervical', 'chain', 'chains', 'challenge', 'challenges', 'challenging', 'change', 'changed', 'changes', 'changing', 'channel', 'channels', 'chaos', 'chaotic', 'character', 'characteristic', 'characteristics', 'characterization', 'characterize', 'characterized', 'characterizing', 'characters', 'charge', 'charged', 'chd', 'check', 'checking', 'chemical', 'chemistry', 'chemotherapy', 'child', 'childhood', 'children', 'china', 'chinese', 'chip', 'choice', 'choices', 'cholesterol', 'choose', 'chosen', 'chromatic', 'chromatography', 'chromosomal', 'chromosome', 'chromosomes', 'chronic', 'circadian', 'circuit', 'circuits', 'circular', 'circulating', 'circulation', 'cis', 'citation', 'city', 'claim', 'claims', 'clarify', 'class', 'classes', 'classical', 'classification', 'classified', 'classifier', 'classifiers', 'classify', 'clay', 'clear', 'clearance', 'clearly', 'client', 'clients', 'climate', 'climatic', 'clinic', 'clinical', 'clinically', 'clinicians', 'clinics', 'clip', 'clock', 'clones', 'close', 'closed', 'closely', 'closure', 'cloud', 'clouds', 'cluster', 'clustering', 'clusters', 'cmos', 'cns', 'co2', 'coarse', 'coastal', 'coating', 'code', 'coded', 'codes', 'coding', 'coefficient', 'coefficients', 'cognitive', 'coherence', 'coherent', 'cohort', 'cold', 'coli', 'colitis', 'collaboration', 'collaborative', 'collagen', 'collected', 'collection', 'collections', 'collective', 'college', 'collision', 'colon', 'colonization', 'colony', 'color', 'colorectal', 'coloring', 'colour', 'column', 'combination', 'combinations', 'combinatorial', 'combine', 'combined', 'combines', 'combining', 'come', 'comments', 'commerce', 'commercial', 'common', 'commonly', 'communication', 'communications', 'communities', 'community', 'compact', 'companies', 'company', 'comparable', 'comparative', 'compare', 'compared', 'comparing', 'comparison', 'comparisons', 'compatible', 'compensation', 'competition', 'competitive', 'complement', 'complementary', 'complete', 'completed', 'completely', 'completion', 'complex', 'complexes', 'complexity', 'compliance', 'complicated', 'complications', 'component', 'components', 'composed', 'composite', 'composition', 'compound', 'compounds', 'comprehensive', 'compressed', 'compression', 'comprised', 'comprising', 'computation', 'computational', 'computationally', 'computations', 'compute', 'computed', 'computer', 'computers', 'computing', 'concentration', 'concentrations', 'concept', 'concepts', 'conceptual', 'concern', 'concerned', 'concerning', 'concerns', 'concert', 'conclude', 'concluded', 'conclusion', 'conclusions', 'concrete', 'concurrent', 'condition', 'conditional', 'conditions', 'conduct', 'conducted', 'conductivity', 'conference', 'confidence', 'configuration', 'configurations', 'confirm', 'confirmed', 'conflict', 'congestion', 'conjecture', 'conjunction', 'connected', 'connection', 'connections', 'connectivity', 'consecutive', 'consensus', 'consequence', 'consequences', 'consequently', 'conservation', 'conserved', 'consider', 'considerable', 'considerably', 'consideration', 'considerations', 'considered', 'considering', 'considers', 'consisted', 'consistency', 'consistent', 'consistently', 'consisting', 'consists', 'constant', 'constants', 'constitute', 'constrained', 'constraint', 'constraints', 'construct', 'constructed', 'constructing', 'construction', 'constructs', 'consumer', 'consumers', 'consuming', 'consumption', 'contact', 'contain', 'contained', 'containing', 'contains', 'contamination', 'contemporary', 'content', 'contents', 'context', 'contexts', 'contextual', 'continue', 'continued', 'continuous', 'continuously', 'contour', 'contract', 'contraction', 'contrary', 'contrast', 'contribute', 'contributed', 'contributes', 'contributing', 'contribution', 'contributions', 'control', 'controlled', 'controller', 'controllers', 'controlling', 'controls', 'convection', 'conventional', 'convergence', 'conversion', 'converter', 'converters', 'convex', 'cooling', 'cooperation', 'cooperative', 'coordinate', 'coordinated', 'coordinates', 'coordination', 'cope', 'copies', 'coping', 'copper', 'copy', 'cord', 'core', 'cores', 'coronary', 'corpus', 'correct', 'corrected', 'correction', 'correctly', 'correctness', 'correlate', 'correlated', 'correlates', 'correlation', 'correlations', 'correspondence', 'corresponding', 'cortex', 'cortical', 'cost', 'costs', 'cotton', 'count', 'counting', 'countries', 'country', 'counts', 'coupled', 'coupling', 'course', 'cover', 'coverage', 'covered', 'covering', 'cox', 'cpu', 'create', 'created', 'creating', 'creation', 'criteria', 'criterion', 'critical', 'critically', 'crohn', 'cronbach', 'crop', 'crops', 'cross', 'crp', 'crucial', 'cry', 'crystal', 'crystals', 'csf', 'cubic', 'cues', 'cultivars', 'cultural', 'culture', 'cultured', 'cultures', 'cumulative', 'current', 'currently', 'currents', 'curriculum', 'curvature', 'curve', 'curves', 'customer', 'customers', 'cut', 'cutting', 'cvd', 'cyber', 'cycle', 'cycles', 'cyclic', 'cyclotron', 'cytokine', 'cytokines', 'daily', 'damage', 'dans', 'dark', 'data', 'database', 'databases', 'dataset', 'datasets', 'date', 'day', 'days', 'deal', 'dealing', 'deals', 'death', 'deaths', 'debate', 'decade', 'decades', 'decay', 'december', 'decentralized', 'decision', 'decisions', 'decline', 'decoder', 'decoding', 'decomposition', 'decrease', 'decreased', 'decreases', 'decreasing', 'dedicated', 'deep', 'defect', 'defects', 'defense', 'deficiency', 'deficient', 'deficits', 'define', 'defined', 'defining', 'definition', 'definitions', 'deformable', 'deformation', 'degradation', 'degree', 'degrees', 'delay', 'delayed', 'delays', 'deletion', 'delivered', 'delivery', 'delta', 'demand', 'demands', 'dementia', 'demographic', 'demonstrate', 'demonstrated', 'demonstrates', 'demonstrating', 'denoising', 'dense', 'densities', 'density', 'department', 'depend', 'dependence', 'dependency', 'dependent', 'depending', 'depends', 'depletion', 'deployed', 'deployment', 'deposited', 'deposition', 'depression', 'depressive', 'depth', 'der', 'derivative', 'derivatives', 'derive', 'derived', 'des', 'describe', 'described', 'describes', 'describing', 'description', 'descriptions', 'descriptive', 'descriptors', 'design', 'designed', 'designing', 'designs', 'desirable', 'desired', 'despite', 'detail', 'detailed', 'details', 'detect', 'detected', 'detecting', 'detection', 'detector', 'determinants', 'determination', 'determine', 'determined', 'determines', 'determining', 'deterministic', 'develop', 'developed', 'developing', 'development', 'developmental', 'developments', 'deviation', 'device', 'devices', 'diabetes', 'diabetic', 'diagnosed', 'diagnosis', 'diagnostic', 'diagram', 'diagrams', 'diameter', 'die', 'died', 'dielectric', 'diet', 'dietary', 'diets', 'differ', 'differed', 'difference', 'differences', 'different', 'differential', 'differentially', 'differentiated', 'differentiation', 'difficult', 'difficulties', 'difficulty', 'diffraction', 'diffusion', 'digital', 'dimension', 'dimensional', 'dimensions', 'dioxide', 'direct', 'directed', 'direction', 'directional', 'directions', 'directly', 'disabilities', 'disability', 'discharge', 'discontinuous', 'discovered', 'discovering', 'discovery', 'discrete', 'discriminant', 'discrimination', 'discuss', 'discussed', 'discusses', 'discussion', 'disease', 'diseases', 'disjoint', 'disk', 'disorder', 'disorders', 'dispersal', 'dispersion', 'displacement', 'display', 'displayed', 'displays', 'disruption', 'dissolved', 'distance', 'distances', 'distinct', 'distinguish', 'distortion', 'distress', 'distributed', 'distribution', 'distributions', 'disturbance', 'disturbances', 'divergence', 'diverse', 'diversity', 'divided', 'division', 'dna', 'document', 'documented', 'documents', 'dogs', 'doi', 'domain', 'domains', 'domestic', 'dominance', 'dominant', 'dominated', 'domination', 'done', 'donor', 'donors', 'doped', 'dose', 'doses', 'double', 'down', 'downlink', 'downstream', 'dramatically', 'drawing', 'drawn', 'drift', 'drinking', 'drive', 'driven', 'driver', 'driving', 'drop', 'drought', 'drug', 'drugs', 'dry', 'dual', 'duality', 'due', 'duration', 'dust', 'dynamic', 'dynamical', 'dynamically', 'dynamics', 'dysfunction', 'earlier', 'early', 'earth', 'easily', 'east', 'eastern', 'easy', 'eating', 'ecological', 'ecology', 'economic', 'economy', 'ecosystem', 'ecosystems', 'edge', 'edges', 'editor', 'editorial', 'editors', 'education', 'educational', 'eeg', 'effect', 'effective', 'effectively', 'effectiveness', 'effects', 'efficacy', 'efficiency', 'efficient', 'efficiently', 'efflux', 'effort', 'efforts', 'egfr', 'egg', 'eigenvalue', 'eight', 'einstein', 'either', 'elastic', 'elderly', 'electric', 'electrical', 'electrode', 'electromagnetic', 'electron', 'electronic', 'electrons', 'element', 'elements', 'elevated', 'elevation', 'elimination', 'elisa', 'elliptic', 'elucidate', 'embedded', 'embedding', 'emerged', 'emergence', 'emergency', 'emerging', 'emission', 'emissions', 'emotion', 'emotional', 'emotions', 'emphasis', 'emphasistypeitalic', 'empirical', 'employ', 'employed', 'employing', 'employment', 'employs', 'enable', 'enabled', 'enables', 'enabling', 'encoded', 'encoding', 'encountered', 'encryption', 'end', 'endemic', 'endogenous', 'endothelial', 'energies', 'energy', 'engagement', 'engine', 'engineering', 'english', 'enhance', 'enhanced', 'enhancement', 'enhances', 'enhancing', 'enos', 'enough', 'enriched', 'enrichment', 'enrolled', 'ensemble', 'ensure', 'enterprise', 'entire', 'entities', 'entropy', 'entry', 'environment', 'environmental', 'environments', 'enzyme', 'enzymes', 'epidemiological', 'epigenetic', 'epilepsy', 'episodes', 'epithelial', 'equal', 'equalization', 'equally', 'equation', 'equations', 'equilibrium', 'equipment', 'equivalence', 'equivalent', 'erratum', 'error', 'errors', 'especially', 'essential', 'essentially', 'est', 'establish', 'established', 'establishing', 'establishment', 'estimate', 'estimated', 'estimates', 'estimating', 'estimation', 'estimator', 'estimators', 'etc', 'ethanol', 'ethical', 'ethnic', 'europe', 'european', 'evaluate', 'evaluated', 'evaluating', 'evaluation', 'evaluations', 'even', 'event', 'events', 'ever', 'every', 'evidence', 'evident', 'evolution', 'evolutionary', 'evolved', 'evolving', 'exact', 'exactly', 'examination', 'examine', 'examined', 'examines', 'examining', 'example', 'examples', 'excellent', 'except', 'excess', 'exchange', 'excitation', 'excited', 'excluded', 'execution', 'exercise', 'exhibit', 'exhibited', 'exhibits', 'exist', 'existence', 'existing', 'exists', 'expanded', 'expansion', 'expectations', 'expected', 'expensive', 'experience', 'experienced', 'experiences', 'experiment', 'experimental', 'experimentally', 'experiments', 'expert', 'experts', 'explain', 'explained', 'explanation', 'explicit', 'explicitly', 'exploit', 'exploited', 'exploiting', 'exploration', 'exploratory', 'explore', 'explored', 'explores', 'exploring', 'exponential', 'exposed', 'exposure', 'express', 'expressed', 'expressing', 'expression', 'expressions', 'extend', 'extended', 'extending', 'extends', 'extension', 'extensions', 'extensive', 'extensively', 'extent', 'external', 'extra', 'extracellular', 'extract', 'extracted', 'extracting', 'extraction', 'extracts', 'extreme', 'extremely', 'eye', 'eyes', 'face', 'faces', 'facial', 'facilitate', 'facilitates', 'facilities', 'facility', 'fact', 'factor', 'factorization', 'factors', 'fading', 'fail', 'failed', 'failure', 'failures', 'fair', 'fairness', 'fall', 'false', 'families', 'family', 'far', 'fashion', 'fast', 'faster', 'fat', 'fatigue', 'fatty', 'fault', 'faults', 'feasibility', 'feasible', 'feature', 'features', 'fed', 'feed', 'feedback', 'feeding', 'female', 'females', 'fetal', 'fever', 'fewer', 'fiber', 'fibers', 'fibrosis', 'field', 'fields', 'file', 'files', 'film', 'films', 'filter', 'filtering', 'filters', 'final', 'finally', 'financial', 'find', 'finding', 'findings', 'fine', 'fingerprint', 'finite', 'fir', 'fire', 'first', 'firstly', 'fish', 'fit', 'fitness', 'fitting', 'five', 'fixed', 'flat', 'flexibility', 'flexible', 'flies', 'flight', 'floral', 'flow', 'flowering', 'flows', 'fluctuations', 'fluid', 'fluids', 'fluorescence', 'flux', 'fluxes', 'fly', 'fmri', 'focal', 'focus', 'focused', 'focuses', 'focusing', 'fold', 'follow', 'followed', 'following', 'follows', 'font', 'food', 'for', 'force', 'forced', 'forces', 'forcing', 'forecast', 'forecasting', 'foreign', 'forest', 'forests', 'form', 'formal', 'formalism', 'format', 'formation', 'formed', 'former', 'forming', 'forms', 'formula', 'formulas', 'formulate', 'formulated', 'formulation', 'forty', 'forward', 'found', 'foundation', 'four', 'fourier', 'fourth', 'fpga', 'fractal', 'fraction', 'fractional', 'fractions', 'fracture', 'fragment', 'fragmentation', 'fragments', 'frame', 'frames', 'framework', 'free', 'freedom', 'french', 'frequencies', 'frequency', 'frequent', 'frequently', 'fresh', 'freshwater', 'front', 'fruit', 'fuel', 'full', 'fullerene', 'fully', 'function', 'functional', 'functionality', 'functioning', 'functions', 'fundamental', 'fungal', 'fungi', 'furthermore', 'fusion', 'future', 'fuzzy', 'gain', 'gained', 'gains', 'gait', 'galerkin', 'game', 'games', 'gamma', 'gap', 'gaps', 'gas', 'gastric', 'gastrointestinal', 'gate', 'gaussian', 'gave', 'gel', 'gender', 'gene', 'general', 'generalization', 'generalized', 'generally', 'generate', 'generated', 'generates', 'generating', 'generation', 'generator', 'generic', 'genes', 'genetic', 'genetically', 'genetics', 'genome', 'genomes', 'genomic', 'genotype', 'genotypes', 'genus', 'geographic', 'geographical', 'geometric', 'geometry', 'german', 'gesture', 'get', 'ghz', 'girls', 'gis', 'give', 'given', 'gives', 'giving', 'gland', 'glass', 'glioma', 'global', 'globally', 'glucose', 'goal', 'goals', 'gold', 'good', 'government', 'gps', 'gpu', 'grade', 'gradient', 'gradients', 'grain', 'gram', 'grammars', 'graph', 'graphene', 'graphical', 'graphics', 'graphs', 'grass', 'great', 'greater', 'greatest', 'greatly', 'greedy', 'green', 'grid', 'grids', 'ground', 'group', 'groups', 'growing', 'grown', 'growth', 'guarantee', 'guarantees', 'guest', 'guidance', 'guide', 'guided', 'guidelines', 'gut', 'habitat', 'habitats', 'hair', 'half', 'hamiltonian', 'hand', 'handle', 'handling', 'handwritten', 'haplotype', 'haptic', 'hard', 'hardware', 'harmonic', 'hazard', 'hcv', 'hdl', 'hdlc', 'head', 'headache', 'healing', 'health', 'healthcare', 'healthy', 'heart', 'heat', 'heating', 'heavy', 'height', 'held', 'help', 'helps', 'hence', 'hepatic', 'hepatitis', 'heterogeneity', 'heterogeneous', 'heuristic', 'heuristics', 'hidden', 'hierarchical', 'hierarchy', 'high', 'higher', 'highest', 'highlight', 'highlighted', 'highlights', 'highly', 'histogram', 'histological', 'historical', 'history', 'hiv', 'hla', 'hoc', 'hold', 'holds', 'hole', 'home', 'homeostasis', 'homogeneous', 'hop', 'horizontal', 'hormone', 'hospital', 'hospitals', 'host', 'hosts', 'hot', 'hours', 'household', 'housing', 'however', 'href', 'http', 'huge', 'human', 'humanoid', 'humans', 'hundred', 'hybrid', 'hybridization', 'hydrogen', 'hyperbolic', 'hyperspectral', 'hypertension', 'hypertensive', 'hypotheses', 'hypothesis', 'hypothesized', 'hypoxia', 'ibd', 'icc', 'ice', 'ict', 'idea', 'ideal', 'ideas', 'identical', 'identification', 'identified', 'identifies', 'identify', 'identifying', 'identity', 'ieee', 'ifn', 'ige', 'igg', 'iii', 'ill', 'illness', 'illumination', 'illustrate', 'illustrated', 'image', 'imagery', 'images', 'imaging', 'immediate', 'immediately', 'immune', 'immunity', 'immunohistochemistry', 'impact', 'impacts', 'impaired', 'impairment', 'impedance', 'imperfect', 'implement', 'implementation', 'implementations', 'implemented', 'implementing', 'implicated', 'implications', 'implicit', 'implies', 'importance', 'important', 'importantly', 'improve', 'improved', 'improvement', 'improvements', 'improves', 'improving', 'impulse', 'impulsive', 'incidence', 'incident', 'include', 'included', 'includes', 'including', 'inclusion', 'income', 'incomplete', 'incorporate', 'incorporated', 'incorporating', 'incorporation', 'increase', 'increased', 'increases', 'increasing', 'increasingly', 'incremental', 'incubation', 'indeed', 'independence', 'independent', 'independently', 'index', 'indexing', 'india', 'indian', 'indicate', 'indicated', 'indicates', 'indicating', 'indicator', 'indicators', 'indices', 'indirect', 'individual', 'individuals', 'indoor', 'induce', 'induced', 'induces', 'inducible', 'inducing', 'induction', 'inductive', 'industrial', 'industry', 'inequalities', 'inequality', 'infant', 'infants', 'infected', 'infection', 'infections', 'infectious', 'inference', 'infiltration', 'infinite', 'inflammation', 'inflammatory', 'influence', 'influenced', 'influences', 'influencing', 'influenza', 'inform', 'information', 'informed', 'infrared', 'infrastructure', 'infusion', 'inherent', 'inherit', 'inhibit', 'inhibited', 'inhibition', 'inhibitor', 'inhibitors', 'inhibitory', 'initial', 'initially', 'initiated', 'initiation', 'injected', 'injection', 'injury', 'inline', 'inlineequation', 'inner', 'innovation', 'innovative', 'inos', 'input', 'inputs', 'insect', 'insertion', 'inside', 'insight', 'insights', 'inspection', 'inspired', 'instability', 'instance', 'instances', 'instead', 'institute', 'institutional', 'institutions', 'instruction', 'instrument', 'instruments', 'insufficient', 'insulin', 'intact', 'intake', 'integer', 'integral', 'integrate', 'integrated', 'integrating', 'integration', 'integrity', 'intellectual', 'intelligence', 'intelligent', 'intended', 'intense', 'intensity', 'intensive', 'intention', 'inter', 'interact', 'interacting', 'interaction', 'interactions', 'interactive', 'interannual', 'interconnection', 'interdisciplinary', 'interest', 'interesting', 'interestingly', 'interests', 'interface', 'interfaces', 'interference', 'interior', 'interleukin', 'intermediate', 'internal', 'international', 'internet', 'interoperability', 'interpolation', 'interpretation', 'interpreted', 'interprofessional', 'intersection', 'interstitial', 'interval', 'intervals', 'intervention', 'interventions', 'interview', 'interviews', 'intestinal', 'intra', 'intracellular', 'intravenous', 'intrinsic', 'introduce', 'introduced', 'introduces', 'introducing', 'introduction', 'intrusion', 'intuitionistic', 'invariant', 'invasion', 'invasive', 'inventory', 'inverse', 'inversion', 'investigate', 'investigated', 'investigates', 'investigating', 'investigation', 'investigations', 'investment', 'involve', 'involved', 'involvement', 'involves', 'involving', 'ion', 'ions', 'iron', 'irradiation', 'isbn', 'island', 'islands', 'isolated', 'isolates', 'isolation', 'issue', 'issues', 'italic', 'item', 'items', 'iteration', 'iterative', 'january', 'japan', 'japanese', 'java', 'jet', 'job', 'jobs', 'john', 'joint', 'journal', 'july', 'june', 'just', 'kalman', 'kernel', 'key', 'kidney', 'kinase', 'kind', 'kinds', 'kinetic', 'kinetics', 'kinin', 'know', 'knowledge', 'known', 'label', 'labeled', 'labeling', 'laboratory', 'lack', 'lacking', 'lagrangian', 'lake', 'land', 'landscape', 'language', 'languages', 'large', 'largely', 'larger', 'largescale', 'largest', 'larvae', 'laser', 'last', 'late', 'latency', 'latent', 'later', 'lateral', 'latter', 'lattice', 'lattices', 'law', 'laws', 'layer', 'layered', 'layers', 'layout', 'ldl', 'ldlc', 'ldpc', 'lead', 'leading', 'leads', 'leaf', 'leakage', 'learn', 'learned', 'learning', 'least', 'leaves', 'led', 'left', 'legal', 'length', 'lengths', 'les', 'lesion', 'lesions', 'less', 'lessons', 'let', 'letter', 'level', 'levels', 'libraries', 'library', 'life', 'lifetime', 'ligand', 'ligands', 'ligase', 'light', 'lightweight', 'like', 'likelihood', 'likely', 'limit', 'limitation', 'limitations', 'limited', 'limiting', 'limits', 'line', 'linear', 'linearly', 'lines', 'linguistic', 'link', 'linkage', 'linked', 'links', 'lipid', 'lipoprotein', 'liquid', 'list', 'literature', 'lithium', 'little', 'live', 'liver', 'lives', 'living', 'load', 'loading', 'loads', 'local', 'localization', 'localized', 'locally', 'located', 'location', 'locations', 'loci', 'locus', 'log', 'logic', 'logical', 'logics', 'logistic', 'long', 'longer', 'longitudinal', 'look', 'loop', 'loss', 'losses', 'lost', 'low', 'lower', 'lowest', 'lps', 'lte', 'lung', 'lyapunov', 'lymphocytes', 'lymphoma', 'mac', 'machine', 'machines', 'macrophages', 'made', 'magnetic', 'magnitude', 'main', 'mainly', 'maintain', 'maintained', 'maintaining', 'maintenance', 'maize', 'major', 'majority', 'make', 'makes', 'making', 'malaria', 'male', 'males', 'malignant', 'malnutrition', 'mammalian', 'man', 'manage', 'managed', 'management', 'managers', 'managing', 'manipulation', 'manipulator', 'manipulators', 'manner', 'manual', 'manufacturing', 'many', 'map', 'mapped', 'mapping', 'mappings', 'maps', 'march', 'margin', 'marine', 'marked', 'markedly', 'marker', 'markers', 'market', 'markets', 'markov', 'markovian', 'marrow', 'mass', 'massive', 'match', 'matched', 'matching', 'material', 'materials', 'maternal', 'math', 'mathcal', 'mathematical', 'mathematics', 'mathjax', 'mathjax_main', 'mathjax_preview', 'mathml', 'mating', 'matrices', 'matrix', 'matter', 'maturation', 'mature', 'max', 'maximal', 'maximization', 'maximize', 'maximum', 'may', 'mean', 'meaning', 'meaningful', 'means', 'measure', 'measured', 'measurement', 'measurements', 'measures', 'measuring', 'mechanical', 'mechanism', 'mechanisms', 'media', 'median', 'mediated', 'medical', 'medication', 'medications', 'medicine', 'mediterranean', 'medium', 'meet', 'meeting', 'member', 'members', 'membrane', 'membranes', 'memory', 'men', 'meningitis', 'mental', 'mentioned', 'merging', 'mesh', 'meshes', 'message', 'messages', 'met', 'meta', 'metabolic', 'metabolism', 'metabolites', 'metadata', 'metal', 'metals', 'metastasis', 'metastatic', 'method', 'methodologies', 'methodology', 'methods', 'methyl', 'methylation', 'metric', 'metrics', 'mice', 'micro', 'microarray', 'microbial', 'microsatellite', 'microscopic', 'microscopy', 'microwave', 'mid', 'middle', 'middleware', 'might', 'migration', 'mild', 'milk', 'million', 'mimo', 'min', 'mineral', 'minimal', 'minimization', 'minimize', 'minimizing', 'minimum', 'mining', 'minor', 'minutes', 'mir', 'mirna', 'mirnas', 'missing', 'mit', 'mitigation', 'mitochondrial', 'mixed', 'mixing', 'mixture', 'mixtures', 'mjx', 'mjxp', 'mmhg', 'mmol', 'mmp', 'mobile', 'mobility', 'modal', 'mode', 'model', 'modeled', 'modeling', 'modelling', 'models', 'moderate', 'modern', 'modes', 'modification', 'modifications', 'modified', 'modify', 'modular', 'modulated', 'modulation', 'module', 'modules', 'moisture', 'mol', 'molecular', 'molecule', 'molecules', 'moment', 'moments', 'momentum', 'monitor', 'monitored', 'monitoring', 'monotone', 'monsoon', 'monte', 'month', 'months', 'moral', 'morbidity', 'moreover', 'morphological', 'morphology', 'mortality', 'mostly', 'mother', 'mothers', 'motion', 'motivated', 'motivation', 'motor', 'mouse', 'move', 'movement', 'movements', 'moving', 'mpeg', 'mri', 'mrna', 'mrow', 'much', 'mucosal', 'multi', 'multiagent', 'multicast', 'multichannel', 'multidimensional', 'multilevel', 'multimedia', 'multimodal', 'multiobjective', 'multipath', 'multiple', 'multiplexing', 'multiplication', 'multiprocessor', 'multiscale', 'multiuser', 'multivariate', 'murine', 'muscle', 'music', 'must', 'mutant', 'mutants', 'mutation', 'mutations', 'mutual', 'myeloma', 'myocardial', 'name', 'named', 'namely', 'nanoparticles', 'narrow', 'nasal', 'national', 'native', 'natural', 'naturally', 'nature', 'nausea', 'navigation', 'near', 'nearest', 'nearly', 'necessarily', 'necessary', 'necrosis', 'need', 'needed', 'needs', 'negative', 'negatively', 'negotiation', 'neighbor', 'neighborhood', 'neisseria', 'neither', 'neonatal', 'nerve', 'nervous', 'net', 'nets', 'network', 'networked', 'networking', 'networks', 'neural', 'neuro', 'neurological', 'neuron', 'neuronal', 'neurons', 'neutral', 'never', 'nevertheless', 'new', 'newly', 'news', 'newton', 'newtonian', 'next', 'nine', 'nitrate', 'nitric', 'nitrogen', 'nnos', 'nobr', 'node', 'nodes', 'noise', 'noisy', 'non', 'none', 'nonlinear', 'nonparametric', 'norm', 'normal', 'normalized', 'normally', 'norms', 'north', 'northern', 'nos', 'not', 'notably', 'note', 'noted', 'notion', 'novel', 'now', 'nuclear', 'nuclei', 'nucleotide', 'nucleus', 'null', 'number', 'numbers', 'numerical', 'numerically', 'numerous', 'nurse', 'nurses', 'nursing', 'nutrient', 'nutrition', 'nutritional', 'obese', 'obesity', 'object', 'objective', 'objectives', 'objects', 'observation', 'observational', 'observations', 'observe', 'observed', 'observer', 'obtain', 'obtained', 'obtaining', 'occupational', 'occur', 'occurred', 'occurrence', 'occurring', 'occurs', 'ocean', 'october', 'odds', 'ofdm', 'ofdma', 'off', 'offer', 'offered', 'offers', 'offset', 'offspring', 'often', 'oil', 'old', 'older', 'one', 'ones', 'ongoing', 'online', 'only', 'onset', 'onto', 'ontologies', 'ontology', 'open', 'operate', 'operating', 'operation', 'operational', 'operations', 'operative', 'operator', 'operators', 'opportunistic', 'opportunities', 'opportunity', 'opposite', 'optical', 'optimal', 'optimality', 'optimisation', 'optimization', 'optimize', 'optimized', 'optimizing', 'optimum', 'option', 'options', 'oral', 'order', 'ordered', 'ordering', 'orders', 'ordinary', 'org', 'organ', 'organic', 'organisms', 'organization', 'organizational', 'organizations', 'organized', 'organizing', 'organs', 'orientation', 'oriented', 'origin', 'original', 'orthogonal', 'oscillation', 'oscillations', 'oscillator', 'other', 'others', 'otherwise', 'out', 'outcome', 'outcomes', 'outer', 'outpatient', 'outperforms', 'output', 'outputs', 'outside', 'ovarian', 'over', 'overall', 'overcome', 'overexpression', 'overflow', 'overhead', 'overlap', 'overlapping', 'overlay', 'overview', 'overweight', 'oxidation', 'oxidative', 'oxide', 'oxygen', 'p2p', 'p53', 'pacific', 'package', 'packet', 'packets', 'packing', 'page', 'pain', 'pair', 'pairs', 'pairwise', 'pancreatic', 'panel', 'paper', 'papers', 'par', 'parabolic', 'paradigm', 'parallel', 'parallelism', 'parameter', 'parameterized', 'parameters', 'parametric', 'parasite', 'parent', 'parental', 'parents', 'part', 'partial', 'partially', 'participants', 'participate', 'participated', 'participating', 'participation', 'particle', 'particles', 'particular', 'particularly', 'partition', 'partitioning', 'partitions', 'partly', 'partner', 'partners', 'parts', 'party', 'pass', 'passive', 'past', 'patch', 'patches', 'path', 'pathogen', 'pathogenesis', 'pathogenic', 'pathogens', 'pathological', 'pathology', 'paths', 'pathway', 'pathways', 'patient', 'patients', 'pattern', 'patterns', 'pca', 'pcr', 'peak', 'peaks', 'pediatric', 'peer', 'peers', 'people', 'peptide', 'peptides', 'per', 'perceived', 'percent', 'percentage', 'perception', 'perceptions', 'perceptual', 'perfect', 'perform', 'performance', 'performances', 'performed', 'performing', 'performs', 'period', 'periodic', 'periods', 'peripheral', 'permanent', 'permutation', 'persistence', 'persistent', 'person', 'personal', 'personality', 'personalized', 'persons', 'perspective', 'perspectives', 'perturbation', 'perturbations', 'pervasive', 'pet', 'petri', 'pharmacological', 'phase', 'phases', 'phenomena', 'phenomenon', 'phenotype', 'phenotypes', 'phenotypic', 'phone', 'phonon', 'phosphate', 'phosphorylation', 'photon', 'phylogenetic', 'phys', 'physical', 'physician', 'physicians', 'physics', 'physiological', 'picture', 'piecewise', 'pigs', 'pilot', 'pixel', 'pixels', 'place', 'placebo', 'placed', 'placement', 'plan', 'planar', 'plane', 'planning', 'plans', 'plant', 'plants', 'plasma', 'plasmapheresis', 'plasmas', 'plate', 'platelet', 'platelets', 'platform', 'platforms', 'play', 'played', 'player', 'players', 'plays', 'plots', 'plus', 'point', 'points', 'poisson', 'polar', 'polarimetric', 'polarization', 'policies', 'policy', 'political', 'pollen', 'pollution', 'polymer', 'polymerase', 'polymorphic', 'polymorphism', 'polymorphisms', 'polynomial', 'polynomials', 'pool', 'poor', 'poorly', 'poplar', 'popular', 'population', 'populations', 'populus', 'portfolio', 'portion', 'pose', 'position', 'positioning', 'positions', 'positive', 'positively', 'possess', 'possibilities', 'possibility', 'possible', 'possibly', 'post', 'posterior', 'postoperative', 'potent', 'potential', 'potentially', 'potentials', 'pour', 'power', 'powerful', 'practical', 'practice', 'practices', 'practitioners', 'pre', 'precipitation', 'precise', 'precisely', 'precision', 'precursor', 'predict', 'predicted', 'predicting', 'prediction', 'predictions', 'predictive', 'predictor', 'predictors', 'predicts', 'predominantly', 'preface', 'preference', 'preferences', 'preferred', 'pregnancy', 'pregnant', 'preliminary', 'preparation', 'prepared', 'prescribed', 'presence', 'present', 'presentation', 'presented', 'presenting', 'presents', 'preserving', 'press', 'pressure', 'pressures', 'prevalence', 'prevalent', 'prevent', 'prevented', 'preventing', 'prevention', 'preventive', 'previous', 'previously', 'prey', 'price', 'pricing', 'primarily', 'primary', 'principal', 'principle', 'principles', 'prior', 'priori', 'priority', 'privacy', 'private', 'pro', 'probabilistic', 'probabilities', 'probability', 'probably', 'probe', 'problem', 'problems', 'procedure', 'procedures', 'process', 'processed', 'processes', 'processing', 'processor', 'processors', 'produce', 'produced', 'produces', 'producing', 'product', 'production', 'productivity', 'products', 'professional', 'professionals', 'profile', 'profiles', 'profiling', 'prognosis', 'prognostic', 'program', 'programmable', 'programme', 'programmes', 'programming', 'programs', 'progress', 'progression', 'progressive', 'project', 'projection', 'projects', 'proliferation', 'prolonged', 'prominent', 'promising', 'promote', 'promoted', 'promoter', 'promotes', 'promoting', 'prone', 'pronounced', 'proof', 'propagation', 'proper', 'properly', 'properties', 'property', 'proportion', 'proportional', 'proposal', 'propose', 'proposed', 'proposes', 'prospective', 'prostate', 'protect', 'protected', 'protection', 'protective', 'protein', 'proteins', 'protocol', 'protocols', 'prototype', 'prove', 'proved', 'proven', 'provide', 'provided', 'provider', 'providers', 'provides', 'providing', 'provision', 'provisioning', 'proximal', 'proximity', 'pseudo', 'psychiatric', 'psychological', 'psychometric', 'psychosocial', 'public', 'published', 'publisher', 'pulmonary', 'pulse', 'pulses', 'pure', 'purified', 'purpose', 'purposes', 'put', 'putative', 'pylori', 'qol', 'qos', 'qtl', 'quadratic', 'qualitative', 'quality', 'quantification', 'quantified', 'quantify', 'quantitative', 'quantities', 'quantity', 'quantization', 'quantum', 'quasi', 'que', 'queries', 'query', 'question', 'questionnaire', 'questionnaires', 'questions', 'queue', 'queueing', 'queues', 'quickly', 'quite', 'race', 'radar', 'radial', 'radiation', 'radical', 'radio', 'radius', 'rainfall', 'raised', 'raman', 'random', 'randomized', 'randomly', 'range', 'ranged', 'ranges', 'ranging', 'rank', 'ranking', 'rapid', 'rapidly', 'rare', 'rarely', 'rasch', 'rat', 'rate', 'rated', 'rates', 'rather', 'rating', 'ratings', 'ratio', 'rational', 'ratios', 'rats', 'raw', 'ray', 'rayleigh', 'reach', 'reached', 'reaction', 'reactions', 'reactive', 'reactivity', 'read', 'readily', 'reading', 'real', 'realistic', 'reality', 'realization', 'realized', 'reason', 'reasonable', 'reasoning', 'reasons', 'recall', 'receive', 'received', 'receiver', 'receivers', 'receiving', 'recent', 'recently', 'receptor', 'receptors', 'recipients', 'recognition', 'recognize', 'recognized', 'recombinant', 'recombination', 'recommendation', 'recommendations', 'recommended', 'reconfigurable', 'reconfiguration', 'reconstruction', 'record', 'recorded', 'recording', 'records', 'recovered', 'recovery', 'recruited', 'recruitment', 'recurrence', 'recurrent', 'recursive', 'red', 'reduce', 'reduced', 'reduces', 'reducing', 'reduction', 'reductions', 'redundancy', 'redundant', 'reference', 'referred', 'refinement', 'reflect', 'reflected', 'reflection', 'reflects', 'regard', 'regarded', 'regarding', 'regardless', 'regime', 'regimen', 'regimes', 'region', 'regional', 'regions', 'registration', 'regression', 'regular', 'regularization', 'regulate', 'regulated', 'regulates', 'regulating', 'regulation', 'regulator', 'regulatory', 'rehabilitation', 'reinforcement', 'rejection', 'relate', 'related', 'relating', 'relation', 'relational', 'relations', 'relationship', 'relationships', 'relative', 'relatively', 'relaxation', 'relay', 'relaying', 'release', 'released', 'relevance', 'relevant', 'reliability', 'reliable', 'relies', 'rely', 'remain', 'remained', 'remaining', 'remains', 'remission', 'remote', 'removal', 'removed', 'renal', 'rendering', 'repair', 'repeat', 'repeated', 'replacement', 'replication', 'report', 'reported', 'reporting', 'reports', 'represent', 'representation', 'representations', 'representative', 'represented', 'representing', 'represents', 'reproduction', 'reproductive', 'request', 'requests', 'require', 'required', 'requirement', 'requirements', 'requires', 'requiring', 'research', 'researchers', 'resection', 'residents', 'residual', 'residue', 'residues', 'resilient', 'resistance', 'resistant', 'resolution', 'resolved', 'resonance', 'resource', 'resources', 'respect', 'respective', 'respectively', 'respiration', 'respiratory', 'respond', 'respondents', 'response', 'responses', 'responsible', 'responsive', 'responsiveness', 'rest', 'restoration', 'restricted', 'restriction', 'restrictions', 'result', 'resulted', 'resulting', 'results', 'retention', 'retinal', 'retrieval', 'retrospective', 'return', 'reuse', 'reveal', 'revealed', 'reveals', 'reverse', 'reversible', 'review', 'reviewed', 'reviews', 'revisited', 'rewriting', 'rfid', 'rice', 'rich', 'richness', 'right', 'rights', 'rigid', 'ring', 'rise', 'risk', 'risks', 'river', 'rna', 'road', 'robot', 'robotic', 'robotics', 'robots', 'robust', 'robustness', 'role', 'roles', 'room', 'root', 'roots', 'ros', 'rotation', 'rough', 'round', 'route', 'routine', 'routing', 'rule', 'rules', 'run', 'running', 'runs', 'runtime', 'rural', 'safe', 'safety', 'sage', 'saline', 'salinity', 'salt', 'sample', 'sampled', 'samples', 'sampling', 'sar', 'satellite', 'satisfaction', 'satisfactory', 'satisfied', 'satisfy', 'saturation', 'savanna', 'scalability', 'scalable', 'scalar', 'scale', 'scales', 'scaling', 'scan', 'scanning', 'scattering', 'scenario', 'scenarios', 'scene', 'schedule', 'scheduling', 'schema', 'scheme', 'schemes', 'schizophrenia', 'school', 'schools', 'sci', 'science', 'sciences', 'scientific', 'scope', 'score', 'scores', 'scoring', 'screen', 'screened', 'screening', 'script', 'sea', 'search', 'searching', 'season', 'seasonal', 'second', 'secondary', 'secret', 'secretion', 'section', 'sectional', 'sections', 'sector', 'secure', 'security', 'sediment', 'see', 'seed', 'seedlings', 'seeds', 'seeking', 'seem', 'seems', 'seen', 'segment', 'segmentation', 'segments', 'select', 'selected', 'selecting', 'selection', 'selective', 'self', 'semantic', 'semantics', 'semi', 'semiconductor', 'sense', 'sensing', 'sensitive', 'sensitivity', 'sensor', 'sensors', 'sensory', 'separate', 'separated', 'separately', 'separation', 'september', 'sequence', 'sequences', 'sequencing', 'sequential', 'serial', 'series', 'serious', 'serum', 'serve', 'server', 'servers', 'service', 'services', 'session', 'sessions', 'set', 'sets', 'setting', 'settings', 'setup', 'seven', 'several', 'severe', 'severely', 'severity', 'sex', 'sexual', 'shallow', 'shape', 'shaped', 'shapes', 'share', 'shared', 'sharing', 'shear', 'shell', 'shift', 'shifts', 'shock', 'shop', 'short', 'shorter', 'shortest', 'show', 'showed', 'showing', 'shown', 'shows', 'side', 'sigma', 'sign', 'signal', 'signaling', 'signalling', 'signals', 'signature', 'signatures', 'significance', 'significant', 'significantly', 'signs', 'silicon', 'similar', 'similarities', 'similarity', 'similarly', 'simple', 'simplified', 'simply', 'simulate', 'simulated', 'simulating', 'simulation', 'simulations', 'simulator', 'simultaneous', 'simultaneously', 'since', 'singapore', 'single', 'singular', 'site', 'sites', 'situ', 'situation', 'situations', 'six', 'size', 'sized', 'sizes', 'skill', 'skills', 'skin', 'sleep', 'sliding', 'slightly', 'slope', 'slow', 'small', 'smaller', 'smart', 'smoke', 'smokers', 'smoking', 'smooth', 'smoothing', 'snp', 'snps', 'snr', 'soc', 'social', 'society', 'socio', 'socioeconomic', 'sodium', 'soft', 'software', 'soil', 'soils', 'solar', 'solid', 'soluble', 'solution', 'solutions', 'solve', 'solved', 'solvent', 'solver', 'solving', 'sometimes', 'sorting', 'sought', 'sound', 'source', 'sources', 'south', 'southern', 'space', 'spaces', 'span', 'spanish', 'spanning', 'sparse', 'spatial', 'spatially', 'spatio', 'speaker', 'special', 'specialized', 'species', 'specific', 'specifically', 'specification', 'specifications', 'specificity', 'specified', 'specimens', 'spectra', 'spectral', 'spectrometry', 'spectroscopy', 'spectrum', 'speech', 'speed', 'sperm', 'sphere', 'spherical', 'spin', 'spinal', 'spline', 'split', 'splitting', 'spontaneous', 'spp', 'spread', 'spring', 'square', 'squares', 'sst', 'stability', 'stabilization', 'stable', 'staff', 'stage', 'stages', 'staining', 'standard', 'standardized', 'standards', 'standing', 'start', 'started', 'starting', 'state', 'states', 'static', 'station', 'stationary', 'stations', 'statistical', 'statistically', 'statistics', 'status', 'stay', 'steady', 'steiner', 'stem', 'step', 'steps', 'stereo', 'stigma', 'still', 'stimulated', 'stimulating', 'stimulation', 'stimuli', 'stimulus', 'stochastic', 'stock', 'stokes', 'stone', 'stones', 'storage', 'store', 'stored', 'strain', 'strains', 'strategic', 'strategies', 'strategy', 'stream', 'streaming', 'streams', 'strength', 'stress', 'stresses', 'string', 'stroke', 'strong', 'stronger', 'strongly', 'structural', 'structure', 'structured', 'structures', 'student', 'students', 'studied', 'studies', 'study', 'studying', 'style', 'sub', 'subgroup', 'subgroups', 'subject', 'subjected', 'subjective', 'subjects', 'subsequent', 'subsequently', 'subset', 'subsets', 'subspace', 'substance', 'substantial', 'substantially', 'substitution', 'substrate', 'substrates', 'subtypes', 'subunit', 'success', 'successful', 'successfully', 'suffer', 'sufficient', 'sufficiently', 'suggest', 'suggested', 'suggesting', 'suggests', 'suitable', 'suited', 'sum', 'summary', 'summer', 'sup', 'super', 'superior', 'supervised', 'supplementation', 'supply', 'support', 'supported', 'supporting', 'supports', 'suppressed', 'suppression', 'sur', 'surface', 'surfaces', 'surgery', 'surgical', 'surprisingly', 'surrounding', 'surveillance', 'survey', 'surveys', 'survival', 'survivors', 'susceptibility', 'susceptible', 'sustainable', 'sustained', 'svm', 'swarm', 'switch', 'switched', 'switching', 'symbol', 'symbolic', 'symmetric', 'symmetry', 'symptom', 'symptoms', 'synchronization', 'synchronous', 'syndrome', 'synthase', 'synthesis', 'synthesized', 'synthetic', 'system', 'systematic', 'systematically', 'systemic', 'systems', 'systolic', 'tabindex', 'table', 'tactile', 'tag', 'tags', 'take', 'taken', 'takes', 'taking', 'tanzania', 'target', 'targeted', 'targeting', 'targets', 'task', 'tasks', 'taxa', 'tcp', 'teachers', 'teaching', 'team', 'technical', 'technique', 'techniques', 'technological', 'technologies', 'technology', 'temperature', 'temperatures', 'template', 'temporal', 'ten', 'tend', 'tendency', 'tension', 'tensor', 'term', 'terminal', 'terms', 'terrain', 'terrestrial', 'test', 'tested', 'testing', 'testosterone', 'tests', 'tetracycline', 'tex', 'texatom', 'text', 'texture', 'tgf', 'the', 'them', 'themes', 'theorem', 'theorems', 'theoretic', 'theoretical', 'theoretically', 'theories', 'theory', 'therapeutic', 'therapies', 'therapy', 'thereby', 'therefore', 'thermal', 'thermodynamic', 'thickness', 'thin', 'thinking', 'third', 'thirty', 'this', 'though', 'thought', 'thread', 'threads', 'threat', 'three', 'threshold', 'thresholds', 'throughout', 'throughput', 'thus', 'tight', 'tillage', 'time', 'timed', 'times', 'timing', 'tissue', 'tissues', 'tnf', 'tobacco', 'today', 'together', 'tolerance', 'tolerant', 'tomography', 'took', 'tool', 'tools', 'top', 'topic', 'topics', 'topological', 'topology', 'total', 'toward', 'towards', 'toxic', 'toxicity', 'toxin', 'trace', 'tracing', 'track', 'tracking', 'tract', 'trade', 'trading', 'traditional', 'traffic', 'trained', 'training', 'trait', 'traits', 'trajectories', 'trajectory', 'trans', 'transaction', 'transcript', 'transcription', 'transcriptional', 'transcriptome', 'transcripts', 'transfer', 'transform', 'transformation', 'transformations', 'transformed', 'transforms', 'transgenic', 'transient', 'transition', 'transitions', 'translated', 'translation', 'translocation', 'transmission', 'transmit', 'transmitted', 'transplant', 'transplantation', 'transport', 'transportation', 'trap', 'travel', 'traveling', 'treat', 'treated', 'treating', 'treatment', 'treatments', 'tree', 'trees', 'trend', 'trends', 'trial', 'trials', 'triangular', 'triple', 'tropical', 'true', 'trust', 'truth', 'tube', 'tuberculosis', 'tumor', 'tumors', 'tumour', 'tumours', 'tuning', 'turbo', 'turn', 'twenty', 'twice', 'two', 'type', 'types', 'typical', 'typically', 'u0394', 'u03b1', 'u03b2', 'u03b3', 'u03b4', 'u03b5', 'u03bab', 'u03bb', 'u03bc', 'u03bcg', 'u03bcm', 'u03c0', 'u2009', 'u200a', 'u200a0', 'u2013', 'u20130', 'u20131', 'u20132', 'u2014', 'u2019', 'u2019s', 'u201d', 'u2022', 'u2032', 'u2212', 'u22120', 'u22121', 'u22122', 'u221e', 'u2264', 'u2265', 'ubackground', 'ubiquitin', 'ubiquitous', 'uin', 'ultimately', 'ultra', 'ultrasound', 'uml', 'uncertain', 'uncertainties', 'uncertainty', 'unclear', 'und', 'undergoing', 'underlying', 'understand', 'understanding', 'understood', 'undertaken', 'underwater', 'underwent', 'une', 'unfortunately', 'unified', 'uniform', 'unique', 'unit', 'united', 'units', 'universal', 'university', 'unknown', 'unlike', 'unstable', 'unstructured', 'unsupervised', 'untreated', 'uon', 'update', 'uplink', 'upon', 'upper', 'uptake', 'urban', 'urinary', 'urine', 'usa', 'usability', 'usage', 'use', 'used', 'useful', 'usefulness', 'user', 'users', 'uses', 'using', 'usual', 'usually', 'uthe', 'uthis', 'utility', 'utilization', 'utilize', 'utilized', 'utilizes', 'utilizing', 'uwb', 'uwe', 'vaccination', 'vaccine', 'valence', 'valid', 'validate', 'validated', 'validation', 'validity', 'valuable', 'value', 'valued', 'values', 'variability', 'variable', 'variables', 'variance', 'variant', 'variants', 'variation', 'variational', 'variations', 'varied', 'varies', 'variety', 'various', 'vary', 'varying', 'vascular', 'vector', 'vectors', 'vegetation', 'vegf', 'vehicle', 'vehicles', 'vehicular', 'velocity', 'venous', 'ventricular', 'verification', 'verified', 'verify', 'version', 'versions', 'versus', 'vertex', 'vertical', 'vertices', 'vessels', 'via', 'viability', 'viable', 'vibration', 'vibrational', 'video', 'videos', 'view', 'viewed', 'views', 'violence', 'viral', 'virtual', 'virulence', 'virus', 'viruses', 'viscosity', 'visible', 'vision', 'visit', 'visits', 'visual', 'visualization', 'visualizing', 'vital', 'vitamin', 'vitro', 'vivo', 'vlsi', 'voice', 'voltage', 'volume', 'volumes', 'vomiting', 'von', 'voting', 'vulnerable', 'walking', 'wall', 'war', 'warm', 'warming', 'water', 'watermarking', 'waters', 'wave', 'wavelength', 'wavelet', 'waves', 'way', 'ways', 'wdm', 'weak', 'weakly', 'weather', 'web', 'week', 'weeks', 'weight', 'weighted', 'weights', 'well', 'west', 'western', 'wet', 'wheat', 'whereas', 'whether', 'white', 'whole', 'whose', 'wide', 'wideband', 'widely', 'wider', 'widespread', 'width', 'wild', 'wiley', 'will', 'wind', 'window', 'windows', 'winter', 'wireless', 'within', 'without', 'wlan', 'woman', 'women', 'wood', 'word', 'words', 'work', 'workers', 'workflow', 'working', 'workload', 'works', 'workshop', 'world', 'worldwide', 'worst', 'writing', 'written', 'www', 'xa0', 'xa00', 'xa9', 'xae', 'xb0', 'xb0c', 'xb1', 'xb10', 'xb5g', 'xb5m', 'xd7', 'xe0', 'xe9', 'xe9e', 'xe9es', 'xe9s', 'xfcr', 'xml', 'year', 'years', 'yeast', 'yet', 'yield', 'yielded', 'yields', 'young', 'younger', 'youth', 'zero', 'zinc', 'zone', 'zones', 'zur']\n"
     ]
    }
   ],
   "source": [
    "print final"
   ]
  },
  {
   "cell_type": "code",
   "execution_count": 339,
   "metadata": {
    "collapsed": false
   },
   "outputs": [
    {
     "data": {
      "text/plain": [
       "438"
      ]
     },
     "execution_count": 339,
     "metadata": {},
     "output_type": "execute_result"
    }
   ],
   "source": [
    "len(final)"
   ]
  },
  {
   "cell_type": "markdown",
   "metadata": {},
   "source": [
    "---------------------"
   ]
  },
  {
   "cell_type": "markdown",
   "metadata": {},
   "source": [
    "## 1.TERM  추출"
   ]
  },
  {
   "cell_type": "markdown",
   "metadata": {},
   "source": [
    "### 약 4천개"
   ]
  },
  {
   "cell_type": "markdown",
   "metadata": {},
   "source": [
    "###  title이 2100개, abstract이 4300개 "
   ]
  },
  {
   "cell_type": "markdown",
   "metadata": {},
   "source": [
    "1) Stop_words 제거   \n",
    "2) 정규표현식으로 알파벳, 숫자를 제외한 모두 제거   \n",
    "3) split, replace로 특수문자 및 공백제거    \n",
    "4) 대소문자 통일   \n",
    "5) 1,2 글자 제거   \n",
    "6) 숫자 제거   \n",
    "7) 주제어가 아닌 단순한 영어 단어 제거 (e.g. let, org ..)"
   ]
  },
  {
   "cell_type": "code",
   "execution_count": 296,
   "metadata": {
    "collapsed": false,
    "scrolled": true
   },
   "outputs": [
    {
     "data": {
      "text/plain": [
       "['000',\n",
       " '0001',\n",
       " '001',\n",
       " '0em',\n",
       " '0px',\n",
       " '100',\n",
       " '1000',\n",
       " '1000em',\n",
       " '1038',\n",
       " '120',\n",
       " '150',\n",
       " '1997',\n",
       " '1998',\n",
       " '1999',\n",
       " '200',\n",
       " '2000',\n",
       " '2001',\n",
       " '2002',\n",
       " '2003',\n",
       " '2004',\n",
       " '2005',\n",
       " '2006',\n",
       " '2007',\n",
       " '2008',\n",
       " '2009',\n",
       " '2010',\n",
       " '2011',\n",
       " '2012',\n",
       " '2013',\n",
       " '2014',\n",
       " '264',\n",
       " '300',\n",
       " '400',\n",
       " '500',\n",
       " '802',\n",
       " '974em',\n",
       " '[[china',\n",
       " 'abdominal',\n",
       " 'abilities',\n",
       " 'ability',\n",
       " 'able',\n",
       " 'abnormal',\n",
       " 'abnormalities',\n",
       " 'absence',\n",
       " 'absent',\n",
       " 'absolute',\n",
       " 'absorption',\n",
       " 'abstract',\n",
       " 'abstraction',\n",
       " 'abundance',\n",
       " 'abundant',\n",
       " 'academic',\n",
       " 'accelerated',\n",
       " 'acceleration',\n",
       " 'acceptable',\n",
       " 'acceptance',\n",
       " 'accepted',\n",
       " 'access',\n",
       " 'accessible',\n",
       " 'accompanied',\n",
       " 'according',\n",
       " 'accordingly',\n",
       " 'account',\n",
       " 'accounted',\n",
       " 'accounting',\n",
       " 'accounts',\n",
       " 'accumulation',\n",
       " 'accuracy',\n",
       " 'accurate',\n",
       " 'accurately',\n",
       " 'achieve',\n",
       " 'achieved',\n",
       " 'achieves',\n",
       " 'achieving',\n",
       " 'acid',\n",
       " 'acids',\n",
       " 'acoustic',\n",
       " 'acquired',\n",
       " 'acquisition',\n",
       " 'across',\n",
       " 'act',\n",
       " 'actin',\n",
       " 'acting',\n",
       " 'action',\n",
       " 'actions',\n",
       " 'activated',\n",
       " 'activation',\n",
       " 'active',\n",
       " 'activities',\n",
       " 'activity',\n",
       " 'acts',\n",
       " 'actual',\n",
       " 'actually',\n",
       " 'actuator',\n",
       " 'acute',\n",
       " 'adapt',\n",
       " 'adaptation',\n",
       " 'adapted',\n",
       " 'adaptive',\n",
       " 'adc',\n",
       " 'add',\n",
       " 'added',\n",
       " 'adding',\n",
       " 'addition',\n",
       " 'additional',\n",
       " 'additionally',\n",
       " 'additive',\n",
       " 'address',\n",
       " 'addressed',\n",
       " 'addresses',\n",
       " 'addressing',\n",
       " 'adenosine',\n",
       " 'adequate',\n",
       " 'adherence',\n",
       " 'adhesion',\n",
       " 'adjacent',\n",
       " 'adjusted',\n",
       " 'adjusting',\n",
       " 'adjustment',\n",
       " 'administered',\n",
       " 'administration',\n",
       " 'admission',\n",
       " 'admitted',\n",
       " 'adolescent',\n",
       " 'adolescents',\n",
       " 'adopt',\n",
       " 'adopted',\n",
       " 'adoption',\n",
       " 'adp',\n",
       " 'adult',\n",
       " 'adults',\n",
       " 'advance',\n",
       " 'advanced',\n",
       " 'advances',\n",
       " 'advantage',\n",
       " 'advantages',\n",
       " 'adverse',\n",
       " 'aerial',\n",
       " 'affect',\n",
       " 'affected',\n",
       " 'affecting',\n",
       " 'affects',\n",
       " 'affine',\n",
       " 'affinity',\n",
       " 'africa',\n",
       " 'african',\n",
       " 'age',\n",
       " 'aged',\n",
       " 'agency',\n",
       " 'agent',\n",
       " 'agents',\n",
       " 'ages',\n",
       " 'aggregate',\n",
       " 'aggregation',\n",
       " 'aggressive',\n",
       " 'agile',\n",
       " 'aging',\n",
       " 'agonist',\n",
       " 'agreement',\n",
       " 'agricultural',\n",
       " 'aid',\n",
       " 'aided',\n",
       " 'aids',\n",
       " 'aim',\n",
       " 'aimed',\n",
       " 'aims',\n",
       " 'air',\n",
       " 'airway',\n",
       " 'akt',\n",
       " 'albumin',\n",
       " 'alcohol',\n",
       " 'algebra',\n",
       " 'algebraic',\n",
       " 'algebras',\n",
       " 'algorithm',\n",
       " 'algorithmic',\n",
       " 'algorithms',\n",
       " 'align',\n",
       " 'alignment',\n",
       " 'all',\n",
       " 'allele',\n",
       " 'alleles',\n",
       " 'allergic',\n",
       " 'allergy',\n",
       " 'allocation',\n",
       " 'allow',\n",
       " 'allowed',\n",
       " 'allowing',\n",
       " 'allows',\n",
       " 'almost',\n",
       " 'alone',\n",
       " 'along',\n",
       " 'alpha',\n",
       " 'already',\n",
       " 'also',\n",
       " 'alter',\n",
       " 'alterations',\n",
       " 'altered',\n",
       " 'alternative',\n",
       " 'alternatives',\n",
       " 'although',\n",
       " 'always',\n",
       " 'alzheimer',\n",
       " 'ambient',\n",
       " 'america',\n",
       " 'american',\n",
       " 'amino',\n",
       " 'among',\n",
       " 'amongst',\n",
       " 'amount',\n",
       " 'amounts',\n",
       " 'amp',\n",
       " 'amplification',\n",
       " 'amplified',\n",
       " 'amplifier',\n",
       " 'amplitude',\n",
       " 'amyloid',\n",
       " 'analog',\n",
       " 'analyse',\n",
       " 'analysed',\n",
       " 'analyses',\n",
       " 'analysis',\n",
       " 'analytic',\n",
       " 'analytical',\n",
       " 'analytics',\n",
       " 'analyze',\n",
       " 'analyzed',\n",
       " 'analyzing',\n",
       " 'and',\n",
       " 'anemia',\n",
       " 'angle',\n",
       " 'animal',\n",
       " 'animals',\n",
       " 'animation',\n",
       " 'ann',\n",
       " 'annealing',\n",
       " 'annotation',\n",
       " 'annual',\n",
       " 'anomalies',\n",
       " 'anomalous',\n",
       " 'anomaly',\n",
       " 'another',\n",
       " 'answer',\n",
       " 'ant',\n",
       " 'antagonist',\n",
       " 'antenna',\n",
       " 'antennas',\n",
       " 'anterior',\n",
       " 'anti',\n",
       " 'antibiotic',\n",
       " 'antibiotics',\n",
       " 'antibodies',\n",
       " 'antibody',\n",
       " 'antigen',\n",
       " 'antimicrobial',\n",
       " 'antioxidant',\n",
       " 'antiretroviral',\n",
       " 'anxiety',\n",
       " 'apoptosis',\n",
       " 'apoptotic',\n",
       " 'app',\n",
       " 'apparent',\n",
       " 'appear',\n",
       " 'appearance',\n",
       " 'appeared',\n",
       " 'appears',\n",
       " 'applicability',\n",
       " 'applicable',\n",
       " 'application',\n",
       " 'applications',\n",
       " 'applied',\n",
       " 'apply',\n",
       " 'applying',\n",
       " 'approach',\n",
       " 'approaches',\n",
       " 'appropriate',\n",
       " 'approximate',\n",
       " 'approximately',\n",
       " 'approximating',\n",
       " 'approximation',\n",
       " 'approximations',\n",
       " 'april',\n",
       " 'aqueous',\n",
       " 'arabidopsis',\n",
       " 'arbitrary',\n",
       " 'arc',\n",
       " 'architectural',\n",
       " 'architecture',\n",
       " 'architectures',\n",
       " 'area',\n",
       " 'areas',\n",
       " 'arginine',\n",
       " 'argue',\n",
       " 'argued',\n",
       " 'argues',\n",
       " 'argument',\n",
       " 'arguments',\n",
       " 'arise',\n",
       " 'arises',\n",
       " 'arising',\n",
       " 'arithmetic',\n",
       " 'arm',\n",
       " 'around',\n",
       " 'array',\n",
       " 'arrays',\n",
       " 'arrival',\n",
       " 'art',\n",
       " 'arterial',\n",
       " 'artery',\n",
       " 'arthritis',\n",
       " 'article',\n",
       " 'articles',\n",
       " 'artificial',\n",
       " 'asia',\n",
       " 'asian',\n",
       " 'asked',\n",
       " 'aspect',\n",
       " 'aspects',\n",
       " 'assay',\n",
       " 'assays',\n",
       " 'assembly',\n",
       " 'assess',\n",
       " 'assessed',\n",
       " 'assessing',\n",
       " 'assessment',\n",
       " 'assessments',\n",
       " 'assigned',\n",
       " 'assignment',\n",
       " 'assist',\n",
       " 'assisted',\n",
       " 'associated',\n",
       " 'association',\n",
       " 'associations',\n",
       " 'associative',\n",
       " 'assume',\n",
       " 'assumed',\n",
       " 'assuming',\n",
       " 'assumption',\n",
       " 'assumptions',\n",
       " 'asthma',\n",
       " 'asymmetric',\n",
       " 'asymptotic',\n",
       " 'asynchronous',\n",
       " 'atlantic',\n",
       " 'atm',\n",
       " 'atmosphere',\n",
       " 'atmospheric',\n",
       " 'atom',\n",
       " 'atomic',\n",
       " 'atoms',\n",
       " 'atp',\n",
       " 'attack',\n",
       " 'attacks',\n",
       " 'attempt',\n",
       " 'attempts',\n",
       " 'attending',\n",
       " 'attention',\n",
       " 'attenuated',\n",
       " 'attitudes',\n",
       " 'attractive',\n",
       " 'attribute',\n",
       " 'attributed',\n",
       " 'attributes',\n",
       " 'audio',\n",
       " 'augmented',\n",
       " 'august',\n",
       " 'aureus',\n",
       " 'australia',\n",
       " 'australian',\n",
       " 'authentication',\n",
       " 'author',\n",
       " 'authors',\n",
       " 'autoimmune',\n",
       " 'automata',\n",
       " 'automated',\n",
       " 'automatic',\n",
       " 'automatically',\n",
       " 'automation',\n",
       " 'automotive',\n",
       " 'autonomous',\n",
       " 'availability',\n",
       " 'available',\n",
       " 'avc',\n",
       " 'average',\n",
       " 'averaged',\n",
       " 'avoid',\n",
       " 'avoidance',\n",
       " 'aware',\n",
       " 'awareness',\n",
       " 'away',\n",
       " 'axis',\n",
       " 'bacillus',\n",
       " 'back',\n",
       " 'background',\n",
       " 'bacteria',\n",
       " 'bacterial',\n",
       " 'balance',\n",
       " 'balanced',\n",
       " 'balancing',\n",
       " 'band',\n",
       " 'bands',\n",
       " 'bandwidth',\n",
       " 'bank',\n",
       " 'barrier',\n",
       " 'barriers',\n",
       " 'basal',\n",
       " 'base',\n",
       " 'based',\n",
       " 'baseline',\n",
       " 'bases',\n",
       " 'basic',\n",
       " 'basin',\n",
       " 'basis',\n",
       " 'batch',\n",
       " 'battery',\n",
       " 'bayesian',\n",
       " 'beam',\n",
       " 'beamforming',\n",
       " 'bearing',\n",
       " 'became',\n",
       " 'become',\n",
       " 'becomes',\n",
       " 'becoming',\n",
       " 'bed',\n",
       " 'beginning',\n",
       " 'behavior',\n",
       " 'behavioral',\n",
       " 'behaviors',\n",
       " 'behaviour',\n",
       " 'behavioural',\n",
       " 'behaviours',\n",
       " 'behind',\n",
       " 'being',\n",
       " 'belief',\n",
       " 'beliefs',\n",
       " 'believe',\n",
       " 'believed',\n",
       " 'belonging',\n",
       " 'benchmark',\n",
       " 'beneficial',\n",
       " 'benefit',\n",
       " 'benefits',\n",
       " 'benign',\n",
       " 'besides',\n",
       " 'best',\n",
       " 'beta',\n",
       " 'better',\n",
       " 'beyond',\n",
       " 'bias',\n",
       " 'bifurcation',\n",
       " 'big',\n",
       " 'bilateral',\n",
       " 'binary',\n",
       " 'binding',\n",
       " 'bio',\n",
       " 'biochemical',\n",
       " 'biodiversity',\n",
       " 'biological',\n",
       " 'biology',\n",
       " 'biomarkers',\n",
       " 'biomass',\n",
       " 'biomedical',\n",
       " 'biometric',\n",
       " 'biopsy',\n",
       " 'biosynthesis',\n",
       " 'bipartite',\n",
       " 'birds',\n",
       " 'birth',\n",
       " 'bit',\n",
       " 'bits',\n",
       " 'black',\n",
       " 'bladder',\n",
       " 'bleeding',\n",
       " 'blind',\n",
       " 'block',\n",
       " 'blocking',\n",
       " 'blocks',\n",
       " 'blood',\n",
       " 'blot',\n",
       " 'blue',\n",
       " 'bmi',\n",
       " 'bodies',\n",
       " 'body',\n",
       " 'bold',\n",
       " 'bond',\n",
       " 'bone',\n",
       " 'book',\n",
       " 'boolean',\n",
       " 'border',\n",
       " 'born',\n",
       " 'bottom',\n",
       " 'bound',\n",
       " 'boundaries',\n",
       " 'boundary',\n",
       " 'bounded',\n",
       " 'bounds',\n",
       " 'bowel',\n",
       " 'box',\n",
       " 'boys',\n",
       " 'brain',\n",
       " 'branch',\n",
       " 'branch]',\n",
       " 'brazil',\n",
       " 'breast',\n",
       " 'breeding',\n",
       " 'brief',\n",
       " 'briefly',\n",
       " 'british',\n",
       " 'broad',\n",
       " 'broadband',\n",
       " 'broadcast',\n",
       " 'broadcasting',\n",
       " 'broader',\n",
       " 'buffer',\n",
       " 'build',\n",
       " 'building',\n",
       " 'built',\n",
       " 'bulk',\n",
       " 'burden',\n",
       " 'burst',\n",
       " 'bus',\n",
       " 'business',\n",
       " 'ca2',\n",
       " 'cache',\n",
       " 'caching',\n",
       " 'cad',\n",
       " 'calcium',\n",
       " 'calculate',\n",
       " 'calculated',\n",
       " 'calculation',\n",
       " 'calculations',\n",
       " 'calculus',\n",
       " 'calibration',\n",
       " 'call',\n",
       " 'called',\n",
       " 'calls',\n",
       " 'camera',\n",
       " 'camp',\n",
       " 'can',\n",
       " 'canada',\n",
       " 'cancellation',\n",
       " 'cancer',\n",
       " 'cancers',\n",
       " 'candidate',\n",
       " 'candidates',\n",
       " 'canonical',\n",
       " 'capabilities',\n",
       " 'capability',\n",
       " 'capable',\n",
       " 'capacity',\n",
       " 'capital',\n",
       " 'capture',\n",
       " 'captured',\n",
       " 'carbon',\n",
       " 'carcinoma',\n",
       " 'cardiac',\n",
       " 'cardiovascular',\n",
       " 'care',\n",
       " 'caregivers',\n",
       " 'carlo',\n",
       " 'carried',\n",
       " 'carrier',\n",
       " 'carriers',\n",
       " 'carry',\n",
       " 'carrying',\n",
       " 'case',\n",
       " 'cases',\n",
       " 'catalytic',\n",
       " 'categories',\n",
       " 'categorization',\n",
       " 'category',\n",
       " 'causal',\n",
       " 'cause',\n",
       " 'caused',\n",
       " 'causes',\n",
       " 'causing',\n",
       " 'cavity',\n",
       " 'cd4',\n",
       " 'cdma',\n",
       " 'cell',\n",
       " 'cells',\n",
       " 'cellular',\n",
       " 'center',\n",
       " 'centers',\n",
       " 'central',\n",
       " 'centre',\n",
       " 'centric',\n",
       " 'century',\n",
       " 'cerebral',\n",
       " 'cereus',\n",
       " 'certain',\n",
       " 'cervical',\n",
       " 'chain',\n",
       " 'chains',\n",
       " 'challenge',\n",
       " 'challenges',\n",
       " 'challenging',\n",
       " 'change',\n",
       " 'changed',\n",
       " 'changes',\n",
       " 'changing',\n",
       " 'channel',\n",
       " 'channels',\n",
       " 'chaos',\n",
       " 'chaotic',\n",
       " 'character',\n",
       " 'characteristic',\n",
       " 'characteristics',\n",
       " 'characterization',\n",
       " 'characterize',\n",
       " 'characterized',\n",
       " 'characterizing',\n",
       " 'characters',\n",
       " 'charge',\n",
       " 'charged',\n",
       " 'chd',\n",
       " 'check',\n",
       " 'checking',\n",
       " 'chemical',\n",
       " 'chemistry',\n",
       " 'chemotherapy',\n",
       " 'child',\n",
       " 'childhood',\n",
       " 'children',\n",
       " 'china',\n",
       " 'chinese',\n",
       " 'chip',\n",
       " 'choice',\n",
       " 'choices',\n",
       " 'cholesterol',\n",
       " 'choose',\n",
       " 'chosen',\n",
       " 'chromatic',\n",
       " 'chromatography',\n",
       " 'chromosomal',\n",
       " 'chromosome',\n",
       " 'chromosomes',\n",
       " 'chronic',\n",
       " 'circadian',\n",
       " 'circuit',\n",
       " 'circuits',\n",
       " 'circular',\n",
       " 'circulating',\n",
       " 'circulation',\n",
       " 'cis',\n",
       " 'citation',\n",
       " 'city',\n",
       " 'claim',\n",
       " 'claims',\n",
       " 'clarify',\n",
       " 'class',\n",
       " 'classes',\n",
       " 'classical',\n",
       " 'classification',\n",
       " 'classified',\n",
       " 'classifier',\n",
       " 'classifiers',\n",
       " 'classify',\n",
       " 'clay',\n",
       " 'clear',\n",
       " 'clearance',\n",
       " 'clearly',\n",
       " 'client',\n",
       " 'clients',\n",
       " 'climate',\n",
       " 'climatic',\n",
       " 'clinic',\n",
       " 'clinical',\n",
       " 'clinically',\n",
       " 'clinicians',\n",
       " 'clinics',\n",
       " 'clip',\n",
       " 'clock',\n",
       " 'clones',\n",
       " 'close',\n",
       " 'closed',\n",
       " 'closely',\n",
       " 'closure',\n",
       " 'cloud',\n",
       " 'clouds',\n",
       " 'cluster',\n",
       " 'clustering',\n",
       " 'clusters',\n",
       " 'cmos',\n",
       " 'cns',\n",
       " 'co2',\n",
       " 'coarse',\n",
       " 'coastal',\n",
       " 'coating',\n",
       " 'code',\n",
       " 'coded',\n",
       " 'codes',\n",
       " 'coding',\n",
       " 'coefficient',\n",
       " 'coefficients',\n",
       " 'cognitive',\n",
       " 'coherence',\n",
       " 'coherent',\n",
       " 'cohort',\n",
       " 'cold',\n",
       " 'coli',\n",
       " 'colitis',\n",
       " 'collaboration',\n",
       " 'collaborative',\n",
       " 'collagen',\n",
       " 'collected',\n",
       " 'collection',\n",
       " 'collections',\n",
       " 'collective',\n",
       " 'college',\n",
       " 'collision',\n",
       " 'colon',\n",
       " 'colonization',\n",
       " 'colony',\n",
       " 'color',\n",
       " 'colorectal',\n",
       " 'coloring',\n",
       " 'colour',\n",
       " 'column',\n",
       " 'combination',\n",
       " 'combinations',\n",
       " 'combinatorial',\n",
       " 'combine',\n",
       " 'combined',\n",
       " 'combines',\n",
       " 'combining',\n",
       " 'come',\n",
       " 'comments',\n",
       " 'commerce',\n",
       " 'commercial',\n",
       " 'common',\n",
       " 'commonly',\n",
       " 'communication',\n",
       " 'communications',\n",
       " 'communities',\n",
       " 'community',\n",
       " 'compact',\n",
       " 'companies',\n",
       " 'company',\n",
       " 'comparable',\n",
       " 'comparative',\n",
       " 'compare',\n",
       " 'compared',\n",
       " 'comparing',\n",
       " 'comparison',\n",
       " 'comparisons',\n",
       " 'compatible',\n",
       " 'compensation',\n",
       " 'competition',\n",
       " 'competitive',\n",
       " 'complement',\n",
       " 'complementary',\n",
       " 'complete',\n",
       " 'completed',\n",
       " 'completely',\n",
       " 'completion',\n",
       " 'complex',\n",
       " 'complexes',\n",
       " 'complexity',\n",
       " 'compliance',\n",
       " 'complicated',\n",
       " 'complications',\n",
       " 'component',\n",
       " 'components',\n",
       " 'composed',\n",
       " 'composite',\n",
       " 'composition',\n",
       " 'compound',\n",
       " 'compounds',\n",
       " 'comprehensive',\n",
       " 'compressed',\n",
       " 'compression',\n",
       " 'comprised',\n",
       " 'comprising',\n",
       " 'computation',\n",
       " 'computational',\n",
       " 'computationally',\n",
       " 'computations',\n",
       " 'compute',\n",
       " 'computed',\n",
       " 'computer',\n",
       " 'computers',\n",
       " 'computing',\n",
       " 'concentration',\n",
       " 'concentrations',\n",
       " 'concept',\n",
       " 'concepts',\n",
       " 'conceptual',\n",
       " 'concern',\n",
       " 'concerned',\n",
       " 'concerning',\n",
       " 'concerns',\n",
       " 'concert',\n",
       " 'conclude',\n",
       " 'concluded',\n",
       " 'conclusion',\n",
       " 'conclusions',\n",
       " 'concrete',\n",
       " 'concurrent',\n",
       " 'condition',\n",
       " 'conditional',\n",
       " 'conditions',\n",
       " 'conduct',\n",
       " 'conducted',\n",
       " 'conductivity',\n",
       " 'conference',\n",
       " 'confidence',\n",
       " 'configuration',\n",
       " 'configurations',\n",
       " 'confirm',\n",
       " 'confirmed',\n",
       " 'conflict',\n",
       " 'congestion',\n",
       " 'conjecture',\n",
       " 'conjunction',\n",
       " 'connected',\n",
       " 'connection',\n",
       " 'connections',\n",
       " 'connectivity',\n",
       " 'consecutive',\n",
       " 'consensus',\n",
       " 'consequence',\n",
       " 'consequences',\n",
       " 'consequently',\n",
       " 'conservation',\n",
       " 'conserved',\n",
       " 'consider',\n",
       " 'considerable',\n",
       " 'considerably',\n",
       " 'consideration',\n",
       " 'considerations',\n",
       " 'considered',\n",
       " 'considering',\n",
       " 'considers',\n",
       " 'consisted',\n",
       " 'consistency',\n",
       " 'consistent',\n",
       " 'consistently',\n",
       " 'consisting',\n",
       " 'consists',\n",
       " 'constant',\n",
       " 'constants',\n",
       " 'constitute',\n",
       " 'constrained',\n",
       " 'constraint',\n",
       " 'constraints',\n",
       " 'construct',\n",
       " 'constructed',\n",
       " 'constructing',\n",
       " 'construction',\n",
       " 'constructs',\n",
       " 'consumer',\n",
       " 'consumers',\n",
       " 'consuming',\n",
       " 'consumption',\n",
       " 'contact',\n",
       " 'contain',\n",
       " 'contained',\n",
       " 'containing',\n",
       " 'contains',\n",
       " 'contamination',\n",
       " 'contemporary',\n",
       " 'content',\n",
       " 'contents',\n",
       " 'context',\n",
       " 'contexts',\n",
       " 'contextual',\n",
       " 'continue',\n",
       " 'continued',\n",
       " 'continuous',\n",
       " 'continuously',\n",
       " 'contour',\n",
       " 'contract',\n",
       " 'contraction',\n",
       " 'contrary',\n",
       " 'contrast',\n",
       " 'contribute',\n",
       " 'contributed',\n",
       " 'contributes',\n",
       " 'contributing',\n",
       " 'contribution',\n",
       " 'contributions',\n",
       " 'control',\n",
       " 'controlled',\n",
       " 'controller',\n",
       " 'controllers',\n",
       " 'controlling',\n",
       " 'controls',\n",
       " 'convection',\n",
       " 'conventional',\n",
       " 'convergence',\n",
       " 'conversion',\n",
       " 'converter',\n",
       " 'converters',\n",
       " 'convex',\n",
       " 'cooling',\n",
       " 'cooperation',\n",
       " 'cooperative',\n",
       " 'coordinate',\n",
       " 'coordinated',\n",
       " 'coordinates',\n",
       " 'coordination',\n",
       " 'cope',\n",
       " 'copies',\n",
       " 'coping',\n",
       " 'copper',\n",
       " 'copy',\n",
       " 'cord',\n",
       " 'core',\n",
       " 'cores',\n",
       " 'coronary',\n",
       " 'corpus',\n",
       " 'correct',\n",
       " 'corrected',\n",
       " 'correction',\n",
       " 'correctly',\n",
       " 'correctness',\n",
       " 'correlate',\n",
       " 'correlated',\n",
       " 'correlates',\n",
       " 'correlation',\n",
       " 'correlations',\n",
       " 'correspondence',\n",
       " 'corresponding',\n",
       " 'cortex',\n",
       " 'cortical',\n",
       " 'cost',\n",
       " 'costs',\n",
       " 'cotton',\n",
       " 'count',\n",
       " 'counting',\n",
       " 'countries',\n",
       " 'country',\n",
       " 'counts',\n",
       " 'coupled',\n",
       " 'coupling',\n",
       " 'course',\n",
       " 'cover',\n",
       " 'coverage',\n",
       " 'covered',\n",
       " 'covering',\n",
       " 'cox',\n",
       " 'cpu',\n",
       " 'create',\n",
       " 'created',\n",
       " 'creating',\n",
       " 'creation',\n",
       " 'criteria',\n",
       " 'criterion',\n",
       " 'critical',\n",
       " 'critically',\n",
       " 'crohn',\n",
       " 'cronbach',\n",
       " 'crop',\n",
       " 'crops',\n",
       " 'cross',\n",
       " 'crp',\n",
       " 'crucial',\n",
       " 'cry',\n",
       " 'crystal',\n",
       " 'crystals',\n",
       " 'csf',\n",
       " 'cubic',\n",
       " 'cues',\n",
       " 'cultivars',\n",
       " 'cultural',\n",
       " 'culture',\n",
       " 'cultured',\n",
       " 'cultures',\n",
       " 'cumulative',\n",
       " 'current',\n",
       " 'currently',\n",
       " 'currents',\n",
       " 'curriculum',\n",
       " 'curvature',\n",
       " 'curve',\n",
       " 'curves',\n",
       " 'customer',\n",
       " 'customers',\n",
       " 'cut',\n",
       " 'cutting',\n",
       " 'cvd',\n",
       " 'cyber',\n",
       " 'cycle',\n",
       " 'cycles',\n",
       " 'cyclic',\n",
       " 'cyclotron',\n",
       " 'cytokine',\n",
       " 'cytokines',\n",
       " 'daily',\n",
       " 'damage',\n",
       " 'dans',\n",
       " 'dark',\n",
       " 'data',\n",
       " 'database',\n",
       " 'databases',\n",
       " 'dataset',\n",
       " 'datasets',\n",
       " 'date',\n",
       " 'day',\n",
       " ...]"
      ]
     },
     "execution_count": 296,
     "metadata": {},
     "output_type": "execute_result"
    }
   ],
   "source": [
    "final"
   ]
  },
  {
   "cell_type": "markdown",
   "metadata": {},
   "source": [
    "## 2.데이터행렬 만들기"
   ]
  },
  {
   "cell_type": "markdown",
   "metadata": {},
   "source": [
    "### 1) 연도별 (1936 ~ 2017) 총 82년"
   ]
  },
  {
   "cell_type": "markdown",
   "metadata": {},
   "source": [
    "#### 연도가 0 또는 null인것이 약 20만개\n",
    "#### 총 데이터는 3557142개\n",
    "#### 연도는 주기별로 Count, 주기는 논문의 개수를 기준으로 임의 설정"
   ]
  },
  {
   "cell_type": "markdown",
   "metadata": {},
   "source": [
    "###2) 논문별 "
   ]
  },
  {
   "cell_type": "markdown",
   "metadata": {},
   "source": [
    "#### Title이 null 인것이 약 20만개\n",
    "####  각각 논문을 하나씩 매칭시켜 Count"
   ]
  },
  {
   "cell_type": "code",
   "execution_count": 301,
   "metadata": {
    "collapsed": true
   },
   "outputs": [],
   "source": [
    "extend_stopwords = []"
   ]
  },
  {
   "cell_type": "code",
   "execution_count": 376,
   "metadata": {
    "collapsed": true
   },
   "outputs": [],
   "source": [
    "for i in stop2:\n",
    "    extend_stopwords.append(i)"
   ]
  },
  {
   "cell_type": "code",
   "execution_count": 338,
   "metadata": {
    "collapsed": false
   },
   "outputs": [
    {
     "data": {
      "text/plain": [
       "[u'a',\n",
       " u'about',\n",
       " u'above',\n",
       " u'after',\n",
       " u'again',\n",
       " u'against',\n",
       " u'all',\n",
       " u'am',\n",
       " u'an',\n",
       " u'and',\n",
       " u'any',\n",
       " u'are',\n",
       " u\"aren't\",\n",
       " u'as',\n",
       " u'at',\n",
       " u'be',\n",
       " u'because',\n",
       " u'been',\n",
       " u'before',\n",
       " u'being',\n",
       " u'below',\n",
       " u'between',\n",
       " u'both',\n",
       " u'but',\n",
       " u'by',\n",
       " u\"can't\",\n",
       " u'cannot',\n",
       " u'could',\n",
       " u\"couldn't\",\n",
       " u'did',\n",
       " u\"didn't\",\n",
       " u'do',\n",
       " u'does',\n",
       " u\"doesn't\",\n",
       " u'doing',\n",
       " u\"don't\",\n",
       " u'down',\n",
       " u'during',\n",
       " u'each',\n",
       " u'few',\n",
       " u'for',\n",
       " u'from',\n",
       " u'further',\n",
       " u'had',\n",
       " u\"hadn't\",\n",
       " u'has',\n",
       " u\"hasn't\",\n",
       " u'have',\n",
       " u\"haven't\",\n",
       " u'having',\n",
       " u'he',\n",
       " u\"he'd\",\n",
       " u\"he'll\",\n",
       " u\"he's\",\n",
       " u'her',\n",
       " u'here',\n",
       " u\"here's\",\n",
       " u'hers',\n",
       " u'herself',\n",
       " u'him',\n",
       " u'himself',\n",
       " u'his',\n",
       " u'how',\n",
       " u\"how's\",\n",
       " u'i',\n",
       " u\"i'd\",\n",
       " u\"i'll\",\n",
       " u\"i'm\",\n",
       " u\"i've\",\n",
       " u'if',\n",
       " u'in',\n",
       " u'into',\n",
       " u'is',\n",
       " u\"isn't\",\n",
       " u'it',\n",
       " u\"it's\",\n",
       " u'its',\n",
       " u'itself',\n",
       " u\"let's\",\n",
       " u'me',\n",
       " u'more',\n",
       " u'most',\n",
       " u\"mustn't\",\n",
       " u'my',\n",
       " u'myself',\n",
       " u'no',\n",
       " u'nor',\n",
       " u'not',\n",
       " u'of',\n",
       " u'off',\n",
       " u'on',\n",
       " u'once',\n",
       " u'only',\n",
       " u'or',\n",
       " u'other',\n",
       " u'ought',\n",
       " u'our',\n",
       " u'ours',\n",
       " u'ourselves',\n",
       " u'out',\n",
       " u'over',\n",
       " u'own',\n",
       " u'same',\n",
       " u\"shan't\",\n",
       " u'she',\n",
       " u\"she'd\",\n",
       " u\"she'll\",\n",
       " u\"she's\",\n",
       " u'should',\n",
       " u\"shouldn't\",\n",
       " u'so',\n",
       " u'some',\n",
       " u'such',\n",
       " u'than',\n",
       " u'that',\n",
       " u\"that's\",\n",
       " u'the',\n",
       " u'their',\n",
       " u'theirs',\n",
       " u'them',\n",
       " u'themselves',\n",
       " u'then',\n",
       " u'there',\n",
       " u\"there's\",\n",
       " u'these',\n",
       " u'they',\n",
       " u\"they'd\",\n",
       " u\"they'll\",\n",
       " u\"they're\",\n",
       " u\"they've\",\n",
       " u'this',\n",
       " u'those',\n",
       " u'through',\n",
       " u'to',\n",
       " u'too',\n",
       " u'under',\n",
       " u'until',\n",
       " u'up',\n",
       " u'very',\n",
       " u'was',\n",
       " u\"wasn't\",\n",
       " u'we',\n",
       " u\"we'd\",\n",
       " u\"we'll\",\n",
       " u\"we're\",\n",
       " u\"we've\",\n",
       " u'were',\n",
       " u\"weren't\",\n",
       " u'what',\n",
       " u\"what's\",\n",
       " u'when',\n",
       " u\"when's\",\n",
       " u'where',\n",
       " u\"where's\",\n",
       " u'which',\n",
       " u'while',\n",
       " u'who',\n",
       " u\"who's\",\n",
       " u'whom',\n",
       " u'why',\n",
       " u\"why's\",\n",
       " u'with',\n",
       " u\"won't\",\n",
       " u'would',\n",
       " u\"wouldn't\",\n",
       " u'you',\n",
       " u\"you'd\",\n",
       " u\"you'll\",\n",
       " u\"you're\",\n",
       " u\"you've\",\n",
       " u'your',\n",
       " u'yours',\n",
       " u'yourself',\n",
       " u'yourselves',\n",
       " 'a',\n",
       " 'about',\n",
       " 'above',\n",
       " 'across',\n",
       " 'after',\n",
       " 'again',\n",
       " 'against',\n",
       " 'all',\n",
       " 'almost',\n",
       " 'alone',\n",
       " 'along',\n",
       " 'already',\n",
       " 'also',\n",
       " 'although',\n",
       " 'always',\n",
       " 'among',\n",
       " 'an',\n",
       " 'and',\n",
       " 'another',\n",
       " 'any',\n",
       " 'anybody',\n",
       " 'anyone',\n",
       " 'anything',\n",
       " 'anywhere',\n",
       " 'are',\n",
       " 'area',\n",
       " 'areas',\n",
       " 'around',\n",
       " 'as',\n",
       " 'ask',\n",
       " 'asked',\n",
       " 'asking',\n",
       " 'asks',\n",
       " 'at',\n",
       " 'away',\n",
       " 'b',\n",
       " 'back',\n",
       " 'backed',\n",
       " 'backing',\n",
       " 'backs',\n",
       " 'be',\n",
       " 'became',\n",
       " 'because',\n",
       " 'become',\n",
       " 'becomes',\n",
       " 'been',\n",
       " 'before',\n",
       " 'began',\n",
       " 'behind',\n",
       " 'being',\n",
       " 'beings',\n",
       " 'best',\n",
       " 'better',\n",
       " 'between',\n",
       " 'big',\n",
       " 'both',\n",
       " 'but',\n",
       " 'by',\n",
       " 'c',\n",
       " 'came',\n",
       " 'can',\n",
       " 'cannot',\n",
       " 'case',\n",
       " 'cases',\n",
       " 'certain',\n",
       " 'certainly',\n",
       " 'clear',\n",
       " 'clearly',\n",
       " 'come',\n",
       " 'could',\n",
       " 'd',\n",
       " 'did',\n",
       " 'differ',\n",
       " 'different',\n",
       " 'differently',\n",
       " 'do',\n",
       " 'does',\n",
       " 'done',\n",
       " 'down',\n",
       " 'down',\n",
       " 'downed',\n",
       " 'downing',\n",
       " 'downs',\n",
       " 'during',\n",
       " 'e',\n",
       " 'each',\n",
       " 'early',\n",
       " 'either',\n",
       " 'end',\n",
       " 'ended',\n",
       " 'ending',\n",
       " 'ends',\n",
       " 'enough',\n",
       " 'even',\n",
       " 'evenly',\n",
       " 'ever',\n",
       " 'every',\n",
       " 'everybody',\n",
       " 'everyone',\n",
       " 'everything',\n",
       " 'everywhere',\n",
       " 'f',\n",
       " 'face',\n",
       " 'faces',\n",
       " 'fact',\n",
       " 'facts',\n",
       " 'far',\n",
       " 'felt',\n",
       " 'few',\n",
       " 'find',\n",
       " 'finds',\n",
       " 'first',\n",
       " 'for',\n",
       " 'four',\n",
       " 'from',\n",
       " 'full',\n",
       " 'fully',\n",
       " 'further',\n",
       " 'furthered',\n",
       " 'furthering',\n",
       " 'furthers',\n",
       " 'g',\n",
       " 'gave',\n",
       " 'general',\n",
       " 'generally',\n",
       " 'get',\n",
       " 'gets',\n",
       " 'give',\n",
       " 'given',\n",
       " 'gives',\n",
       " 'go',\n",
       " 'going',\n",
       " 'good',\n",
       " 'goods',\n",
       " 'got',\n",
       " 'great',\n",
       " 'greater',\n",
       " 'greatest',\n",
       " 'group',\n",
       " 'grouped',\n",
       " 'grouping',\n",
       " 'groups',\n",
       " 'h',\n",
       " 'had',\n",
       " 'has',\n",
       " 'have',\n",
       " 'having',\n",
       " 'he',\n",
       " 'her',\n",
       " 'here',\n",
       " 'herself',\n",
       " 'high',\n",
       " 'high',\n",
       " 'high',\n",
       " 'higher',\n",
       " 'highest',\n",
       " 'him',\n",
       " 'himself',\n",
       " 'his',\n",
       " 'how',\n",
       " 'however',\n",
       " 'i',\n",
       " 'if',\n",
       " 'important',\n",
       " 'in',\n",
       " 'interest',\n",
       " 'interested',\n",
       " 'interesting',\n",
       " 'interests',\n",
       " 'into',\n",
       " 'is',\n",
       " 'it',\n",
       " 'its',\n",
       " 'itself',\n",
       " 'j',\n",
       " 'just',\n",
       " 'k',\n",
       " 'keep',\n",
       " 'keeps',\n",
       " 'kind',\n",
       " 'knew',\n",
       " 'know',\n",
       " 'known',\n",
       " 'knows',\n",
       " 'l',\n",
       " 'large',\n",
       " 'largely',\n",
       " 'last',\n",
       " 'later',\n",
       " 'latest',\n",
       " 'least',\n",
       " 'less',\n",
       " 'let',\n",
       " 'lets',\n",
       " 'like',\n",
       " 'likely',\n",
       " 'long',\n",
       " 'longer',\n",
       " 'longest',\n",
       " 'm',\n",
       " 'made',\n",
       " 'make',\n",
       " 'making',\n",
       " 'man',\n",
       " 'many',\n",
       " 'may',\n",
       " 'me',\n",
       " 'member',\n",
       " 'members',\n",
       " 'men',\n",
       " 'might',\n",
       " 'more',\n",
       " 'most',\n",
       " 'mostly',\n",
       " 'mr',\n",
       " 'mrs',\n",
       " 'much',\n",
       " 'must',\n",
       " 'my',\n",
       " 'myself',\n",
       " 'n',\n",
       " 'necessary',\n",
       " 'need',\n",
       " 'needed',\n",
       " 'needing',\n",
       " 'needs',\n",
       " 'never',\n",
       " 'new',\n",
       " 'new',\n",
       " 'newer',\n",
       " 'newest',\n",
       " 'next',\n",
       " 'no',\n",
       " 'nobody',\n",
       " 'non',\n",
       " 'noone',\n",
       " 'not',\n",
       " 'nothing',\n",
       " 'now',\n",
       " 'nowhere',\n",
       " 'number',\n",
       " 'numbers',\n",
       " 'o',\n",
       " 'of',\n",
       " 'off',\n",
       " 'often',\n",
       " 'old',\n",
       " 'older',\n",
       " 'oldest',\n",
       " 'on',\n",
       " 'once',\n",
       " 'one',\n",
       " 'only',\n",
       " 'open',\n",
       " 'opened',\n",
       " 'opening',\n",
       " 'opens',\n",
       " 'or',\n",
       " 'order',\n",
       " 'ordered',\n",
       " 'ordering',\n",
       " 'orders',\n",
       " 'other',\n",
       " 'others',\n",
       " 'our',\n",
       " 'out',\n",
       " 'over',\n",
       " 'p',\n",
       " 'part',\n",
       " 'parted',\n",
       " 'parting',\n",
       " 'parts',\n",
       " 'per',\n",
       " 'perhaps',\n",
       " 'place',\n",
       " 'places',\n",
       " 'point',\n",
       " 'pointed',\n",
       " 'pointing',\n",
       " 'points',\n",
       " 'possible',\n",
       " 'present',\n",
       " 'presented',\n",
       " 'presenting',\n",
       " 'presents',\n",
       " 'problem',\n",
       " 'problems',\n",
       " 'put',\n",
       " 'puts',\n",
       " 'q',\n",
       " 'quite',\n",
       " 'r',\n",
       " 'rather',\n",
       " 'really',\n",
       " 'right',\n",
       " 'right',\n",
       " 'room',\n",
       " 'rooms',\n",
       " 's',\n",
       " 'said',\n",
       " 'same',\n",
       " 'saw',\n",
       " 'say',\n",
       " 'says',\n",
       " 'second',\n",
       " 'seconds',\n",
       " 'see',\n",
       " 'seem',\n",
       " 'seemed',\n",
       " 'seeming',\n",
       " 'seems',\n",
       " 'sees',\n",
       " 'several',\n",
       " 'shall',\n",
       " 'she',\n",
       " 'should',\n",
       " 'show',\n",
       " 'showed',\n",
       " 'showing',\n",
       " 'shows',\n",
       " 'side',\n",
       " 'sides',\n",
       " 'since',\n",
       " 'small',\n",
       " 'smaller',\n",
       " 'smallest',\n",
       " 'so',\n",
       " 'some',\n",
       " 'somebody',\n",
       " 'someone',\n",
       " 'something',\n",
       " 'somewhere',\n",
       " 'state',\n",
       " 'states',\n",
       " 'still',\n",
       " 'still',\n",
       " 'such',\n",
       " 'sure',\n",
       " 't',\n",
       " 'take',\n",
       " 'taken',\n",
       " 'than',\n",
       " 'that',\n",
       " 'the',\n",
       " 'their',\n",
       " 'them',\n",
       " 'then',\n",
       " 'there',\n",
       " 'therefore',\n",
       " 'these',\n",
       " 'they',\n",
       " 'thing',\n",
       " 'things',\n",
       " 'think',\n",
       " 'thinks',\n",
       " 'this',\n",
       " 'those',\n",
       " 'though',\n",
       " 'thought',\n",
       " 'thoughts',\n",
       " 'three',\n",
       " 'through',\n",
       " 'thus',\n",
       " 'to',\n",
       " 'today',\n",
       " 'together',\n",
       " 'too',\n",
       " 'took',\n",
       " 'toward',\n",
       " 'turn',\n",
       " 'turned',\n",
       " 'turning',\n",
       " 'turns',\n",
       " 'two',\n",
       " 'u',\n",
       " 'under',\n",
       " 'until',\n",
       " 'up',\n",
       " 'upon',\n",
       " 'us',\n",
       " 'use',\n",
       " 'used',\n",
       " 'uses',\n",
       " 'v',\n",
       " 'very',\n",
       " 'w',\n",
       " 'want',\n",
       " 'wanted',\n",
       " 'wanting',\n",
       " 'wants',\n",
       " 'was',\n",
       " 'way',\n",
       " 'ways',\n",
       " 'we',\n",
       " 'well',\n",
       " 'wells',\n",
       " 'went',\n",
       " 'were',\n",
       " 'what',\n",
       " 'when',\n",
       " 'where',\n",
       " 'whether',\n",
       " 'which',\n",
       " 'while',\n",
       " 'who',\n",
       " 'whole',\n",
       " 'whose',\n",
       " 'why',\n",
       " 'will',\n",
       " 'with',\n",
       " 'within',\n",
       " 'without',\n",
       " 'work',\n",
       " 'worked',\n",
       " 'working',\n",
       " 'works',\n",
       " 'would',\n",
       " 'x',\n",
       " 'y',\n",
       " 'year',\n",
       " 'years',\n",
       " 'yet',\n",
       " 'you',\n",
       " 'young',\n",
       " 'younger',\n",
       " 'youngest',\n",
       " 'your',\n",
       " 'yours',\n",
       " 'z',\n",
       " 'a',\n",
       " 'about',\n",
       " 'above',\n",
       " 'across',\n",
       " 'after',\n",
       " 'afterwards',\n",
       " 'again',\n",
       " 'against',\n",
       " 'all',\n",
       " 'almost',\n",
       " 'alone',\n",
       " 'along',\n",
       " 'already',\n",
       " 'also',\n",
       " 'although',\n",
       " 'always',\n",
       " 'am',\n",
       " 'among',\n",
       " 'amongst',\n",
       " 'amoungst',\n",
       " 'amount',\n",
       " 'an',\n",
       " 'and',\n",
       " 'another',\n",
       " 'any',\n",
       " 'anyhow',\n",
       " 'anyone',\n",
       " 'anything',\n",
       " 'anyway',\n",
       " 'anywhere',\n",
       " 'are',\n",
       " 'around',\n",
       " 'as',\n",
       " 'at',\n",
       " 'back',\n",
       " 'be',\n",
       " 'became',\n",
       " 'because',\n",
       " 'become',\n",
       " 'becomes',\n",
       " 'becoming',\n",
       " 'been',\n",
       " 'before',\n",
       " 'beforehand',\n",
       " 'behind',\n",
       " 'being',\n",
       " 'below',\n",
       " 'beside',\n",
       " 'besides',\n",
       " 'between',\n",
       " 'beyond',\n",
       " 'bill',\n",
       " 'both',\n",
       " 'bottom',\n",
       " 'but',\n",
       " 'by',\n",
       " 'call',\n",
       " 'can',\n",
       " 'cannot',\n",
       " 'cant',\n",
       " 'co',\n",
       " 'computer',\n",
       " 'con',\n",
       " 'could',\n",
       " 'couldnt',\n",
       " 'cry',\n",
       " 'de',\n",
       " 'describe',\n",
       " 'detail',\n",
       " 'do',\n",
       " 'done',\n",
       " 'down',\n",
       " 'due',\n",
       " 'during',\n",
       " 'each',\n",
       " 'eg',\n",
       " 'eight',\n",
       " 'either',\n",
       " 'eleven',\n",
       " 'else',\n",
       " 'elsewhere',\n",
       " 'empty',\n",
       " 'enough',\n",
       " 'etc',\n",
       " 'even',\n",
       " 'ever',\n",
       " 'every',\n",
       " 'everyone',\n",
       " 'everything',\n",
       " 'everywhere',\n",
       " 'except',\n",
       " 'few',\n",
       " 'fifteen',\n",
       " 'fify',\n",
       " 'fill',\n",
       " 'find',\n",
       " 'fire',\n",
       " 'first',\n",
       " 'five',\n",
       " 'for',\n",
       " 'former',\n",
       " 'formerly',\n",
       " 'forty',\n",
       " 'found',\n",
       " 'four',\n",
       " 'from',\n",
       " 'front',\n",
       " 'full',\n",
       " 'further',\n",
       " 'get',\n",
       " 'give',\n",
       " 'go',\n",
       " 'had',\n",
       " 'has',\n",
       " 'hasnt',\n",
       " 'have',\n",
       " 'he',\n",
       " 'hence',\n",
       " 'her',\n",
       " 'here',\n",
       " 'hereafter',\n",
       " 'hereby',\n",
       " 'herein',\n",
       " 'hereupon',\n",
       " 'hers',\n",
       " 'herse\"',\n",
       " 'him',\n",
       " 'himse\"',\n",
       " 'his',\n",
       " 'how',\n",
       " 'however',\n",
       " 'hundred',\n",
       " 'i',\n",
       " 'ie',\n",
       " 'if',\n",
       " 'in',\n",
       " 'inc',\n",
       " 'indeed',\n",
       " 'interest',\n",
       " 'into',\n",
       " 'is',\n",
       " 'it',\n",
       " 'its',\n",
       " 'itse\"',\n",
       " 'keep',\n",
       " 'last',\n",
       " 'latter',\n",
       " 'latterly',\n",
       " 'least',\n",
       " 'less',\n",
       " 'ltd',\n",
       " 'made',\n",
       " 'many',\n",
       " 'may',\n",
       " 'me',\n",
       " 'meanwhile',\n",
       " 'might',\n",
       " 'mill',\n",
       " 'mine',\n",
       " 'more',\n",
       " 'moreover',\n",
       " 'most',\n",
       " 'mostly',\n",
       " 'move',\n",
       " 'much',\n",
       " 'must',\n",
       " 'my',\n",
       " 'myse\"',\n",
       " 'name',\n",
       " 'namely',\n",
       " 'neither',\n",
       " 'never',\n",
       " 'nevertheless',\n",
       " 'next',\n",
       " 'nine',\n",
       " 'no',\n",
       " 'nobody',\n",
       " 'none',\n",
       " 'noone',\n",
       " 'nor',\n",
       " 'not',\n",
       " 'nothing',\n",
       " 'now',\n",
       " 'nowhere',\n",
       " 'of',\n",
       " 'off',\n",
       " 'often',\n",
       " 'on',\n",
       " 'once',\n",
       " 'one',\n",
       " 'only',\n",
       " 'onto',\n",
       " 'or',\n",
       " 'other',\n",
       " 'others',\n",
       " 'otherwise',\n",
       " 'our',\n",
       " 'ours',\n",
       " 'ourselves',\n",
       " 'out',\n",
       " 'over',\n",
       " 'own',\n",
       " 'part',\n",
       " 'per',\n",
       " 'perhaps',\n",
       " 'please',\n",
       " 'put',\n",
       " 'rather',\n",
       " 're',\n",
       " 'same',\n",
       " 'see',\n",
       " 'seem',\n",
       " 'seemed',\n",
       " 'seeming',\n",
       " 'seems',\n",
       " 'serious',\n",
       " 'several',\n",
       " 'she',\n",
       " 'should',\n",
       " 'show',\n",
       " 'side',\n",
       " 'since',\n",
       " 'sincere',\n",
       " 'six',\n",
       " 'sixty',\n",
       " 'so',\n",
       " 'some',\n",
       " 'somehow',\n",
       " 'someone',\n",
       " 'something',\n",
       " 'sometime',\n",
       " 'sometimes',\n",
       " 'somewhere',\n",
       " 'still',\n",
       " 'such',\n",
       " 'system',\n",
       " 'take',\n",
       " 'ten',\n",
       " 'than',\n",
       " 'that',\n",
       " 'the',\n",
       " 'their',\n",
       " 'them',\n",
       " 'themselves',\n",
       " 'then',\n",
       " 'thence',\n",
       " 'there',\n",
       " 'thereafter',\n",
       " 'thereby',\n",
       " 'therefore',\n",
       " 'therein',\n",
       " 'thereupon',\n",
       " 'these',\n",
       " 'they',\n",
       " 'thick',\n",
       " 'thin',\n",
       " 'third',\n",
       " 'this',\n",
       " 'those',\n",
       " 'though',\n",
       " 'three',\n",
       " 'through',\n",
       " 'throughout',\n",
       " 'thru',\n",
       " 'thus',\n",
       " 'to',\n",
       " 'together',\n",
       " 'too',\n",
       " 'top',\n",
       " 'toward',\n",
       " 'towards',\n",
       " 'twelve',\n",
       " 'twenty',\n",
       " 'two',\n",
       " 'un',\n",
       " 'under',\n",
       " 'until',\n",
       " 'up',\n",
       " 'upon',\n",
       " 'us',\n",
       " 'very',\n",
       " 'via',\n",
       " 'was',\n",
       " 'we',\n",
       " 'well',\n",
       " 'were',\n",
       " 'what',\n",
       " 'whatever',\n",
       " 'when',\n",
       " 'whence',\n",
       " 'whenever',\n",
       " 'where',\n",
       " 'whereafter',\n",
       " 'whereas',\n",
       " 'whereby',\n",
       " 'wherein',\n",
       " 'whereupon',\n",
       " 'wherever',\n",
       " 'whether',\n",
       " 'which',\n",
       " 'while',\n",
       " 'whither',\n",
       " 'who',\n",
       " 'whoever',\n",
       " 'whole',\n",
       " 'whom',\n",
       " 'whose',\n",
       " 'why',\n",
       " 'will',\n",
       " 'with',\n",
       " 'within',\n",
       " 'without',\n",
       " 'would',\n",
       " 'yet',\n",
       " 'you',\n",
       " 'your',\n",
       " 'yours',\n",
       " 'yourself',\n",
       " 'yourselves',\n",
       " 'a\\xe2\\x80\\x99s',\n",
       " ' able',\n",
       " ' about',\n",
       " ' above',\n",
       " ' according',\n",
       " ' accordingly',\n",
       " ' across',\n",
       " ' actually',\n",
       " ' after',\n",
       " ' afterwards',\n",
       " ' again',\n",
       " ' against',\n",
       " ' ain\\xe2\\x80\\x99t',\n",
       " ' all',\n",
       " ' allow',\n",
       " ' allows',\n",
       " ' almost',\n",
       " ' alone',\n",
       " ' along',\n",
       " ' already',\n",
       " ' also',\n",
       " ' although',\n",
       " ' always',\n",
       " ' am',\n",
       " ' among',\n",
       " ' amongst',\n",
       " ' an',\n",
       " ' and',\n",
       " ' another',\n",
       " ' any',\n",
       " ' anybody',\n",
       " ' anyhow',\n",
       " ' anyone',\n",
       " ' anything',\n",
       " ' anyway',\n",
       " ' anyways',\n",
       " ' anywhere',\n",
       " ' apart',\n",
       " ' appear',\n",
       " ' appreciate',\n",
       " ' appropriate',\n",
       " ' are',\n",
       " ' aren\\xe2\\x80\\x99t',\n",
       " ' around',\n",
       " ' as',\n",
       " ' aside',\n",
       " ' ask',\n",
       " ' asking',\n",
       " ' associated',\n",
       " ' at',\n",
       " ' available',\n",
       " ' away',\n",
       " ' awfully',\n",
       " ' be',\n",
       " ' became',\n",
       " ' because',\n",
       " ' become',\n",
       " ' becomes',\n",
       " ' becoming',\n",
       " ' been',\n",
       " ' before',\n",
       " ' beforehand',\n",
       " ' behind',\n",
       " ' being',\n",
       " ' believe',\n",
       " ' below',\n",
       " ' beside',\n",
       " ' besides',\n",
       " ' best',\n",
       " ' better',\n",
       " ' between',\n",
       " ' beyond',\n",
       " ' both',\n",
       " ' brief',\n",
       " ' but',\n",
       " ' by',\n",
       " ' c\\xe2\\x80\\x99mon',\n",
       " ' c\\xe2\\x80\\x99s',\n",
       " ...]"
      ]
     },
     "execution_count": 338,
     "metadata": {},
     "output_type": "execute_result"
    }
   ],
   "source": [
    "extend_stopwords"
   ]
  },
  {
   "cell_type": "code",
   "execution_count": 372,
   "metadata": {
    "collapsed": true
   },
   "outputs": [],
   "source": [
    "stop2 = temp.split(',')"
   ]
  },
  {
   "cell_type": "code",
   "execution_count": 371,
   "metadata": {
    "collapsed": false
   },
   "outputs": [],
   "source": [
    "temp=\"\"\"a,able,about,above,abst,accordance,according,accordingly,across,act,actually,added,adj,affected,affecting,affects,after,afterwards,again,against,ah,all,almost,alone,along,already,also,although,always,am,among,amongst,an,and,announce,another,any,anybody,anyhow,anymore,anyone,anything,anyway,anyways,anywhere,apparently,approximately,are,aren,arent,arise,around,as,aside,ask,asking,at,auth,available,away,awfully,b,back,be,became,because,become,becomes,becoming,been,before,beforehand,begin,beginning,beginnings,begins,behind,being,believe,below,beside,besides,between,beyond,biol,both,brief,briefly,but,by,c,ca,came,can,cannot,can't,cause,causes,certain,certainly,co,com,come,comes,contain,containing,contains,could,couldnt,d,date,did,didn't,different,do,does,doesn't,doing,done,don't,down,downwards,due,during,e,each,ed,edu,effect,eg,eight,eighty,either,else,elsewhere,end,ending,enough,especially,et,et-al,etc,even,ever,every,everybody,everyone,everything,everywhere,ex,except,f,far,few,ff,fifth,first,five,fix,followed,following,follows,for,former,formerly,forth,found,four,from,further,furthermore,g,gave,get,gets,getting,give,given,gives,giving,go,goes,gone,got,gotten,h,had,happens,hardly,has,hasn't,have,haven't,having,he,hed,hence,her,here,hereafter,hereby,herein,heres,hereupon,hers,herself,hes,hi,hid,him,himself,his,hither,home,how,howbeit,however,hundred,i,id,ie,if,i'll,im,immediate,immediately,importance,important,in,inc,indeed,index,information,instead,into,invention,inward,is,isn't,it,itd,it'll,its,itself,i've,j,just,k,keep\tkeeps,kept,kg,km,know,known,knows,l,largely,last,lately,later,latter,latterly,least,less,lest,let,lets,like,liked,likely,line,little,'ll,look,looking,looks,ltd,m,made,mainly,make,makes,many,may,maybe,me,mean,means,meantime,meanwhile,merely,mg,might,million,miss,ml,more,moreover,most,mostly,mr,mrs,much,mug,must,my,myself,n,na,name,namely,nay,nd,near,nearly,necessarily,necessary,need,needs,neither,never,nevertheless,new,next,nine,ninety,no,nobody,non,none,nonetheless,noone,nor,normally,nos,not,noted,nothing,now,nowhere,o,obtain,obtained,obviously,of,off,often,oh,ok,okay,old,omitted,on,once,one,ones,only,onto,or,ord,other,others,otherwise,ought,our,ours,ourselves,out,outside,over,overall,owing,own,p,page,pages,part,particular,particularly,past,per,perhaps,placed,please,plus,poorly,possible,possibly,potentially,pp,predominantly,present,previously,primarily,probably,promptly,proud,provides,put,q,que,quickly,quite,qv,r,ran,rather,rd,re,readily,really,recent,recently,ref,refs,regarding,regardless,regards,related,relatively,research,respectively,resulted,resulting,results,right,run,s,said,same,saw,say,saying,says,sec,section,see,seeing,seem,seemed,seeming,seems,seen,self,selves,sent,seven,several,shall,she,shed,she'll,shes,should,shouldn't,show,showed,shown,showns,shows,significant,significantly,similar,similarly,since,six,slightly,so,some,somebody,somehow,someone,somethan,something,sometime,sometimes,somewhat,somewhere,soon,sorry,specifically,specified,specify,specifying,still,stop,strongly,sub,substantially,successfully,such,sufficiently,suggest,sup,sure\tt,take,taken,taking,tell,tends,th,than,thank,thanks,thanx,that,that'll,thats,that've,the,their,theirs,them,themselves,then,thence,there,thereafter,thereby,thered,therefore,therein,there'll,thereof,therere,theres,thereto,thereupon,there've,these,they,theyd,they'll,theyre,they've,think,this,those,thou,though,thoughh,thousand,throug,through,throughout,thru,thus,til,tip,to,together,too,took,toward,towards,tried,tries,truly,try,trying,ts,twice,two,u,un,under,unfortunately,unless,unlike,unlikely,until,unto,up,upon,ups,us,use,used,useful,usefully,usefulness,uses,using,usually,v,value,various,'ve,very,via,viz,vol,vols,vs,w,want,wants,was,wasnt,way,we,wed,welcome,we'll,went,were,werent,we've,what,whatever,what'll,whats,when,whence,whenever,where,whereafter,whereas,whereby,wherein,wheres,whereupon,wherever,whether,which,while,whim,whither,who,whod,whoever,whole,who'll,whom,whomever,whos,whose,why,widely,willing,wish,with,within,without,wont,words,world,would,wouldnt,www,x,y,yes,yet,you,youd,you'll,your,youre,yours,yourself,yourselves,you've,z,zero\"\"\""
   ]
  },
  {
   "cell_type": "code",
   "execution_count": 334,
   "metadata": {
    "collapsed": false
   },
   "outputs": [],
   "source": [
    "for i in final:\n",
    "    if (i not in extend_stopwords):\n",
    "        final.remove(i)"
   ]
  },
  {
   "cell_type": "code",
   "execution_count": 377,
   "metadata": {
    "collapsed": false
   },
   "outputs": [
    {
     "data": {
      "text/plain": [
       "4128"
      ]
     },
     "execution_count": 377,
     "metadata": {},
     "output_type": "execute_result"
    }
   ],
   "source": [
    "len(final)"
   ]
  },
  {
   "cell_type": "code",
   "execution_count": 336,
   "metadata": {
    "collapsed": false
   },
   "outputs": [
    {
     "name": "stdout",
     "output_type": "stream",
     "text": [
      "['2000', '300', 'abstract', 'accounted', 'across', 'adapt', 'adenosine', 'adoption', 'affinity', 'agricultural', 'algorithmic', 'all', 'almost', 'alone', 'along', 'already', 'also', 'although', 'always', 'among', 'amongst', 'amount', 'analyze', 'and', 'another', 'anxiety', 'approach', 'area', 'areas', 'around', 'asked', 'association', 'atom', 'audio', 'autonomous', 'away', 'back', 'baseline', 'became', 'become', 'becomes', 'becoming', 'behind', 'being', 'besides', 'best', 'better', 'beyond', 'big', 'birds', 'body', 'bottom', 'briefly', 'ca2', 'call', 'can', 'carcinoma', 'case', 'cases', 'center', 'certain', 'characteristic', 'childhood', 'circadian', 'classified', 'clear', 'clearly', 'closure', 'coefficient', 'college', 'combining', 'come', 'compared', 'complexity', 'computation', 'computer', 'conclusions', 'congestion', 'considerably', 'constraint', 'contamination', 'contribute', 'converter', 'core', 'cortex', 'covering', 'crp', 'cry', 'curvature', 'damage', 'debate', 'dedicated', 'degree', 'demonstrating', 'deposition', 'describe', 'detail', 'developed', 'die', 'differ', 'different', 'directed', 'discussed', 'dissolved', 'division', 'done', 'down', 'dry', 'due', 'early', 'editorial', 'efforts', 'eight', 'either', 'elliptic', 'employ', 'end', 'enough', 'epidemiological', 'errors', 'etc', 'even', 'ever', 'every', 'excellent', 'except', 'expansion', 'explicit', 'expressing', 'extracted', 'face', 'faces', 'fact', 'far', 'feeding', 'filtering', 'find', 'fire', 'first', 'five', 'fluxes', 'for', 'former', 'forty', 'found', 'four', 'freedom', 'front', 'full', 'fully', 'gait', 'gave', 'general', 'generally', 'genotypes', 'get', 'give', 'given', 'gives', 'good', 'great', 'greater', 'greatest', 'group', 'groups', 'hamiltonian', 'healing', 'hence', 'high', 'higher', 'highest', 'homeostasis', 'however', 'hundred', 'idea', 'illness', 'impairment', 'important', 'inclusion', 'indeed', 'individual', 'infected', 'informed', 'injected', 'inspection', 'integer', 'interact', 'interest', 'interesting', 'interests', 'interstitial', 'introduction', 'involve', 'issues', 'july', 'just', 'kind', 'know', 'known', 'large', 'largely', 'last', 'later', 'latter', 'leakage', 'least', 'less', 'let', 'like', 'likely', 'lipid', 'localized', 'long', 'longer', 'mac', 'made', 'make', 'making', 'man', 'many', 'markovian', 'mathjax_preview', 'may', 'mediated', 'member', 'members', 'men', 'metals', 'microscopic', 'might', 'mir', 'mobile', 'modular', 'monotone', 'moreover', 'mostly', 'move', 'much', 'multiscale', 'must', 'name', 'namely', 'necessary', 'need', 'needed', 'needs', 'neither', 'neutral', 'never', 'nevertheless', 'new', 'next', 'nine', 'non', 'none', 'not', 'now', 'number', 'numbers', 'observation', 'october', 'off', 'often', 'old', 'older', 'one', 'only', 'onto', 'open', 'optimisation', 'order', 'ordered', 'ordering', 'orders', 'orthogonal', 'other', 'others', 'otherwise', 'out', 'over', 'p53', 'parabolic', 'part', 'partner', 'parts', 'pathways', 'per', 'periods', 'pet', 'phys', 'place', 'platelets', 'point', 'points', 'polynomials', 'positively', 'possible', 'pre', 'preface', 'present', 'presented', 'presenting', 'presents', 'pricing', 'probe', 'problem', 'problems', 'products', 'progressive', 'propagation', 'protective', 'provisioning', 'purpose', 'put', 'quantum', 'quite', 'ranges', 'rather', 'read', 'receivers', 'reconfiguration', 'reduces', 'regardless', 'regulator', 'relay', 'removal', 'representative', 'resection', 'respiration', 'resulting', 'revisited', 'right', 'role', 'room', 'rural', 'satisfy', 'scheduling', 'screened', 'second', 'see', 'seem', 'seems', 'sensing', 'series', 'serious', 'several', 'shifts', 'show', 'showed', 'showing', 'shows', 'side', 'similarity', 'since', 'six', 'small', 'smaller', 'soft', 'sometimes', 'spatio', 'spectrum', 'squares', 'state', 'states', 'stigma', 'still', 'strategic', 'structured', 'subsequent', 'suffer', 'supplementation', 'survey', 'symmetry', 'system', 'take', 'taken', 'technique', 'ten', 'tex', 'the', 'them', 'thereby', 'therefore', 'thin', 'third', 'this', 'though', 'thought', 'three', 'throughout', 'thus', 'today', 'together', 'took', 'top', 'toward', 'towards', 'traits', 'transgenic', 'traveling', 'trust', 'turn', 'twenty', 'two', 'u03c0', 'u22121', 'unclear', 'united', 'upon', 'use', 'used', 'uses', 'valence', 'variation', 'vehicular', 'via', 'viscosity', 'volumes', 'waves', 'way', 'ways', 'well', 'whereas', 'whether', 'whole', 'whose', 'will', 'within', 'without', 'work', 'working', 'works', 'xb5g', 'year', 'years', 'yet', 'young', 'younger']\n"
     ]
    }
   ],
   "source": [
    "print final"
   ]
  },
  {
   "cell_type": "code",
   "execution_count": 365,
   "metadata": {
    "collapsed": true
   },
   "outputs": [],
   "source": [
    "final = \"\"\"abdominal, abilities, ability, able, abnormal, abnormalities, absence, absent, absolute, absorption, abstract, abstraction, abundance, abundant, academic, accelerated, acceleration, acceptable, acceptance, accepted, access, accessible, accompanied, according, accordingly, account, accounted, accounting, accounts, accumulation, accuracy, accurate, accurately, achieve, achieved, achieves, achieving, acid, acids, acoustic, acquired, acquisition, across, act, actin, acting, action, actions, activated, activation, active, activities, activity, acts, actual, actually, actuator, acute, adapt, adaptation, adapted, adaptive, adc, add, added, adding, addition, additional, additionally, additive, address, addressed, addresses, addressing, adenosine, adequate, adherence, adhesion, adjacent, adjusted, adjusting, adjustment, administered, administration, admission, admitted, adolescent, adolescents, adopt, adopted, adoption, adp, adult, adults, advance, advanced, advances, advantage, advantages, adverse, aerial, affect, affected, affecting, affects, affine, affinity, africa, african, age, aged, agency, agent, agents, ages, aggregate, aggregation, aggressive, agile, aging, agonist, agreement, agricultural, aid, aided, aids, aim, aimed, aims, air, airway, akt, albumin, alcohol, algebra, algebraic, algebras, algorithm, algorithmic, algorithms, align, alignment, all, allele, alleles, allergic, allergy, allocation, allow, allowed, allowing, allows, almost, alone, along, alpha, already, also, alter, alterations, altered, alternative, alternatives, although, always, alzheimer, ambient, america, american, amino, among, amongst, amount, amounts, amp, amplification, amplified, amplifier, amplitude, amyloid, analog, analyse, analysed, analyses, analysis, analytic, analytical, analytics, analyze, analyzed, analyzing, and, anemia, angle, animal, animals, animation, ann, annealing, annotation, annual, anomalies, anomalous, anomaly, another, answer, ant, antagonist, antenna, antennas, anterior, anti, antibiotic, antibiotics, antibodies, antibody, antigen, antimicrobial, antioxidant, antiretroviral, anxiety, apoptosis, apoptotic, app, apparent, appear, appearance, appeared, appears, applicability, applicable, application, applications, applied, apply, applying, approach, approaches, appropriate, approximate, approximately, approximating, approximation, approximations, april, aqueous, arabidopsis, arbitrary, arc, architectural, architecture, architectures, area, areas, arginine, argue, argued, argues, argument, arguments, arise, arises, arising, arithmetic, arm, around, array, arrays, arrival, art, arterial, artery, arthritis, article, articles, artificial, asia, asian, asked, aspect, aspects, assay, assays, assembly, assess, assessed, assessing, assessment, assessments, assigned, assignment, assist, assisted, associated, association, associations, associative, assume, assumed, assuming, assumption, assumptions, asthma, asymmetric, asymptotic, asynchronous, atlantic, atm, atmosphere, atmospheric, atom, atomic, atoms, atp, attack, attacks, attempt, attempts, attending, attention, attenuated, attitudes, attractive, attribute, attributed, attributes, audio, augmented, august, aureus, australia, australian, authentication, author, authors, autoimmune, automata, automated, automatic, automatically, automation, automotive, autonomous, availability, available, avc, average, averaged, avoid, avoidance, aware, awareness, away, axis, bacillus, back, background, bacteria, bacterial, balance, balanced, balancing, band, bands, bandwidth, bank, barrier, barriers, basal, base, based, baseline, bases, basic, basin, basis, batch, battery, bayesian, beam, beamforming, bearing, became, become, becomes, becoming, bed, beginning, behavior, behavioral, behaviors, behaviour, behavioural, behaviours, behind, being, belief, beliefs, believe, believed, belonging, benchmark, beneficial, benefit, benefits, benign, besides, best, beta, better, beyond, bias, bifurcation, big, bilateral, binary, binding, bio, biochemical, biodiversity, biological, biology, biomarkers, biomass, biomedical, biometric, biopsy, biosynthesis, bipartite, birds, birth, bit, bits, black, bladder, bleeding, blind, block, blocking, blocks, blood, blot, blue, bmi, bodies, body, bold, bond, bone, book, boolean, border, born, bottom, bound, boundaries, boundary, bounded, bounds, bowel, box, boys, brain, branch, branch], brazil, breast, breeding, brief, briefly, british, broad, broadband, broadcast, broadcasting, broader, buffer, build, building, built, bulk, burden, burst, bus, business, ca2, cache, caching, cad, calcium, calculate, calculated, calculation, calculations, calculus, calibration, call, called, calls, camera, camp, can, canada, cancellation, cancer, cancers, candidate, candidates, canonical, capabilities, capability, capable, capacity, capital, capture, captured, carbon, carcinoma, cardiac, cardiovascular, care, caregivers, carlo, carried, carrier, carriers, carry, carrying, case, cases, catalytic, categories, categorization, category, causal, cause, caused, causes, causing, cavity, cd4, cdma, cell, cells, cellular, center, centers, central, centre, centric, century, cerebral, cereus, certain, cervical, chain, chains, challenge, challenges, challenging, change, changed, changes, changing, channel, channels, chaos, chaotic, character, characteristic, characteristics, characterization, characterize, characterized, characterizing, characters, charge, charged, chd, check, checking, chemical, chemistry, chemotherapy, child, childhood, children, china, chinese, chip, choice, choices, cholesterol, choose, chosen, chromatic, chromatography, chromosomal, chromosome, chromosomes, chronic, circadian, circuit, circuits, circular, circulating, circulation, cis, citation, city, claim, claims, clarify, class, classes, classical, classification, classified, classifier, classifiers, classify, clay, clear, clearance, clearly, client, clients, climate, climatic, clinic, clinical, clinically, clinicians, clinics, clip, clock, clones, close, closed, closely, closure, cloud, clouds, cluster, clustering, clusters, cmos, cns, co2, coarse, coastal, coating, code, coded, codes, coding, coefficient, coefficients, cognitive, coherence, coherent, cohort, cold, coli, colitis, collaboration, collaborative, collagen, collected, collection, collections, collective, college, collision, colon, colonization, colony, color, colorectal, coloring, colour, column, combination, combinations, combinatorial, combine, combined, combines, combining, come, comments, commerce, commercial, common, commonly, communication, communications, communities, community, compact, companies, company, comparable, comparative, compare, compared, comparing, comparison, comparisons, compatible, compensation, competition, competitive, complement, complementary, complete, completed, completely, completion, complex, complexes, complexity, compliance, complicated, complications, component, components, composed, composite, composition, compound, compounds, comprehensive, compressed, compression, comprised, comprising, computation, computational, computationally, computations, compute, computed, computer, computers, computing, concentration, concentrations, concept, concepts, conceptual, concern, concerned, concerning, concerns, concert, conclude, concluded, conclusion, conclusions, concrete, concurrent, condition, conditional, conditions, conduct, conducted, conductivity, conference, confidence, configuration, configurations, confirm, confirmed, conflict, congestion, conjecture, conjunction, connected, connection, connections, connectivity, consecutive, consensus, consequence, consequences, consequently, conservation, conserved, consider, considerable, considerably, consideration, considerations, considered, considering, considers, consisted, consistency, consistent, consistently, consisting, consists, constant, constants, constitute, constrained, constraint, constraints, construct, constructed, constructing, construction, constructs, consumer, consumers, consuming, consumption, contact, contain, contained, containing, contains, contamination, contemporary, content, contents, context, contexts, contextual, continue, continued, continuous, continuously, contour, contract, contraction, contrary, contrast, contribute, contributed, contributes, contributing, contribution, contributions, control, controlled, controller, controllers, controlling, controls, convection, conventional, convergence, conversion, converter, converters, convex, cooling, cooperation, cooperative, coordinate, coordinated, coordinates, coordination, cope, copies, coping, copper, copy, cord, core, cores, coronary, corpus, correct, corrected, correction, correctly, correctness, correlate, correlated, correlates, correlation, correlations, correspondence, corresponding, cortex, cortical, cost, costs, cotton, count, counting, countries, country, counts, coupled, coupling, course, cover, coverage, covered, covering, cox, cpu, create, created, creating, creation, criteria, criterion, critical, critically, crohn, cronbach, crop, crops, cross, crp, crucial, cry, crystal, crystals, csf, cubic, cues, cultivars, cultural, culture, cultured, cultures, cumulative, current, currently, currents, curriculum, curvature, curve, curves, customer, customers, cut, cutting, cvd, cyber, cycle, cycles, cyclic, cyclotron, cytokine, cytokines, daily, damage, dans, dark, data, database, databases, dataset, datasets, date, day, days, deal, dealing, deals, death, deaths, debate, decade, decades, decay, december, decentralized, decision, decisions, decline, decoder, decoding, decomposition, decrease, decreased, decreases, decreasing, dedicated, deep, defect, defects, defense, deficiency, deficient, deficits, define, defined, defining, definition, definitions, deformable, deformation, degradation, degree, degrees, delay, delayed, delays, deletion, delivered, delivery, delta, demand, demands, dementia, demographic, demonstrate, demonstrated, demonstrates, demonstrating, denoising, dense, densities, density, department, depend, dependence, dependency, dependent, depending, depends, depletion, deployed, deployment, deposited, deposition, depression, depressive, depth, der, derivative, derivatives, derive, derived, des, describe, described, describes, describing, description, descriptions, descriptive, descriptors, design, designed, designing, designs, desirable, desired, despite, detail, detailed, details, detect, detected, detecting, detection, detector, determinants, determination, determine, determined, determines, determining, deterministic, develop, developed, developing, development, developmental, developments, deviation, device, devices, diabetes, diabetic, diagnosed, diagnosis, diagnostic, diagram, diagrams, diameter, die, died, dielectric, diet, dietary, diets, differ, differed, difference, differences, different, differential, differentially, differentiated, differentiation, difficult, difficulties, difficulty, diffraction, diffusion, digital, dimension, dimensional, dimensions, dioxide, direct, directed, direction, directional, directions, directly, disabilities, disability, discharge, discontinuous, discovered, discovering, discovery, discrete, discriminant, discrimination, discuss, discussed, discusses, discussion, disease, diseases, disjoint, disk, disorder, disorders, dispersal, dispersion, displacement, display, displayed, displays, disruption, dissolved, distance, distances, distinct, distinguish, distortion, distress, distributed, distribution, distributions, disturbance, disturbances, divergence, diverse, diversity, divided, division, dna, document, documented, documents, dogs, doi, domain, domains, domestic, dominance, dominant, dominated, domination, done, donor, donors, doped, dose, doses, double, down, downlink, downstream, dramatically, drawing, drawn, drift, drinking, drive, driven, driver, driving, drop, drought, drug, drugs, dry, dual, duality, due, duration, dust, dynamic, dynamical, dynamically, dynamics, dysfunction, earlier, early, earth, easily, east, eastern, easy, eating, ecological, ecology, economic, economy, ecosystem, ecosystems, edge, edges, editor, editorial, editors, education, educational, eeg, effect, effective, effectively, effectiveness, effects, efficacy, efficiency, efficient, efficiently, efflux, effort, efforts, egfr, egg, eigenvalue, eight, einstein, either, elastic, elderly, electric, electrical, electrode, electromagnetic, electron, electronic, electrons, element, elements, elevated, elevation, elimination, elisa, elliptic, elucidate, embedded, embedding, emerged, emergence, emergency, emerging, emission, emissions, emotion, emotional, emotions, emphasis, emphasistypeitalic, empirical, employ, employed, employing, employment, employs, enable, enabled, enables, enabling, encoded, encoding, encountered, encryption, end, endemic, endogenous, endothelial, energies, energy, engagement, engine, engineering, english, enhance, enhanced, enhancement, enhances, enhancing, enos, enough, enriched, enrichment, enrolled, ensemble, ensure, enterprise, entire, entities, entropy, entry, environment, environmental, environments, enzyme, enzymes, epidemiological, epigenetic, epilepsy, episodes, epithelial, equal, equalization, equally, equation, equations, equilibrium, equipment, equivalence, equivalent, erratum, error, errors, especially, essential, essentially, est, establish, established, establishing, establishment, estimate, estimated, estimates, estimating, estimation, estimator, estimators, etc, ethanol, ethical, ethnic, europe, european, evaluate, evaluated, evaluating, evaluation, evaluations, even, event, events, ever, every, evidence, evident, evolution, evolutionary, evolved, evolving, exact, exactly, examination, examine, examined, examines, examining, example, examples, excellent, except, excess, exchange, excitation, excited, excluded, execution, exercise, exhibit, exhibited, exhibits, exist, existence, existing, exists, expanded, expansion, expectations, expected, expensive, experience, experienced, experiences, experiment, experimental, experimentally, experiments, expert, experts, explain, explained, explanation, explicit, explicitly, exploit, exploited, exploiting, exploration, exploratory, explore, explored, explores, exploring, exponential, exposed, exposure, express, expressed, expressing, expression, expressions, extend, extended, extending, extends, extension, extensions, extensive, extensively, extent, external, extra, extracellular, extract, extracted, extracting, extraction, extracts, extreme, extremely, eye, eyes, face, faces, facial, facilitate, facilitates, facilities, facility, fact, factor, factorization, factors, fading, fail, failed, failure, failures, fair, fairness, fall, false, families, family, far, fashion, fast, faster, fat, fatigue, fatty, fault, faults, feasibility, feasible, feature, features, fed, feed, feedback, feeding, female, females, fetal, fever, fewer, fiber, fibers, fibrosis, field, fields, file, files, film, films, filter, filtering, filters, final, finally, financial, find, finding, findings, fine, fingerprint, finite, fir, fire, first, firstly, fish, fit, fitness, fitting, five, fixed, flat, flexibility, flexible, flies, flight, floral, flow, flowering, flows, fluctuations, fluid, fluids, fluorescence, flux, fluxes, fly, fmri, focal, focus, focused, focuses, focusing, fold, follow, followed, following, follows, font, food, for, force, forced, forces, forcing, forecast, forecasting, foreign, forest, forests, form, formal, formalism, format, formation, formed, former, forming, forms, formula, formulas, formulate, formulated, formulation, forty, forward, found, foundation, four, fourier, fourth, fpga, fractal, fraction, fractional, fractions, fracture, fragment, fragmentation, fragments, frame, frames, framework, free, freedom, french, frequencies, frequency, frequent, frequently, fresh, freshwater, front, fruit, fuel, full, fullerene, fully, function, functional, functionality, functioning, functions, fundamental, fungal, fungi, furthermore, fusion, future, fuzzy, gain, gained, gains, gait, galerkin, game, games, gamma, gap, gaps, gas, gastric, gastrointestinal, gate, gaussian, gave, gel, gender, gene, general, generalization, generalized, generally, generate, generated, generates, generating, generation, generator, generic, genes, genetic, genetically, genetics, genome, genomes, genomic, genotype, genotypes, genus, geographic, geographical, geometric, geometry, german, gesture, get, ghz, girls, gis, give, given, gives, giving, gland, glass, glioma, global, globally, glucose, goal, goals, gold, good, government, gps, gpu, grade, gradient, gradients, grain, gram, grammars, graph, graphene, graphical, graphics, graphs, grass, great, greater, greatest, greatly, greedy, green, grid, grids, ground, group, groups, growing, grown, growth, guarantee, guarantees, guest, guidance, guide, guided, guidelines, gut, habitat, habitats, hair, half, hamiltonian, hand, handle, handling, handwritten, haplotype, haptic, hard, hardware, harmonic, hazard, hcv, hdl, hdlc, head, headache, healing, health, healthcare, healthy, heart, heat, heating, heavy, height, held, help, helps, hence, hepatic, hepatitis, heterogeneity, heterogeneous, heuristic, heuristics, hidden, hierarchical, hierarchy, high, higher, highest, highlight, highlighted, highlights, highly, histogram, histological, historical, history, hiv, hla, hoc, hold, holds, hole, home, homeostasis, homogeneous, hop, horizontal, hormone, hospital, hospitals, host, hosts, hot, hours, household, housing, however, href, http, huge, human, humanoid, humans, hundred, hybrid, hybridization, hydrogen, hyperbolic, hyperspectral, hypertension, hypertensive, hypotheses, hypothesis, hypothesized, hypoxia, ibd, icc, ice, ict, idea, ideal, ideas, identical, identification, identified, identifies, identify, identifying, identity, ieee, ifn, ige, igg, iii, ill, illness, illumination, illustrate, illustrated, image, imagery, images, imaging, immediate, immediately, immune, immunity, immunohistochemistry, impact, impacts, impaired, impairment, impedance, imperfect, implement, implementation, implementations, implemented, implementing, implicated, implications, implicit, implies, importance, important, importantly, improve, improved, improvement, improvements, improves, improving, impulse, impulsive, incidence, incident, include, included, includes, including, inclusion, income, incomplete, incorporate, incorporated, incorporating, incorporation, increase, increased, increases, increasing, increasingly, incremental, incubation, indeed, independence, independent, independently, index, indexing, india, indian, indicate, indicated, indicates, indicating, indicator, indicators, indices, indirect, individual, individuals, indoor, induce, induced, induces, inducible, inducing, induction, inductive, industrial, industry, inequalities, inequality, infant, infants, infected, infection, infections, infectious, inference, infiltration, infinite, inflammation, inflammatory, influence, influenced, influences, influencing, influenza, inform, information, informed, infrared, infrastructure, infusion, inherent, inherit, inhibit, inhibited, inhibition, inhibitor, inhibitors, inhibitory, initial, initially, initiated, initiation, injected, injection, injury, inline, inlineequation, inner, innovation, innovative, inos, input, inputs, insect, insertion, inside, insight, insights, inspection, inspired, instability, instance, instances, instead, institute, institutional, institutions, instruction, instrument, instruments, insufficient, insulin, intact, intake, integer, integral, integrate, integrated, integrating, integration, integrity, intellectual, intelligence, intelligent, intended, intense, intensity, intensive, intention, inter, interact, interacting, interaction, interactions, interactive, interannual, interconnection, interdisciplinary, interest, interesting, interestingly, interests, interface, interfaces, interference, interior, interleukin, intermediate, internal, international, internet, interoperability, interpolation, interpretation, interpreted, interprofessional, intersection, interstitial, interval, intervals, intervention, interventions, interview, interviews, intestinal, intra, intracellular, intravenous, intrinsic, introduce, introduced, introduces, introducing, introduction, intrusion, intuitionistic, invariant, invasion, invasive, inventory, inverse, inversion, investigate, investigated, investigates, investigating, investigation, investigations, investment, involve, involved, involvement, involves, involving, ion, ions, iron, irradiation, isbn, island, islands, isolated, isolates, isolation, issue, issues, italic, item, items, iteration, iterative, january, japan, japanese, java, jet, job, jobs, john, joint, journal, july, june, just, kalman, kernel, key, kidney, kinase, kind, kinds, kinetic, kinetics, kinin, know, knowledge, known, label, labeled, labeling, laboratory, lack, lacking, lagrangian, lake, land, landscape, language, languages, large, largely, larger, largescale, largest, larvae, laser, last, late, latency, latent, later, lateral, latter, lattice, lattices, law, laws, layer, layered, layers, layout, ldl, ldlc, ldpc, lead, leading, leads, leaf, leakage, learn, learned, learning, least, leaves, led, left, legal, length, lengths, les, lesion, lesions, less, lessons, let, letter, level, levels, libraries, library, life, lifetime, ligand, ligands, ligase, light, lightweight, like, likelihood, likely, limit, limitation, limitations, limited, limiting, limits, line, linear, linearly, lines, linguistic, link, linkage, linked, links, lipid, lipoprotein, liquid, list, literature, lithium, little, live, liver, lives, living, load, loading, loads, local, localization, localized, locally, located, location, locations, loci, locus, log, logic, logical, logics, logistic, long, longer, longitudinal, look, loop, loss, losses, lost, low, lower, lowest, lps, lte, lung, lyapunov, lymphocytes, lymphoma, mac, machine, machines, macrophages, made, magnetic, magnitude, main, mainly, maintain, maintained, maintaining, maintenance, maize, major, majority, make, makes, making, malaria, male, males, malignant, malnutrition, mammalian, man, manage, managed, management, managers, managing, manipulation, manipulator, manipulators, manner, manual, manufacturing, many, map, mapped, mapping, mappings, maps, march, margin, marine, marked, markedly, marker, markers, market, markets, markov, markovian, marrow, mass, massive, match, matched, matching, material, materials, maternal, math, mathcal, mathematical, mathematics, mathjax, mathjax_main, mathjax_preview, mathml, mating, matrices, matrix, matter, maturation, mature, max, maximal, maximization, maximize, maximum, may, mean, meaning, meaningful, means, measure, measured, measurement, measurements, measures, measuring, mechanical, mechanism, mechanisms, media, median, mediated, medical, medication, medications, medicine, mediterranean, medium, meet, meeting, member, members, membrane, membranes, memory, men, meningitis, mental, mentioned, merging, mesh, meshes, message, messages, met, meta, metabolic, metabolism, metabolites, metadata, metal, metals, metastasis, metastatic, method, methodologies, methodology, methods, methyl, methylation, metric, metrics, mice, micro, microarray, microbial, microsatellite, microscopic, microscopy, microwave, mid, middle, middleware, might, migration, mild, milk, million, mimo, min, mineral, minimal, minimization, minimize, minimizing, minimum, mining, minor, minutes, mir, mirna, mirnas, missing, mit, mitigation, mitochondrial, mixed, mixing, mixture, mixtures, mjx, mjxp, mmhg, mmol, mmp, mobile, mobility, modal, mode, model, modeled, modeling, modelling, models, moderate, modern, modes, modification, modifications, modified, modify, modular, modulated, modulation, module, modules, moisture, mol, molecular, molecule, molecules, moment, moments, momentum, monitor, monitored, monitoring, monotone, monsoon, monte, month, months, moral, morbidity, moreover, morphological, morphology, mortality, mostly, mother, mothers, motion, motivated, motivation, motor, mouse, move, movement, movements, moving, mpeg, mri, mrna, mrow, much, mucosal, multi, multiagent, multicast, multichannel, multidimensional, multilevel, multimedia, multimodal, multiobjective, multipath, multiple, multiplexing, multiplication, multiprocessor, multiscale, multiuser, multivariate, murine, muscle, music, must, mutant, mutants, mutation, mutations, mutual, myeloma, myocardial, name, named, namely, nanoparticles, narrow, nasal, national, native, natural, naturally, nature, nausea, navigation, near, nearest, nearly, necessarily, necessary, necrosis, need, needed, needs, negative, negatively, negotiation, neighbor, neighborhood, neisseria, neither, neonatal, nerve, nervous, net, nets, network, networked, networking, networks, neural, neuro, neurological, neuron, neuronal, neurons, neutral, never, nevertheless, new, newly, news, newton, newtonian, next, nine, nitrate, nitric, nitrogen, nnos, nobr, node, nodes, noise, noisy, non, none, nonlinear, nonparametric, norm, normal, normalized, normally, norms, north, northern, nos, not, notably, note, noted, notion, novel, now, nuclear, nuclei, nucleotide, nucleus, null, number, numbers, numerical, numerically, numerous, nurse, nurses, nursing, nutrient, nutrition, nutritional, obese, obesity, object, objective, objectives, objects, observation, observational, observations, observe, observed, observer, obtain, obtained, obtaining, occupational, occur, occurred, occurrence, occurring, occurs, ocean, october, odds, ofdm, ofdma, off, offer, offered, offers, offset, offspring, often, oil, old, older, one, ones, ongoing, online, only, onset, onto, ontologies, ontology, open, operate, operating, operation, operational, operations, operative, operator, operators, opportunistic, opportunities, opportunity, opposite, optical, optimal, optimality, optimisation, optimization, optimize, optimized, optimizing, optimum, option, options, oral, order, ordered, ordering, orders, ordinary, org, organ, organic, organisms, organization, organizational, organizations, organized, organizing, organs, orientation, oriented, origin, original, orthogonal, oscillation, oscillations, oscillator, other, others, otherwise, out, outcome, outcomes, outer, outpatient, outperforms, output, outputs, outside, ovarian, over, overall, overcome, overexpression, overflow, overhead, overlap, overlapping, overlay, overview, overweight, oxidation, oxidative, oxide, oxygen, p2p, p53, pacific, package, packet, packets, packing, page, pain, pair, pairs, pairwise, pancreatic, panel, paper, papers, par, parabolic, paradigm, parallel, parallelism, parameter, parameterized, parameters, parametric, parasite, parent, parental, parents, part, partial, partially, participants, participate, participated, participating, participation, particle, particles, particular, particularly, partition, partitioning, partitions, partly, partner, partners, parts, party, pass, passive, past, patch, patches, path, pathogen, pathogenesis, pathogenic, pathogens, pathological, pathology, paths, pathway, pathways, patient, patients, pattern, patterns, pca, pcr, peak, peaks, pediatric, peer, peers, people, peptide, peptides, per, perceived, percent, percentage, perception, perceptions, perceptual, perfect, perform, performance, performances, performed, performing, performs, period, periodic, periods, peripheral, permanent, permutation, persistence, persistent, person, personal, personality, personalized, persons, perspective, perspectives, perturbation, perturbations, pervasive, pet, petri, pharmacological, phase, phases, phenomena, phenomenon, phenotype, phenotypes, phenotypic, phone, phonon, phosphate, phosphorylation, photon, phylogenetic, phys, physical, physician, physicians, physics, physiological, picture, piecewise, pigs, pilot, pixel, pixels, place, placebo, placed, placement, plan, planar, plane, planning, plans, plant, plants, plasma, plasmapheresis, plasmas, plate, platelet, platelets, platform, platforms, play, played, player, players, plays, plots, plus, point, points, poisson, polar, polarimetric, polarization, policies, policy, political, pollen, pollution, polymer, polymerase, polymorphic, polymorphism, polymorphisms, polynomial, polynomials, pool, poor, poorly, poplar, popular, population, populations, populus, portfolio, portion, pose, position, positioning, positions, positive, positively, possess, possibilities, possibility, possible, possibly, post, posterior, postoperative, potent, potential, potentially, potentials, pour, power, powerful, practical, practice, practices, practitioners, pre, precipitation, precise, precisely, precision, precursor, predict, predicted, predicting, prediction, predictions, predictive, predictor, predictors, predicts, predominantly, preface, preference, preferences, preferred, pregnancy, pregnant, preliminary, preparation, prepared, prescribed, presence, present, presentation, presented, presenting, presents, preserving, press, pressure, pressures, prevalence, prevalent, prevent, prevented, preventing, prevention, preventive, previous, previously, prey, price, pricing, primarily, primary, principal, principle, principles, prior, priori, priority, privacy, private, pro, probabilistic, probabilities, probability, probably, probe, problem, problems, procedure, procedures, process, processed, processes, processing, processor, processors, produce, produced, produces, producing, product, production, productivity, products, professional, professionals, profile, profiles, profiling, prognosis, prognostic, program, programmable, programme, programmes, programming, programs, progress, progression, progressive, project, projection, projects, proliferation, prolonged, prominent, promising, promote, promoted, promoter, promotes, promoting, prone, pronounced, proof, propagation, proper, properly, properties, property, proportion, proportional, proposal, propose, proposed, proposes, prospective, prostate, protect, protected, protection, protective, protein, proteins, protocol, protocols, prototype, prove, proved, proven, provide, provided, provider, providers, provides, providing, provision, provisioning, proximal, proximity, pseudo, psychiatric, psychological, psychometric, psychosocial, public, published, publisher, pulmonary, pulse, pulses, pure, purified, purpose, purposes, put, putative, pylori, qol, qos, qtl, quadratic, qualitative, quality, quantification, quantified, quantify, quantitative, quantities, quantity, quantization, quantum, quasi, que, queries, query, question, questionnaire, questionnaires, questions, queue, queueing, queues, quickly, quite, race, radar, radial, radiation, radical, radio, radius, rainfall, raised, raman, random, randomized, randomly, range, ranged, ranges, ranging, rank, ranking, rapid, rapidly, rare, rarely, rasch, rat, rate, rated, rates, rather, rating, ratings, ratio, rational, ratios, rats, raw, ray, rayleigh, reach, reached, reaction, reactions, reactive, reactivity, read, readily, reading, real, realistic, reality, realization, realized, reason, reasonable, reasoning, reasons, recall, receive, received, receiver, receivers, receiving, recent, recently, receptor, receptors, recipients, recognition, recognize, recognized, recombinant, recombination, recommendation, recommendations, recommended, reconfigurable, reconfiguration, reconstruction, record, recorded, recording, records, recovered, recovery, recruited, recruitment, recurrence, recurrent, recursive, red, reduce, reduced, reduces, reducing, reduction, reductions, redundancy, redundant, reference, referred, refinement, reflect, reflected, reflection, reflects, regard, regarded, regarding, regardless, regime, regimen, regimes, region, regional, regions, registration, regression, regular, regularization, regulate, regulated, regulates, regulating, regulation, regulator, regulatory, rehabilitation, reinforcement, rejection, relate, related, relating, relation, relational, relations, relationship, relationships, relative, relatively, relaxation, relay, relaying, release, released, relevance, relevant, reliability, reliable, relies, rely, remain, remained, remaining, remains, remission, remote, removal, removed, renal, rendering, repair, repeat, repeated, replacement, replication, report, reported, reporting, reports, represent, representation, representations, representative, represented, representing, represents, reproduction, reproductive, request, requests, require, required, requirement, requirements, requires, requiring, research, researchers, resection, residents, residual, residue, residues, resilient, resistance, resistant, resolution, resolved, resonance, resource, resources, respect, respective, respectively, respiration, respiratory, respond, respondents, response, responses, responsible, responsive, responsiveness, rest, restoration, restricted, restriction, restrictions, result, resulted, resulting, results, retention, retinal, retrieval, retrospective, return, reuse, reveal, revealed, reveals, reverse, reversible, review, reviewed, reviews, revisited, rewriting, rfid, rice, rich, richness, right, rights, rigid, ring, rise, risk, risks, river, rna, road, robot, robotic, robotics, robots, robust, robustness, role, roles, room, root, roots, ros, rotation, rough, round, route, routine, routing, rule, rules, run, running, runs, runtime, rural, safe, safety, sage, saline, salinity, salt, sample, sampled, samples, sampling, sar, satellite, satisfaction, satisfactory, satisfied, satisfy, saturation, savanna, scalability, scalable, scalar, scale, scales, scaling, scan, scanning, scattering, scenario, scenarios, scene, schedule, scheduling, schema, scheme, schemes, schizophrenia, school, schools, sci, science, sciences, scientific, scope, score, scores, scoring, screen, screened, screening, script, sea, search, searching, season, seasonal, second, secondary, secret, secretion, section, sectional, sections, sector, secure, security, sediment, see, seed, seedlings, seeds, seeking, seem, seems, seen, segment, segmentation, segments, select, selected, selecting, selection, selective, self, semantic, semantics, semi, semiconductor, sense, sensing, sensitive, sensitivity, sensor, sensors, sensory, separate, separated, separately, separation, september, sequence, sequences, sequencing, sequential, serial, series, serious, serum, serve, server, servers, service, services, session, sessions, set, sets, setting, settings, setup, seven, several, severe, severely, severity, sex, sexual, shallow, shape, shaped, shapes, share, shared, sharing, shear, shell, shift, shifts, shock, shop, short, shorter, shortest, show, showed, showing, shown, shows, side, sigma, sign, signal, signaling, signalling, signals, signature, signatures, significance, significant, significantly, signs, silicon, similar, similarities, similarity, similarly, simple, simplified, simply, simulate, simulated, simulating, simulation, simulations, simulator, simultaneous, simultaneously, since, singapore, single, singular, site, sites, situ, situation, situations, six, size, sized, sizes, skill, skills, skin, sleep, sliding, slightly, slope, slow, small, smaller, smart, smoke, smokers, smoking, smooth, smoothing, snp, snps, snr, soc, social, society, socio, socioeconomic, sodium, soft, software, soil, soils, solar, solid, soluble, solution, solutions, solve, solved, solvent, solver, solving, sometimes, sorting, sought, sound, source, sources, south, southern, space, spaces, span, spanish, spanning, sparse, spatial, spatially, spatio, speaker, special, specialized, species, specific, specifically, specification, specifications, specificity, specified, specimens, spectra, spectral, spectrometry, spectroscopy, spectrum, speech, speed, sperm, sphere, spherical, spin, spinal, spline, split, splitting, spontaneous, spp, spread, spring, square, squares, sst, stability, stabilization, stable, staff, stage, stages, staining, standard, standardized, standards, standing, start, started, starting, state, states, static, station, stationary, stations, statistical, statistically, statistics, status, stay, steady, steiner, stem, step, steps, stereo, stigma, still, stimulated, stimulating, stimulation, stimuli, stimulus, stochastic, stock, stokes, stone, stones, storage, store, stored, strain, strains, strategic, strategies, strategy, stream, streaming, streams, strength, stress, stresses, string, stroke, strong, stronger, strongly, structural, structure, structured, structures, student, students, studied, studies, study, studying, style, sub, subgroup, subgroups, subject, subjected, subjective, subjects, subsequent, subsequently, subset, subsets, subspace, substance, substantial, substantially, substitution, substrate, substrates, subtypes, subunit, success, successful, successfully, suffer, sufficient, sufficiently, suggest, suggested, suggesting, suggests, suitable, suited, sum, summary, summer, sup, super, superior, supervised, supplementation, supply, support, supported, supporting, supports, suppressed, suppression, sur, surface, surfaces, surgery, surgical, surprisingly, surrounding, surveillance, survey, surveys, survival, survivors, susceptibility, susceptible, sustainable, sustained, svm, swarm, switch, switched, switching, symbol, symbolic, symmetric, symmetry, symptom, symptoms, synchronization, synchronous, syndrome, synthase, synthesis, synthesized, synthetic, system, systematic, systematically, systemic, systems, systolic, tabindex, table, tactile, tag, tags, take, taken, takes, taking, tanzania, target, targeted, targeting, targets, task, tasks, taxa, tcp, teachers, teaching, team, technical, technique, techniques, technological, technologies, technology, temperature, temperatures, template, temporal, ten, tend, tendency, tension, tensor, term, terminal, terms, terrain, terrestrial, test, tested, testing, testosterone, tests, tetracycline, tex, texatom, text, texture, tgf, the, them, themes, theorem, theorems, theoretic, theoretical, theoretically, theories, theory, therapeutic, therapies, therapy, thereby, therefore, thermal, thermodynamic, thickness, thin, thinking, third, thirty, this, though, thought, thread, threads, threat, three, threshold, thresholds, throughout, throughput, thus, tight, tillage, time, timed, times, timing, tissue, tissues, tnf, tobacco, today, together, tolerance, tolerant, tomography, took, tool, tools, top, topic, topics, topological, topology, total, toward, towards, toxic, toxicity, toxin, trace, tracing, track, tracking, tract, trade, trading, traditional, traffic, trained, training, trait, traits, trajectories, trajectory, trans, transaction, transcript, transcription, transcriptional, transcriptome, transcripts, transfer, transform, transformation, transformations, transformed, transforms, transgenic, transient, transition, transitions, translated, translation, translocation, transmission, transmit, transmitted, transplant, transplantation, transport, transportation, trap, travel, traveling, treat, treated, treating, treatment, treatments, tree, trees, trend, trends, trial, trials, triangular, triple, tropical, true, trust, truth, tube, tuberculosis, tumor, tumors, tumour, tumours, tuning, turbo, turn, twenty, twice, two, type, types, typical, typically, ubackground, ubiquitin, ubiquitous, uin, ultimately, ultra, ultrasound, uml, uncertain, uncertainties, uncertainty, unclear, und, undergoing, underlying, understand, understanding, understood, undertaken, underwater, underwent, une, unfortunately, unified, uniform, unique, unit, united, units, universal, university, unknown, unlike, unstable, unstructured, unsupervised, untreated, uon, update, uplink, upon, upper, uptake, urban, urinary, urine, usa, usability, usage, use, used, useful, usefulness, user, users, uses, using, usual, usually, uthe, uthis, utility, utilization, utilize, utilized, utilizes, utilizing, uwb, uwe, vaccination, vaccine, valence, valid, validate, validated, validation, validity, valuable, value, valued, values, variability, variable, variables, variance, variant, variants, variation, variational, variations, varied, varies, variety, various, vary, varying, vascular, vector, vectors, vegetation, vegf, vehicle, vehicles, vehicular, velocity, venous, ventricular, verification, verified, verify, version, versions, versus, vertex, vertical, vertices, vessels, via, viability, viable, vibration, vibrational, video, videos, view, viewed, views, violence, viral, virtual, virulence, virus, viruses, viscosity, visible, vision, visit, visits, visual, visualization, visualizing, vital, vitamin, vitro, vivo, vlsi, voice, voltage, volume, volumes, vomiting, von, voting, vulnerable, walking, wall, war, warm, warming, water, watermarking, waters, wave, wavelength, wavelet, waves, way, ways, wdm, weak, weakly, weather, web, week, weeks, weight, weighted, weights, well, west, western, wet, wheat, whereas, whether, white, whole, whose, wide, wideband, widely, wider, widespread, width, wild, wiley, will, wind, window, windows, winter, wireless, within, without, wlan, woman, women, wood, word, words, work, workers, workflow, working, workload, works, workshop, world, worldwide, worst, writing, written, xml, year, years, yeast, yet, yield, yielded, yields, young, younger, youth, zero, zinc, zone, zones, zur\"\"\""
   ]
  },
  {
   "cell_type": "code",
   "execution_count": null,
   "metadata": {
    "collapsed": true
   },
   "outputs": [],
   "source": []
  },
  {
   "cell_type": "code",
   "execution_count": 367,
   "metadata": {
    "collapsed": true
   },
   "outputs": [],
   "source": [
    "final = final.split(',')"
   ]
  },
  {
   "cell_type": "code",
   "execution_count": 366,
   "metadata": {
    "collapsed": false
   },
   "outputs": [
    {
     "data": {
      "text/plain": [
       "'abdominal,abilities,ability,able,abnormal,abnormalities,absence,absent,absolute,absorption,abstract,abstraction,abundance,abundant,academic,accelerated,acceleration,acceptable,acceptance,accepted,access,accessible,accompanied,according,accordingly,account,accounted,accounting,accounts,accumulation,accuracy,accurate,accurately,achieve,achieved,achieves,achieving,acid,acids,acoustic,acquired,acquisition,across,act,actin,acting,action,actions,activated,activation,active,activities,activity,acts,actual,actually,actuator,acute,adapt,adaptation,adapted,adaptive,adc,add,added,adding,addition,additional,additionally,additive,address,addressed,addresses,addressing,adenosine,adequate,adherence,adhesion,adjacent,adjusted,adjusting,adjustment,administered,administration,admission,admitted,adolescent,adolescents,adopt,adopted,adoption,adp,adult,adults,advance,advanced,advances,advantage,advantages,adverse,aerial,affect,affected,affecting,affects,affine,affinity,africa,african,age,aged,agency,agent,agents,ages,aggregate,aggregation,aggressive,agile,aging,agonist,agreement,agricultural,aid,aided,aids,aim,aimed,aims,air,airway,akt,albumin,alcohol,algebra,algebraic,algebras,algorithm,algorithmic,algorithms,align,alignment,all,allele,alleles,allergic,allergy,allocation,allow,allowed,allowing,allows,almost,alone,along,alpha,already,also,alter,alterations,altered,alternative,alternatives,although,always,alzheimer,ambient,america,american,amino,among,amongst,amount,amounts,amp,amplification,amplified,amplifier,amplitude,amyloid,analog,analyse,analysed,analyses,analysis,analytic,analytical,analytics,analyze,analyzed,analyzing,and,anemia,angle,animal,animals,animation,ann,annealing,annotation,annual,anomalies,anomalous,anomaly,another,answer,ant,antagonist,antenna,antennas,anterior,anti,antibiotic,antibiotics,antibodies,antibody,antigen,antimicrobial,antioxidant,antiretroviral,anxiety,apoptosis,apoptotic,app,apparent,appear,appearance,appeared,appears,applicability,applicable,application,applications,applied,apply,applying,approach,approaches,appropriate,approximate,approximately,approximating,approximation,approximations,april,aqueous,arabidopsis,arbitrary,arc,architectural,architecture,architectures,area,areas,arginine,argue,argued,argues,argument,arguments,arise,arises,arising,arithmetic,arm,around,array,arrays,arrival,art,arterial,artery,arthritis,article,articles,artificial,asia,asian,asked,aspect,aspects,assay,assays,assembly,assess,assessed,assessing,assessment,assessments,assigned,assignment,assist,assisted,associated,association,associations,associative,assume,assumed,assuming,assumption,assumptions,asthma,asymmetric,asymptotic,asynchronous,atlantic,atm,atmosphere,atmospheric,atom,atomic,atoms,atp,attack,attacks,attempt,attempts,attending,attention,attenuated,attitudes,attractive,attribute,attributed,attributes,audio,augmented,august,aureus,australia,australian,authentication,author,authors,autoimmune,automata,automated,automatic,automatically,automation,automotive,autonomous,availability,available,avc,average,averaged,avoid,avoidance,aware,awareness,away,axis,bacillus,back,background,bacteria,bacterial,balance,balanced,balancing,band,bands,bandwidth,bank,barrier,barriers,basal,base,based,baseline,bases,basic,basin,basis,batch,battery,bayesian,beam,beamforming,bearing,became,become,becomes,becoming,bed,beginning,behavior,behavioral,behaviors,behaviour,behavioural,behaviours,behind,being,belief,beliefs,believe,believed,belonging,benchmark,beneficial,benefit,benefits,benign,besides,best,beta,better,beyond,bias,bifurcation,big,bilateral,binary,binding,bio,biochemical,biodiversity,biological,biology,biomarkers,biomass,biomedical,biometric,biopsy,biosynthesis,bipartite,birds,birth,bit,bits,black,bladder,bleeding,blind,block,blocking,blocks,blood,blot,blue,bmi,bodies,body,bold,bond,bone,book,boolean,border,born,bottom,bound,boundaries,boundary,bounded,bounds,bowel,box,boys,brain,branch,branch],brazil,breast,breeding,brief,briefly,british,broad,broadband,broadcast,broadcasting,broader,buffer,build,building,built,bulk,burden,burst,bus,business,ca2,cache,caching,cad,calcium,calculate,calculated,calculation,calculations,calculus,calibration,call,called,calls,camera,camp,can,canada,cancellation,cancer,cancers,candidate,candidates,canonical,capabilities,capability,capable,capacity,capital,capture,captured,carbon,carcinoma,cardiac,cardiovascular,care,caregivers,carlo,carried,carrier,carriers,carry,carrying,case,cases,catalytic,categories,categorization,category,causal,cause,caused,causes,causing,cavity,cd4,cdma,cell,cells,cellular,center,centers,central,centre,centric,century,cerebral,cereus,certain,cervical,chain,chains,challenge,challenges,challenging,change,changed,changes,changing,channel,channels,chaos,chaotic,character,characteristic,characteristics,characterization,characterize,characterized,characterizing,characters,charge,charged,chd,check,checking,chemical,chemistry,chemotherapy,child,childhood,children,china,chinese,chip,choice,choices,cholesterol,choose,chosen,chromatic,chromatography,chromosomal,chromosome,chromosomes,chronic,circadian,circuit,circuits,circular,circulating,circulation,cis,citation,city,claim,claims,clarify,class,classes,classical,classification,classified,classifier,classifiers,classify,clay,clear,clearance,clearly,client,clients,climate,climatic,clinic,clinical,clinically,clinicians,clinics,clip,clock,clones,close,closed,closely,closure,cloud,clouds,cluster,clustering,clusters,cmos,cns,co2,coarse,coastal,coating,code,coded,codes,coding,coefficient,coefficients,cognitive,coherence,coherent,cohort,cold,coli,colitis,collaboration,collaborative,collagen,collected,collection,collections,collective,college,collision,colon,colonization,colony,color,colorectal,coloring,colour,column,combination,combinations,combinatorial,combine,combined,combines,combining,come,comments,commerce,commercial,common,commonly,communication,communications,communities,community,compact,companies,company,comparable,comparative,compare,compared,comparing,comparison,comparisons,compatible,compensation,competition,competitive,complement,complementary,complete,completed,completely,completion,complex,complexes,complexity,compliance,complicated,complications,component,components,composed,composite,composition,compound,compounds,comprehensive,compressed,compression,comprised,comprising,computation,computational,computationally,computations,compute,computed,computer,computers,computing,concentration,concentrations,concept,concepts,conceptual,concern,concerned,concerning,concerns,concert,conclude,concluded,conclusion,conclusions,concrete,concurrent,condition,conditional,conditions,conduct,conducted,conductivity,conference,confidence,configuration,configurations,confirm,confirmed,conflict,congestion,conjecture,conjunction,connected,connection,connections,connectivity,consecutive,consensus,consequence,consequences,consequently,conservation,conserved,consider,considerable,considerably,consideration,considerations,considered,considering,considers,consisted,consistency,consistent,consistently,consisting,consists,constant,constants,constitute,constrained,constraint,constraints,construct,constructed,constructing,construction,constructs,consumer,consumers,consuming,consumption,contact,contain,contained,containing,contains,contamination,contemporary,content,contents,context,contexts,contextual,continue,continued,continuous,continuously,contour,contract,contraction,contrary,contrast,contribute,contributed,contributes,contributing,contribution,contributions,control,controlled,controller,controllers,controlling,controls,convection,conventional,convergence,conversion,converter,converters,convex,cooling,cooperation,cooperative,coordinate,coordinated,coordinates,coordination,cope,copies,coping,copper,copy,cord,core,cores,coronary,corpus,correct,corrected,correction,correctly,correctness,correlate,correlated,correlates,correlation,correlations,correspondence,corresponding,cortex,cortical,cost,costs,cotton,count,counting,countries,country,counts,coupled,coupling,course,cover,coverage,covered,covering,cox,cpu,create,created,creating,creation,criteria,criterion,critical,critically,crohn,cronbach,crop,crops,cross,crp,crucial,cry,crystal,crystals,csf,cubic,cues,cultivars,cultural,culture,cultured,cultures,cumulative,current,currently,currents,curriculum,curvature,curve,curves,customer,customers,cut,cutting,cvd,cyber,cycle,cycles,cyclic,cyclotron,cytokine,cytokines,daily,damage,dans,dark,data,database,databases,dataset,datasets,date,day,days,deal,dealing,deals,death,deaths,debate,decade,decades,decay,december,decentralized,decision,decisions,decline,decoder,decoding,decomposition,decrease,decreased,decreases,decreasing,dedicated,deep,defect,defects,defense,deficiency,deficient,deficits,define,defined,defining,definition,definitions,deformable,deformation,degradation,degree,degrees,delay,delayed,delays,deletion,delivered,delivery,delta,demand,demands,dementia,demographic,demonstrate,demonstrated,demonstrates,demonstrating,denoising,dense,densities,density,department,depend,dependence,dependency,dependent,depending,depends,depletion,deployed,deployment,deposited,deposition,depression,depressive,depth,der,derivative,derivatives,derive,derived,des,describe,described,describes,describing,description,descriptions,descriptive,descriptors,design,designed,designing,designs,desirable,desired,despite,detail,detailed,details,detect,detected,detecting,detection,detector,determinants,determination,determine,determined,determines,determining,deterministic,develop,developed,developing,development,developmental,developments,deviation,device,devices,diabetes,diabetic,diagnosed,diagnosis,diagnostic,diagram,diagrams,diameter,die,died,dielectric,diet,dietary,diets,differ,differed,difference,differences,different,differential,differentially,differentiated,differentiation,difficult,difficulties,difficulty,diffraction,diffusion,digital,dimension,dimensional,dimensions,dioxide,direct,directed,direction,directional,directions,directly,disabilities,disability,discharge,discontinuous,discovered,discovering,discovery,discrete,discriminant,discrimination,discuss,discussed,discusses,discussion,disease,diseases,disjoint,disk,disorder,disorders,dispersal,dispersion,displacement,display,displayed,displays,disruption,dissolved,distance,distances,distinct,distinguish,distortion,distress,distributed,distribution,distributions,disturbance,disturbances,divergence,diverse,diversity,divided,division,dna,document,documented,documents,dogs,doi,domain,domains,domestic,dominance,dominant,dominated,domination,done,donor,donors,doped,dose,doses,double,down,downlink,downstream,dramatically,drawing,drawn,drift,drinking,drive,driven,driver,driving,drop,drought,drug,drugs,dry,dual,duality,due,duration,dust,dynamic,dynamical,dynamically,dynamics,dysfunction,earlier,early,earth,easily,east,eastern,easy,eating,ecological,ecology,economic,economy,ecosystem,ecosystems,edge,edges,editor,editorial,editors,education,educational,eeg,effect,effective,effectively,effectiveness,effects,efficacy,efficiency,efficient,efficiently,efflux,effort,efforts,egfr,egg,eigenvalue,eight,einstein,either,elastic,elderly,electric,electrical,electrode,electromagnetic,electron,electronic,electrons,element,elements,elevated,elevation,elimination,elisa,elliptic,elucidate,embedded,embedding,emerged,emergence,emergency,emerging,emission,emissions,emotion,emotional,emotions,emphasis,emphasistypeitalic,empirical,employ,employed,employing,employment,employs,enable,enabled,enables,enabling,encoded,encoding,encountered,encryption,end,endemic,endogenous,endothelial,energies,energy,engagement,engine,engineering,english,enhance,enhanced,enhancement,enhances,enhancing,enos,enough,enriched,enrichment,enrolled,ensemble,ensure,enterprise,entire,entities,entropy,entry,environment,environmental,environments,enzyme,enzymes,epidemiological,epigenetic,epilepsy,episodes,epithelial,equal,equalization,equally,equation,equations,equilibrium,equipment,equivalence,equivalent,erratum,error,errors,especially,essential,essentially,est,establish,established,establishing,establishment,estimate,estimated,estimates,estimating,estimation,estimator,estimators,etc,ethanol,ethical,ethnic,europe,european,evaluate,evaluated,evaluating,evaluation,evaluations,even,event,events,ever,every,evidence,evident,evolution,evolutionary,evolved,evolving,exact,exactly,examination,examine,examined,examines,examining,example,examples,excellent,except,excess,exchange,excitation,excited,excluded,execution,exercise,exhibit,exhibited,exhibits,exist,existence,existing,exists,expanded,expansion,expectations,expected,expensive,experience,experienced,experiences,experiment,experimental,experimentally,experiments,expert,experts,explain,explained,explanation,explicit,explicitly,exploit,exploited,exploiting,exploration,exploratory,explore,explored,explores,exploring,exponential,exposed,exposure,express,expressed,expressing,expression,expressions,extend,extended,extending,extends,extension,extensions,extensive,extensively,extent,external,extra,extracellular,extract,extracted,extracting,extraction,extracts,extreme,extremely,eye,eyes,face,faces,facial,facilitate,facilitates,facilities,facility,fact,factor,factorization,factors,fading,fail,failed,failure,failures,fair,fairness,fall,false,families,family,far,fashion,fast,faster,fat,fatigue,fatty,fault,faults,feasibility,feasible,feature,features,fed,feed,feedback,feeding,female,females,fetal,fever,fewer,fiber,fibers,fibrosis,field,fields,file,files,film,films,filter,filtering,filters,final,finally,financial,find,finding,findings,fine,fingerprint,finite,fir,fire,first,firstly,fish,fit,fitness,fitting,five,fixed,flat,flexibility,flexible,flies,flight,floral,flow,flowering,flows,fluctuations,fluid,fluids,fluorescence,flux,fluxes,fly,fmri,focal,focus,focused,focuses,focusing,fold,follow,followed,following,follows,font,food,for,force,forced,forces,forcing,forecast,forecasting,foreign,forest,forests,form,formal,formalism,format,formation,formed,former,forming,forms,formula,formulas,formulate,formulated,formulation,forty,forward,found,foundation,four,fourier,fourth,fpga,fractal,fraction,fractional,fractions,fracture,fragment,fragmentation,fragments,frame,frames,framework,free,freedom,french,frequencies,frequency,frequent,frequently,fresh,freshwater,front,fruit,fuel,full,fullerene,fully,function,functional,functionality,functioning,functions,fundamental,fungal,fungi,furthermore,fusion,future,fuzzy,gain,gained,gains,gait,galerkin,game,games,gamma,gap,gaps,gas,gastric,gastrointestinal,gate,gaussian,gave,gel,gender,gene,general,generalization,generalized,generally,generate,generated,generates,generating,generation,generator,generic,genes,genetic,genetically,genetics,genome,genomes,genomic,genotype,genotypes,genus,geographic,geographical,geometric,geometry,german,gesture,get,ghz,girls,gis,give,given,gives,giving,gland,glass,glioma,global,globally,glucose,goal,goals,gold,good,government,gps,gpu,grade,gradient,gradients,grain,gram,grammars,graph,graphene,graphical,graphics,graphs,grass,great,greater,greatest,greatly,greedy,green,grid,grids,ground,group,groups,growing,grown,growth,guarantee,guarantees,guest,guidance,guide,guided,guidelines,gut,habitat,habitats,hair,half,hamiltonian,hand,handle,handling,handwritten,haplotype,haptic,hard,hardware,harmonic,hazard,hcv,hdl,hdlc,head,headache,healing,health,healthcare,healthy,heart,heat,heating,heavy,height,held,help,helps,hence,hepatic,hepatitis,heterogeneity,heterogeneous,heuristic,heuristics,hidden,hierarchical,hierarchy,high,higher,highest,highlight,highlighted,highlights,highly,histogram,histological,historical,history,hiv,hla,hoc,hold,holds,hole,home,homeostasis,homogeneous,hop,horizontal,hormone,hospital,hospitals,host,hosts,hot,hours,household,housing,however,href,http,huge,human,humanoid,humans,hundred,hybrid,hybridization,hydrogen,hyperbolic,hyperspectral,hypertension,hypertensive,hypotheses,hypothesis,hypothesized,hypoxia,ibd,icc,ice,ict,idea,ideal,ideas,identical,identification,identified,identifies,identify,identifying,identity,ieee,ifn,ige,igg,iii,ill,illness,illumination,illustrate,illustrated,image,imagery,images,imaging,immediate,immediately,immune,immunity,immunohistochemistry,impact,impacts,impaired,impairment,impedance,imperfect,implement,implementation,implementations,implemented,implementing,implicated,implications,implicit,implies,importance,important,importantly,improve,improved,improvement,improvements,improves,improving,impulse,impulsive,incidence,incident,include,included,includes,including,inclusion,income,incomplete,incorporate,incorporated,incorporating,incorporation,increase,increased,increases,increasing,increasingly,incremental,incubation,indeed,independence,independent,independently,index,indexing,india,indian,indicate,indicated,indicates,indicating,indicator,indicators,indices,indirect,individual,individuals,indoor,induce,induced,induces,inducible,inducing,induction,inductive,industrial,industry,inequalities,inequality,infant,infants,infected,infection,infections,infectious,inference,infiltration,infinite,inflammation,inflammatory,influence,influenced,influences,influencing,influenza,inform,information,informed,infrared,infrastructure,infusion,inherent,inherit,inhibit,inhibited,inhibition,inhibitor,inhibitors,inhibitory,initial,initially,initiated,initiation,injected,injection,injury,inline,inlineequation,inner,innovation,innovative,inos,input,inputs,insect,insertion,inside,insight,insights,inspection,inspired,instability,instance,instances,instead,institute,institutional,institutions,instruction,instrument,instruments,insufficient,insulin,intact,intake,integer,integral,integrate,integrated,integrating,integration,integrity,intellectual,intelligence,intelligent,intended,intense,intensity,intensive,intention,inter,interact,interacting,interaction,interactions,interactive,interannual,interconnection,interdisciplinary,interest,interesting,interestingly,interests,interface,interfaces,interference,interior,interleukin,intermediate,internal,international,internet,interoperability,interpolation,interpretation,interpreted,interprofessional,intersection,interstitial,interval,intervals,intervention,interventions,interview,interviews,intestinal,intra,intracellular,intravenous,intrinsic,introduce,introduced,introduces,introducing,introduction,intrusion,intuitionistic,invariant,invasion,invasive,inventory,inverse,inversion,investigate,investigated,investigates,investigating,investigation,investigations,investment,involve,involved,involvement,involves,involving,ion,ions,iron,irradiation,isbn,island,islands,isolated,isolates,isolation,issue,issues,italic,item,items,iteration,iterative,january,japan,japanese,java,jet,job,jobs,john,joint,journal,july,june,just,kalman,kernel,key,kidney,kinase,kind,kinds,kinetic,kinetics,kinin,know,knowledge,known,label,labeled,labeling,laboratory,lack,lacking,lagrangian,lake,land,landscape,language,languages,large,largely,larger,largescale,largest,larvae,laser,last,late,latency,latent,later,lateral,latter,lattice,lattices,law,laws,layer,layered,layers,layout,ldl,ldlc,ldpc,lead,leading,leads,leaf,leakage,learn,learned,learning,least,leaves,led,left,legal,length,lengths,les,lesion,lesions,less,lessons,let,letter,level,levels,libraries,library,life,lifetime,ligand,ligands,ligase,light,lightweight,like,likelihood,likely,limit,limitation,limitations,limited,limiting,limits,line,linear,linearly,lines,linguistic,link,linkage,linked,links,lipid,lipoprotein,liquid,list,literature,lithium,little,live,liver,lives,living,load,loading,loads,local,localization,localized,locally,located,location,locations,loci,locus,log,logic,logical,logics,logistic,long,longer,longitudinal,look,loop,loss,losses,lost,low,lower,lowest,lps,lte,lung,lyapunov,lymphocytes,lymphoma,mac,machine,machines,macrophages,made,magnetic,magnitude,main,mainly,maintain,maintained,maintaining,maintenance,maize,major,majority,make,makes,making,malaria,male,males,malignant,malnutrition,mammalian,man,manage,managed,management,managers,managing,manipulation,manipulator,manipulators,manner,manual,manufacturing,many,map,mapped,mapping,mappings,maps,march,margin,marine,marked,markedly,marker,markers,market,markets,markov,markovian,marrow,mass,massive,match,matched,matching,material,materials,maternal,math,mathcal,mathematical,mathematics,mathjax,mathjax_main,mathjax_preview,mathml,mating,matrices,matrix,matter,maturation,mature,max,maximal,maximization,maximize,maximum,may,mean,meaning,meaningful,means,measure,measured,measurement,measurements,measures,measuring,mechanical,mechanism,mechanisms,media,median,mediated,medical,medication,medications,medicine,mediterranean,medium,meet,meeting,member,members,membrane,membranes,memory,men,meningitis,mental,mentioned,merging,mesh,meshes,message,messages,met,meta,metabolic,metabolism,metabolites,metadata,metal,metals,metastasis,metastatic,method,methodologies,methodology,methods,methyl,methylation,metric,metrics,mice,micro,microarray,microbial,microsatellite,microscopic,microscopy,microwave,mid,middle,middleware,might,migration,mild,milk,million,mimo,min,mineral,minimal,minimization,minimize,minimizing,minimum,mining,minor,minutes,mir,mirna,mirnas,missing,mit,mitigation,mitochondrial,mixed,mixing,mixture,mixtures,mjx,mjxp,mmhg,mmol,mmp,mobile,mobility,modal,mode,model,modeled,modeling,modelling,models,moderate,modern,modes,modification,modifications,modified,modify,modular,modulated,modulation,module,modules,moisture,mol,molecular,molecule,molecules,moment,moments,momentum,monitor,monitored,monitoring,monotone,monsoon,monte,month,months,moral,morbidity,moreover,morphological,morphology,mortality,mostly,mother,mothers,motion,motivated,motivation,motor,mouse,move,movement,movements,moving,mpeg,mri,mrna,mrow,much,mucosal,multi,multiagent,multicast,multichannel,multidimensional,multilevel,multimedia,multimodal,multiobjective,multipath,multiple,multiplexing,multiplication,multiprocessor,multiscale,multiuser,multivariate,murine,muscle,music,must,mutant,mutants,mutation,mutations,mutual,myeloma,myocardial,name,named,namely,nanoparticles,narrow,nasal,national,native,natural,naturally,nature,nausea,navigation,near,nearest,nearly,necessarily,necessary,necrosis,need,needed,needs,negative,negatively,negotiation,neighbor,neighborhood,neisseria,neither,neonatal,nerve,nervous,net,nets,network,networked,networking,networks,neural,neuro,neurological,neuron,neuronal,neurons,neutral,never,nevertheless,new,newly,news,newton,newtonian,next,nine,nitrate,nitric,nitrogen,nnos,nobr,node,nodes,noise,noisy,non,none,nonlinear,nonparametric,norm,normal,normalized,normally,norms,north,northern,nos,not,notably,note,noted,notion,novel,now,nuclear,nuclei,nucleotide,nucleus,null,number,numbers,numerical,numerically,numerous,nurse,nurses,nursing,nutrient,nutrition,nutritional,obese,obesity,object,objective,objectives,objects,observation,observational,observations,observe,observed,observer,obtain,obtained,obtaining,occupational,occur,occurred,occurrence,occurring,occurs,ocean,october,odds,ofdm,ofdma,off,offer,offered,offers,offset,offspring,often,oil,old,older,one,ones,ongoing,online,only,onset,onto,ontologies,ontology,open,operate,operating,operation,operational,operations,operative,operator,operators,opportunistic,opportunities,opportunity,opposite,optical,optimal,optimality,optimisation,optimization,optimize,optimized,optimizing,optimum,option,options,oral,order,ordered,ordering,orders,ordinary,org,organ,organic,organisms,organization,organizational,organizations,organized,organizing,organs,orientation,oriented,origin,original,orthogonal,oscillation,oscillations,oscillator,other,others,otherwise,out,outcome,outcomes,outer,outpatient,outperforms,output,outputs,outside,ovarian,over,overall,overcome,overexpression,overflow,overhead,overlap,overlapping,overlay,overview,overweight,oxidation,oxidative,oxide,oxygen,p2p,p53,pacific,package,packet,packets,packing,page,pain,pair,pairs,pairwise,pancreatic,panel,paper,papers,par,parabolic,paradigm,parallel,parallelism,parameter,parameterized,parameters,parametric,parasite,parent,parental,parents,part,partial,partially,participants,participate,participated,participating,participation,particle,particles,particular,particularly,partition,partitioning,partitions,partly,partner,partners,parts,party,pass,passive,past,patch,patches,path,pathogen,pathogenesis,pathogenic,pathogens,pathological,pathology,paths,pathway,pathways,patient,patients,pattern,patterns,pca,pcr,peak,peaks,pediatric,peer,peers,people,peptide,peptides,per,perceived,percent,percentage,perception,perceptions,perceptual,perfect,perform,performance,performances,performed,performing,performs,period,periodic,periods,peripheral,permanent,permutation,persistence,persistent,person,personal,personality,personalized,persons,perspective,perspectives,perturbation,perturbations,pervasive,pet,petri,pharmacological,phase,phases,phenomena,phenomenon,phenotype,phenotypes,phenotypic,phone,phonon,phosphate,phosphorylation,photon,phylogenetic,phys,physical,physician,physicians,physics,physiological,picture,piecewise,pigs,pilot,pixel,pixels,place,placebo,placed,placement,plan,planar,plane,planning,plans,plant,plants,plasma,plasmapheresis,plasmas,plate,platelet,platelets,platform,platforms,play,played,player,players,plays,plots,plus,point,points,poisson,polar,polarimetric,polarization,policies,policy,political,pollen,pollution,polymer,polymerase,polymorphic,polymorphism,polymorphisms,polynomial,polynomials,pool,poor,poorly,poplar,popular,population,populations,populus,portfolio,portion,pose,position,positioning,positions,positive,positively,possess,possibilities,possibility,possible,possibly,post,posterior,postoperative,potent,potential,potentially,potentials,pour,power,powerful,practical,practice,practices,practitioners,pre,precipitation,precise,precisely,precision,precursor,predict,predicted,predicting,prediction,predictions,predictive,predictor,predictors,predicts,predominantly,preface,preference,preferences,preferred,pregnancy,pregnant,preliminary,preparation,prepared,prescribed,presence,present,presentation,presented,presenting,presents,preserving,press,pressure,pressures,prevalence,prevalent,prevent,prevented,preventing,prevention,preventive,previous,previously,prey,price,pricing,primarily,primary,principal,principle,principles,prior,priori,priority,privacy,private,pro,probabilistic,probabilities,probability,probably,probe,problem,problems,procedure,procedures,process,processed,processes,processing,processor,processors,produce,produced,produces,producing,product,production,productivity,products,professional,professionals,profile,profiles,profiling,prognosis,prognostic,program,programmable,programme,programmes,programming,programs,progress,progression,progressive,project,projection,projects,proliferation,prolonged,prominent,promising,promote,promoted,promoter,promotes,promoting,prone,pronounced,proof,propagation,proper,properly,properties,property,proportion,proportional,proposal,propose,proposed,proposes,prospective,prostate,protect,protected,protection,protective,protein,proteins,protocol,protocols,prototype,prove,proved,proven,provide,provided,provider,providers,provides,providing,provision,provisioning,proximal,proximity,pseudo,psychiatric,psychological,psychometric,psychosocial,public,published,publisher,pulmonary,pulse,pulses,pure,purified,purpose,purposes,put,putative,pylori,qol,qos,qtl,quadratic,qualitative,quality,quantification,quantified,quantify,quantitative,quantities,quantity,quantization,quantum,quasi,que,queries,query,question,questionnaire,questionnaires,questions,queue,queueing,queues,quickly,quite,race,radar,radial,radiation,radical,radio,radius,rainfall,raised,raman,random,randomized,randomly,range,ranged,ranges,ranging,rank,ranking,rapid,rapidly,rare,rarely,rasch,rat,rate,rated,rates,rather,rating,ratings,ratio,rational,ratios,rats,raw,ray,rayleigh,reach,reached,reaction,reactions,reactive,reactivity,read,readily,reading,real,realistic,reality,realization,realized,reason,reasonable,reasoning,reasons,recall,receive,received,receiver,receivers,receiving,recent,recently,receptor,receptors,recipients,recognition,recognize,recognized,recombinant,recombination,recommendation,recommendations,recommended,reconfigurable,reconfiguration,reconstruction,record,recorded,recording,records,recovered,recovery,recruited,recruitment,recurrence,recurrent,recursive,red,reduce,reduced,reduces,reducing,reduction,reductions,redundancy,redundant,reference,referred,refinement,reflect,reflected,reflection,reflects,regard,regarded,regarding,regardless,regime,regimen,regimes,region,regional,regions,registration,regression,regular,regularization,regulate,regulated,regulates,regulating,regulation,regulator,regulatory,rehabilitation,reinforcement,rejection,relate,related,relating,relation,relational,relations,relationship,relationships,relative,relatively,relaxation,relay,relaying,release,released,relevance,relevant,reliability,reliable,relies,rely,remain,remained,remaining,remains,remission,remote,removal,removed,renal,rendering,repair,repeat,repeated,replacement,replication,report,reported,reporting,reports,represent,representation,representations,representative,represented,representing,represents,reproduction,reproductive,request,requests,require,required,requirement,requirements,requires,requiring,research,researchers,resection,residents,residual,residue,residues,resilient,resistance,resistant,resolution,resolved,resonance,resource,resources,respect,respective,respectively,respiration,respiratory,respond,respondents,response,responses,responsible,responsive,responsiveness,rest,restoration,restricted,restriction,restrictions,result,resulted,resulting,results,retention,retinal,retrieval,retrospective,return,reuse,reveal,revealed,reveals,reverse,reversible,review,reviewed,reviews,revisited,rewriting,rfid,rice,rich,richness,right,rights,rigid,ring,rise,risk,risks,river,rna,road,robot,robotic,robotics,robots,robust,robustness,role,roles,room,root,roots,ros,rotation,rough,round,route,routine,routing,rule,rules,run,running,runs,runtime,rural,safe,safety,sage,saline,salinity,salt,sample,sampled,samples,sampling,sar,satellite,satisfaction,satisfactory,satisfied,satisfy,saturation,savanna,scalability,scalable,scalar,scale,scales,scaling,scan,scanning,scattering,scenario,scenarios,scene,schedule,scheduling,schema,scheme,schemes,schizophrenia,school,schools,sci,science,sciences,scientific,scope,score,scores,scoring,screen,screened,screening,script,sea,search,searching,season,seasonal,second,secondary,secret,secretion,section,sectional,sections,sector,secure,security,sediment,see,seed,seedlings,seeds,seeking,seem,seems,seen,segment,segmentation,segments,select,selected,selecting,selection,selective,self,semantic,semantics,semi,semiconductor,sense,sensing,sensitive,sensitivity,sensor,sensors,sensory,separate,separated,separately,separation,september,sequence,sequences,sequencing,sequential,serial,series,serious,serum,serve,server,servers,service,services,session,sessions,set,sets,setting,settings,setup,seven,several,severe,severely,severity,sex,sexual,shallow,shape,shaped,shapes,share,shared,sharing,shear,shell,shift,shifts,shock,shop,short,shorter,shortest,show,showed,showing,shown,shows,side,sigma,sign,signal,signaling,signalling,signals,signature,signatures,significance,significant,significantly,signs,silicon,similar,similarities,similarity,similarly,simple,simplified,simply,simulate,simulated,simulating,simulation,simulations,simulator,simultaneous,simultaneously,since,singapore,single,singular,site,sites,situ,situation,situations,six,size,sized,sizes,skill,skills,skin,sleep,sliding,slightly,slope,slow,small,smaller,smart,smoke,smokers,smoking,smooth,smoothing,snp,snps,snr,soc,social,society,socio,socioeconomic,sodium,soft,software,soil,soils,solar,solid,soluble,solution,solutions,solve,solved,solvent,solver,solving,sometimes,sorting,sought,sound,source,sources,south,southern,space,spaces,span,spanish,spanning,sparse,spatial,spatially,spatio,speaker,special,specialized,species,specific,specifically,specification,specifications,specificity,specified,specimens,spectra,spectral,spectrometry,spectroscopy,spectrum,speech,speed,sperm,sphere,spherical,spin,spinal,spline,split,splitting,spontaneous,spp,spread,spring,square,squares,sst,stability,stabilization,stable,staff,stage,stages,staining,standard,standardized,standards,standing,start,started,starting,state,states,static,station,stationary,stations,statistical,statistically,statistics,status,stay,steady,steiner,stem,step,steps,stereo,stigma,still,stimulated,stimulating,stimulation,stimuli,stimulus,stochastic,stock,stokes,stone,stones,storage,store,stored,strain,strains,strategic,strategies,strategy,stream,streaming,streams,strength,stress,stresses,string,stroke,strong,stronger,strongly,structural,structure,structured,structures,student,students,studied,studies,study,studying,style,sub,subgroup,subgroups,subject,subjected,subjective,subjects,subsequent,subsequently,subset,subsets,subspace,substance,substantial,substantially,substitution,substrate,substrates,subtypes,subunit,success,successful,successfully,suffer,sufficient,sufficiently,suggest,suggested,suggesting,suggests,suitable,suited,sum,summary,summer,sup,super,superior,supervised,supplementation,supply,support,supported,supporting,supports,suppressed,suppression,sur,surface,surfaces,surgery,surgical,surprisingly,surrounding,surveillance,survey,surveys,survival,survivors,susceptibility,susceptible,sustainable,sustained,svm,swarm,switch,switched,switching,symbol,symbolic,symmetric,symmetry,symptom,symptoms,synchronization,synchronous,syndrome,synthase,synthesis,synthesized,synthetic,system,systematic,systematically,systemic,systems,systolic,tabindex,table,tactile,tag,tags,take,taken,takes,taking,tanzania,target,targeted,targeting,targets,task,tasks,taxa,tcp,teachers,teaching,team,technical,technique,techniques,technological,technologies,technology,temperature,temperatures,template,temporal,ten,tend,tendency,tension,tensor,term,terminal,terms,terrain,terrestrial,test,tested,testing,testosterone,tests,tetracycline,tex,texatom,text,texture,tgf,the,them,themes,theorem,theorems,theoretic,theoretical,theoretically,theories,theory,therapeutic,therapies,therapy,thereby,therefore,thermal,thermodynamic,thickness,thin,thinking,third,thirty,this,though,thought,thread,threads,threat,three,threshold,thresholds,throughout,throughput,thus,tight,tillage,time,timed,times,timing,tissue,tissues,tnf,tobacco,today,together,tolerance,tolerant,tomography,took,tool,tools,top,topic,topics,topological,topology,total,toward,towards,toxic,toxicity,toxin,trace,tracing,track,tracking,tract,trade,trading,traditional,traffic,trained,training,trait,traits,trajectories,trajectory,trans,transaction,transcript,transcription,transcriptional,transcriptome,transcripts,transfer,transform,transformation,transformations,transformed,transforms,transgenic,transient,transition,transitions,translated,translation,translocation,transmission,transmit,transmitted,transplant,transplantation,transport,transportation,trap,travel,traveling,treat,treated,treating,treatment,treatments,tree,trees,trend,trends,trial,trials,triangular,triple,tropical,true,trust,truth,tube,tuberculosis,tumor,tumors,tumour,tumours,tuning,turbo,turn,twenty,twice,two,type,types,typical,typically,ubackground,ubiquitin,ubiquitous,uin,ultimately,ultra,ultrasound,uml,uncertain,uncertainties,uncertainty,unclear,und,undergoing,underlying,understand,understanding,understood,undertaken,underwater,underwent,une,unfortunately,unified,uniform,unique,unit,united,units,universal,university,unknown,unlike,unstable,unstructured,unsupervised,untreated,uon,update,uplink,upon,upper,uptake,urban,urinary,urine,usa,usability,usage,use,used,useful,usefulness,user,users,uses,using,usual,usually,uthe,uthis,utility,utilization,utilize,utilized,utilizes,utilizing,uwb,uwe,vaccination,vaccine,valence,valid,validate,validated,validation,validity,valuable,value,valued,values,variability,variable,variables,variance,variant,variants,variation,variational,variations,varied,varies,variety,various,vary,varying,vascular,vector,vectors,vegetation,vegf,vehicle,vehicles,vehicular,velocity,venous,ventricular,verification,verified,verify,version,versions,versus,vertex,vertical,vertices,vessels,via,viability,viable,vibration,vibrational,video,videos,view,viewed,views,violence,viral,virtual,virulence,virus,viruses,viscosity,visible,vision,visit,visits,visual,visualization,visualizing,vital,vitamin,vitro,vivo,vlsi,voice,voltage,volume,volumes,vomiting,von,voting,vulnerable,walking,wall,war,warm,warming,water,watermarking,waters,wave,wavelength,wavelet,waves,way,ways,wdm,weak,weakly,weather,web,week,weeks,weight,weighted,weights,well,west,western,wet,wheat,whereas,whether,white,whole,whose,wide,wideband,widely,wider,widespread,width,wild,wiley,will,wind,window,windows,winter,wireless,within,without,wlan,woman,women,wood,word,words,work,workers,workflow,working,workload,works,workshop,world,worldwide,worst,writing,written,xml,year,years,yeast,yet,yield,yielded,yields,young,younger,youth,zero,zinc,zone,zones,zur'"
      ]
     },
     "execution_count": 366,
     "metadata": {},
     "output_type": "execute_result"
    }
   ],
   "source": [
    "final.replace(' ','')"
   ]
  },
  {
   "cell_type": "code",
   "execution_count": 378,
   "metadata": {
    "collapsed": false
   },
   "outputs": [],
   "source": [
    "extend_stopwords = list(set(extend_stopwords))"
   ]
  },
  {
   "cell_type": "code",
   "execution_count": 379,
   "metadata": {
    "collapsed": false
   },
   "outputs": [
    {
     "data": {
      "text/plain": [
       "1422"
      ]
     },
     "execution_count": 379,
     "metadata": {},
     "output_type": "execute_result"
    }
   ],
   "source": [
    "len(extend_stopwords)"
   ]
  },
  {
   "cell_type": "code",
   "execution_count": 380,
   "metadata": {
    "collapsed": false
   },
   "outputs": [],
   "source": [
    "for i in final:\n",
    "    if(i in extend_stopwords):\n",
    "        final.remove(i)"
   ]
  },
  {
   "cell_type": "code",
   "execution_count": 381,
   "metadata": {
    "collapsed": false
   },
   "outputs": [
    {
     "data": {
      "text/plain": [
       "4091"
      ]
     },
     "execution_count": 381,
     "metadata": {},
     "output_type": "execute_result"
    }
   ],
   "source": [
    "len(final)"
   ]
  },
  {
   "cell_type": "code",
   "execution_count": 382,
   "metadata": {
    "collapsed": false,
    "scrolled": true
   },
   "outputs": [
    {
     "name": "stdout",
     "output_type": "stream",
     "text": [
      "['abdominal', ' abilities', ' ability', ' abnormal', ' abnormalities', ' absence', ' absent', ' absolute', ' absorption', ' abstract', ' abstraction', ' abundance', ' abundant', ' academic', ' accelerated', ' acceleration', ' acceptable', ' acceptance', ' accepted', ' access', ' accessible', ' accompanied', ' account', ' accounted', ' accounting', ' accounts', ' accumulation', ' accuracy', ' accurate', ' accurately', ' achieve', ' achieved', ' achieves', ' achieving', ' acid', ' acids', ' acoustic', ' acquired', ' acquisition', ' act', ' actin', ' acting', ' action', ' actions', ' activated', ' activation', ' active', ' activities', ' activity', ' acts', ' actual', ' actuator', ' acute', ' adapt', ' adaptation', ' adapted', ' adaptive', ' adc', ' add', ' added', ' adding', ' addition', ' additional', ' additionally', ' additive', ' address', ' addressed', ' addresses', ' addressing', ' adenosine', ' adequate', ' adherence', ' adhesion', ' adjacent', ' adjusted', ' adjusting', ' adjustment', ' administered', ' administration', ' admission', ' admitted', ' adolescent', ' adolescents', ' adopt', ' adopted', ' adoption', ' adp', ' adult', ' adults', ' advance', ' advanced', ' advances', ' advantage', ' advantages', ' adverse', ' aerial', ' affect', ' affected', ' affecting', ' affects', ' affine', ' affinity', ' africa', ' african', ' age', ' aged', ' agency', ' agent', ' agents', ' ages', ' aggregate', ' aggregation', ' aggressive', ' agile', ' aging', ' agonist', ' agreement', ' agricultural', ' aid', ' aided', ' aids', ' aim', ' aimed', ' aims', ' air', ' airway', ' akt', ' albumin', ' alcohol', ' algebra', ' algebraic', ' algebras', ' algorithm', ' algorithmic', ' algorithms', ' align', ' alignment', ' allele', ' alleles', ' allergic', ' allergy', ' allocation', ' allowed', ' allowing', ' along', ' alpha', ' alter', ' alterations', ' altered', ' alternative', ' alternatives', ' alzheimer', ' ambient', ' america', ' american', ' amino', ' amount', ' amounts', ' amp', ' amplification', ' amplified', ' amplifier', ' amplitude', ' amyloid', ' analog', ' analyse', ' analysed', ' analyses', ' analysis', ' analytic', ' analytical', ' analytics', ' analyze', ' analyzed', ' analyzing', ' anemia', ' angle', ' animal', ' animals', ' animation', ' ann', ' annealing', ' annotation', ' annual', ' anomalies', ' anomalous', ' anomaly', ' answer', ' ant', ' antagonist', ' antenna', ' antennas', ' anterior', ' anti', ' antibiotic', ' antibiotics', ' antibodies', ' antibody', ' antigen', ' antimicrobial', ' antioxidant', ' antiretroviral', ' anxiety', ' apoptosis', ' apoptotic', ' app', ' apparent', ' appearance', ' appeared', ' appears', ' applicability', ' applicable', ' application', ' applications', ' applied', ' apply', ' applying', ' approach', ' approaches', ' approximate', ' approximately', ' approximating', ' approximation', ' approximations', ' april', ' aqueous', ' arabidopsis', ' arbitrary', ' arc', ' architectural', ' architecture', ' architectures', ' area', ' areas', ' arginine', ' argue', ' argued', ' argues', ' argument', ' arguments', ' arise', ' arises', ' arising', ' arithmetic', ' arm', ' array', ' arrays', ' arrival', ' art', ' arterial', ' artery', ' arthritis', ' article', ' articles', ' artificial', ' asia', ' asian', ' asked', ' aspect', ' aspects', ' assay', ' assays', ' assembly', ' assess', ' assessed', ' assessing', ' assessment', ' assessments', ' assigned', ' assignment', ' assist', ' assisted', ' association', ' associations', ' associative', ' assume', ' assumed', ' assuming', ' assumption', ' assumptions', ' asthma', ' asymmetric', ' asymptotic', ' asynchronous', ' atlantic', ' atm', ' atmosphere', ' atmospheric', ' atom', ' atomic', ' atoms', ' atp', ' attack', ' attacks', ' attempt', ' attempts', ' attending', ' attention', ' attenuated', ' attitudes', ' attractive', ' attribute', ' attributed', ' attributes', ' audio', ' augmented', ' august', ' aureus', ' australia', ' australian', ' authentication', ' author', ' authors', ' autoimmune', ' automata', ' automated', ' automatic', ' automatically', ' automation', ' automotive', ' autonomous', ' availability', ' avc', ' average', ' averaged', ' avoid', ' avoidance', ' aware', ' awareness', ' axis', ' bacillus', ' back', ' background', ' bacteria', ' bacterial', ' balance', ' balanced', ' balancing', ' band', ' bands', ' bandwidth', ' bank', ' barrier', ' barriers', ' basal', ' base', ' based', ' baseline', ' bases', ' basic', ' basin', ' basis', ' batch', ' battery', ' bayesian', ' beam', ' beamforming', ' bearing', ' becoming', ' bed', ' beginning', ' behavior', ' behavioral', ' behaviors', ' behaviour', ' behavioural', ' behaviours', ' belief', ' beliefs', ' believed', ' belonging', ' benchmark', ' beneficial', ' benefit', ' benefits', ' benign', ' beta', ' bias', ' bifurcation', ' big', ' bilateral', ' binary', ' binding', ' bio', ' biochemical', ' biodiversity', ' biological', ' biology', ' biomarkers', ' biomass', ' biomedical', ' biometric', ' biopsy', ' biosynthesis', ' bipartite', ' birds', ' birth', ' bit', ' bits', ' black', ' bladder', ' bleeding', ' blind', ' block', ' blocking', ' blocks', ' blood', ' blot', ' blue', ' bmi', ' bodies', ' body', ' bold', ' bond', ' bone', ' book', ' boolean', ' border', ' born', ' bottom', ' bound', ' boundaries', ' boundary', ' bounded', ' bounds', ' bowel', ' box', ' boys', ' brain', ' branch', ' branch]', ' brazil', ' breast', ' breeding', ' briefly', ' british', ' broad', ' broadband', ' broadcast', ' broadcasting', ' broader', ' buffer', ' build', ' building', ' built', ' bulk', ' burden', ' burst', ' bus', ' business', ' ca2', ' cache', ' caching', ' cad', ' calcium', ' calculate', ' calculated', ' calculation', ' calculations', ' calculus', ' calibration', ' call', ' called', ' calls', ' camera', ' camp', ' canada', ' cancellation', ' cancer', ' cancers', ' candidate', ' candidates', ' canonical', ' capabilities', ' capability', ' capable', ' capacity', ' capital', ' capture', ' captured', ' carbon', ' carcinoma', ' cardiac', ' cardiovascular', ' care', ' caregivers', ' carlo', ' carried', ' carrier', ' carriers', ' carry', ' carrying', ' case', ' cases', ' catalytic', ' categories', ' categorization', ' category', ' causal', ' caused', ' causing', ' cavity', ' cd4', ' cdma', ' cell', ' cells', ' cellular', ' center', ' centers', ' central', ' centre', ' centric', ' century', ' cerebral', ' cereus', ' cervical', ' chain', ' chains', ' challenge', ' challenges', ' challenging', ' change', ' changed', ' changing', ' channel', ' channels', ' chaos', ' chaotic', ' character', ' characteristic', ' characteristics', ' characterization', ' characterize', ' characterized', ' characterizing', ' characters', ' charge', ' charged', ' chd', ' check', ' checking', ' chemical', ' chemistry', ' chemotherapy', ' child', ' childhood', ' children', ' china', ' chinese', ' chip', ' choice', ' choices', ' cholesterol', ' choose', ' chosen', ' chromatic', ' chromatography', ' chromosomal', ' chromosome', ' chromosomes', ' chronic', ' circadian', ' circuit', ' circuits', ' circular', ' circulating', ' circulation', ' cis', ' citation', ' city', ' claim', ' claims', ' clarify', ' class', ' classes', ' classical', ' classification', ' classified', ' classifier', ' classifiers', ' classify', ' clay', ' clear', ' clearance', ' client', ' clients', ' climate', ' climatic', ' clinic', ' clinical', ' clinically', ' clinicians', ' clinics', ' clip', ' clock', ' clones', ' close', ' closed', ' closely', ' closure', ' cloud', ' clouds', ' cluster', ' clustering', ' clusters', ' cmos', ' cns', ' co2', ' coarse', ' coastal', ' coating', ' code', ' coded', ' codes', ' coding', ' coefficient', ' coefficients', ' cognitive', ' coherence', ' coherent', ' cohort', ' cold', ' coli', ' colitis', ' collaboration', ' collaborative', ' collagen', ' collected', ' collection', ' collections', ' collective', ' college', ' collision', ' colon', ' colonization', ' colony', ' color', ' colorectal', ' coloring', ' colour', ' column', ' combination', ' combinations', ' combinatorial', ' combine', ' combined', ' combines', ' combining', ' comments', ' commerce', ' commercial', ' common', ' commonly', ' communication', ' communications', ' communities', ' community', ' compact', ' companies', ' company', ' comparable', ' comparative', ' compare', ' compared', ' comparing', ' comparison', ' comparisons', ' compatible', ' compensation', ' competition', ' competitive', ' complement', ' complementary', ' complete', ' completed', ' completely', ' completion', ' complex', ' complexes', ' complexity', ' compliance', ' complicated', ' complications', ' component', ' components', ' composed', ' composite', ' composition', ' compound', ' compounds', ' comprehensive', ' compressed', ' compression', ' comprised', ' comprising', ' computation', ' computational', ' computationally', ' computations', ' compute', ' computed', ' computer', ' computers', ' computing', ' concentration', ' concentrations', ' concept', ' concepts', ' conceptual', ' concern', ' concerned', ' concerns', ' concert', ' conclude', ' concluded', ' conclusion', ' conclusions', ' concrete', ' concurrent', ' condition', ' conditional', ' conditions', ' conduct', ' conducted', ' conductivity', ' conference', ' confidence', ' configuration', ' configurations', ' confirm', ' confirmed', ' conflict', ' congestion', ' conjecture', ' conjunction', ' connected', ' connection', ' connections', ' connectivity', ' consecutive', ' consensus', ' consequence', ' consequences', ' conservation', ' conserved', ' considerable', ' considerably', ' consideration', ' considerations', ' considered', ' considers', ' consisted', ' consistency', ' consistent', ' consistently', ' consisting', ' consists', ' constant', ' constants', ' constitute', ' constrained', ' constraint', ' constraints', ' construct', ' constructed', ' constructing', ' construction', ' constructs', ' consumer', ' consumers', ' consuming', ' consumption', ' contact', ' contained', ' contamination', ' contemporary', ' content', ' contents', ' context', ' contexts', ' contextual', ' continue', ' continued', ' continuous', ' continuously', ' contour', ' contract', ' contraction', ' contrary', ' contrast', ' contribute', ' contributed', ' contributes', ' contributing', ' contribution', ' contributions', ' control', ' controlled', ' controller', ' controllers', ' controlling', ' controls', ' convection', ' conventional', ' convergence', ' conversion', ' converter', ' converters', ' convex', ' cooling', ' cooperation', ' cooperative', ' coordinate', ' coordinated', ' coordinates', ' coordination', ' cope', ' copies', ' coping', ' copper', ' copy', ' cord', ' core', ' cores', ' coronary', ' corpus', ' correct', ' corrected', ' correction', ' correctly', ' correctness', ' correlate', ' correlated', ' correlates', ' correlation', ' correlations', ' correspondence', ' cortex', ' cortical', ' cost', ' costs', ' cotton', ' count', ' counting', ' countries', ' country', ' counts', ' coupled', ' coupling', ' cover', ' coverage', ' covered', ' covering', ' cox', ' cpu', ' create', ' created', ' creating', ' creation', ' criteria', ' criterion', ' critical', ' critically', ' crohn', ' cronbach', ' crop', ' crops', ' cross', ' crp', ' crucial', ' cry', ' crystal', ' crystals', ' csf', ' cubic', ' cues', ' cultivars', ' cultural', ' culture', ' cultured', ' cultures', ' cumulative', ' current', ' currents', ' curriculum', ' curvature', ' curve', ' curves', ' customer', ' customers', ' cut', ' cutting', ' cvd', ' cyber', ' cycle', ' cycles', ' cyclic', ' cyclotron', ' cytokine', ' cytokines', ' daily', ' damage', ' dans', ' dark', ' data', ' database', ' databases', ' dataset', ' datasets', ' date', ' day', ' days', ' deal', ' dealing', ' deals', ' death', ' deaths', ' debate', ' decade', ' decades', ' decay', ' december', ' decentralized', ' decision', ' decisions', ' decline', ' decoder', ' decoding', ' decomposition', ' decrease', ' decreased', ' decreases', ' decreasing', ' dedicated', ' deep', ' defect', ' defects', ' defense', ' deficiency', ' deficient', ' deficits', ' define', ' defined', ' defining', ' definition', ' definitions', ' deformable', ' deformation', ' degradation', ' degree', ' degrees', ' delay', ' delayed', ' delays', ' deletion', ' delivered', ' delivery', ' delta', ' demand', ' demands', ' dementia', ' demographic', ' demonstrate', ' demonstrated', ' demonstrates', ' demonstrating', ' denoising', ' dense', ' densities', ' density', ' department', ' depend', ' dependence', ' dependency', ' dependent', ' depending', ' depends', ' depletion', ' deployed', ' deployment', ' deposited', ' deposition', ' depression', ' depressive', ' depth', ' der', ' derivative', ' derivatives', ' derive', ' derived', ' des', ' describe', ' describes', ' describing', ' description', ' descriptions', ' descriptive', ' descriptors', ' design', ' designed', ' designing', ' designs', ' desirable', ' desired', ' detail', ' detailed', ' details', ' detect', ' detected', ' detecting', ' detection', ' detector', ' determinants', ' determination', ' determine', ' determined', ' determines', ' determining', ' deterministic', ' develop', ' developed', ' developing', ' development', ' developmental', ' developments', ' deviation', ' device', ' devices', ' diabetes', ' diabetic', ' diagnosed', ' diagnosis', ' diagnostic', ' diagram', ' diagrams', ' diameter', ' die', ' died', ' dielectric', ' diet', ' dietary', ' diets', ' differ', ' differed', ' difference', ' differences', ' differential', ' differentially', ' differentiated', ' differentiation', ' difficult', ' difficulties', ' difficulty', ' diffraction', ' diffusion', ' digital', ' dimension', ' dimensional', ' dimensions', ' dioxide', ' direct', ' directed', ' direction', ' directional', ' directions', ' directly', ' disabilities', ' disability', ' discharge', ' discontinuous', ' discovered', ' discovering', ' discovery', ' discrete', ' discriminant', ' discrimination', ' discuss', ' discussed', ' discusses', ' discussion', ' disease', ' diseases', ' disjoint', ' disk', ' disorder', ' disorders', ' dispersal', ' dispersion', ' displacement', ' display', ' displayed', ' displays', ' disruption', ' dissolved', ' distance', ' distances', ' distinct', ' distinguish', ' distortion', ' distress', ' distributed', ' distribution', ' distributions', ' disturbance', ' disturbances', ' divergence', ' diverse', ' diversity', ' divided', ' division', ' dna', ' document', ' documented', ' documents', ' dogs', ' doi', ' domain', ' domains', ' domestic', ' dominance', ' dominant', ' dominated', ' domination', ' donor', ' donors', ' doped', ' dose', ' doses', ' double', ' downlink', ' downstream', ' dramatically', ' drawing', ' drawn', ' drift', ' drinking', ' drive', ' driven', ' driver', ' driving', ' drop', ' drought', ' drug', ' drugs', ' dry', ' dual', ' duality', ' due', ' duration', ' dust', ' dynamic', ' dynamical', ' dynamically', ' dynamics', ' dysfunction', ' earlier', ' early', ' earth', ' easily', ' east', ' eastern', ' easy', ' eating', ' ecological', ' ecology', ' economic', ' economy', ' ecosystem', ' ecosystems', ' edge', ' edges', ' editor', ' editorial', ' editors', ' education', ' educational', ' eeg', ' effect', ' effective', ' effectively', ' effectiveness', ' effects', ' efficacy', ' efficiency', ' efficient', ' efficiently', ' efflux', ' effort', ' efforts', ' egfr', ' egg', ' eigenvalue', ' einstein', ' elastic', ' elderly', ' electric', ' electrical', ' electrode', ' electromagnetic', ' electron', ' electronic', ' electrons', ' element', ' elements', ' elevated', ' elevation', ' elimination', ' elisa', ' elliptic', ' elucidate', ' embedded', ' embedding', ' emerged', ' emergence', ' emergency', ' emerging', ' emission', ' emissions', ' emotion', ' emotional', ' emotions', ' emphasis', ' emphasistypeitalic', ' empirical', ' employ', ' employed', ' employing', ' employment', ' employs', ' enable', ' enabled', ' enables', ' enabling', ' encoded', ' encoding', ' encountered', ' encryption', ' end', ' endemic', ' endogenous', ' endothelial', ' energies', ' energy', ' engagement', ' engine', ' engineering', ' english', ' enhance', ' enhanced', ' enhancement', ' enhances', ' enhancing', ' enos', ' enriched', ' enrichment', ' enrolled', ' ensemble', ' ensure', ' enterprise', ' entire', ' entities', ' entropy', ' entry', ' environment', ' environmental', ' environments', ' enzyme', ' enzymes', ' epidemiological', ' epigenetic', ' epilepsy', ' episodes', ' epithelial', ' equal', ' equalization', ' equally', ' equation', ' equations', ' equilibrium', ' equipment', ' equivalence', ' equivalent', ' erratum', ' error', ' errors', ' essential', ' essentially', ' est', ' establish', ' established', ' establishing', ' establishment', ' estimate', ' estimated', ' estimates', ' estimating', ' estimation', ' estimator', ' estimators', ' ethanol', ' ethical', ' ethnic', ' europe', ' european', ' evaluate', ' evaluated', ' evaluating', ' evaluation', ' evaluations', ' event', ' events', ' evidence', ' evident', ' evolution', ' evolutionary', ' evolved', ' evolving', ' exact', ' examination', ' examine', ' examined', ' examines', ' examining', ' examples', ' excellent', ' excess', ' exchange', ' excitation', ' excited', ' excluded', ' execution', ' exercise', ' exhibit', ' exhibited', ' exhibits', ' exist', ' existence', ' existing', ' exists', ' expanded', ' expansion', ' expectations', ' expected', ' expensive', ' experience', ' experienced', ' experiences', ' experiment', ' experimental', ' experimentally', ' experiments', ' expert', ' experts', ' explain', ' explained', ' explanation', ' explicit', ' explicitly', ' exploit', ' exploited', ' exploiting', ' exploration', ' exploratory', ' explore', ' explored', ' explores', ' exploring', ' exponential', ' exposed', ' exposure', ' express', ' expressed', ' expressing', ' expression', ' expressions', ' extend', ' extended', ' extending', ' extends', ' extension', ' extensions', ' extensive', ' extensively', ' extent', ' external', ' extra', ' extracellular', ' extract', ' extracted', ' extracting', ' extraction', ' extracts', ' extreme', ' extremely', ' eye', ' eyes', ' face', ' faces', ' facial', ' facilitate', ' facilitates', ' facilities', ' facility', ' fact', ' factor', ' factorization', ' factors', ' fading', ' fail', ' failed', ' failure', ' failures', ' fair', ' fairness', ' fall', ' false', ' families', ' family', ' fashion', ' fast', ' faster', ' fat', ' fatigue', ' fatty', ' fault', ' faults', ' feasibility', ' feasible', ' feature', ' features', ' fed', ' feed', ' feedback', ' feeding', ' female', ' females', ' fetal', ' fever', ' fewer', ' fiber', ' fibers', ' fibrosis', ' field', ' fields', ' file', ' files', ' film', ' films', ' filter', ' filtering', ' filters', ' final', ' finally', ' financial', ' find', ' finding', ' findings', ' fine', ' fingerprint', ' finite', ' fir', ' fire', ' firstly', ' fish', ' fit', ' fitness', ' fitting', ' fixed', ' flat', ' flexibility', ' flexible', ' flies', ' flight', ' floral', ' flow', ' flowering', ' flows', ' fluctuations', ' fluid', ' fluids', ' fluorescence', ' flux', ' fluxes', ' fly', ' fmri', ' focal', ' focus', ' focused', ' focuses', ' focusing', ' fold', ' follow', ' font', ' food', ' force', ' forced', ' forces', ' forcing', ' forecast', ' forecasting', ' foreign', ' forest', ' forests', ' form', ' formal', ' formalism', ' format', ' formation', ' formed', ' forming', ' forms', ' formula', ' formulas', ' formulate', ' formulated', ' formulation', ' forty', ' forward', ' found', ' foundation', ' fourier', ' fourth', ' fpga', ' fractal', ' fraction', ' fractional', ' fractions', ' fracture', ' fragment', ' fragmentation', ' fragments', ' frame', ' frames', ' framework', ' free', ' freedom', ' french', ' frequencies', ' frequency', ' frequent', ' frequently', ' fresh', ' freshwater', ' front', ' fruit', ' fuel', ' full', ' fullerene', ' fully', ' function', ' functional', ' functionality', ' functioning', ' functions', ' fundamental', ' fungal', ' fungi', ' fusion', ' future', ' fuzzy', ' gain', ' gained', ' gains', ' gait', ' galerkin', ' game', ' games', ' gamma', ' gap', ' gaps', ' gas', ' gastric', ' gastrointestinal', ' gate', ' gaussian', ' gave', ' gel', ' gender', ' gene', ' general', ' generalization', ' generalized', ' generally', ' generate', ' generated', ' generates', ' generating', ' generation', ' generator', ' generic', ' genes', ' genetic', ' genetically', ' genetics', ' genome', ' genomes', ' genomic', ' genotype', ' genotypes', ' genus', ' geographic', ' geographical', ' geometric', ' geometry', ' german', ' gesture', ' ghz', ' girls', ' gis', ' give', ' giving', ' gland', ' glass', ' glioma', ' global', ' globally', ' glucose', ' goal', ' goals', ' gold', ' good', ' government', ' gps', ' gpu', ' grade', ' gradient', ' gradients', ' grain', ' gram', ' grammars', ' graph', ' graphene', ' graphical', ' graphics', ' graphs', ' grass', ' great', ' greater', ' greatest', ' greatly', ' greedy', ' green', ' grid', ' grids', ' ground', ' group', ' groups', ' growing', ' grown', ' growth', ' guarantee', ' guarantees', ' guest', ' guidance', ' guide', ' guided', ' guidelines', ' gut', ' habitat', ' habitats', ' hair', ' half', ' hamiltonian', ' hand', ' handle', ' handling', ' handwritten', ' haplotype', ' haptic', ' hard', ' hardware', ' harmonic', ' hazard', ' hcv', ' hdl', ' hdlc', ' head', ' headache', ' healing', ' health', ' healthcare', ' healthy', ' heart', ' heat', ' heating', ' heavy', ' height', ' held', ' helps', ' hepatic', ' hepatitis', ' heterogeneity', ' heterogeneous', ' heuristic', ' heuristics', ' hidden', ' hierarchical', ' hierarchy', ' high', ' higher', ' highest', ' highlight', ' highlighted', ' highlights', ' highly', ' histogram', ' histological', ' historical', ' history', ' hiv', ' hla', ' hoc', ' hold', ' holds', ' hole', ' home', ' homeostasis', ' homogeneous', ' hop', ' horizontal', ' hormone', ' hospital', ' hospitals', ' host', ' hosts', ' hot', ' hours', ' household', ' housing', ' href', ' http', ' huge', ' human', ' humanoid', ' humans', ' hundred', ' hybrid', ' hybridization', ' hydrogen', ' hyperbolic', ' hyperspectral', ' hypertension', ' hypertensive', ' hypotheses', ' hypothesis', ' hypothesized', ' hypoxia', ' ibd', ' icc', ' ice', ' ict', ' idea', ' ideal', ' ideas', ' identical', ' identification', ' identified', ' identifies', ' identify', ' identifying', ' identity', ' ieee', ' ifn', ' ige', ' igg', ' iii', ' ill', ' illness', ' illumination', ' illustrate', ' illustrated', ' image', ' imagery', ' images', ' imaging', ' immediately', ' immune', ' immunity', ' immunohistochemistry', ' impact', ' impacts', ' impaired', ' impairment', ' impedance', ' imperfect', ' implement', ' implementation', ' implementations', ' implemented', ' implementing', ' implicated', ' implications', ' implicit', ' implies', ' importance', ' important', ' importantly', ' improve', ' improved', ' improvement', ' improvements', ' improves', ' improving', ' impulse', ' impulsive', ' incidence', ' incident', ' include', ' included', ' includes', ' including', ' inclusion', ' income', ' incomplete', ' incorporate', ' incorporated', ' incorporating', ' incorporation', ' increase', ' increased', ' increases', ' increasing', ' increasingly', ' incremental', ' incubation', ' independence', ' independent', ' independently', ' index', ' indexing', ' india', ' indian', ' indicating', ' indicator', ' indicators', ' indices', ' indirect', ' individual', ' individuals', ' indoor', ' induce', ' induced', ' induces', ' inducible', ' inducing', ' induction', ' inductive', ' industrial', ' industry', ' inequalities', ' inequality', ' infant', ' infants', ' infected', ' infection', ' infections', ' infectious', ' inference', ' infiltration', ' infinite', ' inflammation', ' inflammatory', ' influence', ' influenced', ' influences', ' influencing', ' influenza', ' inform', ' information', ' informed', ' infrared', ' infrastructure', ' infusion', ' inherent', ' inherit', ' inhibit', ' inhibited', ' inhibition', ' inhibitor', ' inhibitors', ' inhibitory', ' initial', ' initially', ' initiated', ' initiation', ' injected', ' injection', ' injury', ' inline', ' inlineequation', ' innovation', ' innovative', ' inos', ' input', ' inputs', ' insect', ' insertion', ' inside', ' insight', ' insights', ' inspection', ' inspired', ' instability', ' instance', ' instances', ' institute', ' institutional', ' institutions', ' instruction', ' instrument', ' instruments', ' insufficient', ' insulin', ' intact', ' intake', ' integer', ' integral', ' integrate', ' integrated', ' integrating', ' integration', ' integrity', ' intellectual', ' intelligence', ' intelligent', ' intended', ' intense', ' intensity', ' intensive', ' intention', ' inter', ' interact', ' interacting', ' interaction', ' interactions', ' interactive', ' interannual', ' interconnection', ' interdisciplinary', ' interest', ' interesting', ' interestingly', ' interests', ' interface', ' interfaces', ' interference', ' interior', ' interleukin', ' intermediate', ' internal', ' international', ' internet', ' interoperability', ' interpolation', ' interpretation', ' interpreted', ' interprofessional', ' intersection', ' interstitial', ' interval', ' intervals', ' intervention', ' interventions', ' interview', ' interviews', ' intestinal', ' intra', ' intracellular', ' intravenous', ' intrinsic', ' introduce', ' introduced', ' introduces', ' introducing', ' introduction', ' intrusion', ' intuitionistic', ' invariant', ' invasion', ' invasive', ' inventory', ' inverse', ' inversion', ' investigate', ' investigated', ' investigates', ' investigating', ' investigation', ' investigations', ' investment', ' involve', ' involved', ' involvement', ' involves', ' involving', ' ion', ' ions', ' iron', ' irradiation', ' isbn', ' island', ' islands', ' isolated', ' isolates', ' isolation', ' issue', ' issues', ' italic', ' item', ' items', ' iteration', ' iterative', ' january', ' japan', ' japanese', ' java', ' jet', ' job', ' jobs', ' john', ' joint', ' journal', ' july', ' june', ' kalman', ' kernel', ' key', ' kidney', ' kinase', ' kind', ' kinds', ' kinetic', ' kinetics', ' kinin', ' knowledge', ' label', ' labeled', ' labeling', ' laboratory', ' lack', ' lacking', ' lagrangian', ' lake', ' land', ' landscape', ' language', ' languages', ' large', ' largely', ' larger', ' largescale', ' largest', ' larvae', ' laser', ' late', ' latency', ' latent', ' lateral', ' lattice', ' lattices', ' law', ' laws', ' layer', ' layered', ' layers', ' layout', ' ldl', ' ldlc', ' ldpc', ' lead', ' leading', ' leads', ' leaf', ' leakage', ' learn', ' learned', ' learning', ' leaves', ' led', ' left', ' legal', ' length', ' lengths', ' les', ' lesion', ' lesions', ' lessons', ' letter', ' level', ' levels', ' libraries', ' library', ' life', ' lifetime', ' ligand', ' ligands', ' ligase', ' light', ' lightweight', ' likelihood', ' limit', ' limitation', ' limitations', ' limited', ' limiting', ' limits', ' line', ' linear', ' linearly', ' lines', ' linguistic', ' link', ' linkage', ' linked', ' links', ' lipid', ' lipoprotein', ' liquid', ' list', ' literature', ' lithium', ' live', ' liver', ' lives', ' living', ' load', ' loading', ' loads', ' local', ' localization', ' localized', ' locally', ' located', ' location', ' locations', ' loci', ' locus', ' log', ' logic', ' logical', ' logics', ' logistic', ' long', ' longer', ' longitudinal', ' loop', ' loss', ' losses', ' lost', ' low', ' lower', ' lowest', ' lps', ' lte', ' lung', ' lyapunov', ' lymphocytes', ' lymphoma', ' mac', ' machine', ' machines', ' macrophages', ' made', ' magnetic', ' magnitude', ' main', ' maintain', ' maintained', ' maintaining', ' maintenance', ' maize', ' major', ' majority', ' make', ' makes', ' making', ' malaria', ' male', ' males', ' malignant', ' malnutrition', ' mammalian', ' man', ' manage', ' managed', ' management', ' managers', ' managing', ' manipulation', ' manipulator', ' manipulators', ' manner', ' manual', ' manufacturing', ' map', ' mapped', ' mapping', ' mappings', ' maps', ' march', ' margin', ' marine', ' marked', ' markedly', ' marker', ' markers', ' market', ' markets', ' markov', ' markovian', ' marrow', ' mass', ' massive', ' match', ' matched', ' matching', ' material', ' materials', ' maternal', ' math', ' mathcal', ' mathematical', ' mathematics', ' mathjax', ' mathjax_main', ' mathjax_preview', ' mathml', ' mating', ' matrices', ' matrix', ' matter', ' maturation', ' mature', ' max', ' maximal', ' maximization', ' maximize', ' maximum', ' meaning', ' meaningful', ' means', ' measure', ' measured', ' measurement', ' measurements', ' measures', ' measuring', ' mechanical', ' mechanism', ' mechanisms', ' media', ' median', ' mediated', ' medical', ' medication', ' medications', ' medicine', ' mediterranean', ' medium', ' meet', ' meeting', ' member', ' members', ' membrane', ' membranes', ' memory', ' men', ' meningitis', ' mental', ' mentioned', ' merging', ' mesh', ' meshes', ' message', ' messages', ' met', ' meta', ' metabolic', ' metabolism', ' metabolites', ' metadata', ' metal', ' metals', ' metastasis', ' metastatic', ' method', ' methodologies', ' methodology', ' methods', ' methyl', ' methylation', ' metric', ' metrics', ' mice', ' micro', ' microarray', ' microbial', ' microsatellite', ' microscopic', ' microscopy', ' microwave', ' mid', ' middle', ' middleware', ' migration', ' mild', ' milk', ' million', ' mimo', ' min', ' mineral', ' minimal', ' minimization', ' minimize', ' minimizing', ' minimum', ' mining', ' minor', ' minutes', ' mir', ' mirna', ' mirnas', ' missing', ' mit', ' mitigation', ' mitochondrial', ' mixed', ' mixing', ' mixture', ' mixtures', ' mjx', ' mjxp', ' mmhg', ' mmol', ' mmp', ' mobile', ' mobility', ' modal', ' mode', ' model', ' modeled', ' modeling', ' modelling', ' models', ' moderate', ' modern', ' modes', ' modification', ' modifications', ' modified', ' modify', ' modular', ' modulated', ' modulation', ' module', ' modules', ' moisture', ' mol', ' molecular', ' molecule', ' molecules', ' moment', ' moments', ' momentum', ' monitor', ' monitored', ' monitoring', ' monotone', ' monsoon', ' monte', ' month', ' months', ' moral', ' morbidity', ' morphological', ' morphology', ' mortality', ' mother', ' mothers', ' motion', ' motivated', ' motivation', ' motor', ' mouse', ' move', ' movement', ' movements', ' moving', ' mpeg', ' mri', ' mrna', ' mrow', ' mucosal', ' multi', ' multiagent', ' multicast', ' multichannel', ' multidimensional', ' multilevel', ' multimedia', ' multimodal', ' multiobjective', ' multipath', ' multiple', ' multiplexing', ' multiplication', ' multiprocessor', ' multiscale', ' multiuser', ' multivariate', ' murine', ' muscle', ' music', ' mutant', ' mutants', ' mutation', ' mutations', ' mutual', ' myeloma', ' myocardial', ' named', ' nanoparticles', ' narrow', ' nasal', ' national', ' native', ' natural', ' naturally', ' nature', ' nausea', ' navigation', ' nearest', ' necessarily', ' necrosis', ' needed', ' negative', ' negatively', ' negotiation', ' neighbor', ' neighborhood', ' neisseria', ' neonatal', ' nerve', ' nervous', ' net', ' nets', ' network', ' networked', ' networking', ' networks', ' neural', ' neuro', ' neurological', ' neuron', ' neuronal', ' neurons', ' neutral', ' newly', ' news', ' newton', ' newtonian', ' nitrate', ' nitric', ' nitrogen', ' nnos', ' nobr', ' node', ' nodes', ' noise', ' noisy', ' nonlinear', ' nonparametric', ' norm', ' normal', ' normalized', ' norms', ' north', ' northern', ' nos', ' notably', ' note', ' noted', ' notion', ' nuclear', ' nuclei', ' nucleotide', ' nucleus', ' null', ' number', ' numbers', ' numerical', ' numerically', ' numerous', ' nurse', ' nurses', ' nursing', ' nutrient', ' nutrition', ' nutritional', ' obese', ' obesity', ' object', ' objective', ' objectives', ' objects', ' observation', ' observational', ' observations', ' observe', ' observed', ' observer', ' obtain', ' obtained', ' obtaining', ' occupational', ' occur', ' occurred', ' occurrence', ' occurring', ' occurs', ' ocean', ' october', ' odds', ' ofdm', ' ofdma', ' offer', ' offered', ' offers', ' offset', ' offspring', ' oil', ' older', ' ongoing', ' online', ' onset', ' ontologies', ' ontology', ' open', ' operate', ' operating', ' operation', ' operational', ' operations', ' operative', ' operator', ' operators', ' opportunistic', ' opportunities', ' opportunity', ' opposite', ' optical', ' optimal', ' optimality', ' optimisation', ' optimization', ' optimize', ' optimized', ' optimizing', ' optimum', ' option', ' options', ' oral', ' order', ' ordered', ' ordering', ' orders', ' ordinary', ' org', ' organ', ' organic', ' organisms', ' organization', ' organizational', ' organizations', ' organized', ' organizing', ' organs', ' orientation', ' oriented', ' origin', ' original', ' orthogonal', ' oscillation', ' oscillations', ' oscillator', ' out', ' outcome', ' outcomes', ' outer', ' outpatient', ' outperforms', ' output', ' outputs', ' ovarian', ' overcome', ' overexpression', ' overflow', ' overhead', ' overlap', ' overlapping', ' overlay', ' overview', ' overweight', ' oxidation', ' oxidative', ' oxide', ' oxygen', ' p2p', ' p53', ' pacific', ' package', ' packet', ' packets', ' packing', ' page', ' pain', ' pair', ' pairs', ' pairwise', ' pancreatic', ' panel', ' paper', ' papers', ' par', ' parabolic', ' paradigm', ' parallel', ' parallelism', ' parameter', ' parameterized', ' parameters', ' parametric', ' parasite', ' parent', ' parental', ' parents', ' part', ' partial', ' partially', ' participants', ' participate', ' participated', ' participating', ' participation', ' particle', ' particles', ' partition', ' partitioning', ' partitions', ' partly', ' partner', ' partners', ' parts', ' party', ' pass', ' passive', ' past', ' patch', ' patches', ' path', ' pathogen', ' pathogenesis', ' pathogenic', ' pathogens', ' pathological', ' pathology', ' paths', ' pathway', ' pathways', ' patient', ' patients', ' pattern', ' patterns', ' pca', ' pcr', ' peak', ' peaks', ' pediatric', ' peer', ' peers', ' people', ' peptide', ' peptides', ' perceived', ' percent', ' percentage', ' perception', ' perceptions', ' perceptual', ' perfect', ' perform', ' performance', ' performances', ' performed', ' performing', ' performs', ' period', ' periodic', ' periods', ' peripheral', ' permanent', ' permutation', ' persistence', ' persistent', ' person', ' personal', ' personality', ' personalized', ' persons', ' perspective', ' perspectives', ' perturbation', ' perturbations', ' pervasive', ' pet', ' petri', ' pharmacological', ' phase', ' phases', ' phenomena', ' phenomenon', ' phenotype', ' phenotypes', ' phenotypic', ' phone', ' phonon', ' phosphate', ' phosphorylation', ' photon', ' phylogenetic', ' phys', ' physical', ' physician', ' physicians', ' physics', ' physiological', ' picture', ' piecewise', ' pigs', ' pilot', ' pixel', ' pixels', ' place', ' placebo', ' placement', ' plan', ' planar', ' plane', ' planning', ' plans', ' plant', ' plants', ' plasma', ' plasmapheresis', ' plasmas', ' plate', ' platelet', ' platelets', ' platform', ' platforms', ' play', ' played', ' player', ' players', ' plays', ' plots', ' point', ' points', ' poisson', ' polar', ' polarimetric', ' polarization', ' policies', ' policy', ' political', ' pollen', ' pollution', ' polymer', ' polymerase', ' polymorphic', ' polymorphism', ' polymorphisms', ' polynomial', ' polynomials', ' pool', ' poor', ' poorly', ' poplar', ' popular', ' population', ' populations', ' populus', ' portfolio', ' portion', ' pose', ' position', ' positioning', ' positions', ' positive', ' positively', ' possess', ' possibilities', ' possibility', ' possibly', ' post', ' posterior', ' postoperative', ' potent', ' potential', ' potentially', ' potentials', ' pour', ' power', ' powerful', ' practical', ' practice', ' practices', ' practitioners', ' pre', ' precipitation', ' precise', ' precisely', ' precision', ' precursor', ' predict', ' predicted', ' predicting', ' prediction', ' predictions', ' predictive', ' predictor', ' predictors', ' predicts', ' predominantly', ' preface', ' preference', ' preferences', ' preferred', ' pregnancy', ' pregnant', ' preliminary', ' preparation', ' prepared', ' prescribed', ' presence', ' present', ' presentation', ' presented', ' presenting', ' presents', ' preserving', ' press', ' pressure', ' pressures', ' prevalence', ' prevalent', ' prevent', ' prevented', ' preventing', ' prevention', ' preventive', ' previous', ' previously', ' prey', ' price', ' pricing', ' primarily', ' primary', ' principal', ' principle', ' principles', ' prior', ' priori', ' priority', ' privacy', ' private', ' pro', ' probabilistic', ' probabilities', ' probability', ' probe', ' problem', ' problems', ' procedure', ' procedures', ' process', ' processed', ' processes', ' processing', ' processor', ' processors', ' produce', ' produced', ' produces', ' producing', ' product', ' production', ' productivity', ' products', ' professional', ' professionals', ' profile', ' profiles', ' profiling', ' prognosis', ' prognostic', ' program', ' programmable', ' programme', ' programmes', ' programming', ' programs', ' progress', ' progression', ' progressive', ' project', ' projection', ' projects', ' proliferation', ' prolonged', ' prominent', ' promising', ' promote', ' promoted', ' promoter', ' promotes', ' promoting', ' prone', ' pronounced', ' proof', ' propagation', ' proper', ' properly', ' properties', ' property', ' proportion', ' proportional', ' proposal', ' propose', ' proposed', ' proposes', ' prospective', ' prostate', ' protect', ' protected', ' protection', ' protective', ' protein', ' proteins', ' protocol', ' protocols', ' prototype', ' prove', ' proved', ' proven', ' provide', ' provided', ' provider', ' providers', ' providing', ' provision', ' provisioning', ' proximal', ' proximity', ' pseudo', ' psychiatric', ' psychological', ' psychometric', ' psychosocial', ' public', ' published', ' publisher', ' pulmonary', ' pulse', ' pulses', ' pure', ' purified', ' purpose', ' purposes', ' put', ' putative', ' pylori', ' qol', ' qos', ' qtl', ' quadratic', ' qualitative', ' quality', ' quantification', ' quantified', ' quantify', ' quantitative', ' quantities', ' quantity', ' quantization', ' quantum', ' quasi', ' queries', ' query', ' question', ' questionnaire', ' questionnaires', ' questions', ' queue', ' queueing', ' queues', ' quickly', ' race', ' radar', ' radial', ' radiation', ' radical', ' radio', ' radius', ' rainfall', ' raised', ' raman', ' random', ' randomized', ' randomly', ' range', ' ranged', ' ranges', ' ranging', ' rank', ' ranking', ' rapid', ' rapidly', ' rare', ' rarely', ' rasch', ' rat', ' rate', ' rated', ' rates', ' rating', ' ratings', ' ratio', ' rational', ' ratios', ' rats', ' raw', ' ray', ' rayleigh', ' reach', ' reached', ' reaction', ' reactions', ' reactive', ' reactivity', ' read', ' readily', ' reading', ' real', ' realistic', ' reality', ' realization', ' realized', ' reason', ' reasonable', ' reasoning', ' reasons', ' recall', ' receive', ' received', ' receiver', ' receivers', ' receiving', ' recent', ' recently', ' receptor', ' receptors', ' recipients', ' recognition', ' recognize', ' recognized', ' recombinant', ' recombination', ' recommendation', ' recommendations', ' recommended', ' reconfigurable', ' reconfiguration', ' reconstruction', ' record', ' recorded', ' recording', ' records', ' recovered', ' recovery', ' recruited', ' recruitment', ' recurrence', ' recurrent', ' recursive', ' red', ' reduce', ' reduced', ' reduces', ' reducing', ' reduction', ' reductions', ' redundancy', ' redundant', ' reference', ' referred', ' refinement', ' reflect', ' reflected', ' reflection', ' reflects', ' regard', ' regarded', ' regime', ' regimen', ' regimes', ' region', ' regional', ' regions', ' registration', ' regression', ' regular', ' regularization', ' regulate', ' regulated', ' regulates', ' regulating', ' regulation', ' regulator', ' regulatory', ' rehabilitation', ' reinforcement', ' rejection', ' relate', ' related', ' relating', ' relation', ' relational', ' relations', ' relationship', ' relationships', ' relative', ' relaxation', ' relay', ' relaying', ' release', ' released', ' relevance', ' relevant', ' reliability', ' reliable', ' relies', ' rely', ' remain', ' remained', ' remaining', ' remains', ' remission', ' remote', ' removal', ' removed', ' renal', ' rendering', ' repair', ' repeat', ' repeated', ' replacement', ' replication', ' report', ' reported', ' reporting', ' reports', ' represent', ' representation', ' representations', ' representative', ' represented', ' representing', ' represents', ' reproduction', ' reproductive', ' request', ' requests', ' require', ' required', ' requirement', ' requirements', ' requires', ' requiring', ' research', ' researchers', ' resection', ' residents', ' residual', ' residue', ' residues', ' resilient', ' resistance', ' resistant', ' resolution', ' resolved', ' resonance', ' resource', ' resources', ' respect', ' respective', ' respiration', ' respiratory', ' respond', ' respondents', ' response', ' responses', ' responsible', ' responsive', ' responsiveness', ' rest', ' restoration', ' restricted', ' restriction', ' restrictions', ' result', ' resulted', ' resulting', ' results', ' retention', ' retinal', ' retrieval', ' retrospective', ' return', ' reuse', ' reveal', ' revealed', ' reveals', ' reverse', ' reversible', ' review', ' reviewed', ' reviews', ' revisited', ' rewriting', ' rfid', ' rice', ' rich', ' richness', ' rights', ' rigid', ' ring', ' rise', ' risk', ' risks', ' river', ' rna', ' road', ' robot', ' robotic', ' robotics', ' robots', ' robust', ' robustness', ' role', ' roles', ' room', ' root', ' roots', ' ros', ' rotation', ' rough', ' round', ' route', ' routine', ' routing', ' rule', ' rules', ' run', ' running', ' runs', ' runtime', ' rural', ' safe', ' safety', ' sage', ' saline', ' salinity', ' salt', ' sample', ' sampled', ' samples', ' sampling', ' sar', ' satellite', ' satisfaction', ' satisfactory', ' satisfied', ' satisfy', ' saturation', ' savanna', ' scalability', ' scalable', ' scalar', ' scale', ' scales', ' scaling', ' scan', ' scanning', ' scattering', ' scenario', ' scenarios', ' scene', ' schedule', ' scheduling', ' schema', ' scheme', ' schemes', ' schizophrenia', ' school', ' schools', ' sci', ' science', ' sciences', ' scientific', ' scope', ' score', ' scores', ' scoring', ' screen', ' screened', ' screening', ' script', ' sea', ' search', ' searching', ' season', ' seasonal', ' secondary', ' secret', ' secretion', ' section', ' sectional', ' sections', ' sector', ' secure', ' security', ' sediment', ' seed', ' seedlings', ' seeds', ' seeking', ' segment', ' segmentation', ' segments', ' select', ' selected', ' selecting', ' selection', ' selective', ' semantic', ' semantics', ' semi', ' semiconductor', ' sense', ' sensing', ' sensitive', ' sensitivity', ' sensor', ' sensors', ' sensory', ' separate', ' separated', ' separately', ' separation', ' september', ' sequence', ' sequences', ' sequencing', ' sequential', ' serial', ' series', ' serum', ' serve', ' server', ' servers', ' service', ' services', ' session', ' sessions', ' set', ' sets', ' setting', ' settings', ' setup', ' severe', ' severely', ' severity', ' sex', ' sexual', ' shallow', ' shape', ' shaped', ' shapes', ' share', ' shared', ' sharing', ' shear', ' shell', ' shift', ' shifts', ' shock', ' shop', ' short', ' shorter', ' shortest', ' show', ' showed', ' showing', ' shown', ' shows', ' side', ' sigma', ' sign', ' signal', ' signaling', ' signalling', ' signals', ' signature', ' signatures', ' significance', ' significant', ' significantly', ' signs', ' silicon', ' similar', ' similarities', ' similarity', ' similarly', ' simple', ' simplified', ' simply', ' simulate', ' simulated', ' simulating', ' simulation', ' simulations', ' simulator', ' simultaneous', ' simultaneously', ' singapore', ' single', ' singular', ' site', ' sites', ' situ', ' situation', ' situations', ' size', ' sized', ' sizes', ' skill', ' skills', ' skin', ' sleep', ' sliding', ' slightly', ' slope', ' slow', ' small', ' smaller', ' smart', ' smoke', ' smokers', ' smoking', ' smooth', ' smoothing', ' snp', ' snps', ' snr', ' soc', ' social', ' society', ' socio', ' socioeconomic', ' sodium', ' soft', ' software', ' soil', ' soils', ' solar', ' solid', ' soluble', ' solution', ' solutions', ' solve', ' solved', ' solvent', ' solver', ' solving', ' sorting', ' sought', ' sound', ' source', ' sources', ' south', ' southern', ' space', ' spaces', ' span', ' spanish', ' spanning', ' sparse', ' spatial', ' spatially', ' spatio', ' speaker', ' special', ' specialized', ' species', ' specific', ' specifically', ' specification', ' specifications', ' specificity', ' specimens', ' spectra', ' spectral', ' spectrometry', ' spectroscopy', ' spectrum', ' speech', ' speed', ' sperm', ' sphere', ' spherical', ' spin', ' spinal', ' spline', ' split', ' splitting', ' spontaneous', ' spp', ' spread', ' spring', ' square', ' squares', ' sst', ' stability', ' stabilization', ' stable', ' staff', ' stage', ' stages', ' staining', ' standard', ' standardized', ' standards', ' standing', ' start', ' started', ' starting', ' state', ' states', ' static', ' station', ' stationary', ' stations', ' statistical', ' statistically', ' statistics', ' status', ' stay', ' steady', ' steiner', ' stem', ' step', ' steps', ' stereo', ' stigma', ' stimulated', ' stimulating', ' stimulation', ' stimuli', ' stimulus', ' stochastic', ' stock', ' stokes', ' stone', ' stones', ' storage', ' store', ' stored', ' strain', ' strains', ' strategic', ' strategies', ' strategy', ' stream', ' streaming', ' streams', ' strength', ' stress', ' stresses', ' string', ' stroke', ' strong', ' stronger', ' strongly', ' structural', ' structure', ' structured', ' structures', ' student', ' students', ' studied', ' studies', ' study', ' studying', ' style', ' subgroup', ' subgroups', ' subject', ' subjected', ' subjective', ' subjects', ' subsequent', ' subsequently', ' subset', ' subsets', ' subspace', ' substance', ' substantial', ' substantially', ' substitution', ' substrate', ' substrates', ' subtypes', ' subunit', ' success', ' successful', ' successfully', ' suffer', ' sufficient', ' sufficiently', ' suggest', ' suggested', ' suggesting', ' suggests', ' suitable', ' suited', ' sum', ' summary', ' summer', ' super', ' superior', ' supervised', ' supplementation', ' supply', ' support', ' supported', ' supporting', ' supports', ' suppressed', ' suppression', ' sur', ' surface', ' surfaces', ' surgery', ' surgical', ' surprisingly', ' surrounding', ' surveillance', ' survey', ' surveys', ' survival', ' survivors', ' susceptibility', ' susceptible', ' sustainable', ' sustained', ' svm', ' swarm', ' switch', ' switched', ' switching', ' symbol', ' symbolic', ' symmetric', ' symmetry', ' symptom', ' symptoms', ' synchronization', ' synchronous', ' syndrome', ' synthase', ' synthesis', ' synthesized', ' synthetic', ' system', ' systematic', ' systematically', ' systemic', ' systems', ' systolic', ' tabindex', ' table', ' tactile', ' tag', ' tags', ' takes', ' taking', ' tanzania', ' target', ' targeted', ' targeting', ' targets', ' task', ' tasks', ' taxa', ' tcp', ' teachers', ' teaching', ' team', ' technical', ' technique', ' techniques', ' technological', ' technologies', ' technology', ' temperature', ' temperatures', ' template', ' temporal', ' ten', ' tend', ' tendency', ' tension', ' tensor', ' term', ' terminal', ' terms', ' terrain', ' terrestrial', ' test', ' tested', ' testing', ' testosterone', ' tests', ' tetracycline', ' tex', ' texatom', ' text', ' texture', ' tgf', ' themes', ' theorem', ' theorems', ' theoretic', ' theoretical', ' theoretically', ' theories', ' theory', ' therapeutic', ' therapies', ' therapy', ' thermal', ' thermodynamic', ' thickness', ' thin', ' thinking', ' thirty', ' thought', ' thread', ' threads', ' threat', ' threshold', ' thresholds', ' throughput', ' tight', ' tillage', ' time', ' timed', ' times', ' timing', ' tissue', ' tissues', ' tnf', ' tobacco', ' today', ' tolerance', ' tolerant', ' tomography', ' tool', ' tools', ' top', ' topic', ' topics', ' topological', ' topology', ' total', ' toxic', ' toxicity', ' toxin', ' trace', ' tracing', ' track', ' tracking', ' tract', ' trade', ' trading', ' traditional', ' traffic', ' trained', ' training', ' trait', ' traits', ' trajectories', ' trajectory', ' trans', ' transaction', ' transcript', ' transcription', ' transcriptional', ' transcriptome', ' transcripts', ' transfer', ' transform', ' transformation', ' transformations', ' transformed', ' transforms', ' transgenic', ' transient', ' transition', ' transitions', ' translated', ' translation', ' translocation', ' transmission', ' transmit', ' transmitted', ' transplant', ' transplantation', ' transport', ' transportation', ' trap', ' travel', ' traveling', ' treat', ' treated', ' treating', ' treatment', ' treatments', ' tree', ' trees', ' trend', ' trends', ' trial', ' trials', ' triangular', ' triple', ' tropical', ' true', ' trust', ' truth', ' tube', ' tuberculosis', ' tumor', ' tumors', ' tumour', ' tumours', ' tuning', ' turbo', ' turn', ' twenty', ' type', ' types', ' typical', ' typically', ' ubackground', ' ubiquitin', ' ubiquitous', ' uin', ' ultimately', ' ultra', ' ultrasound', ' uml', ' uncertain', ' uncertainties', ' uncertainty', ' unclear', ' und', ' undergoing', ' underlying', ' understand', ' understanding', ' understood', ' undertaken', ' underwater', ' underwent', ' une', ' unified', ' uniform', ' unique', ' unit', ' united', ' units', ' universal', ' university', ' unknown', ' unlike', ' unstable', ' unstructured', ' unsupervised', ' untreated', ' uon', ' update', ' uplink', ' upper', ' uptake', ' urban', ' urinary', ' urine', ' usa', ' usability', ' usage', ' usefulness', ' user', ' users', ' usual', ' uthe', ' uthis', ' utility', ' utilization', ' utilize', ' utilized', ' utilizes', ' utilizing', ' uwb', ' uwe', ' vaccination', ' vaccine', ' valence', ' valid', ' validate', ' validated', ' validation', ' validity', ' valuable', ' valued', ' values', ' variability', ' variable', ' variables', ' variance', ' variant', ' variants', ' variation', ' variational', ' variations', ' varied', ' varies', ' variety', ' vary', ' varying', ' vascular', ' vector', ' vectors', ' vegetation', ' vegf', ' vehicle', ' vehicles', ' vehicular', ' velocity', ' venous', ' ventricular', ' verification', ' verified', ' verify', ' version', ' versions', ' versus', ' vertex', ' vertical', ' vertices', ' vessels', ' viability', ' viable', ' vibration', ' vibrational', ' video', ' videos', ' view', ' viewed', ' views', ' violence', ' viral', ' virtual', ' virulence', ' virus', ' viruses', ' viscosity', ' visible', ' vision', ' visit', ' visits', ' visual', ' visualization', ' visualizing', ' vital', ' vitamin', ' vitro', ' vivo', ' vlsi', ' voice', ' voltage', ' volume', ' volumes', ' vomiting', ' von', ' voting', ' vulnerable', ' walking', ' wall', ' war', ' warm', ' warming', ' water', ' watermarking', ' waters', ' wave', ' wavelength', ' wavelet', ' waves', ' ways', ' wdm', ' weak', ' weakly', ' weather', ' web', ' week', ' weeks', ' weight', ' weighted', ' weights', ' west', ' western', ' wet', ' wheat', ' white', ' wide', ' wideband', ' widely', ' wider', ' widespread', ' width', ' wild', ' wiley', ' wind', ' window', ' windows', ' winter', ' wireless', ' wlan', ' woman', ' women', ' wood', ' word', ' words', ' work', ' workers', ' workflow', ' working', ' workload', ' works', ' workshop', ' world', ' worldwide', ' worst', ' writing', ' written', ' xml', ' year', ' years', ' yeast', ' yield', ' yielded', ' yields', ' young', ' younger', ' youth', ' zinc', ' zone', ' zones', ' zur']\n"
     ]
    }
   ],
   "source": [
    "print final"
   ]
  },
  {
   "cell_type": "code",
   "execution_count": 387,
   "metadata": {
    "collapsed": false
   },
   "outputs": [],
   "source": [
    "from stemming.porter2 import stem\n",
    "test = stem(\"loved\")"
   ]
  },
  {
   "cell_type": "code",
   "execution_count": 398,
   "metadata": {
    "collapsed": false,
    "scrolled": true
   },
   "outputs": [],
   "source": [
    "for i in range(len(final)):\n",
    "    final[i] = stem(final[i])"
   ]
  },
  {
   "cell_type": "code",
   "execution_count": 400,
   "metadata": {
    "collapsed": false
   },
   "outputs": [],
   "source": [
    "final = list(set(final))"
   ]
  },
  {
   "cell_type": "code",
   "execution_count": 406,
   "metadata": {
    "collapsed": false
   },
   "outputs": [],
   "source": [
    "final = sorted(final)"
   ]
  },
  {
   "cell_type": "code",
   "execution_count": 410,
   "metadata": {
    "collapsed": false
   },
   "outputs": [
    {
     "name": "stdout",
     "output_type": "stream",
     "text": [
      "[' abil', ' abnorm', ' absenc', ' absent', ' absolut', ' absorpt', ' abstract', ' abund', ' academ', ' acceler', ' accept', ' access', ' accompani', ' account', ' accumul', ' accur', ' accuraci', ' achiev', ' acid', ' acoust', ' acquir', ' acquisit', ' act', ' actin', ' action', ' activ', ' actual', ' actuat', ' acut', ' ad', ' adapt', ' adc', ' add', ' addit', ' address', ' adenosin', ' adequ', ' adher', ' adhes', ' adjac', ' adjust', ' administ', ' administr', ' admiss', ' admit', ' adolesc', ' adopt', ' adp', ' adult', ' advanc', ' advantag', ' advers', ' aerial', ' affect', ' affin', ' africa', ' african', ' age', ' agenc', ' agent', ' aggreg', ' aggress', ' agil', ' agonist', ' agreement', ' agricultur', ' aid', ' aim', ' air', ' airway', ' akt', ' albumin', ' alcohol', ' algebra', ' algorithm', ' align', ' allel', ' allerg', ' allergi', ' alloc', ' allow', ' along', ' alpha', ' alter', ' altern', ' alzheim', ' ambient', ' america', ' american', ' amino', ' amount', ' amp', ' amplif', ' amplifi', ' amplitud', ' amyloid', ' analog', ' analys', ' analysi', ' analyt', ' analyz', ' anemia', ' angl', ' anim', ' ann', ' anneal', ' annot', ' annual', ' anomal', ' anomali', ' answer', ' ant', ' antagonist', ' antenna', ' anterior', ' anti', ' antibiot', ' antibodi', ' antigen', ' antimicrobi', ' antioxid', ' antiretrovir', ' anxieti', ' apoptosi', ' apoptot', ' app', ' appar', ' appear', ' appli', ' applic', ' approach', ' approxim', ' april', ' aqueous', ' arabidopsi', ' arbitrari', ' arc', ' architectur', ' area', ' arginin', ' argu', ' argument', ' aris', ' arithmet', ' arm', ' array', ' arriv', ' art', ' arteri', ' arthriti', ' articl', ' artifici', ' asia', ' asian', ' ask', ' aspect', ' assay', ' assembl', ' assess', ' assign', ' assist', ' associ', ' assum', ' assumpt', ' asthma', ' asymmetr', ' asymptot', ' asynchron', ' atlant', ' atm', ' atmospher', ' atom', ' atp', ' attack', ' attempt', ' attend', ' attent', ' attenu', ' attitud', ' attract', ' attribut', ' audio', ' augment', ' august', ' aureus', ' australia', ' australian', ' authent', ' author', ' autoimmun', ' autom', ' automat', ' automata', ' automot', ' autonom', ' avail', ' avc', ' averag', ' avoid', ' awar', ' axi', ' bacillus', ' back', ' background', ' bacteri', ' bacteria', ' balanc', ' band', ' bandwidth', ' bank', ' barrier', ' basal', ' base', ' baselin', ' basi', ' basic', ' basin', ' batch', ' batteri', ' bayesian', ' beam', ' beamform', ' bear', ' becom', ' bed', ' begin', ' behavior', ' behaviour', ' belief', ' believ', ' belong', ' benchmark', ' benefici', ' benefit', ' benign', ' beta', ' bia', ' bifurc', ' big', ' bilater', ' binari', ' bind', ' bio', ' biochem', ' biodivers', ' biolog', ' biomark', ' biomass', ' biomed', ' biometr', ' biopsi', ' biosynthesi', ' bipartit', ' bird', ' birth', ' bit', ' black', ' bladder', ' bleed', ' blind', ' block', ' blood', ' blot', ' blue', ' bmi', ' bodi', ' bold', ' bond', ' bone', ' book', ' boolean', ' border', ' born', ' bottom', ' bound', ' boundari', ' bowel', ' box', ' boy', ' brain', ' branch', ' branch]', ' brazil', ' breast', ' breed', ' briefli', ' british', ' broad', ' broadband', ' broadcast', ' broader', ' buffer', ' build', ' built', ' bulk', ' burden', ' burst', ' bus', ' busi', ' ca2', ' cach', ' cad', ' calcium', ' calcul', ' calculus', ' calibr', ' call', ' camera', ' camp', ' canada', ' cancel', ' cancer', ' candid', ' canon', ' capabl', ' capac', ' capit', ' captur', ' carbon', ' carcinoma', ' cardiac', ' cardiovascular', ' care', ' caregiv', ' carlo', ' carri', ' carrier', ' case', ' catalyt', ' categor', ' categori', ' caus', ' causal', ' caviti', ' cd4', ' cdma', ' cell', ' cellular', ' center', ' centr', ' central', ' centric', ' centuri', ' cerebr', ' cereus', ' cervic', ' chain', ' challeng', ' chang', ' channel', ' chao', ' chaotic', ' charact', ' character', ' characterist', ' charg', ' chd', ' check', ' chemic', ' chemistri', ' chemotherapi', ' child', ' childhood', ' children', ' china', ' chines', ' chip', ' choic', ' cholesterol', ' choos', ' chosen', ' chromat', ' chromatographi', ' chromosom', ' chronic', ' circadian', ' circuit', ' circul', ' circular', ' cis', ' citat', ' citi', ' claim', ' clarifi', ' class', ' classic', ' classif', ' classifi', ' clay', ' clear', ' clearanc', ' client', ' climat', ' clinic', ' clinician', ' clip', ' clock', ' clone', ' close', ' closur', ' cloud', ' cluster', ' cmos', ' cns', ' co2', ' coars', ' coastal', ' coat', ' code', ' coeffici', ' cognit', ' coher', ' cohort', ' cold', ' coli', ' coliti', ' collabor', ' collagen', ' collect', ' colleg', ' collis', ' colon', ' coloni', ' color', ' colorect', ' colour', ' column', ' combin', ' combinatori', ' comment', ' commerc', ' commerci', ' common', ' commun', ' compact', ' compani', ' compar', ' comparison', ' compat', ' compens', ' competit', ' complement', ' complementari', ' complet', ' complex', ' complianc', ' complic', ' compon', ' compos', ' composit', ' compound', ' comprehens', ' compress', ' compris', ' comput', ' concentr', ' concept', ' conceptu', ' concern', ' concert', ' conclud', ' conclus', ' concret', ' concurr', ' condit', ' conduct', ' confer', ' confid', ' configur', ' confirm', ' conflict', ' congest', ' conjectur', ' conjunct', ' connect', ' consecut', ' consensus', ' consequ', ' conserv', ' consid', ' consider', ' consist', ' constant', ' constitut', ' constrain', ' constraint', ' construct', ' consum', ' consumpt', ' contact', ' contain', ' contamin', ' contemporari', ' content', ' context', ' contextu', ' continu', ' contour', ' contract', ' contrari', ' contrast', ' contribut', ' control', ' convect', ' convent', ' converg', ' convers', ' convert', ' convex', ' cool', ' cooper', ' coordin', ' cope', ' copi', ' copper', ' cord', ' core', ' coronari', ' corpus', ' correct', ' correl', ' correspond', ' cortex', ' cortic', ' cost', ' cotton', ' count', ' countri', ' coupl', ' cover', ' coverag', ' cox', ' cpu', ' creat', ' creation', ' cri', ' criteria', ' criterion', ' critic', ' crohn', ' cronbach', ' crop', ' cross', ' crp', ' crucial', ' crystal', ' csf', ' cubic', ' cue', ' cultivar', ' cultur', ' cumul', ' current', ' curriculum', ' curv', ' curvatur', ' custom', ' cut', ' cvd', ' cyber', ' cycl', ' cyclic', ' cyclotron', ' cytokin', ' daili', ' damag', ' dan', ' dark', ' data', ' databas', ' dataset', ' date', ' day', ' deal', ' death', ' debat', ' decad', ' decay', ' decemb', ' decentr', ' decis', ' declin', ' decod', ' decomposit', ' decreas', ' dedic', ' deep', ' defect', ' defens', ' defici', ' deficit', ' defin', ' definit', ' deform', ' degrad', ' degre', ' delay', ' delet', ' deliv', ' deliveri', ' delta', ' demand', ' dementia', ' demograph', ' demonstr', ' denois', ' dens', ' densiti', ' depart', ' depend', ' deplet', ' deploy', ' deposit', ' depress', ' depth', ' der', ' deriv', ' des', ' describ', ' descript', ' descriptor', ' design', ' desir', ' detail', ' detect', ' detector', ' determin', ' determinist', ' develop', ' development', ' deviat', ' devic', ' di', ' diabet', ' diagnos', ' diagnosi', ' diagnost', ' diagram', ' diamet', ' die', ' dielectr', ' diet', ' dietari', ' differ', ' differenti', ' difficult', ' difficulti', ' diffract', ' diffus', ' digit', ' dimens', ' dimension', ' dioxid', ' direct', ' disabl', ' discharg', ' discontinu', ' discov', ' discoveri', ' discret', ' discrimin', ' discuss', ' diseas', ' disjoint', ' disk', ' disord', ' dispers', ' displac', ' display', ' disrupt', ' dissolv', ' distanc', ' distinct', ' distinguish', ' distort', ' distress', ' distribut', ' disturb', ' diverg', ' divers', ' divid', ' divis', ' dna', ' document', ' dog', ' doi', ' domain', ' domest', ' domin', ' donor', ' dope', ' dose', ' doubl', ' downlink', ' downstream', ' dramat', ' draw', ' drawn', ' dri', ' drift', ' drink', ' drive', ' driven', ' driver', ' drop', ' drought', ' drug', ' dual', ' dualiti', ' due', ' durat', ' dust', ' dynam', ' dysfunct', ' ear', ' earlier', ' earth', ' easi', ' easili', ' east', ' eastern', ' eat', ' ecolog', ' econom', ' economi', ' ecosystem', ' edg', ' editor', ' editori', ' educ', ' eeg', ' effect', ' efficaci', ' effici', ' efflux', ' effort', ' egfr', ' egg', ' eigenvalu', ' einstein', ' elast', ' elder', ' electr', ' electrod', ' electromagnet', ' electron', ' element', ' elev', ' elimin', ' elisa', ' ellipt', ' elucid', ' embed', ' emerg', ' emiss', ' emot', ' emphasi', ' emphasistypeital', ' empir', ' employ', ' enabl', ' encod', ' encount', ' encrypt', ' end', ' endem', ' endogen', ' endotheli', ' energi', ' engag', ' engin', ' english', ' enhanc', ' eno', ' enrich', ' enrol', ' ensembl', ' ensur', ' enterpris', ' entir', ' entiti', ' entri', ' entropi', ' environ', ' environment', ' enzym', ' epidemiolog', ' epigenet', ' epilepsi', ' episod', ' epitheli', ' equal', ' equat', ' equilibrium', ' equip', ' equival', ' erratum', ' error', ' essenti', ' est', ' establish', ' estim', ' ethanol', ' ethic', ' ethnic', ' europ', ' european', ' evalu', ' event', ' evid', ' evolut', ' evolutionari', ' evolv', ' exact', ' examin', ' exampl', ' excel', ' excess', ' exchang', ' excit', ' exclud', ' execut', ' exercis', ' exhibit', ' exist', ' expand', ' expans', ' expect', ' expens', ' experi', ' experienc', ' experiment', ' expert', ' explain', ' explan', ' explicit', ' exploit', ' explor', ' exploratori', ' exponenti', ' expos', ' exposur', ' express', ' extend', ' extens', ' extent', ' extern', ' extra', ' extracellular', ' extract', ' extrem', ' ey', ' face', ' facial', ' facil', ' facilit', ' fact', ' factor', ' fade', ' fail', ' failur', ' fair', ' fall', ' fals', ' famili', ' fashion', ' fast', ' faster', ' fat', ' fatigu', ' fatti', ' fault', ' feasibl', ' featur', ' fed', ' feed', ' feedback', ' femal', ' fetal', ' fever', ' fewer', ' fiber', ' fibrosi', ' field', ' file', ' film', ' filter', ' final', ' financi', ' find', ' fine', ' fingerprint', ' finit', ' fir', ' fire', ' first', ' fish', ' fit', ' fix', ' flat', ' flexibl', ' fli', ' flight', ' floral', ' flow', ' flower', ' fluctuat', ' fluid', ' fluoresc', ' flux', ' fmri', ' focal', ' focus', ' fold', ' follow', ' font', ' food', ' forc', ' forecast', ' foreign', ' forest', ' form', ' formal', ' format', ' formul', ' formula', ' forti', ' forward', ' found', ' foundat', ' fourier', ' fourth', ' fpga', ' fractal', ' fraction', ' fractur', ' fragment', ' frame', ' framework', ' free', ' freedom', ' french', ' frequenc', ' frequent', ' fresh', ' freshwat', ' front', ' fruit', ' fuel', ' full', ' fulleren', ' fulli', ' function', ' fundament', ' fungal', ' fungi', ' fusion', ' futur', ' fuzzi', ' gain', ' gait', ' galerkin', ' game', ' gamma', ' gap', ' gas', ' gastric', ' gastrointestin', ' gate', ' gaussian', ' gave', ' gel', ' gender', ' gene', ' gener', ' genet', ' genom', ' genotyp', ' genus', ' geograph', ' geometr', ' geometri', ' german', ' gestur', ' ghz', ' girl', ' gis', ' give', ' gland', ' glass', ' glioma', ' global', ' glucos', ' goal', ' gold', ' good', ' govern', ' gps', ' gpu', ' grade', ' gradient', ' grain', ' gram', ' grammar', ' graph', ' graphen', ' graphic', ' grass', ' great', ' greater', ' greatest', ' greedi', ' green', ' grid', ' ground', ' group', ' grow', ' grown', ' growth', ' guarante', ' guest', ' guid', ' guidanc', ' guidelin', ' gut', ' habitat', ' hair', ' half', ' hamiltonian', ' hand', ' handl', ' handwritten', ' haplotyp', ' haptic', ' hard', ' hardwar', ' harmon', ' hazard', ' hcv', ' hdl', ' hdlc', ' head', ' headach', ' heal', ' health', ' healthcar', ' healthi', ' heart', ' heat', ' heavi', ' height', ' held', ' help', ' hepat', ' heterogen', ' heurist', ' hidden', ' hierarch', ' hierarchi', ' high', ' higher', ' highest', ' highlight', ' histogram', ' histolog', ' histor', ' histori', ' hiv', ' hla', ' hoc', ' hold', ' hole', ' home', ' homeostasi', ' homogen', ' hop', ' horizont', ' hormon', ' hospit', ' host', ' hot', ' hour', ' hous', ' household', ' href', ' http', ' huge', ' human', ' humanoid', ' hundr', ' hybrid', ' hydrogen', ' hyperbol', ' hyperspectr', ' hypertens', ' hypothes', ' hypothesi', ' hypoxia', ' ibd', ' icc', ' ice', ' ict', ' idea', ' ideal', ' ident', ' identif', ' identifi', ' ieee', ' ifn', ' ige', ' igg', ' iii', ' ill', ' illumin', ' illustr', ' imag', ' imageri', ' immedi', ' immun', ' immunohistochemistri', ' impact', ' impair', ' imped', ' imperfect', ' implement', ' impli', ' implic', ' implicit', ' import', ' improv', ' impuls', ' incid', ' includ', ' inclus', ' incom', ' incomplet', ' incorpor', ' increas', ' increment', ' incub', ' independ', ' index', ' india', ' indian', ' indic', ' indirect', ' individu', ' indoor', ' induc', ' induct', ' industri', ' inequ', ' infant', ' infect', ' infecti', ' infer', ' infiltr', ' infinit', ' inflamm', ' inflammatori', ' influenc', ' influenza', ' inform', ' infrar', ' infrastructur', ' infus', ' inher', ' inherit', ' inhibit', ' inhibitor', ' inhibitori', ' initi', ' inject', ' injuri', ' inlin', ' inlineequ', ' innov', ' ino', ' input', ' insect', ' insert', ' insid', ' insight', ' inspect', ' inspir', ' instabl', ' instanc', ' institut', ' instruct', ' instrument', ' insuffici', ' insulin', ' intact', ' intak', ' integ', ' integr', ' intellectu', ' intellig', ' intend', ' intens', ' intent', ' inter', ' interact', ' interannu', ' interconnect', ' interdisciplinari', ' interest', ' interfac', ' interfer', ' interior', ' interleukin', ' intermedi', ' intern', ' internet', ' interoper', ' interpol', ' interpret', ' interprofession', ' intersect', ' interstiti', ' interv', ' intervent', ' interview', ' intestin', ' intra', ' intracellular', ' intraven', ' intrins', ' introduc', ' introduct', ' intrus', ' intuitionist', ' invari', ' invas', ' inventori', ' invers', ' invest', ' investig', ' involv', ' ion', ' iron', ' irradi', ' isbn', ' island', ' isol', ' issu', ' ital', ' item', ' iter', ' januari', ' japan', ' japanes', ' java', ' jet', ' job', ' john', ' joint', ' journal', ' juli', ' june', ' kalman', ' kernel', ' key', ' kidney', ' kinas', ' kind', ' kinet', ' kinin', ' knowledg', ' label', ' laboratori', ' lack', ' lagrangian', ' lake', ' land', ' landscap', ' languag', ' larg', ' larger', ' largescal', ' largest', ' larva', ' laser', ' late', ' latenc', ' latent', ' later', ' lattic', ' law', ' layer', ' layout', ' ldl', ' ldlc', ' ldpc', ' lead', ' leaf', ' leakag', ' learn', ' leav', ' led', ' left', ' legal', ' length', ' les', ' lesion', ' lesson', ' letter', ' level', ' librari', ' life', ' lifetim', ' ligand', ' ligas', ' light', ' lightweight', ' likelihood', ' limit', ' line', ' linear', ' linguist', ' link', ' linkag', ' lipid', ' lipoprotein', ' liquid', ' list', ' literatur', ' lithium', ' live', ' liver', ' load', ' local', ' locat', ' loci', ' locus', ' log', ' logic', ' logist', ' long', ' longer', ' longitudin', ' loop', ' loss', ' lost', ' low', ' lower', ' lowest', ' lps', ' lte', ' lung', ' lyapunov', ' lymphocyt', ' lymphoma', ' mac', ' machin', ' macrophag', ' made', ' magnet', ' magnitud', ' main', ' maintain', ' mainten', ' maiz', ' major', ' make', ' malaria', ' male', ' malign', ' malnutrit', ' mammalian', ' man', ' manag', ' manipul', ' manner', ' manual', ' manufactur', ' map', ' march', ' margin', ' marin', ' mark', ' marker', ' market', ' markov', ' markovian', ' marrow', ' mass', ' massiv', ' match', ' mate', ' materi', ' matern', ' math', ' mathcal', ' mathemat', ' mathjax', ' mathjax_main', ' mathjax_preview', ' mathml', ' matric', ' matrix', ' matter', ' matur', ' max', ' maxim', ' maximum', ' mean', ' meaning', ' measur', ' mechan', ' media', ' median', ' mediat', ' medic', ' medicin', ' mediterranean', ' medium', ' meet', ' member', ' membran', ' memori', ' men', ' mening', ' mental', ' mention', ' merg', ' mesh', ' messag', ' met', ' meta', ' metabol', ' metabolit', ' metadata', ' metal', ' metastasi', ' metastat', ' method', ' methodolog', ' methyl', ' metric', ' mice', ' micro', ' microarray', ' microbi', ' microsatellit', ' microscop', ' microscopi', ' microwav', ' mid', ' middl', ' middlewar', ' migrat', ' mild', ' milk', ' million', ' mimo', ' min', ' mine', ' miner', ' minim', ' minimum', ' minor', ' minut', ' mir', ' mirna', ' miss', ' mit', ' mitig', ' mitochondri', ' mix', ' mixtur', ' mjx', ' mjxp', ' mmhg', ' mmol', ' mmp', ' mobil', ' modal', ' mode', ' model', ' moder', ' modern', ' modif', ' modifi', ' modul', ' modular', ' moistur', ' mol', ' molecul', ' molecular', ' moment', ' momentum', ' monitor', ' monoton', ' monsoon', ' mont', ' month', ' moral', ' morbid', ' morpholog', ' mortal', ' mother', ' motion', ' motiv', ' motor', ' mous', ' move', ' movement', ' mpeg', ' mri', ' mrna', ' mrow', ' mucos', ' multi', ' multiag', ' multicast', ' multichannel', ' multidimension', ' multilevel', ' multimedia', ' multimod', ' multiobject', ' multipath', ' multipl', ' multiplex', ' multiprocessor', ' multiscal', ' multius', ' multivari', ' murin', ' muscl', ' music', ' mutant', ' mutat', ' mutual', ' myeloma', ' myocardi', ' name', ' nanoparticl', ' narrow', ' nasal', ' nation', ' nativ', ' natur', ' nausea', ' navig', ' nearest', ' necessarili', ' necrosi', ' need', ' negat', ' negoti', ' neighbor', ' neighborhood', ' neisseria', ' neonat', ' nerv', ' nervous', ' net', ' network', ' neural', ' neuro', ' neurolog', ' neuron', ' neutral', ' new', ' newli', ' newton', ' newtonian', ' nitrat', ' nitric', ' nitrogen', ' nnos', ' nobr', ' node', ' nois', ' noisi', ' nonlinear', ' nonparametr', ' norm', ' normal', ' north', ' northern', ' nos', ' notabl', ' note', ' notion', ' nuclear', ' nuclei', ' nucleotid', ' nucleus', ' null', ' number', ' numer', ' nurs', ' nutrient', ' nutrit', ' obes', ' object', ' observ', ' obtain', ' occup', ' occur', ' occurr', ' ocean', ' octob', ' odd', ' ofdm', ' ofdma', ' offer', ' offset', ' offspr', ' oil', ' older', ' ongo', ' onlin', ' onset', ' ontolog', ' open', ' oper', ' opportun', ' opportunist', ' opposit', ' optic', ' optim', ' optimis', ' optimum', ' option', ' oral', ' order', ' ordinari', ' org', ' organ', ' organiz', ' orient', ' origin', ' orthogon', ' oscil', ' out', ' outcom', ' outer', ' outpati', ' outperform', ' output', ' ovarian', ' overcom', ' overexpress', ' overflow', ' overhead', ' overlap', ' overlay', ' overview', ' overweight', ' oxid', ' oxygen', ' p2p', ' p53', ' pacif', ' pack', ' packag', ' packet', ' page', ' pain', ' pair', ' pairwis', ' pancreat', ' panel', ' paper', ' par', ' parabol', ' paradigm', ' parallel', ' paramet', ' parameter', ' parametr', ' parasit', ' parent', ' part', ' parti', ' partial', ' particip', ' particl', ' partit', ' partner', ' pass', ' passiv', ' past', ' patch', ' path', ' pathogen', ' pathogenesi', ' patholog', ' pathway', ' patient', ' pattern', ' pca', ' pcr', ' peak', ' pediatr', ' peer', ' peopl', ' peptid', ' perceiv', ' percent', ' percentag', ' percept', ' perceptu', ' perfect', ' perform', ' period', ' peripher', ' perman', ' permut', ' persist', ' person', ' perspect', ' perturb', ' pervas', ' pet', ' petri', ' pharmacolog', ' phase', ' phenomena', ' phenomenon', ' phenotyp', ' phone', ' phonon', ' phosphat', ' phosphoryl', ' photon', ' phylogenet', ' phys', ' physic', ' physician', ' physiolog', ' pictur', ' piecewis', ' pig', ' pilot', ' pixel', ' place', ' placebo', ' placement', ' plan', ' planar', ' plane', ' plant', ' plasma', ' plasmapheresi', ' plate', ' platelet', ' platform', ' play', ' player', ' plot', ' point', ' poisson', ' polar', ' polarimetr', ' polici', ' polit', ' pollen', ' pollut', ' polym', ' polymeras', ' polymorph', ' polynomi', ' pool', ' poor', ' poplar', ' popul', ' popular', ' populus', ' portfolio', ' portion', ' pose', ' posit', ' possess', ' possibl', ' post', ' posterior', ' postop', ' potent', ' potenti', ' pour', ' power', ' practic', ' practition', ' pre', ' precipit', ' precis', ' precursor', ' predict', ' predictor', ' predomin', ' prefac', ' prefer', ' pregnanc', ' pregnant', ' preliminari', ' prepar', ' prescrib', ' presenc', ' present', ' preserv', ' press', ' pressur', ' preval', ' prevent', ' previous', ' prey', ' price', ' primari', ' primarili', ' princip', ' principl', ' prior', ' priori', ' prioriti', ' privaci', ' privat', ' pro', ' probabilist', ' probabl', ' probe', ' problem', ' procedur', ' process', ' processor', ' produc', ' product', ' profession', ' profil', ' prognosi', ' prognost', ' program', ' programm', ' progress', ' project', ' prolifer', ' prolong', ' promin', ' promis', ' promot', ' prone', ' pronounc', ' proof', ' propag', ' proper', ' properti', ' proport', ' propos', ' prospect', ' prostat', ' protect', ' protein', ' protocol', ' prototyp', ' prove', ' proven', ' provid', ' provis', ' proxim', ' pseudo', ' psychiatr', ' psycholog', ' psychometr', ' psychosoci', ' public', ' publish', ' pulmonari', ' puls', ' pure', ' purifi', ' purpos', ' put', ' putat', ' pylori', ' qol', ' qos', ' qtl', ' quadrat', ' qualit', ' qualiti', ' quantif', ' quantifi', ' quantit', ' quantiti', ' quantiz', ' quantum', ' quasi', ' queri', ' question', ' questionnair', ' queue', ' quick', ' race', ' radar', ' radial', ' radiat', ' radic', ' radio', ' radius', ' rainfal', ' rais', ' raman', ' random', ' rang', ' rank', ' rapid', ' rare', ' rasch', ' rat', ' rate', ' ratio', ' ration', ' raw', ' ray', ' rayleigh', ' reach', ' reaction', ' reactiv', ' read', ' readili', ' real', ' realist', ' realiti', ' realiz', ' reason', ' recal', ' receiv', ' recent', ' receptor', ' recipi', ' recogn', ' recognit', ' recombin', ' recommend', ' reconfigur', ' reconstruct', ' record', ' recov', ' recoveri', ' recruit', ' recurr', ' recurs', ' red', ' reduc', ' reduct', ' redund', ' refer', ' refin', ' reflect', ' regard', ' regim', ' regimen', ' region', ' registr', ' regress', ' regul', ' regular', ' regulatori', ' rehabilit', ' reinforc', ' reject', ' relat', ' relationship', ' relax', ' relay', ' releas', ' relev', ' reli', ' reliabl', ' remain', ' remiss', ' remot', ' remov', ' renal', ' render', ' repair', ' repeat', ' replac', ' replic', ' report', ' repres', ' represent', ' reproduct', ' request', ' requir', ' research', ' resect', ' resid', ' residu', ' resili', ' resist', ' resolut', ' resolv', ' reson', ' resourc', ' respect', ' respir', ' respiratori', ' respond', ' respons', ' rest', ' restor', ' restrict', ' result', ' retent', ' retin', ' retriev', ' retrospect', ' return', ' reus', ' reveal', ' revers', ' review', ' revisit', ' rewrit', ' rfid', ' rice', ' rich', ' right', ' rigid', ' ring', ' rise', ' risk', ' river', ' rna', ' road', ' robot', ' robust', ' role', ' room', ' root', ' ros', ' rotat', ' rough', ' round', ' rout', ' routin', ' rule', ' run', ' runtim', ' rural', ' safe', ' safeti', ' sage', ' salin', ' salt', ' sampl', ' sar', ' satellit', ' satisfact', ' satisfactori', ' satisfi', ' satur', ' savanna', ' scalabl', ' scalar', ' scale', ' scan', ' scatter', ' scenario', ' scene', ' schedul', ' schema', ' scheme', ' schizophrenia', ' school', ' sci', ' scienc', ' scientif', ' scope', ' score', ' screen', ' script', ' sea', ' search', ' season', ' secondari', ' secret', ' section', ' sector', ' secur', ' sediment', ' seed', ' seedl', ' seek', ' segment', ' select', ' semant', ' semi', ' semiconductor', ' sens', ' sensit', ' sensor', ' sensori', ' separ', ' septemb', ' sequenc', ' sequenti', ' seri', ' serial', ' serum', ' serv', ' server', ' servic', ' session', ' set', ' setup', ' sever', ' sex', ' sexual', ' shallow', ' shape', ' share', ' shear', ' shell', ' shift', ' shock', ' shop', ' short', ' shorter', ' shortest', ' show', ' shown', ' side', ' sigma', ' sign', ' signal', ' signatur', ' signific', ' silicon', ' similar', ' simpl', ' simpli', ' simplifi', ' simul', ' simultan', ' singapor', ' singl', ' singular', ' site', ' situ', ' situat', ' size', ' skill', ' skin', ' sleep', ' slide', ' slight', ' slope', ' slow', ' small', ' smaller', ' smart', ' smoke', ' smoker', ' smooth', ' snp', ' snps', ' snr', ' soc', ' social', ' societi', ' socio', ' socioeconom', ' sodium', ' soft', ' softwar', ' soil', ' solar', ' solid', ' solubl', ' solut', ' solv', ' solvent', ' solver', ' sort', ' sought', ' sound', ' sourc', ' south', ' southern', ' space', ' span', ' spanish', ' spars', ' spatial', ' spatio', ' speaker', ' speci', ' special', ' specif', ' specimen', ' spectra', ' spectral', ' spectrometri', ' spectroscopi', ' spectrum', ' speech', ' speed', ' sperm', ' sphere', ' spheric', ' spin', ' spinal', ' spline', ' split', ' spontan', ' spp', ' spread', ' spring', ' squar', ' sst', ' stabil', ' stabl', ' staff', ' stage', ' stain', ' stand', ' standard', ' start', ' state', ' static', ' station', ' stationari', ' statist', ' status', ' stay', ' steadi', ' steiner', ' stem', ' step', ' stereo', ' stigma', ' stimul', ' stimuli', ' stimulus', ' stochast', ' stock', ' stoke', ' stone', ' storag', ' store', ' strain', ' strateg', ' strategi', ' stream', ' strength', ' stress', ' string', ' stroke', ' strong', ' stronger', ' structur', ' student', ' studi', ' style', ' subgroup', ' subject', ' subsequ', ' subset', ' subspac', ' substanc', ' substanti', ' substitut', ' substrat', ' subtyp', ' subunit', ' success', ' suffer', ' suffici', ' suggest', ' suit', ' suitabl', ' sum', ' summari', ' summer', ' super', ' superior', ' supervis', ' supplement', ' suppli', ' support', ' suppress', ' sur', ' surfac', ' surgeri', ' surgic', ' surpris', ' surround', ' surveil', ' survey', ' surviv', ' survivor', ' suscept', ' sustain', ' svm', ' swarm', ' switch', ' symbol', ' symmetr', ' symmetri', ' symptom', ' synchron', ' syndrom', ' synthas', ' synthes', ' synthesi', ' synthet', ' system', ' systemat', ' systol', ' tabindex', ' tabl', ' tactil', ' tag', ' take', ' tanzania', ' target', ' task', ' taxa', ' tcp', ' teach', ' teacher', ' team', ' technic', ' techniqu', ' technolog', ' temperatur', ' templat', ' tempor', ' ten', ' tend', ' tendenc', ' tension', ' tensor', ' term', ' termin', ' terrain', ' terrestri', ' test', ' testosteron', ' tetracyclin', ' tex', ' texatom', ' text', ' textur', ' tgf', ' theme', ' theorem', ' theoret', ' theori', ' therapeut', ' therapi', ' thermal', ' thermodynam', ' thick', ' thin', ' think', ' thirti', ' thought', ' thread', ' threat', ' threshold', ' throughput', ' tight', ' tillag', ' time', ' tissu', ' tnf', ' tobacco', ' today', ' toler', ' tomographi', ' tool', ' top', ' topic', ' topolog', ' total', ' toxic', ' toxin', ' trace', ' track', ' tract', ' trade', ' tradit', ' traffic', ' train', ' trait', ' trajectori', ' tran', ' transact', ' transcript', ' transcriptom', ' transfer', ' transform', ' transgen', ' transient', ' transit', ' translat', ' transloc', ' transmiss', ' transmit', ' transplant', ' transport', ' trap', ' travel', ' treat', ' treatment', ' tree', ' trend', ' trial', ' triangular', ' tripl', ' tropic', ' true', ' trust', ' truth', ' tube', ' tuberculosi', ' tumor', ' tumour', ' tune', ' turbo', ' turn', ' twenti', ' type', ' typic', ' ubackground', ' ubiquit', ' ubiquitin', ' uin', ' ultim', ' ultra', ' ultrasound', ' uml', ' uncertain', ' uncertainti', ' unclear', ' und', ' under', ' undergo', ' understand', ' understood', ' undertaken', ' underw', ' underwat', ' une', ' unifi', ' uniform', ' uniqu', ' unit', ' univers', ' unknown', ' unlik', ' unstabl', ' unstructur', ' unsupervis', ' untreat', ' uon', ' updat', ' uplink', ' upper', ' uptak', ' urban', ' urin', ' urinari', ' usa', ' usabl', ' usag', ' use', ' user', ' usual', ' uth', ' uthi', ' util', ' uw', ' uwb', ' vaccin', ' valenc', ' valid', ' valu', ' valuabl', ' vari', ' variabl', ' varianc', ' variant', ' variat', ' varieti', ' vascular', ' vector', ' veget', ' vegf', ' vehicl', ' vehicular', ' veloc', ' venous', ' ventricular', ' verif', ' verifi', ' version', ' versus', ' vertex', ' vertic', ' vessel', ' viabil', ' viabl', ' vibrat', ' video', ' view', ' violenc', ' viral', ' virtual', ' virul', ' virus', ' viscos', ' visibl', ' vision', ' visit', ' visual', ' vital', ' vitamin', ' vitro', ' vivo', ' vlsi', ' voic', ' voltag', ' volum', ' vomit', ' von', ' vote', ' vulner', ' walk', ' wall', ' war', ' warm', ' water', ' watermark', ' wave', ' wavelength', ' wavelet', ' way', ' wdm', ' weak', ' weather', ' web', ' week', ' weight', ' west', ' western', ' wet', ' wheat', ' white', ' wide', ' wideband', ' wider', ' widespread', ' width', ' wild', ' wiley', ' wind', ' window', ' winter', ' wireless', ' wlan', ' woman', ' women', ' wood', ' word', ' work', ' worker', ' workflow', ' workload', ' workshop', ' world', ' worldwid', ' worst', ' write', ' written', ' xml', ' year', ' yeast', ' yield', ' young', ' younger', ' youth', ' zinc', ' zone', ' zur', 'abdomin']\n"
     ]
    }
   ],
   "source": [
    "print final"
   ]
  },
  {
   "cell_type": "code",
   "execution_count": 411,
   "metadata": {
    "collapsed": false
   },
   "outputs": [
    {
     "data": {
      "text/plain": [
       "2593"
      ]
     },
     "execution_count": 411,
     "metadata": {},
     "output_type": "execute_result"
    }
   ],
   "source": [
    "len(final)"
   ]
  },
  {
   "cell_type": "code",
   "execution_count": null,
   "metadata": {
    "collapsed": true
   },
   "outputs": [],
   "source": [
    "db = pymysql.connect(host='218.150.181.120',port=33060,user='root',passwd='1234#link',db='papercrawler',charset='utf8', use_unicode=True)\n",
    "cursor = db.cursor()\n",
    "sql1 = \"SELECT title FROM papercrawler.manuscript where year >= 1936 and year <= 1945\"\n",
    "sql2 = \"\"\"SELECT abstractPaper from papercrawler.abstractManuscript where manuscriptId in (SELECT id FROM papercrawler.manuscript where year >= 1936 and year <= 1945)\"\"\"\n",
    "cursor.execute(sql1)\n",
    "\n",
    "result=cursor.fetchall()"
   ]
  }
 ],
 "metadata": {
  "kernelspec": {
   "display_name": "Python 2",
   "language": "python",
   "name": "python2"
  },
  "language_info": {
   "codemirror_mode": {
    "name": "ipython",
    "version": 2
   },
   "file_extension": ".py",
   "mimetype": "text/x-python",
   "name": "python",
   "nbconvert_exporter": "python",
   "pygments_lexer": "ipython2",
   "version": "2.7.9"
  }
 },
 "nbformat": 4,
 "nbformat_minor": 0
}
