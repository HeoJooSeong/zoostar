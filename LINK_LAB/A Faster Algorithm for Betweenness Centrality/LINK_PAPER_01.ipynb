{
 "cells": [
  {
   "cell_type": "markdown",
   "metadata": {},
   "source": [
    "#A Faster Algorithm for Betweenness Centrality"
   ]
  },
  {
   "cell_type": "markdown",
   "metadata": {},
   "source": [
    ">The betweenness centrality index is essential in the analysis of social networks, but costly to compute.  \n",
    "꼭 필요하지만 계산이 어려움.  \n",
    "Currently, the fastest known algorithms require Θ(\\\\({n}^{3}\\\\)) time and Θ(\\\\({n}^{2}\\\\)) space, where n is the number of actors in the network.   \n",
    "Motivated by the fast-growing need to compute centrality indices on large, yet very sparse, networks, new algorithms for betweenness are introduced in this paper."
   ]
  },
  {
   "cell_type": "markdown",
   "metadata": {},
   "source": [
    "##1. Introduction"
   ]
  },
  {
   "cell_type": "markdown",
   "metadata": {},
   "source": [
    "- In social network analysis, graph-theoretic concepts are used to understand and explain social phenomena.  \n",
    "사회 현상을 이해하고 설명하는데 이용된다.  \n",
    "- An essential tool for the analysis of social networks are centrality indices defined on the vertices of the graph   \n",
    "그래프 점들의 중심도 지수는 소셜 네트워크 분석에 필수적이다.  \n",
    "- Many centrality indices are based on shortest paths linking pairs of actors, measuring, e.g., the average distance from other actors, or the ratio of shortest paths an actor lies on.  \n",
    "많은 중심도 지수가 최단거리에 기반을 두고 있다.  \n",
    "- With the increasing practicality of electronic data collection and, of course, the advent of the Web, there is a likewise increasing demand for the computation of centrality indices on networks with thousands of actors.  \n",
    "웹의 시대, 전자 정보 수집의 증가 등으로 중심도 지수는 수천개의 요소들의 계산이 필요하다.  \n",
    "- **However, there is an Ω(n3) bottleneck in existing implementations, due to the particularly important betweenness centrality index**  \n",
    "그러나 betweenness 지수는 오래 걸린다.  \n",
    "-  network analysts are now suggesting simpler indices, for instance based only on linkages between the neighbors of each actors to at least obtain rough approximations of betweenness centrality.  \n",
    "- **In this paper, we show that betweenness can be computed exactly even for fairly large networks.**  \n",
    "- We introduce more efficient algorithms based on a new accumulation technique that integrates well with traversal algorithms solving the single-source shortest-paths problem, and thus exploiting the sparsity of typical instances.  \n",
    "- **it turns out that all standard centrality indices based on shortest paths can thus be evaluated simultaneously, further reducing both the time and space requirements of comparative analyses.**  \n",
    "- In Section 2  The centrality indices relevant here are defined.\n",
    "- In Section 3, we review methods computing all shortest paths between all pairs of actors in a network."
   ]
  },
  {
   "cell_type": "markdown",
   "metadata": {},
   "source": [
    "##2. Centrality Indices Based on Shortest Paths"
   ]
  },
  {
   "cell_type": "markdown",
   "metadata": {},
   "source": [
    "1. graph G = (V, E), where the set V of vertices represents actors, and the set E of edges repre- sents links between actors  \n",
    "2. Let ω be a weight function on the edges.  \n",
    "  - ω(e) > 0, e ∈ E, for weighted graphs, and define ω(e) = 1, e ∈ E, for unweighted graphs.  \n",
    "3. Define a path from s ∈ V to t ∈ V as an alternating sequence of vertices and edges  \n",
    "  - The length of a path is the sum of the weights of its edges.  \n",
    "4. We use dG(s,t) to denote the distance between vertices s and t, i.e. the minimum length of any path connecting s and t in G\n",
    "  - By definition, \\\\({d}_{G}(s,s) = 0\\\\) for every \\\\(s ∈ V\\\\), and \\\\(d_G(s,t) = d_G(t,s)\\\\) for \\\\(s, t ∈ V\\\\) \n",
    "5. Let \\\\(σ_{st}(v)\\\\) denote the number of shortest paths from s to t that some v ∈ V lies on.  "
   ]
  },
  {
   "cell_type": "markdown",
   "metadata": {},
   "source": [
    "---------------------"
   ]
  },
  {
   "cell_type": "markdown",
   "metadata": {},
   "source": [
    "\\\\(m = \\frac{m_0}{\\sqrt{1-\\frac{v^2}{c^2}}}\\\\)"
   ]
  },
  {
   "cell_type": "code",
   "execution_count": 1,
   "metadata": {
    "collapsed": false
   },
   "outputs": [],
   "source": [
    "import networkx\n",
    "#import matplotlib\n",
    "import operator"
   ]
  },
  {
   "cell_type": "code",
   "execution_count": 2,
   "metadata": {
    "collapsed": false
   },
   "outputs": [],
   "source": [
    "def printGraph(G):\n",
    "    print \"Number of Nodes : \", networkx.number_of_nodes(G)\n",
    "    print \"Number of Edges : \", networkx.number_of_edges(G)\n",
    "    degreelist = list(G.degree().values())\n",
    "    print \"Avg. Node Degree : \", float(sum(degreelist))/networkx.number_of_nodes(G)\n",
    "    print \"Avg. Path Length : \", networkx.average_shortest_path_length(G,weight=None)\n",
    "    print \"Avg. Clustering Cofficient : \", networkx.average_clustering(G)"
   ]
  },
  {
   "cell_type": "code",
   "execution_count": 12,
   "metadata": {
    "collapsed": false
   },
   "outputs": [],
   "source": [
    "G = networkx.Graph()\n",
    "%matplotlib inline"
   ]
  },
  {
   "cell_type": "code",
   "execution_count": 13,
   "metadata": {
    "collapsed": true
   },
   "outputs": [],
   "source": [
    "G.add_nodes_from(['A','B','C','D','E','F','G','H','I','J','K','L','M','N'])\n",
    "G.add_edges_from([('A','G'),('A','B'),('A','D'),('K','A'),('F','E'),('I','C'),('A','H'),('C','E'),('B','H'),('A','F'),('N','B'),('F','J'),('J','L'),('D','N'),('M','N'),('C','K')])\n",
    "degree=networkx.degree(G).values()"
   ]
  },
  {
   "cell_type": "code",
   "execution_count": 14,
   "metadata": {
    "collapsed": false
   },
   "outputs": [
    {
     "data": {
      "image/png": "[encoded data removed]",
      "text/plain": [
       "<matplotlib.figure.Figure at 0x10c2260d0>"
      ]
     },
     "metadata": {},
     "output_type": "display_data"
    }
   ],
   "source": [
    "networkx.draw(G, node_size=[v*200 for v in degree],with_labels=True)"
   ]
  },
  {
   "cell_type": "code",
   "execution_count": 15,
   "metadata": {
    "collapsed": false
   },
   "outputs": [
    {
     "name": "stdout",
     "output_type": "stream",
     "text": [
      "Number of Nodes :  14\n",
      "Number of Edges :  16\n",
      "Avg. Node Degree :  2.28571428571\n",
      "Avg. Path Length :  2.73626373626\n",
      "Avg. Clustering Cofficient :  0.1\n"
     ]
    }
   ],
   "source": [
    "printGraph(G)"
   ]
  },
  {
   "cell_type": "code",
   "execution_count": 16,
   "metadata": {
    "collapsed": false
   },
   "outputs": [
    {
     "name": "stdout",
     "output_type": "stream",
     "text": [
      "{'A': 6, 'C': 3, 'B': 3, 'E': 2, 'D': 2, 'G': 1, 'F': 3, 'I': 1, 'H': 2, 'K': 2, 'J': 2, 'M': 1, 'L': 1, 'N': 3}\n"
     ]
    }
   ],
   "source": [
    "print G.degree()"
   ]
  },
  {
   "cell_type": "markdown",
   "metadata": {},
   "source": [
    "- ###closeness centrality    "
   ]
  },
  {
   "cell_type": "markdown",
   "metadata": {},
   "source": [
    " > A central node should reach the remaining nodes more quickly than a non-central node.  \n",
    " Closeness centrality measure how close a node is to all the other nodes."
   ]
  },
  {
   "cell_type": "markdown",
   "metadata": {},
   "source": [
    "![closeness](http://218.150.181.120/resources/closeness.png)"
   ]
  },
  {
   "cell_type": "code",
   "execution_count": 17,
   "metadata": {
    "collapsed": false
   },
   "outputs": [
    {
     "name": "stdout",
     "output_type": "stream",
     "text": [
      "----- Closeness Centrality\n",
      "\n",
      "A  :  0.565217391304\n",
      "F  :  0.481481481481\n",
      "B  :  0.433333333333\n",
      "K  :  0.433333333333\n",
      "D  :  0.41935483871\n",
      "H  :  0.40625\n",
      "E  :  0.382352941176\n",
      "C  :  0.371428571429\n",
      "G  :  0.371428571429\n",
      "J  :  0.351351351351\n",
      "N  :  0.342105263158\n",
      "I  :  0.276595744681\n",
      "L  :  0.265306122449\n",
      "M  :  0.26\n"
     ]
    }
   ],
   "source": [
    "print \"----- Closeness Centrality\"\n",
    "print\n",
    "Close = networkx.closeness_centrality(G)\n",
    "sorted_list = sorted(Close.iteritems(),key=operator.itemgetter(1),reverse=True)\n",
    "for s in sorted_list:\n",
    "    print s[0],\" : \", s[1]"
   ]
  },
  {
   "cell_type": "markdown",
   "metadata": {},
   "source": [
    "- ### graph centrality"
   ]
  },
  {
   "cell_type": "markdown",
   "metadata": {},
   "source": [
    ">Graph centrality is defined as the distance to the farthest vertex from the vertex in question  \n",
    "(임의의 정점 하나로부터 가장 멀리 있는 정점과의 거리로 정의)"
   ]
  },
  {
   "cell_type": "markdown",
   "metadata": {},
   "source": [
    "![closeness](http://218.150.181.120/resources/graph.png)"
   ]
  },
  {
   "cell_type": "code",
   "execution_count": 18,
   "metadata": {
    "collapsed": true
   },
   "outputs": [],
   "source": [
    "def graph_centrality(G):\n",
    "    pass"
   ]
  },
  {
   "cell_type": "markdown",
   "metadata": {},
   "source": [
    "- ### stress centrality"
   ]
  },
  {
   "cell_type": "markdown",
   "metadata": {},
   "source": [
    ">The stress centrality of a node n is the number of shortest paths passing through n. "
   ]
  },
  {
   "cell_type": "markdown",
   "metadata": {},
   "source": [
    "![closeness](http://218.150.181.120/resources/stress.png)"
   ]
  },
  {
   "cell_type": "markdown",
   "metadata": {},
   "source": [
    "- ### betweenness centrality"
   ]
  },
  {
   "cell_type": "markdown",
   "metadata": {},
   "source": [
    "![closeness](http://218.150.181.120/resources/betweennes.png)"
   ]
  },
  {
   "cell_type": "code",
   "execution_count": 19,
   "metadata": {
    "collapsed": false
   },
   "outputs": [
    {
     "name": "stdout",
     "output_type": "stream",
     "text": [
      "----- Betweenness Centrality\n",
      "\n",
      "A  :  0.660256410256\n",
      "F  :  0.371794871795\n",
      "K  :  0.179487179487\n",
      "C  :  0.166666666667\n",
      "N  :  0.160256410256\n",
      "J  :  0.153846153846\n",
      "B  :  0.141025641026\n",
      "D  :  0.115384615385\n",
      "E  :  0.0769230769231\n",
      "G  :  0.0\n",
      "I  :  0.0\n",
      "H  :  0.0\n",
      "M  :  0.0\n",
      "L  :  0.0\n"
     ]
    }
   ],
   "source": [
    "print \"----- Betweenness Centrality\"\n",
    "print\n",
    "Close = networkx.betweenness_centrality(G)\n",
    "sorted_list = sorted(Close.iteritems(),key=operator.itemgetter(1),reverse=True)\n",
    "for s in sorted_list:\n",
    "    print s[0],\" : \", s[1]"
   ]
  },
  {
   "cell_type": "code",
   "execution_count": 20,
   "metadata": {
    "collapsed": false
   },
   "outputs": [
    {
     "name": "stdout",
     "output_type": "stream",
     "text": [
      "----- Degree Centrality\n",
      "\n",
      "A  :  0.461538461538\n",
      "C  :  0.230769230769\n",
      "B  :  0.230769230769\n",
      "F  :  0.230769230769\n",
      "N  :  0.230769230769\n",
      "E  :  0.153846153846\n",
      "D  :  0.153846153846\n",
      "H  :  0.153846153846\n",
      "K  :  0.153846153846\n",
      "J  :  0.153846153846\n",
      "G  :  0.0769230769231\n",
      "I  :  0.0769230769231\n",
      "M  :  0.0769230769231\n",
      "L  :  0.0769230769231\n"
     ]
    }
   ],
   "source": [
    "print \"----- Degree Centrality\"\n",
    "print\n",
    "Close = networkx.degree_centrality(G)\n",
    "sorted_list = sorted(Close.iteritems(),key=operator.itemgetter(1),reverse=True)\n",
    "for s in sorted_list:\n",
    "    print s[0],\" : \", s[1]"
   ]
  },
  {
   "cell_type": "markdown",
   "metadata": {},
   "source": [
    "-----"
   ]
  },
  {
   "cell_type": "markdown",
   "metadata": {},
   "source": [
    "High centrality scores thus indicate that a vertex can reach others on relatively short paths, or that a vertex lies on considerable fractions of shortest paths connecting others"
   ]
  },
  {
   "cell_type": "markdown",
   "metadata": {
    "collapsed": true
   },
   "source": [
    "##Lemma 1 (Bellman criterion)"
   ]
  },
  {
   "cell_type": "markdown",
   "metadata": {},
   "source": [
    "#A vertex v ∈ V lies on a shortest path between vertices s, t ∈ V , if and only if \\\\({d}_{G}\\\\)(s, t) =dG(s, v) + dG(v, t)."
   ]
  },
  {
   "cell_type": "markdown",
   "metadata": {},
   "source": [
    "![lemma1](http://218.150.181.120/resources/lemma1.png)"
   ]
  },
  {
   "cell_type": "markdown",
   "metadata": {},
   "source": [
    "Therefore, betweenness centrality is traditionally determined in two steps:\n",
    "1. compute the length and number of shortest paths between all pairs\n",
    "2. sum all pair-dependencies"
   ]
  },
  {
   "cell_type": "markdown",
   "metadata": {},
   "source": [
    "** pair- dependency is defined as the dependency of a single vertex on another one**"
   ]
  },
  {
   "cell_type": "markdown",
   "metadata": {},
   "source": [
    "------"
   ]
  },
  {
   "cell_type": "markdown",
   "metadata": {},
   "source": [
    "##3. Counting the Number of Shortest Paths"
   ]
  },
  {
   "cell_type": "markdown",
   "metadata": {},
   "source": [
    "The two implementations most widely used to compute betweenness are UCINET and SNAPS."
   ]
  },
  {
   "cell_type": "markdown",
   "metadata": {},
   "source": [
    "![closeness](http://218.150.181.120/resources/UNINET.png)"
   ]
  },
  {
   "cell_type": "markdown",
   "metadata": {},
   "source": [
    "![closeness](http://218.150.181.120/resources/snap.png)"
   ]
  },
  {
   "cell_type": "markdown",
   "metadata": {},
   "source": [
    "![closeness](http://218.150.181.120/resources/gephi.png)"
   ]
  },
  {
   "cell_type": "markdown",
   "metadata": {},
   "source": [
    "##Lemma 2 (Algebraic path counting)"
   ]
  },
  {
   "cell_type": "markdown",
   "metadata": {},
   "source": [
    "- Let Ak = (a(k)) be the k-th uv u,v∈V  \n",
    "- power of the adjacency matrix of an unweighted graph. Then a(k) equals the uv  \n",
    "- number of paths from u to v of length exactly k.  \n",
    "**인접행렬 특징. 인접행렬의 거듭제곱은 거듭제곱 개수만큼의 거리 갯수, 제곱의 대각선은 각 노드의 차수**"
   ]
  },
  {
   "cell_type": "code",
   "execution_count": 21,
   "metadata": {
    "collapsed": false
   },
   "outputs": [
    {
     "name": "stdout",
     "output_type": "stream",
     "text": [
      "[[ 0.  0.  1.  0.  1.  1.  1.  0.  1.  1.  0.  0.  0.  0.]\n",
      " [ 0.  0.  0.  1.  0.  0.  0.  1.  0.  1.  0.  0.  0.  0.]\n",
      " [ 1.  0.  0.  0.  0.  0.  0.  0.  1.  0.  0.  0.  0.  1.]\n",
      " [ 0.  1.  0.  0.  0.  0.  1.  0.  0.  0.  0.  0.  0.  0.]\n",
      " [ 1.  0.  0.  0.  0.  0.  0.  0.  0.  0.  0.  0.  0.  1.]\n",
      " [ 1.  0.  0.  0.  0.  0.  0.  0.  0.  0.  0.  0.  0.  0.]\n",
      " [ 1.  0.  0.  1.  0.  0.  0.  0.  0.  0.  1.  0.  0.  0.]\n",
      " [ 0.  1.  0.  0.  0.  0.  0.  0.  0.  0.  0.  0.  0.  0.]\n",
      " [ 1.  0.  1.  0.  0.  0.  0.  0.  0.  0.  0.  0.  0.  0.]\n",
      " [ 1.  1.  0.  0.  0.  0.  0.  0.  0.  0.  0.  0.  0.  0.]\n",
      " [ 0.  0.  0.  0.  0.  0.  1.  0.  0.  0.  0.  0.  1.  0.]\n",
      " [ 0.  0.  0.  0.  0.  0.  0.  0.  0.  0.  0.  0.  0.  1.]\n",
      " [ 0.  0.  0.  0.  0.  0.  0.  0.  0.  0.  1.  0.  0.  0.]\n",
      " [ 0.  0.  1.  0.  1.  0.  0.  0.  0.  0.  0.  1.  0.  0.]]\n"
     ]
    }
   ],
   "source": [
    "adj= networkx.to_numpy_matrix(G)\n",
    "print adj"
   ]
  },
  {
   "cell_type": "code",
   "execution_count": 22,
   "metadata": {
    "collapsed": false
   },
   "outputs": [
    {
     "name": "stdout",
     "output_type": "stream",
     "text": [
      "{'A': 6, 'C': 3, 'B': 3, 'E': 2, 'D': 2, 'G': 1, 'F': 3, 'I': 1, 'H': 2, 'K': 2, 'J': 2, 'M': 1, 'L': 1, 'N': 3}\n",
      "[[ 6.  1.  1.  1.  0.  0.  0.  0.  1.  0.  1.  0.  0.  2.]\n",
      " [ 1.  3.  0.  0.  0.  0.  1.  0.  0.  0.  0.  0.  0.  0.]\n",
      " [ 1.  0.  3.  0.  2.  1.  1.  0.  1.  1.  0.  1.  0.  0.]\n",
      " [ 1.  0.  0.  2.  0.  0.  0.  1.  0.  1.  1.  0.  0.  0.]\n",
      " [ 0.  0.  2.  0.  2.  1.  1.  0.  1.  1.  0.  1.  0.  0.]\n",
      " [ 0.  0.  1.  0.  1.  1.  1.  0.  1.  1.  0.  0.  0.  0.]\n",
      " [ 0.  1.  1.  0.  1.  1.  3.  0.  1.  1.  0.  0.  1.  0.]\n",
      " [ 0.  0.  0.  1.  0.  0.  0.  1.  0.  1.  0.  0.  0.  0.]\n",
      " [ 1.  0.  1.  0.  1.  1.  1.  0.  2.  1.  0.  0.  0.  1.]\n",
      " [ 0.  0.  1.  1.  1.  1.  1.  1.  1.  2.  0.  0.  0.  0.]\n",
      " [ 1.  0.  0.  1.  0.  0.  0.  0.  0.  0.  2.  0.  0.  0.]\n",
      " [ 0.  0.  1.  0.  1.  0.  0.  0.  0.  0.  0.  1.  0.  0.]\n",
      " [ 0.  0.  0.  0.  0.  0.  1.  0.  0.  0.  0.  0.  1.  0.]\n",
      " [ 2.  0.  0.  0.  0.  0.  0.  0.  1.  0.  0.  0.  0.  3.]]\n"
     ]
    }
   ],
   "source": [
    "print G.degree()\n",
    "adj_2=adj **2\n",
    "print adj_2"
   ]
  },
  {
   "cell_type": "code",
   "execution_count": 23,
   "metadata": {
    "collapsed": false
   },
   "outputs": [
    {
     "data": {
      "image/png": "[encoded data removed]",
      "text/plain": [
       "<matplotlib.figure.Figure at 0x10c717990>"
      ]
     },
     "metadata": {},
     "output_type": "display_data"
    }
   ],
   "source": [
    "networkx.draw(G, node_size=[v*200 for v in degree],with_labels=True)"
   ]
  },
  {
   "cell_type": "markdown",
   "metadata": {},
   "source": [
    "- ###Clearly, algebraic path counting computes more information than needed.  \n",
    "- Instead of the number of paths of length shorter than the diameter of the network, we are only interested in the number of shortest paths between each pair of vertices."
   ]
  },
  {
   "cell_type": "code",
   "execution_count": 24,
   "metadata": {
    "collapsed": false
   },
   "outputs": [
    {
     "data": {
      "text/plain": [
       "6"
      ]
     },
     "execution_count": 24,
     "metadata": {},
     "output_type": "execute_result"
    }
   ],
   "source": [
    "networkx.diameter(G)"
   ]
  },
  {
   "cell_type": "markdown",
   "metadata": {},
   "source": [
    "---"
   ]
  },
  {
   "cell_type": "markdown",
   "metadata": {},
   "source": [
    "To exploit the sparsity of typical instances, we count shortest paths using traversal algorithms.(희소그래프)   \n",
    "Both breadth-first search (BFS) for unweighted and Dijkstra’s algorithm for weighted graphs start with a specified source s ∈ V and, at each step, add a closest vertex the set of already discovered vertices in order to find shortest paths from the source to all other vertices"
   ]
  },
  {
   "cell_type": "markdown",
   "metadata": {},
   "source": [
    "- ## breadth-first search  \n",
    "![img](http://cfile8.uf.tistory.com/image/26072E5051A6F9A2339C0F)  \n",
    "그래프의 크기에 비례하는 공간, 시간 복잡도를 가진다."
   ]
  },
  {
   "cell_type": "markdown",
   "metadata": {},
   "source": [
    "- [Step 1]  \n",
    "\n",
    "| queue |\n",
    "| :------: | \n",
    "|   | \n",
    "|   | \n",
    "|   | \n",
    "|   |\n",
    "|   |  \n",
    "| a |"
   ]
  },
  {
   "cell_type": "markdown",
   "metadata": {},
   "source": [
    "- [Step 2]  \n",
    "\n",
    "| queue |\n",
    "| :------: | \n",
    "|   | \n",
    "|   | \n",
    "|   | \n",
    "|   |\n",
    "| c |  \n",
    "| b |  \n",
    "                                                        A"
   ]
  },
  {
   "cell_type": "markdown",
   "metadata": {},
   "source": [
    "- [Step 3]  \n",
    "\n",
    "| queue |\n",
    "| :------: | \n",
    "|   | \n",
    "|   | \n",
    "|   | \n",
    "| e |\n",
    "| d |  \n",
    "| c |  \n",
    "                                                        AB"
   ]
  },
  {
   "cell_type": "markdown",
   "metadata": {},
   "source": [
    "----"
   ]
  },
  {
   "cell_type": "markdown",
   "metadata": {},
   "source": [
    "- ##Dijkstra’s algorithm  \n",
    "![img](http://tech-algorithm.com/uploads/dgraph01.png)"
   ]
  },
  {
   "cell_type": "markdown",
   "metadata": {},
   "source": [
    "- [Step 1]  \n",
    "\n",
    "|  | Parent | Distance |\n",
    "| :------: | :---: | :---------: |\n",
    "| a  | a | - |\n",
    "| b  | a | 1 |\n",
    "| c  | a | ∞ |\n",
    "| d  | a | ∞ |\n",
    "| e  | a | 2 |\n",
    "| f  | a | 1 |\n",
    "| g  | a | ∞ |\n",
    "| h  | a | ∞ |"
   ]
  },
  {
   "cell_type": "markdown",
   "metadata": {},
   "source": [
    "- [Step 2]  \n",
    "\n",
    "|  | Parent | Distance |\n",
    "| :------: | :---: | :---------: |\n",
    "| a  | a | - |\n",
    "| b  | a | 1 |\n",
    "| c  | **b** | 3 |\n",
    "| d  | **e** | 3 |\n",
    "| e  | a | 2 |\n",
    "| f  | a | 1 |\n",
    "| g  | **b** | 2 |\n",
    "| h  | a | ∞ |"
   ]
  },
  {
   "cell_type": "markdown",
   "metadata": {},
   "source": [
    "---"
   ]
  },
  {
   "cell_type": "markdown",
   "metadata": {},
   "source": [
    "Define the set of predecessors of a vertex v on shortest paths from s as"
   ]
  },
  {
   "cell_type": "markdown",
   "metadata": {},
   "source": [
    "![closeness](http://218.150.181.120/resources/lemma2.png)"
   ]
  },
  {
   "cell_type": "markdown",
   "metadata": {},
   "source": [
    "----"
   ]
  },
  {
   "cell_type": "markdown",
   "metadata": {},
   "source": [
    "## Lemma 3 (Combinatorial shortest-path counting) For s≠ v ∈ V"
   ]
  },
  {
   "cell_type": "markdown",
   "metadata": {},
   "source": [
    "![closeness](http://218.150.181.120/resources/lemma3.png)"
   ]
  },
  {
   "cell_type": "markdown",
   "metadata": {},
   "source": [
    "##Proof"
   ]
  },
  {
   "cell_type": "markdown",
   "metadata": {},
   "source": [
    "- Since all edge weights are positive, the last edge of any shortest path from s to v is an edge {u,v} ∈ E such that dG(s,u) < dG(s,v).  \n",
    "- Clearly, the number of shortest paths from s to v ending with this edge equals the number of shortest paths from s to u.  \n",
    "- Lemma 1"
   ]
  },
  {
   "cell_type": "markdown",
   "metadata": {},
   "source": [
    "![closeness](http://218.150.181.120/resources/corollary4.png)"
   ]
  },
  {
   "cell_type": "markdown",
   "metadata": {},
   "source": [
    "Consequently, \\\\({σ}_{st}\\\\), s,t ∈ V, can be computed in time O(nm) for un- weighted and in time O(nm + n2 log n) for weighted graphs."
   ]
  },
  {
   "cell_type": "markdown",
   "metadata": {},
   "source": [
    "###In the next section we show how to reduce these complexities substantially by accumulating partial sums of pair-dependencies."
   ]
  },
  {
   "cell_type": "markdown",
   "metadata": {},
   "source": [
    "# ------END------"
   ]
  },
  {
   "cell_type": "markdown",
   "metadata": {},
   "source": [
    "-----"
   ]
  },
  {
   "cell_type": "markdown",
   "metadata": {},
   "source": [
    "#4. Accumulation of Pair-Dependencies"
   ]
  },
  {
   "cell_type": "markdown",
   "metadata": {},
   "source": [
    "1. Betweenness는 네트워크가 커지면 계산이 상당히 복잡해지는 단점이 있음.\n",
    "2. Brandes가 특정(희소그래프) 상황에서 빠른 알고리즘을 제안함.\n",
    "3. Betweenness를 구하려면 크게 두가지 계산이 필요한데, 그 중 첫 번째는 모든 점들 사이의 최단경로와 개수를 계산해야함.\n",
    "4. 본 장에서는 비가중치그래프에서 너비우선탐색 기법을 활용하여 최단경로와 개수를 구했음.\n",
    "\n",
    "**오늘은 두 번째로 모든 Pair-Dependencies를 계산하는 것에 대해 알아 봄( Pair-Dependencies = 임의의 점 v를 지나는 최단 경로 개수 / 모든 최단 경로 개수)**"
   ]
  },
  {
   "cell_type": "markdown",
   "metadata": {},
   "source": [
    "너비 우선 탐색에서 \\\\(P_s(v)\\\\)를 사용하는 것 잊지 말기"
   ]
  },
  {
   "cell_type": "markdown",
   "metadata": {},
   "source": [
    "![closeness](http://218.150.181.120/resources/lemma2.png)"
   ]
  },
  {
   "cell_type": "markdown",
   "metadata": {},
   "source": [
    "To eliminate the need for explicit summation of all pair-dependencies,   \n",
    "we introduce first the notion of the dependency of a vertex s ∈ V on a single vertex v ∈ V , defined as"
   ]
  },
  {
   "cell_type": "markdown",
   "metadata": {},
   "source": [
    "The crucial observation is that these partial sums obey a recursive relation."
   ]
  },
  {
   "cell_type": "markdown",
   "metadata": {},
   "source": [
    "![4.1](https://github.com/HeoJooSeong/zoostar/blob/master/LINK_LAB/A%20Faster%20Algorithm%20for%20Betweenness%20Centrality/이미지/4.1.png?raw=true)"
   ]
  },
  {
   "cell_type": "markdown",
   "metadata": {},
   "source": []
  },
  {
   "cell_type": "markdown",
   "metadata": {},
   "source": [
    "![4.2](https://github.com/HeoJooSeong/zoostar/blob/master/LINK_LAB/A%20Faster%20Algorithm%20for%20Betweenness%20Centrality/이미지/4.2.png?raw=true)"
   ]
  },
  {
   "cell_type": "markdown",
   "metadata": {},
   "source": [
    "Figure 1: With the assumption of Lemma 5, a vertex lies on all shortest\n",
    "paths to its successors in the tree of shortest paths from the source"
   ]
  },
  {
   "cell_type": "markdown",
   "metadata": {},
   "source": [
    "![lemma5](https://github.com/HeoJooSeong/zoostar/blob/master/LINK_LAB/A%20Faster%20Algorithm%20for%20Betweenness%20Centrality/이미지/lemma5.png?raw=true)"
   ]
  },
  {
   "cell_type": "markdown",
   "metadata": {},
   "source": [
    "###Proof\n",
    "The assumption implies that the vertices and edges of all shortest paths form s form a tree.  \n",
    "Therefore, v lies on either all or none of the paths between s and some t ∈ V , i.e. \\\\(δ_{st}(v)\\\\) equals either 1 or 0.  \n",
    "Moreover, v lies on all shortest paths to those vertices for which it is a predecessor, and on all shortest paths that these lie on"
   ]
  },
  {
   "cell_type": "code",
   "execution_count": 96,
   "metadata": {
    "collapsed": true
   },
   "outputs": [],
   "source": [
    "G2 = networkx.Graph()\n",
    "%matplotlib inline"
   ]
  },
  {
   "cell_type": "code",
   "execution_count": 101,
   "metadata": {
    "collapsed": true
   },
   "outputs": [],
   "source": [
    "G2.add_nodes_from(['S','V','W1','W2','W3','G','H','I','J','K','L'])\n",
    "G2.add_edges_from([('S','V'),('V','W1'),('V','W2'),('V','W3'),('W1','G'),('W1','H'),('W2','I'),\n",
    "                   ('W2','J'),('W3','K'),('W3','L')])"
   ]
  },
  {
   "cell_type": "code",
   "execution_count": 102,
   "metadata": {
    "collapsed": false
   },
   "outputs": [
    {
     "data": {
      "image/png": "[encoded data removed]",
      "text/plain": [
       "<matplotlib.figure.Figure at 0x10c696d90>"
      ]
     },
     "metadata": {},
     "output_type": "display_data"
    }
   ],
   "source": [
    "networkx.draw(G2,node_size=800,with_labels=True)"
   ]
  },
  {
   "cell_type": "markdown",
   "metadata": {},
   "source": [
    "In the general case, a very similar relation holds."
   ]
  },
  {
   "cell_type": "markdown",
   "metadata": {},
   "source": [
    "![theorem](https://github.com/HeoJooSeong/zoostar/blob/master/LINK_LAB/A%20Faster%20Algorithm%20for%20Betweenness%20Centrality/이미지/theorem6.png?raw=true)"
   ]
  },
  {
   "cell_type": "markdown",
   "metadata": {},
   "source": [
    "![figure2](https://github.com/HeoJooSeong/zoostar/blob/master/LINK_LAB/A%20Faster%20Algorithm%20for%20Betweenness%20Centrality/이미지/figure2.png?raw=true)"
   ]
  },
  {
   "cell_type": "markdown",
   "metadata": {},
   "source": [
    "###Proof    \n",
    "Recall that \\\\(δ_{st}(v)>0 \\\\) only for those t ∈ V \\ {s} for which v lies on at least one shortest path from s to t, and notice that on any such path there is exactly one edge {v,w} with \\\\(v ∈ P_s(w)\\\\).   \n",
    "This slightly more complicated situation is illustrated in Figure 2  \n",
    "We extend pair-dependency to include an edge e ∈ E by defining  \\\\(δ_{st}(v,e)=σ_{st}(v,e) \\\\) where \\\\(σ_{st}(v,e) \\\\) is the number of shortest paths from s to t that contain both v and e"
   ]
  },
  {
   "cell_type": "markdown",
   "metadata": {},
   "source": [
    "![proof1](https://github.com/HeoJooSeong/zoostar/blob/master/LINK_LAB/A%20Faster%20Algorithm%20for%20Betweenness%20Centrality/이미지/proof1.png?raw=true)"
   ]
  },
  {
   "cell_type": "code",
   "execution_count": 113,
   "metadata": {
    "collapsed": false
   },
   "outputs": [
    {
     "data": {
      "image/png": "[encoded data removed]",
      "text/plain": [
       "<matplotlib.figure.Figure at 0x10d4b0450>"
      ]
     },
     "metadata": {},
     "output_type": "display_data"
    }
   ],
   "source": [
    "G3 = networkx.Graph()\n",
    "%matplotlib inline\n",
    "G3.add_nodes_from(['S','V','W1','W2','W3','G','H','I','J','K','L'])\n",
    "G3.add_edges_from([('S','V'),('V','W1'),('V','W2'),('V','W3'),('W1','G'),('W1','H'),('W2','I'),\n",
    "                   ('W2','J'),('W3','K'),('W3','L'),('S','W1'),('S','W3')])\n",
    "networkx.draw(G3,node_size=800,with_labels=True)"
   ]
  },
  {
   "cell_type": "markdown",
   "metadata": {},
   "source": [
    "###Corollary 7   \n",
    "Given the directed acyclic graph of shortest paths from s ∈ V in G, the dependencies of s on all other vertices can be computed in \\\\(O(m)\\\\) time and \\\\(O(n + m)\\\\) space."
   ]
  },
  {
   "cell_type": "markdown",
   "metadata": {},
   "source": [
    "###Proof  \n",
    "Traverse the vertices in non-increasing order of their distance from s and accumulate dependencies by applying Theorem 6.   \n",
    "We need to store a dependency per vertex, and lists of predecessors. There is at most one element per edge in any of these lists."
   ]
  },
  {
   "cell_type": "markdown",
   "metadata": {},
   "source": [
    "With this result, we can determine the betweenness centrality index by solving one single-source shortest-paths problem for each vertex.   \n",
    "At the end of each iteration, the dependencies of the source on each other vertex are added to the centrality score of that vertex.   \n",
    "For unweighted graphs, the algorithm can be implemented as described in Algorithm 1.   \n",
    "Note that the centrality scores need to be divided by two if the graph is undirected, since all shortest paths are considered twice. The modifications necessary for weighted graphs are straightforward."
   ]
  },
  {
   "cell_type": "markdown",
   "metadata": {},
   "source": [
    "![theorem](https://github.com/HeoJooSeong/zoostar/blob/master/LINK_LAB/A%20Faster%20Algorithm%20for%20Betweenness%20Centrality/이미지/theorem8.png?raw=true)"
   ]
  },
  {
   "cell_type": "markdown",
   "metadata": {},
   "source": [
    "#5. Practical Implications"
   ]
  },
  {
   "cell_type": "code",
   "execution_count": 116,
   "metadata": {
    "collapsed": true
   },
   "outputs": [],
   "source": [
    "# coding=utf8\n",
    "\"\"\"\n",
    "Betweenness centrality measures.\n",
    "\"\"\"\n",
    "from heapq import heappush, heappop\n",
    "from itertools import count\n",
    "import networkx as nx\n",
    "import random\n",
    "\n",
    "\n",
    "def betweenness_centrality(G, k=None, normalized=True, weight=None,\n",
    "                           endpoints=False,\n",
    "                           seed=None):\n",
    "   \n",
    "    betweenness = dict.fromkeys(G, 0.0)  # b[v]=0 for v in G\n",
    "    if k is None:\n",
    "        nodes = G\n",
    "    else:\n",
    "        random.seed(seed)\n",
    "        nodes = random.sample(G.nodes(), k)\n",
    "    for s in nodes:\n",
    "        # single source shortest paths\n",
    "        if weight is None:  # use BFS\n",
    "            S, P, sigma = _single_source_shortest_path_basic(G, s)\n",
    "        else:  # use Dijkstra's algorithm\n",
    "            S, P, sigma = _single_source_dijkstra_path_basic(G, s, weight)\n",
    "        # accumulation\n",
    "        if endpoints:\n",
    "            betweenness = _accumulate_endpoints(betweenness, S, P, sigma, s)\n",
    "        else:\n",
    "            betweenness = _accumulate_basic(betweenness, S, P, sigma, s)\n",
    "    # rescaling\n",
    "    betweenness = _rescale(betweenness, len(G),\n",
    "                           normalized=normalized,\n",
    "                           directed=G.is_directed(),\n",
    "                           k=k)\n",
    "    return betweenness\n",
    "\n",
    "def _single_source_shortest_path_basic(G, s):\n",
    "    S = []\n",
    "    P = {}\n",
    "    for v in G:\n",
    "        P[v] = []\n",
    "    sigma = dict.fromkeys(G, 0.0)    # sigma[v]=0 for v in G\n",
    "    D = {}\n",
    "    sigma[s] = 1.0\n",
    "    D[s] = 0\n",
    "    Q = [s]\n",
    "    while Q:   # use BFS to find shortest paths\n",
    "        v = Q.pop(0)\n",
    "        S.append(v)\n",
    "        Dv = D[v]\n",
    "        sigmav = sigma[v]\n",
    "        for w in G[v]:\n",
    "            if w not in D:\n",
    "                Q.append(w)\n",
    "                D[w] = Dv + 1\n",
    "            if D[w] == Dv + 1:   # this is a shortest path, count paths\n",
    "                sigma[w] += sigmav\n",
    "                P[w].append(v)  # predecessors\n",
    "    return S, P, sigma\n",
    "\n",
    "\n",
    "def _single_source_dijkstra_path_basic(G, s, weight='weight'):\n",
    "    # modified from Eppstein\n",
    "    S = []\n",
    "    P = {}\n",
    "    for v in G:\n",
    "        P[v] = []\n",
    "    sigma = dict.fromkeys(G, 0.0)    # sigma[v]=0 for v in G\n",
    "    D = {}\n",
    "    sigma[s] = 1.0\n",
    "    push = heappush\n",
    "    pop = heappop\n",
    "    seen = {s: 0}\n",
    "    c = count()\n",
    "    Q = []   # use Q as heap with (distance,node id) tuples\n",
    "    push(Q, (0, next(c), s, s))\n",
    "    while Q:\n",
    "        (dist, _, pred, v) = pop(Q)\n",
    "        if v in D:\n",
    "            continue  # already searched this node.\n",
    "        sigma[v] += sigma[pred]  # count paths\n",
    "        S.append(v)\n",
    "        D[v] = dist\n",
    "        for w, edgedata in G[v].items():\n",
    "            vw_dist = dist + edgedata.get(weight, 1)\n",
    "            if w not in D and (w not in seen or vw_dist < seen[w]):\n",
    "                seen[w] = vw_dist\n",
    "                push(Q, (vw_dist, next(c), v, w))\n",
    "                sigma[w] = 0.0\n",
    "                P[w] = [v]\n",
    "            elif vw_dist == seen[w]:  # handle equal paths\n",
    "                sigma[w] += sigma[v]\n",
    "                P[w].append(v)\n",
    "    return S, P, sigma\n",
    "\n",
    "\n",
    "def _accumulate_basic(betweenness, S, P, sigma, s):\n",
    "    delta = dict.fromkeys(S, 0)\n",
    "    while S:\n",
    "        w = S.pop()\n",
    "        coeff = (1.0 + delta[w]) / sigma[w]\n",
    "        for v in P[w]:\n",
    "            delta[v] += sigma[v] * coeff\n",
    "        if w != s:\n",
    "            betweenness[w] += delta[w]\n",
    "    return betweenness\n",
    "\n",
    "\n",
    "def _accumulate_endpoints(betweenness, S, P, sigma, s):\n",
    "    betweenness[s] += len(S) - 1\n",
    "    delta = dict.fromkeys(S, 0)\n",
    "    while S:\n",
    "        w = S.pop()\n",
    "        coeff = (1.0 + delta[w]) / sigma[w]\n",
    "        for v in P[w]:\n",
    "            delta[v] += sigma[v] * coeff\n",
    "        if w != s:\n",
    "            betweenness[w] += delta[w] + 1\n",
    "    return betweenness\n",
    "\n",
    "def _rescale(betweenness, n, normalized, directed=False, k=None):\n",
    "    if normalized is True:\n",
    "        if n <= 2:\n",
    "            scale = None  # no normalization b=0 for all nodes\n",
    "        else:\n",
    "            scale = 1.0 / ((n - 1) * (n - 2))\n",
    "    else:  # rescale by 2 for undirected graphs\n",
    "        if not directed:\n",
    "            scale = 1.0 / 2.0\n",
    "        else:\n",
    "            scale = None\n",
    "    if scale is not None:\n",
    "        if k is not None:\n",
    "            scale = scale * n / k\n",
    "        for v in betweenness:\n",
    "            betweenness[v] *= scale\n",
    "    return betweenness"
   ]
  },
  {
   "cell_type": "markdown",
   "metadata": {},
   "source": []
  },
  {
   "cell_type": "markdown",
   "metadata": {},
   "source": []
  },
  {
   "cell_type": "markdown",
   "metadata": {},
   "source": []
  },
  {
   "cell_type": "markdown",
   "metadata": {},
   "source": []
  },
  {
   "cell_type": "markdown",
   "metadata": {},
   "source": []
  },
  {
   "cell_type": "markdown",
   "metadata": {},
   "source": []
  }
 ],
 "metadata": {
  "kernelspec": {
   "display_name": "Python 2",
   "language": "python",
   "name": "python2"
  },
  "language_info": {
   "codemirror_mode": {
    "name": "ipython",
    "version": 2
   },
   "file_extension": ".py",
   "mimetype": "text/x-python",
   "name": "python",
   "nbconvert_exporter": "python",
   "pygments_lexer": "ipython2",
   "version": "2.7.9"
  }
 },
 "nbformat": 4,
 "nbformat_minor": 0
}
