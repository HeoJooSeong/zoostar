{
 "cells": [
  {
   "cell_type": "markdown",
   "metadata": {},
   "source": [
    " <script type=\"text/javascript\" src=\"http://cdn.mathjax.org/mathjax/latest/MathJax.js?config=TeX-AMS-MML_HTMLorMML\"></script>"
   ]
  },
  {
   "cell_type": "markdown",
   "metadata": {},
   "source": [
    "#A Faster Algorithm for Betweenness Centrality"
   ]
  },
  {
   "cell_type": "markdown",
   "metadata": {},
   "source": [
    ">The betweenness centrality index is essential in the analysis of social networks, but costly to compute.  \n",
    "Currently, the fastest known algorithms require Θ(\\\\({n}^{3}\\\\)) time and Θ(\\\\({n}^{2}\\\\)) space, where n is the number of actors in the network.  \n",
    "Motivated by the fast-growing need to compute centrality indices on large, yet very sparse, networks, new algorithms for betweenness are introduced in this paper."
   ]
  },
  {
   "cell_type": "markdown",
   "metadata": {},
   "source": [
    "##1. Introduction"
   ]
  },
  {
   "cell_type": "markdown",
   "metadata": {},
   "source": [
    "- In social network analysis, graph-theoretic concepts are used to understand and explain social phenomena.  \n",
    "- An essential tool for the analysis of social networks are centrality indices defined on the vertices of the graph \n",
    "- Many centrality indices are based on shortest paths linking pairs of actors, measuring, e.g., the average distance from other actors, or the ratio of shortest paths an actor lies on.  \n",
    "- With the increasing practicality of electronic data collection and, of course, the advent of the Web, there is a likewise increasing demand for the computation of centrality indices on networks with thousands of actors.  \n",
    "- **However, there is an Ω(n3) bottleneck in existing implementations, due to the particularly important betweenness centrality index**  \n",
    "-  network analysts are now suggesting simpler indices, for instance based only on linkages between the neighbors of each actors to at least obtain rough approximations of betweenness centrality.  \n",
    "- **In this paper, we show that betweenness can be computed exactly even for fairly large networks.**  \n",
    "- We introduce more efficient algorithms based on a new accumulation technique that integrates well with traversal algorithms solving the single-source shortest-paths problem, and thus exploiting the sparsity of typical instances.  \n",
    "- **it turns out that all standard centrality indices based on shortest paths can thus be evaluated simultaneously, further reducing both the time and space requirements of comparative analyses.**  \n",
    "- In Section 2  The centrality indices relevant here are defined.\n",
    "- In Section 3, we review methods computing all shortest paths between all pairs of actors in a network."
   ]
  },
  {
   "cell_type": "markdown",
   "metadata": {},
   "source": [
    "##2. Centrality Indices Based on Shortest Paths"
   ]
  },
  {
   "cell_type": "markdown",
   "metadata": {},
   "source": [
    "1. graph G = (V, E), where the set V of vertices represents actors, and the set E of edges repre- sents links between actors  \n",
    "2. Let ω be a weight function on the edges.  \n",
    "  - ω(e) > 0, e ∈ E, for weighted graphs, and define ω(e) = 1, e ∈ E, for unweighted graphs.  \n",
    "3. Define a path from s ∈ V to t ∈ V as an alternating sequence of vertices and edges  \n",
    "  - The length of a path is the sum of the weights of its edges.  \n",
    "4. We use dG(s,t) to denote the distance between vertices s and t, i.e. the minimum length of any path connecting s and t in G\n",
    "  - By definition, dG(s,s) = 0 for every s ∈ V, and dG(s,t) = dG(t,s) for s, t ∈ V \n",
    "5. Let σst(v) denote the number of shortest paths from s to t that some v ∈ V lies on.  "
   ]
  },
  {
   "cell_type": "markdown",
   "metadata": {},
   "source": [
    "---------------------"
   ]
  },
  {
   "cell_type": "code",
   "execution_count": 190,
   "metadata": {
    "collapsed": false
   },
   "outputs": [],
   "source": [
    "import networkx\n",
    "#import matplotlib\n",
    "import operator"
   ]
  },
  {
   "cell_type": "code",
   "execution_count": 172,
   "metadata": {
    "collapsed": false
   },
   "outputs": [],
   "source": [
    "def Graph(G):\n",
    "    print \"Number of Nodes : \", networkx.number_of_nodes(G)\n",
    "    print \"Number of Edges : \", networkx.number_of_edges(G)\n",
    "    degreelist = list(G.degree().values())\n",
    "    print \"Avg. Node Degree : \", float(sum(degreelist))/networkx.number_of_nodes(G)\n",
    "    print \"Avg. Path Length : \", networkx.average_shortest_path_length(G,weight=None)\n",
    "    print \"Avg. Clustering Cofficient : \", networkx.average_clustering(G)"
   ]
  },
  {
   "cell_type": "code",
   "execution_count": 173,
   "metadata": {
    "collapsed": false
   },
   "outputs": [],
   "source": [
    "G = networkx.Graph()\n",
    "%matplotlib inline"
   ]
  },
  {
   "cell_type": "code",
   "execution_count": 201,
   "metadata": {
    "collapsed": true
   },
   "outputs": [],
   "source": [
    "G.add_nodes_from(['A','B','C','D','E','F','G','H','I','J','K','L','M','N'])\n",
    "G.add_edges_from([('A','G'),('A','B'),('A','D'),('K','A'),('F','E'),('I','E'),('A','H'),('C','E'),('B','H'),('A','F'),('N','B'),('F','J'),('J','L'),('D','N'),('M','N'),('C','K')])\n",
    "degree=networkx.degree(G).values()"
   ]
  },
  {
   "cell_type": "code",
   "execution_count": 203,
   "metadata": {
    "collapsed": false
   },
   "outputs": [
    {
     "data": {
      "image/png": "[encoded data removed]",
      "text/plain": [
       "<matplotlib.figure.Figure at 0x10d2eb7d0>"
      ]
     },
     "metadata": {},
     "output_type": "display_data"
    }
   ],
   "source": [
    "networkx.draw(G, node_size=[v*200 for v in degree],with_labels=True)"
   ]
  },
  {
   "cell_type": "code",
   "execution_count": 176,
   "metadata": {
    "collapsed": false
   },
   "outputs": [
    {
     "name": "stdout",
     "output_type": "stream",
     "text": [
      "Number of Nodes :  14\n",
      "Number of Edges :  15\n",
      "Avg. Node Degree :  2.14285714286\n",
      "Avg. Path Length :  3.05494505495\n",
      "Avg. Clustering Cofficient :  0.102380952381\n"
     ]
    }
   ],
   "source": [
    "Graph(G)"
   ]
  },
  {
   "cell_type": "code",
   "execution_count": 204,
   "metadata": {
    "collapsed": false
   },
   "outputs": [
    {
     "name": "stdout",
     "output_type": "stream",
     "text": [
      "{'A': 6, 'C': 2, 'B': 3, 'E': 3, 'D': 2, 'G': 1, 'F': 3, 'I': 1, 'H': 2, 'K': 2, 'J': 2, 'M': 1, 'L': 1, 'N': 3}\n"
     ]
    }
   ],
   "source": [
    "print G.degree()"
   ]
  },
  {
   "cell_type": "markdown",
   "metadata": {},
   "source": [
    "- ###closeness centrality    "
   ]
  },
  {
   "cell_type": "markdown",
   "metadata": {},
   "source": [
    " > A central node should reach the remaining nodes more quickly than a non-central node.  \n",
    " Closeness centrality measure how close a node is to all the other nodes."
   ]
  },
  {
   "cell_type": "markdown",
   "metadata": {},
   "source": [
    "![closeness](http://218.150.181.120/resources/closeness.png)"
   ]
  },
  {
   "cell_type": "code",
   "execution_count": 205,
   "metadata": {
    "collapsed": false
   },
   "outputs": [
    {
     "name": "stdout",
     "output_type": "stream",
     "text": [
      "----- Closeness Centrality\n",
      "\n",
      "A  :  0.565217391304\n",
      "F  :  0.5\n",
      "B  :  0.433333333333\n",
      "D  :  0.41935483871\n",
      "K  :  0.41935483871\n",
      "H  :  0.40625\n",
      "E  :  0.393939393939\n",
      "G  :  0.371428571429\n",
      "C  :  0.361111111111\n",
      "J  :  0.361111111111\n",
      "N  :  0.342105263158\n",
      "I  :  0.288888888889\n",
      "L  :  0.270833333333\n",
      "M  :  0.26\n"
     ]
    }
   ],
   "source": [
    "print \"----- Closeness Centrality\"\n",
    "print\n",
    "Close = networkx.closeness_centrality(G)\n",
    "sorted_list = sorted(Close.iteritems(),key=operator.itemgetter(1),reverse=True)\n",
    "for s in sorted_list:\n",
    "    print s[0],\" : \", s[1]"
   ]
  },
  {
   "cell_type": "markdown",
   "metadata": {},
   "source": [
    "- ### graph centrality"
   ]
  },
  {
   "cell_type": "markdown",
   "metadata": {},
   "source": [
    ">Graph centrality is defined as the distance to the farthest vertex from the vertex in question  \n",
    "(임의의 정점 하나로부터 가장 멀리 있는 정점과의 거리로 정의)"
   ]
  },
  {
   "cell_type": "markdown",
   "metadata": {},
   "source": [
    "![closeness](http://218.150.181.120/resources/graph.png)"
   ]
  },
  {
   "cell_type": "markdown",
   "metadata": {},
   "source": [
    "- ### stress centrality"
   ]
  },
  {
   "cell_type": "markdown",
   "metadata": {},
   "source": [
    ">The stress centrality of a node n is the number of shortest paths passing through n. "
   ]
  },
  {
   "cell_type": "markdown",
   "metadata": {},
   "source": [
    "![closeness](http://218.150.181.120/resources/stress.png)"
   ]
  },
  {
   "cell_type": "markdown",
   "metadata": {},
   "source": [
    "- ### betweenness centrality"
   ]
  },
  {
   "cell_type": "markdown",
   "metadata": {},
   "source": [
    "![closeness](http://218.150.181.120/resources/betweennes.png)"
   ]
  },
  {
   "cell_type": "code",
   "execution_count": 206,
   "metadata": {
    "collapsed": false
   },
   "outputs": [
    {
     "name": "stdout",
     "output_type": "stream",
     "text": [
      "----- Betweenness Centrality\n",
      "\n",
      "A  :  0.660256410256\n",
      "F  :  0.461538461538\n",
      "E  :  0.192307692308\n",
      "N  :  0.160256410256\n",
      "J  :  0.153846153846\n",
      "B  :  0.141025641026\n",
      "D  :  0.115384615385\n",
      "K  :  0.0897435897436\n",
      "C  :  0.025641025641\n",
      "G  :  0.0\n",
      "I  :  0.0\n",
      "H  :  0.0\n",
      "M  :  0.0\n",
      "L  :  0.0\n"
     ]
    }
   ],
   "source": [
    "print \"----- Betweenness Centrality\"\n",
    "print\n",
    "Close = networkx.betweenness_centrality(G)\n",
    "sorted_list = sorted(Close.iteritems(),key=operator.itemgetter(1),reverse=True)\n",
    "for s in sorted_list:\n",
    "    print s[0],\" : \", s[1]"
   ]
  },
  {
   "cell_type": "code",
   "execution_count": 207,
   "metadata": {
    "collapsed": false
   },
   "outputs": [
    {
     "name": "stdout",
     "output_type": "stream",
     "text": [
      "----- Degree Centrality\n",
      "\n",
      "A  :  0.461538461538\n",
      "B  :  0.230769230769\n",
      "E  :  0.230769230769\n",
      "F  :  0.230769230769\n",
      "N  :  0.230769230769\n",
      "C  :  0.153846153846\n",
      "D  :  0.153846153846\n",
      "H  :  0.153846153846\n",
      "K  :  0.153846153846\n",
      "J  :  0.153846153846\n",
      "G  :  0.0769230769231\n",
      "I  :  0.0769230769231\n",
      "M  :  0.0769230769231\n",
      "L  :  0.0769230769231\n"
     ]
    }
   ],
   "source": [
    "print \"----- Degree Centrality\"\n",
    "print\n",
    "Close = networkx.degree_centrality(G)\n",
    "sorted_list = sorted(Close.iteritems(),key=operator.itemgetter(1),reverse=True)\n",
    "for s in sorted_list:\n",
    "    print s[0],\" : \", s[1]"
   ]
  },
  {
   "cell_type": "markdown",
   "metadata": {},
   "source": [
    "-----"
   ]
  },
  {
   "cell_type": "markdown",
   "metadata": {},
   "source": [
    "High centrality scores thus indicate that a vertex can reach others on relatively short paths, or that a vertex lies on considerable fractions of shortest paths connecting others"
   ]
  },
  {
   "cell_type": "markdown",
   "metadata": {
    "collapsed": true
   },
   "source": [
    "##Lemma 1 (Bellman criterion)"
   ]
  },
  {
   "cell_type": "markdown",
   "metadata": {},
   "source": [
    "A vertex v ∈ V lies on a shortest path between vertices s, t ∈ V , if and only if \\\\({d}_{G}\\\\)(s, t) =dG(s, v) + dG(v, t)."
   ]
  },
  {
   "cell_type": "markdown",
   "metadata": {},
   "source": [
    "![lemma1](http://218.150.181.120/resources/lemma1.png)"
   ]
  },
  {
   "cell_type": "markdown",
   "metadata": {},
   "source": [
    "Therefore, betweenness centrality is traditionally determined in two steps:\n",
    "1. compute the length and number of shortest paths between all pairs\n",
    "2. sum all pair-dependencies"
   ]
  },
  {
   "cell_type": "markdown",
   "metadata": {},
   "source": [
    "** pair- dependency is defined as the dependency of a single vertex on another one**"
   ]
  },
  {
   "cell_type": "markdown",
   "metadata": {},
   "source": [
    "------"
   ]
  },
  {
   "cell_type": "markdown",
   "metadata": {},
   "source": [
    "##3. Counting the Number of Shortest Paths"
   ]
  },
  {
   "cell_type": "markdown",
   "metadata": {},
   "source": [
    "The two implementations most widely used to compute betweenness are UCINET and SNAPS."
   ]
  },
  {
   "cell_type": "markdown",
   "metadata": {},
   "source": [
    "![closeness](http://218.150.181.120/resources/UNINET.png)"
   ]
  },
  {
   "cell_type": "markdown",
   "metadata": {},
   "source": [
    "![closeness](http://218.150.181.120/resources/snap.png)"
   ]
  },
  {
   "cell_type": "markdown",
   "metadata": {},
   "source": [
    "![closeness](http://218.150.181.120/resources/gephi.png)"
   ]
  },
  {
   "cell_type": "markdown",
   "metadata": {},
   "source": [
    "##Lemma 2 (Algebraic path counting)"
   ]
  },
  {
   "cell_type": "markdown",
   "metadata": {},
   "source": [
    "- Let Ak = (a(k)) be the k-th uv u,v∈V  \n",
    "- power of the adjacency matrix of an unweighted graph. Then a(k) equals the uv  \n",
    "- number of paths from u to v of length exactly k.  \n",
    "**인접행렬 특징. 인접행렬의 거듭제곱은 거듭제곱 개수만큼의 거리 갯수, 제곱의 대각선은 각 노드의 차수**"
   ]
  },
  {
   "cell_type": "code",
   "execution_count": 220,
   "metadata": {
    "collapsed": false
   },
   "outputs": [
    {
     "name": "stdout",
     "output_type": "stream",
     "text": [
      "[[ 0.  0.  1.  0.  1.  1.  1.  0.  1.  1.  0.  0.  0.  0.]\n",
      " [ 0.  0.  0.  1.  0.  0.  0.  0.  0.  1.  0.  0.  0.  0.]\n",
      " [ 1.  0.  0.  0.  0.  0.  0.  0.  1.  0.  0.  0.  0.  1.]\n",
      " [ 0.  1.  0.  0.  0.  0.  1.  1.  0.  0.  0.  0.  0.  0.]\n",
      " [ 1.  0.  0.  0.  0.  0.  0.  0.  0.  0.  0.  0.  0.  1.]\n",
      " [ 1.  0.  0.  0.  0.  0.  0.  0.  0.  0.  0.  0.  0.  0.]\n",
      " [ 1.  0.  0.  1.  0.  0.  0.  0.  0.  0.  1.  0.  0.  0.]\n",
      " [ 0.  0.  0.  1.  0.  0.  0.  0.  0.  0.  0.  0.  0.  0.]\n",
      " [ 1.  0.  1.  0.  0.  0.  0.  0.  0.  0.  0.  0.  0.  0.]\n",
      " [ 1.  1.  0.  0.  0.  0.  0.  0.  0.  0.  0.  0.  0.  0.]\n",
      " [ 0.  0.  0.  0.  0.  0.  1.  0.  0.  0.  0.  0.  1.  0.]\n",
      " [ 0.  0.  0.  0.  0.  0.  0.  0.  0.  0.  0.  0.  0.  1.]\n",
      " [ 0.  0.  0.  0.  0.  0.  0.  0.  0.  0.  1.  0.  0.  0.]\n",
      " [ 0.  0.  1.  0.  1.  0.  0.  0.  0.  0.  0.  1.  0.  0.]]\n"
     ]
    }
   ],
   "source": [
    "adj= networkx.to_numpy_matrix(G)\n",
    "print adj"
   ]
  },
  {
   "cell_type": "code",
   "execution_count": 217,
   "metadata": {
    "collapsed": false
   },
   "outputs": [
    {
     "name": "stdout",
     "output_type": "stream",
     "text": [
      "{'A': 6, 'C': 2, 'B': 3, 'E': 3, 'D': 2, 'G': 1, 'F': 3, 'I': 1, 'H': 2, 'K': 2, 'J': 2, 'M': 1, 'L': 1, 'N': 3}\n",
      "[[ 6.  1.  1.  1.  0.  0.  0.  0.  1.  0.  1.  0.  0.  2.]\n",
      " [ 1.  2.  0.  0.  0.  0.  1.  1.  0.  0.  0.  0.  0.  0.]\n",
      " [ 1.  0.  3.  0.  2.  1.  1.  0.  1.  1.  0.  1.  0.  0.]\n",
      " [ 1.  0.  0.  3.  0.  0.  0.  0.  0.  1.  1.  0.  0.  0.]\n",
      " [ 0.  0.  2.  0.  2.  1.  1.  0.  1.  1.  0.  1.  0.  0.]\n",
      " [ 0.  0.  1.  0.  1.  1.  1.  0.  1.  1.  0.  0.  0.  0.]\n",
      " [ 0.  1.  1.  0.  1.  1.  3.  1.  1.  1.  0.  0.  1.  0.]\n",
      " [ 0.  1.  0.  0.  0.  0.  1.  1.  0.  0.  0.  0.  0.  0.]\n",
      " [ 1.  0.  1.  0.  1.  1.  1.  0.  2.  1.  0.  0.  0.  1.]\n",
      " [ 0.  0.  1.  1.  1.  1.  1.  0.  1.  2.  0.  0.  0.  0.]\n",
      " [ 1.  0.  0.  1.  0.  0.  0.  0.  0.  0.  2.  0.  0.  0.]\n",
      " [ 0.  0.  1.  0.  1.  0.  0.  0.  0.  0.  0.  1.  0.  0.]\n",
      " [ 0.  0.  0.  0.  0.  0.  1.  0.  0.  0.  0.  0.  1.  0.]\n",
      " [ 2.  0.  0.  0.  0.  0.  0.  0.  1.  0.  0.  0.  0.  3.]]\n"
     ]
    }
   ],
   "source": [
    "print G.degree()\n",
    "adj_2=adj **2\n",
    "print adj_2"
   ]
  },
  {
   "cell_type": "code",
   "execution_count": 219,
   "metadata": {
    "collapsed": false
   },
   "outputs": [
    {
     "data": {
      "image/png": "[encoded data removed]",
      "text/plain": [
       "<matplotlib.figure.Figure at 0x10da87190>"
      ]
     },
     "metadata": {},
     "output_type": "display_data"
    }
   ],
   "source": [
    "networkx.draw(G, node_size=[v*200 for v in degree],with_labels=True)"
   ]
  },
  {
   "cell_type": "markdown",
   "metadata": {},
   "source": [
    "- ###Clearly, algebraic path counting computes more information than needed.  \n",
    "- Instead of the number of paths of length shorter than the diameter of the network, we are only interested in the number of shortest paths between each pair of vertices."
   ]
  },
  {
   "cell_type": "code",
   "execution_count": 221,
   "metadata": {
    "collapsed": false
   },
   "outputs": [
    {
     "data": {
      "text/plain": [
       "6"
      ]
     },
     "execution_count": 221,
     "metadata": {},
     "output_type": "execute_result"
    }
   ],
   "source": [
    "networkx.diameter(G)"
   ]
  },
  {
   "cell_type": "markdown",
   "metadata": {},
   "source": [
    "---"
   ]
  },
  {
   "cell_type": "markdown",
   "metadata": {},
   "source": [
    "To exploit the sparsity of typical instances, we count shortest paths using traversal algorithms.(희소그래프)   \n",
    "Both breadth-first search (BFS) for unweighted and Dijkstra’s algorithm for weighted graphs start with a specified source s ∈ V and, at each step, add a closest vertex the set of already discovered vertices in order to find shortest paths from the source to all other vertices"
   ]
  },
  {
   "cell_type": "markdown",
   "metadata": {},
   "source": [
    "- ## breadth-first search  \n",
    "![img](http://cfile8.uf.tistory.com/image/26072E5051A6F9A2339C0F)  \n",
    "그래프의 크기에 비례하는 공간, 시간 복잡도를 가진다."
   ]
  },
  {
   "cell_type": "markdown",
   "metadata": {},
   "source": [
    "- [Step 1]  \n",
    "\n",
    "| queue |\n",
    "| :------: | \n",
    "|   | \n",
    "|   | \n",
    "|   | \n",
    "|   |\n",
    "|   |  \n",
    "| a |"
   ]
  },
  {
   "cell_type": "markdown",
   "metadata": {},
   "source": [
    "- [Step 2]  \n",
    "\n",
    "| queue |\n",
    "| :------: | \n",
    "|   | \n",
    "|   | \n",
    "|   | \n",
    "|   |\n",
    "| c |  \n",
    "| b |  \n",
    "                                                        A"
   ]
  },
  {
   "cell_type": "markdown",
   "metadata": {},
   "source": [
    "- [Step 3]  \n",
    "\n",
    "| queue |\n",
    "| :------: | \n",
    "|   | \n",
    "|   | \n",
    "|   | \n",
    "| e |\n",
    "| d |  \n",
    "| c |  \n",
    "                                                        AB"
   ]
  },
  {
   "cell_type": "markdown",
   "metadata": {},
   "source": [
    "----"
   ]
  },
  {
   "cell_type": "markdown",
   "metadata": {},
   "source": [
    "- ##Dijkstra’s algorithm  \n",
    "![img](http://tech-algorithm.com/uploads/dgraph01.png)"
   ]
  },
  {
   "cell_type": "markdown",
   "metadata": {},
   "source": [
    "- [Step 1]  \n",
    "\n",
    "|  | Parent | Distance |\n",
    "| :------: | :---: | :---------: |\n",
    "| a  | a | - |\n",
    "| b  | a | 1 |\n",
    "| c  | a | ∞ |\n",
    "| d  | a | ∞ |\n",
    "| e  | a | 2 |\n",
    "| f  | a | 1 |\n",
    "| g  | a | ∞ |\n",
    "| h  | a | ∞ |"
   ]
  },
  {
   "cell_type": "markdown",
   "metadata": {},
   "source": [
    "- [Step 2]  \n",
    "\n",
    "|  | Parent | Distance |\n",
    "| :------: | :---: | :---------: |\n",
    "| a  | a | - |\n",
    "| b  | a | 1 |\n",
    "| c  | **b** | 3 |\n",
    "| d  | **e** | 3 |\n",
    "| e  | a | 2 |\n",
    "| f  | a | 1 |\n",
    "| g  | **b** | 2 |\n",
    "| h  | a | ∞ |"
   ]
  },
  {
   "cell_type": "markdown",
   "metadata": {},
   "source": [
    "---"
   ]
  },
  {
   "cell_type": "markdown",
   "metadata": {},
   "source": [
    "Define the set of predecessors of a vertex v on shortest paths from s as"
   ]
  },
  {
   "cell_type": "markdown",
   "metadata": {},
   "source": [
    "![closeness](http://218.150.181.120/resources/lemma2.png)"
   ]
  },
  {
   "cell_type": "markdown",
   "metadata": {},
   "source": [
    "----"
   ]
  },
  {
   "cell_type": "markdown",
   "metadata": {},
   "source": [
    "## Lemma 3 (Combinatorial shortest-path counting) For s≠ v ∈ V"
   ]
  },
  {
   "cell_type": "markdown",
   "metadata": {},
   "source": [
    "![closeness](http://218.150.181.120/resources/lemma3.png)"
   ]
  },
  {
   "cell_type": "markdown",
   "metadata": {},
   "source": [
    "##Proof"
   ]
  },
  {
   "cell_type": "markdown",
   "metadata": {},
   "source": [
    "- Since all edge weights are positive, the last edge of any shortest path from s to v is an edge {u,v} ∈ E such that dG(s,u) < dG(s,v).  \n",
    "- Clearly, the number of shortest paths from s to v ending with this edge equals the number of shortest paths from s to u.  \n",
    "- Lemma 1"
   ]
  },
  {
   "cell_type": "markdown",
   "metadata": {},
   "source": [
    "![closeness](http://218.150.181.120/resources/corollary4.png)"
   ]
  },
  {
   "cell_type": "markdown",
   "metadata": {},
   "source": [
    "Consequently, \\\\({σ}_{st}\\\\), s,t ∈ V, can be computed in time O(nm) for un- weighted and in time O(nm + n2 log n) for weighted graphs."
   ]
  },
  {
   "cell_type": "markdown",
   "metadata": {},
   "source": [
    "###In the next section we show how to reduce these complexities substantially by accumulating partial sums of pair-dependencies."
   ]
  },
  {
   "cell_type": "markdown",
   "metadata": {},
   "source": [
    "# ------END------"
   ]
  }
 ],
 "metadata": {
  "kernelspec": {
   "display_name": "Python 2",
   "language": "python",
   "name": "python2"
  },
  "language_info": {
   "codemirror_mode": {
    "name": "ipython",
    "version": 2
   },
   "file_extension": ".py",
   "mimetype": "text/x-python",
   "name": "python",
   "nbconvert_exporter": "python",
   "pygments_lexer": "ipython2",
   "version": "2.7.9"
  }
 },
 "nbformat": 4,
 "nbformat_minor": 0
}
