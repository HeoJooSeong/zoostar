{
 "metadata": {
  "name": "",
  "signature": "sha256:87dd444d6ad02fc5111fa25556756db74773b927bc02e989840be46b1b5507c7"
 },
 "nbformat": 3,
 "nbformat_minor": 0,
 "worksheets": [
  {
   "cells": [
    {
     "cell_type": "markdown",
     "metadata": {},
     "source": [
      "Assignment 3\n",
      "--\n",
      "***"
     ]
    },
    {
     "cell_type": "markdown",
     "metadata": {},
     "source": [
      "[\ubb38\uc81c1\ubc88]\n",
      "--\n",
      "L=[1, 2, 3, 4, 5]\uc77c \ub54c \ub2e4\uc74c \uac01 \ubb38\uc7a5\uc744 \uc218\ud589\ud55c \ud6c4\uc758 \uacb0\uacfc\ub97c \ubcf4\uace0 \ub0a9\ub4dd\ud560 \ub9cc\ud55c \uc774\uc720\ub97c \uc124\uba85\ud558\uc2dc\uc624."
     ]
    },
    {
     "cell_type": "code",
     "collapsed": false,
     "input": [
      "L=[1, 2, 3, 4, 5]"
     ],
     "language": "python",
     "metadata": {},
     "outputs": [],
     "prompt_number": 95
    },
    {
     "cell_type": "code",
     "collapsed": false,
     "input": [
      "#1\ubc88\n",
      "\n",
      "L[1:3] = [100]\n",
      "print L"
     ],
     "language": "python",
     "metadata": {},
     "outputs": [
      {
       "output_type": "stream",
       "stream": "stdout",
       "text": [
        "[1, 100, 4, 5]\n"
       ]
      }
     ],
     "prompt_number": 5
    },
    {
     "cell_type": "markdown",
     "metadata": {},
     "source": [
      "\ub9ac\uc2a4\ud2b8 \ubc94\uc704 1\uc774\uc0c1 3\ubbf8\ub9cc\uc778 \uac12\uc744 100\uc73c\ub85c \ubc14\uafbc\ub2e4\ub294 \ub73b\uc774\ubbc0\ub85c 2\uc640 3\uc774 100\uc73c\ub85c \ubc14\ub00c\uc5c8\ub2e4."
     ]
    },
    {
     "cell_type": "code",
     "collapsed": false,
     "input": [
      "#2\ubc88\n",
      "\n",
      "L[1:3] = [(100)]\n",
      "print L"
     ],
     "language": "python",
     "metadata": {},
     "outputs": [
      {
       "output_type": "stream",
       "stream": "stdout",
       "text": [
        "[1, 100, 4, 5]\n"
       ]
      }
     ],
     "prompt_number": 96
    },
    {
     "cell_type": "markdown",
     "metadata": {},
     "source": [
      "\uc704\uc640 \uac19\uc774 \ub9ac\uc2a4\ud2b8 1\uc774\uc0c1 3\ubbf8\ub9cc\uc778 \uac12\uc744 \ud29c\ud50c 100\uc758 \ub9ac\uc2a4\ud2b8\ub85c \ubc14\uafbc\ub2e4\ub294 \uac83\uc73c\ub85c \uc5ed\uc2dc 2\uc640 3\uc774 100\uc73c\ub85c \ubc14\ub00c\uc5c8\ub2e4."
     ]
    },
    {
     "cell_type": "code",
     "collapsed": false,
     "input": [
      "#3\ubc88\n",
      "\n",
      "L[1:3] = 100\n",
      "print L"
     ],
     "language": "python",
     "metadata": {},
     "outputs": [
      {
       "ename": "TypeError",
       "evalue": "can only assign an iterable",
       "output_type": "pyerr",
       "traceback": [
        "\u001b[1;31m---------------------------------------------------------------------------\u001b[0m\n\u001b[1;31mTypeError\u001b[0m                                 Traceback (most recent call last)",
        "\u001b[1;32m<ipython-input-7-e60a32c585b0>\u001b[0m in \u001b[0;36m<module>\u001b[1;34m()\u001b[0m\n\u001b[0;32m      1\u001b[0m \u001b[1;31m#3\ubc88\u001b[0m\u001b[1;33m\u001b[0m\u001b[1;33m\u001b[0m\u001b[0m\n\u001b[0;32m      2\u001b[0m \u001b[1;33m\u001b[0m\u001b[0m\n\u001b[1;32m----> 3\u001b[1;33m \u001b[0mL\u001b[0m\u001b[1;33m[\u001b[0m\u001b[1;36m1\u001b[0m\u001b[1;33m:\u001b[0m\u001b[1;36m3\u001b[0m\u001b[1;33m]\u001b[0m \u001b[1;33m=\u001b[0m \u001b[1;36m100\u001b[0m\u001b[1;33m\u001b[0m\u001b[0m\n\u001b[0m\u001b[0;32m      4\u001b[0m \u001b[1;32mprint\u001b[0m \u001b[0mL\u001b[0m\u001b[1;33m\u001b[0m\u001b[0m\n",
        "\u001b[1;31mTypeError\u001b[0m: can only assign an iterable"
       ]
      }
     ],
     "prompt_number": 7
    },
    {
     "cell_type": "markdown",
     "metadata": {},
     "source": [
      "\ub9ac\uc2a4\ud2b8\ub294 \uac12\uc744 \ubcc0\uacbd\uac00\ub2a5\ud558\uc9c0\ub9cc INT\ud0c0\uc785\uc758 \uacbd\uc6b0 \uadf8 \uac2f\uc218\uac00 \ub2e4\ub974\uae30\ub54c\ubb38\uc5d0 \ubc14\uafc0 \uc218 \uc5c6\ub2e4."
     ]
    },
    {
     "cell_type": "code",
     "collapsed": false,
     "input": [
      "#4\ubc88\n",
      "\n",
      "L[1:3] = (100)\n",
      "print L"
     ],
     "language": "python",
     "metadata": {},
     "outputs": [
      {
       "ename": "TypeError",
       "evalue": "can only assign an iterable",
       "output_type": "pyerr",
       "traceback": [
        "\u001b[1;31m---------------------------------------------------------------------------\u001b[0m\n\u001b[1;31mTypeError\u001b[0m                                 Traceback (most recent call last)",
        "\u001b[1;32m<ipython-input-8-944816a0a73e>\u001b[0m in \u001b[0;36m<module>\u001b[1;34m()\u001b[0m\n\u001b[0;32m      1\u001b[0m \u001b[1;31m#4\ubc88\u001b[0m\u001b[1;33m\u001b[0m\u001b[1;33m\u001b[0m\u001b[0m\n\u001b[0;32m      2\u001b[0m \u001b[1;33m\u001b[0m\u001b[0m\n\u001b[1;32m----> 3\u001b[1;33m \u001b[0mL\u001b[0m\u001b[1;33m[\u001b[0m\u001b[1;36m1\u001b[0m\u001b[1;33m:\u001b[0m\u001b[1;36m3\u001b[0m\u001b[1;33m]\u001b[0m \u001b[1;33m=\u001b[0m \u001b[1;33m(\u001b[0m\u001b[1;36m100\u001b[0m\u001b[1;33m)\u001b[0m\u001b[1;33m\u001b[0m\u001b[0m\n\u001b[0m\u001b[0;32m      4\u001b[0m \u001b[1;32mprint\u001b[0m \u001b[0mL\u001b[0m\u001b[1;33m\u001b[0m\u001b[0m\n",
        "\u001b[1;31mTypeError\u001b[0m: can only assign an iterable"
       ]
      }
     ],
     "prompt_number": 8
    },
    {
     "cell_type": "markdown",
     "metadata": {},
     "source": [
      "\ub9ac\uc2a4\ud2b8\uc5d0 \ud29c\ud50c\uc744 \ub300\uccb4\ud560\ub54c \ubc14\uafb8\ub824\ub294 \uac2f\uc218\ubcf4\ub2e4 \uac12\uc774 \uc801\uae30\ub54c\ubb38\uc5d0 \ubc14\uafc0 \uc218 \uc5c6\ub2e4."
     ]
    },
    {
     "cell_type": "code",
     "collapsed": false,
     "input": [
      "#5\ubc88\n",
      "\n",
      "L[1:3] = (100, 101, 102)\n",
      "print L"
     ],
     "language": "python",
     "metadata": {},
     "outputs": [
      {
       "output_type": "stream",
       "stream": "stdout",
       "text": [
        "[1, 100, 101, 102]\n"
       ]
      }
     ],
     "prompt_number": 9
    },
    {
     "cell_type": "markdown",
     "metadata": {},
     "source": [
      "\ud29c\ud50c\uc758 \uac12\uc774 \ub354 \ub9ce\uae30\ub54c\ubb38\uc5d0 \ubc14\uafc0 \uc218 \uc788\ub2e4."
     ]
    },
    {
     "cell_type": "code",
     "collapsed": false,
     "input": [
      "#6\ubc88\n",
      "\n",
      "L[1:3] = [100, 101, 102]\n",
      "print L"
     ],
     "language": "python",
     "metadata": {},
     "outputs": [
      {
       "output_type": "stream",
       "stream": "stdout",
       "text": [
        "[1, 100, 101, 102, 102]\n"
       ]
      }
     ],
     "prompt_number": 10
    },
    {
     "cell_type": "markdown",
     "metadata": {},
     "source": [
      "\ub9ac\uc2a4\ud2b8\ub294 \uc5b8\uc81c\ub098 \uac12\uc744 \ubcc0\uacbd\ud560 \uc218 \uc788\ub2e4."
     ]
    },
    {
     "cell_type": "code",
     "collapsed": false,
     "input": [
      "#7\ubc88\n",
      "\n",
      "L[1:3] = [(100, 101, 102)]\n",
      "print L"
     ],
     "language": "python",
     "metadata": {},
     "outputs": [
      {
       "output_type": "stream",
       "stream": "stdout",
       "text": [
        "[1, (100, 101, 102), 102, 102]\n"
       ]
      }
     ],
     "prompt_number": 11
    },
    {
     "cell_type": "markdown",
     "metadata": {},
     "source": [
      "\ud29c\ud50c\uc778\ub4ef \ud558\ub098 \uacb0\uad6d \ub9ac\uc2a4\ud2b8\uc784\uc73c\ub85c \uac12\uc744 \ubcc0\uacbd \ud560 \uc218 \uc788\ub2e4."
     ]
    },
    {
     "cell_type": "code",
     "collapsed": false,
     "input": [
      "#8\ubc88\n",
      "\n",
      "L[1:3] = [[100, 101, 102]]\n",
      "print L"
     ],
     "language": "python",
     "metadata": {},
     "outputs": [
      {
       "output_type": "stream",
       "stream": "stdout",
       "text": [
        "[1, [100, 101, 102], 102]\n"
       ]
      }
     ],
     "prompt_number": 12
    },
    {
     "cell_type": "markdown",
     "metadata": {},
     "source": [
      "\uc774\uac83 \uc5ed\uc2dc \ub9ac\uc2a4\ud2b8\uc774\uae30\ub54c\ubb38\uc5d0 \ubcc0\uacbd \ud560 \uc218 \uc788\ub2e4."
     ]
    },
    {
     "cell_type": "markdown",
     "metadata": {},
     "source": [
      "***"
     ]
    },
    {
     "cell_type": "markdown",
     "metadata": {},
     "source": [
      "[\ubb38\uc81c2\ubc88]\n",
      "--\n",
      "\ubb38\uc790\uc5f4 S = 'Hello World and Python'\uc5d0 \ub300\ud574 \ub2e4\uc74c \uc694\uad6c\uc0ac\ud56d\uc5d0 \ub300\ud55c Python \ucf54\ub4dc\ub97c \uc81c\uc2dc\ud558\uc2dc\uc624.\n",
      "\n",
      "1) \ub2e8\uc5b4\uc758 \uc21c\uc11c\uac00 \uc5ed\uc21c\uc73c\ub85c \ub418\uc5b4\uc9c4 \ubb38\uc790\uc5f4 ('Python and World Hello')\uc744 \ub9cc\ub4e4\uace0\n",
      "\n",
      "2) 1)\uc758 \uacb0\uacfc \ubb38\uc790\uc5f4\uc5d0 \ub300\ud574 \uba54\uc18c\ub4dc split\uacfc join\uc744 \uc774\uc6a9\ud558\uc5ec \uacf5\ubc31\uc744 \ubaa8\ub450 \uc5c6\uc5d4 \ubb38\uc790\uc5f4 'PythonandWorldHello'\uc744 \ub9cc\ub4dc\uc2dc\uc624.\n",
      "***"
     ]
    },
    {
     "cell_type": "code",
     "collapsed": false,
     "input": [
      "s='Hello World and Python'"
     ],
     "language": "python",
     "metadata": {},
     "outputs": [],
     "prompt_number": 5
    },
    {
     "cell_type": "code",
     "collapsed": false,
     "input": [
      "#1\ubc88\n",
      "s=s.split()\n",
      "s.reverse()\n",
      "s = s[0]+' '+s[1]+' '+s[2]+' '+s3]\n",
      "s\n"
     ],
     "language": "python",
     "metadata": {},
     "outputs": [
      {
       "metadata": {},
       "output_type": "pyout",
       "prompt_number": 6,
       "text": [
        "'Python and World Hello'"
       ]
      }
     ],
     "prompt_number": 6
    },
    {
     "cell_type": "code",
     "collapsed": false,
     "input": [
      "#2\ubc88\n",
      "s=s.split()\n",
      "s=''.join(s)\n",
      "s"
     ],
     "language": "python",
     "metadata": {},
     "outputs": [
      {
       "metadata": {},
       "output_type": "pyout",
       "prompt_number": 7,
       "text": [
        "'PythonandWorldHello'"
       ]
      }
     ],
     "prompt_number": 7
    },
    {
     "cell_type": "markdown",
     "metadata": {},
     "source": [
      "[\ubb38\uc81c3\ubc88]\n",
      "--\n",
      "\ub2e4\uc74c \ucf54\ub4dc\ub97c \ubcf4\uace0 \ubb3c\uc74c\uc5d0 \ub2f5\ud558\uc2dc\uc624.\n",
      "***"
     ]
    },
    {
     "cell_type": "code",
     "collapsed": false,
     "input": [
      "a = [1, 2, 3]\n",
      "b = a * 3\n",
      "c = [a] * 3\n",
      "print b\n",
      "print c"
     ],
     "language": "python",
     "metadata": {},
     "outputs": [
      {
       "output_type": "stream",
       "stream": "stdout",
       "text": [
        "[1, 2, 3, 1, 2, 3, 1, 2, 3]\n",
        "[[1, 2, 3], [1, 2, 3], [1, 2, 3]]\n"
       ]
      }
     ],
     "prompt_number": 9
    },
    {
     "cell_type": "markdown",
     "metadata": {},
     "source": [
      "1) \uc704 \ucf54\ub4dc\ub97c \uc218\ud589\ud55c \uc774\ud6c4 \ub2e4\uc74c \ucf54\ub4dc\ub97c \uc218\ud589\ud55c \ud6c4 b\uc640 c\uc758 \ub0b4\uc6a9\uc744 \ud655\uc778\ud558\uc2dc\uc624.\n",
      "\n",
      "a[0]=0"
     ]
    },
    {
     "cell_type": "code",
     "collapsed": false,
     "input": [
      "a[0]=0\n",
      "print b\n",
      "print c"
     ],
     "language": "python",
     "metadata": {},
     "outputs": [
      {
       "output_type": "stream",
       "stream": "stdout",
       "text": [
        "[1, 2, 3, 1, 2, 3, 1, 2, 3]\n",
        "[[0, 2, 3], [0, 2, 3], [0, 2, 3]]\n"
       ]
      }
     ],
     "prompt_number": 11
    },
    {
     "cell_type": "markdown",
     "metadata": {},
     "source": [
      "2) b\uc640 c \uac1d\uccb4\uc758 \ucc28\uc774\ub294 \ubb34\uc5c7\uc778\uac00?"
     ]
    },
    {
     "cell_type": "markdown",
     "metadata": {},
     "source": [
      "b\ub294 a\ub9ac\uc2a4\ud2b8 \uac1d\uccb4 \uc790\uccb4\ub97c \ubcf5\uc0ac\ud574 b\uc5d0 \uc800\uc7a5\ud55c \uacbd\uc6b0\ub85c a\ub97c \ucc38\uc870\ud55c \uac83\uc774 \uc544\ub2c8\uae30 \ub54c\ubb38\uc5d0 \uac12\uc774 \ubcc0\ud558\uc9c0 \uc54a\uc9c0\ub9cc c\ub294 a\uac1d\uccb4\ub97c \ub9ac\uc2a4\ud2b8\ud654 \ud574\uc11c \uc774 \ub9ac\uc2a4\ud2b8 \uac1d\uccb4\uc758 \ucc38\uc870\uac12\uc744 \ubcf5\uc0ac,\uc800\uc7a5\ud55c \uac83\uc774\ubbc0\ub85c \uac12\uc774 \ubcc0\ud55c\ub2e4. deep\uacfc shallow copy\uc758 \uacbd\uc6b0\ub2e4."
     ]
    },
    {
     "cell_type": "markdown",
     "metadata": {},
     "source": [
      "***\n",
      "[\ubb38\uc81c4\ubc88]\n",
      "--\n",
      "\ub2e4\uc74c \ubb38\uc790\uc5f4\uc744 ':'\uc744 \uae30\uc900\uc73c\ub85c \ubd84\ub9ac\ud558\uc5ec \ub9ac\uc2a4\ud2b8\ub85c \ub9cc\ub4e4\uace0 \uac01 \ubb38\uc790\uc5f4\uc758 \uc88c\uc6b0 \uacf5\ubc31\uc744 \uc81c\uac70\ud558\uc2dc\uc624 (\uc989, \ubb38\uc790\uc5f4 S\uc5d0\uc11c l\uc744 \ub9cc\ub4e4\uc5b4\ub77c)\n",
      "\n",
      "s = '  first star   :   second star   :    third star  '\n",
      "\n",
      "l = ['first star', 'second star', 'third star']\n",
      "\n",
      "***"
     ]
    },
    {
     "cell_type": "markdown",
     "metadata": {},
     "source": [
      "1) for ~ in \ubb38\uc744 \uc774\uc6a9\ud55c \ucf54\ub4dc\ub97c \uc791\uc131\ud558\uc2dc\uc624"
     ]
    },
    {
     "cell_type": "code",
     "collapsed": false,
     "input": [
      "s = ' first star : second star : third star '\n",
      "s = s.split(':')\n",
      "l = []\n",
      "for x in s:\n",
      "    x = x.strip()\n",
      "    l.append(x)\n",
      "    \n",
      "print l"
     ],
     "language": "python",
     "metadata": {},
     "outputs": [
      {
       "output_type": "stream",
       "stream": "stdout",
       "text": [
        "['first star', 'second star', 'third star']\n"
       ]
      }
     ],
     "prompt_number": 13
    },
    {
     "cell_type": "markdown",
     "metadata": {},
     "source": [
      "2) \ub9ac\uc2a4\ud2b8 \ub0b4\ud3ec(list comprehension)\ub97c \uc774\uc6a9\ud55c \ucf54\ub4dc\ub97c \uc791\uc131\ud558\uc2dc\uc624."
     ]
    },
    {
     "cell_type": "code",
     "collapsed": false,
     "input": [
      "s = ' first star : second star : third star '\n",
      "s = s.split(':')\n",
      "l = []\n",
      "l.append([ x.strip() for x in s])\n",
      "print l"
     ],
     "language": "python",
     "metadata": {},
     "outputs": [
      {
       "output_type": "stream",
       "stream": "stdout",
       "text": [
        "[['first star', 'second star', 'third star']]\n"
       ]
      }
     ],
     "prompt_number": 14
    },
    {
     "cell_type": "markdown",
     "metadata": {},
     "source": [
      "***\n",
      "[\ubb38\uc81c5\ubc88]\n",
      "--\n",
      "\ub2e4\uc74c\uacfc \uac19\uc774 0\ubcf4\ub2e4 \ud070 \uc815\uc218 \ub9ac\uc2a4\ud2b8 \ubcc0\uc218 list\ub97c \uc778\uc790\ub85c \ubc1b\ub294 \ud568\uc218 addall(list)\uc640 addallodd(list)\ub97c for ~ in \ub9ac\ud130\ub110\uacfc \ub9ac\uc2a4\ud2b8 \ub0b4\ud3ec \ubc29\uc2dd\uc73c\ub85c \uac01\uac01 \uc81c\uc2dc\ud558\uc2dc\uc624.\n",
      "***"
     ]
    },
    {
     "cell_type": "markdown",
     "metadata": {},
     "source": [
      "1) addall(list) \ud568\uc218 (\ub9ac\uc2a4\ud2b8 \ub0b4\uc758 \ubaa8\ub4e0 \uc815\uc218\ub97c \ub354\ud558\ub294 \ud568\uc218\ub85c\uc11c \ud574\ub2f5\uc73c\ub85c\ub294 for ~ in \ub9ac\ud130\ub7f4\uacfc \ub9ac\uc2a4\ud2b8 \ub0b4\ud3ec \ubc29\uc2dd\uc73c\ub85c \uac01\uac01 \uc81c\uc2dc\ud558\uc2dc\uc624.)\n",
      ">>> addall([1])\n",
      "1\n",
      ">>> addall([1, 2, 3, 4, 5, 6, 7, 8, 9])\n",
      "45"
     ]
    },
    {
     "cell_type": "code",
     "collapsed": false,
     "input": [
      "list = [1,2,3,4,5,6,7,8,9]\n",
      "def addall(list):\n",
      "    sum = 0\n",
      "    for x in list:\n",
      "        sum +=x\n",
      "    return sum\n",
      "print addall(list)"
     ],
     "language": "python",
     "metadata": {},
     "outputs": [
      {
       "output_type": "stream",
       "stream": "stdout",
       "text": [
        "45\n"
       ]
      }
     ],
     "prompt_number": 15
    },
    {
     "cell_type": "code",
     "collapsed": false,
     "input": [
      "list = [1,2,3,4,5,6,7,8,9]\n",
      "def addall(list):\n",
      "    num = [x for x in list]\n",
      "    return sum(num)\n",
      "print addall(list)"
     ],
     "language": "python",
     "metadata": {},
     "outputs": [
      {
       "output_type": "stream",
       "stream": "stdout",
       "text": [
        "[1, 2, 3, 4, 5, 6, 7, 8, 9]\n"
       ]
      }
     ],
     "prompt_number": 17
    },
    {
     "cell_type": "markdown",
     "metadata": {},
     "source": [
      "2) addallodd(list) \ud568\uc218 (\ub9ac\uc2a4\ud2b8\ub0b4\uc758 \ubaa8\ub4e0 \ud640\uc218\ub97c \ub354\ud558\ub294 \ud568\uc218\ub85c\uc11c \ud574\ub2f5\uc73c\ub85c\ub294 for ~ in \ub9ac\ud130\ub7f4\uacfc \ub9ac\uc2a4\ud2b8 \ub0b4\ud3ec \ubc29\uc2dd\uc73c\ub85c \uac01\uac01 \uc81c\uc2dc\ud558\uc2dc\uc624.)\n",
      ">>> addallodd([1])\n",
      "1\n",
      "\n",
      ">>> addallodd([1, 2, 3, 4, 5, 6, 7, 8, 9])\n",
      "25"
     ]
    },
    {
     "cell_type": "code",
     "collapsed": false,
     "input": [
      "list = [1,2,3,4,5,6,7,8,9]\n",
      "def addallodd(list):\n",
      "    sum=0\n",
      "    for x in list: \n",
      "        if(x%2!=0):\n",
      "            sum +=x \n",
      "    return sum\n",
      "print addallodd(list)"
     ],
     "language": "python",
     "metadata": {},
     "outputs": [
      {
       "output_type": "stream",
       "stream": "stdout",
       "text": [
        "25\n"
       ]
      }
     ],
     "prompt_number": 18
    },
    {
     "cell_type": "code",
     "collapsed": false,
     "input": [
      "list = [1,2,3,4,5,6,7,8,9]\n",
      "def addallodd(list):\n",
      "    num = [ x for x in list if(x%2!=0) ]\n",
      "    return sum(num)\n",
      "print addallodd(list)"
     ],
     "language": "python",
     "metadata": {},
     "outputs": [
      {
       "output_type": "stream",
       "stream": "stdout",
       "text": [
        "25\n"
       ]
      }
     ],
     "prompt_number": 19
    },
    {
     "cell_type": "markdown",
     "metadata": {},
     "source": [
      "***\n",
      "[\ubb38\uc81c6\ubc88]\n",
      "--\n",
      "\ub2e4\uc74c \ucf54\ub4dc\ub97c \ubcf4\uace0 \ubb3c\uc74c\uc5d0 \ub2f5\ud558\uc2dc\uc624.\n",
      "***"
     ]
    },
    {
     "cell_type": "code",
     "collapsed": false,
     "input": [
      "L1 = [1, 2, 3]\n",
      "L2 = [4, 5, 6]\n",
      "d = {'low':L1, 'high':L2}\n",
      "e = d\n",
      "f = d.copy()\n",
      "print d\n",
      "print e\n",
      "print f\n",
      "print\n",
      "d['low'] = [10, 20, 30]\n",
      "d['high'][1] = 500\n",
      "print d\n",
      "print e\n",
      "print f"
     ],
     "language": "python",
     "metadata": {},
     "outputs": [
      {
       "output_type": "stream",
       "stream": "stdout",
       "text": [
        "{'high': [4, 5, 6], 'low': [1, 2, 3]}\n",
        "{'high': [4, 5, 6], 'low': [1, 2, 3]}\n",
        "{'high': [4, 5, 6], 'low': [1, 2, 3]}\n",
        "\n",
        "{'high': [4, 500, 6], 'low': [10, 20, 30]}\n",
        "{'high': [4, 500, 6], 'low': [10, 20, 30]}\n",
        "{'high': [4, 500, 6], 'low': [1, 2, 3]}\n"
       ]
      }
     ],
     "prompt_number": 19
    },
    {
     "cell_type": "markdown",
     "metadata": {},
     "source": [
      "1) \uc704 \ucf54\ub4dc\uc758 \uc218\ud589 \uacb0\uacfc d\uc640 e\ub294 \ud56d\uc0c1 \uac19\uc740 \uacb0\uacfc\ub97c \ucd9c\ub825\ud55c\ub2e4. \uadf8 \uc774\uc720\ub294 \ubb34\uc5c7\uc778\uac00?"
     ]
    },
    {
     "cell_type": "markdown",
     "metadata": {},
     "source": [
      "e\ub294 d\ub97c shallow copy \ud588\uae30\ub54c\ubb38\uc5d0 d\uc758 \ub0b4\uc6a9\uc774 \ubcc0\ud558\uba74 d\ub97c \ucc38\uc870\ud558\ub294 \ubcc0\uc218 e \uac12 \ub610\ud55c \ubcc0\ud558\uac8c \ub41c\ub2e4."
     ]
    },
    {
     "cell_type": "markdown",
     "metadata": {},
     "source": [
      "2) \uc704 \ucf54\ub4dc\uc758 \uc218\ud589 \uacb0\uacfc \ub9c8\uc9c0\ub9c9 f\uc758 \ub0b4\uc6a9\uc740 \ub2e4\uc74c\uacfc \uac19\ub2e4. \uc774 \ub54c 'high' \ud0a4\uc758 \uac12 \ub0b4\uc6a9 \uc911 500\uc774 \ucd9c\ub825\ub41c \uc774\uc720\uc640 'low' \ud0a4\uc758 \uac12 \ub0b4\uc6a9 \uc911 [1, 2, 3]\uc774 \ucd9c\ub825\ub41c \uc774\uc720\ub97c \uc124\uba85\ud558\uc2dc\uc624 ([hint]: shallow copy \uad00\uc810\uc5d0\uc11c \uc124\uba85\ud558\uc2dc\uc624.)\n",
      "\n",
      "{'high': [4, 500, 6], 'low': [1, 2, 3]}"
     ]
    },
    {
     "cell_type": "markdown",
     "metadata": {},
     "source": [
      "f\ub294 deep copy \uc774\uae30 \ub54c\ubb38\uc5d0 shallow copy\uc640\ub294 \ub2e4\ub974\uac8c d\ub97c \ubcf5\uc0ac\ud574 \ub2e4\ub978 \uac1d\uccb4\ub85c \uac00\ub9ac\ud0a4\uace0 \uc788\ub2e4. \uadf8\ub807\uae30 \ub54c\ubb38\uc5d0 low \uac12\uc744 \ubc14\uafd4\ub3c4 \ubcc0\ud558\uc9c0 \uc54a\ub294\ub2e4.\n",
      "\ud558\uc9c0\ub9cc \ub9ac\uc2a4\ud2b8 \ub0b4\ubd80\uc758 \uac12\uc740 \uacb0\uad6d \uc694\uc18c\ub97c \ucc38\uc870\ud558\uae30 \ub54c\ubb38\uc5d0 deep copy\ub97c \ud574\ub3c4 \uadf8 \uac12\uc740 \uacf5\uc720\ud55c\ub2e4. \ub530\ub77c\uc11c d\uc758 high \uac12\uc758 \uc694\uc18c\ub97c \ubc14\uafb8\uba74 f\ub3c4 \ubc14\ub00c\uac8c \ub41c\ub2e4."
     ]
    },
    {
     "cell_type": "markdown",
     "metadata": {},
     "source": [
      "***\n",
      "[\ubb38\uc81c7\ubc88]\n",
      "--\n",
      "\uc0ac\uc804 d = {'one':1, 'two':2, 'three':3, 'four':4, 'five':5}\uac00 \uc8fc\uc5b4\uc84c\uc744 \ub54c \ub2e4\uc74c \uc694\uad6c\uc0ac\ud56d\uc5d0 \ub9de\ub294 \ucf54\ub4dc\ub97c \uc81c\uc2dc\ud558\uc2dc\uc624\n",
      "\n",
      "[\ucc38\uace0]: d.keys(), d.values()\ub97c \ud1b5\ud574 \ub9ac\uc2a4\ud2b8\ub97c \uc5bb\uc5b4\ub0b8 \ud6c4 \ub9ac\uc2a4\ud2b8\uac00 \uc9c0\ub2c8\uace0 \uc788\ub294 sort(cmp=None, key=None, reverse=False)\ud568\uc218\ub97c \ud65c\uc6a9\ud558\uc2dc\uc624\n",
      "***"
     ]
    },
    {
     "cell_type": "markdown",
     "metadata": {},
     "source": [
      "1) \ud0a4\uc758 \uc54c\ud30c\ubcb3 \uc624\ub984\ucc28\uc21c \uc21c\uc11c\ub300\ub85c \ud29c\ud50c (\ud0a4, \uac12)\uc744 \ucc28\ub840\ub300\ub85c \ucd9c\ub825\ud558\uc2dc\uc624."
     ]
    },
    {
     "cell_type": "code",
     "collapsed": false,
     "input": [
      "d = {'one':1, 'two':2, 'three':3, 'four':4, 'five':5}\n",
      "d = d.items()\n",
      "d.sort()\n",
      "print d"
     ],
     "language": "python",
     "metadata": {},
     "outputs": [
      {
       "output_type": "stream",
       "stream": "stdout",
       "text": [
        "[('five', 5), ('four', 4), ('one', 1), ('three', 3), ('two', 2)]\n"
       ]
      }
     ],
     "prompt_number": 22
    },
    {
     "cell_type": "markdown",
     "metadata": {},
     "source": [
      "2) \ud0a4\uc758 \uc54c\ud30c\ubcb3 \ub0b4\ub9bc\ucc28\uc21c \uc21c\uc11c\ub300\ub85c \ud29c\ud50c (\ud0a4, \uac12)\uc744 \ucc28\ub840\ub300\ub85c \ucd9c\ub825\ud558\uc2dc\uc624."
     ]
    },
    {
     "cell_type": "code",
     "collapsed": false,
     "input": [
      "d = {'one':1, 'two':2, 'three':3, 'four':4, 'five':5}\n",
      "d = d.items()\n",
      "d.sort(reverse=True)\n",
      "print d"
     ],
     "language": "python",
     "metadata": {},
     "outputs": [
      {
       "output_type": "stream",
       "stream": "stdout",
       "text": [
        "[('two', 2), ('three', 3), ('one', 1), ('four', 4), ('five', 5)]\n"
       ]
      }
     ],
     "prompt_number": 23
    },
    {
     "cell_type": "markdown",
     "metadata": {},
     "source": [
      "3) \uac12\uc758 \uc624\ub984\ucc28\uc21c \uc21c\uc11c\ub300\ub85c \ud29c\ud50c (\ud0a4, \uac12)\uc744 \ucc28\ub840\ub300\ub85c \ucd9c\ub825\ud558\uc2dc\uc624."
     ]
    },
    {
     "cell_type": "code",
     "collapsed": false,
     "input": [
      "d = {'one':1, 'two':2, 'three':3, 'four':4, 'five':5}\n",
      "L.sort(key=lambda value:value[1]) \n",
      "L"
     ],
     "language": "python",
     "metadata": {},
     "outputs": [
      {
       "metadata": {},
       "output_type": "pyout",
       "prompt_number": 84,
       "text": [
        "[('one', 1), ('two', 2), ('three', 3), ('four', 4), ('five', 5)]"
       ]
      }
     ],
     "prompt_number": 84
    },
    {
     "cell_type": "markdown",
     "metadata": {},
     "source": [
      "4) \uac12\uc758 \ub0b4\ub9bc\ucc28\uc21c \uc21c\uc11c\ub300\ub85c \ud29c\ud50c (\ud0a4, \uac12)\uc744 \ucc28\ub840\ub300\ub85c \ucd9c\ub825\ud558\uc2dc\uc624."
     ]
    },
    {
     "cell_type": "code",
     "collapsed": false,
     "input": [
      "d = {'one':1, 'two':2, 'three':3, 'four':4, 'five':5}\n",
      "L.sort(key=lambda value:value[1]) \n",
      "L.reverse()\n",
      "L"
     ],
     "language": "python",
     "metadata": {},
     "outputs": [
      {
       "metadata": {},
       "output_type": "pyout",
       "prompt_number": 87,
       "text": [
        "[('five', 5), ('four', 4), ('three', 3), ('two', 2), ('one', 1)]"
       ]
      }
     ],
     "prompt_number": 87
    },
    {
     "cell_type": "markdown",
     "metadata": {},
     "source": [
      "***\n",
      "[\ubb38\uc81c8\ubc88]\n",
      "--\n",
      "\uc774\uc804 Assignment 2\uc758 \ub9c8\uc9c0\ub9c9 \ubb38\uc81c\ub294 \uc6f9 URL\ub85c \uc9c0\uc815\ub41c \uc6f9\ud398\uc774\uc9c0\ub97c \ubb38\uc790\uc5f4\ub85c \uac00\uc838\uc640 \ubaa8\ub4e0 HTML \ud0dc\uadf8 \ubc0f CSS\uc640 Javascript\ub97c \uc81c\uc678\ud55c \uc21c\uc218 \ud14d\uc2a4\ud2b8\ub97c \uc5bb\uc5b4\ub0b4\uace0 \uadf8 \uc548\uc5d0 \uc874\uc7ac\ud558\ub294 \ub2e8\uc5b4\ub97c \ucd94\ucd9c\ud558\ub294 \ud504\ub85c\uadf8\ub7a8\uc744 \uc791\uc131\ud558\ub294 \uac83\uc774\uc5c8\ub2e4. \n",
      "\n",
      "\uc774\ubc88\uc5d0\ub294 \uadf8 \ub9c8\uc9c0\ub9c9 \uc219\uc81c\ub97c \uadf8\ub300\ub85c \ud655\uc7a5\ud558\uc5ec \uc6f9 URL\ub85c \uc9c0\uc815\ub41c \uc6f9\ud398\uc774\uc9c0 \ub0b4 \uc21c\uc218 \ud14d\uc2a4\ud2b8 \uc548\uc5d0 \uc874\uc7ac\ud558\ub294 \uac01 \ub2e8\uc5b4\ub4e4\uc5d0 \ub300\ud574 \ub2e4\uc74c \uc694\uad6c\uc0ac\ud56d \ub300\ub85c \ucd9c\ub825\ud558\ub294 \ud504\ub85c\uadf8\ub7a8\uc744 \uc791\uc131\ud558\uc2dc\uc624.\n",
      "***"
     ]
    },
    {
     "cell_type": "markdown",
     "metadata": {},
     "source": [
      "\uc694\uad6c\uc0ac\ud56d 1. \uc21c\uc218 \ud14d\uc2a4\ud2b8 \uc548\uc5d0 \uc874\uc7ac\ud558\ub294 \ub2e8\uc5b4\ub4e4\uc5d0 \ub300\ud574 string \ubaa8\ub4c8\uc744 \ud65c\uc6a9\ud558\uc5ec \ubaa8\ub4e0 punctuation (\uad6c\ub450\ubb38\uc790)\ub97c \uc644\ubcbd\ud788 \uc81c\uac70\ud558\uc2dc\uc624 (\uad50\uc7ac 166\ud398\uc774\uc9c0 \ucc38\uace0).\n",
      "\n",
      "\uc608: ['world!', ':', '+hello+', '~python$$$', '=', 'world'] ---> ['world', 'hello', 'python', 'world']"
     ]
    },
    {
     "cell_type": "markdown",
     "metadata": {},
     "source": [
      "\uc694\uad6c\uc0ac\ud56d 2. \uac01 \ub2e8\uc5b4\ub4e4\uc758 \ucd9c\ud604\ube48\ub3c4\ub97c \uc0ac\uc804\ud615\ud0dc\ub85c \uc800\uc7a5\ud558\uc5ec \ucd9c\ub825\ud558\uc2dc\uc624.\n",
      "\n",
      "\uc608: ['world', 'hello', 'python', 'world'] ---> {'world': 2, 'hello': 1, 'python': 1}"
     ]
    },
    {
     "cell_type": "code",
     "collapsed": false,
     "input": [
      "import urllib\n",
      "import string\n",
      "\n",
      "source = urllib.urlopen(\"http://cse.kut.ac.kr/\").read()\n",
      "\n",
      "len_source = len(source)\n",
      "\n",
      "source_new = None\n",
      "i = 0\n",
      "while (i < len_source):\n",
      "\tfound = False\n",
      "\tif (found != True and source[i] == \"<\" and source[i+1 : i+7].lower() == \"script\"):\n",
      "\t\tfound = True;\n",
      "\t\tj = i + 7;\n",
      "\t\twhile (True):\n",
      "\t\t\tif (source[j] == \"<\" and source[j+1] == \"/\" and source[j+2 : j+8].lower() == \"script\"):\n",
      "\t\t\t\t#print \"found - script\"\n",
      "\t\t\t\tsource = source[:i] + ' ' + source[j+9:]\n",
      "\t\t\t\tbreak\n",
      "\t\t\tj = j + 1\n",
      "\t\t\tif (j > len_source):\n",
      "\t\t\t\tbreak\n",
      "\t\tlen_source = len(source)\n",
      "\ti = i + 1\n",
      "\n",
      "len_source = len(source)\n",
      "#print len_source\n",
      "\n",
      "i = 0\n",
      "while (i < len_source):\n",
      "\tfound = False\n",
      "\tif (found != True and source[i] == \"<\" and source[i+1 : i+6].lower() == \"style\"):\n",
      "\t\tfound = True;\n",
      "\t\tj = i + 6;\n",
      "\t\twhile (True):\n",
      "\t\t\tif (source[j] == \"<\" and source[j+1] == \"/\" and source[j+2 : j+7].lower() == \"style\"):\n",
      "\t\t\t\t#print \"found - style\"\n",
      "\t\t\t\tsource = source[:i] + ' ' + source[j+8:]\n",
      "\t\t\t\tbreak\n",
      "\t\t\tj = j + 1\n",
      "\t\t\tif (j > len_source):\n",
      "\t\t\t\tbreak\n",
      "\t\tlen_source = len(source)\n",
      "\ti = i + 1\n",
      "\n",
      "len_source = len(source)\n",
      "#print len_source\n",
      "\n",
      "i = 0\n",
      "while (i < len_source):\n",
      "\tfound = False\n",
      "\tif (found != True and source[i] == \"<\"):\n",
      "\t\tfound = True;\n",
      "\t\tj = i + 1;\n",
      "\t\twhile (True):\n",
      "\t\t\tif (source[j] == \">\"):\n",
      "\t\t\t\t#print \"found - HTML tag\"\n",
      "\t\t\t\tsource = source[:i] + ' ' + source[j+1:]\n",
      "\t\t\t\tbreak\n",
      "\t\t\tj = j + 1\n",
      "\t\t\tif (j > len_source):\n",
      "\t\t\t\tbreak\n",
      "\t\tlen_source = len(source)\n",
      "\ti = i + 1\n",
      "\n",
      "len_source = len(source)\n",
      "\n",
      "\n",
      "source = unicode(source,'utf-8')\n",
      "c=0\n",
      "while(c<len(source)):\n",
      "    if(source[c] in string.punctuation):\n",
      "        source = source[:c] + source[c+1:]\n",
      "        c=0\n",
      "    c=c+1    \n",
      "words = source.split()\n",
      "\n",
      "\n",
      "for word in words:\n",
      "    print \"'\"+word+\"'\","
     ],
     "language": "python",
     "metadata": {},
     "outputs": [
      {
       "output_type": "stream",
       "stream": "stdout",
       "text": [
        "'\ucef4\ud4e8\ud130\uacf5\ud559\ubd80' '\ud648\ud398\uc774\uc9c0' '\ucef4\ud4e8\ud130\uacf5\ud559\ubd80' '\uad50\uc721\ubaa9\ud45c' '\ucc3e\uc544\uc624\uc2dc\ub294\uae38' '\uc878\uc5c5\uc791\ud488' '\uacf5\ud559\uc124\uacc4' '\ucde8\uc5c5\uc870\uc0ac2014' '\ucde8\uc5c5\uc870\uc0ac2013' '\uad50\uc218\uc9c4' '\ud559\uc0dd\ud68c' '\uc878\uc5c5\uc774\uc218\uc694\uac74' '\ucef4\ud4e8\ud130SW' '\ucef4\ud4e8\ud130HW' '\ucef4\ud4e8\ud130\uc2a4\ub9c8\ud2b8IT' '\ucef4\ud4e8\ud130\uc2dc\uc2a4\ud15c\uc751\uc6a9' '\uc7a5\ud559\uc81c\ub3c4' '\ubaa8\uc9d1\uc694\uac15' '\uc785\uc2dcQA' '\uacf5\uc9c0\uc0ac\ud56d' '\uc790\uc720\uac8c\uc2dc\ud310' '\uc775\uba85\uac8c\uc2dc\ud310' '\ucde8\uc5c5\uac8c\uc2dc\ud310' '\ub3d9\ubb38\uac8c\uc2dc\ud310' '\uc0ac\uc9c4\uac8c\uc2dc\ud310' '\ud559\ubd80\uc0ac\uc9c4\uac94\ub7ec\ub9ac' '\uace0\uc7a5\uc2e0\uace0\uac8c\uc2dc\ud310' '\uac15\uc758\uc790\ub8cc\uc2e4' '\uc77c\ubc18\uc790\ub8cc\uc2e4' '\uc11c\uc2dd\ubc0f\uc591\uc2dd\uc790\ub8cc\uc2e4' '\ub300\ud559\uc6d0\uc18c\uac1c' '\uc5f0\uad6c\uc2e4\uc18c\uac1c' '\ub300\ud559\uc6d0\uac8c\uc2dc\ud310' '\uacf5\ud559\uc778\uc99d\uc548\ub0b4' '\uacf5\ud559\uc778\uc99d\uac8c\uc2dc\ud310' 'C' '20140327' '\uacf5\ud559\uc124\uacc4' '\ud3ec\uc2a4\ud130\ubc1c\ud45c\uacbd\uc9c4\ub300\ud68c' '\ud22c\ud45c' '20131210' '2013\ub144' '\uc878\uc5c5\uc791\ud488' '\ube0c\ub85c\uc154' '20131007' '\uc81c' '4\ub300' '\ucef4\ud4e8\ud130\uacf5\ud559\ubd80' '\ud559\ud68c\uc7a5\ubd80\ud559' '20121105' '\ub514\uc9c0\ud138' '\uc2dc\uc2a4\ud15c' '\uc124\uacc41' '\uc2e4\uc2b5\uc870\uad50' '20120909' '\uc18c\ud504\ud2b8\uc6e8\uc5b4\uacf5\ud559' '\uc911\uac04\uace0\uc0ac' '\uacf5\uc9c0' '20141016' '\ucef4\ud4e8\ud130\uacf5\ud559\ubd80' '\ud559\uc0dd\ub4e4\uc744' '\uc704\ud55c' '\ub18d\uad6c' '20141006' '\ud639\uc2dc' '\ud64d\uc9c4\ud45c' '\uad50\uc218\ub2d8\uc758' '\ucef4\ud4e8\ud130' '\uad6c' 'nbsp' '2' '20141006' '\uc18c\ud504\ud2b8\uc6e8\uc5b4' '\uac1c\ubc1c\ubcf4\uc548' '\uacbd\uc9c4\ub300\ud68c' '\uac1c\ucd5c' '20141001' '2015\ub144' '\uc0c1\ubc18\uae30' '\uc0bc\uc131' '\uc18c\ud504\ud2b8\uc6e8\uc5b4' '20140925' '\ucf64\ud14d\uc2dc\uc2a4\ud15c' '\uc2e0\uc785\uc0ac\uc6d0' '\ubaa8\uc9d1' '20141016' '2014\ub144' 'Tmoney\ud55a\uad6d\uc2a4\ub9c8\ud2b8\uce74\ub4dc' '20141014' '\uc138\ub9bc\ud2f0\ub124\uc2a4\uc9c0\uc8fc' '\uc778\ub825' '\ucc44\uc6a9' '\uacf5\uace0' '20140930' '\uc8fc\uc5e0\ud504\ub860\ud2f0\uc5b4' '\uc2dc\uc2a4\ud15c' '\uc6b4\uc601\uac1c\ubc1c' '20140915' '\ucef4\ud4e8\ud130\uacf5\ud559\ubd80' '\ud559\ubd80\uc0ac\ubb34\uc2e4' '\uccad\ub144\uc778\ud134' '20140806' '20141014' '20141014' '1' '2014\ub144' '\uc878\uc5c5' '\ud559\uc220\uc81c' '\ucef4\ud4e8\ud130\uacf5\ud559\ubd80' '\uc878\uc5c5\uc791\ud488' '\uc778' '20141016' '\uc878\uc5c5\uc791\ud488' '\ud3ec\uc0c1\uacbd\uc9c4\ub300\ud68c' '\uc548\ub0b4' '20141015' '\ub300\ud559\uc6d0\uc0dd' '\ub300\uc0c1' '\uc548\uc804\uad50\uc721' '\uc548\ub0b4' '10' '20141014' '\ud2b9\uc131\ud654\uc0ac\uc5c5\ub2e8' '\uc77c\ubcf8\uae30\uc220\ud0d0\ubc29' '\uc120' '20141013' '2014\ub144' '\ud558\ubc18\uae30' '\ud154\ucf54\uc6e8\uc5b4\uc8fc' '\uc2e0\uc785' '20141010' '\uc878\uc5c5\uc791\ud488' '\uc804\uc2dc\ud68c' '\ucef4\ud4e8\ud130\uacf5\ud559\ubd80' '\uc778' '20141007' '\uc7ac\uacf5\uc9c0' '12\uc77c' '\ub9c8\uac10' '\uc878\uc5c5\uc791\ud488' '\ud3ec' '20141004' '\ud1b5\uc2e0\uc7a5\ube44\uc5c5\uacc4' '\u201c\uc8fc\ud30c\uc218' '\uc815\ud574\ub2ec\ub77c\u201d\u00b7' '20141017' 'KT' '\ubaa8\ubc14\uc77c' '\ud0a4' '\uc11c\ube44\uc2a4' '\uc0c1\uc6a9\ud654' '20141017' '\ud55c\uad6d' '\uc815\ubcf4\ud1b5\uc2e0\ubcf4\uc870\uae30\uae30' 'ICT' '\uad6d\uc81c' '20141017' '2014' '\ubd80\uc0b0' 'ITU' '\uc804\uad8c\ud68c\uc758' '\uac1c\ub9c9\u00b7\u00b7\u00b7\u2018' '20141019' 'SK\ud154\ub808\ucf64' '\ud5ec\uc2a4\ucf00\uc5b4' '\ubd84\uc57c' '\uc544\ud0dc' '\uc9c0' '20141019'\n"
       ]
      }
     ],
     "prompt_number": 92
    },
    {
     "cell_type": "markdown",
     "metadata": {},
     "source": [
      "*****************"
     ]
    },
    {
     "cell_type": "markdown",
     "metadata": {},
     "source": [
      "\uc774\ubc88 \uacfc\uc81c \uc5ed\uc2dc \ucc98\uc74c \uba87 \ubb38\uc81c\ub294 \uc55e\uc758 \uac15\uc758\uc790\ub8cc\ub97c \ucc38\uace0\ud558\uc5ec \uc57d\uac04 \uc0dd\uac01\ud558\uba74 \ud480 \uc218 \uc788\uc5c8\ub294\ub370 \ub9c8\uc9c0\ub9c9 \ubb38\uc81c\ub294 \uc5b4\ub824\uc6e0\ub2e4.\n",
      "\uc9c0\ub09c\ubc88 \uacfc\uc81c 2\uc758 \uad50\uc218\ub2d8 \ucf54\ub4dc\ub97c \ubcf4\uace0 \ud55c\ucc38\uc744 \uace0\ubbfc\ud574\ubcf4\uace0 \uce5c\uad6c\ub4e4\uc5d0\uac8c\ub3c4 \ubb3c\uc5b4\ubd10\uc11c \uc694\uad6c\uc0ac\ud56d 1\ubc88\ub9cc \ud588\ub2e4. \n",
      "\ub098\ub984 \uac15\uc758\ub97c \ub4e3\ub294\ub2e4\uace0 \ud558\ub294\ub370\ub3c4 \ud56d\uc0c1 \uacfc\uc81c\ub97c \ud558\ub2e4\ubcf4\uba74 \uc774\ud574\uac00 \ub9ce\uc774 \ubd80\uc871\ud55c\uac83 \uac19\ub2e4.\n",
      "\ud56d\uc0c1 \ubcf5\uc2b5\ud558\uace0 \uc0dd\uac01\ud558\ub294 \uc5f0\uc2b5\uc774 \ud544\uc694\ud568\uc744 \ub290\uaf08\uace0 \uace7 \uc2dc\ud5d8\uc778\ub370 \uacfc\uc81c\uac00 \uc88b\uc740 \uc5f0\uc2b5\uc774 \ub41c\uac83 \uac19\ub2e4."
     ]
    }
   ],
   "metadata": {}
  }
 ]
}