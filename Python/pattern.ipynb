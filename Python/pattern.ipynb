{
 "cells": [
  {
   "cell_type": "markdown",
   "metadata": {},
   "source": [
    "# 패턴인식 Final Project\n",
    "\n",
    "## 학번 : 1932095001 \n",
    "## 이름 : 허 주 성"
   ]
  },
  {
   "cell_type": "markdown",
   "metadata": {},
   "source": [
    "--------------------"
   ]
  },
  {
   "cell_type": "markdown",
   "metadata": {},
   "source": [
    "## 데이터셋 : Data set : Fashion MNIST (https://github.com/zalandoresearch/fashion-mnist)"
   ]
  },
  {
   "cell_type": "markdown",
   "metadata": {},
   "source": [
    "--------"
   ]
  },
  {
   "cell_type": "code",
   "execution_count": 1,
   "metadata": {},
   "outputs": [
    {
     "name": "stderr",
     "output_type": "stream",
     "text": [
      "/anaconda3/lib/python3.6/site-packages/h5py/__init__.py:36: FutureWarning: Conversion of the second argument of issubdtype from `float` to `np.floating` is deprecated. In future, it will be treated as `np.float64 == np.dtype(float).type`.\n",
      "  from ._conv import register_converters as _register_converters\n"
     ]
    }
   ],
   "source": [
    "import tensorflow as tf\n",
    "from tensorflow import keras\n",
    "\n",
    "import numpy as np\n",
    "import matplotlib.pyplot as plt"
   ]
  },
  {
   "cell_type": "code",
   "execution_count": 2,
   "metadata": {},
   "outputs": [
    {
     "name": "stdout",
     "output_type": "stream",
     "text": [
      "Downloading data from https://storage.googleapis.com/tensorflow/tf-keras-datasets/train-labels-idx1-ubyte.gz\n",
      "32768/29515 [=================================] - 0s 2us/step\n",
      "Downloading data from https://storage.googleapis.com/tensorflow/tf-keras-datasets/train-images-idx3-ubyte.gz\n",
      "26427392/26421880 [==============================] - 4s 0us/step\n",
      "Downloading data from https://storage.googleapis.com/tensorflow/tf-keras-datasets/t10k-labels-idx1-ubyte.gz\n",
      "8192/5148 [===============================================] - 0s 0us/step\n",
      "Downloading data from https://storage.googleapis.com/tensorflow/tf-keras-datasets/t10k-images-idx3-ubyte.gz\n",
      "4423680/4422102 [==============================] - 1s 0us/step\n"
     ]
    }
   ],
   "source": [
    "fashion_mnist = keras.datasets.fashion_mnist\n",
    "\n",
    "(train_images, train_labels), (test_images, test_labels) = fashion_mnist.load_data()"
   ]
  },
  {
   "cell_type": "code",
   "execution_count": 3,
   "metadata": {},
   "outputs": [],
   "source": [
    "class_names = ['T-shirt/top', 'Trouser', 'Pullover', 'Dress', 'Coat',\n",
    "               'Sandal', 'Shirt', 'Sneaker', 'Bag', 'Ankle boot']"
   ]
  },
  {
   "cell_type": "markdown",
   "metadata": {},
   "source": [
    "##  1) Bayesian Classifier (Assuming Gaussian distribution)"
   ]
  },
  {
   "cell_type": "code",
   "execution_count": 145,
   "metadata": {},
   "outputs": [
    {
     "name": "stdout",
     "output_type": "stream",
     "text": [
      "Train accuracy: 0.715\n",
      "Test accuracy: 0.673\n"
     ]
    }
   ],
   "source": [
    "from scipy.stats import norm\n",
    "from scipy.stats import multivariate_normal as mvn\n",
    "\n",
    "(X_train, Y_train), (X_test, Y_test) = fashion_mnist.load_data()\n",
    "X_train = X_train.reshape(60000, 784).astype('float32') / 255.0\n",
    "X_test = X_test.reshape(10000, 784).astype('float32') / 255.0\n",
    "X_train = X_train[:1000]\n",
    "Y_train = Y_train[:1000]\n",
    "X_test = X_test[:1000]\n",
    "Y_test = Y_test[:1000]\n",
    "\n",
    "class NaiveBayes(object):\n",
    "    def fit(self, X, Y, smoothing=1e-2):\n",
    "        self.gaussians = dict()\n",
    "        self.priors = dict()\n",
    "        labels = set(Y)\n",
    "        for c in labels:\n",
    "            current_x = X[Y == c]\n",
    "            self.gaussians[c] = {\n",
    "                'mean': current_x.mean(axis=0),\n",
    "                'var': current_x.var(axis=0) + smoothing,\n",
    "            }\n",
    "            self.priors[c] = float(len(Y[Y == c])) / len(Y)\n",
    "\n",
    "    def score(self, X, Y):\n",
    "        P = self.predict(X)\n",
    "        return np.mean(P == Y)\n",
    "\n",
    "    def predict(self, X):\n",
    "        N, D = X.shape\n",
    "        K = len(self.gaussians)\n",
    "        P = np.zeros((N, K))\n",
    "        for c, g in self.gaussians.items():\n",
    "            mean, var = g['mean'], g['var']\n",
    "            P[:,c] = mvn.logpdf(X, mean=mean, cov=var) + np.log(self.priors[c])\n",
    "        return np.argmax(P, axis=1)\n",
    "\n",
    "\n",
    "if __name__ == '__main__':\n",
    "\n",
    "    model = NaiveBayes()\n",
    "    model.fit(X_train, Y_train)\n",
    "\n",
    "    print(\"Train accuracy:\", model.score(X_train, Y_train))\n",
    "\n",
    "    print(\"Test accuracy:\", model.score(X_test, Y_test))"
   ]
  },
  {
   "cell_type": "markdown",
   "metadata": {},
   "source": [
    "----"
   ]
  },
  {
   "cell_type": "markdown",
   "metadata": {},
   "source": [
    "## 2) kNN (k=1, 3, 5)"
   ]
  },
  {
   "cell_type": "code",
   "execution_count": 135,
   "metadata": {},
   "outputs": [],
   "source": [
    "(X_train, y_train), (X_test, y_test) = fashion_mnist.load_data()"
   ]
  },
  {
   "cell_type": "code",
   "execution_count": 136,
   "metadata": {},
   "outputs": [],
   "source": [
    "(X_train, Y_train), (X_test, Y_test) = fashion_mnist.load_data()\n",
    "X_train = X_train.reshape(60000, 784).astype('float32') / 255.0\n",
    "X_test = X_test.reshape(10000, 784).astype('float32') / 255.0\n",
    "X_train = X_train[:1000]\n",
    "Y_train = Y_train[:1000]\n",
    "X_test = X_test[:1000]\n",
    "Y_test = Y_test[:1000]"
   ]
  },
  {
   "cell_type": "markdown",
   "metadata": {},
   "source": [
    "### K = 1"
   ]
  },
  {
   "cell_type": "code",
   "execution_count": 168,
   "metadata": {},
   "outputs": [
    {
     "name": "stdout",
     "output_type": "stream",
     "text": [
      "[[ 83   2   4   0   1   0  15   0   2   0]\n",
      " [  3 100   0   2   0   0   0   0   0   0]\n",
      " [  5   0  68   1  18   0  19   0   0   0]\n",
      " [ 14   3   1  64   5   0   6   0   0   0]\n",
      " [  0   1  16   6  74   0  18   0   0   0]\n",
      " [  0   0   0   0   0  57   0  18   2  10]\n",
      " [ 14   1  13   4   9   0  56   0   0   0]\n",
      " [  0   0   0   0   0   1   0  89   0   5]\n",
      " [  1   0   4   0   0   0   2   2  86   0]\n",
      " [  0   0   0   0   0   0   0   3   0  92]]\n",
      "             precision    recall  f1-score   support\n",
      "\n",
      "          0       0.69      0.78      0.73       107\n",
      "          1       0.93      0.95      0.94       105\n",
      "          2       0.64      0.61      0.63       111\n",
      "          3       0.83      0.69      0.75        93\n",
      "          4       0.69      0.64      0.67       115\n",
      "          5       0.98      0.66      0.79        87\n",
      "          6       0.48      0.58      0.53        97\n",
      "          7       0.79      0.94      0.86        95\n",
      "          8       0.96      0.91      0.93        95\n",
      "          9       0.86      0.97      0.91        95\n",
      "\n",
      "avg / total       0.78      0.77      0.77      1000\n",
      "\n"
     ]
    }
   ],
   "source": [
    "from sklearn.neighbors import KNeighborsClassifier\n",
    "classifier = KNeighborsClassifier(n_neighbors=1)\n",
    "classifier.fit(X_train, Y_train)\n",
    "\n",
    "y_pred = classifier.predict(X_test)\n",
    "\n",
    "from sklearn.metrics import classification_report, confusion_matrix\n",
    "print(confusion_matrix(Y_test, y_pred))\n",
    "print(classification_report(Y_test, y_pred))"
   ]
  },
  {
   "cell_type": "markdown",
   "metadata": {},
   "source": [
    "### K = 3"
   ]
  },
  {
   "cell_type": "code",
   "execution_count": 169,
   "metadata": {},
   "outputs": [
    {
     "name": "stdout",
     "output_type": "stream",
     "text": [
      "[[86  1  6  0  0  0 12  0  2  0]\n",
      " [ 3 99  0  3  0  0  0  0  0  0]\n",
      " [ 5  1 68  1 18  0 17  0  1  0]\n",
      " [15  2  1 67  2  0  6  0  0  0]\n",
      " [ 1  1 19 10 71  0 13  0  0  0]\n",
      " [ 0  0  0  0  0 56  0 20  1 10]\n",
      " [21  1 17  4  7  0 46  0  1  0]\n",
      " [ 0  0  0  0  0  2  0 84  0  9]\n",
      " [ 2  0  5  0  2  1  1  1 83  0]\n",
      " [ 0  0  0  0  0  0  0  3  0 92]]\n",
      "             precision    recall  f1-score   support\n",
      "\n",
      "          0       0.65      0.80      0.72       107\n",
      "          1       0.94      0.94      0.94       105\n",
      "          2       0.59      0.61      0.60       111\n",
      "          3       0.79      0.72      0.75        93\n",
      "          4       0.71      0.62      0.66       115\n",
      "          5       0.95      0.64      0.77        87\n",
      "          6       0.48      0.47      0.48        97\n",
      "          7       0.78      0.88      0.83        95\n",
      "          8       0.94      0.87      0.91        95\n",
      "          9       0.83      0.97      0.89        95\n",
      "\n",
      "avg / total       0.76      0.75      0.75      1000\n",
      "\n"
     ]
    }
   ],
   "source": [
    "from sklearn.neighbors import KNeighborsClassifier\n",
    "classifier = KNeighborsClassifier(n_neighbors=3)\n",
    "classifier.fit(X_train, Y_train)\n",
    "\n",
    "y_pred = classifier.predict(X_test)\n",
    "\n",
    "from sklearn.metrics import classification_report, confusion_matrix\n",
    "print(confusion_matrix(Y_test, y_pred))\n",
    "print(classification_report(Y_test, y_pred))"
   ]
  },
  {
   "cell_type": "markdown",
   "metadata": {},
   "source": [
    "### K = 5"
   ]
  },
  {
   "cell_type": "code",
   "execution_count": 137,
   "metadata": {
    "scrolled": true
   },
   "outputs": [
    {
     "data": {
      "text/plain": [
       "KNeighborsClassifier(algorithm='auto', leaf_size=30, metric='minkowski',\n",
       "           metric_params=None, n_jobs=1, n_neighbors=5, p=2,\n",
       "           weights='uniform')"
      ]
     },
     "execution_count": 137,
     "metadata": {},
     "output_type": "execute_result"
    }
   ],
   "source": [
    "from sklearn.neighbors import KNeighborsClassifier\n",
    "classifier = KNeighborsClassifier(n_neighbors=5)\n",
    "classifier.fit(X_train, Y_train)"
   ]
  },
  {
   "cell_type": "code",
   "execution_count": 138,
   "metadata": {
    "scrolled": true
   },
   "outputs": [
    {
     "name": "stdout",
     "output_type": "stream",
     "text": [
      "[[88  2  5  2  0  0  8  0  2  0]\n",
      " [ 5 98  0  2  0  0  0  0  0  0]\n",
      " [ 5  0 76  1 13  0 16  0  0  0]\n",
      " [15  1  1 71  0  0  5  0  0  0]\n",
      " [ 2  1 15  7 77  0 13  0  0  0]\n",
      " [ 0  0  0  0  0 56  0 22  3  6]\n",
      " [19  1 17  2 10  0 47  0  1  0]\n",
      " [ 0  0  0  0  0  1  0 84  0 10]\n",
      " [ 1  0  6  0  3  1  3  0 81  0]\n",
      " [ 0  0  0  0  0  0  0  2  0 93]]\n",
      "             precision    recall  f1-score   support\n",
      "\n",
      "          0       0.65      0.82      0.73       107\n",
      "          1       0.95      0.93      0.94       105\n",
      "          2       0.63      0.68      0.66       111\n",
      "          3       0.84      0.76      0.80        93\n",
      "          4       0.75      0.67      0.71       115\n",
      "          5       0.97      0.64      0.77        87\n",
      "          6       0.51      0.48      0.50        97\n",
      "          7       0.78      0.88      0.83        95\n",
      "          8       0.93      0.85      0.89        95\n",
      "          9       0.85      0.98      0.91        95\n",
      "\n",
      "avg / total       0.78      0.77      0.77      1000\n",
      "\n"
     ]
    }
   ],
   "source": [
    "y_pred = classifier.predict(X_test)\n",
    "\n",
    "from sklearn.metrics import classification_report, confusion_matrix\n",
    "print(confusion_matrix(Y_test, y_pred))\n",
    "print(classification_report(Y_test, y_pred))"
   ]
  },
  {
   "cell_type": "markdown",
   "metadata": {},
   "source": [
    "-----"
   ]
  },
  {
   "cell_type": "markdown",
   "metadata": {},
   "source": [
    "## 3) 3-layer Neural Network Classifier"
   ]
  },
  {
   "cell_type": "code",
   "execution_count": 4,
   "metadata": {
    "scrolled": false
   },
   "outputs": [
    {
     "name": "stdout",
     "output_type": "stream",
     "text": [
      "Epoch 1/5\n",
      "60000/60000 [==============================] - 2s 27us/sample - loss: 3.1520 - accuracy: 0.7056\n",
      "Epoch 2/5\n",
      "60000/60000 [==============================] - 1s 24us/sample - loss: 0.6592 - accuracy: 0.7750\n",
      "Epoch 3/5\n",
      "60000/60000 [==============================] - 1s 25us/sample - loss: 0.5698 - accuracy: 0.8004\n",
      "Epoch 4/5\n",
      "60000/60000 [==============================] - 1s 25us/sample - loss: 0.5442 - accuracy: 0.8134\n",
      "Epoch 5/5\n",
      "60000/60000 [==============================] - 1s 23us/sample - loss: 0.5191 - accuracy: 0.8261\n",
      "10000/10000 - 0s - loss: 0.5455 - accuracy: 0.8226\n",
      "\n",
      "테스트 정확도: 0.8226\n"
     ]
    }
   ],
   "source": [
    "model = keras.Sequential([\n",
    "    keras.layers.Flatten(input_shape=(28, 28)),\n",
    "    keras.layers.Dense(128, activation='relu'),\n",
    "    keras.layers.Dense(10, activation='softmax')\n",
    "])\n",
    "\n",
    "model.compile(optimizer='adam',\n",
    "              loss='sparse_categorical_crossentropy',\n",
    "              metrics=['accuracy'])\n",
    "\n",
    "model.fit(train_images, train_labels, epochs=5)\n",
    "\n",
    "test_loss, test_acc = model.evaluate(test_images,  test_labels, verbose=2)\n",
    "\n",
    "print('\\n테스트 정확도:', test_acc)"
   ]
  },
  {
   "cell_type": "markdown",
   "metadata": {},
   "source": [
    "---"
   ]
  },
  {
   "cell_type": "markdown",
   "metadata": {},
   "source": [
    "## 4) Convolutional Neural Networks"
   ]
  },
  {
   "cell_type": "code",
   "execution_count": 92,
   "metadata": {
    "scrolled": true
   },
   "outputs": [],
   "source": [
    "from tensorflow.keras.models import Sequential\n",
    "from tensorflow.keras.layers import Dense, Activation\n",
    "from tensorflow.keras.layers import Conv2D, MaxPooling2D, Flatten\n",
    "from tensorflow.keras.datasets import mnist\n",
    "import tensorflow.keras.utils as utils"
   ]
  },
  {
   "cell_type": "code",
   "execution_count": 101,
   "metadata": {
    "scrolled": true
   },
   "outputs": [
    {
     "data": {
      "image/png": "[encoded data removed]",
      "text/plain": [
       "<matplotlib.figure.Figure at 0x7f8a9da86f98>"
      ]
     },
     "metadata": {},
     "output_type": "display_data"
    },
    {
     "name": "stdout",
     "output_type": "stream",
     "text": [
      "10000/10000 [==============================] - 1s 95us/sample - loss: 0.4954 - accuracy: 0.8165\n",
      "## evaluation loss and_metrics ##\n",
      "[0.49540478830337525, 0.8165]\n"
     ]
    }
   ],
   "source": [
    "width = 28\n",
    "height = 28\n",
    "\n",
    "# 1. 데이터셋 생성하기\n",
    "\n",
    "# 훈련셋과 시험셋 불러오기\n",
    "(x_train, y_train), (x_test, y_test) = fashion_mnist.load_data()\n",
    "x_train = x_train.reshape(60000, width, height, 1).astype('float32') / 255.0\n",
    "x_test = x_test.reshape(10000, width, height, 1).astype('float32') / 255.0\n",
    "\n",
    "# 훈련셋과 검증셋 분리\n",
    "x_val = x_train[50000:]\n",
    "y_val = y_train[50000:]\n",
    "x_train = x_train[:10000]\n",
    "y_train = y_train[:10000]\n",
    "\n",
    "# 데이터셋 전처리 : one-hot 인코딩\n",
    "y_train = utils.to_categorical(y_train)\n",
    "y_val = utils.to_categorical(y_val)\n",
    "y_test = utils.to_categorical(y_test)\n",
    "\n",
    "# 2. 모델 구성하기\n",
    "model = Sequential()\n",
    "model.add(Conv2D(32, (3, 3), activation='relu', input_shape=(width, height, 1)))\n",
    "model.add(MaxPooling2D(pool_size=(2, 2)))\n",
    "model.add(Conv2D(32, (3, 3), activation='relu'))\n",
    "model.add(MaxPooling2D(pool_size=(2, 2)))\n",
    "model.add(Flatten())\n",
    "model.add(Dense(256, activation='relu'))\n",
    "model.add(Dense(10, activation='softmax'))\n",
    "\n",
    "# 3. 모델 학습과정 설정하기\n",
    "model.compile(loss='categorical_crossentropy', optimizer='sgd', metrics=['accuracy'])\n",
    "\n",
    "# 4. 모델 학습시키기\n",
    "hist = model.fit(x_train, y_train, epochs=20, verbose=0, batch_size=32, validation_data=(x_val, y_val))\n",
    "\n",
    "# 5. 학습과정 살펴보기\n",
    "%matplotlib inline\n",
    "import matplotlib.pyplot as plt\n",
    "\n",
    "fig, loss_ax = plt.subplots()\n",
    "\n",
    "acc_ax = loss_ax.twinx()\n",
    "\n",
    "loss_ax.plot(hist.history['loss'], 'y', label='train loss')\n",
    "loss_ax.plot(hist.history['val_loss'], 'r', label='val loss')\n",
    "loss_ax.set_ylim([0.0, 0.5])\n",
    "\n",
    "acc_ax.plot(hist.history['accuracy'], 'b', label='train acc')\n",
    "acc_ax.plot(hist.history['val_accuracy'], 'g', label='val acc')\n",
    "acc_ax.set_ylim([0.8, 1.0])\n",
    "\n",
    "loss_ax.set_xlabel('epoch')\n",
    "loss_ax.set_ylabel('loss')\n",
    "acc_ax.set_ylabel('accuray')\n",
    "\n",
    "loss_ax.legend(loc='upper left')\n",
    "acc_ax.legend(loc='lower left')\n",
    "\n",
    "plt.show()\n",
    "\n",
    "# 6. 모델 평가하기\n",
    "loss_and_metrics = model.evaluate(x_test, y_test, batch_size=32)\n",
    "print('## evaluation loss and_metrics ##')\n",
    "print(loss_and_metrics)"
   ]
  },
  {
   "cell_type": "markdown",
   "metadata": {},
   "source": [
    "---"
   ]
  },
  {
   "cell_type": "markdown",
   "metadata": {},
   "source": [
    "## 5) SVM(Support Vector Machine)"
   ]
  },
  {
   "cell_type": "code",
   "execution_count": 146,
   "metadata": {},
   "outputs": [],
   "source": [
    "(X_train, Y_train), (X_test, Y_test) = fashion_mnist.load_data()\n",
    "X_train = X_train.reshape(60000, 784).astype('float32') / 255.0\n",
    "X_test = X_test.reshape(10000, 784).astype('float32') / 255.0\n",
    "X_train = X_train[:1000]\n",
    "Y_train = Y_train[:1000]\n",
    "X_test = X_test[:1000]\n",
    "Y_test = Y_test[:1000]"
   ]
  },
  {
   "cell_type": "code",
   "execution_count": 151,
   "metadata": {},
   "outputs": [],
   "source": [
    "from sklearn.svm import SVC\n",
    "from sklearn.model_selection import GridSearchCV\n",
    "from sklearn.preprocessing import StandardScaler\n",
    "from sklearn.pipeline import Pipeline\n",
    "steps = [('scaler', StandardScaler()), ('SVM', SVC(kernel='poly'))]\n",
    "pipeline = Pipeline(steps) # define Pipeline object\n",
    "\n",
    "parameters = {'SVM__C':[0.001, 0.1, 100, 10e5], 'SVM__gamma':[10,1,0.1,0.01]}\n",
    "grid = GridSearchCV(pipeline, param_grid=parameters, cv=5)"
   ]
  },
  {
   "cell_type": "code",
   "execution_count": 152,
   "metadata": {},
   "outputs": [
    {
     "name": "stdout",
     "output_type": "stream",
     "text": [
      "score = 0.79\n",
      "best parameters from train data:  {'SVM__C': 0.001, 'SVM__gamma': 10}\n"
     ]
    }
   ],
   "source": [
    "grid.fit(X_train, Y_train)\n",
    "print (\"score = %3.2f\" %(grid.score(X_test, Y_test)))\n",
    "print (\"best parameters from train data: \", grid.best_params_)\n",
    "\n",
    "y_pred = grid.predict(X_test)"
   ]
  },
  {
   "cell_type": "code",
   "execution_count": 153,
   "metadata": {
    "scrolled": false
   },
   "outputs": [
    {
     "name": "stdout",
     "output_type": "stream",
     "text": [
      "[9 2 1 1 6 1 4 6 7 7 2 5 5 3 4 1 2 2 8 0 0 7 7 7 1 2 4 0 9 4 8 8 3 3 8 0 7\n",
      " 5 7 9 0 1 6 9 6 9 6 1 6 6 2 2 5 6 4 2 8 4 8 0 7 7 8 5 1 1 6 3 7 8 7 0 0 6\n",
      " 4 3 1 2 8 4 1 8 5 9 5 0 3 6 0 6 5 3 6 7 1 8 0 1 4 2 3 6 7 2 7 8 5 9 9 4 2\n",
      " 5 7 0 5 2 8 6 7 6 0 0 9 9 3 0 6 4 1 5 4 1 9 1 8 6 6 1 4 5 1 6 0 0 1 6 1 3\n",
      " 2 2 6 6 1 4 5 0 4 7 9 3 7 2 3 9 0 9 4 7 4 2 0 5 4 1 2 6 3 0 9 1 0 9 3 8 7\n",
      " 9 9 4 4 7 3 2 1 2 3 2 8 3 6 1 1 0 2 9 2 4 0 7 9 8 4 1 8 4 1 3 1 6 7 4 8 5\n",
      " 6 0 7 7 6 2 7 6 7 8 9 2 9 6 5 1 4 2 5 6 9 2 2 8 6 2 6 4 9 7 6 5 5 4 8 5 2\n",
      " 3 0 6 8 0 0 6 3 6 9 6 1 6 0 4 3 0 8 3 7 4 0 1 2 3 0 6 3 7 5 3 6 9 5 0 5 5\n",
      " 1 9 8 8 3 3 6 8 6 0 4 9 7 7 1 3 6 6 2 4 7 1 6 4 2 2 6 5 6 2 7 7 7 3 3 7 0\n",
      " 7 1 3 7 4 2 3 4 0 3 1 0 1 9 4 9 9 1 7 8 3 6 0 2 4 8 3 1 6 2 4 2 7 3 4 4 5\n",
      " 0 7 9 4 0 9 3 9 6 2 5 0 6 3 5 8 1 6 2 2 6 4 9 5 2 0 6 6 1 2 0 9 7 0 4 4 6\n",
      " 0 2 3 0 6 7 6 9 3 6 1 6 4 5 3 8 5 8 4 4 8 9 8 6 2 4 4 2 4 1 6 1 3 0 7 8 6\n",
      " 4 6 3 1 9 5 3 3 0 1 2 2 9 4 0 6 6 6 2 0 0 3 3 2 2 8 9 4 0 7 0 4 6 9 2 9 7\n",
      " 9 3 5 5 9 8 1 0 0 6 6 8 6 7 6 1 2 7 0 6 0 7 7 1 8 6 2 2 2 4 2 6 1 9 8 5 1\n",
      " 9 1 2 8 3 8 9 2 4 6 8 2 2 4 5 8 8 5 0 9 4 3 4 4 9 1 0 1 4 6 2 9 6 1 5 1 1\n",
      " 1 9 0 4 5 3 6 2 0 4 0 0 5 8 6 6 4 6 7 7 8 9 0 6 8 7 6 7 9 3 4 0 0 5 0 1 1\n",
      " 5 9 3 2 5 7 8 1 2 9 7 7 1 0 9 6 6 9 0 7 6 8 2 7 6 2 3 8 2 4 0 7 3 0 7 8 8\n",
      " 6 9 4 2 6 4 4 0 4 6 2 7 5 8 4 9 1 0 5 4 4 4 0 0 4 5 6 0 4 5 4 1 6 1 3 4 4\n",
      " 3 8 2 6 6 5 0 4 0 8 5 0 8 2 9 0 8 9 0 4 4 9 6 6 5 0 9 5 3 6 6 2 3 0 8 3 4\n",
      " 6 9 7 9 4 2 9 1 3 7 3 0 2 6 9 1 0 0 2 7 2 2 4 6 4 1 5 9 0 6 0 6 5 0 0 3 3\n",
      " 3 8 1 0 8 5 7 7 8 7 4 0 7 3 8 0 9 7 6 1 0 2 4 8 2 6 3 6 8 4 0 8 6 2 4 5 9\n",
      " 1 4 4 9 2 1 7 9 7 8 3 9 7 1 1 1 2 9 5 3 8 4 4 9 6 8 3 2 4 4 7 1 4 9 3 5 8\n",
      " 5 4 7 2 8 5 9 3 3 2 7 1 7 3 5 4 6 5 8 3 7 1 2 0 1 9 8 2 7 1 1 7 8 9 9 6 8\n",
      " 6 5 7 1 9 6 1 0 0 2 1 7 1 1 5 7 1 5 2 6 3 3 1 1 6 9 4 3 7 7 6 8 9 9 6 1 1\n",
      " 4 0 0 5 9 2 0 5 5 1 7 7 8 7 7 3 6 4 0 6 0 2 0 2 5 5 1 2 0 9 3 7 8 4 8 3 4\n",
      " 5 0 7 4 8 6 3 4 4 3 6 9 6 2 4 9 1 6 1 7 9 7 6 0 2 1 6 5 4 0 0 6 7 6 0 6 5\n",
      " 9 4 8 2 0 4 6 2 9 6 7 7 1 4 4 6 5 0 9 6 8 8 3 6 4 4 6 6 3 2 3 7 6 9 3 4 7\n",
      " 7]\n"
     ]
    }
   ],
   "source": [
    "print(y_pred)"
   ]
  },
  {
   "cell_type": "markdown",
   "metadata": {},
   "source": [
    "--------\n",
    "\n",
    "## 6) Logistic Regression"
   ]
  },
  {
   "cell_type": "code",
   "execution_count": 154,
   "metadata": {},
   "outputs": [
    {
     "data": {
      "text/plain": [
       "LogisticRegression(C=1.0, class_weight=None, dual=False, fit_intercept=True,\n",
       "          intercept_scaling=1, max_iter=100, multi_class='ovr', n_jobs=1,\n",
       "          penalty='l2', random_state=None, solver='liblinear', tol=0.0001,\n",
       "          verbose=0, warm_start=False)"
      ]
     },
     "execution_count": 154,
     "metadata": {},
     "output_type": "execute_result"
    }
   ],
   "source": [
    "from sklearn.linear_model import LogisticRegression\n",
    "logisticRegr = LogisticRegression()\n",
    "\n",
    "(X_train, Y_train), (X_test, Y_test) = fashion_mnist.load_data()\n",
    "X_train = X_train.reshape(60000, 784).astype('float32') / 255.0\n",
    "X_test = X_test.reshape(10000, 784).astype('float32') / 255.0\n",
    "X_train = X_train[:1000]\n",
    "Y_train = Y_train[:1000]\n",
    "X_test = X_test[:1000]\n",
    "Y_test = Y_test[:1000]\n",
    "\n",
    "logisticRegr.fit(X_train, Y_train)"
   ]
  },
  {
   "cell_type": "code",
   "execution_count": 160,
   "metadata": {},
   "outputs": [
    {
     "name": "stdout",
     "output_type": "stream",
     "text": [
      "0.796\n"
     ]
    }
   ],
   "source": [
    "predictions = logisticRegr.predict(X_test)\n",
    "score = logisticRegr.score(X_test, Y_test)\n",
    "print(score)"
   ]
  },
  {
   "cell_type": "markdown",
   "metadata": {},
   "source": [
    "--------\n",
    "\n",
    "## 7) Random Forests"
   ]
  },
  {
   "cell_type": "code",
   "execution_count": 162,
   "metadata": {},
   "outputs": [
    {
     "name": "stderr",
     "output_type": "stream",
     "text": [
      "/anaconda3/lib/python3.6/site-packages/sklearn/ensemble/weight_boosting.py:29: DeprecationWarning: numpy.core.umath_tests is an internal NumPy module and should not be imported. It will be removed in a future NumPy release.\n",
      "  from numpy.core.umath_tests import inner1d\n"
     ]
    }
   ],
   "source": [
    "from sklearn.ensemble import RandomForestClassifier"
   ]
  },
  {
   "cell_type": "code",
   "execution_count": 163,
   "metadata": {},
   "outputs": [
    {
     "data": {
      "text/plain": [
       "RandomForestClassifier(bootstrap=True, class_weight=None, criterion='gini',\n",
       "            max_depth=None, max_features='auto', max_leaf_nodes=None,\n",
       "            min_impurity_decrease=0.0, min_impurity_split=None,\n",
       "            min_samples_leaf=1, min_samples_split=2,\n",
       "            min_weight_fraction_leaf=0.0, n_estimators=10, n_jobs=1,\n",
       "            oob_score=False, random_state=None, verbose=0,\n",
       "            warm_start=False)"
      ]
     },
     "execution_count": 163,
     "metadata": {},
     "output_type": "execute_result"
    }
   ],
   "source": [
    "randomF = RandomForestClassifier()\n",
    "\n",
    "(X_train, Y_train), (X_test, Y_test) = fashion_mnist.load_data()\n",
    "X_train = X_train.reshape(60000, 784).astype('float32') / 255.0\n",
    "X_test = X_test.reshape(10000, 784).astype('float32') / 255.0\n",
    "X_train = X_train[:1000]\n",
    "Y_train = Y_train[:1000]\n",
    "X_test = X_test[:1000]\n",
    "Y_test = Y_test[:1000]\n",
    "\n",
    "randomF.fit(X_train, Y_train)"
   ]
  },
  {
   "cell_type": "code",
   "execution_count": 164,
   "metadata": {},
   "outputs": [
    {
     "name": "stdout",
     "output_type": "stream",
     "text": [
      "0.75\n"
     ]
    }
   ],
   "source": [
    "predictions = randomF.predict(X_test)\n",
    "score = randomF.score(X_test, Y_test)\n",
    "print(score)"
   ]
  },
  {
   "cell_type": "markdown",
   "metadata": {},
   "source": [
    "------\n",
    "## 8) Gradient Boosting"
   ]
  },
  {
   "cell_type": "code",
   "execution_count": 165,
   "metadata": {},
   "outputs": [],
   "source": [
    "from sklearn.ensemble import GradientBoostingClassifier"
   ]
  },
  {
   "cell_type": "code",
   "execution_count": 166,
   "metadata": {},
   "outputs": [
    {
     "data": {
      "text/plain": [
       "RandomForestClassifier(bootstrap=True, class_weight=None, criterion='gini',\n",
       "            max_depth=None, max_features='auto', max_leaf_nodes=None,\n",
       "            min_impurity_decrease=0.0, min_impurity_split=None,\n",
       "            min_samples_leaf=1, min_samples_split=2,\n",
       "            min_weight_fraction_leaf=0.0, n_estimators=10, n_jobs=1,\n",
       "            oob_score=False, random_state=None, verbose=0,\n",
       "            warm_start=False)"
      ]
     },
     "execution_count": 166,
     "metadata": {},
     "output_type": "execute_result"
    }
   ],
   "source": [
    "gradient = RandomForestClassifier()\n",
    "\n",
    "(X_train, Y_train), (X_test, Y_test) = fashion_mnist.load_data()\n",
    "X_train = X_train.reshape(60000, 784).astype('float32') / 255.0\n",
    "X_test = X_test.reshape(10000, 784).astype('float32') / 255.0\n",
    "X_train = X_train[:1000]\n",
    "Y_train = Y_train[:1000]\n",
    "X_test = X_test[:1000]\n",
    "Y_test = Y_test[:1000]\n",
    "\n",
    "gradient.fit(X_train, Y_train)"
   ]
  },
  {
   "cell_type": "code",
   "execution_count": 167,
   "metadata": {},
   "outputs": [
    {
     "name": "stdout",
     "output_type": "stream",
     "text": [
      "0.76\n"
     ]
    }
   ],
   "source": [
    "predictions = gradient.predict(X_test)\n",
    "score = gradient.score(X_test, Y_test)\n",
    "print(score)"
   ]
  },
  {
   "cell_type": "markdown",
   "metadata": {},
   "source": [
    "-----------\n",
    "\n",
    "## 9) k-means clustering (# of clusters = 10, class label unknown)"
   ]
  },
  {
   "cell_type": "code",
   "execution_count": 177,
   "metadata": {},
   "outputs": [
    {
     "data": {
      "text/plain": [
       "KMeans(algorithm='auto', copy_x=True, init='k-means++', max_iter=300,\n",
       "    n_clusters=10, n_init=10, n_jobs=1, precompute_distances='auto',\n",
       "    random_state=None, tol=0.0001, verbose=0)"
      ]
     },
     "execution_count": 177,
     "metadata": {},
     "output_type": "execute_result"
    }
   ],
   "source": [
    "from sklearn.cluster import KMeans\n",
    "\n",
    "kMeans = KMeans(10)\n",
    "\n",
    "(X_train, Y_train), (X_test, Y_test) = fashion_mnist.load_data()\n",
    "X_train = X_train.reshape(60000, 784).astype('float32') / 255.0\n",
    "X_test = X_test.reshape(10000, 784).astype('float32') / 255.0\n",
    "X_train = X_train[:1000]\n",
    "Y_train = Y_train[:1000]\n",
    "X_test = X_test[:1000]\n",
    "Y_test = Y_test[:1000]\n",
    "\n",
    "kMeans.fit(X_train, Y_train)"
   ]
  },
  {
   "cell_type": "code",
   "execution_count": 178,
   "metadata": {},
   "outputs": [
    {
     "name": "stdout",
     "output_type": "stream",
     "text": [
      "[[86  1  6  0  0  0 12  0  2  0]\n",
      " [ 3 99  0  3  0  0  0  0  0  0]\n",
      " [ 5  1 68  1 18  0 17  0  1  0]\n",
      " [15  2  1 67  2  0  6  0  0  0]\n",
      " [ 1  1 19 10 71  0 13  0  0  0]\n",
      " [ 0  0  0  0  0 56  0 20  1 10]\n",
      " [21  1 17  4  7  0 46  0  1  0]\n",
      " [ 0  0  0  0  0  2  0 84  0  9]\n",
      " [ 2  0  5  0  2  1  1  1 83  0]\n",
      " [ 0  0  0  0  0  0  0  3  0 92]]\n",
      "             precision    recall  f1-score   support\n",
      "\n",
      "          0       0.65      0.80      0.72       107\n",
      "          1       0.94      0.94      0.94       105\n",
      "          2       0.59      0.61      0.60       111\n",
      "          3       0.79      0.72      0.75        93\n",
      "          4       0.71      0.62      0.66       115\n",
      "          5       0.95      0.64      0.77        87\n",
      "          6       0.48      0.47      0.48        97\n",
      "          7       0.78      0.88      0.83        95\n",
      "          8       0.94      0.87      0.91        95\n",
      "          9       0.83      0.97      0.89        95\n",
      "\n",
      "avg / total       0.76      0.75      0.75      1000\n",
      "\n"
     ]
    }
   ],
   "source": [
    "y_pred = classifier.predict(X_test)\n",
    "\n",
    "from sklearn.metrics import classification_report, confusion_matrix\n",
    "print(confusion_matrix(Y_test, y_pred))\n",
    "print(classification_report(Y_test, y_pred))"
   ]
  },
  {
   "cell_type": "code",
   "execution_count": null,
   "metadata": {},
   "outputs": [],
   "source": []
  }
 ],
 "metadata": {
  "kernelspec": {
   "display_name": "Python 3",
   "language": "python",
   "name": "python3"
  },
  "language_info": {
   "codemirror_mode": {
    "name": "ipython",
    "version": 3
   },
   "file_extension": ".py",
   "mimetype": "text/x-python",
   "name": "python",
   "nbconvert_exporter": "python",
   "pygments_lexer": "ipython3",
   "version": "3.6.4"
  }
 },
 "nbformat": 4,
 "nbformat_minor": 2
}
