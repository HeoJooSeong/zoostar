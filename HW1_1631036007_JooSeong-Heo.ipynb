{
 "cells": [
  {
   "cell_type": "markdown",
   "metadata": {},
   "source": [
    "# HW1 1631036007 JooSeong-Heo"
   ]
  },
  {
   "cell_type": "markdown",
   "metadata": {},
   "source": [
    "---"
   ]
  },
  {
   "cell_type": "code",
   "execution_count": 220,
   "metadata": {
    "collapsed": true
   },
   "outputs": [],
   "source": [
    "import numpy as np\n",
    "import math\n",
    "import random\n",
    "import matplotlib.pyplot as plt\n",
    "import scipy.cluster"
   ]
  },
  {
   "cell_type": "code",
   "execution_count": 221,
   "metadata": {
    "collapsed": true
   },
   "outputs": [],
   "source": [
    "c1_x = 5\n",
    "c1_y = 10\n",
    "c2_x = 14\n",
    "c2_y = 12\n",
    "c3_x = 10\n",
    "c3_y = 6"
   ]
  },
  {
   "cell_type": "code",
   "execution_count": 222,
   "metadata": {
    "collapsed": false
   },
   "outputs": [
    {
     "name": "stdout",
     "output_type": "stream",
     "text": [
      "1500\n"
     ]
    }
   ],
   "source": [
    "original_centroids = np.array([[c1_x, c2_x, c3_x], [c1_y, c2_y, c3_y]])\n",
    "points_In_class = [1500,1500,1500]\n",
    "print points_In_class[2]"
   ]
  },
  {
   "cell_type": "code",
   "execution_count": 223,
   "metadata": {
    "collapsed": true
   },
   "outputs": [],
   "source": [
    "x1=[]\n",
    "y1=[]\n",
    "x2=[]\n",
    "y2=[]\n",
    "x3=[]\n",
    "y3=[]"
   ]
  },
  {
   "cell_type": "code",
   "execution_count": 224,
   "metadata": {
    "collapsed": false
   },
   "outputs": [],
   "source": [
    "for i in range(points_In_class[0]):\n",
    "    x1.append(1.5 * random.random() + c1_x)\n",
    "    y1.append(0.5 * random.random() + c1_y)\n",
    "              \n",
    "for i in range(points_In_class[1]):\n",
    "    x2.append(0.5 * random.random() + c2_x)\n",
    "    y2.append(1.5 * random.random() + c2_y)\n",
    "              \n",
    "for i in range(points_In_class[2]):\n",
    "    x3.append(1.0 * random.random() + c3_x)\n",
    "    y3.append(1.0 * random.random() + c3_y)"
   ]
  },
  {
   "cell_type": "code",
   "execution_count": 225,
   "metadata": {
    "collapsed": false
   },
   "outputs": [],
   "source": [
    "x_noise = []\n",
    "y_noise = []\n",
    "for i in range(1000):\n",
    "    x_noise.append(20*random.random())\n",
    "    y_noise.append(20*random.random())"
   ]
  },
  {
   "cell_type": "code",
   "execution_count": 226,
   "metadata": {
    "collapsed": true
   },
   "outputs": [],
   "source": [
    "%matplotlib inline"
   ]
  },
  {
   "cell_type": "code",
   "execution_count": 227,
   "metadata": {
    "collapsed": false
   },
   "outputs": [
    {
     "data": {
      "text/plain": [
       "[<matplotlib.lines.Line2D at 0x12c2fe48>]"
      ]
     },
     "execution_count": 227,
     "metadata": {},
     "output_type": "execute_result"
    },
    {
     "data": {
      "image/png": "[encoded data removed]",
      "text/plain": [
       "<matplotlib.figure.Figure at 0xe917dd8>"
      ]
     },
     "metadata": {},
     "output_type": "display_data"
    }
   ],
   "source": [
    "#plt.xlim(0,20)\n",
    "#plt.ylim(0,20)\n",
    "plt.grid('on')\n",
    "plt.plot(x1,y1,'r.',ms=1)\n",
    "plt.plot(x2,y2,'g.',ms=1)\n",
    "plt.plot(x3,y3,'b.',ms=1)\n",
    "plt.plot(x_noise,y_noise,'k.',ms=3)"
   ]
  },
  {
   "cell_type": "code",
   "execution_count": 228,
   "metadata": {
    "collapsed": true
   },
   "outputs": [],
   "source": [
    "q_list = [1,2,3,4, 15]\n",
    "\n",
    "\n",
    "c1_1 = np.array([c1_x, c1_y])\n",
    "c1_2 = np.array([x1,y1])\n",
    "\n",
    "\n",
    "c2_1 = np.array([c2_x,c2_y])\n",
    "c2_2 = np.array([x2,y2])\n",
    "\n",
    "c3_1 = np.array([c3_x,c3_y])\n",
    "c3_2 = np.array([x3,y3])\n",
    "\n",
    "c1_within_dist_mean = []\n",
    "c2_within_dist_mean = []\n",
    "c3_within_dist_mean = []\n",
    "\n",
    "c1c2_dist_mean = []\n",
    "c1c3_dist_mean = []\n",
    "\n",
    "c2c1_dist_mean = []\n",
    "c2c3_dist_mean = []\n",
    "\n",
    "c3c1_dist_mean = []\n",
    "c3c2_dist_mean = []\n",
    "\n",
    "c1_within_dist = []\n",
    "c2_within_dist = []\n",
    "c3_within_dist = []\n",
    "\n",
    "c1c2_dist = []\n",
    "c1c3_dist = []\n",
    "\n",
    "c2c1_dist = []\n",
    "c2c3_dist = []\n",
    "\n",
    "c3c1_dist = []\n",
    "c3c2_dist = []"
   ]
  },
  {
   "cell_type": "code",
   "execution_count": 229,
   "metadata": {
    "collapsed": false
   },
   "outputs": [],
   "source": [
    "for q in range(0,len(q_list)):\n",
    "    \n",
    "    for i in range(0,len(x1)):\n",
    "        c1_within_dist.append( scipy.spatial.distance.minkowski(c1_1, np.array( [c1_2[0][i], c1_2[1][i] ]), q_list[q]) )\n",
    "\n",
    "    c1_within_dist_mean.append(np.mean(c1_within_dist))\n",
    "\n",
    "    for i in range(0,len(x2)):\n",
    "        c2_within_dist.append( scipy.spatial.distance.minkowski(c2_1, np.array( [c2_2[0][i], c2_2[1][i] ]), q_list[q]) )\n",
    "\n",
    "    c2_within_dist_mean.append(np.mean(c2_within_dist))\n",
    "    \n",
    "    for i in range(0,len(x3)):\n",
    "        c3_within_dist.append( scipy.spatial.distance.minkowski(c3_1, np.array( [c3_2[0][i], c3_2[1][i] ]), q_list[q]) )\n",
    "\n",
    "    c3_within_dist_mean.append(np.mean(c3_within_dist))\n",
    "\n",
    "    \n",
    "    \n",
    "    for i in range(0,len(x2)):\n",
    "        c1c2_dist.append( scipy.spatial.distance.minkowski(c1_1, np.array( [c2_2[0][i], c2_2[1][i] ]), q_list[q]) )\n",
    "\n",
    "    c1c2_dist_mean.append(np.mean(c1c2_dist))\n",
    "    for i in range(0,len(x3)):\n",
    "        c1c3_dist.append( scipy.spatial.distance.minkowski(c1_1, np.array( [c3_2[0][i], c3_2[1][i] ]), q_list[q]) )\n",
    "\n",
    "    c1c3_dist_mean.append(np.mean(c1c3_dist))\n",
    "    \n",
    "    for i in range(0,len(x1)):\n",
    "        c2c1_dist.append( scipy.spatial.distance.minkowski(c2_1, np.array( [c1_2[0][i], c1_2[1][i] ]), q_list[q]) )\n",
    "\n",
    "    c2c1_dist_mean.append(np.mean(c2c1_dist))\n",
    "    for i in range(0,len(x3)):\n",
    "        c2c3_dist.append( scipy.spatial.distance.minkowski(c2_1, np.array( [c3_2[0][i], c3_2[1][i] ]), q_list[q]) )\n",
    "\n",
    "    c2c3_dist_mean.append(np.mean(c2c3_dist))\n",
    "    \n",
    "    for i in range(0,len(x1)):\n",
    "        c3c1_dist.append( scipy.spatial.distance.minkowski(c3_1, np.array( [c1_2[0][i], c1_2[1][i] ]), q_list[q]) )\n",
    "\n",
    "    c3c1_dist_mean.append(np.mean(c3c1_dist))\n",
    "    \n",
    "    for i in range(0,len(x2)):\n",
    "        c3c2_dist.append( scipy.spatial.distance.minkowski(c3_1, np.array( [c2_2[0][i], c2_2[1][i] ]), q_list[q]) )\n",
    "\n",
    "    c3c2_dist_mean.append(np.mean(c3c2_dist))\n",
    "    \n",
    "\n"
   ]
  },
  {
   "cell_type": "code",
   "execution_count": 230,
   "metadata": {
    "collapsed": false
   },
   "outputs": [
    {
     "name": "stdout",
     "output_type": "stream",
     "text": [
      "q =  1 , c1_within_dist[ 0 ] : 0.565242329323\n",
      "q =  2 , c1_within_dist[ 1 ] : 1.50100154654\n",
      "q =  3 , c1_within_dist[ 2 ] : 1.87308934866\n",
      "q =  4 , c1_within_dist[ 3 ] : 0.720255147631\n",
      "q =  15 , c1_within_dist[ 4 ] : 0.428307520719\n"
     ]
    }
   ],
   "source": [
    "for q in range(len(q_list)):\n",
    "    print \"q = \", q_list[q], \", c1_within_dist[\", q, \"] :\", c1_within_dist[q]"
   ]
  },
  {
   "cell_type": "code",
   "execution_count": 231,
   "metadata": {
    "collapsed": false
   },
   "outputs": [
    {
     "name": "stdout",
     "output_type": "stream",
     "text": [
      "q =  1 , c2_within_dist[ 0 ] : 0.261033192305\n",
      "q =  2 , c2_within_dist[ 1 ] : 0.0451214049449\n",
      "q =  3 , c2_within_dist[ 2 ] : 0.220236964286\n",
      "q =  4 , c2_within_dist[ 3 ] : 1.15255488543\n",
      "q =  15 , c2_within_dist[ 4 ] : 1.1673698163\n"
     ]
    }
   ],
   "source": [
    "for q in range(len(q_list)):\n",
    "    print \"q = \", q_list[q], \", c2_within_dist[\", q, \"] :\", c2_within_dist[q]"
   ]
  },
  {
   "cell_type": "code",
   "execution_count": 232,
   "metadata": {
    "collapsed": false
   },
   "outputs": [
    {
     "name": "stdout",
     "output_type": "stream",
     "text": [
      "q =  1 , c3_within_dist[ 0 ] : 1.57407971815\n",
      "q =  2 , c3_within_dist[ 1 ] : 1.22593049674\n",
      "q =  3 , c3_within_dist[ 2 ] : 0.822738721715\n",
      "q =  4 , c3_within_dist[ 3 ] : 0.276406585535\n",
      "q =  15 , c3_within_dist[ 4 ] : 1.44702982748\n"
     ]
    }
   ],
   "source": [
    "for q in range(len(q_list)):\n",
    "    print \"q = \", q_list[q], \", c3_within_dist[\", q, \"] :\", c3_within_dist[q]"
   ]
  },
  {
   "cell_type": "code",
   "execution_count": 233,
   "metadata": {
    "collapsed": false
   },
   "outputs": [
    {
     "name": "stdout",
     "output_type": "stream",
     "text": [
      "q =  1 , c1c2_dist[ 0 ] : 11.2610331923\n",
      "q =  2 , c1c2_dist[ 1 ] : 11.0451214049\n",
      "q =  3 , c1c2_dist[ 2 ] : 11.2202369643\n",
      "q =  4 , c1c2_dist[ 3 ] : 12.1525548854\n",
      "q =  15 , c1c2_dist[ 4 ] : 12.1673698163\n"
     ]
    }
   ],
   "source": [
    "for q in range(len(q_list)):\n",
    "    print \"q = \", q_list[q], \", c1c2_dist[\", q, \"] :\",c1c2_dist[q]"
   ]
  },
  {
   "cell_type": "code",
   "execution_count": 234,
   "metadata": {
    "collapsed": false
   },
   "outputs": [
    {
     "name": "stdout",
     "output_type": "stream",
     "text": [
      "q =  1 , c1c3_dist[ 0 ] : 9.22576603225\n",
      "q =  2 , c1c3_dist[ 1 ] : 9.73018777154\n",
      "q =  3 , c1c3_dist[ 2 ] : 8.92290736346\n",
      "q =  4 , c1c3_dist[ 3 ] : 8.73565160439\n",
      "q =  15 , c1c3_dist[ 4 ] : 8.9926279566\n"
     ]
    }
   ],
   "source": [
    "for q in range(len(q_list)):\n",
    "    print \"q = \", q_list[q], \", c1c3_dist[\", q, \"] :\",c1c3_dist[q]"
   ]
  },
  {
   "cell_type": "code",
   "execution_count": 235,
   "metadata": {
    "collapsed": false
   },
   "outputs": [
    {
     "name": "stdout",
     "output_type": "stream",
     "text": [
      "q =  1 , c2c1_dist[ 0 ] : 10.4347576707\n",
      "q =  2 , c2c1_dist[ 1 ] : 9.49899845346\n",
      "q =  3 , c2c1_dist[ 2 ] : 9.12691065134\n",
      "q =  4 , c2c1_dist[ 3 ] : 10.2797448524\n",
      "q =  15 , c2c1_dist[ 4 ] : 10.5716924793\n"
     ]
    }
   ],
   "source": [
    "for q in range(len(q_list)):\n",
    "    print \"q = \", q_list[q], \", c2c1_dist[\", q, \"] :\",c2c1_dist[q]"
   ]
  },
  {
   "cell_type": "code",
   "execution_count": 236,
   "metadata": {
    "collapsed": false
   },
   "outputs": [
    {
     "name": "stdout",
     "output_type": "stream",
     "text": [
      "q =  1 , c2c3_dist[ 0 ] : 8.42592028185\n",
      "q =  2 , c2c3_dist[ 1 ] : 8.77406950326\n",
      "q =  3 , c2c3_dist[ 2 ] : 9.17726127829\n",
      "q =  4 , c2c3_dist[ 3 ] : 9.72359341446\n",
      "q =  15 , c2c3_dist[ 4 ] : 8.55297017252\n"
     ]
    }
   ],
   "source": [
    "for q in range(len(q_list)):\n",
    "    print \"q = \", q_list[q], \", c2c3_dist[\", q, \"] :\",c2c3_dist[q]"
   ]
  },
  {
   "cell_type": "code",
   "execution_count": 237,
   "metadata": {
    "collapsed": false
   },
   "outputs": [
    {
     "name": "stdout",
     "output_type": "stream",
     "text": [
      "q =  1 , c3c1_dist[ 0 ] : 8.75261777335\n",
      "q =  2 , c3c1_dist[ 1 ] : 7.92250533024\n",
      "q =  3 , c3c1_dist[ 2 ] : 8.04574381458\n",
      "q =  4 , c3c1_dist[ 3 ] : 8.469895642\n",
      "q =  15 , c3c1_dist[ 4 ] : 9.28215344378\n"
     ]
    }
   ],
   "source": [
    "for q in range(len(q_list)):\n",
    "    print \"q = \", q_list[q], \", c3c1_dist[\", q, \"] :\",c3c1_dist[q]"
   ]
  },
  {
   "cell_type": "code",
   "execution_count": 238,
   "metadata": {
    "collapsed": false
   },
   "outputs": [
    {
     "name": "stdout",
     "output_type": "stream",
     "text": [
      "q =  1 , c3c2_dist[ 0 ] : 10.2610331923\n",
      "q =  2 , c3c2_dist[ 1 ] : 10.0451214049\n",
      "q =  3 , c3c2_dist[ 2 ] : 10.2202369643\n",
      "q =  4 , c3c2_dist[ 3 ] : 11.1525548854\n",
      "q =  15 , c3c2_dist[ 4 ] : 11.1673698163\n"
     ]
    }
   ],
   "source": [
    "for q in range(len(q_list)):\n",
    "    print \"q = \", q_list[q], \", c3c2_dist[\", q, \"] :\",c3c2_dist[q]"
   ]
  },
  {
   "cell_type": "markdown",
   "metadata": {},
   "source": [
    "## H/W Problem 1: "
   ]
  },
  {
   "cell_type": "markdown",
   "metadata": {},
   "source": [
    "HINT: See what parameters are used in data generation. You can also increase the number of generated samples to make observation prominent"
   ]
  },
  {
   "cell_type": "markdown",
   "metadata": {},
   "source": [
    "### 1. Why the average of within class distances for q = 1 (i.e. c1_within_dist(1), c2_within_dist(1),c3_within_dist(1) ) are very similar?\n"
   ]
  },
  {
   "cell_type": "markdown",
   "metadata": {},
   "source": [
    "[A]  q=1 equal Manhattan Distance, So x1+y1 and x2+y2 are similar values.\n",
    "    \n",
    "    because x1 -> c1_x *1.5 , y1 -> c1_y 0.5 x2 -> c2_x * 0.5 , y2 -> c2_y *1.5 "
   ]
  },
  {
   "cell_type": "markdown",
   "metadata": {},
   "source": [
    "### 2. Why for q = 2 all distances are quite similar too?\n"
   ]
  },
  {
   "cell_type": "markdown",
   "metadata": {},
   "source": [
    "[A]  q=2 equal Euclidean distance, So distance is very similar  \n",
    "     \n",
    "     becuase class1 and class2's diagonal distance are equal. "
   ]
  },
  {
   "cell_type": "markdown",
   "metadata": {},
   "source": [
    "### 3. Why the average of within class distances in class 3 (blue) is much lower than within classes 1 and 2 for q = inf."
   ]
  },
  {
   "cell_type": "markdown",
   "metadata": {},
   "source": [
    "[A]   q=infinty equal supremum distance, So class is lower than classes 1 and classes 2\n",
    "\n",
    "      because class 3's diagonal is small than class1 and 2"
   ]
  },
  {
   "cell_type": "markdown",
   "metadata": {},
   "source": [
    "---"
   ]
  },
  {
   "cell_type": "code",
   "execution_count": 239,
   "metadata": {
    "collapsed": false
   },
   "outputs": [
    {
     "data": {
      "text/plain": [
       "[<matplotlib.lines.Line2D at 0x12426f28>]"
      ]
     },
     "execution_count": 239,
     "metadata": {},
     "output_type": "execute_result"
    },
    {
     "data": {
      "image/png": "[encoded data removed]",
      "text/plain": [
       "<matplotlib.figure.Figure at 0x12c40cf8>"
      ]
     },
     "metadata": {},
     "output_type": "display_data"
    }
   ],
   "source": [
    "fig = plt.Figure()\n",
    "ax = fig.gca()\n",
    "plt.axis([1,6,0.6,1.3])\n",
    "plt.xlabel(q_list)\n",
    "plt.xticks(range(1,len(q_list)))\n",
    "plt.ylabel('distance')\n",
    "plt.grid(linestyle=':',linewidth=1)\n",
    "plt.hold()\n",
    "\n",
    "plt.plot(q_list,c1_within_dist_mean,\":.r\",ms=10)\n",
    "plt.plot(q_list,c2_within_dist_mean,\":.g\",ms=10)\n",
    "plt.plot(q_list,c3_within_dist_mean,\":.b\",ms=10)"
   ]
  },
  {
   "cell_type": "markdown",
   "metadata": {},
   "source": [
    "##  H/W Problem 2:"
   ]
  },
  {
   "cell_type": "markdown",
   "metadata": {},
   "source": [
    "### 1. Why curves c1c2_dist and c2c1_dist as well as c1c3_dist and c3c1_dist, and c2c3_dist and c3c2_dist overlap ?   \n",
    "      [A] Because c1c2_dist and c2c1_dist's centroids are equal. So Distance value is similar.\n",
    "       \n",
    "### 2. Why for increasing q, c1c3_dist and c3c1_dist, as well as c2c3_dist and c3c2_dist decrease, however c1c2_dist and c2c1_dist do not decrease?  \n",
    "    [A]  class 1 is 1.5 * 0.5, class 2  is 0.5 * 1.5 but class 3 is 1.0 * 1.0\n",
    "        So c1 and c2's shape are similar but c3 is different. \n",
    "        I think, c1c3, c2c3 distance are decrease, but c1, c2 distance is not decrease."
   ]
  },
  {
   "cell_type": "markdown",
   "metadata": {},
   "source": [
    "---"
   ]
  },
  {
   "cell_type": "code",
   "execution_count": 240,
   "metadata": {
    "collapsed": false
   },
   "outputs": [
    {
     "data": {
      "text/plain": [
       "[<matplotlib.lines.Line2D at 0xf2044e0>]"
      ]
     },
     "execution_count": 240,
     "metadata": {},
     "output_type": "execute_result"
    },
    {
     "data": {
      "image/png": "[encoded data removed]",
      "text/plain": [
       "<matplotlib.figure.Figure at 0x12604080>"
      ]
     },
     "metadata": {},
     "output_type": "display_data"
    }
   ],
   "source": [
    "fig = plt.Figure()\n",
    "ax = fig.gca()\n",
    "plt.grid(True)\n",
    "plt.axis([1.0,6.0,6,13])\n",
    "plt.xticks(range(1,len(q_list)))\n",
    "plt.plot(q_list, c1c2_dist_mean,'--xr')\n",
    "plt.plot(q_list, c1c3_dist_mean,':or')\n",
    "plt.plot(q_list, c2c1_dist_mean,'--xg')\n",
    "plt.plot(q_list, c2c3_dist_mean,':og')\n",
    "plt.plot(q_list, c3c1_dist_mean,'--xb')\n",
    "plt.plot(q_list, c3c2_dist_mean,':ob')\n"
   ]
  },
  {
   "cell_type": "markdown",
   "metadata": {},
   "source": [
    "## H/W Problem 3: "
   ]
  },
  {
   "cell_type": "markdown",
   "metadata": {
    "collapsed": true
   },
   "source": [
    "###  Implement cosine similarity and compare it to minkowski distance based on the generated data, give some thoughts. Is there a distance functions (q ?) that is most similar to cosime similarity ?"
   ]
  },
  {
   "cell_type": "code",
   "execution_count": 245,
   "metadata": {
    "collapsed": false
   },
   "outputs": [
    {
     "name": "stdout",
     "output_type": "stream",
     "text": [
      "c1 and c2 =  0.798281479424\n",
      "c1 and c3 =  0.838962022928\n",
      "c2 and c1 =  0.798281479424\n",
      "c2 and c3 =  0.831189945398\n",
      "c3 and c1 =  0.838962022928\n",
      "c3 and c2 =  0.831189945398\n"
     ]
    }
   ],
   "source": [
    "print \"c1 and c2 = \", 1-scipy.spatial.distance.cosine(c1_within_dist,c2_within_dist)\n",
    "print \"c1 and c3 = \", 1-scipy.spatial.distance.cosine(c1_within_dist,c3_within_dist)\n",
    "print \"c2 and c1 = \", 1-scipy.spatial.distance.cosine(c2_within_dist,c1_within_dist)\n",
    "print \"c2 and c3 = \", 1-scipy.spatial.distance.cosine(c2_within_dist,c3_within_dist)\n",
    "print \"c3 and c1 = \", 1-scipy.spatial.distance.cosine(c3_within_dist,c1_within_dist)\n",
    "print \"c3 and c2 = \", 1-scipy.spatial.distance.cosine(c3_within_dist,c2_within_dist)"
   ]
  },
  {
   "cell_type": "markdown",
   "metadata": {},
   "source": [
    "I think c1 and c3 distance is most similar to cosine similarity."
   ]
  },
  {
   "cell_type": "markdown",
   "metadata": {},
   "source": [
    "------"
   ]
  },
  {
   "cell_type": "markdown",
   "metadata": {},
   "source": [
    "Professor, \n",
    "\n",
    "This Homework is difficult for me. \n",
    "Because I used python, Source code is not exactly same.\n",
    "\n",
    "This results are best efforts. Sorry.\n",
    "\n",
    "I can't speak English very well.\n",
    "But I will do my best. \n",
    "\n",
    "Have a nice day. \n"
   ]
  }
 ],
 "metadata": {
  "kernelspec": {
   "display_name": "Python 2",
   "language": "python",
   "name": "python2"
  },
  "language_info": {
   "codemirror_mode": {
    "name": "ipython",
    "version": 2
   },
   "file_extension": ".py",
   "mimetype": "text/x-python",
   "name": "python",
   "nbconvert_exporter": "python",
   "pygments_lexer": "ipython2",
   "version": "2.7.10"
  }
 },
 "nbformat": 4,
 "nbformat_minor": 0
}
