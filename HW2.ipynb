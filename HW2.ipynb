{
 "metadata": {
  "name": "",
  "signature": "sha256:aa211db6fe673107be10c1b3628b5dc49e054fac04224070a145087c655b7ed8"
 },
 "nbformat": 3,
 "nbformat_minor": 0,
 "worksheets": [
  {
   "cells": [
    {
     "cell_type": "markdown",
     "metadata": {},
     "source": [
      "***\n",
      "Assignment 2 _ 2010136140 \ud5c8\uc8fc\uc131 \n",
      "***"
     ]
    },
    {
     "cell_type": "markdown",
     "metadata": {},
     "source": [
      "[\ubb38\uc81c 1\ubc88]\n",
      "\ub2e4\uc74c 6 \uac1c\uc758 Expression\uc5d0 \ub300\ud574 Evaluation \uacb0\uacfc \uac12\uc744 \ucd9c\ub825\ud558\uace0, \ud574\ub2f9 \uacb0\uacfc\uac00 \ub098\uc628 \uc774\uc720\uc5d0 \ub300\ud574 \uc124\uba85\ud558\uc2dc\uc624\n",
      "1 and 2 and 3 and 4\n",
      "1 or 2 or 3 or 4\n",
      "1 and 2 or 3 and 4\n",
      "(1 and 2) or (3 and 4)\n",
      "1 or 2 and 3 or 4\n",
      "(1 or 2) and (3 or 4)\n",
      "**********"
     ]
    },
    {
     "cell_type": "code",
     "collapsed": false,
     "input": [
      "1 and 2 and 3 and 4"
     ],
     "language": "python",
     "metadata": {},
     "outputs": [
      {
       "metadata": {},
       "output_type": "pyout",
       "prompt_number": 3,
       "text": [
        "4"
       ]
      }
     ],
     "prompt_number": 3
    },
    {
     "cell_type": "code",
     "collapsed": false,
     "input": [
      "1 or 2 or 3 or 4"
     ],
     "language": "python",
     "metadata": {},
     "outputs": [
      {
       "metadata": {},
       "output_type": "pyout",
       "prompt_number": 4,
       "text": [
        "1"
       ]
      }
     ],
     "prompt_number": 4
    },
    {
     "cell_type": "code",
     "collapsed": false,
     "input": [
      "1 and 2 or 3 and 4"
     ],
     "language": "python",
     "metadata": {},
     "outputs": [
      {
       "metadata": {},
       "output_type": "pyout",
       "prompt_number": 5,
       "text": [
        "2"
       ]
      }
     ],
     "prompt_number": 5
    },
    {
     "cell_type": "code",
     "collapsed": false,
     "input": [
      "(1 and 2) or (3 and 4)"
     ],
     "language": "python",
     "metadata": {},
     "outputs": [
      {
       "metadata": {},
       "output_type": "pyout",
       "prompt_number": 6,
       "text": [
        "2"
       ]
      }
     ],
     "prompt_number": 6
    },
    {
     "cell_type": "code",
     "collapsed": false,
     "input": [
      "1 or 2 and 3 or 4"
     ],
     "language": "python",
     "metadata": {},
     "outputs": [
      {
       "metadata": {},
       "output_type": "pyout",
       "prompt_number": 7,
       "text": [
        "1"
       ]
      }
     ],
     "prompt_number": 7
    },
    {
     "cell_type": "code",
     "collapsed": false,
     "input": [
      "(1 or 2) and (3 or 4)"
     ],
     "language": "python",
     "metadata": {},
     "outputs": [
      {
       "metadata": {},
       "output_type": "pyout",
       "prompt_number": 8,
       "text": [
        "3"
       ]
      }
     ],
     "prompt_number": 8
    },
    {
     "cell_type": "markdown",
     "metadata": {},
     "source": [
      "\uc774\uc720 :  and\ub294 \uc591\ucabd \uacb0\uacfc\uac12\uc774 \ub458\ub2e4 \ucc38\uc77c \uacbd\uc6b0 \uc624\ub978\ucabd \uac12\uc744 \ucd9c\ub825, or \uc740 \uc67c\ucabd \uac12\uc744 \ucd9c\ub825\ud558\uae30 \ub54c\ubb38\uc5d0 and\uc640 or\uc758 \uacbd\uc6b0 and \uc5f0\uc0b0\uc774 \uba3c\uc800 \uc2e4\ud589 \ub418\uae30 \ub54c\ubb38\uc5d0  \n",
      "      \uc704\uc640 \uac19\uc740 \uacb0\uacfc\uac12\uc774 \ucd9c\ub825\ub41c\ub2e4."
     ]
    },
    {
     "cell_type": "markdown",
     "metadata": {},
     "source": [
      "*******************\n",
      "[\ubb38\uc81c2]\n",
      "7/5, -7/5, -(7/5)\uc758 \uacb0\uacfc\ub97c \ud655\uc778\ud558\uace0 \uac01\uac01\uc758 \uacb0\uacfc\uac00 \uc65c \uadf8\ub807\uac8c \ub098\uc624\ub294 \uc9c0 \uc124\uba85\ud558\uc2dc\uc624\n",
      "[\ucc38\uace0] \ubaab\uc740 \ud56d\uc0c1 \uc74c\uc758 \ubb34\ud55c\ub300 \ubc29\ud5a5\uc73c\ub85c round up (\ubc18\uc62c\ub9bc) \ub41c\ub2e4\ub294 \uc810\uc744 \uae30\uc5b5\ud574\uc57c \ud568\n",
      "*******************"
     ]
    },
    {
     "cell_type": "code",
     "collapsed": false,
     "input": [
      "7/5"
     ],
     "language": "python",
     "metadata": {},
     "outputs": [
      {
       "metadata": {},
       "output_type": "pyout",
       "prompt_number": 9,
       "text": [
        "1"
       ]
      }
     ],
     "prompt_number": 9
    },
    {
     "cell_type": "code",
     "collapsed": false,
     "input": [
      "-7/5"
     ],
     "language": "python",
     "metadata": {},
     "outputs": [
      {
       "metadata": {},
       "output_type": "pyout",
       "prompt_number": 10,
       "text": [
        "-2"
       ]
      }
     ],
     "prompt_number": 10
    },
    {
     "cell_type": "code",
     "collapsed": false,
     "input": [
      "-(7/5)"
     ],
     "language": "python",
     "metadata": {},
     "outputs": [
      {
       "metadata": {},
       "output_type": "pyout",
       "prompt_number": 11,
       "text": [
        "-1"
       ]
      }
     ],
     "prompt_number": 11
    },
    {
     "cell_type": "markdown",
     "metadata": {},
     "source": [
      "\uc774\uc720 : \uc591\uc218\ub294 \ub2f9\uc5f0\ud788 \ubaab\uc774 1\uc774 \ub098\uc624\uace0 -(7/5) \uc5ed\uc2dc \uc6b0\uc120\uc21c\uc704\uc5d0 \uc758\ud574 \uc591\uc218 \uac12\uc5d0 -\ub97c \ubd99\uc778 \uac83\uc774\ubbc0\ub85c -1\uc774 \ub9de\ub2e4.\n",
      "       \uadf8\ub7ec\ub098 -7/5\ub294 -\uac00 /\ubcf4\ub2e4 \uc6b0\uc120\uc21c\uc704\uac00 \ub192\uc73c\ubbc0\ub85c -7\uc5d0 5\ub97c \ub098\ub208\ub2e4. \uc774\ub54c \ub098\uba38\uc9c0\uac00 \uc74c\uc218\uac00 \ub420 \uc218 \uc5c6\uae30 \ub54c\ubb38\uc5d0 \ubaab\uc774 -2\uc774\uace0 \ub098\uba38\uc9c0\uac00 3\uc774 \ub41c\ub2e4."
     ]
    },
    {
     "cell_type": "markdown",
     "metadata": {},
     "source": [
      "***************\n",
      "[\ubb38\uc81c3]\n",
      "\ud0a4\ubcf4\ub4dc\ub85c \uc815\uc218\uac12\uc744 \uc785\ub825 \ubc1b\uace0 \uadf8 \uac12\uc774 \uc591\uc218\uc778\uc9c0 \uc74c\uc218\uc778\uc9c0\ub97c \ube44\ud2b8 \uc5f0\uc0b0\uc790\ub97c \uc774\uc6a9\ud558\uc5ec \ud310\ub2e8\ud558\ub294 \ud504\ub85c\uadf8\ub7a8\uc744 \uc791\uc131\ud558\uc2dc\uc624.\n",
      "[\ucc38\uace0] \uac00\uc7a5 \uc67c\ucabd\uc5d0 \uc788\ub294 \ube44\ud2b8\uac00 0\uc774\uba74 \uc591\uc218\uc774\uba70, 1\uc774\uba74 \uc74c\uc218\uc774\ub2e4.\n",
      "*******************"
     ]
    },
    {
     "cell_type": "code",
     "collapsed": false,
     "input": [
      "number = int(raw_input('number ? : '))\n",
      "number >> 7"
     ],
     "language": "python",
     "metadata": {},
     "outputs": [
      {
       "name": "stdout",
       "output_type": "stream",
       "stream": "stdout",
       "text": [
        "number ? : -40\n"
       ]
      },
      {
       "metadata": {},
       "output_type": "pyout",
       "prompt_number": 16,
       "text": [
        "-1"
       ]
      }
     ],
     "prompt_number": 16
    },
    {
     "cell_type": "code",
     "collapsed": false,
     "input": [
      "number = int(raw_input('number ? : '))\n",
      "number >> 7"
     ],
     "language": "python",
     "metadata": {},
     "outputs": [
      {
       "name": "stdout",
       "output_type": "stream",
       "stream": "stdout",
       "text": [
        "number ? : 100\n"
       ]
      },
      {
       "metadata": {},
       "output_type": "pyout",
       "prompt_number": 1,
       "text": [
        "0"
       ]
      }
     ],
     "prompt_number": 1
    },
    {
     "cell_type": "markdown",
     "metadata": {},
     "source": [
      "\ube44\ud2b8\uc5f0\uc0b0\uc790\ub97c \uc774\uc6a9\ud574 \uc624\ub978\ucabd\uc73c\ub85c \ube44\ud2b8\ub97c \uc774\ub3d9\uc2dc\ud0a4\uba74 \uc74c\uc218\ub294 1\uc774 \ucc28\uace0 \uc591\uc218\ub294 0\uc774 \ucc28\uae30\ub54c\ubb38\uc5d0 \uc591\uc218\ub294 \uac12\uc774 0\uc774 \ub098\uc624\uace0 \uc74c\uc218\ub294 -1\uc774 \ub098\uc624\uac8c \ub41c\ub2e4."
     ]
    },
    {
     "cell_type": "markdown",
     "metadata": {},
     "source": [
      "************\n",
      "[\ubb38\uc81c4]\n",
      "\ub450 \uac1c\uc758 \ub9ac\uc2a4\ud2b8\ub97c \uc778\uc790\ub85c \ubc1b\uc544\uc11c \uadf8 \ub450 \uac1c\uc758 \ub9ac\uc2a4\ud2b8\uc5d0 \ub300\ud55c '\ud569\uc9d1\ud569'\uc744 \ubc18\ud658\ud558\ub294 \ud568\uc218 list_union(lista, listb)\ub97c \uc791\uc131\ud558\uc2dc\uc624.\n",
      "\uc778\uc790\ub85c \uc804\ub2ec\ud558\ub294 \ub9ac\uc2a4\ud2b8 2 \uac1c\uc5d0\ub294 \uc815\uc218\uac12\ub9cc \ub4e4\uc5b4\uac04\ub2e4\uace0 \uac00\uc815\ud558\uc790.\n",
      "\ud568\uc218 \ub0b4\uc5d0\uc11c \uc0c8\ub85c\uc6b4 \ub9ac\uc2a4\ud2b8\ub97c \ub9cc\ub4e4\uc5b4 \uadf8 \ub9ac\uc2a4\ud2b8 \ub0b4\uc5d0 \uc778\uc790\ub85c \ubc1b\uc740 \ub450 \ub9ac\uc2a4\ud2b8\uc758 \ubaa8\ub4e0 \uc6d0\uc18c\ub97c \ub123\uc5b4 \ubc18\ud658\ud55c\ub2e4.\n",
      "\ubc18\ud658\ud558\ub294 \ub9ac\uc2a4\ud2b8\uc5d0\ub294 \uc808\ub300\ub85c \uc911\ubcf5\ub41c \uc6d0\uc18c\uac00 \ub4e4\uc5b4 \uc788\uc73c\uba74 \uc548\ub41c\ub2e4 (\uc9d1\ud569\uc758 \uc870\uac74).\n",
      "\ubc18\ud658\ud558\ub294 \ub9ac\uc2a4\ud2b8\ub294 \uc815\ub82c\uc774 \ub418\uc5b4 \uc788\uc5b4\uc57c \ud55c\ub2e4.\n",
      "\ub2e4\uc74c\uacfc \uac19\uc740 \uc2e4\ud589 \ubc0f \ucd9c\ub825 \uacb0\uacfc\uac00 \ub3c4\ucd9c\ub418\uc5b4\uc57c \ud55c\ub2e4.\n",
      "list_union([1, 2, 3], [1, 2, 4])\n",
      "[1, 2, 3, 4]\n",
      "list_union([-10, -5, 0, -1], [100, 9, 0, 9])\n",
      "[-10, -5, -1, 0, 9, 100]\n",
      "list_union([0, 1, 2], [0, 1, 2])\n",
      "[0, 1, 2]\n",
      "[\ucc38\uace0] \ub9ac\uc2a4\ud2b8(l) \ub0b4\uc5d0 \uc0c8\ub85c\uc6b4 \uc815\uc218\uac12 (\uc608\ub97c \ub4e4\uc5b4 10)\uc744 \ub123\ub294 \ubc29\ubc95\uc740 l.append(10) \uc774\ub2e4.\n",
      "[\ucc38\uace0] \uc784\uc758\uc758 \uc815\uc218\uac12 (x)\uc774 \ub9ac\uc2a4\ud2b8 (l) \ub0b4\uc5d0 \uc874\uc7ac\ud558\ub294\uc9c0 \ud310\ub2e8\ud558\ub294 \ubc29\ubc95\uc740 x in l \uc774\ub2e4.\n",
      "********"
     ]
    },
    {
     "cell_type": "code",
     "collapsed": false,
     "input": [
      "a = [6,3,8,9,0,-1]\n",
      "b = [-10,-5,0,-7,1,8]"
     ],
     "language": "python",
     "metadata": {},
     "outputs": [],
     "prompt_number": 1
    },
    {
     "cell_type": "code",
     "collapsed": false,
     "input": [
      "def list_union(lista, listb):\n",
      "    i=len(lista)\n",
      "    j=len(listb)\n",
      "    for x in range(i):\n",
      "        if(a[x] in s):\n",
      "            continue\n",
      "        else:\n",
      "            s.append(a[x])\n",
      "    for y in range(j):\n",
      "        if(b[y] in a):\n",
      "            continue\n",
      "        else:\n",
      "            if(b[y] in s):\n",
      "                continue\n",
      "            else:\n",
      "                s.append(b[y])\n",
      "    s.sort() \n",
      "\n",
      "s = []"
     ],
     "language": "python",
     "metadata": {},
     "outputs": [],
     "prompt_number": 3
    },
    {
     "cell_type": "code",
     "collapsed": false,
     "input": [
      "list_union(a,b)"
     ],
     "language": "python",
     "metadata": {},
     "outputs": [],
     "prompt_number": 4
    },
    {
     "cell_type": "code",
     "collapsed": false,
     "input": [
      "s"
     ],
     "language": "python",
     "metadata": {},
     "outputs": [
      {
       "metadata": {},
       "output_type": "pyout",
       "prompt_number": 5,
       "text": [
        "[-10, -7, -5, -1, 0, 1, 3, 6, 8, 9]"
       ]
      }
     ],
     "prompt_number": 5
    },
    {
     "cell_type": "markdown",
     "metadata": {},
     "source": [
      "\uc774\uc720 : \uac01 \ub9ac\uc2a4\ud2b8 a\uc640 b\uc758 \uae38\uc774\ub97c \uad6c\ud55c \ub4a4 for\ubb38\uc744 \ud1b5\ud574 a \ub9ac\uc2a4\ud2b8\uc758 \uac12\uc744 \uc911\ubcf5 \uc5c6\uac8c s\uc5d0 \uc800\uc7a5\uc2dc\ud0a8 \ud6c4 \ub2e4\uc2dc b \uac12\uc744 s\uc5d0 \uc911\ubcf5 \uc5c6\uc774 \uc800\uc7a5\uc2dc\ud0a8 \ub4a4\n",
      "       sort \uc2dc\ucf1c\uc8fc\uba74 \ub429\ub2c8\ub2e4."
     ]
    },
    {
     "cell_type": "markdown",
     "metadata": {},
     "source": [
      "*********\n",
      "[\ubb38\uc81c5]\n",
      "\uacbd\ub85c\uc5d0 \ud574\ub2f9\ud558\ub294 \ubb38\uc790\uc5f4 1\uac1c\ub97c \uc785\ub825 \ubc1b\uc544 \uadf8 \uc548\uc5d0 \ub514\ub809\ud1a0\ub9ac \uacbd\ub85c\uba85\uacfc \ud30c\uc77c\uba85\uc744 \ubd84\ub9ac\ud558\uc5ec \ub9ac\uc2a4\ud2b8\ub85c \ubc18\ud658\ud558\ub294 \ud568\uc218 div_path(s)\ub97c \uc791\uc131\ud558\uc2dc\uc624.\n",
      "\uc778\uc790\ub85c \uc804\ub2ec\ud558\ub294 \ubb38\uc790\uc5f4\uc740 \uacbd\ub85c\ub9cc \ub4e4\uc5b4\uac04\ub2e4\uace0 \uac00\uc815\ud55c\ub2e4.\n",
      "\uac01 \ub514\ub809\ud1a0\ub9ac\uc640 \ud30c\uc77c\uc744 \uad6c\ubd84\ud558\ub294 \ubb38\uc790\ub294 '/'\ub85c \uac00\uc815\ud55c\ub2e4.\n",
      "\ubc18\ud658\ud558\ub294 \ub9ac\uc2a4\ud2b8\uc758 \uccab\ubc88\uc9f8 \uc6d0\uc18c\ub294 \ub514\ub809\ud1a0\ub9ac\uc774\uace0 \ub450\ubc88\uc9f8 \uc6d0\uc18c\ub294 \ud30c\uc77c\uba85\uc774\ub2e4.\n",
      "\ub2e4\uc74c\uacfc \uac19\uc740 \uc2e4\ud589 \ubc0f \ucd9c\ub825 \uacb0\uacfc\uac00 \ub3c4\ucd9c\ub418\uc5b4\uc57c \ud55c\ub2e4.\n",
      "div_path('/usr/local/bin/python')\n",
      "['/usr/local/bin', 'python']\n",
      "div_path('/home/chulsoo/test.txt')\n",
      "['/home/chulsoo', 'test.txt']\n",
      "*********"
     ]
    },
    {
     "cell_type": "code",
     "collapsed": false,
     "input": [
      "def div_path(s = '/usr/local/bin/python') :\n",
      "    print s.rsplit('/', 1)\n",
      "    \n",
      "div_path('/home/jooseong/python/test.py')"
     ],
     "language": "python",
     "metadata": {},
     "outputs": [
      {
       "output_type": "stream",
       "stream": "stdout",
       "text": [
        "['/home/jooseong/python', 'test.py']\n"
       ]
      }
     ],
     "prompt_number": 14
    },
    {
     "cell_type": "markdown",
     "metadata": {},
     "source": [
      "\uc774\uc720 : rsplit\uc740 \uc624\ub978\ucabd\ubd80\ud130 \ubd84\ub9ac\ud558\uae30\ub54c\ubb38\uc5d0 /\uc744 \uae30\uc900\uc73c\ub85c \uad6c\ubd84\ud558\uac8c \ub418\uba74 \ub514\ub809\ud1a0\ub9ac\uba85\uacfc \ud30c\uc77c\uc744 \uad6c\ubd84\ud560 \uc218 \uc788\ub2e4."
     ]
    },
    {
     "cell_type": "markdown",
     "metadata": {},
     "source": [
      "*********\n",
      "[\ubb38\uc81c6]\n",
      "\uc6f9 URL\ub85c \uc9c0\uc815\ub41c \uc6f9\ud398\uc774\uc9c0\ub97c \ubb38\uc790\uc5f4\ub85c \uac00\uc838\uc640 \n",
      "1) \ubaa8\ub4e0 HTML \ud0dc\uadf8 \ubc0f CSS\uc640 Javascript\ub97c \uc81c\uc678\ud55c \uc21c\uc218 \ud14d\uc2a4\ud2b8\ub9cc\uc744 \ucd9c\ub825\ud558\uace0,\n",
      "2) \uadf8 \uc21c\uc218 \ud14d\uc2a4\ud2b8 \uc548\uc5d0 \uc874\uc7ac\ud558\ub294 \ub2e8\uc5b4\uac00 \ucd1d \uba87\uac1c\uc778\uc9c0 \ucd9c\ub825\ud558\ub294 \ud504\ub85c\uadf8\ub7a8\uc744 \uc791\uc131\ud558\uc2dc\uc624.\n",
      "HTML \ud0dc\uadf8\ub294 \ub2e4\uc74c \uc870\uac74\uc744 \uac00\uc9c0\ub294 \uac83\uc774\ub2e4.\n",
      "< \ub85c \uc2dc\uc791\ud558\uc5ec >\ub85c \ub05d\ub098\uac70\ub098 />\ub85c \ub05d\ub09c\ub2e4.\n",
      "</ \ub85c \uc2dc\uc791\ud558\uc5ec > \ub85c \ub05d\ub09c\ub2e4.\n",
      "HTML \ubb38\uc11c \ub0b4\uc5d0 \uc874\uc7ac\ud558\ub294 CSS \uc0ad\uc81c\uc2dc \ucc38\uace0\ud560 \uc0ac\ud56d\n",
      "<style> \ud639\uc740 <STYLE>\ub85c \uc2dc\uc791\ud55c\ub2e4.\n",
      "</style> \ud639\uc740 </STYLE>\ub85c \ub05d\ub09c\ub2e4.\n",
      "<style> (\ud639\uc740 <STYLE>)\uacfc </style> (\ud639\uc740 </STYLE>) \ub0b4\uc5d0 \uc874\uc7ac\ud558\ub294 CSS \ucf54\ub4dc\ub294 \ubaa8\ub450 \uc0ad\uc81c\ud55c\ub2e4.\n",
      "HTML \ubb38\uc11c \ub0b4\uc5d0 \uc874\uc7ac\ud558\ub294 Javascript \uc0ad\uc81c\uc2dc \ucc38\uace0\ud560 \uc0ac\ud56d\n",
      "<script> \ud639\uc740 <SCRIPT>\ub85c \uc2dc\uc791\ud55c\ub2e4.\n",
      "</script> \ud639\uc740 </SCRIPT>\ub85c \ub05d\ub09c\ub2e4.\n",
      "<script> (\ud639\uc740 <SCRIPT>)\uacfc </script> (\ud639\uc740 </SCRIPT>) \ub0b4\uc5d0 \uc874\uc7ac\ud558\ub294 Javascript \ucf54\ub4dc\ub294 \ubaa8\ub450 \uc0ad\uc81c\ud55c\ub2e4.\n",
      "\uc989, CSS \ucf54\ub4dc\uc640 Javascript \ucf54\ub4dc\ub294 \ub2e8\uc5b4\uc758 \ucd1d\uc218\ub97c \uce74\uc6b4\ud2b8 \ud560 \ub54c \uace0\ub824\ud558\uc9c0 \uc54a\ub294\ub2e4.\n",
      "\ub2e8\uc5b4\ub97c \ub098\ub204\ub294 \uae30\uc900\uc740 \uc624\ub85c\uc9c0 \uacf5\ubc31\ubb38\uc790\uc774\ub2e4.\n",
      "\ub2e4\uc74c \ucf54\ub4dc \ud65c\uc6a9\n",
      "import string\n",
      "c in string.whitespace\n",
      "\ud55c\ud3b8, \ub2e4\uc74c\uc740 URL\ub85c \uc9c0\uc815\ub41c \uc6f9\ud398\uc774\uc9c0\ub97c \ud2b9\uc815 \ubb38\uc790\uc5f4\ub85c \uac00\uc838\uc624\ub294 \ucf54\ub4dc\uc774\ub2e4.\n",
      "*********"
     ]
    },
    {
     "cell_type": "markdown",
     "metadata": {},
     "source": [
      "***********\n",
      "\uac15\uc758 \ubc0f \uc219\uc81c \ud6c4 \uc18c\uac10\n",
      " - \uc218\uc5c5\uc744 \ub4e4\uc744 \ub550 \ubb34\uc2a8 \ub9d0\uc778\uc9c0\ub3c4 \ub2e4 \uc54c\uaca0\uace0 \uadf8\ub550 \ub2e4 \uc774\ud574\ud588\ub2e4\uace0 \uc0dd\uac01\ud558\uace0 \ub118\uc5b4\uac00\ub294\ub370, \ub9c9\uc0c1 \uacfc\uc81c\ub97c \ud558\uac70\ub098 \ub530\ub85c \uacf5\ubd80\ub97c \ud560\ub54c\uba74 \n",
      "  \uc774\uac8c \uc65c \uadf8\ub7ac\uc5c8\uc9c0 \ud558\uace0 \uac00\ub054 \ubaa8\ub974\ub294 \uac83\uc774 \uc0dd\uae41\ub2c8\ub2e4. \n",
      "  \uc2e4\uc2b5\ubcf4\ub2e8 \uc124\uba85\uc774 \ub9ce\uc544\uc11c \ub530\ub85c \ud544\uae30\ub97c \uc548\ud558\uace0 \ub4e3\uace0 \ub3cc\uc544\ubcf4\ub2c8 \uc0dd\uac01\ubcf4\ub2e4 \ubaa8\ub974\ub294\uac8c \ub9ce\uc558\uc2b5\ub2c8\ub2e4.\n",
      "  \ud544\uae30\ub3c4 \ud558\uba70 \uc2e4\uc2b5\ub3c4 \uc57d\uac04\uc529 \ud558\uba74\uc11c \uac15\uc758\ub97c \ub4e4\uc5b4\uc57c\uaca0\ub2e4\uace0 \uc0dd\uac01\ud588\uc2b5\ub2c8\ub2e4.\n",
      "  \n",
      "  \uc774\ubc88 \ub450\ubc88\uc9f8 \uacfc\uc81c\ub294 1\ubc88\ubd80\ud130 5\ubc88\uae4c\uc9c0\ub294 \ub098\ub984 \uace0\ubbfc\ud558\uace0 \ud480 \uc218 \uc788\uc5c8\ub294\ub370 \n",
      "  6\ubc88 \ubb38\uc81c\ub294 \uce5c\uad6c\ub4e4\uacfc \uace0\ubbfc\ub3c4 \ud574\ubcf4\uace0 \ucc3e\uc544\ub3c4 \ubd24\uc9c0\ub9cc \ub9cc\uc871\uc2a4\ub7f0 \ud574\ub2f5\uc744 \ucc3e\uc9c0 \ubabb\ud588\uc2b5\ub2c8\ub2e4.\n",
      "  \ub354 \uacf5\ubd80\ud574\uc11c \ub2e4\uc74c \uc219\uc81c \ub54c\uae4c\uc9c0 \uaf2d \ud480\uc5b4\ubcf4\ub3c4\ub85d \ud558\uaca0\uc2b5\ub2c8\ub2e4.  \n",
      "******************"
     ]
    }
   ],
   "metadata": {}
  }
 ]
}