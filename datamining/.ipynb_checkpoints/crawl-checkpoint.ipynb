{
 "cells": [
  {
   "cell_type": "code",
   "execution_count": 1,
   "metadata": {
    "collapsed": true
   },
   "outputs": [],
   "source": [
    "from urllib import request\n",
    "from bs4 import BeautifulSoup"
   ]
  },
  {
   "cell_type": "code",
   "execution_count": 55,
   "metadata": {
    "collapsed": false
   },
   "outputs": [],
   "source": [
    "target  =  request.urlopen(\"https://www.naver.com\")"
   ]
  },
  {
   "cell_type": "code",
   "execution_count": 56,
   "metadata": {
    "collapsed": true
   },
   "outputs": [],
   "source": [
    "soup = BeautifulSoup(target, \"html.parser\")"
   ]
  },
  {
   "cell_type": "code",
   "execution_count": 57,
   "metadata": {
    "collapsed": false
   },
   "outputs": [],
   "source": [
    "rank= soup.find(\"ul\",class_=\"ah_l\")"
   ]
  },
  {
   "cell_type": "code",
   "execution_count": 16,
   "metadata": {
    "collapsed": false
   },
   "outputs": [
    {
     "name": "stdout",
     "output_type": "stream",
     "text": [
      "1위 : 김세린\n",
      "2위 : 황매산\n",
      "3위 : 새싹귀리분말\n",
      "4위 : 옥주현 클렌징밤\n",
      "5위 : 말복\n",
      "6위 : 이언주\n",
      "7위 : 영종도 스타파이브\n",
      "8위 : 일광학원\n",
      "9위 : 2019년 말복\n",
      "10위 : 배재준\n",
      "11위 : 경주화랑의언덕\n",
      "12위 : 퀸덤\n",
      "13위 : 이규태\n",
      "14위 : 동호\n",
      "15위 : 마라탕\n",
      "16위 : 열여덟의 순간\n",
      "17위 : 공짜\n",
      "18위 : 충주 코아루더테라스\n",
      "19위 : 복날\n",
      "20위 : 애달다\n"
     ]
    }
   ],
   "source": [
    "for i in rank.find_all(\"li\"):\n",
    "    print(i.get_text(\"위 : \", strip=True))"
   ]
  },
  {
   "cell_type": "code",
   "execution_count": 62,
   "metadata": {
    "collapsed": false,
    "scrolled": true
   },
   "outputs": [
    {
     "data": {
      "text/plain": [
       "<li class=\"ah_item\">\n",
       "<a class=\"ah_a\" data-clk=\"lve.keyword\" href=\"#\">\n",
       "<span class=\"ah_r\">1</span>\n",
       "<span class=\"ah_k\">김세린</span>\n",
       "</a>\n",
       "</li>"
      ]
     },
     "execution_count": 62,
     "metadata": {},
     "output_type": "execute_result"
    }
   ],
   "source": [
    "rank.find_all(\"li\")[0]"
   ]
  },
  {
   "cell_type": "code",
   "execution_count": 63,
   "metadata": {
    "collapsed": false,
    "scrolled": true
   },
   "outputs": [
    {
     "data": {
      "text/plain": [
       "'\\n\\n1\\n김세린\\n\\n'"
      ]
     },
     "execution_count": 63,
     "metadata": {},
     "output_type": "execute_result"
    }
   ],
   "source": [
    "rank.find_all(\"li\")[0].get_text()"
   ]
  },
  {
   "cell_type": "code",
   "execution_count": 64,
   "metadata": {
    "collapsed": true
   },
   "outputs": [],
   "source": [
    "text=\"\"\"\n",
    "\t\t<div class=\"area_hotkeyword PM_CL_realtimeKeyword_base\">\n",
    "\t\t\t<div class=\"ah_roll PM_CL_realtimeKeyword_rolling_base\" aria-hidden=\"false\">\n",
    "<h3 class=\"blind\">급상승 검색어 검색어</h3>\n",
    "<div class=\"ah_roll_area PM_CL_realtimeKeyword_rolling\">\n",
    "<ul class=\"ah_l\">\n",
    "<li class=\"ah_item\">\n",
    "<a href=\"#\" class=\"ah_a\" data-clk=\"lve.keyword\">\n",
    "<span class=\"ah_r\">1</span>\n",
    "<span class=\"ah_k\">김세린</span>\n",
    "</a>\n",
    "</li>\n",
    "<li class=\"ah_item\">\n",
    "<a href=\"#\" class=\"ah_a\" data-clk=\"lve.keyword\">\n",
    "<span class=\"ah_r\">2</span>\n",
    "<span class=\"ah_k\">새싹귀리분말</span>\n",
    "</a>\n",
    "</li>\n",
    "<li class=\"ah_item\">\n",
    "<a href=\"#\" class=\"ah_a\" data-clk=\"lve.keyword\">\n",
    "<span class=\"ah_r\">3</span>\n",
    "<span class=\"ah_k\">일광학원</span>\n",
    "</a>\n",
    "</li>\n",
    "<li class=\"ah_item\">\n",
    "<a href=\"#\" class=\"ah_a\" data-clk=\"lve.keyword\">\n",
    "<span class=\"ah_r\">4</span>\n",
    "<span class=\"ah_k\">옥주현 클렌징밤</span>\n",
    "</a>\n",
    "</li>\n",
    "<li class=\"ah_item\">\n",
    "<a href=\"#\" class=\"ah_a\" data-clk=\"lve.keyword\">\n",
    "<span class=\"ah_r\">5</span>\n",
    "<span class=\"ah_k\">이규태</span>\n",
    "</a>\n",
    "</li>\n",
    "<li class=\"ah_item\">\n",
    "<a href=\"#\" class=\"ah_a\" data-clk=\"lve.keyword\">\n",
    "<span class=\"ah_r\">6</span>\n",
    "<span class=\"ah_k\">말복</span>\n",
    "</a>\n",
    "</li>\n",
    "<li class=\"ah_item\">\n",
    "<a href=\"#\" class=\"ah_a\" data-clk=\"lve.keyword\">\n",
    "<span class=\"ah_r\">7</span>\n",
    "<span class=\"ah_k\">이언주</span>\n",
    "</a>\n",
    "</li>\n",
    "<li class=\"ah_item\">\n",
    "<a href=\"#\" class=\"ah_a\" data-clk=\"lve.keyword\">\n",
    "<span class=\"ah_r\">8</span>\n",
    "<span class=\"ah_k\">2019년 말복</span>\n",
    "</a>\n",
    "</li>\n",
    "<li class=\"ah_item\">\n",
    "<a href=\"#\" class=\"ah_a\" data-clk=\"lve.keyword\">\n",
    "<span class=\"ah_r\">9</span>\n",
    "<span class=\"ah_k\">배재준</span>\n",
    "</a>\n",
    "</li>\n",
    "<li class=\"ah_item\">\n",
    "<a href=\"#\" class=\"ah_a\" data-clk=\"lve.keyword\">\n",
    "<span class=\"ah_r\">10</span>\n",
    "<span class=\"ah_k\">마라탕</span>\n",
    "</a>\n",
    "</li>\n",
    "<li class=\"ah_item\">\n",
    "<a href=\"#\" class=\"ah_a\" data-clk=\"lve.keyword\">\n",
    "<span class=\"ah_r\">11</span>\n",
    "<span class=\"ah_k\">경주화랑의언덕</span>\n",
    "</a>\n",
    "</li>\n",
    "<li class=\"ah_item\">\n",
    "<a href=\"#\" class=\"ah_a\" data-clk=\"lve.keyword\">\n",
    "<span class=\"ah_r\">12</span>\n",
    "<span class=\"ah_k\">애달다</span>\n",
    "</a>\n",
    "</li>\n",
    "<li class=\"ah_item\">\n",
    "<a href=\"#\" class=\"ah_a\" data-clk=\"lve.keyword\">\n",
    "<span class=\"ah_r\">13</span>\n",
    "<span class=\"ah_k\">퀸덤</span>\n",
    "</a>\n",
    "</li>\n",
    "<li class=\"ah_item\">\n",
    "<a href=\"#\" class=\"ah_a\" data-clk=\"lve.keyword\">\n",
    "<span class=\"ah_r\">14</span>\n",
    "<span class=\"ah_k\">열여덟의 순간</span>\n",
    "</a>\n",
    "</li>\n",
    "<li class=\"ah_item\">\n",
    "<a href=\"#\" class=\"ah_a\" data-clk=\"lve.keyword\">\n",
    "<span class=\"ah_r\">15</span>\n",
    "<span class=\"ah_k\">충주 코아루더테라스</span>\n",
    "</a>\n",
    "</li>\n",
    "<li class=\"ah_item\">\n",
    "<a href=\"#\" class=\"ah_a\" data-clk=\"lve.keyword\">\n",
    "<span class=\"ah_r\">16</span>\n",
    "<span class=\"ah_k\">공짜</span>\n",
    "</a>\n",
    "</li>\n",
    "<li class=\"ah_item\">\n",
    "<a href=\"#\" class=\"ah_a\" data-clk=\"lve.keyword\">\n",
    "<span class=\"ah_r\">17</span>\n",
    "<span class=\"ah_k\">동호</span>\n",
    "</a>\n",
    "</li>\n",
    "<li class=\"ah_item\">\n",
    "<a href=\"#\" class=\"ah_a\" data-clk=\"lve.keyword\">\n",
    "<span class=\"ah_r\">18</span>\n",
    "<span class=\"ah_k\">스켈리톤 키</span>\n",
    "</a>\n",
    "</li>\n",
    "<li class=\"ah_item\">\n",
    "<a href=\"#\" class=\"ah_a\" data-clk=\"lve.keyword\">\n",
    "<span class=\"ah_r\">19</span>\n",
    "<span class=\"ah_k\">복날</span>\n",
    "</a>\n",
    "</li>\n",
    "<li class=\"ah_item\">\n",
    "<a href=\"#\" class=\"ah_a\" data-clk=\"lve.keyword\">\n",
    "<span class=\"ah_r\">20</span>\n",
    "<span class=\"ah_k\">일광그룹</span>\n",
    "</a>\n",
    "</li>\n",
    "</ul>\n",
    "</div>\n",
    "</div>\n",
    "\t\t\t<span class=\"ah_ico_open\"></span>\n",
    "\t\t\t<div class=\"ah_list PM_CL_realtimeKeyword_list_base\" aria-hidden=\"true\">\n",
    "<h3 class=\"ah_ltit\">급상승 검색어</h3>\"\"\""
   ]
  },
  {
   "cell_type": "code",
   "execution_count": 65,
   "metadata": {
    "collapsed": false
   },
   "outputs": [
    {
     "data": {
      "text/plain": [
       "'\\n\\n\\n급상승 검색어 검색어\\n\\n\\n\\n\\n1\\n김세린\\n\\n\\n\\n\\n2\\n새싹귀리분말\\n\\n\\n\\n\\n3\\n일광학원\\n\\n\\n\\n\\n4\\n옥주현 클렌징밤\\n\\n\\n\\n\\n5\\n이규태\\n\\n\\n\\n\\n6\\n말복\\n\\n\\n\\n\\n7\\n이언주\\n\\n\\n\\n\\n8\\n2019년 말복\\n\\n\\n\\n\\n9\\n배재준\\n\\n\\n\\n\\n10\\n마라탕\\n\\n\\n\\n\\n11\\n경주화랑의언덕\\n\\n\\n\\n\\n12\\n애달다\\n\\n\\n\\n\\n13\\n퀸덤\\n\\n\\n\\n\\n14\\n열여덟의 순간\\n\\n\\n\\n\\n15\\n충주 코아루더테라스\\n\\n\\n\\n\\n16\\n공짜\\n\\n\\n\\n\\n17\\n동호\\n\\n\\n\\n\\n18\\n스켈리톤 키\\n\\n\\n\\n\\n19\\n복날\\n\\n\\n\\n\\n20\\n일광그룹\\n\\n\\n\\n\\n\\n\\n\\n급상승 검색어'"
      ]
     },
     "execution_count": 65,
     "metadata": {},
     "output_type": "execute_result"
    }
   ],
   "source": [
    "temp = BeautifulSoup(text, \"html.parser\")\n",
    "temp.get_text()"
   ]
  },
  {
   "cell_type": "code",
   "execution_count": 43,
   "metadata": {
    "collapsed": false
   },
   "outputs": [
    {
     "name": "stdout",
     "output_type": "stream",
     "text": [
      "<a class=\"temp\" href=\"www.naver.com\" id=\"name\">aaaa</a>\n"
     ]
    }
   ],
   "source": [
    "text = \"\"\"\n",
    "<a href=\"www.naver.com\" class=\"temp\" id=\"name\" >aaaa</a>\n",
    "\"\"\"\n",
    "temp = BeautifulSoup(text, \"html.parser\")\n",
    "a = temp.find(\"a\")\n",
    "print(a)"
   ]
  },
  {
   "cell_type": "code",
   "execution_count": 44,
   "metadata": {
    "collapsed": false
   },
   "outputs": [
    {
     "name": "stdout",
     "output_type": "stream",
     "text": [
      "{'href': 'www.naver.com', 'class': ['temp'], 'id': 'name'}\n"
     ]
    }
   ],
   "source": [
    "print(a.attrs)"
   ]
  },
  {
   "cell_type": "code",
   "execution_count": 45,
   "metadata": {
    "collapsed": false,
    "scrolled": false
   },
   "outputs": [
    {
     "name": "stdout",
     "output_type": "stream",
     "text": [
      "['temp']\n"
     ]
    }
   ],
   "source": [
    "print(a['class'])"
   ]
  },
  {
   "cell_type": "code",
   "execution_count": null,
   "metadata": {
    "collapsed": true
   },
   "outputs": [],
   "source": []
  },
  {
   "cell_type": "code",
   "execution_count": null,
   "metadata": {
    "collapsed": true
   },
   "outputs": [],
   "source": []
  },
  {
   "cell_type": "code",
   "execution_count": 96,
   "metadata": {
    "collapsed": false
   },
   "outputs": [
    {
     "name": "stdout",
     "output_type": "stream",
     "text": [
      "1 위:  라이온 킹\n",
      "2 위:  알라딘\n",
      "3 위:  스파이더맨: 파 프롬 홈\n",
      "4 위:  기생충\n",
      "5 위:  비스트\n",
      "6 위:  사일런스\n",
      "7 위:  진범\n",
      "8 위:  기방도령\n",
      "9 위:  토이 스토리 4\n",
      "10 위:  미드소마\n",
      "11 위:  사자\n",
      "12 위:  존 윅 3: 파라벨룸\n",
      "13 위:  롱 리브 더 킹: 목포 영웅\n",
      "14 위:  나랏말싸미\n",
      "15 위:  롱 샷\n",
      "16 위:  유열의 음악앨범\n",
      "17 위:  타짜: 원 아이드 잭\n",
      "18 위:  극장판 엉덩이 탐정: 화려한 사건 수첩\n",
      "19 위:  어벤져스: 엔드게임\n",
      "20 위:  광대들: 풍문조작단\n",
      "21 위:  인턴형사 오견식\n",
      "22 위:  분노의 질주: 홉스&쇼\n",
      "23 위:  발광하는 현대사\n",
      "24 위:  봉오동 전투\n",
      "25 위:  킹스맨: 퍼스트 에이전트\n",
      "26 위:  엑시트\n",
      "27 위:  난폭한 기록\n",
      "28 위:  맨 인 블랙: 인터내셔널\n",
      "29 위:  레드슈즈\n",
      "30 위:  천로역정: 천국을 찾아서\n",
      "31 위:  주전장\n",
      "32 위:  나이트메어 시네마\n",
      "33 위:  애나벨 집으로\n",
      "34 위:  막내 이모\n",
      "35 위:  관전남\n",
      "36 위:  명탐정 코난: 감청의 권\n",
      "37 위:  알리타: 배틀 엔젤\n",
      "38 위:  이케아 옷장에서 시작된 특별난 여행\n",
      "39 위:  변신\n",
      "40 위:  알라딘 2\n",
      "41 위:  조\n",
      "42 위:  액츠 오브 바이올런스\n",
      "43 위:  그것: 두 번째 이야기\n",
      "44 위:  인간, 공간, 시간 그리고 인간\n",
      "45 위:  수영장으로 간 남자들\n",
      "46 위:  인크레더블 손오공\n",
      "47 위:  악인전\n",
      "48 위:  굿바이 썸머\n",
      "49 위:  극장판 샤이닝스타:새로운 루나퀸의 탄생!\n",
      "50 위:  고잉 투 브라질\n"
     ]
    }
   ],
   "source": []
  },
  {
   "cell_type": "code",
   "execution_count": 109,
   "metadata": {
    "collapsed": false
   },
   "outputs": [],
   "source": []
  },
  {
   "cell_type": "code",
   "execution_count": null,
   "metadata": {
    "collapsed": true
   },
   "outputs": [],
   "source": []
  }
 ],
 "metadata": {
  "kernelspec": {
   "display_name": "Python 3",
   "language": "python",
   "name": "python3"
  },
  "language_info": {
   "codemirror_mode": {
    "name": "ipython",
    "version": 3
   },
   "file_extension": ".py",
   "mimetype": "text/x-python",
   "name": "python",
   "nbconvert_exporter": "python",
   "pygments_lexer": "ipython3",
   "version": "3.6.0"
  }
 },
 "nbformat": 4,
 "nbformat_minor": 2
}
