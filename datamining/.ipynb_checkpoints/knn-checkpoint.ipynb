{
 "cells": [
  {
   "cell_type": "markdown",
   "metadata": {},
   "source": [
    "1) 특정한 점과 다른 점들과의 거리 측정 \n",
    "\n",
    "2) 가까운 k 개의 점 선별 \n",
    "\n",
    "3) 선별된 점들의 레이블을 보고 다수결(majority vote)로 새로운 데이터 포인트의 레이블을 정한다"
   ]
  },
  {
   "cell_type": "code",
   "execution_count": 1,
   "metadata": {},
   "outputs": [],
   "source": [
    "import numpy as np\n",
    "import matplotlib.pyplot as plt\n",
    "import pandas as pd"
   ]
  },
  {
   "cell_type": "code",
   "execution_count": 9,
   "metadata": {},
   "outputs": [
    {
     "name": "stdout",
     "output_type": "stream",
     "text": [
      "단맛 입력(1~10):8\n",
      "아삭거림 입력(1~10):1\n"
     ]
    }
   ],
   "source": [
    "grape = [8, 5]\n",
    "fish = [2, 3]\n",
    "carrot = [7, 10]\n",
    "orange = [7, 3]\n",
    "celery = [3, 8]\n",
    "cheese = [1, 1]\n",
    "category = ['과일', '단백질', '채소', '과일', '채소', '단백질']\n",
    "\n",
    "# 분류대상\n",
    "dan = int(input('단맛 입력(1~10):'))\n",
    "asac =  int(input('아삭거림 입력(1~10):'))\n",
    "target = [dan, asac]\n"
   ]
  },
  {
   "cell_type": "code",
   "execution_count": 10,
   "metadata": {},
   "outputs": [],
   "source": [
    "def data_set():\n",
    "    dataset = np.array([grape,fish,carrot,orange,celery,cheese]) # 분류집단\n",
    "    size = len(dataset)\n",
    "    class_target = np.tile(target, (size, 1))   # 분류대상\n",
    "    class_category = np.array(category)         # 분류범주\n",
    "    \n",
    "    return dataset, class_target, class_category\n",
    "\n",
    "# dataset 생성\n",
    "dataset, class_target, class_categoty = data_set()   # data_set()함수 호출\n",
    "\n",
    "\n"
   ]
  },
  {
   "cell_type": "code",
   "execution_count": 11,
   "metadata": {},
   "outputs": [],
   "source": [
    "def classify(dataset, class_target, class_categoty, k):\n",
    "    # 유클리드 거리 계산\n",
    "    diffMat = class_target - dataset   # 두 점의 차\n",
    "    sqDiffMat = diffMat**2             # 차에 대한 제곱\n",
    "    row_sum = sqDiffMat.sum(axis=1)    # 차에 대한 제곱에 대한 합\n",
    "    distance = np.sqrt(row_sum)        # 차에 대한 제곱에 대한 합의 제곱근(최종거리)\n",
    "    \n",
    "    # 가까운 거리 오름차순 정렬\n",
    "    sortDist = distance.argsort()\n",
    "    \n",
    "    # 이웃한 k개 선정\n",
    "    class_result = {}\n",
    "    for i in range(k):\n",
    "        c = class_categoty[sortDist[i]]\n",
    "        class_result[c] = class_result.get(c, 0) + 1\n",
    "\n",
    "    return class_result\n"
   ]
  },
  {
   "cell_type": "code",
   "execution_count": 12,
   "metadata": {},
   "outputs": [
    {
     "name": "stdout",
     "output_type": "stream",
     "text": [
      "k값 입력(1~3):1\n",
      "{'과일': 1}\n"
     ]
    }
   ],
   "source": [
    "# 함수 호출\n",
    "k = int(input('k값 입력(1~3):'))\n",
    "class_result = classify(dataset, class_target, class_categoty, k)  # classify()함수호출\n",
    "print(class_result)\n"
   ]
  },
  {
   "cell_type": "code",
   "execution_count": 13,
   "metadata": {},
   "outputs": [
    {
     "name": "stdout",
     "output_type": "stream",
     "text": [
      "분류대상은 과일 입니다\n"
     ]
    }
   ],
   "source": [
    "# 분류결과 출력 함수 정의\n",
    "def classify_result(class_result):\n",
    "    protein = fruit = vegetable = 0\n",
    "    \n",
    "    for c in class_result.keys():\n",
    "        if c == '단백질':\n",
    "            protein = class_result[c]\n",
    "        elif c =='과일':\n",
    "            fruit = class_result[c]\n",
    "        else :\n",
    "            vegetable = class_result[c]\n",
    "\n",
    "    if protein > fruit and protein > vegetable:\n",
    "        result = \"분류대상은 단백질 입니다.\"\n",
    "    elif fruit > protein and fruit > vegetable:\n",
    "        result = \"분류대상은 과일 입니다\"\n",
    "    else:\n",
    "        result = \"분류대상은 채소 입니다.\"\n",
    "        \n",
    "    return result\n",
    "\n",
    "\n",
    "a = classify_result(class_result)\n",
    "print(a)\n"
   ]
  },
  {
   "cell_type": "code",
   "execution_count": 14,
   "metadata": {
    "scrolled": true
   },
   "outputs": [
    {
     "data": {
      "image/png": "[encoded data removed]",
      "text/plain": [
       "<matplotlib.figure.Figure at 0x1177ce860>"
      ]
     },
     "metadata": {},
     "output_type": "display_data"
    }
   ],
   "source": [
    "# 시각화(o= 과일, +=단밸질, *=채소\n",
    "plt.scatter(8, 5, marker='o')\n",
    "plt.scatter(2, 3, marker='+')   \n",
    "plt.scatter(7, 10, marker='*') \n",
    "plt.scatter(7, 3, marker='o')\n",
    "plt.scatter(3, 8, marker='+')\n",
    "plt.scatter(1, 1, marker='*')\n",
    "plt.scatter(dan, asac, color='red') # 분류대상 -> B집단 \n",
    "\n",
    "plt.show()\n"
   ]
  },
  {
   "cell_type": "code",
   "execution_count": null,
   "metadata": {},
   "outputs": [],
   "source": []
  },
  {
   "cell_type": "code",
   "execution_count": null,
   "metadata": {},
   "outputs": [],
   "source": []
  },
  {
   "cell_type": "code",
   "execution_count": null,
   "metadata": {},
   "outputs": [],
   "source": []
  },
  {
   "cell_type": "code",
   "execution_count": null,
   "metadata": {},
   "outputs": [],
   "source": []
  },
  {
   "cell_type": "code",
   "execution_count": 18,
   "metadata": {},
   "outputs": [],
   "source": [
    "import matplotlib.pyplot as plt\n",
    "import numpy as np\n",
    "%matplotlib inline\n",
    "\n",
    "\n",
    "url = \"https://archive.ics.uci.edu/ml/machine-learning-databases/iris/iris.data\"\n",
    "\n",
    "# Assign colum names to the dataset\n",
    "# names = ['sepal-length', 'sepal-width', 'petal-length', 'petal-width', 'Class']\n",
    "\n",
    "feature_names = ['sepal-length', 'sepal-width', 'petal-length', 'petal-width', 'Class']\n",
    "df = pd.read_csv(url, names=feature_names)"
   ]
  },
  {
   "cell_type": "code",
   "execution_count": 19,
   "metadata": {},
   "outputs": [],
   "source": [
    "iris_names = ('Iris-setosa', 'Iris-versicolor', 'Iris-virginica')\n",
    "df_group = df.groupby('Class')['Class']\n",
    "Iris_Se_Sub_Df = df[df['Class'] == iris_names[0]]\n",
    "Iris_Ve_Sub_Df = df[df['Class'] == iris_names[1]]\n",
    "Iris_Vi_Sub_Df = df[df['Class'] == iris_names[2]]"
   ]
  },
  {
   "cell_type": "code",
   "execution_count": 20,
   "metadata": {},
   "outputs": [
    {
     "data": {
      "image/png": "[encoded data removed]",
      "text/plain": [
       "<matplotlib.figure.Figure at 0x11ef2d860>"
      ]
     },
     "metadata": {},
     "output_type": "display_data"
    }
   ],
   "source": [
    "unit_str = ' (cm)'\n",
    "options = {\n",
    "    0: {\n",
    "        'data_x': feature_names[0],\n",
    "        'data_y': feature_names[1],\n",
    "        'label_x': feature_names[0] + unit_str,\n",
    "        'label_y': feature_names[1] + unit_str,\n",
    "        'ylim_min': 1.5,\n",
    "        'ylim_max': 5.0\n",
    "    },\n",
    "    1: {\n",
    "        'data_x': feature_names[0],\n",
    "        'data_y': feature_names[2],\n",
    "        'label_x': feature_names[0] + unit_str,\n",
    "        'label_y': feature_names[2] + unit_str,\n",
    "        'ylim_min': 0.0,\n",
    "        'ylim_max': 9.0\n",
    "    },\n",
    "    2: {\n",
    "        'data_x': feature_names[0],\n",
    "        'data_y': feature_names[3],\n",
    "        'label_x': feature_names[0] + unit_str,\n",
    "        'label_y': feature_names[3] + unit_str,\n",
    "        'ylim_min': -0.5,\n",
    "        'ylim_max': 3.5\n",
    "    },\n",
    "    3: {\n",
    "        'data_x': feature_names[1],\n",
    "        'data_y': feature_names[2],\n",
    "        'label_x': feature_names[1] + unit_str,\n",
    "        'label_y': feature_names[2] + unit_str,\n",
    "        'ylim_min': 0.0,\n",
    "        'ylim_max': 9.0\n",
    "    },\n",
    "    4: {\n",
    "        'data_x': feature_names[1],\n",
    "        'data_y': feature_names[3],\n",
    "        'label_x': feature_names[1] + unit_str,\n",
    "        'label_y': feature_names[3] + unit_str,\n",
    "        'ylim_min': 0.0,\n",
    "        'ylim_max': 3.5\n",
    "    },\n",
    "    5: {\n",
    "        'data_x': feature_names[2],\n",
    "        'data_y': feature_names[3],\n",
    "        'label_x': feature_names[2] + unit_str,\n",
    "        'label_y': feature_names[3] + unit_str,\n",
    "        'ylim_min': 0.0,\n",
    "        'ylim_max': 3.5\n",
    "    }\n",
    "}\n",
    "ax = []\n",
    "fig = plt.figure(figsize=(17, 12))\n",
    "for i in range(0,6):\n",
    "    ax.append(fig.add_subplot(230 + (i+1)))\n",
    "\n",
    "for i in range(0,6):\n",
    "    se = ax[i].scatter(Iris_Se_Sub_Df[options[i]['data_x']], Iris_Se_Sub_Df[options[i]['data_y']], color='red')\n",
    "    ve = ax[i].scatter(Iris_Ve_Sub_Df[options[i]['data_x']], Iris_Ve_Sub_Df[options[i]['data_y']], color='blue')\n",
    "    vi = ax[i].scatter(Iris_Vi_Sub_Df[options[i]['data_x']], Iris_Vi_Sub_Df[options[i]['data_y']], color='green')\n",
    "    ax[i].set_xlabel(options[i]['label_x'])\n",
    "    ax[i].set_ylabel(options[i]['label_y'])\n",
    "    ax[i].set_ylim([options[i]['ylim_min'], options[i]['ylim_max']])\n",
    "    ax[i].legend((se, ve, vi), iris_names)"
   ]
  },
  {
   "cell_type": "code",
   "execution_count": null,
   "metadata": {},
   "outputs": [],
   "source": []
  },
  {
   "cell_type": "code",
   "execution_count": null,
   "metadata": {},
   "outputs": [],
   "source": []
  },
  {
   "cell_type": "code",
   "execution_count": 2,
   "metadata": {},
   "outputs": [],
   "source": [
    "url = \"https://archive.ics.uci.edu/ml/machine-learning-databases/iris/iris.data\"\n",
    "\n",
    "# Assign colum names to the dataset\n",
    "names = ['sepal-length', 'sepal-width', 'petal-length', 'petal-width', 'Class']\n",
    "\n",
    "# Read dataset to pandas dataframe\n",
    "dataset = pd.read_csv(url, names=names)"
   ]
  },
  {
   "cell_type": "code",
   "execution_count": 18,
   "metadata": {
    "scrolled": false
   },
   "outputs": [
    {
     "data": {
      "text/html": [
       "<div>\n",
       "<style scoped>\n",
       "    .dataframe tbody tr th:only-of-type {\n",
       "        vertical-align: middle;\n",
       "    }\n",
       "\n",
       "    .dataframe tbody tr th {\n",
       "        vertical-align: top;\n",
       "    }\n",
       "\n",
       "    .dataframe thead th {\n",
       "        text-align: right;\n",
       "    }\n",
       "</style>\n",
       "<table border=\"1\" class=\"dataframe\">\n",
       "  <thead>\n",
       "    <tr style=\"text-align: right;\">\n",
       "      <th></th>\n",
       "      <th>sepal-length</th>\n",
       "      <th>sepal-width</th>\n",
       "      <th>petal-length</th>\n",
       "      <th>petal-width</th>\n",
       "      <th>Class</th>\n",
       "    </tr>\n",
       "  </thead>\n",
       "  <tbody>\n",
       "    <tr>\n",
       "      <th>0</th>\n",
       "      <td>5.1</td>\n",
       "      <td>3.5</td>\n",
       "      <td>1.4</td>\n",
       "      <td>0.2</td>\n",
       "      <td>Iris-setosa</td>\n",
       "    </tr>\n",
       "    <tr>\n",
       "      <th>1</th>\n",
       "      <td>4.9</td>\n",
       "      <td>3.0</td>\n",
       "      <td>1.4</td>\n",
       "      <td>0.2</td>\n",
       "      <td>Iris-setosa</td>\n",
       "    </tr>\n",
       "    <tr>\n",
       "      <th>2</th>\n",
       "      <td>4.7</td>\n",
       "      <td>3.2</td>\n",
       "      <td>1.3</td>\n",
       "      <td>0.2</td>\n",
       "      <td>Iris-setosa</td>\n",
       "    </tr>\n",
       "    <tr>\n",
       "      <th>3</th>\n",
       "      <td>4.6</td>\n",
       "      <td>3.1</td>\n",
       "      <td>1.5</td>\n",
       "      <td>0.2</td>\n",
       "      <td>Iris-setosa</td>\n",
       "    </tr>\n",
       "    <tr>\n",
       "      <th>4</th>\n",
       "      <td>5.0</td>\n",
       "      <td>3.6</td>\n",
       "      <td>1.4</td>\n",
       "      <td>0.2</td>\n",
       "      <td>Iris-setosa</td>\n",
       "    </tr>\n",
       "  </tbody>\n",
       "</table>\n",
       "</div>"
      ],
      "text/plain": [
       "   sepal-length  sepal-width  petal-length  petal-width        Class\n",
       "0           5.1          3.5           1.4          0.2  Iris-setosa\n",
       "1           4.9          3.0           1.4          0.2  Iris-setosa\n",
       "2           4.7          3.2           1.3          0.2  Iris-setosa\n",
       "3           4.6          3.1           1.5          0.2  Iris-setosa\n",
       "4           5.0          3.6           1.4          0.2  Iris-setosa"
      ]
     },
     "execution_count": 18,
     "metadata": {},
     "output_type": "execute_result"
    }
   ],
   "source": [
    "dataset.head()"
   ]
  },
  {
   "cell_type": "code",
   "execution_count": 19,
   "metadata": {},
   "outputs": [],
   "source": [
    "X = dataset.iloc[:, :-1].values\n",
    "y = dataset.iloc[:, 4].values"
   ]
  },
  {
   "cell_type": "code",
   "execution_count": 20,
   "metadata": {},
   "outputs": [],
   "source": [
    "from sklearn.model_selection import train_test_split\n",
    "X_train, X_test, y_train, y_test = train_test_split(X, y, test_size=0.20)"
   ]
  },
  {
   "cell_type": "code",
   "execution_count": 21,
   "metadata": {},
   "outputs": [],
   "source": [
    "from sklearn.preprocessing import StandardScaler\n",
    "scaler = StandardScaler()\n",
    "scaler.fit(X_train)\n",
    "\n",
    "X_train = scaler.transform(X_train)\n",
    "X_test = scaler.transform(X_test)"
   ]
  },
  {
   "cell_type": "code",
   "execution_count": 22,
   "metadata": {},
   "outputs": [
    {
     "data": {
      "text/plain": [
       "KNeighborsClassifier(algorithm='auto', leaf_size=30, metric='minkowski',\n",
       "           metric_params=None, n_jobs=1, n_neighbors=5, p=2,\n",
       "           weights='uniform')"
      ]
     },
     "execution_count": 22,
     "metadata": {},
     "output_type": "execute_result"
    }
   ],
   "source": [
    "from sklearn.neighbors import KNeighborsClassifier\n",
    "classifier = KNeighborsClassifier(n_neighbors=5)\n",
    "classifier.fit(X_train, y_train)"
   ]
  },
  {
   "cell_type": "code",
   "execution_count": 23,
   "metadata": {},
   "outputs": [],
   "source": [
    "y_pred = classifier.predict(X_test)\n"
   ]
  },
  {
   "cell_type": "code",
   "execution_count": 24,
   "metadata": {},
   "outputs": [
    {
     "name": "stdout",
     "output_type": "stream",
     "text": [
      "[[10  0  0]\n",
      " [ 0  7  0]\n",
      " [ 0  1 12]]\n",
      "                 precision    recall  f1-score   support\n",
      "\n",
      "    Iris-setosa       1.00      1.00      1.00        10\n",
      "Iris-versicolor       0.88      1.00      0.93         7\n",
      " Iris-virginica       1.00      0.92      0.96        13\n",
      "\n",
      "    avg / total       0.97      0.97      0.97        30\n",
      "\n"
     ]
    }
   ],
   "source": [
    "from sklearn.metrics import classification_report, confusion_matrix\n",
    "print(confusion_matrix(y_test, y_pred))\n",
    "print(classification_report(y_test, y_pred))\n"
   ]
  },
  {
   "cell_type": "code",
   "execution_count": 25,
   "metadata": {},
   "outputs": [],
   "source": [
    "error = []\n",
    "\n",
    "# Calculating error for K values between 1 and 40\n",
    "for i in range(1, 40):\n",
    "    knn = KNeighborsClassifier(n_neighbors=i)\n",
    "    knn.fit(X_train, y_train)\n",
    "    pred_i = knn.predict(X_test)\n",
    "    error.append(np.mean(pred_i != y_test))"
   ]
  },
  {
   "cell_type": "code",
   "execution_count": 26,
   "metadata": {
    "scrolled": true
   },
   "outputs": [
    {
     "data": {
      "text/plain": [
       "Text(0,0.5,'Mean Error')"
      ]
     },
     "execution_count": 26,
     "metadata": {},
     "output_type": "execute_result"
    },
    {
     "data": {
      "image/png": "[encoded data removed]",
      "text/plain": [
       "<matplotlib.figure.Figure at 0x1a1c363a58>"
      ]
     },
     "metadata": {},
     "output_type": "display_data"
    }
   ],
   "source": [
    "plt.figure(figsize=(12, 6))\n",
    "plt.plot(range(1, 40), error, color='red', linestyle='dashed', marker='o',\n",
    "         markerfacecolor='blue', markersize=10)\n",
    "plt.title('Error Rate K Value')\n",
    "plt.xlabel('K Value')\n",
    "plt.ylabel('Mean Error')\n"
   ]
  },
  {
   "cell_type": "code",
   "execution_count": null,
   "metadata": {},
   "outputs": [],
   "source": []
  },
  {
   "cell_type": "code",
   "execution_count": 11,
   "metadata": {},
   "outputs": [],
   "source": []
  },
  {
   "cell_type": "code",
   "execution_count": 16,
   "metadata": {},
   "outputs": [],
   "source": []
  },
  {
   "cell_type": "code",
   "execution_count": null,
   "metadata": {},
   "outputs": [],
   "source": []
  }
 ],
 "metadata": {
  "kernelspec": {
   "display_name": "Python 3",
   "language": "python",
   "name": "python3"
  },
  "language_info": {
   "codemirror_mode": {
    "name": "ipython",
    "version": 3
   },
   "file_extension": ".py",
   "mimetype": "text/x-python",
   "name": "python",
   "nbconvert_exporter": "python",
   "pygments_lexer": "ipython3",
   "version": "3.6.4"
  }
 },
 "nbformat": 4,
 "nbformat_minor": 2
}
