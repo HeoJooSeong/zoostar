{
 "cells": [
  {
   "cell_type": "code",
   "execution_count": 59,
   "metadata": {},
   "outputs": [],
   "source": [
    "import numpy as np\n",
    "import pandas as pd\n",
    "from pandas import DataFrame\n",
    "import matplotlib.pyplot as plt\n",
    "\n"
   ]
  },
  {
   "cell_type": "code",
   "execution_count": 12,
   "metadata": {},
   "outputs": [
    {
     "name": "stdout",
     "output_type": "stream",
     "text": [
      "<class 'pandas.core.frame.DataFrame'>\n",
      "RangeIndex: 10681 entries, 0 to 10680\n",
      "Data columns (total 3 columns):\n",
      "movie_id    10681 non-null int64\n",
      "title       10681 non-null object\n",
      "genres      10681 non-null object\n",
      "dtypes: int64(1), object(2)\n",
      "memory usage: 250.4+ KB\n",
      "None\n",
      "   movie_id                               title  \\\n",
      "0         1                    Toy Story (1995)   \n",
      "1         2                      Jumanji (1995)   \n",
      "2         3             Grumpier Old Men (1995)   \n",
      "3         4            Waiting to Exhale (1995)   \n",
      "4         5  Father of the Bride Part II (1995)   \n",
      "\n",
      "                                        genres  \n",
      "0  Adventure|Animation|Children|Comedy|Fantasy  \n",
      "1                   Adventure|Children|Fantasy  \n",
      "2                               Comedy|Romance  \n",
      "3                         Comedy|Drama|Romance  \n",
      "4                                       Comedy  \n",
      "전체 영화의 갯수 :  10681\n"
     ]
    },
    {
     "name": "stderr",
     "output_type": "stream",
     "text": [
      "/anaconda3/lib/python3.6/site-packages/ipykernel_launcher.py:3: ParserWarning: Falling back to the 'python' engine because the 'c' engine does not support regex separators (separators > 1 char and different from '\\s+' are interpreted as regex); you can avoid this warning by specifying engine='python'.\n",
      "  This is separate from the ipykernel package so we can avoid doing imports until\n"
     ]
    }
   ],
   "source": [
    "name = ['movie_id','title','genres']   # 칼럼 이름\n",
    "# 파일 불러오기\n",
    "movies = pd.read_csv('movies.dat', sep='::', header=None, names=name)\n",
    "\n",
    "print(movies.info())                      # 읽어온 데이터의 정보 확인\n",
    "print(movies.head())                      # 맨 앞의 5개 데이터 보기\n",
    "print(\"전체 영화의 갯수 : \",len(movies))    # 읽어온 데이터의 갯수\n"
   ]
  },
  {
   "cell_type": "code",
   "execution_count": 18,
   "metadata": {},
   "outputs": [
    {
     "name": "stdout",
     "output_type": "stream",
     "text": [
      "전체 장르 수 :  21564\n"
     ]
    }
   ],
   "source": [
    "genres = []     # 추출된 장르를 저장할 리스트\n",
    "for genre in movies['genres'] :\n",
    "    for g in genre.split('|') :      # | 를 기준으로 여러개의 장르 구분\n",
    "        genres.append(g)             # 리스트에 추가]\n",
    "\n",
    "print('전체 장르 수 : ',len(genres))   #전체 장르 수 :  6408\n"
   ]
  },
  {
   "cell_type": "code",
   "execution_count": 19,
   "metadata": {},
   "outputs": [
    {
     "name": "stdout",
     "output_type": "stream",
     "text": [
      "유일한 장르 수 : 20\n",
      "['Adventure' 'Animation' 'Children' 'Comedy' 'Fantasy' 'Romance' 'Drama'\n",
      " 'Action' 'Crime' 'Thriller' 'Horror' 'Mystery' 'Sci-Fi' 'IMAX'\n",
      " 'Documentary' 'War' 'Musical' 'Film-Noir' 'Western' '(no genres listed)']\n"
     ]
    }
   ],
   "source": [
    "# 중복되지 않은 유일한 장르의 갯수 추출\n",
    "genres_unique = pd.unique(genres)\n",
    "print('유일한 장르 수 :',len(genres_unique))\n",
    "print(genres_unique)\n"
   ]
  },
  {
   "cell_type": "code",
   "execution_count": 38,
   "metadata": {},
   "outputs": [
    {
     "data": {
      "text/plain": [
       "numpy.ndarray"
      ]
     },
     "execution_count": 38,
     "metadata": {},
     "output_type": "execute_result"
    }
   ],
   "source": [
    "type(genres_unique)"
   ]
  },
  {
   "cell_type": "code",
   "execution_count": 39,
   "metadata": {},
   "outputs": [
    {
     "name": "stdout",
     "output_type": "stream",
     "text": [
      "[[0. 0. 0. ... 0. 0. 0.]\n",
      " [0. 0. 0. ... 0. 0. 0.]\n",
      " [0. 0. 0. ... 0. 0. 0.]\n",
      " ...\n",
      " [0. 0. 0. ... 0. 0. 0.]\n",
      " [0. 0. 0. ... 0. 0. 0.]\n",
      " [0. 0. 0. ... 0. 0. 0.]]\n"
     ]
    }
   ],
   "source": [
    "zero = np.zeros(((len(movies),len(genres_unique))))\n",
    "print(zero)"
   ]
  },
  {
   "cell_type": "code",
   "execution_count": 41,
   "metadata": {},
   "outputs": [],
   "source": [
    "df = DataFrame(zero, columns=genres_unique)"
   ]
  },
  {
   "cell_type": "code",
   "execution_count": 52,
   "metadata": {},
   "outputs": [],
   "source": [
    "for n,i in enumerate(movies.genres):\n",
    "    df.ix[n, i.split(\"|\")]=1"
   ]
  },
  {
   "cell_type": "code",
   "execution_count": 50,
   "metadata": {},
   "outputs": [],
   "source": [
    "df.ix[0,['Adventure', 'Animation', 'Children', 'Comedy', 'Fantasy']] = 1"
   ]
  },
  {
   "cell_type": "code",
   "execution_count": 51,
   "metadata": {},
   "outputs": [
    {
     "name": "stdout",
     "output_type": "stream",
     "text": [
      "       Adventure  Animation  Children  Comedy  Fantasy  Romance  Drama  \\\n",
      "0            1.0        1.0       1.0     1.0      1.0      0.0    0.0   \n",
      "1            0.0        0.0       0.0     0.0      0.0      0.0    0.0   \n",
      "2            0.0        0.0       0.0     0.0      0.0      0.0    0.0   \n",
      "3            0.0        0.0       0.0     0.0      0.0      0.0    0.0   \n",
      "4            0.0        0.0       0.0     0.0      0.0      0.0    0.0   \n",
      "5            0.0        0.0       0.0     0.0      0.0      0.0    0.0   \n",
      "6            0.0        0.0       0.0     0.0      0.0      0.0    0.0   \n",
      "7            0.0        0.0       0.0     0.0      0.0      0.0    0.0   \n",
      "8            0.0        0.0       0.0     0.0      0.0      0.0    0.0   \n",
      "9            0.0        0.0       0.0     0.0      0.0      0.0    0.0   \n",
      "10           0.0        0.0       0.0     0.0      0.0      0.0    0.0   \n",
      "11           0.0        0.0       0.0     0.0      0.0      0.0    0.0   \n",
      "12           0.0        0.0       0.0     0.0      0.0      0.0    0.0   \n",
      "13           0.0        0.0       0.0     0.0      0.0      0.0    0.0   \n",
      "14           0.0        0.0       0.0     0.0      0.0      0.0    0.0   \n",
      "15           0.0        0.0       0.0     0.0      0.0      0.0    0.0   \n",
      "16           0.0        0.0       0.0     0.0      0.0      0.0    0.0   \n",
      "17           0.0        0.0       0.0     0.0      0.0      0.0    0.0   \n",
      "18           0.0        0.0       0.0     0.0      0.0      0.0    0.0   \n",
      "19           0.0        0.0       0.0     0.0      0.0      0.0    0.0   \n",
      "20           0.0        0.0       0.0     0.0      0.0      0.0    0.0   \n",
      "21           0.0        0.0       0.0     0.0      0.0      0.0    0.0   \n",
      "22           0.0        0.0       0.0     0.0      0.0      0.0    0.0   \n",
      "23           0.0        0.0       0.0     0.0      0.0      0.0    0.0   \n",
      "24           0.0        0.0       0.0     0.0      0.0      0.0    0.0   \n",
      "25           0.0        0.0       0.0     0.0      0.0      0.0    0.0   \n",
      "26           0.0        0.0       0.0     0.0      0.0      0.0    0.0   \n",
      "27           0.0        0.0       0.0     0.0      0.0      0.0    0.0   \n",
      "28           0.0        0.0       0.0     0.0      0.0      0.0    0.0   \n",
      "29           0.0        0.0       0.0     0.0      0.0      0.0    0.0   \n",
      "...          ...        ...       ...     ...      ...      ...    ...   \n",
      "10651        0.0        0.0       0.0     0.0      0.0      0.0    0.0   \n",
      "10652        0.0        0.0       0.0     0.0      0.0      0.0    0.0   \n",
      "10653        0.0        0.0       0.0     0.0      0.0      0.0    0.0   \n",
      "10654        0.0        0.0       0.0     0.0      0.0      0.0    0.0   \n",
      "10655        0.0        0.0       0.0     0.0      0.0      0.0    0.0   \n",
      "10656        0.0        0.0       0.0     0.0      0.0      0.0    0.0   \n",
      "10657        0.0        0.0       0.0     0.0      0.0      0.0    0.0   \n",
      "10658        0.0        0.0       0.0     0.0      0.0      0.0    0.0   \n",
      "10659        0.0        0.0       0.0     0.0      0.0      0.0    0.0   \n",
      "10660        0.0        0.0       0.0     0.0      0.0      0.0    0.0   \n",
      "10661        0.0        0.0       0.0     0.0      0.0      0.0    0.0   \n",
      "10662        0.0        0.0       0.0     0.0      0.0      0.0    0.0   \n",
      "10663        0.0        0.0       0.0     0.0      0.0      0.0    0.0   \n",
      "10664        0.0        0.0       0.0     0.0      0.0      0.0    0.0   \n",
      "10665        0.0        0.0       0.0     0.0      0.0      0.0    0.0   \n",
      "10666        0.0        0.0       0.0     0.0      0.0      0.0    0.0   \n",
      "10667        0.0        0.0       0.0     0.0      0.0      0.0    0.0   \n",
      "10668        0.0        0.0       0.0     0.0      0.0      0.0    0.0   \n",
      "10669        0.0        0.0       0.0     0.0      0.0      0.0    0.0   \n",
      "10670        0.0        0.0       0.0     0.0      0.0      0.0    0.0   \n",
      "10671        0.0        0.0       0.0     0.0      0.0      0.0    0.0   \n",
      "10672        0.0        0.0       0.0     0.0      0.0      0.0    0.0   \n",
      "10673        0.0        0.0       0.0     0.0      0.0      0.0    0.0   \n",
      "10674        0.0        0.0       0.0     0.0      0.0      0.0    0.0   \n",
      "10675        0.0        0.0       0.0     0.0      0.0      0.0    0.0   \n",
      "10676        0.0        0.0       0.0     0.0      0.0      0.0    0.0   \n",
      "10677        0.0        0.0       0.0     0.0      0.0      0.0    0.0   \n",
      "10678        0.0        0.0       0.0     0.0      0.0      0.0    0.0   \n",
      "10679        0.0        0.0       0.0     0.0      0.0      0.0    0.0   \n",
      "10680        0.0        0.0       0.0     0.0      0.0      0.0    0.0   \n",
      "\n",
      "       Action  Crime  Thriller  Horror  Mystery  Sci-Fi  IMAX  Documentary  \\\n",
      "0         0.0    0.0       0.0     0.0      0.0     0.0   0.0          0.0   \n",
      "1         0.0    0.0       0.0     0.0      0.0     0.0   0.0          0.0   \n",
      "2         0.0    0.0       0.0     0.0      0.0     0.0   0.0          0.0   \n",
      "3         0.0    0.0       0.0     0.0      0.0     0.0   0.0          0.0   \n",
      "4         0.0    0.0       0.0     0.0      0.0     0.0   0.0          0.0   \n",
      "5         0.0    0.0       0.0     0.0      0.0     0.0   0.0          0.0   \n",
      "6         0.0    0.0       0.0     0.0      0.0     0.0   0.0          0.0   \n",
      "7         0.0    0.0       0.0     0.0      0.0     0.0   0.0          0.0   \n",
      "8         0.0    0.0       0.0     0.0      0.0     0.0   0.0          0.0   \n",
      "9         0.0    0.0       0.0     0.0      0.0     0.0   0.0          0.0   \n",
      "10        0.0    0.0       0.0     0.0      0.0     0.0   0.0          0.0   \n",
      "11        0.0    0.0       0.0     0.0      0.0     0.0   0.0          0.0   \n",
      "12        0.0    0.0       0.0     0.0      0.0     0.0   0.0          0.0   \n",
      "13        0.0    0.0       0.0     0.0      0.0     0.0   0.0          0.0   \n",
      "14        0.0    0.0       0.0     0.0      0.0     0.0   0.0          0.0   \n",
      "15        0.0    0.0       0.0     0.0      0.0     0.0   0.0          0.0   \n",
      "16        0.0    0.0       0.0     0.0      0.0     0.0   0.0          0.0   \n",
      "17        0.0    0.0       0.0     0.0      0.0     0.0   0.0          0.0   \n",
      "18        0.0    0.0       0.0     0.0      0.0     0.0   0.0          0.0   \n",
      "19        0.0    0.0       0.0     0.0      0.0     0.0   0.0          0.0   \n",
      "20        0.0    0.0       0.0     0.0      0.0     0.0   0.0          0.0   \n",
      "21        0.0    0.0       0.0     0.0      0.0     0.0   0.0          0.0   \n",
      "22        0.0    0.0       0.0     0.0      0.0     0.0   0.0          0.0   \n",
      "23        0.0    0.0       0.0     0.0      0.0     0.0   0.0          0.0   \n",
      "24        0.0    0.0       0.0     0.0      0.0     0.0   0.0          0.0   \n",
      "25        0.0    0.0       0.0     0.0      0.0     0.0   0.0          0.0   \n",
      "26        0.0    0.0       0.0     0.0      0.0     0.0   0.0          0.0   \n",
      "27        0.0    0.0       0.0     0.0      0.0     0.0   0.0          0.0   \n",
      "28        0.0    0.0       0.0     0.0      0.0     0.0   0.0          0.0   \n",
      "29        0.0    0.0       0.0     0.0      0.0     0.0   0.0          0.0   \n",
      "...       ...    ...       ...     ...      ...     ...   ...          ...   \n",
      "10651     0.0    0.0       0.0     0.0      0.0     0.0   0.0          0.0   \n",
      "10652     0.0    0.0       0.0     0.0      0.0     0.0   0.0          0.0   \n",
      "10653     0.0    0.0       0.0     0.0      0.0     0.0   0.0          0.0   \n",
      "10654     0.0    0.0       0.0     0.0      0.0     0.0   0.0          0.0   \n",
      "10655     0.0    0.0       0.0     0.0      0.0     0.0   0.0          0.0   \n",
      "10656     0.0    0.0       0.0     0.0      0.0     0.0   0.0          0.0   \n",
      "10657     0.0    0.0       0.0     0.0      0.0     0.0   0.0          0.0   \n",
      "10658     0.0    0.0       0.0     0.0      0.0     0.0   0.0          0.0   \n",
      "10659     0.0    0.0       0.0     0.0      0.0     0.0   0.0          0.0   \n",
      "10660     0.0    0.0       0.0     0.0      0.0     0.0   0.0          0.0   \n",
      "10661     0.0    0.0       0.0     0.0      0.0     0.0   0.0          0.0   \n",
      "10662     0.0    0.0       0.0     0.0      0.0     0.0   0.0          0.0   \n",
      "10663     0.0    0.0       0.0     0.0      0.0     0.0   0.0          0.0   \n",
      "10664     0.0    0.0       0.0     0.0      0.0     0.0   0.0          0.0   \n",
      "10665     0.0    0.0       0.0     0.0      0.0     0.0   0.0          0.0   \n",
      "10666     0.0    0.0       0.0     0.0      0.0     0.0   0.0          0.0   \n",
      "10667     0.0    0.0       0.0     0.0      0.0     0.0   0.0          0.0   \n",
      "10668     0.0    0.0       0.0     0.0      0.0     0.0   0.0          0.0   \n",
      "10669     0.0    0.0       0.0     0.0      0.0     0.0   0.0          0.0   \n",
      "10670     0.0    0.0       0.0     0.0      0.0     0.0   0.0          0.0   \n",
      "10671     0.0    0.0       0.0     0.0      0.0     0.0   0.0          0.0   \n",
      "10672     0.0    0.0       0.0     0.0      0.0     0.0   0.0          0.0   \n",
      "10673     0.0    0.0       0.0     0.0      0.0     0.0   0.0          0.0   \n",
      "10674     0.0    0.0       0.0     0.0      0.0     0.0   0.0          0.0   \n",
      "10675     0.0    0.0       0.0     0.0      0.0     0.0   0.0          0.0   \n",
      "10676     0.0    0.0       0.0     0.0      0.0     0.0   0.0          0.0   \n",
      "10677     0.0    0.0       0.0     0.0      0.0     0.0   0.0          0.0   \n",
      "10678     0.0    0.0       0.0     0.0      0.0     0.0   0.0          0.0   \n",
      "10679     0.0    0.0       0.0     0.0      0.0     0.0   0.0          0.0   \n",
      "10680     0.0    0.0       0.0     0.0      0.0     0.0   0.0          0.0   \n",
      "\n",
      "       War  Musical  Film-Noir  Western  (no genres listed)  \n",
      "0      0.0      0.0        0.0      0.0                 0.0  \n",
      "1      0.0      0.0        0.0      0.0                 0.0  \n",
      "2      0.0      0.0        0.0      0.0                 0.0  \n",
      "3      0.0      0.0        0.0      0.0                 0.0  \n",
      "4      0.0      0.0        0.0      0.0                 0.0  \n",
      "5      0.0      0.0        0.0      0.0                 0.0  \n",
      "6      0.0      0.0        0.0      0.0                 0.0  \n",
      "7      0.0      0.0        0.0      0.0                 0.0  \n",
      "8      0.0      0.0        0.0      0.0                 0.0  \n",
      "9      0.0      0.0        0.0      0.0                 0.0  \n",
      "10     0.0      0.0        0.0      0.0                 0.0  \n",
      "11     0.0      0.0        0.0      0.0                 0.0  \n",
      "12     0.0      0.0        0.0      0.0                 0.0  \n",
      "13     0.0      0.0        0.0      0.0                 0.0  \n",
      "14     0.0      0.0        0.0      0.0                 0.0  \n",
      "15     0.0      0.0        0.0      0.0                 0.0  \n",
      "16     0.0      0.0        0.0      0.0                 0.0  \n",
      "17     0.0      0.0        0.0      0.0                 0.0  \n",
      "18     0.0      0.0        0.0      0.0                 0.0  \n",
      "19     0.0      0.0        0.0      0.0                 0.0  \n",
      "20     0.0      0.0        0.0      0.0                 0.0  \n",
      "21     0.0      0.0        0.0      0.0                 0.0  \n",
      "22     0.0      0.0        0.0      0.0                 0.0  \n",
      "23     0.0      0.0        0.0      0.0                 0.0  \n",
      "24     0.0      0.0        0.0      0.0                 0.0  \n",
      "25     0.0      0.0        0.0      0.0                 0.0  \n",
      "26     0.0      0.0        0.0      0.0                 0.0  \n",
      "27     0.0      0.0        0.0      0.0                 0.0  \n",
      "28     0.0      0.0        0.0      0.0                 0.0  \n",
      "29     0.0      0.0        0.0      0.0                 0.0  \n",
      "...    ...      ...        ...      ...                 ...  \n",
      "10651  0.0      0.0        0.0      0.0                 0.0  \n",
      "10652  0.0      0.0        0.0      0.0                 0.0  \n",
      "10653  0.0      0.0        0.0      0.0                 0.0  \n",
      "10654  0.0      0.0        0.0      0.0                 0.0  \n",
      "10655  0.0      0.0        0.0      0.0                 0.0  \n",
      "10656  0.0      0.0        0.0      0.0                 0.0  \n",
      "10657  0.0      0.0        0.0      0.0                 0.0  \n",
      "10658  0.0      0.0        0.0      0.0                 0.0  \n",
      "10659  0.0      0.0        0.0      0.0                 0.0  \n",
      "10660  0.0      0.0        0.0      0.0                 0.0  \n",
      "10661  0.0      0.0        0.0      0.0                 0.0  \n",
      "10662  0.0      0.0        0.0      0.0                 0.0  \n",
      "10663  0.0      0.0        0.0      0.0                 0.0  \n",
      "10664  0.0      0.0        0.0      0.0                 0.0  \n",
      "10665  0.0      0.0        0.0      0.0                 0.0  \n",
      "10666  0.0      0.0        0.0      0.0                 0.0  \n",
      "10667  0.0      0.0        0.0      0.0                 0.0  \n",
      "10668  0.0      0.0        0.0      0.0                 0.0  \n",
      "10669  0.0      0.0        0.0      0.0                 0.0  \n",
      "10670  0.0      0.0        0.0      0.0                 0.0  \n",
      "10671  0.0      0.0        0.0      0.0                 0.0  \n",
      "10672  0.0      0.0        0.0      0.0                 0.0  \n",
      "10673  0.0      0.0        0.0      0.0                 0.0  \n",
      "10674  0.0      0.0        0.0      0.0                 0.0  \n",
      "10675  0.0      0.0        0.0      0.0                 0.0  \n",
      "10676  0.0      0.0        0.0      0.0                 0.0  \n",
      "10677  0.0      0.0        0.0      0.0                 0.0  \n",
      "10678  0.0      0.0        0.0      0.0                 0.0  \n",
      "10679  0.0      0.0        0.0      0.0                 0.0  \n",
      "10680  0.0      0.0        0.0      0.0                 0.0  \n",
      "\n",
      "[10681 rows x 20 columns]\n"
     ]
    }
   ],
   "source": [
    "print(df)"
   ]
  },
  {
   "cell_type": "code",
   "execution_count": 53,
   "metadata": {},
   "outputs": [
    {
     "name": "stdout",
     "output_type": "stream",
     "text": [
      "                    0      1      2      3      4      5      6      7      \\\n",
      "Adventure             1.0    1.0    0.0    0.0    0.0    0.0    0.0    1.0   \n",
      "Animation             1.0    0.0    0.0    0.0    0.0    0.0    0.0    0.0   \n",
      "Children              1.0    1.0    0.0    0.0    0.0    0.0    0.0    1.0   \n",
      "Comedy                1.0    0.0    1.0    1.0    1.0    0.0    1.0    0.0   \n",
      "Fantasy               1.0    1.0    0.0    0.0    0.0    0.0    0.0    0.0   \n",
      "Romance               0.0    0.0    1.0    1.0    0.0    0.0    1.0    0.0   \n",
      "Drama                 0.0    0.0    0.0    1.0    0.0    0.0    0.0    0.0   \n",
      "Action                0.0    0.0    0.0    0.0    0.0    1.0    0.0    0.0   \n",
      "Crime                 0.0    0.0    0.0    0.0    0.0    1.0    0.0    0.0   \n",
      "Thriller              0.0    0.0    0.0    0.0    0.0    1.0    0.0    0.0   \n",
      "Horror                0.0    0.0    0.0    0.0    0.0    0.0    0.0    0.0   \n",
      "Mystery               0.0    0.0    0.0    0.0    0.0    0.0    0.0    0.0   \n",
      "Sci-Fi                0.0    0.0    0.0    0.0    0.0    0.0    0.0    0.0   \n",
      "IMAX                  0.0    0.0    0.0    0.0    0.0    0.0    0.0    0.0   \n",
      "Documentary           0.0    0.0    0.0    0.0    0.0    0.0    0.0    0.0   \n",
      "War                   0.0    0.0    0.0    0.0    0.0    0.0    0.0    0.0   \n",
      "Musical               0.0    0.0    0.0    0.0    0.0    0.0    0.0    0.0   \n",
      "Film-Noir             0.0    0.0    0.0    0.0    0.0    0.0    0.0    0.0   \n",
      "Western               0.0    0.0    0.0    0.0    0.0    0.0    0.0    0.0   \n",
      "(no genres listed)    0.0    0.0    0.0    0.0    0.0    0.0    0.0    0.0   \n",
      "\n",
      "                    8      9      ...    10671  10672  10673  10674  10675  \\\n",
      "Adventure             0.0    1.0  ...      0.0    0.0    0.0    0.0    0.0   \n",
      "Animation             0.0    0.0  ...      0.0    0.0    0.0    0.0    0.0   \n",
      "Children              0.0    0.0  ...      0.0    0.0    0.0    0.0    0.0   \n",
      "Comedy                0.0    0.0  ...      0.0    1.0    1.0    1.0    0.0   \n",
      "Fantasy               0.0    0.0  ...      0.0    0.0    0.0    0.0    0.0   \n",
      "Romance               0.0    0.0  ...      0.0    0.0    0.0    0.0    0.0   \n",
      "Drama                 0.0    0.0  ...      0.0    1.0    0.0    0.0    1.0   \n",
      "Action                1.0    1.0  ...      0.0    0.0    0.0    0.0    0.0   \n",
      "Crime                 0.0    0.0  ...      0.0    0.0    0.0    0.0    0.0   \n",
      "Thriller              0.0    1.0  ...      1.0    0.0    0.0    0.0    0.0   \n",
      "Horror                0.0    0.0  ...      0.0    0.0    0.0    0.0    0.0   \n",
      "Mystery               0.0    0.0  ...      1.0    0.0    0.0    1.0    0.0   \n",
      "Sci-Fi                0.0    0.0  ...      0.0    0.0    0.0    0.0    0.0   \n",
      "IMAX                  0.0    0.0  ...      0.0    0.0    0.0    0.0    0.0   \n",
      "Documentary           0.0    0.0  ...      0.0    0.0    0.0    0.0    0.0   \n",
      "War                   0.0    0.0  ...      0.0    0.0    0.0    0.0    0.0   \n",
      "Musical               0.0    0.0  ...      0.0    0.0    1.0    0.0    0.0   \n",
      "Film-Noir             0.0    0.0  ...      0.0    0.0    0.0    0.0    0.0   \n",
      "Western               0.0    0.0  ...      0.0    0.0    0.0    0.0    0.0   \n",
      "(no genres listed)    0.0    0.0  ...      0.0    0.0    0.0    0.0    0.0   \n",
      "\n",
      "                    10676  10677  10678  10679  10680  \n",
      "Adventure             1.0    0.0    0.0    0.0    0.0  \n",
      "Animation             0.0    0.0    0.0    0.0    0.0  \n",
      "Children              1.0    0.0    0.0    0.0    0.0  \n",
      "Comedy                1.0    0.0    1.0    0.0    1.0  \n",
      "Fantasy               0.0    0.0    0.0    0.0    0.0  \n",
      "Romance               0.0    1.0    0.0    1.0    0.0  \n",
      "Drama                 0.0    1.0    1.0    1.0    0.0  \n",
      "Action                0.0    0.0    0.0    0.0    0.0  \n",
      "Crime                 0.0    1.0    0.0    0.0    0.0  \n",
      "Thriller              0.0    0.0    0.0    0.0    0.0  \n",
      "Horror                0.0    0.0    0.0    0.0    0.0  \n",
      "Mystery               0.0    0.0    0.0    0.0    0.0  \n",
      "Sci-Fi                0.0    0.0    0.0    0.0    0.0  \n",
      "IMAX                  0.0    0.0    0.0    0.0    0.0  \n",
      "Documentary           0.0    0.0    0.0    0.0    0.0  \n",
      "War                   0.0    0.0    0.0    0.0    0.0  \n",
      "Musical               0.0    0.0    0.0    0.0    0.0  \n",
      "Film-Noir             0.0    0.0    0.0    0.0    0.0  \n",
      "Western               0.0    0.0    0.0    0.0    0.0  \n",
      "(no genres listed)    0.0    0.0    0.0    0.0    0.0  \n",
      "\n",
      "[20 rows x 10681 columns]\n"
     ]
    }
   ],
   "source": [
    "arr = df.T\n",
    "print(arr)"
   ]
  },
  {
   "cell_type": "code",
   "execution_count": 56,
   "metadata": {},
   "outputs": [
    {
     "name": "stdout",
     "output_type": "stream",
     "text": [
      "word_counter\n",
      "Adventure             1025.0\n",
      "Animation              286.0\n",
      "Children               528.0\n",
      "Comedy                3703.0\n",
      "Fantasy                543.0\n",
      "Romance               1685.0\n",
      "Drama                 5339.0\n",
      "Action                1473.0\n",
      "Crime                 1118.0\n",
      "Thriller              1706.0\n",
      "Horror                1013.0\n",
      "Mystery                509.0\n",
      "Sci-Fi                 754.0\n",
      "IMAX                    29.0\n",
      "Documentary            482.0\n",
      "War                    511.0\n",
      "Musical                436.0\n",
      "Film-Noir              148.0\n",
      "Western                275.0\n",
      "(no genres listed)       1.0\n",
      "dtype: float64\n"
     ]
    }
   ],
   "source": [
    "word_counter = arr.sum(axis=1)  # 행 단위 합계\n",
    "print(\"word_counter\")\n",
    "print(word_counter)"
   ]
  },
  {
   "cell_type": "code",
   "execution_count": 60,
   "metadata": {},
   "outputs": [
    {
     "data": {
      "image/png": "[encoded data removed]",
      "text/plain": [
       "<matplotlib.figure.Figure at 0x11fc9f438>"
      ]
     },
     "metadata": {},
     "output_type": "display_data"
    }
   ],
   "source": [
    "word_counter.plot(kind='barh',title='movie word counter')\n",
    "\n",
    "word_counter.sort_values().plot(kind='barh',title='movie word counter')\n",
    "plt.show()"
   ]
  },
  {
   "cell_type": "code",
   "execution_count": null,
   "metadata": {},
   "outputs": [],
   "source": []
  }
 ],
 "metadata": {
  "kernelspec": {
   "display_name": "Python 3",
   "language": "python",
   "name": "python3"
  },
  "language_info": {
   "codemirror_mode": {
    "name": "ipython",
    "version": 3
   },
   "file_extension": ".py",
   "mimetype": "text/x-python",
   "name": "python",
   "nbconvert_exporter": "python",
   "pygments_lexer": "ipython3",
   "version": "3.6.4"
  }
 },
 "nbformat": 4,
 "nbformat_minor": 2
}
